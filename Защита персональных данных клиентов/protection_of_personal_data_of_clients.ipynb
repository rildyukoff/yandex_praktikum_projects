{
 "cells": [
  {
   "cell_type": "markdown",
   "metadata": {},
   "source": [
    "# Защита персональных данных клиентов"
   ]
  },
  {
   "cell_type": "markdown",
   "metadata": {},
   "source": [
    "Вам нужно защитить данные клиентов страховой компании «Хоть потоп». Разработайте такой метод преобразования данных, чтобы по ним было сложно восстановить персональную информацию. Обоснуйте корректность его работы.\n",
    "\n",
    "Нужно защитить данные, чтобы при преобразовании качество моделей машинного обучения не ухудшилось. Подбирать наилучшую модель не требуется."
   ]
  },
  {
   "cell_type": "markdown",
   "metadata": {},
   "source": [
    "## Загрузка данных"
   ]
  },
  {
   "cell_type": "code",
   "execution_count": 1,
   "metadata": {},
   "outputs": [
    {
     "name": "stdout",
     "output_type": "stream",
     "text": [
      "Collecting phik\n",
      "  Downloading phik-0.12.3-cp39-cp39-manylinux_2_17_x86_64.manylinux2014_x86_64.whl (679 kB)\n",
      "\u001b[K     |████████████████████████████████| 679 kB 1.7 MB/s eta 0:00:01\n",
      "\u001b[?25hRequirement already satisfied: joblib>=0.14.1 in /opt/conda/lib/python3.9/site-packages (from phik) (1.1.0)\n",
      "Requirement already satisfied: scipy>=1.5.2 in /opt/conda/lib/python3.9/site-packages (from phik) (1.9.1)\n",
      "Requirement already satisfied: numpy>=1.18.0 in /opt/conda/lib/python3.9/site-packages (from phik) (1.21.1)\n",
      "Requirement already satisfied: pandas>=0.25.1 in /opt/conda/lib/python3.9/site-packages (from phik) (1.2.4)\n",
      "Requirement already satisfied: matplotlib>=2.2.3 in /opt/conda/lib/python3.9/site-packages (from phik) (3.3.4)\n",
      "Requirement already satisfied: kiwisolver>=1.0.1 in /opt/conda/lib/python3.9/site-packages (from matplotlib>=2.2.3->phik) (1.4.4)\n",
      "Requirement already satisfied: python-dateutil>=2.1 in /opt/conda/lib/python3.9/site-packages (from matplotlib>=2.2.3->phik) (2.8.1)\n",
      "Requirement already satisfied: pillow>=6.2.0 in /opt/conda/lib/python3.9/site-packages (from matplotlib>=2.2.3->phik) (8.4.0)\n",
      "Requirement already satisfied: cycler>=0.10 in /opt/conda/lib/python3.9/site-packages (from matplotlib>=2.2.3->phik) (0.11.0)\n",
      "Requirement already satisfied: pyparsing!=2.0.4,!=2.1.2,!=2.1.6,>=2.0.3 in /opt/conda/lib/python3.9/site-packages (from matplotlib>=2.2.3->phik) (2.4.7)\n",
      "Requirement already satisfied: pytz>=2017.3 in /opt/conda/lib/python3.9/site-packages (from pandas>=0.25.1->phik) (2021.1)\n",
      "Requirement already satisfied: six>=1.5 in /opt/conda/lib/python3.9/site-packages (from python-dateutil>=2.1->matplotlib>=2.2.3->phik) (1.16.0)\n",
      "Installing collected packages: phik\n",
      "Successfully installed phik-0.12.3\n",
      "Note: you may need to restart the kernel to use updated packages.\n"
     ]
    }
   ],
   "source": [
    "pip install phik"
   ]
  },
  {
   "cell_type": "code",
   "execution_count": 2,
   "metadata": {},
   "outputs": [],
   "source": [
    "import pandas as pd\n",
    "import numpy as np\n",
    "import matplotlib.pyplot as plt\n",
    "import seaborn as sns\n",
    "from sklearn.model_selection import train_test_split\n",
    "from sklearn.preprocessing import StandardScaler\n",
    "from sklearn.linear_model import LinearRegression\n",
    "from sklearn.metrics import mean_squared_error, r2_score\n",
    "import phik"
   ]
  },
  {
   "cell_type": "code",
   "execution_count": 3,
   "metadata": {},
   "outputs": [],
   "source": [
    "data = pd.read_csv('/datasets/insurance.csv')"
   ]
  },
  {
   "cell_type": "code",
   "execution_count": 4,
   "metadata": {},
   "outputs": [
    {
     "data": {
      "text/html": [
       "<div>\n",
       "<style scoped>\n",
       "    .dataframe tbody tr th:only-of-type {\n",
       "        vertical-align: middle;\n",
       "    }\n",
       "\n",
       "    .dataframe tbody tr th {\n",
       "        vertical-align: top;\n",
       "    }\n",
       "\n",
       "    .dataframe thead th {\n",
       "        text-align: right;\n",
       "    }\n",
       "</style>\n",
       "<table border=\"1\" class=\"dataframe\">\n",
       "  <thead>\n",
       "    <tr style=\"text-align: right;\">\n",
       "      <th></th>\n",
       "      <th>Пол</th>\n",
       "      <th>Возраст</th>\n",
       "      <th>Зарплата</th>\n",
       "      <th>Члены семьи</th>\n",
       "      <th>Страховые выплаты</th>\n",
       "    </tr>\n",
       "  </thead>\n",
       "  <tbody>\n",
       "    <tr>\n",
       "      <th>0</th>\n",
       "      <td>1</td>\n",
       "      <td>41.0</td>\n",
       "      <td>49600.0</td>\n",
       "      <td>1</td>\n",
       "      <td>0</td>\n",
       "    </tr>\n",
       "    <tr>\n",
       "      <th>1</th>\n",
       "      <td>0</td>\n",
       "      <td>46.0</td>\n",
       "      <td>38000.0</td>\n",
       "      <td>1</td>\n",
       "      <td>1</td>\n",
       "    </tr>\n",
       "    <tr>\n",
       "      <th>2</th>\n",
       "      <td>0</td>\n",
       "      <td>29.0</td>\n",
       "      <td>21000.0</td>\n",
       "      <td>0</td>\n",
       "      <td>0</td>\n",
       "    </tr>\n",
       "    <tr>\n",
       "      <th>3</th>\n",
       "      <td>0</td>\n",
       "      <td>21.0</td>\n",
       "      <td>41700.0</td>\n",
       "      <td>2</td>\n",
       "      <td>0</td>\n",
       "    </tr>\n",
       "    <tr>\n",
       "      <th>4</th>\n",
       "      <td>1</td>\n",
       "      <td>28.0</td>\n",
       "      <td>26100.0</td>\n",
       "      <td>0</td>\n",
       "      <td>0</td>\n",
       "    </tr>\n",
       "  </tbody>\n",
       "</table>\n",
       "</div>"
      ],
      "text/plain": [
       "   Пол  Возраст  Зарплата  Члены семьи  Страховые выплаты\n",
       "0    1     41.0   49600.0            1                  0\n",
       "1    0     46.0   38000.0            1                  1\n",
       "2    0     29.0   21000.0            0                  0\n",
       "3    0     21.0   41700.0            2                  0\n",
       "4    1     28.0   26100.0            0                  0"
      ]
     },
     "execution_count": 4,
     "metadata": {},
     "output_type": "execute_result"
    }
   ],
   "source": [
    "data.head()"
   ]
  },
  {
   "cell_type": "code",
   "execution_count": 5,
   "metadata": {},
   "outputs": [
    {
     "name": "stdout",
     "output_type": "stream",
     "text": [
      "<class 'pandas.core.frame.DataFrame'>\n",
      "RangeIndex: 5000 entries, 0 to 4999\n",
      "Data columns (total 5 columns):\n",
      " #   Column             Non-Null Count  Dtype  \n",
      "---  ------             --------------  -----  \n",
      " 0   Пол                5000 non-null   int64  \n",
      " 1   Возраст            5000 non-null   float64\n",
      " 2   Зарплата           5000 non-null   float64\n",
      " 3   Члены семьи        5000 non-null   int64  \n",
      " 4   Страховые выплаты  5000 non-null   int64  \n",
      "dtypes: float64(2), int64(3)\n",
      "memory usage: 195.4 KB\n"
     ]
    }
   ],
   "source": [
    "data.info()"
   ]
  },
  {
   "cell_type": "code",
   "execution_count": 6,
   "metadata": {},
   "outputs": [
    {
     "data": {
      "text/plain": [
       "Пол                  0\n",
       "Возраст              0\n",
       "Зарплата             0\n",
       "Члены семьи          0\n",
       "Страховые выплаты    0\n",
       "dtype: int64"
      ]
     },
     "execution_count": 6,
     "metadata": {},
     "output_type": "execute_result"
    }
   ],
   "source": [
    "data.isna().sum()"
   ]
  },
  {
   "cell_type": "code",
   "execution_count": 7,
   "metadata": {},
   "outputs": [
    {
     "data": {
      "text/html": [
       "<div>\n",
       "<style scoped>\n",
       "    .dataframe tbody tr th:only-of-type {\n",
       "        vertical-align: middle;\n",
       "    }\n",
       "\n",
       "    .dataframe tbody tr th {\n",
       "        vertical-align: top;\n",
       "    }\n",
       "\n",
       "    .dataframe thead th {\n",
       "        text-align: right;\n",
       "    }\n",
       "</style>\n",
       "<table border=\"1\" class=\"dataframe\">\n",
       "  <thead>\n",
       "    <tr style=\"text-align: right;\">\n",
       "      <th></th>\n",
       "      <th>Пол</th>\n",
       "      <th>Возраст</th>\n",
       "      <th>Зарплата</th>\n",
       "      <th>Члены семьи</th>\n",
       "      <th>Страховые выплаты</th>\n",
       "    </tr>\n",
       "  </thead>\n",
       "  <tbody>\n",
       "    <tr>\n",
       "      <th>281</th>\n",
       "      <td>1</td>\n",
       "      <td>39.0</td>\n",
       "      <td>48100.0</td>\n",
       "      <td>1</td>\n",
       "      <td>0</td>\n",
       "    </tr>\n",
       "    <tr>\n",
       "      <th>488</th>\n",
       "      <td>1</td>\n",
       "      <td>24.0</td>\n",
       "      <td>32900.0</td>\n",
       "      <td>1</td>\n",
       "      <td>0</td>\n",
       "    </tr>\n",
       "    <tr>\n",
       "      <th>513</th>\n",
       "      <td>0</td>\n",
       "      <td>31.0</td>\n",
       "      <td>37400.0</td>\n",
       "      <td>2</td>\n",
       "      <td>0</td>\n",
       "    </tr>\n",
       "    <tr>\n",
       "      <th>718</th>\n",
       "      <td>1</td>\n",
       "      <td>22.0</td>\n",
       "      <td>32600.0</td>\n",
       "      <td>1</td>\n",
       "      <td>0</td>\n",
       "    </tr>\n",
       "    <tr>\n",
       "      <th>785</th>\n",
       "      <td>0</td>\n",
       "      <td>20.0</td>\n",
       "      <td>35800.0</td>\n",
       "      <td>0</td>\n",
       "      <td>0</td>\n",
       "    </tr>\n",
       "    <tr>\n",
       "      <th>...</th>\n",
       "      <td>...</td>\n",
       "      <td>...</td>\n",
       "      <td>...</td>\n",
       "      <td>...</td>\n",
       "      <td>...</td>\n",
       "    </tr>\n",
       "    <tr>\n",
       "      <th>4793</th>\n",
       "      <td>1</td>\n",
       "      <td>24.0</td>\n",
       "      <td>37800.0</td>\n",
       "      <td>0</td>\n",
       "      <td>0</td>\n",
       "    </tr>\n",
       "    <tr>\n",
       "      <th>4902</th>\n",
       "      <td>1</td>\n",
       "      <td>35.0</td>\n",
       "      <td>38700.0</td>\n",
       "      <td>1</td>\n",
       "      <td>0</td>\n",
       "    </tr>\n",
       "    <tr>\n",
       "      <th>4935</th>\n",
       "      <td>1</td>\n",
       "      <td>19.0</td>\n",
       "      <td>32700.0</td>\n",
       "      <td>0</td>\n",
       "      <td>0</td>\n",
       "    </tr>\n",
       "    <tr>\n",
       "      <th>4945</th>\n",
       "      <td>1</td>\n",
       "      <td>21.0</td>\n",
       "      <td>45800.0</td>\n",
       "      <td>0</td>\n",
       "      <td>0</td>\n",
       "    </tr>\n",
       "    <tr>\n",
       "      <th>4965</th>\n",
       "      <td>0</td>\n",
       "      <td>22.0</td>\n",
       "      <td>40100.0</td>\n",
       "      <td>1</td>\n",
       "      <td>0</td>\n",
       "    </tr>\n",
       "  </tbody>\n",
       "</table>\n",
       "<p>153 rows × 5 columns</p>\n",
       "</div>"
      ],
      "text/plain": [
       "      Пол  Возраст  Зарплата  Члены семьи  Страховые выплаты\n",
       "281     1     39.0   48100.0            1                  0\n",
       "488     1     24.0   32900.0            1                  0\n",
       "513     0     31.0   37400.0            2                  0\n",
       "718     1     22.0   32600.0            1                  0\n",
       "785     0     20.0   35800.0            0                  0\n",
       "...   ...      ...       ...          ...                ...\n",
       "4793    1     24.0   37800.0            0                  0\n",
       "4902    1     35.0   38700.0            1                  0\n",
       "4935    1     19.0   32700.0            0                  0\n",
       "4945    1     21.0   45800.0            0                  0\n",
       "4965    0     22.0   40100.0            1                  0\n",
       "\n",
       "[153 rows x 5 columns]"
      ]
     },
     "execution_count": 7,
     "metadata": {},
     "output_type": "execute_result"
    }
   ],
   "source": [
    "data[data.duplicated()]"
   ]
  },
  {
   "cell_type": "code",
   "execution_count": 8,
   "metadata": {},
   "outputs": [],
   "source": [
    "data.drop_duplicates(inplace=True)"
   ]
  },
  {
   "cell_type": "code",
   "execution_count": 9,
   "metadata": {},
   "outputs": [],
   "source": [
    "def distribution(column):\n",
    "    plt.figure(figsize=(10,5))\n",
    "    plt.grid()\n",
    "    plt.title(column)\n",
    "    plt.ylabel('Количество')\n",
    "    plt.hist(data[column])\n",
    "    plt.show()"
   ]
  },
  {
   "cell_type": "code",
   "execution_count": 10,
   "metadata": {
    "scrolled": false
   },
   "outputs": [
    {
     "data": {
      "image/png": "[encoded data removed]",
      "text/plain": [
       "<Figure size 720x360 with 1 Axes>"
      ]
     },
     "metadata": {
      "needs_background": "light"
     },
     "output_type": "display_data"
    }
   ],
   "source": [
    "distribution('Пол')"
   ]
  },
  {
   "cell_type": "code",
   "execution_count": 11,
   "metadata": {},
   "outputs": [
    {
     "data": {
      "image/png": "[encoded data removed]",
      "text/plain": [
       "<Figure size 720x360 with 1 Axes>"
      ]
     },
     "metadata": {
      "needs_background": "light"
     },
     "output_type": "display_data"
    }
   ],
   "source": [
    "distribution('Возраст')"
   ]
  },
  {
   "cell_type": "code",
   "execution_count": 12,
   "metadata": {},
   "outputs": [
    {
     "data": {
      "image/png": "[encoded data removed]",
      "text/plain": [
       "<Figure size 720x360 with 1 Axes>"
      ]
     },
     "metadata": {
      "needs_background": "light"
     },
     "output_type": "display_data"
    }
   ],
   "source": [
    "distribution('Зарплата') #Данные распределены нормально"
   ]
  },
  {
   "cell_type": "code",
   "execution_count": 13,
   "metadata": {},
   "outputs": [
    {
     "data": {
      "image/png": "[encoded data removed]",
      "text/plain": [
       "<Figure size 720x360 with 1 Axes>"
      ]
     },
     "metadata": {
      "needs_background": "light"
     },
     "output_type": "display_data"
    }
   ],
   "source": [
    "distribution('Члены семьи')"
   ]
  },
  {
   "cell_type": "code",
   "execution_count": 14,
   "metadata": {},
   "outputs": [
    {
     "data": {
      "image/png": "[encoded data removed]",
      "text/plain": [
       "<Figure size 720x360 with 1 Axes>"
      ]
     },
     "metadata": {
      "needs_background": "light"
     },
     "output_type": "display_data"
    }
   ],
   "source": [
    "distribution('Страховые выплаты')"
   ]
  },
  {
   "cell_type": "code",
   "execution_count": 15,
   "metadata": {},
   "outputs": [
    {
     "data": {
      "text/html": [
       "<div>\n",
       "<style scoped>\n",
       "    .dataframe tbody tr th:only-of-type {\n",
       "        vertical-align: middle;\n",
       "    }\n",
       "\n",
       "    .dataframe tbody tr th {\n",
       "        vertical-align: top;\n",
       "    }\n",
       "\n",
       "    .dataframe thead th {\n",
       "        text-align: right;\n",
       "    }\n",
       "</style>\n",
       "<table border=\"1\" class=\"dataframe\">\n",
       "  <thead>\n",
       "    <tr style=\"text-align: right;\">\n",
       "      <th></th>\n",
       "      <th>Пол</th>\n",
       "      <th>Возраст</th>\n",
       "      <th>Зарплата</th>\n",
       "      <th>Члены семьи</th>\n",
       "      <th>Страховые выплаты</th>\n",
       "    </tr>\n",
       "  </thead>\n",
       "  <tbody>\n",
       "    <tr>\n",
       "      <th>count</th>\n",
       "      <td>4847.000000</td>\n",
       "      <td>4847.000000</td>\n",
       "      <td>4847.000000</td>\n",
       "      <td>4847.000000</td>\n",
       "      <td>4847.000000</td>\n",
       "    </tr>\n",
       "    <tr>\n",
       "      <th>mean</th>\n",
       "      <td>0.498453</td>\n",
       "      <td>31.023932</td>\n",
       "      <td>39895.811842</td>\n",
       "      <td>1.203425</td>\n",
       "      <td>0.152259</td>\n",
       "    </tr>\n",
       "    <tr>\n",
       "      <th>std</th>\n",
       "      <td>0.500049</td>\n",
       "      <td>8.487995</td>\n",
       "      <td>9972.953985</td>\n",
       "      <td>1.098664</td>\n",
       "      <td>0.468934</td>\n",
       "    </tr>\n",
       "    <tr>\n",
       "      <th>min</th>\n",
       "      <td>0.000000</td>\n",
       "      <td>18.000000</td>\n",
       "      <td>5300.000000</td>\n",
       "      <td>0.000000</td>\n",
       "      <td>0.000000</td>\n",
       "    </tr>\n",
       "    <tr>\n",
       "      <th>25%</th>\n",
       "      <td>0.000000</td>\n",
       "      <td>24.000000</td>\n",
       "      <td>33200.000000</td>\n",
       "      <td>0.000000</td>\n",
       "      <td>0.000000</td>\n",
       "    </tr>\n",
       "    <tr>\n",
       "      <th>50%</th>\n",
       "      <td>0.000000</td>\n",
       "      <td>30.000000</td>\n",
       "      <td>40200.000000</td>\n",
       "      <td>1.000000</td>\n",
       "      <td>0.000000</td>\n",
       "    </tr>\n",
       "    <tr>\n",
       "      <th>75%</th>\n",
       "      <td>1.000000</td>\n",
       "      <td>37.000000</td>\n",
       "      <td>46600.000000</td>\n",
       "      <td>2.000000</td>\n",
       "      <td>0.000000</td>\n",
       "    </tr>\n",
       "    <tr>\n",
       "      <th>max</th>\n",
       "      <td>1.000000</td>\n",
       "      <td>65.000000</td>\n",
       "      <td>79000.000000</td>\n",
       "      <td>6.000000</td>\n",
       "      <td>5.000000</td>\n",
       "    </tr>\n",
       "  </tbody>\n",
       "</table>\n",
       "</div>"
      ],
      "text/plain": [
       "               Пол      Возраст      Зарплата  Члены семьи  Страховые выплаты\n",
       "count  4847.000000  4847.000000   4847.000000  4847.000000        4847.000000\n",
       "mean      0.498453    31.023932  39895.811842     1.203425           0.152259\n",
       "std       0.500049     8.487995   9972.953985     1.098664           0.468934\n",
       "min       0.000000    18.000000   5300.000000     0.000000           0.000000\n",
       "25%       0.000000    24.000000  33200.000000     0.000000           0.000000\n",
       "50%       0.000000    30.000000  40200.000000     1.000000           0.000000\n",
       "75%       1.000000    37.000000  46600.000000     2.000000           0.000000\n",
       "max       1.000000    65.000000  79000.000000     6.000000           5.000000"
      ]
     },
     "execution_count": 15,
     "metadata": {},
     "output_type": "execute_result"
    }
   ],
   "source": [
    "data.describe()"
   ]
  },
  {
   "cell_type": "code",
   "execution_count": 16,
   "metadata": {},
   "outputs": [],
   "source": [
    "data_without = data[['Зарплата', 'Страховые выплаты']]"
   ]
  },
  {
   "cell_type": "code",
   "execution_count": 17,
   "metadata": {},
   "outputs": [
    {
     "data": {
      "image/png": "[encoded data removed]",
      "text/plain": [
       "<Figure size 432x288 with 2 Axes>"
      ]
     },
     "metadata": {
      "needs_background": "light"
     },
     "output_type": "display_data"
    }
   ],
   "source": [
    "sns.heatmap(data_without.corr(), cmap='Greens', annot=True); #Оставлен столбец зарплата, т. к. данные распределены нормально.\n",
    "#По коэффициенту корреляции видно, что страховые выплаты не зависят от зарплаты."
   ]
  },
  {
   "cell_type": "markdown",
   "metadata": {},
   "source": [
    "## Умножение матриц"
   ]
  },
  {
   "cell_type": "markdown",
   "metadata": {},
   "source": [
    "В этом задании вы можете записывать формулы в *Jupyter Notebook.*\n",
    "\n",
    "Чтобы записать формулу внутри текста, окружите её символами доллара \\\\$; если снаружи —  двойными символами \\\\$\\\\$. Эти формулы записываются на языке вёрстки *LaTeX.* \n",
    "\n",
    "Для примера мы записали формулы линейной регрессии. Можете их скопировать и отредактировать, чтобы решить задачу.\n",
    "\n",
    "Работать в *LaTeX* необязательно."
   ]
  },
  {
   "cell_type": "markdown",
   "metadata": {},
   "source": [
    "Обозначения:\n",
    "\n",
    "- $X$ — матрица признаков (нулевой столбец состоит из единиц)\n",
    "\n",
    "- $y$ — вектор целевого признака\n",
    "\n",
    "- $P$ — матрица, на которую умножаются признаки\n",
    "\n",
    "- $w$ — вектор весов линейной регрессии (нулевой элемент равен сдвигу)"
   ]
  },
  {
   "cell_type": "markdown",
   "metadata": {},
   "source": [
    "Предсказания:\n",
    "\n",
    "$$\n",
    "a = Xw\n",
    "$$\n",
    "\n",
    "Задача обучения:\n",
    "\n",
    "$$\n",
    "w = \\arg\\min_w MSE(Xw, y)\n",
    "$$\n",
    "\n",
    "Формула обучения:\n",
    "\n",
    "$$\n",
    "w = (X^T X)^{-1} X^T y\n",
    "$$"
   ]
  },
  {
   "cell_type": "markdown",
   "metadata": {},
   "source": [
    "**Вопрос:**  Признаки умножают на обратимую матрицу. Изменится ли качество линейной регрессии? (Её можно обучить заново.)"
   ]
  },
  {
   "cell_type": "markdown",
   "metadata": {},
   "source": [
    "**Ответ:** При умножении матрицы признаков на обратимую матрицу качество линейной регрессии не изменится.\n",
    "\n",
    "**Обоснование:** Подставим в уравнение весов произведение матрицы признаков $X$ и обратимой матрицы $Р$ вместо матрицы $X$.\n",
    "$$\n",
    "w_n = ((XP)^T (XP))^{-1} (XP)^T y\n",
    "$$\n",
    "Раскроем скобки:\n",
    "$$w_n = (P^TX^TXP)^{-1}P^TX^Ty$$ $$w_n = (P^T(X^TX)P)^{-1}P^TX^Ty$$ $$w_n = P^{-1}(X^TX)^{-1}(P^T)^{-1}P^TX^Ty$$ $$w_n = P^{-1}(X^TX)^{-1}EX^Ty$$ $$w_n = P^{-1}(X^TX)^{-1}X^Ty$$$$w_n=P^{-1}w$$\n",
    "Подставим полученное уравнение в формулу предсказаний:\n",
    "$$a_n = XPw_n$$ $$a_n = XPP^{-1}w$$ $$a_n = XEw$$ $$a_n = Xw$$ $$a_n = a$$\n",
    "Из преобразований видно, что при замене матрицы $X$ на произведение матриц $X$ и $P$ предсказания не изменяются"
   ]
  },
  {
   "cell_type": "markdown",
   "metadata": {},
   "source": [
    "**Вывод:** Выше математически был получен результат, что предсказания не изменятся. В свою очередь вектор весов изменился для новых признаков, следовательно потребуется модель обучить заново."
   ]
  },
  {
   "cell_type": "markdown",
   "metadata": {},
   "source": [
    "## Алгоритм преобразования"
   ]
  },
  {
   "cell_type": "markdown",
   "metadata": {},
   "source": [
    "**Алгоритм**\n",
    "\n",
    "Напишем алгоритм и рассчитаем предсказания"
   ]
  },
  {
   "cell_type": "markdown",
   "metadata": {},
   "source": [
    "Создадим матрицу 4х4, так как основных признаков - 4."
   ]
  },
  {
   "cell_type": "code",
   "execution_count": 18,
   "metadata": {},
   "outputs": [
    {
     "data": {
      "text/plain": [
       "array([[9, 5, 4, 7],\n",
       "       [7, 1, 6, 3],\n",
       "       [8, 6, 5, 4],\n",
       "       [4, 0, 4, 9]])"
      ]
     },
     "execution_count": 18,
     "metadata": {},
     "output_type": "execute_result"
    }
   ],
   "source": [
    "P = np.random.randint(10, size=(4,4))\n",
    "P"
   ]
  },
  {
   "cell_type": "markdown",
   "metadata": {},
   "source": [
    "Проверим ее обратимость"
   ]
  },
  {
   "cell_type": "code",
   "execution_count": 19,
   "metadata": {},
   "outputs": [
    {
     "data": {
      "text/plain": [
       "array([[ 3.67986799e-01,  1.60066007e-01, -3.33333333e-01,\n",
       "        -1.91419142e-01],\n",
       "       [-1.60066007e-01, -1.99669967e-01,  3.33333333e-01,\n",
       "         4.29042904e-02],\n",
       "       [-4.12541254e-01,  6.27062706e-02,  3.33333333e-01,\n",
       "         1.51815182e-01],\n",
       "       [ 1.98019802e-02, -9.90099010e-02,  3.81066649e-17,\n",
       "         1.28712871e-01]])"
      ]
     },
     "execution_count": 19,
     "metadata": {},
     "output_type": "execute_result"
    }
   ],
   "source": [
    "P_inv = np.linalg.inv(P)\n",
    "P_inv"
   ]
  },
  {
   "cell_type": "code",
   "execution_count": 20,
   "metadata": {},
   "outputs": [],
   "source": [
    "features = data.drop(['Страховые выплаты'], axis=1)\n",
    "target = data['Страховые выплаты']"
   ]
  },
  {
   "cell_type": "code",
   "execution_count": 21,
   "metadata": {},
   "outputs": [],
   "source": [
    "train_features, test_features, train_target, test_target = train_test_split(\n",
    "    features, target, test_size=0.25, random_state=12354)"
   ]
  },
  {
   "cell_type": "code",
   "execution_count": 22,
   "metadata": {},
   "outputs": [],
   "source": [
    "scaler = StandardScaler()\n",
    "scaler.fit(train_features)\n",
    "train_features_scaled = scaler.transform(train_features)\n",
    "test_features_scaled = scaler.transform(test_features)"
   ]
  },
  {
   "cell_type": "markdown",
   "metadata": {},
   "source": [
    "Вычислим вектор весов и вектор предсказаний для изначальной матрицы"
   ]
  },
  {
   "cell_type": "code",
   "execution_count": 23,
   "metadata": {},
   "outputs": [],
   "source": [
    "w = np.linalg.inv(train_features_scaled.T @ train_features_scaled) @ train_features_scaled.T @ train_target\n",
    "a = train_features_scaled @ w"
   ]
  },
  {
   "cell_type": "markdown",
   "metadata": {},
   "source": [
    "Сделаем тоже самое для произведения Х на Р"
   ]
  },
  {
   "cell_type": "code",
   "execution_count": 24,
   "metadata": {},
   "outputs": [],
   "source": [
    "train_features_scaled_n = train_features_scaled @ P\n",
    "w_n = np.linalg.inv(train_features_scaled_n.T @ train_features_scaled_n) @ train_features_scaled_n.T @ train_target\n",
    "a_n = train_features_scaled_n @ w_n"
   ]
  },
  {
   "cell_type": "markdown",
   "metadata": {},
   "source": [
    "Посчитаем разницу между полученными предсказаниями"
   ]
  },
  {
   "cell_type": "code",
   "execution_count": 25,
   "metadata": {},
   "outputs": [
    {
     "data": {
      "text/plain": [
       "-6.948602934361836e-14"
      ]
     },
     "execution_count": 25,
     "metadata": {},
     "output_type": "execute_result"
    }
   ],
   "source": [
    "diff = a - a_n\n",
    "diff.sum()"
   ]
  },
  {
   "cell_type": "markdown",
   "metadata": {},
   "source": [
    "Видно, что разница ничтожно мала и разница стремится к 0."
   ]
  },
  {
   "cell_type": "markdown",
   "metadata": {},
   "source": [
    "**Обоснование**\n",
    "\n",
    "Видно, что разница предсказаний ничтожно мала, можно считать что равна 0. Следовательно подтверждено, что предсказания не изменятся."
   ]
  },
  {
   "cell_type": "markdown",
   "metadata": {},
   "source": [
    "## Проверка алгоритма"
   ]
  },
  {
   "cell_type": "markdown",
   "metadata": {},
   "source": [
    "Напишем функцию для обучения модели, которая на выходе дает метрики MSE и R2."
   ]
  },
  {
   "cell_type": "markdown",
   "metadata": {},
   "source": [
    "Исходные данные"
   ]
  },
  {
   "cell_type": "code",
   "execution_count": 26,
   "metadata": {},
   "outputs": [
    {
     "name": "stdout",
     "output_type": "stream",
     "text": [
      "MSE модели: 0.11450473464319581\n",
      "R2 модели: 0.4231056652397094\n"
     ]
    }
   ],
   "source": [
    "model = LinearRegression()\n",
    "model.fit(train_features_scaled, train_target)\n",
    "predictions = model.predict(test_features_scaled)\n",
    "print('MSE модели:', mean_squared_error(test_target, predictions))\n",
    "print('R2 модели:', r2_score(test_target, predictions))"
   ]
  },
  {
   "cell_type": "markdown",
   "metadata": {},
   "source": [
    "Новые данные"
   ]
  },
  {
   "cell_type": "code",
   "execution_count": 27,
   "metadata": {},
   "outputs": [],
   "source": [
    "test_features_scaled_n = test_features_scaled @ P"
   ]
  },
  {
   "cell_type": "code",
   "execution_count": 28,
   "metadata": {},
   "outputs": [
    {
     "name": "stdout",
     "output_type": "stream",
     "text": [
      "MSE модели: 0.11450473464319579\n",
      "R2 модели: 0.4231056652397095\n"
     ]
    }
   ],
   "source": [
    "model = LinearRegression()\n",
    "model.fit(train_features_scaled_n, train_target)\n",
    "predictions = model.predict(test_features_scaled_n)\n",
    "print('MSE модели:', mean_squared_error(test_target, predictions))\n",
    "print('R2 модели:', r2_score(test_target, predictions))"
   ]
  },
  {
   "cell_type": "markdown",
   "metadata": {},
   "source": [
    "Видно, что значения метрик не изменились."
   ]
  },
  {
   "cell_type": "markdown",
   "metadata": {},
   "source": [
    "Проверим возможность восстановления зашифрованных данных на всех фичах. Действия будут обратные:  \n",
    "- умножение фичей на обратимую матрицу Р;\n",
    "- использование scaled.inverse_transform() для обратного масштабирования  \n",
    "Видно, что присутствуют незначительные отклонения от исходных данных в столбцах Пол и Члены семьи."
   ]
  },
  {
   "cell_type": "code",
   "execution_count": 29,
   "metadata": {},
   "outputs": [
    {
     "name": "stdout",
     "output_type": "stream",
     "text": [
      "[[ 11.8358701    6.68907292   5.87172259   7.07283024]\n",
      " [-17.81214427  -5.02348675 -12.09370952 -11.92490516]\n",
      " [  3.2801297    4.78733644  -1.20196501   3.32614461]\n",
      " ...\n",
      " [ 18.23250818   8.47650561  11.02052128   9.91702624]\n",
      " [-15.83156244 -11.83948973  -8.00357736 -18.61565497]\n",
      " [  2.53209585  -1.51913035   0.8491115    8.98059421]]\n",
      "\n",
      "[[ -1.42545332  -0.48560719   1.43383658   2.0608248 ]\n",
      " [  6.58988111   5.48997671   1.2252817   -1.93275381]\n",
      " [-13.89459573 -12.84750987  -5.20847753  -4.52786945]\n",
      " ...\n",
      " [-14.28121383 -14.32021965  -4.03245365  15.25287729]\n",
      " [-15.73152345  -7.97808994  -9.06697166 -11.41577932]\n",
      " [-10.79681658  -5.05338446  -6.00776109 -15.744159  ]]\n"
     ]
    }
   ],
   "source": [
    "print(train_features_scaled_n)\n",
    "print()\n",
    "print(test_features_scaled_n)"
   ]
  },
  {
   "cell_type": "code",
   "execution_count": 30,
   "metadata": {},
   "outputs": [
    {
     "name": "stdout",
     "output_type": "stream",
     "text": [
      "[[ 1.002479    0.22682709  0.2416418  -0.17684125]\n",
      " [-0.99752713 -1.42574711  0.23164934 -0.17684125]\n",
      " [ 1.002479   -0.83554204  0.10174725 -0.17684125]\n",
      " ...\n",
      " [ 1.002479    0.93507318  0.42150624 -0.17684125]\n",
      " [-0.99752713  1.17115521 -1.33716822 -1.08863976]\n",
      " [ 1.002479   -0.12729595 -1.06737157  0.73495726]]\n",
      "\n",
      "[[-0.99752713 -0.24533696  0.79122757  0.73495726]\n",
      " [ 1.002479    0.22682709  0.04179243 -1.08863976]\n",
      " [-0.99752713  0.46290912 -1.38713056  0.73495726]\n",
      " ...\n",
      " [-0.99752713 -1.18966508 -1.35715315  3.47035278]\n",
      " [-0.99752713 -0.36337798 -0.43784605 -0.17684125]\n",
      " [-0.99752713  0.46290912 -0.08810966 -1.08863976]]\n"
     ]
    }
   ],
   "source": [
    "train_features_scaled_n_P_inv = train_features_scaled_n @ P_inv\n",
    "print(train_features_scaled_n_P_inv)\n",
    "print()\n",
    "test_features_scaled_n_P_inv = test_features_scaled_n @ P_inv\n",
    "print(test_features_scaled_n_P_inv)"
   ]
  },
  {
   "cell_type": "code",
   "execution_count": 31,
   "metadata": {},
   "outputs": [
    {
     "data": {
      "text/html": [
       "<div>\n",
       "<style scoped>\n",
       "    .dataframe tbody tr th:only-of-type {\n",
       "        vertical-align: middle;\n",
       "    }\n",
       "\n",
       "    .dataframe tbody tr th {\n",
       "        vertical-align: top;\n",
       "    }\n",
       "\n",
       "    .dataframe thead th {\n",
       "        text-align: right;\n",
       "    }\n",
       "</style>\n",
       "<table border=\"1\" class=\"dataframe\">\n",
       "  <thead>\n",
       "    <tr style=\"text-align: right;\">\n",
       "      <th></th>\n",
       "      <th>Пол</th>\n",
       "      <th>Возраст</th>\n",
       "      <th>Зарплата</th>\n",
       "      <th>Члены семьи</th>\n",
       "    </tr>\n",
       "  </thead>\n",
       "  <tbody>\n",
       "    <tr>\n",
       "      <th>0</th>\n",
       "      <td>1.000000e+00</td>\n",
       "      <td>33.0</td>\n",
       "      <td>42400.0</td>\n",
       "      <td>1.000000e+00</td>\n",
       "    </tr>\n",
       "    <tr>\n",
       "      <th>1</th>\n",
       "      <td>9.436896e-16</td>\n",
       "      <td>19.0</td>\n",
       "      <td>42300.0</td>\n",
       "      <td>1.000000e+00</td>\n",
       "    </tr>\n",
       "    <tr>\n",
       "      <th>2</th>\n",
       "      <td>1.000000e+00</td>\n",
       "      <td>24.0</td>\n",
       "      <td>41000.0</td>\n",
       "      <td>1.000000e+00</td>\n",
       "    </tr>\n",
       "    <tr>\n",
       "      <th>3</th>\n",
       "      <td>5.551115e-17</td>\n",
       "      <td>21.0</td>\n",
       "      <td>45800.0</td>\n",
       "      <td>3.000000e+00</td>\n",
       "    </tr>\n",
       "    <tr>\n",
       "      <th>4</th>\n",
       "      <td>5.551115e-16</td>\n",
       "      <td>51.0</td>\n",
       "      <td>43000.0</td>\n",
       "      <td>1.000000e+00</td>\n",
       "    </tr>\n",
       "    <tr>\n",
       "      <th>...</th>\n",
       "      <td>...</td>\n",
       "      <td>...</td>\n",
       "      <td>...</td>\n",
       "      <td>...</td>\n",
       "    </tr>\n",
       "    <tr>\n",
       "      <th>3630</th>\n",
       "      <td>3.885781e-16</td>\n",
       "      <td>43.0</td>\n",
       "      <td>25800.0</td>\n",
       "      <td>0.000000e+00</td>\n",
       "    </tr>\n",
       "    <tr>\n",
       "      <th>3631</th>\n",
       "      <td>1.000000e+00</td>\n",
       "      <td>53.0</td>\n",
       "      <td>38300.0</td>\n",
       "      <td>2.000000e+00</td>\n",
       "    </tr>\n",
       "    <tr>\n",
       "      <th>3632</th>\n",
       "      <td>1.000000e+00</td>\n",
       "      <td>39.0</td>\n",
       "      <td>44200.0</td>\n",
       "      <td>1.000000e+00</td>\n",
       "    </tr>\n",
       "    <tr>\n",
       "      <th>3633</th>\n",
       "      <td>7.216450e-16</td>\n",
       "      <td>41.0</td>\n",
       "      <td>26600.0</td>\n",
       "      <td>-4.440892e-16</td>\n",
       "    </tr>\n",
       "    <tr>\n",
       "      <th>3634</th>\n",
       "      <td>1.000000e+00</td>\n",
       "      <td>30.0</td>\n",
       "      <td>29300.0</td>\n",
       "      <td>2.000000e+00</td>\n",
       "    </tr>\n",
       "  </tbody>\n",
       "</table>\n",
       "<p>3635 rows × 4 columns</p>\n",
       "</div>"
      ],
      "text/plain": [
       "               Пол  Возраст  Зарплата   Члены семьи\n",
       "0     1.000000e+00     33.0   42400.0  1.000000e+00\n",
       "1     9.436896e-16     19.0   42300.0  1.000000e+00\n",
       "2     1.000000e+00     24.0   41000.0  1.000000e+00\n",
       "3     5.551115e-17     21.0   45800.0  3.000000e+00\n",
       "4     5.551115e-16     51.0   43000.0  1.000000e+00\n",
       "...            ...      ...       ...           ...\n",
       "3630  3.885781e-16     43.0   25800.0  0.000000e+00\n",
       "3631  1.000000e+00     53.0   38300.0  2.000000e+00\n",
       "3632  1.000000e+00     39.0   44200.0  1.000000e+00\n",
       "3633  7.216450e-16     41.0   26600.0 -4.440892e-16\n",
       "3634  1.000000e+00     30.0   29300.0  2.000000e+00\n",
       "\n",
       "[3635 rows x 4 columns]"
      ]
     },
     "metadata": {},
     "output_type": "display_data"
    },
    {
     "name": "stdout",
     "output_type": "stream",
     "text": [
      "\n"
     ]
    },
    {
     "data": {
      "text/html": [
       "<div>\n",
       "<style scoped>\n",
       "    .dataframe tbody tr th:only-of-type {\n",
       "        vertical-align: middle;\n",
       "    }\n",
       "\n",
       "    .dataframe tbody tr th {\n",
       "        vertical-align: top;\n",
       "    }\n",
       "\n",
       "    .dataframe thead th {\n",
       "        text-align: right;\n",
       "    }\n",
       "</style>\n",
       "<table border=\"1\" class=\"dataframe\">\n",
       "  <thead>\n",
       "    <tr style=\"text-align: right;\">\n",
       "      <th></th>\n",
       "      <th>Пол</th>\n",
       "      <th>Возраст</th>\n",
       "      <th>Зарплата</th>\n",
       "      <th>Члены семьи</th>\n",
       "    </tr>\n",
       "  </thead>\n",
       "  <tbody>\n",
       "    <tr>\n",
       "      <th>0</th>\n",
       "      <td>1.665335e-16</td>\n",
       "      <td>29.0</td>\n",
       "      <td>47900.0</td>\n",
       "      <td>2.000000e+00</td>\n",
       "    </tr>\n",
       "    <tr>\n",
       "      <th>1</th>\n",
       "      <td>1.000000e+00</td>\n",
       "      <td>33.0</td>\n",
       "      <td>40400.0</td>\n",
       "      <td>4.440892e-16</td>\n",
       "    </tr>\n",
       "    <tr>\n",
       "      <th>2</th>\n",
       "      <td>-2.775558e-16</td>\n",
       "      <td>35.0</td>\n",
       "      <td>26100.0</td>\n",
       "      <td>2.000000e+00</td>\n",
       "    </tr>\n",
       "    <tr>\n",
       "      <th>3</th>\n",
       "      <td>1.000000e+00</td>\n",
       "      <td>34.0</td>\n",
       "      <td>35700.0</td>\n",
       "      <td>3.000000e+00</td>\n",
       "    </tr>\n",
       "    <tr>\n",
       "      <th>4</th>\n",
       "      <td>7.216450e-16</td>\n",
       "      <td>28.0</td>\n",
       "      <td>39800.0</td>\n",
       "      <td>1.000000e+00</td>\n",
       "    </tr>\n",
       "    <tr>\n",
       "      <th>...</th>\n",
       "      <td>...</td>\n",
       "      <td>...</td>\n",
       "      <td>...</td>\n",
       "      <td>...</td>\n",
       "    </tr>\n",
       "    <tr>\n",
       "      <th>1207</th>\n",
       "      <td>1.110223e-16</td>\n",
       "      <td>38.0</td>\n",
       "      <td>35500.0</td>\n",
       "      <td>2.000000e+00</td>\n",
       "    </tr>\n",
       "    <tr>\n",
       "      <th>1208</th>\n",
       "      <td>3.330669e-16</td>\n",
       "      <td>31.0</td>\n",
       "      <td>60100.0</td>\n",
       "      <td>1.000000e+00</td>\n",
       "    </tr>\n",
       "    <tr>\n",
       "      <th>1209</th>\n",
       "      <td>1.110223e-16</td>\n",
       "      <td>21.0</td>\n",
       "      <td>26400.0</td>\n",
       "      <td>5.000000e+00</td>\n",
       "    </tr>\n",
       "    <tr>\n",
       "      <th>1210</th>\n",
       "      <td>1.110223e-15</td>\n",
       "      <td>28.0</td>\n",
       "      <td>35600.0</td>\n",
       "      <td>1.000000e+00</td>\n",
       "    </tr>\n",
       "    <tr>\n",
       "      <th>1211</th>\n",
       "      <td>3.885781e-16</td>\n",
       "      <td>35.0</td>\n",
       "      <td>39100.0</td>\n",
       "      <td>-2.220446e-16</td>\n",
       "    </tr>\n",
       "  </tbody>\n",
       "</table>\n",
       "<p>1212 rows × 4 columns</p>\n",
       "</div>"
      ],
      "text/plain": [
       "               Пол  Возраст  Зарплата   Члены семьи\n",
       "0     1.665335e-16     29.0   47900.0  2.000000e+00\n",
       "1     1.000000e+00     33.0   40400.0  4.440892e-16\n",
       "2    -2.775558e-16     35.0   26100.0  2.000000e+00\n",
       "3     1.000000e+00     34.0   35700.0  3.000000e+00\n",
       "4     7.216450e-16     28.0   39800.0  1.000000e+00\n",
       "...            ...      ...       ...           ...\n",
       "1207  1.110223e-16     38.0   35500.0  2.000000e+00\n",
       "1208  3.330669e-16     31.0   60100.0  1.000000e+00\n",
       "1209  1.110223e-16     21.0   26400.0  5.000000e+00\n",
       "1210  1.110223e-15     28.0   35600.0  1.000000e+00\n",
       "1211  3.885781e-16     35.0   39100.0 -2.220446e-16\n",
       "\n",
       "[1212 rows x 4 columns]"
      ]
     },
     "metadata": {},
     "output_type": "display_data"
    }
   ],
   "source": [
    "train_features_inv = scaler.inverse_transform(train_features_scaled_n_P_inv)\n",
    "train_features_inv = pd.DataFrame(train_features_inv, columns=train_features.columns)#.round()\n",
    "display(train_features_inv)\n",
    "print()\n",
    "test_features_inv = scaler.inverse_transform(test_features_scaled_n_P_inv)\n",
    "test_features_inv = pd.DataFrame(test_features_inv, columns=test_features.columns)#.round()\n",
    "display(test_features_inv)"
   ]
  },
  {
   "cell_type": "code",
   "execution_count": 32,
   "metadata": {},
   "outputs": [
    {
     "data": {
      "text/plain": [
       "array([[ 0.,  0.,  0.,  0.],\n",
       "       [-0., -0.,  0.,  0.],\n",
       "       [ 0.,  0.,  0., -0.],\n",
       "       ...,\n",
       "       [ 0.,  0.,  0.,  0.],\n",
       "       [-0.,  0.,  0.,  0.],\n",
       "       [ 0.,  0., -0., -0.]])"
      ]
     },
     "metadata": {},
     "output_type": "display_data"
    },
    {
     "data": {
      "text/plain": [
       "array([[-0.,  0.,  0.,  0.],\n",
       "       [ 0.,  0.,  0., -0.],\n",
       "       [ 0.,  0., -0., -0.],\n",
       "       ...,\n",
       "       [-0., -0.,  0.,  0.],\n",
       "       [-0., -0.,  0.,  0.],\n",
       "       [-0.,  0.,  0.,  0.]])"
      ]
     },
     "metadata": {},
     "output_type": "display_data"
    }
   ],
   "source": [
    "display((train_features.values - train_features_inv.values).round())\n",
    "display((test_features.values - test_features_inv.values).round())"
   ]
  },
  {
   "cell_type": "markdown",
   "metadata": {},
   "source": [
    "## Общий вывод\n",
    "1. Предобработаны данные.  \n",
    "2. Математически доказано, что значения предсказаний не изменятся если матрицу признаков умножить на любую обратимую матрицу, но нужно будет обучить модель заново.  \n",
    "3. Практически доказано, что предсказания не меняются. Разница сумм предсказаний ничтожно мала и стремится к 0.  \n",
    "4. Проверено на модели линейной регрессии с помощью MSE и R2, что предсказания не изменяются."
   ]
  }
 ],
 "metadata": {
  "ExecuteTimeLog": [
   {
    "duration": 345,
    "start_time": "2023-05-14T14:34:05.832Z"
   },
   {
    "duration": 91,
    "start_time": "2023-05-14T14:35:09.446Z"
   },
   {
    "duration": 15,
    "start_time": "2023-05-14T14:35:18.736Z"
   },
   {
    "duration": 28,
    "start_time": "2023-05-14T14:38:32.882Z"
   },
   {
    "duration": 57,
    "start_time": "2023-05-18T19:17:54.939Z"
   },
   {
    "duration": 438,
    "start_time": "2023-05-18T19:17:59.871Z"
   },
   {
    "duration": 90,
    "start_time": "2023-05-18T19:18:00.311Z"
   },
   {
    "duration": 28,
    "start_time": "2023-05-18T19:18:00.561Z"
   },
   {
    "duration": 13,
    "start_time": "2023-05-18T19:18:03.910Z"
   },
   {
    "duration": 9,
    "start_time": "2023-05-18T19:18:05.943Z"
   },
   {
    "duration": 49,
    "start_time": "2023-05-19T17:42:50.950Z"
   },
   {
    "duration": 413,
    "start_time": "2023-05-19T17:42:56.142Z"
   },
   {
    "duration": 105,
    "start_time": "2023-05-19T17:42:56.557Z"
   },
   {
    "duration": 16,
    "start_time": "2023-05-19T17:42:56.664Z"
   },
   {
    "duration": 12,
    "start_time": "2023-05-19T17:42:56.681Z"
   },
   {
    "duration": 7,
    "start_time": "2023-05-19T17:42:56.695Z"
   },
   {
    "duration": 807,
    "start_time": "2023-05-19T17:42:56.704Z"
   },
   {
    "duration": 34,
    "start_time": "2023-05-19T17:43:20.068Z"
   },
   {
    "duration": 6,
    "start_time": "2023-05-19T17:43:55.737Z"
   },
   {
    "duration": 6,
    "start_time": "2023-05-19T17:44:05.743Z"
   },
   {
    "duration": 7,
    "start_time": "2023-05-19T17:44:49.359Z"
   },
   {
    "duration": 18,
    "start_time": "2023-05-19T17:44:59.922Z"
   },
   {
    "duration": 6,
    "start_time": "2023-05-19T17:45:13.046Z"
   },
   {
    "duration": 7,
    "start_time": "2023-05-19T17:45:22.639Z"
   },
   {
    "duration": 5,
    "start_time": "2023-05-19T17:46:06.456Z"
   },
   {
    "duration": 11,
    "start_time": "2023-05-19T17:46:18.755Z"
   },
   {
    "duration": 6,
    "start_time": "2023-05-19T17:46:32.686Z"
   },
   {
    "duration": 17,
    "start_time": "2023-05-19T17:46:43.724Z"
   },
   {
    "duration": 14,
    "start_time": "2023-05-19T17:46:55.176Z"
   },
   {
    "duration": 12,
    "start_time": "2023-05-19T17:47:12.505Z"
   },
   {
    "duration": 5,
    "start_time": "2023-05-19T17:47:33.400Z"
   },
   {
    "duration": 15,
    "start_time": "2023-05-19T17:49:00.239Z"
   },
   {
    "duration": 21,
    "start_time": "2023-05-19T17:49:53.429Z"
   },
   {
    "duration": 15,
    "start_time": "2023-05-19T17:50:47.842Z"
   },
   {
    "duration": 8,
    "start_time": "2023-05-19T17:51:09.891Z"
   },
   {
    "duration": 7,
    "start_time": "2023-05-19T17:51:16.702Z"
   },
   {
    "duration": 24,
    "start_time": "2023-05-19T17:53:26.017Z"
   },
   {
    "duration": 14,
    "start_time": "2023-05-19T17:53:39.537Z"
   },
   {
    "duration": 7,
    "start_time": "2023-05-19T17:53:46.517Z"
   },
   {
    "duration": 15,
    "start_time": "2023-05-19T17:53:51.259Z"
   },
   {
    "duration": 7,
    "start_time": "2023-05-19T17:53:58.635Z"
   },
   {
    "duration": 8,
    "start_time": "2023-05-19T17:54:40.047Z"
   },
   {
    "duration": 10,
    "start_time": "2023-05-19T17:54:50.750Z"
   },
   {
    "duration": 7,
    "start_time": "2023-05-19T17:54:52.751Z"
   },
   {
    "duration": 14,
    "start_time": "2023-05-19T17:54:56.783Z"
   },
   {
    "duration": 436,
    "start_time": "2023-05-19T17:55:05.559Z"
   },
   {
    "duration": 42,
    "start_time": "2023-05-19T17:55:05.998Z"
   },
   {
    "duration": 17,
    "start_time": "2023-05-19T17:55:06.042Z"
   },
   {
    "duration": 12,
    "start_time": "2023-05-19T17:55:06.061Z"
   },
   {
    "duration": 27,
    "start_time": "2023-05-19T17:55:06.075Z"
   },
   {
    "duration": 56,
    "start_time": "2023-05-19T17:55:06.104Z"
   },
   {
    "duration": 14,
    "start_time": "2023-05-19T17:55:06.162Z"
   },
   {
    "duration": 17,
    "start_time": "2023-05-19T17:55:06.178Z"
   },
   {
    "duration": 8,
    "start_time": "2023-05-19T17:55:15.785Z"
   },
   {
    "duration": 3,
    "start_time": "2023-05-19T18:50:02.185Z"
   },
   {
    "duration": 5,
    "start_time": "2023-05-19T18:50:22.910Z"
   },
   {
    "duration": 73,
    "start_time": "2023-05-19T18:50:59.099Z"
   },
   {
    "duration": 6,
    "start_time": "2023-05-19T18:51:11.595Z"
   },
   {
    "duration": 6,
    "start_time": "2023-05-19T18:51:53.443Z"
   },
   {
    "duration": 6,
    "start_time": "2023-05-19T18:51:55.617Z"
   },
   {
    "duration": 5,
    "start_time": "2023-05-19T18:52:08.041Z"
   },
   {
    "duration": 5,
    "start_time": "2023-05-19T18:52:09.101Z"
   },
   {
    "duration": 4,
    "start_time": "2023-05-19T19:25:38.019Z"
   },
   {
    "duration": 9,
    "start_time": "2023-05-19T19:25:38.804Z"
   },
   {
    "duration": 5,
    "start_time": "2023-05-19T19:25:42.521Z"
   },
   {
    "duration": 1111,
    "start_time": "2023-05-19T19:25:43.082Z"
   },
   {
    "duration": 4,
    "start_time": "2023-05-19T19:25:46.520Z"
   },
   {
    "duration": 4,
    "start_time": "2023-05-19T19:25:47.202Z"
   },
   {
    "duration": 13,
    "start_time": "2023-05-19T19:26:01.828Z"
   },
   {
    "duration": 21,
    "start_time": "2023-05-19T19:27:39.091Z"
   },
   {
    "duration": 7,
    "start_time": "2023-05-19T19:27:54.922Z"
   },
   {
    "duration": 10,
    "start_time": "2023-05-19T19:28:20.873Z"
   },
   {
    "duration": 754,
    "start_time": "2023-05-19T19:29:14.658Z"
   },
   {
    "duration": 68,
    "start_time": "2023-05-19T19:29:21.656Z"
   },
   {
    "duration": 5,
    "start_time": "2023-05-19T19:29:24.084Z"
   },
   {
    "duration": 9,
    "start_time": "2023-05-19T19:29:24.682Z"
   },
   {
    "duration": 1269,
    "start_time": "2023-05-19T19:29:32.162Z"
   },
   {
    "duration": 56,
    "start_time": "2023-05-19T19:29:33.433Z"
   },
   {
    "duration": 19,
    "start_time": "2023-05-19T19:29:33.491Z"
   },
   {
    "duration": 21,
    "start_time": "2023-05-19T19:29:33.511Z"
   },
   {
    "duration": 11,
    "start_time": "2023-05-19T19:29:33.535Z"
   },
   {
    "duration": 39,
    "start_time": "2023-05-19T19:29:33.548Z"
   },
   {
    "duration": 46,
    "start_time": "2023-05-19T19:29:33.590Z"
   },
   {
    "duration": 9,
    "start_time": "2023-05-19T19:29:33.638Z"
   },
   {
    "duration": 6,
    "start_time": "2023-05-19T19:29:33.650Z"
   },
   {
    "duration": 153,
    "start_time": "2023-05-19T19:29:33.658Z"
   },
   {
    "duration": 0,
    "start_time": "2023-05-19T19:29:33.814Z"
   },
   {
    "duration": 0,
    "start_time": "2023-05-19T19:29:33.815Z"
   },
   {
    "duration": 11,
    "start_time": "2023-05-19T19:30:07.384Z"
   },
   {
    "duration": 12,
    "start_time": "2023-05-19T19:32:23.184Z"
   },
   {
    "duration": 26,
    "start_time": "2023-05-19T19:32:51.083Z"
   },
   {
    "duration": 14,
    "start_time": "2023-05-19T19:32:53.373Z"
   },
   {
    "duration": 6,
    "start_time": "2023-05-19T19:32:57.251Z"
   },
   {
    "duration": 18,
    "start_time": "2023-05-19T19:36:50.990Z"
   },
   {
    "duration": 19,
    "start_time": "2023-05-19T19:37:31.128Z"
   },
   {
    "duration": 9,
    "start_time": "2023-05-19T19:37:45.360Z"
   },
   {
    "duration": 21,
    "start_time": "2023-05-19T19:39:18.522Z"
   },
   {
    "duration": 3,
    "start_time": "2023-05-19T19:39:33.779Z"
   },
   {
    "duration": 8,
    "start_time": "2023-05-19T19:39:38.366Z"
   },
   {
    "duration": 10,
    "start_time": "2023-05-19T19:39:49.386Z"
   },
   {
    "duration": 8,
    "start_time": "2023-05-19T19:39:57.064Z"
   },
   {
    "duration": 11,
    "start_time": "2023-05-19T19:41:55.853Z"
   },
   {
    "duration": 10,
    "start_time": "2023-05-19T19:42:23.388Z"
   },
   {
    "duration": 14,
    "start_time": "2023-05-19T19:44:53.052Z"
   },
   {
    "duration": 1324,
    "start_time": "2023-05-19T19:44:59.888Z"
   },
   {
    "duration": 51,
    "start_time": "2023-05-19T19:45:01.215Z"
   },
   {
    "duration": 93,
    "start_time": "2023-05-19T19:45:01.268Z"
   },
   {
    "duration": 121,
    "start_time": "2023-05-19T19:45:01.364Z"
   },
   {
    "duration": 56,
    "start_time": "2023-05-19T19:45:01.487Z"
   },
   {
    "duration": 71,
    "start_time": "2023-05-19T19:45:01.547Z"
   },
   {
    "duration": 37,
    "start_time": "2023-05-19T19:45:01.621Z"
   },
   {
    "duration": 41,
    "start_time": "2023-05-19T19:45:01.661Z"
   },
   {
    "duration": 37,
    "start_time": "2023-05-19T19:45:01.703Z"
   },
   {
    "duration": 51,
    "start_time": "2023-05-19T19:45:01.745Z"
   },
   {
    "duration": 58,
    "start_time": "2023-05-19T19:45:01.798Z"
   },
   {
    "duration": 69,
    "start_time": "2023-05-19T19:45:01.858Z"
   },
   {
    "duration": 129,
    "start_time": "2023-05-19T19:45:01.929Z"
   },
   {
    "duration": 79,
    "start_time": "2023-05-19T19:45:02.060Z"
   },
   {
    "duration": 231,
    "start_time": "2023-05-19T19:45:02.147Z"
   },
   {
    "duration": 6,
    "start_time": "2023-05-19T19:47:33.726Z"
   },
   {
    "duration": 4,
    "start_time": "2023-05-19T19:47:52.149Z"
   },
   {
    "duration": 10,
    "start_time": "2023-05-19T19:48:09.223Z"
   },
   {
    "duration": 12,
    "start_time": "2023-05-19T19:48:15.612Z"
   },
   {
    "duration": 19,
    "start_time": "2023-05-19T19:48:34.653Z"
   },
   {
    "duration": 1191,
    "start_time": "2023-05-19T19:48:43.166Z"
   },
   {
    "duration": 33,
    "start_time": "2023-05-19T19:48:44.359Z"
   },
   {
    "duration": 19,
    "start_time": "2023-05-19T19:48:44.394Z"
   },
   {
    "duration": 18,
    "start_time": "2023-05-19T19:48:44.415Z"
   },
   {
    "duration": 9,
    "start_time": "2023-05-19T19:48:44.437Z"
   },
   {
    "duration": 36,
    "start_time": "2023-05-19T19:48:44.449Z"
   },
   {
    "duration": 14,
    "start_time": "2023-05-19T19:48:44.487Z"
   },
   {
    "duration": 46,
    "start_time": "2023-05-19T19:48:44.503Z"
   },
   {
    "duration": 15,
    "start_time": "2023-05-19T19:48:44.550Z"
   },
   {
    "duration": 7,
    "start_time": "2023-05-19T19:48:44.568Z"
   },
   {
    "duration": 6,
    "start_time": "2023-05-19T19:48:44.577Z"
   },
   {
    "duration": 46,
    "start_time": "2023-05-19T19:48:44.585Z"
   },
   {
    "duration": 25,
    "start_time": "2023-05-19T19:48:44.638Z"
   },
   {
    "duration": 6,
    "start_time": "2023-05-19T19:48:44.729Z"
   },
   {
    "duration": 32,
    "start_time": "2023-05-19T19:48:44.739Z"
   },
   {
    "duration": 27,
    "start_time": "2023-05-19T19:48:44.829Z"
   },
   {
    "duration": 17,
    "start_time": "2023-05-19T19:49:03.528Z"
   },
   {
    "duration": 12,
    "start_time": "2023-05-19T19:49:04.981Z"
   },
   {
    "duration": 33,
    "start_time": "2023-05-19T19:49:21.645Z"
   },
   {
    "duration": 25,
    "start_time": "2023-05-19T19:49:21.851Z"
   },
   {
    "duration": 5,
    "start_time": "2023-05-19T19:50:04.064Z"
   },
   {
    "duration": 5,
    "start_time": "2023-05-19T19:50:27.402Z"
   },
   {
    "duration": 5,
    "start_time": "2023-05-19T19:50:36.074Z"
   },
   {
    "duration": 60,
    "start_time": "2023-05-19T19:52:21.214Z"
   },
   {
    "duration": 7,
    "start_time": "2023-05-19T19:53:51.650Z"
   },
   {
    "duration": 75,
    "start_time": "2023-05-19T19:54:12.464Z"
   },
   {
    "duration": 33,
    "start_time": "2023-05-19T19:54:28.876Z"
   },
   {
    "duration": 1100,
    "start_time": "2023-05-21T08:12:01.931Z"
   },
   {
    "duration": 85,
    "start_time": "2023-05-21T08:12:03.035Z"
   },
   {
    "duration": 17,
    "start_time": "2023-05-21T08:12:03.122Z"
   },
   {
    "duration": 11,
    "start_time": "2023-05-21T08:12:03.142Z"
   },
   {
    "duration": 8,
    "start_time": "2023-05-21T08:12:03.155Z"
   },
   {
    "duration": 15,
    "start_time": "2023-05-21T08:12:03.164Z"
   },
   {
    "duration": 7,
    "start_time": "2023-05-21T08:12:03.181Z"
   },
   {
    "duration": 61,
    "start_time": "2023-05-21T08:12:03.190Z"
   },
   {
    "duration": 4,
    "start_time": "2023-05-21T08:12:03.253Z"
   },
   {
    "duration": 5,
    "start_time": "2023-05-21T08:12:03.259Z"
   },
   {
    "duration": 4,
    "start_time": "2023-05-21T08:12:03.266Z"
   },
   {
    "duration": 9,
    "start_time": "2023-05-21T08:12:03.271Z"
   },
   {
    "duration": 77,
    "start_time": "2023-05-21T08:12:03.282Z"
   },
   {
    "duration": 95,
    "start_time": "2023-05-21T08:12:03.361Z"
   },
   {
    "duration": 97,
    "start_time": "2023-05-21T08:12:03.459Z"
   },
   {
    "duration": 92,
    "start_time": "2023-05-21T08:12:03.558Z"
   },
   {
    "duration": 8,
    "start_time": "2023-05-21T08:12:03.652Z"
   },
   {
    "duration": 92,
    "start_time": "2023-05-21T08:12:03.662Z"
   },
   {
    "duration": 11,
    "start_time": "2023-05-21T08:12:25.753Z"
   },
   {
    "duration": 479,
    "start_time": "2023-05-21T08:27:28.557Z"
   },
   {
    "duration": 421,
    "start_time": "2023-05-21T08:27:53.505Z"
   },
   {
    "duration": 298,
    "start_time": "2023-05-21T08:29:45.661Z"
   },
   {
    "duration": 296,
    "start_time": "2023-05-21T08:30:07.057Z"
   },
   {
    "duration": 434,
    "start_time": "2023-05-21T08:31:02.716Z"
   },
   {
    "duration": 210,
    "start_time": "2023-05-21T08:40:02.681Z"
   },
   {
    "duration": 70,
    "start_time": "2023-05-21T08:50:11.657Z"
   },
   {
    "duration": 48,
    "start_time": "2023-05-21T09:04:54.424Z"
   },
   {
    "duration": 109,
    "start_time": "2023-05-21T09:06:45.925Z"
   },
   {
    "duration": 5,
    "start_time": "2023-05-21T09:06:49.563Z"
   },
   {
    "duration": 6,
    "start_time": "2023-05-21T09:08:16.456Z"
   },
   {
    "duration": 4,
    "start_time": "2023-05-21T09:08:44.803Z"
   },
   {
    "duration": 4,
    "start_time": "2023-05-21T09:09:46.359Z"
   },
   {
    "duration": 1404,
    "start_time": "2023-05-21T09:25:32.468Z"
   },
   {
    "duration": 30,
    "start_time": "2023-05-21T09:25:33.874Z"
   },
   {
    "duration": 16,
    "start_time": "2023-05-21T09:25:33.908Z"
   },
   {
    "duration": 12,
    "start_time": "2023-05-21T09:25:33.926Z"
   },
   {
    "duration": 10,
    "start_time": "2023-05-21T09:25:33.941Z"
   },
   {
    "duration": 37,
    "start_time": "2023-05-21T09:25:33.952Z"
   },
   {
    "duration": 6,
    "start_time": "2023-05-21T09:25:33.990Z"
   },
   {
    "duration": 94,
    "start_time": "2023-05-21T09:25:33.997Z"
   },
   {
    "duration": 435,
    "start_time": "2023-05-21T09:25:34.093Z"
   },
   {
    "duration": 4,
    "start_time": "2023-05-21T09:25:34.530Z"
   },
   {
    "duration": 18,
    "start_time": "2023-05-21T09:25:34.536Z"
   },
   {
    "duration": 8,
    "start_time": "2023-05-21T09:25:34.556Z"
   },
   {
    "duration": 4,
    "start_time": "2023-05-21T09:25:34.566Z"
   },
   {
    "duration": 19,
    "start_time": "2023-05-21T09:25:34.573Z"
   },
   {
    "duration": 64,
    "start_time": "2023-05-21T09:25:34.594Z"
   },
   {
    "duration": 90,
    "start_time": "2023-05-21T09:25:34.661Z"
   },
   {
    "duration": 9,
    "start_time": "2023-05-21T09:25:34.754Z"
   },
   {
    "duration": 90,
    "start_time": "2023-05-21T09:25:34.765Z"
   },
   {
    "duration": 10,
    "start_time": "2023-05-21T09:25:34.856Z"
   },
   {
    "duration": 82,
    "start_time": "2023-05-21T09:25:34.868Z"
   },
   {
    "duration": 4,
    "start_time": "2023-05-21T09:25:47.824Z"
   },
   {
    "duration": 1666,
    "start_time": "2023-05-21T13:15:33.399Z"
   },
   {
    "duration": 74,
    "start_time": "2023-05-21T13:15:35.066Z"
   },
   {
    "duration": 11,
    "start_time": "2023-05-21T13:15:35.142Z"
   },
   {
    "duration": 10,
    "start_time": "2023-05-21T13:15:35.155Z"
   },
   {
    "duration": 6,
    "start_time": "2023-05-21T13:15:35.167Z"
   },
   {
    "duration": 13,
    "start_time": "2023-05-21T13:15:35.175Z"
   },
   {
    "duration": 5,
    "start_time": "2023-05-21T13:15:35.190Z"
   },
   {
    "duration": 28,
    "start_time": "2023-05-21T13:15:35.196Z"
   },
   {
    "duration": 365,
    "start_time": "2023-05-21T13:15:35.226Z"
   },
   {
    "duration": 3,
    "start_time": "2023-05-21T13:15:35.595Z"
   },
   {
    "duration": 23,
    "start_time": "2023-05-21T13:15:35.600Z"
   },
   {
    "duration": 12,
    "start_time": "2023-05-21T13:15:35.625Z"
   },
   {
    "duration": 5,
    "start_time": "2023-05-21T13:15:35.639Z"
   },
   {
    "duration": 11,
    "start_time": "2023-05-21T13:15:35.646Z"
   },
   {
    "duration": 43,
    "start_time": "2023-05-21T13:15:35.659Z"
   },
   {
    "duration": 195,
    "start_time": "2023-05-21T13:15:35.705Z"
   },
   {
    "duration": 97,
    "start_time": "2023-05-21T13:15:35.902Z"
   },
   {
    "duration": 102,
    "start_time": "2023-05-21T13:15:36.001Z"
   },
   {
    "duration": 13,
    "start_time": "2023-05-21T13:15:36.105Z"
   },
   {
    "duration": 193,
    "start_time": "2023-05-21T13:15:36.120Z"
   },
   {
    "duration": 43,
    "start_time": "2023-05-21T18:26:39.023Z"
   },
   {
    "duration": 1494,
    "start_time": "2023-05-21T18:26:43.822Z"
   },
   {
    "duration": 87,
    "start_time": "2023-05-21T18:26:45.318Z"
   },
   {
    "duration": 13,
    "start_time": "2023-05-21T18:26:45.406Z"
   },
   {
    "duration": 15,
    "start_time": "2023-05-21T18:26:45.421Z"
   },
   {
    "duration": 6,
    "start_time": "2023-05-21T18:26:45.438Z"
   },
   {
    "duration": 13,
    "start_time": "2023-05-21T18:26:45.445Z"
   },
   {
    "duration": 4,
    "start_time": "2023-05-21T18:26:45.460Z"
   },
   {
    "duration": 26,
    "start_time": "2023-05-21T18:26:45.466Z"
   },
   {
    "duration": 448,
    "start_time": "2023-05-21T18:26:45.494Z"
   },
   {
    "duration": 4,
    "start_time": "2023-05-21T18:26:45.945Z"
   },
   {
    "duration": 10,
    "start_time": "2023-05-21T18:26:45.950Z"
   },
   {
    "duration": 18,
    "start_time": "2023-05-21T18:26:45.962Z"
   },
   {
    "duration": 5,
    "start_time": "2023-05-21T18:26:45.982Z"
   },
   {
    "duration": 13,
    "start_time": "2023-05-21T18:26:45.988Z"
   },
   {
    "duration": 5,
    "start_time": "2023-05-21T18:26:46.003Z"
   },
   {
    "duration": 71,
    "start_time": "2023-05-21T18:26:46.010Z"
   },
   {
    "duration": 94,
    "start_time": "2023-05-21T18:26:46.083Z"
   },
   {
    "duration": 7,
    "start_time": "2023-05-21T18:26:46.180Z"
   },
   {
    "duration": 7,
    "start_time": "2023-05-21T18:26:46.279Z"
   },
   {
    "duration": 90,
    "start_time": "2023-05-21T18:26:46.288Z"
   },
   {
    "duration": 64,
    "start_time": "2023-05-22T05:21:01.172Z"
   },
   {
    "duration": 1749,
    "start_time": "2023-05-22T05:21:11.131Z"
   },
   {
    "duration": 81,
    "start_time": "2023-05-22T05:21:12.882Z"
   },
   {
    "duration": 16,
    "start_time": "2023-05-22T05:21:12.965Z"
   },
   {
    "duration": 13,
    "start_time": "2023-05-22T05:21:12.984Z"
   },
   {
    "duration": 8,
    "start_time": "2023-05-22T05:21:12.999Z"
   },
   {
    "duration": 15,
    "start_time": "2023-05-22T05:21:13.009Z"
   },
   {
    "duration": 6,
    "start_time": "2023-05-22T05:21:13.026Z"
   },
   {
    "duration": 62,
    "start_time": "2023-05-22T05:21:13.034Z"
   },
   {
    "duration": 461,
    "start_time": "2023-05-22T05:21:13.097Z"
   },
   {
    "duration": 5,
    "start_time": "2023-05-22T05:21:13.560Z"
   },
   {
    "duration": 9,
    "start_time": "2023-05-22T05:21:13.570Z"
   },
   {
    "duration": 7,
    "start_time": "2023-05-22T05:21:13.581Z"
   },
   {
    "duration": 18,
    "start_time": "2023-05-22T05:21:13.589Z"
   },
   {
    "duration": 18,
    "start_time": "2023-05-22T05:21:13.609Z"
   },
   {
    "duration": 8,
    "start_time": "2023-05-22T05:21:13.629Z"
   },
   {
    "duration": 35,
    "start_time": "2023-05-22T05:21:13.639Z"
   },
   {
    "duration": 99,
    "start_time": "2023-05-22T05:21:13.677Z"
   },
   {
    "duration": 213,
    "start_time": "2023-05-22T05:21:13.779Z"
   },
   {
    "duration": 36,
    "start_time": "2023-05-22T05:21:13.995Z"
   },
   {
    "duration": 47,
    "start_time": "2023-05-22T05:21:14.033Z"
   },
   {
    "duration": 205,
    "start_time": "2023-05-22T05:21:14.081Z"
   },
   {
    "duration": 5,
    "start_time": "2023-05-22T05:21:36.267Z"
   },
   {
    "duration": 113,
    "start_time": "2023-05-22T05:21:37.290Z"
   },
   {
    "duration": 6,
    "start_time": "2023-05-22T05:21:44.086Z"
   },
   {
    "duration": 6,
    "start_time": "2023-05-22T05:21:53.845Z"
   },
   {
    "duration": 97,
    "start_time": "2023-05-22T05:35:40.753Z"
   },
   {
    "duration": 3610,
    "start_time": "2023-05-22T05:35:46.376Z"
   },
   {
    "duration": 18,
    "start_time": "2023-05-22T05:38:01.922Z"
   },
   {
    "duration": 22,
    "start_time": "2023-05-22T05:38:10.565Z"
   },
   {
    "duration": 134,
    "start_time": "2023-05-22T05:38:14.982Z"
   },
   {
    "duration": 12,
    "start_time": "2023-05-22T05:39:12.505Z"
   },
   {
    "duration": 143,
    "start_time": "2023-05-22T05:39:17.178Z"
   },
   {
    "duration": 151,
    "start_time": "2023-05-22T05:39:27.740Z"
   },
   {
    "duration": 7788,
    "start_time": "2023-05-22T05:40:33.792Z"
   },
   {
    "duration": 284,
    "start_time": "2023-05-22T05:41:40.966Z"
   },
   {
    "duration": 1206,
    "start_time": "2023-05-22T06:06:36.817Z"
   },
   {
    "duration": 1623,
    "start_time": "2023-05-22T06:07:11.645Z"
   },
   {
    "duration": 429,
    "start_time": "2023-05-22T06:07:21.521Z"
   },
   {
    "duration": 1878,
    "start_time": "2023-05-22T06:25:35.261Z"
   },
   {
    "duration": 25,
    "start_time": "2023-05-22T06:26:19.216Z"
   },
   {
    "duration": 20,
    "start_time": "2023-05-22T06:30:07.295Z"
   },
   {
    "duration": 17,
    "start_time": "2023-05-22T06:30:20.453Z"
   },
   {
    "duration": 7,
    "start_time": "2023-05-22T09:01:47.057Z"
   },
   {
    "duration": 126,
    "start_time": "2023-05-22T09:01:56.611Z"
   },
   {
    "duration": 196,
    "start_time": "2023-05-22T09:04:45.513Z"
   },
   {
    "duration": 120,
    "start_time": "2023-05-22T09:05:10.866Z"
   },
   {
    "duration": 133,
    "start_time": "2023-05-22T09:05:38.505Z"
   },
   {
    "duration": 451,
    "start_time": "2023-05-22T09:06:31.773Z"
   },
   {
    "duration": 145,
    "start_time": "2023-05-22T09:06:41.134Z"
   },
   {
    "duration": 145,
    "start_time": "2023-05-22T09:06:46.558Z"
   },
   {
    "duration": 141,
    "start_time": "2023-05-22T09:06:57.726Z"
   },
   {
    "duration": 180,
    "start_time": "2023-05-22T09:08:07.370Z"
   },
   {
    "duration": 167,
    "start_time": "2023-05-22T09:08:22.020Z"
   },
   {
    "duration": 5,
    "start_time": "2023-05-22T09:10:53.506Z"
   },
   {
    "duration": 148,
    "start_time": "2023-05-22T09:11:12.641Z"
   },
   {
    "duration": 147,
    "start_time": "2023-05-22T09:11:34.467Z"
   },
   {
    "duration": 169,
    "start_time": "2023-05-22T09:11:48.558Z"
   },
   {
    "duration": 169,
    "start_time": "2023-05-22T09:12:02.788Z"
   },
   {
    "duration": 273,
    "start_time": "2023-05-22T09:13:47.061Z"
   },
   {
    "duration": 19,
    "start_time": "2023-05-22T09:27:31.223Z"
   },
   {
    "duration": 103,
    "start_time": "2023-05-22T09:28:39.297Z"
   },
   {
    "duration": 6,
    "start_time": "2023-05-22T09:30:13.315Z"
   },
   {
    "duration": 107,
    "start_time": "2023-05-22T09:30:28.451Z"
   },
   {
    "duration": 17,
    "start_time": "2023-05-22T09:30:46.129Z"
   },
   {
    "duration": 13,
    "start_time": "2023-05-22T09:30:56.601Z"
   },
   {
    "duration": 83,
    "start_time": "2023-05-22T09:31:20.742Z"
   },
   {
    "duration": 96,
    "start_time": "2023-05-22T09:32:04.018Z"
   },
   {
    "duration": 22,
    "start_time": "2023-05-22T09:32:11.141Z"
   },
   {
    "duration": 401,
    "start_time": "2023-05-22T09:32:26.785Z"
   },
   {
    "duration": 346,
    "start_time": "2023-05-22T09:32:41.974Z"
   },
   {
    "duration": 5,
    "start_time": "2023-05-22T09:32:57.222Z"
   },
   {
    "duration": 5,
    "start_time": "2023-05-22T09:42:00.265Z"
   },
   {
    "duration": 255,
    "start_time": "2023-05-22T09:42:00.827Z"
   },
   {
    "duration": 228,
    "start_time": "2023-05-22T09:42:07.387Z"
   },
   {
    "duration": 275,
    "start_time": "2023-05-22T09:42:11.596Z"
   },
   {
    "duration": 261,
    "start_time": "2023-05-22T09:42:13.753Z"
   },
   {
    "duration": 412,
    "start_time": "2023-05-22T09:42:16.237Z"
   },
   {
    "duration": 4,
    "start_time": "2023-05-22T09:42:41.786Z"
   },
   {
    "duration": 246,
    "start_time": "2023-05-22T09:42:42.992Z"
   },
   {
    "duration": 246,
    "start_time": "2023-05-22T09:42:49.128Z"
   },
   {
    "duration": 253,
    "start_time": "2023-05-22T09:42:50.227Z"
   },
   {
    "duration": 314,
    "start_time": "2023-05-22T09:42:51.063Z"
   },
   {
    "duration": 301,
    "start_time": "2023-05-22T09:42:51.977Z"
   },
   {
    "duration": 266,
    "start_time": "2023-05-22T09:42:52.845Z"
   },
   {
    "duration": 498,
    "start_time": "2023-05-22T09:43:37.695Z"
   },
   {
    "duration": 3717,
    "start_time": "2023-05-22T09:45:02.533Z"
   },
   {
    "duration": 6,
    "start_time": "2023-05-22T09:45:25.951Z"
   },
   {
    "duration": 266,
    "start_time": "2023-05-22T09:45:28.309Z"
   },
   {
    "duration": 277,
    "start_time": "2023-05-22T09:46:21.770Z"
   },
   {
    "duration": 283,
    "start_time": "2023-05-22T09:46:26.415Z"
   },
   {
    "duration": 246,
    "start_time": "2023-05-22T09:48:16.899Z"
   },
   {
    "duration": 5,
    "start_time": "2023-05-22T09:55:47.106Z"
   },
   {
    "duration": 6,
    "start_time": "2023-05-22T09:55:48.546Z"
   },
   {
    "duration": 2438,
    "start_time": "2023-05-22T09:58:02.501Z"
   },
   {
    "duration": 1681,
    "start_time": "2023-05-22T09:58:04.942Z"
   },
   {
    "duration": 34,
    "start_time": "2023-05-22T09:58:06.625Z"
   },
   {
    "duration": 53,
    "start_time": "2023-05-22T09:58:06.661Z"
   },
   {
    "duration": 65,
    "start_time": "2023-05-22T09:58:06.717Z"
   },
   {
    "duration": 125,
    "start_time": "2023-05-22T09:58:06.786Z"
   },
   {
    "duration": 105,
    "start_time": "2023-05-22T09:58:06.914Z"
   },
   {
    "duration": 35,
    "start_time": "2023-05-22T09:58:07.022Z"
   },
   {
    "duration": 38,
    "start_time": "2023-05-22T09:58:07.060Z"
   },
   {
    "duration": 308,
    "start_time": "2023-05-22T09:58:07.100Z"
   },
   {
    "duration": 280,
    "start_time": "2023-05-22T09:58:07.410Z"
   },
   {
    "duration": 451,
    "start_time": "2023-05-22T09:58:07.693Z"
   },
   {
    "duration": 296,
    "start_time": "2023-05-22T09:58:08.146Z"
   },
   {
    "duration": 374,
    "start_time": "2023-05-22T09:58:08.447Z"
   },
   {
    "duration": 49,
    "start_time": "2023-05-22T09:58:08.822Z"
   },
   {
    "duration": 12,
    "start_time": "2023-05-22T09:58:08.873Z"
   },
   {
    "duration": 347,
    "start_time": "2023-05-22T09:58:08.887Z"
   },
   {
    "duration": 5,
    "start_time": "2023-05-22T09:58:09.236Z"
   },
   {
    "duration": 28,
    "start_time": "2023-05-22T09:58:09.243Z"
   },
   {
    "duration": 24,
    "start_time": "2023-05-22T09:58:09.274Z"
   },
   {
    "duration": 28,
    "start_time": "2023-05-22T09:58:09.300Z"
   },
   {
    "duration": 20,
    "start_time": "2023-05-22T09:58:09.331Z"
   },
   {
    "duration": 34,
    "start_time": "2023-05-22T09:58:09.353Z"
   },
   {
    "duration": 181,
    "start_time": "2023-05-22T09:58:09.390Z"
   },
   {
    "duration": 191,
    "start_time": "2023-05-22T09:58:09.574Z"
   },
   {
    "duration": 20,
    "start_time": "2023-05-22T09:58:09.768Z"
   },
   {
    "duration": 27,
    "start_time": "2023-05-22T09:58:09.791Z"
   },
   {
    "duration": 166,
    "start_time": "2023-05-22T09:58:09.821Z"
   },
   {
    "duration": 6,
    "start_time": "2023-05-22T09:58:51.623Z"
   },
   {
    "duration": 5,
    "start_time": "2023-05-22T09:58:59.341Z"
   },
   {
    "duration": 119,
    "start_time": "2023-05-22T10:03:10.724Z"
   },
   {
    "duration": 5,
    "start_time": "2023-05-22T10:03:23.458Z"
   },
   {
    "duration": 73,
    "start_time": "2023-05-22T10:03:25.605Z"
   },
   {
    "duration": 11,
    "start_time": "2023-05-22T10:03:36.842Z"
   },
   {
    "duration": 13,
    "start_time": "2023-05-22T10:03:45.911Z"
   },
   {
    "duration": 11,
    "start_time": "2023-05-22T10:04:40.661Z"
   },
   {
    "duration": 86,
    "start_time": "2023-05-22T10:05:38.414Z"
   },
   {
    "duration": 17,
    "start_time": "2023-05-22T10:05:45.940Z"
   },
   {
    "duration": 11,
    "start_time": "2023-05-22T10:06:05.538Z"
   },
   {
    "duration": 11,
    "start_time": "2023-05-22T10:06:14.436Z"
   },
   {
    "duration": 12,
    "start_time": "2023-05-22T10:06:23.364Z"
   },
   {
    "duration": 12,
    "start_time": "2023-05-22T10:06:29.590Z"
   },
   {
    "duration": 14,
    "start_time": "2023-05-22T10:06:57.822Z"
   },
   {
    "duration": 14,
    "start_time": "2023-05-22T10:06:58.580Z"
   },
   {
    "duration": 21,
    "start_time": "2023-05-22T10:07:32.837Z"
   },
   {
    "duration": 13,
    "start_time": "2023-05-22T10:11:10.774Z"
   },
   {
    "duration": 14,
    "start_time": "2023-05-22T10:16:00.468Z"
   },
   {
    "duration": 4,
    "start_time": "2023-05-22T10:16:37.542Z"
   },
   {
    "duration": 13,
    "start_time": "2023-05-22T10:17:22.938Z"
   },
   {
    "duration": 16,
    "start_time": "2023-05-22T10:17:29.297Z"
   },
   {
    "duration": 12,
    "start_time": "2023-05-22T10:17:33.340Z"
   },
   {
    "duration": 4,
    "start_time": "2023-05-22T10:18:17.150Z"
   },
   {
    "duration": 7,
    "start_time": "2023-05-22T10:18:25.468Z"
   },
   {
    "duration": 13,
    "start_time": "2023-05-22T10:18:35.084Z"
   },
   {
    "duration": 5,
    "start_time": "2023-05-22T10:18:38.406Z"
   },
   {
    "duration": 3,
    "start_time": "2023-05-22T10:19:12.167Z"
   },
   {
    "duration": 15,
    "start_time": "2023-05-22T10:19:17.598Z"
   },
   {
    "duration": 15,
    "start_time": "2023-05-22T10:30:09.559Z"
   },
   {
    "duration": 4,
    "start_time": "2023-05-22T10:30:22.001Z"
   },
   {
    "duration": 15,
    "start_time": "2023-05-22T10:30:27.980Z"
   },
   {
    "duration": 2357,
    "start_time": "2023-05-22T10:30:39.333Z"
   },
   {
    "duration": 1585,
    "start_time": "2023-05-22T10:30:41.693Z"
   },
   {
    "duration": 31,
    "start_time": "2023-05-22T10:30:43.280Z"
   },
   {
    "duration": 19,
    "start_time": "2023-05-22T10:30:43.313Z"
   },
   {
    "duration": 20,
    "start_time": "2023-05-22T10:30:43.335Z"
   },
   {
    "duration": 13,
    "start_time": "2023-05-22T10:30:43.357Z"
   },
   {
    "duration": 22,
    "start_time": "2023-05-22T10:30:43.372Z"
   },
   {
    "duration": 8,
    "start_time": "2023-05-22T10:30:43.396Z"
   },
   {
    "duration": 5,
    "start_time": "2023-05-22T10:30:43.406Z"
   },
   {
    "duration": 296,
    "start_time": "2023-05-22T10:30:43.413Z"
   },
   {
    "duration": 247,
    "start_time": "2023-05-22T10:30:43.711Z"
   },
   {
    "duration": 389,
    "start_time": "2023-05-22T10:30:43.960Z"
   },
   {
    "duration": 312,
    "start_time": "2023-05-22T10:30:44.351Z"
   },
   {
    "duration": 282,
    "start_time": "2023-05-22T10:30:44.673Z"
   },
   {
    "duration": 47,
    "start_time": "2023-05-22T10:30:44.958Z"
   },
   {
    "duration": 6,
    "start_time": "2023-05-22T10:30:45.008Z"
   },
   {
    "duration": 340,
    "start_time": "2023-05-22T10:30:45.016Z"
   },
   {
    "duration": 12,
    "start_time": "2023-05-22T10:30:45.359Z"
   },
   {
    "duration": 20,
    "start_time": "2023-05-22T10:30:45.374Z"
   },
   {
    "duration": 23,
    "start_time": "2023-05-22T10:30:45.397Z"
   },
   {
    "duration": 19,
    "start_time": "2023-05-22T10:30:45.422Z"
   },
   {
    "duration": 11,
    "start_time": "2023-05-22T10:30:45.443Z"
   },
   {
    "duration": 11,
    "start_time": "2023-05-22T10:30:45.473Z"
   },
   {
    "duration": 101,
    "start_time": "2023-05-22T10:30:45.488Z"
   },
   {
    "duration": 115,
    "start_time": "2023-05-22T10:30:45.670Z"
   },
   {
    "duration": 22,
    "start_time": "2023-05-22T10:30:45.787Z"
   },
   {
    "duration": 16,
    "start_time": "2023-05-22T10:30:45.811Z"
   },
   {
    "duration": 154,
    "start_time": "2023-05-22T10:30:45.829Z"
   },
   {
    "duration": 263,
    "start_time": "2023-05-22T10:30:45.985Z"
   },
   {
    "duration": 3541,
    "start_time": "2023-05-23T07:32:59.214Z"
   },
   {
    "duration": 1670,
    "start_time": "2023-05-23T07:33:02.757Z"
   },
   {
    "duration": 27,
    "start_time": "2023-05-23T07:33:04.429Z"
   },
   {
    "duration": 12,
    "start_time": "2023-05-23T07:33:04.458Z"
   },
   {
    "duration": 11,
    "start_time": "2023-05-23T07:33:04.472Z"
   },
   {
    "duration": 6,
    "start_time": "2023-05-23T07:33:04.485Z"
   },
   {
    "duration": 14,
    "start_time": "2023-05-23T07:33:04.492Z"
   },
   {
    "duration": 5,
    "start_time": "2023-05-23T07:33:04.507Z"
   },
   {
    "duration": 19,
    "start_time": "2023-05-23T07:33:04.513Z"
   },
   {
    "duration": 229,
    "start_time": "2023-05-23T07:33:04.534Z"
   },
   {
    "duration": 219,
    "start_time": "2023-05-23T07:33:04.765Z"
   },
   {
    "duration": 303,
    "start_time": "2023-05-23T07:33:04.986Z"
   },
   {
    "duration": 245,
    "start_time": "2023-05-23T07:33:05.291Z"
   },
   {
    "duration": 226,
    "start_time": "2023-05-23T07:33:05.538Z"
   },
   {
    "duration": 32,
    "start_time": "2023-05-23T07:33:05.765Z"
   },
   {
    "duration": 3,
    "start_time": "2023-05-23T07:33:05.799Z"
   },
   {
    "duration": 315,
    "start_time": "2023-05-23T07:33:05.804Z"
   },
   {
    "duration": 3,
    "start_time": "2023-05-23T07:33:06.121Z"
   },
   {
    "duration": 11,
    "start_time": "2023-05-23T07:33:06.126Z"
   },
   {
    "duration": 4,
    "start_time": "2023-05-23T07:33:06.138Z"
   },
   {
    "duration": 5,
    "start_time": "2023-05-23T07:33:06.144Z"
   },
   {
    "duration": 29,
    "start_time": "2023-05-23T07:33:06.151Z"
   },
   {
    "duration": 104,
    "start_time": "2023-05-23T07:33:06.182Z"
   },
   {
    "duration": 87,
    "start_time": "2023-05-23T07:33:06.291Z"
   },
   {
    "duration": 195,
    "start_time": "2023-05-23T07:33:06.382Z"
   },
   {
    "duration": 11,
    "start_time": "2023-05-23T07:33:06.579Z"
   },
   {
    "duration": 11,
    "start_time": "2023-05-23T07:33:06.592Z"
   },
   {
    "duration": 77,
    "start_time": "2023-05-23T07:33:06.607Z"
   },
   {
    "duration": 52,
    "start_time": "2023-05-23T08:07:37.303Z"
   },
   {
    "duration": 3062,
    "start_time": "2023-05-23T08:07:46.055Z"
   },
   {
    "duration": 1540,
    "start_time": "2023-05-23T08:07:49.119Z"
   },
   {
    "duration": 86,
    "start_time": "2023-05-23T08:07:50.661Z"
   },
   {
    "duration": 13,
    "start_time": "2023-05-23T08:07:50.748Z"
   },
   {
    "duration": 11,
    "start_time": "2023-05-23T08:07:50.763Z"
   },
   {
    "duration": 7,
    "start_time": "2023-05-23T08:07:50.775Z"
   },
   {
    "duration": 19,
    "start_time": "2023-05-23T08:07:50.784Z"
   },
   {
    "duration": 5,
    "start_time": "2023-05-23T08:07:50.804Z"
   },
   {
    "duration": 13,
    "start_time": "2023-05-23T08:07:50.810Z"
   },
   {
    "duration": 233,
    "start_time": "2023-05-23T08:07:50.825Z"
   },
   {
    "duration": 203,
    "start_time": "2023-05-23T08:07:51.059Z"
   },
   {
    "duration": 322,
    "start_time": "2023-05-23T08:07:51.263Z"
   },
   {
    "duration": 233,
    "start_time": "2023-05-23T08:07:51.587Z"
   },
   {
    "duration": 231,
    "start_time": "2023-05-23T08:07:51.823Z"
   },
   {
    "duration": 38,
    "start_time": "2023-05-23T08:07:52.056Z"
   },
   {
    "duration": 4,
    "start_time": "2023-05-23T08:07:52.096Z"
   },
   {
    "duration": 363,
    "start_time": "2023-05-23T08:07:52.102Z"
   },
   {
    "duration": 5,
    "start_time": "2023-05-23T08:07:52.477Z"
   },
   {
    "duration": 14,
    "start_time": "2023-05-23T08:07:52.484Z"
   },
   {
    "duration": 16,
    "start_time": "2023-05-23T08:07:52.499Z"
   },
   {
    "duration": 16,
    "start_time": "2023-05-23T08:07:52.516Z"
   },
   {
    "duration": 17,
    "start_time": "2023-05-23T08:07:52.534Z"
   },
   {
    "duration": 42,
    "start_time": "2023-05-23T08:07:52.553Z"
   },
   {
    "duration": 83,
    "start_time": "2023-05-23T08:07:52.597Z"
   },
   {
    "duration": 102,
    "start_time": "2023-05-23T08:07:52.682Z"
   },
   {
    "duration": 192,
    "start_time": "2023-05-23T08:07:52.786Z"
   },
   {
    "duration": 3,
    "start_time": "2023-05-23T08:07:52.980Z"
   },
   {
    "duration": 30,
    "start_time": "2023-05-23T08:07:52.985Z"
   },
   {
    "duration": 66,
    "start_time": "2023-05-23T08:07:53.018Z"
   },
   {
    "duration": 14,
    "start_time": "2023-05-23T08:08:17.318Z"
   },
   {
    "duration": 13,
    "start_time": "2023-05-23T08:09:33.266Z"
   },
   {
    "duration": 12,
    "start_time": "2023-05-23T08:09:55.711Z"
   },
   {
    "duration": 9,
    "start_time": "2023-05-23T10:37:16.584Z"
   },
   {
    "duration": 50,
    "start_time": "2023-05-23T10:37:18.164Z"
   },
   {
    "duration": 3685,
    "start_time": "2023-05-23T10:37:24.519Z"
   },
   {
    "duration": 1831,
    "start_time": "2023-05-23T10:37:28.206Z"
   },
   {
    "duration": 86,
    "start_time": "2023-05-23T10:37:30.040Z"
   },
   {
    "duration": 15,
    "start_time": "2023-05-23T10:37:30.129Z"
   },
   {
    "duration": 75,
    "start_time": "2023-05-23T10:37:30.147Z"
   },
   {
    "duration": 41,
    "start_time": "2023-05-23T10:37:30.224Z"
   },
   {
    "duration": 132,
    "start_time": "2023-05-23T10:37:30.267Z"
   },
   {
    "duration": 83,
    "start_time": "2023-05-23T10:37:30.401Z"
   },
   {
    "duration": 134,
    "start_time": "2023-05-23T10:37:30.487Z"
   },
   {
    "duration": 531,
    "start_time": "2023-05-23T10:37:30.624Z"
   },
   {
    "duration": 306,
    "start_time": "2023-05-23T10:37:31.156Z"
   },
   {
    "duration": 451,
    "start_time": "2023-05-23T10:37:31.464Z"
   },
   {
    "duration": 324,
    "start_time": "2023-05-23T10:37:31.917Z"
   },
   {
    "duration": 288,
    "start_time": "2023-05-23T10:37:32.243Z"
   },
   {
    "duration": 26,
    "start_time": "2023-05-23T10:37:32.532Z"
   },
   {
    "duration": 16,
    "start_time": "2023-05-23T10:37:32.559Z"
   },
   {
    "duration": 315,
    "start_time": "2023-05-23T10:37:32.584Z"
   },
   {
    "duration": 5,
    "start_time": "2023-05-23T10:37:32.900Z"
   },
   {
    "duration": 15,
    "start_time": "2023-05-23T10:37:32.907Z"
   },
   {
    "duration": 6,
    "start_time": "2023-05-23T10:37:32.924Z"
   },
   {
    "duration": 10,
    "start_time": "2023-05-23T10:37:32.932Z"
   },
   {
    "duration": 39,
    "start_time": "2023-05-23T10:37:32.944Z"
   },
   {
    "duration": 90,
    "start_time": "2023-05-23T10:37:32.985Z"
   },
   {
    "duration": 20,
    "start_time": "2023-05-23T10:37:33.079Z"
   },
   {
    "duration": 33,
    "start_time": "2023-05-23T10:37:33.101Z"
   },
   {
    "duration": 40,
    "start_time": "2023-05-23T10:37:33.135Z"
   },
   {
    "duration": 137,
    "start_time": "2023-05-23T10:37:33.177Z"
   },
   {
    "duration": 186,
    "start_time": "2023-05-23T10:37:33.319Z"
   },
   {
    "duration": 117,
    "start_time": "2023-05-23T10:37:33.507Z"
   },
   {
    "duration": 29,
    "start_time": "2023-05-23T10:37:33.626Z"
   },
   {
    "duration": 136,
    "start_time": "2023-05-23T10:37:33.657Z"
   },
   {
    "duration": 4,
    "start_time": "2023-05-23T10:38:04.138Z"
   },
   {
    "duration": 359,
    "start_time": "2023-05-23T10:38:04.741Z"
   },
   {
    "duration": 213,
    "start_time": "2023-05-23T10:38:06.421Z"
   },
   {
    "duration": 207,
    "start_time": "2023-05-23T10:38:06.908Z"
   },
   {
    "duration": 207,
    "start_time": "2023-05-23T10:38:07.339Z"
   },
   {
    "duration": 162,
    "start_time": "2023-05-23T10:38:08.405Z"
   },
   {
    "duration": 5,
    "start_time": "2023-05-23T10:38:45.781Z"
   },
   {
    "duration": 246,
    "start_time": "2023-05-23T10:38:46.939Z"
   },
   {
    "duration": 13,
    "start_time": "2023-05-23T10:43:24.907Z"
   },
   {
    "duration": 11,
    "start_time": "2023-05-23T10:43:36.880Z"
   },
   {
    "duration": 254,
    "start_time": "2023-05-23T10:44:06.190Z"
   },
   {
    "duration": 1496,
    "start_time": "2023-05-23T10:44:26.833Z"
   },
   {
    "duration": 7400,
    "start_time": "2023-05-23T10:44:35.138Z"
   },
   {
    "duration": 8262,
    "start_time": "2023-05-23T10:44:54.693Z"
   },
   {
    "duration": 8684,
    "start_time": "2023-05-23T10:45:21.797Z"
   },
   {
    "duration": 8869,
    "start_time": "2023-05-23T10:46:58.940Z"
   },
   {
    "duration": 8855,
    "start_time": "2023-05-23T10:47:20.755Z"
   },
   {
    "duration": 9258,
    "start_time": "2023-05-23T10:48:27.653Z"
   },
   {
    "duration": 9165,
    "start_time": "2023-05-23T11:02:39.840Z"
   },
   {
    "duration": 9162,
    "start_time": "2023-05-23T11:05:25.225Z"
   },
   {
    "duration": 9068,
    "start_time": "2023-05-23T11:05:42.343Z"
   },
   {
    "duration": 128,
    "start_time": "2023-05-23T11:06:14.599Z"
   },
   {
    "duration": 2914,
    "start_time": "2023-05-24T08:52:54.319Z"
   },
   {
    "duration": 1351,
    "start_time": "2023-05-24T08:52:57.235Z"
   },
   {
    "duration": 101,
    "start_time": "2023-05-24T08:52:58.588Z"
   },
   {
    "duration": 12,
    "start_time": "2023-05-24T08:52:58.690Z"
   },
   {
    "duration": 21,
    "start_time": "2023-05-24T08:52:58.705Z"
   },
   {
    "duration": 7,
    "start_time": "2023-05-24T08:52:58.728Z"
   },
   {
    "duration": 20,
    "start_time": "2023-05-24T08:52:58.737Z"
   },
   {
    "duration": 4,
    "start_time": "2023-05-24T08:52:58.759Z"
   },
   {
    "duration": 125,
    "start_time": "2023-05-24T08:52:58.764Z"
   },
   {
    "duration": 0,
    "start_time": "2023-05-24T08:52:58.891Z"
   },
   {
    "duration": 0,
    "start_time": "2023-05-24T08:52:58.893Z"
   },
   {
    "duration": 0,
    "start_time": "2023-05-24T08:52:58.894Z"
   },
   {
    "duration": 0,
    "start_time": "2023-05-24T08:52:58.896Z"
   },
   {
    "duration": 0,
    "start_time": "2023-05-24T08:52:58.906Z"
   },
   {
    "duration": 0,
    "start_time": "2023-05-24T08:52:58.908Z"
   },
   {
    "duration": 0,
    "start_time": "2023-05-24T08:52:58.909Z"
   },
   {
    "duration": 0,
    "start_time": "2023-05-24T08:52:58.910Z"
   },
   {
    "duration": 0,
    "start_time": "2023-05-24T08:52:58.911Z"
   },
   {
    "duration": 0,
    "start_time": "2023-05-24T08:52:58.912Z"
   },
   {
    "duration": 0,
    "start_time": "2023-05-24T08:52:58.913Z"
   },
   {
    "duration": 0,
    "start_time": "2023-05-24T08:52:58.914Z"
   },
   {
    "duration": 0,
    "start_time": "2023-05-24T08:52:58.915Z"
   },
   {
    "duration": 0,
    "start_time": "2023-05-24T08:52:58.916Z"
   },
   {
    "duration": 0,
    "start_time": "2023-05-24T08:52:58.917Z"
   },
   {
    "duration": 0,
    "start_time": "2023-05-24T08:52:58.918Z"
   },
   {
    "duration": 0,
    "start_time": "2023-05-24T08:52:58.919Z"
   },
   {
    "duration": 0,
    "start_time": "2023-05-24T08:52:58.921Z"
   },
   {
    "duration": 0,
    "start_time": "2023-05-24T08:52:58.922Z"
   },
   {
    "duration": 0,
    "start_time": "2023-05-24T08:52:58.924Z"
   },
   {
    "duration": 0,
    "start_time": "2023-05-24T08:52:58.925Z"
   },
   {
    "duration": 0,
    "start_time": "2023-05-24T08:52:58.926Z"
   },
   {
    "duration": 0,
    "start_time": "2023-05-24T08:52:58.927Z"
   },
   {
    "duration": 6230,
    "start_time": "2023-05-24T08:53:19.992Z"
   },
   {
    "duration": 118,
    "start_time": "2023-05-24T08:55:08.607Z"
   },
   {
    "duration": 110,
    "start_time": "2023-05-24T08:55:17.994Z"
   },
   {
    "duration": 53,
    "start_time": "2023-05-24T09:05:36.066Z"
   },
   {
    "duration": 44,
    "start_time": "2023-05-24T09:05:47.866Z"
   },
   {
    "duration": 134,
    "start_time": "2023-05-24T09:05:52.977Z"
   },
   {
    "duration": 97,
    "start_time": "2023-05-24T09:08:41.402Z"
   },
   {
    "duration": 95,
    "start_time": "2023-05-24T09:08:49.153Z"
   },
   {
    "duration": 16,
    "start_time": "2023-05-24T09:09:01.274Z"
   },
   {
    "duration": 13,
    "start_time": "2023-05-24T09:09:26.080Z"
   },
   {
    "duration": 8,
    "start_time": "2023-05-24T09:09:40.481Z"
   },
   {
    "duration": 128,
    "start_time": "2023-05-24T09:09:59.353Z"
   },
   {
    "duration": 72,
    "start_time": "2023-05-24T09:16:25.752Z"
   },
   {
    "duration": 6441,
    "start_time": "2023-05-24T09:16:49.075Z"
   },
   {
    "duration": 85820,
    "start_time": "2023-05-24T09:18:40.849Z"
   },
   {
    "duration": 53474,
    "start_time": "2023-05-24T09:27:41.733Z"
   },
   {
    "duration": 3,
    "start_time": "2023-05-24T09:29:16.885Z"
   },
   {
    "duration": 51576,
    "start_time": "2023-05-24T09:29:36.483Z"
   },
   {
    "duration": 5,
    "start_time": "2023-05-24T09:30:28.061Z"
   },
   {
    "duration": 7,
    "start_time": "2023-05-24T09:31:54.795Z"
   },
   {
    "duration": 10,
    "start_time": "2023-05-24T09:32:32.720Z"
   },
   {
    "duration": 4,
    "start_time": "2023-05-24T09:32:41.867Z"
   },
   {
    "duration": 5,
    "start_time": "2023-05-24T09:32:43.401Z"
   },
   {
    "duration": 11,
    "start_time": "2023-05-24T09:32:45.460Z"
   },
   {
    "duration": 4,
    "start_time": "2023-05-24T09:33:02.219Z"
   },
   {
    "duration": 8,
    "start_time": "2023-05-24T09:33:55.817Z"
   },
   {
    "duration": 4,
    "start_time": "2023-05-24T09:34:03.379Z"
   },
   {
    "duration": 4,
    "start_time": "2023-05-24T09:34:21.496Z"
   },
   {
    "duration": 4,
    "start_time": "2023-05-24T09:34:27.464Z"
   },
   {
    "duration": 4,
    "start_time": "2023-05-24T09:34:35.223Z"
   },
   {
    "duration": 5,
    "start_time": "2023-05-24T09:34:59.678Z"
   },
   {
    "duration": 5,
    "start_time": "2023-05-24T09:35:12.368Z"
   },
   {
    "duration": 5,
    "start_time": "2023-05-24T09:35:27.664Z"
   },
   {
    "duration": 4,
    "start_time": "2023-05-24T09:35:34.777Z"
   },
   {
    "duration": 4,
    "start_time": "2023-05-24T09:35:41.384Z"
   },
   {
    "duration": 4,
    "start_time": "2023-05-24T09:35:52.949Z"
   },
   {
    "duration": 4,
    "start_time": "2023-05-24T09:36:17.265Z"
   },
   {
    "duration": 4,
    "start_time": "2023-05-24T09:36:26.187Z"
   },
   {
    "duration": 4,
    "start_time": "2023-05-24T09:36:26.923Z"
   },
   {
    "duration": 4,
    "start_time": "2023-05-24T09:36:32.260Z"
   },
   {
    "duration": 5,
    "start_time": "2023-05-24T09:36:33.802Z"
   },
   {
    "duration": 4,
    "start_time": "2023-05-24T09:37:28.773Z"
   },
   {
    "duration": 4,
    "start_time": "2023-05-24T09:37:47.469Z"
   },
   {
    "duration": 5,
    "start_time": "2023-05-24T09:38:06.680Z"
   },
   {
    "duration": 6,
    "start_time": "2023-05-24T09:38:11.324Z"
   },
   {
    "duration": 4,
    "start_time": "2023-05-24T09:38:13.485Z"
   },
   {
    "duration": 5,
    "start_time": "2023-05-24T09:38:45.300Z"
   },
   {
    "duration": 5,
    "start_time": "2023-05-24T09:38:59.524Z"
   },
   {
    "duration": 3,
    "start_time": "2023-05-24T09:39:05.869Z"
   },
   {
    "duration": 4,
    "start_time": "2023-05-24T09:39:11.873Z"
   },
   {
    "duration": 6,
    "start_time": "2023-05-24T09:39:17.277Z"
   },
   {
    "duration": 5,
    "start_time": "2023-05-24T09:39:25.960Z"
   },
   {
    "duration": 6,
    "start_time": "2023-05-24T09:40:33.885Z"
   },
   {
    "duration": 9,
    "start_time": "2023-05-24T09:47:28.010Z"
   },
   {
    "duration": 15,
    "start_time": "2023-05-24T09:47:43.893Z"
   },
   {
    "duration": 3,
    "start_time": "2023-05-24T09:47:56.157Z"
   },
   {
    "duration": 12,
    "start_time": "2023-05-24T09:48:02.765Z"
   },
   {
    "duration": 11,
    "start_time": "2023-05-24T09:48:18.399Z"
   },
   {
    "duration": 13,
    "start_time": "2023-05-24T09:48:33.522Z"
   },
   {
    "duration": 14,
    "start_time": "2023-05-24T09:49:57.266Z"
   },
   {
    "duration": 5,
    "start_time": "2023-05-24T09:50:48.557Z"
   },
   {
    "duration": 5,
    "start_time": "2023-05-24T09:51:39.065Z"
   },
   {
    "duration": 8,
    "start_time": "2023-05-24T09:51:42.761Z"
   },
   {
    "duration": 9,
    "start_time": "2023-05-24T09:52:29.704Z"
   },
   {
    "duration": 8,
    "start_time": "2023-05-24T09:52:45.576Z"
   },
   {
    "duration": 9,
    "start_time": "2023-05-24T09:52:48.916Z"
   },
   {
    "duration": 9,
    "start_time": "2023-05-24T09:52:53.261Z"
   },
   {
    "duration": 4,
    "start_time": "2023-05-24T09:53:12.301Z"
   },
   {
    "duration": 15,
    "start_time": "2023-05-24T09:53:14.718Z"
   },
   {
    "duration": 11,
    "start_time": "2023-05-24T09:56:37.786Z"
   },
   {
    "duration": 5,
    "start_time": "2023-05-24T09:56:44.598Z"
   },
   {
    "duration": 4,
    "start_time": "2023-05-24T09:56:52.057Z"
   },
   {
    "duration": 4,
    "start_time": "2023-05-24T09:56:53.372Z"
   },
   {
    "duration": 4,
    "start_time": "2023-05-24T09:56:54.565Z"
   },
   {
    "duration": 4,
    "start_time": "2023-05-24T09:56:56.276Z"
   },
   {
    "duration": 4,
    "start_time": "2023-05-24T09:57:03.686Z"
   },
   {
    "duration": 14,
    "start_time": "2023-05-24T09:57:06.661Z"
   },
   {
    "duration": 12,
    "start_time": "2023-05-24T09:57:16.961Z"
   },
   {
    "duration": 14,
    "start_time": "2023-05-24T09:57:20.888Z"
   },
   {
    "duration": 5,
    "start_time": "2023-05-24T09:58:58.324Z"
   },
   {
    "duration": 14,
    "start_time": "2023-05-24T09:59:25.761Z"
   },
   {
    "duration": 5,
    "start_time": "2023-05-24T09:59:46.265Z"
   },
   {
    "duration": 12,
    "start_time": "2023-05-24T09:59:51.425Z"
   },
   {
    "duration": 12,
    "start_time": "2023-05-24T10:00:07.919Z"
   },
   {
    "duration": 12,
    "start_time": "2023-05-24T10:00:28.390Z"
   },
   {
    "duration": 6,
    "start_time": "2023-05-24T10:04:22.573Z"
   },
   {
    "duration": 5,
    "start_time": "2023-05-24T10:04:23.811Z"
   },
   {
    "duration": 4,
    "start_time": "2023-05-24T10:04:26.296Z"
   },
   {
    "duration": 4,
    "start_time": "2023-05-24T10:04:32.136Z"
   },
   {
    "duration": 5,
    "start_time": "2023-05-24T10:04:42.402Z"
   },
   {
    "duration": 25,
    "start_time": "2023-05-24T10:06:21.373Z"
   },
   {
    "duration": 23,
    "start_time": "2023-05-24T10:06:36.989Z"
   },
   {
    "duration": 29,
    "start_time": "2023-05-24T10:56:33.798Z"
   },
   {
    "duration": 12,
    "start_time": "2023-05-24T10:56:35.111Z"
   },
   {
    "duration": 14,
    "start_time": "2023-05-24T10:56:37.160Z"
   },
   {
    "duration": 10,
    "start_time": "2023-05-24T10:56:51.344Z"
   },
   {
    "duration": 18,
    "start_time": "2023-05-24T10:56:54.205Z"
   },
   {
    "duration": 14,
    "start_time": "2023-05-24T10:57:37.179Z"
   },
   {
    "duration": 3,
    "start_time": "2023-05-24T11:08:25.554Z"
   },
   {
    "duration": 306,
    "start_time": "2023-05-24T11:08:26.185Z"
   },
   {
    "duration": 159,
    "start_time": "2023-05-24T11:08:29.253Z"
   },
   {
    "duration": 162,
    "start_time": "2023-05-24T11:08:31.054Z"
   },
   {
    "duration": 191,
    "start_time": "2023-05-24T11:08:32.345Z"
   },
   {
    "duration": 125,
    "start_time": "2023-05-24T11:08:34.285Z"
   },
   {
    "duration": 3,
    "start_time": "2023-05-24T11:10:06.858Z"
   },
   {
    "duration": 154,
    "start_time": "2023-05-24T11:10:08.187Z"
   },
   {
    "duration": 113,
    "start_time": "2023-05-24T11:10:09.157Z"
   },
   {
    "duration": 136,
    "start_time": "2023-05-24T11:10:15.020Z"
   },
   {
    "duration": 133,
    "start_time": "2023-05-24T11:10:18.056Z"
   },
   {
    "duration": 149,
    "start_time": "2023-05-24T11:10:19.710Z"
   },
   {
    "duration": 308,
    "start_time": "2023-05-24T11:14:43.361Z"
   },
   {
    "duration": 18,
    "start_time": "2023-05-24T11:16:14.390Z"
   },
   {
    "duration": 2149,
    "start_time": "2023-05-24T11:16:23.186Z"
   },
   {
    "duration": 1696,
    "start_time": "2023-05-24T11:16:25.337Z"
   },
   {
    "duration": 30,
    "start_time": "2023-05-24T11:16:27.034Z"
   },
   {
    "duration": 13,
    "start_time": "2023-05-24T11:16:27.066Z"
   },
   {
    "duration": 28,
    "start_time": "2023-05-24T11:16:27.080Z"
   },
   {
    "duration": 12,
    "start_time": "2023-05-24T11:16:27.110Z"
   },
   {
    "duration": 19,
    "start_time": "2023-05-24T11:16:27.124Z"
   },
   {
    "duration": 7,
    "start_time": "2023-05-24T11:16:27.144Z"
   },
   {
    "duration": 30130,
    "start_time": "2023-05-24T11:16:27.153Z"
   },
   {
    "duration": 6587,
    "start_time": "2023-05-24T11:16:57.285Z"
   },
   {
    "duration": 3,
    "start_time": "2023-05-24T11:17:03.874Z"
   },
   {
    "duration": 145,
    "start_time": "2023-05-24T11:17:03.879Z"
   },
   {
    "duration": 121,
    "start_time": "2023-05-24T11:17:04.026Z"
   },
   {
    "duration": 144,
    "start_time": "2023-05-24T11:17:04.149Z"
   },
   {
    "duration": 129,
    "start_time": "2023-05-24T11:17:04.295Z"
   },
   {
    "duration": 127,
    "start_time": "2023-05-24T11:17:04.426Z"
   },
   {
    "duration": 21,
    "start_time": "2023-05-24T11:17:04.554Z"
   },
   {
    "duration": 3,
    "start_time": "2023-05-24T11:17:04.577Z"
   },
   {
    "duration": 280,
    "start_time": "2023-05-24T11:17:04.582Z"
   },
   {
    "duration": 3,
    "start_time": "2023-05-24T11:17:04.864Z"
   },
   {
    "duration": 8,
    "start_time": "2023-05-24T11:17:04.869Z"
   },
   {
    "duration": 12,
    "start_time": "2023-05-24T11:17:04.879Z"
   },
   {
    "duration": 14,
    "start_time": "2023-05-24T11:17:04.893Z"
   },
   {
    "duration": 6,
    "start_time": "2023-05-24T11:17:04.909Z"
   },
   {
    "duration": 448,
    "start_time": "2023-05-24T11:17:04.917Z"
   },
   {
    "duration": 0,
    "start_time": "2023-05-24T11:17:05.367Z"
   },
   {
    "duration": 0,
    "start_time": "2023-05-24T11:17:05.369Z"
   },
   {
    "duration": 0,
    "start_time": "2023-05-24T11:17:05.370Z"
   },
   {
    "duration": 0,
    "start_time": "2023-05-24T11:17:05.371Z"
   },
   {
    "duration": 0,
    "start_time": "2023-05-24T11:17:05.372Z"
   },
   {
    "duration": 5,
    "start_time": "2023-05-24T11:18:44.386Z"
   },
   {
    "duration": 3,
    "start_time": "2023-05-24T11:18:55.979Z"
   },
   {
    "duration": 17,
    "start_time": "2023-05-24T11:19:05.038Z"
   },
   {
    "duration": 5,
    "start_time": "2023-05-24T11:19:13.365Z"
   },
   {
    "duration": 4,
    "start_time": "2023-05-24T11:19:15.399Z"
   },
   {
    "duration": 7,
    "start_time": "2023-05-24T11:24:28.216Z"
   },
   {
    "duration": 10,
    "start_time": "2023-05-24T11:24:50.774Z"
   },
   {
    "duration": 6,
    "start_time": "2023-05-24T11:25:25.086Z"
   },
   {
    "duration": 4,
    "start_time": "2023-05-24T11:29:42.160Z"
   },
   {
    "duration": 4,
    "start_time": "2023-05-24T11:29:45.411Z"
   },
   {
    "duration": 5,
    "start_time": "2023-05-24T11:29:46.624Z"
   },
   {
    "duration": 6,
    "start_time": "2023-05-24T11:30:03.884Z"
   },
   {
    "duration": 3408,
    "start_time": "2023-05-25T22:22:29.171Z"
   },
   {
    "duration": 1609,
    "start_time": "2023-05-25T22:22:32.582Z"
   },
   {
    "duration": 83,
    "start_time": "2023-05-25T22:22:34.193Z"
   },
   {
    "duration": 13,
    "start_time": "2023-05-25T22:22:34.278Z"
   },
   {
    "duration": 12,
    "start_time": "2023-05-25T22:22:34.293Z"
   },
   {
    "duration": 6,
    "start_time": "2023-05-25T22:22:34.307Z"
   },
   {
    "duration": 22,
    "start_time": "2023-05-25T22:22:34.315Z"
   },
   {
    "duration": 5,
    "start_time": "2023-05-25T22:22:34.339Z"
   },
   {
    "duration": 4,
    "start_time": "2023-05-25T22:22:34.346Z"
   },
   {
    "duration": 167,
    "start_time": "2023-05-25T22:22:34.352Z"
   },
   {
    "duration": 151,
    "start_time": "2023-05-25T22:22:34.521Z"
   },
   {
    "duration": 162,
    "start_time": "2023-05-25T22:22:34.673Z"
   },
   {
    "duration": 159,
    "start_time": "2023-05-25T22:22:34.837Z"
   },
   {
    "duration": 231,
    "start_time": "2023-05-25T22:22:34.999Z"
   },
   {
    "duration": 24,
    "start_time": "2023-05-25T22:22:35.232Z"
   },
   {
    "duration": 3,
    "start_time": "2023-05-25T22:22:35.258Z"
   },
   {
    "duration": 349,
    "start_time": "2023-05-25T22:22:35.263Z"
   },
   {
    "duration": 5,
    "start_time": "2023-05-25T22:22:35.624Z"
   },
   {
    "duration": 12,
    "start_time": "2023-05-25T22:22:35.631Z"
   },
   {
    "duration": 80,
    "start_time": "2023-05-25T22:22:35.645Z"
   },
   {
    "duration": 9,
    "start_time": "2023-05-25T22:22:35.727Z"
   },
   {
    "duration": 90,
    "start_time": "2023-05-25T22:22:35.738Z"
   },
   {
    "duration": 96,
    "start_time": "2023-05-25T22:22:35.830Z"
   },
   {
    "duration": 97,
    "start_time": "2023-05-25T22:22:35.931Z"
   },
   {
    "duration": 96,
    "start_time": "2023-05-25T22:22:36.030Z"
   },
   {
    "duration": 8,
    "start_time": "2023-05-25T22:22:36.128Z"
   },
   {
    "duration": 14,
    "start_time": "2023-05-25T22:22:36.137Z"
   },
   {
    "duration": 14,
    "start_time": "2023-05-25T22:22:36.153Z"
   },
   {
    "duration": 8,
    "start_time": "2023-05-25T22:22:50.503Z"
   },
   {
    "duration": 15,
    "start_time": "2023-05-25T22:24:54.266Z"
   },
   {
    "duration": 5,
    "start_time": "2023-05-25T22:25:54.904Z"
   },
   {
    "duration": 4,
    "start_time": "2023-05-25T22:26:31.717Z"
   },
   {
    "duration": 6,
    "start_time": "2023-05-25T22:26:44.056Z"
   },
   {
    "duration": 4,
    "start_time": "2023-05-25T22:26:50.282Z"
   },
   {
    "duration": 4,
    "start_time": "2023-05-25T22:28:00.549Z"
   },
   {
    "duration": 5,
    "start_time": "2023-05-25T22:28:44.434Z"
   },
   {
    "duration": 146,
    "start_time": "2023-05-25T22:30:42.575Z"
   },
   {
    "duration": 11,
    "start_time": "2023-05-25T22:31:09.340Z"
   },
   {
    "duration": 10,
    "start_time": "2023-05-25T22:31:30.787Z"
   },
   {
    "duration": 10,
    "start_time": "2023-05-25T22:31:37.448Z"
   },
   {
    "duration": 14,
    "start_time": "2023-05-25T22:31:47.139Z"
   },
   {
    "duration": 24,
    "start_time": "2023-05-25T22:32:56.655Z"
   },
   {
    "duration": 28,
    "start_time": "2023-05-25T22:33:41.399Z"
   },
   {
    "duration": 27,
    "start_time": "2023-05-25T22:34:27.492Z"
   },
   {
    "duration": 31,
    "start_time": "2023-05-25T22:34:58.276Z"
   },
   {
    "duration": 28,
    "start_time": "2023-05-25T22:35:28.842Z"
   },
   {
    "duration": 24,
    "start_time": "2023-05-25T22:36:02.486Z"
   },
   {
    "duration": 2298,
    "start_time": "2023-05-25T22:36:20.974Z"
   },
   {
    "duration": 1433,
    "start_time": "2023-05-25T22:36:23.274Z"
   },
   {
    "duration": 32,
    "start_time": "2023-05-25T22:36:24.709Z"
   },
   {
    "duration": 13,
    "start_time": "2023-05-25T22:36:24.744Z"
   },
   {
    "duration": 12,
    "start_time": "2023-05-25T22:36:24.759Z"
   },
   {
    "duration": 23,
    "start_time": "2023-05-25T22:36:24.772Z"
   },
   {
    "duration": 18,
    "start_time": "2023-05-25T22:36:24.797Z"
   },
   {
    "duration": 8,
    "start_time": "2023-05-25T22:36:24.817Z"
   },
   {
    "duration": 4,
    "start_time": "2023-05-25T22:36:24.827Z"
   },
   {
    "duration": 176,
    "start_time": "2023-05-25T22:36:24.834Z"
   },
   {
    "duration": 155,
    "start_time": "2023-05-25T22:36:25.011Z"
   },
   {
    "duration": 171,
    "start_time": "2023-05-25T22:36:25.168Z"
   },
   {
    "duration": 161,
    "start_time": "2023-05-25T22:36:25.341Z"
   },
   {
    "duration": 253,
    "start_time": "2023-05-25T22:36:25.504Z"
   },
   {
    "duration": 24,
    "start_time": "2023-05-25T22:36:25.758Z"
   },
   {
    "duration": 4,
    "start_time": "2023-05-25T22:36:25.784Z"
   },
   {
    "duration": 301,
    "start_time": "2023-05-25T22:36:25.789Z"
   },
   {
    "duration": 4,
    "start_time": "2023-05-25T22:36:26.092Z"
   },
   {
    "duration": 6,
    "start_time": "2023-05-25T22:36:26.098Z"
   },
   {
    "duration": 20,
    "start_time": "2023-05-25T22:36:26.106Z"
   },
   {
    "duration": 16,
    "start_time": "2023-05-25T22:36:26.128Z"
   },
   {
    "duration": 88,
    "start_time": "2023-05-25T22:36:26.146Z"
   },
   {
    "duration": 7,
    "start_time": "2023-05-25T22:36:26.236Z"
   },
   {
    "duration": 82,
    "start_time": "2023-05-25T22:36:26.245Z"
   },
   {
    "duration": 14,
    "start_time": "2023-05-25T22:36:26.329Z"
   },
   {
    "duration": 8,
    "start_time": "2023-05-25T22:36:26.427Z"
   },
   {
    "duration": 87,
    "start_time": "2023-05-25T22:36:26.438Z"
   },
   {
    "duration": 11,
    "start_time": "2023-05-25T22:36:26.530Z"
   },
   {
    "duration": 5,
    "start_time": "2023-05-25T22:36:26.544Z"
   },
   {
    "duration": 23,
    "start_time": "2023-05-25T22:36:26.550Z"
   },
   {
    "duration": 28,
    "start_time": "2023-05-25T22:36:26.575Z"
   },
   {
    "duration": 50,
    "start_time": "2023-05-25T22:36:26.605Z"
   },
   {
    "duration": 25,
    "start_time": "2023-05-25T22:37:23.578Z"
   },
   {
    "duration": 7,
    "start_time": "2023-05-25T22:37:40.256Z"
   },
   {
    "duration": 7,
    "start_time": "2023-05-25T22:37:48.876Z"
   },
   {
    "duration": 30,
    "start_time": "2023-05-25T22:38:07.226Z"
   },
   {
    "duration": 24,
    "start_time": "2023-05-25T22:38:08.594Z"
   },
   {
    "duration": 7,
    "start_time": "2023-05-25T22:38:23.869Z"
   },
   {
    "duration": 128,
    "start_time": "2023-05-25T22:41:06.943Z"
   },
   {
    "duration": 29,
    "start_time": "2023-05-25T22:41:27.804Z"
   },
   {
    "duration": 8,
    "start_time": "2023-05-25T22:41:30.002Z"
   },
   {
    "duration": 7,
    "start_time": "2023-05-25T22:41:54.960Z"
   },
   {
    "duration": 3,
    "start_time": "2023-05-25T22:45:21.543Z"
   },
   {
    "duration": 141,
    "start_time": "2023-05-25T22:45:21.548Z"
   },
   {
    "duration": 133,
    "start_time": "2023-05-25T22:45:24.229Z"
   },
   {
    "duration": 175,
    "start_time": "2023-05-25T22:45:25.615Z"
   },
   {
    "duration": 159,
    "start_time": "2023-05-25T22:45:26.798Z"
   },
   {
    "duration": 153,
    "start_time": "2023-05-25T22:45:27.835Z"
   },
   {
    "duration": 4,
    "start_time": "2023-05-25T22:46:37.841Z"
   },
   {
    "duration": 152,
    "start_time": "2023-05-25T22:46:38.328Z"
   },
   {
    "duration": 129,
    "start_time": "2023-05-25T22:46:39.380Z"
   },
   {
    "duration": 160,
    "start_time": "2023-05-25T22:46:39.911Z"
   },
   {
    "duration": 147,
    "start_time": "2023-05-25T22:46:40.327Z"
   },
   {
    "duration": 242,
    "start_time": "2023-05-25T22:46:40.820Z"
   },
   {
    "duration": 3387,
    "start_time": "2023-05-26T13:04:34.210Z"
   },
   {
    "duration": 1843,
    "start_time": "2023-05-26T13:04:37.600Z"
   },
   {
    "duration": 83,
    "start_time": "2023-05-26T13:04:39.444Z"
   },
   {
    "duration": 13,
    "start_time": "2023-05-26T13:04:39.529Z"
   },
   {
    "duration": 15,
    "start_time": "2023-05-26T13:04:39.544Z"
   },
   {
    "duration": 7,
    "start_time": "2023-05-26T13:04:39.561Z"
   },
   {
    "duration": 14,
    "start_time": "2023-05-26T13:04:39.570Z"
   },
   {
    "duration": 5,
    "start_time": "2023-05-26T13:04:39.586Z"
   },
   {
    "duration": 5,
    "start_time": "2023-05-26T13:04:39.593Z"
   },
   {
    "duration": 153,
    "start_time": "2023-05-26T13:04:39.600Z"
   },
   {
    "duration": 134,
    "start_time": "2023-05-26T13:04:39.754Z"
   },
   {
    "duration": 154,
    "start_time": "2023-05-26T13:04:39.890Z"
   },
   {
    "duration": 166,
    "start_time": "2023-05-26T13:04:40.046Z"
   },
   {
    "duration": 244,
    "start_time": "2023-05-26T13:04:40.215Z"
   },
   {
    "duration": 29,
    "start_time": "2023-05-26T13:04:40.460Z"
   },
   {
    "duration": 4,
    "start_time": "2023-05-26T13:04:40.491Z"
   },
   {
    "duration": 344,
    "start_time": "2023-05-26T13:04:40.497Z"
   },
   {
    "duration": 4,
    "start_time": "2023-05-26T13:04:40.843Z"
   },
   {
    "duration": 27,
    "start_time": "2023-05-26T13:04:40.850Z"
   },
   {
    "duration": 5,
    "start_time": "2023-05-26T13:04:40.879Z"
   },
   {
    "duration": 6,
    "start_time": "2023-05-26T13:04:40.886Z"
   },
   {
    "duration": 88,
    "start_time": "2023-05-26T13:04:40.894Z"
   },
   {
    "duration": 90,
    "start_time": "2023-05-26T13:04:40.984Z"
   },
   {
    "duration": 95,
    "start_time": "2023-05-26T13:04:41.084Z"
   },
   {
    "duration": 92,
    "start_time": "2023-05-26T13:04:41.183Z"
   },
   {
    "duration": 98,
    "start_time": "2023-05-26T13:04:41.278Z"
   },
   {
    "duration": 3,
    "start_time": "2023-05-26T13:04:41.377Z"
   },
   {
    "duration": 8,
    "start_time": "2023-05-26T13:04:41.382Z"
   },
   {
    "duration": 5,
    "start_time": "2023-05-26T13:04:41.392Z"
   },
   {
    "duration": 7,
    "start_time": "2023-05-26T13:04:41.399Z"
   },
   {
    "duration": 68,
    "start_time": "2023-05-26T13:04:41.409Z"
   },
   {
    "duration": 7,
    "start_time": "2023-05-26T13:04:41.478Z"
   },
   {
    "duration": 6202,
    "start_time": "2023-05-27T10:44:09.042Z"
   },
   {
    "duration": 3760,
    "start_time": "2023-05-27T10:44:15.247Z"
   },
   {
    "duration": 125,
    "start_time": "2023-05-27T10:44:19.018Z"
   },
   {
    "duration": 41,
    "start_time": "2023-05-27T10:44:19.145Z"
   },
   {
    "duration": 105,
    "start_time": "2023-05-27T10:44:19.193Z"
   },
   {
    "duration": 41,
    "start_time": "2023-05-27T10:44:19.300Z"
   },
   {
    "duration": 89,
    "start_time": "2023-05-27T10:44:19.343Z"
   },
   {
    "duration": 75,
    "start_time": "2023-05-27T10:44:19.435Z"
   },
   {
    "duration": 25,
    "start_time": "2023-05-27T10:44:19.512Z"
   },
   {
    "duration": 419,
    "start_time": "2023-05-27T10:44:19.539Z"
   },
   {
    "duration": 256,
    "start_time": "2023-05-27T10:44:19.961Z"
   },
   {
    "duration": 310,
    "start_time": "2023-05-27T10:44:20.219Z"
   },
   {
    "duration": 361,
    "start_time": "2023-05-27T10:44:20.531Z"
   },
   {
    "duration": 295,
    "start_time": "2023-05-27T10:44:20.908Z"
   },
   {
    "duration": 50,
    "start_time": "2023-05-27T10:44:21.212Z"
   },
   {
    "duration": 20,
    "start_time": "2023-05-27T10:44:21.270Z"
   },
   {
    "duration": 678,
    "start_time": "2023-05-27T10:44:21.299Z"
   },
   {
    "duration": 10,
    "start_time": "2023-05-27T10:44:21.983Z"
   },
   {
    "duration": 178,
    "start_time": "2023-05-27T10:44:22.000Z"
   },
   {
    "duration": 160,
    "start_time": "2023-05-27T10:44:22.200Z"
   },
   {
    "duration": 222,
    "start_time": "2023-05-27T10:44:22.362Z"
   },
   {
    "duration": 202,
    "start_time": "2023-05-27T10:44:22.588Z"
   },
   {
    "duration": 155,
    "start_time": "2023-05-27T10:44:22.793Z"
   },
   {
    "duration": 220,
    "start_time": "2023-05-27T10:44:22.951Z"
   },
   {
    "duration": 170,
    "start_time": "2023-05-27T10:44:23.174Z"
   },
   {
    "duration": 155,
    "start_time": "2023-05-27T10:44:23.345Z"
   },
   {
    "duration": 187,
    "start_time": "2023-05-27T10:44:23.503Z"
   },
   {
    "duration": 153,
    "start_time": "2023-05-27T10:44:23.692Z"
   },
   {
    "duration": 193,
    "start_time": "2023-05-27T10:44:23.847Z"
   },
   {
    "duration": 253,
    "start_time": "2023-05-27T10:44:24.043Z"
   },
   {
    "duration": 275,
    "start_time": "2023-05-27T10:44:24.299Z"
   },
   {
    "duration": 120,
    "start_time": "2023-05-27T10:44:24.577Z"
   },
   {
    "duration": 19002,
    "start_time": "2023-05-28T10:08:27.924Z"
   },
   {
    "duration": 8099,
    "start_time": "2023-05-28T10:08:46.928Z"
   },
   {
    "duration": 102,
    "start_time": "2023-05-28T10:08:55.029Z"
   },
   {
    "duration": 93,
    "start_time": "2023-05-28T10:08:55.139Z"
   },
   {
    "duration": 98,
    "start_time": "2023-05-28T10:08:55.234Z"
   },
   {
    "duration": 104,
    "start_time": "2023-05-28T10:08:55.425Z"
   },
   {
    "duration": 210,
    "start_time": "2023-05-28T10:08:55.531Z"
   },
   {
    "duration": 98,
    "start_time": "2023-05-28T10:08:55.830Z"
   },
   {
    "duration": 394,
    "start_time": "2023-05-28T10:08:55.932Z"
   },
   {
    "duration": 1301,
    "start_time": "2023-05-28T10:08:56.329Z"
   },
   {
    "duration": 1092,
    "start_time": "2023-05-28T10:08:57.636Z"
   },
   {
    "duration": 1198,
    "start_time": "2023-05-28T10:08:58.732Z"
   },
   {
    "duration": 1103,
    "start_time": "2023-05-28T10:08:59.932Z"
   },
   {
    "duration": 1700,
    "start_time": "2023-05-28T10:09:01.126Z"
   },
   {
    "duration": 202,
    "start_time": "2023-05-28T10:09:02.828Z"
   },
   {
    "duration": 6,
    "start_time": "2023-05-28T10:09:03.034Z"
   },
   {
    "duration": 1200,
    "start_time": "2023-05-28T10:09:03.130Z"
   },
   {
    "duration": 94,
    "start_time": "2023-05-28T10:09:04.334Z"
   },
   {
    "duration": 200,
    "start_time": "2023-05-28T10:09:04.430Z"
   },
   {
    "duration": 201,
    "start_time": "2023-05-28T10:09:04.631Z"
   },
   {
    "duration": 96,
    "start_time": "2023-05-28T10:09:04.833Z"
   },
   {
    "duration": 300,
    "start_time": "2023-05-28T10:09:04.931Z"
   },
   {
    "duration": 394,
    "start_time": "2023-05-28T10:09:05.233Z"
   },
   {
    "duration": 303,
    "start_time": "2023-05-28T10:09:05.629Z"
   },
   {
    "duration": 393,
    "start_time": "2023-05-28T10:09:05.937Z"
   },
   {
    "duration": 299,
    "start_time": "2023-05-28T10:09:06.331Z"
   },
   {
    "duration": 31,
    "start_time": "2023-05-28T10:09:06.631Z"
   },
   {
    "duration": 12,
    "start_time": "2023-05-28T10:09:06.724Z"
   },
   {
    "duration": 288,
    "start_time": "2023-05-28T10:09:06.740Z"
   },
   {
    "duration": 101,
    "start_time": "2023-05-28T10:09:07.030Z"
   },
   {
    "duration": 303,
    "start_time": "2023-05-28T10:09:07.133Z"
   },
   {
    "duration": 197,
    "start_time": "2023-05-28T10:09:07.438Z"
   },
   {
    "duration": 3632,
    "start_time": "2023-05-29T08:10:17.548Z"
   },
   {
    "duration": 1698,
    "start_time": "2023-05-29T08:10:21.183Z"
   },
   {
    "duration": 29,
    "start_time": "2023-05-29T08:10:22.885Z"
   },
   {
    "duration": 30,
    "start_time": "2023-05-29T08:10:22.916Z"
   },
   {
    "duration": 36,
    "start_time": "2023-05-29T08:10:22.948Z"
   },
   {
    "duration": 19,
    "start_time": "2023-05-29T08:10:22.986Z"
   },
   {
    "duration": 77,
    "start_time": "2023-05-29T08:10:23.006Z"
   },
   {
    "duration": 6,
    "start_time": "2023-05-29T08:10:23.084Z"
   },
   {
    "duration": 18,
    "start_time": "2023-05-29T08:10:23.091Z"
   },
   {
    "duration": 204,
    "start_time": "2023-05-29T08:10:23.111Z"
   },
   {
    "duration": 162,
    "start_time": "2023-05-29T08:10:23.317Z"
   },
   {
    "duration": 220,
    "start_time": "2023-05-29T08:10:23.481Z"
   },
   {
    "duration": 211,
    "start_time": "2023-05-29T08:10:23.703Z"
   },
   {
    "duration": 266,
    "start_time": "2023-05-29T08:10:23.917Z"
   },
   {
    "duration": 45,
    "start_time": "2023-05-29T08:10:24.186Z"
   },
   {
    "duration": 14,
    "start_time": "2023-05-29T08:10:24.239Z"
   },
   {
    "duration": 376,
    "start_time": "2023-05-29T08:10:24.255Z"
   },
   {
    "duration": 8,
    "start_time": "2023-05-29T08:10:24.637Z"
   },
   {
    "duration": 35,
    "start_time": "2023-05-29T08:10:24.647Z"
   },
   {
    "duration": 46,
    "start_time": "2023-05-29T08:10:24.685Z"
   },
   {
    "duration": 156,
    "start_time": "2023-05-29T08:10:24.734Z"
   },
   {
    "duration": 24,
    "start_time": "2023-05-29T08:10:24.892Z"
   },
   {
    "duration": 54,
    "start_time": "2023-05-29T08:10:24.918Z"
   },
   {
    "duration": 179,
    "start_time": "2023-05-29T08:10:24.974Z"
   },
   {
    "duration": 157,
    "start_time": "2023-05-29T08:10:25.169Z"
   },
   {
    "duration": 70,
    "start_time": "2023-05-29T08:10:25.334Z"
   },
   {
    "duration": 91,
    "start_time": "2023-05-29T08:10:25.406Z"
   },
   {
    "duration": 92,
    "start_time": "2023-05-29T08:10:25.499Z"
   },
   {
    "duration": 82,
    "start_time": "2023-05-29T08:10:25.593Z"
   },
   {
    "duration": 26,
    "start_time": "2023-05-29T08:10:25.679Z"
   },
   {
    "duration": 93,
    "start_time": "2023-05-29T08:10:25.707Z"
   },
   {
    "duration": 23,
    "start_time": "2023-05-29T08:10:25.802Z"
   }
  ],
  "kernelspec": {
   "display_name": "Python 3 (ipykernel)",
   "language": "python",
   "name": "python3"
  },
  "language_info": {
   "codemirror_mode": {
    "name": "ipython",
    "version": 3
   },
   "file_extension": ".py",
   "mimetype": "text/x-python",
   "name": "python",
   "nbconvert_exporter": "python",
   "pygments_lexer": "ipython3",
   "version": "3.9.13"
  },
  "toc": {
   "base_numbering": 1,
   "nav_menu": {},
   "number_sections": true,
   "sideBar": true,
   "skip_h1_title": true,
   "title_cell": "Содержание",
   "title_sidebar": "Contents",
   "toc_cell": true,
   "toc_position": {},
   "toc_section_display": true,
   "toc_window_display": false
  }
 },
 "nbformat": 4,
 "nbformat_minor": 2
}
