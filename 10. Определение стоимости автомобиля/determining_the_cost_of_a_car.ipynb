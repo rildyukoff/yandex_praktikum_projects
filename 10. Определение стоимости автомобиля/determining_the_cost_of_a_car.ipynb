{
 "cells": [
  {
   "cell_type": "markdown",
   "metadata": {},
   "source": [
    "# Определение стоимости автомобилей"
   ]
  },
  {
   "cell_type": "markdown",
   "metadata": {},
   "source": [
    "Сервис по продаже автомобилей с пробегом «Не бит, не крашен» разрабатывает приложение для привлечения новых клиентов. В нём можно быстро узнать рыночную стоимость своего автомобиля. В вашем распоряжении исторические данные: технические характеристики, комплектации и цены автомобилей. Вам нужно построить модель для определения стоимости. \n",
    "\n",
    "Заказчику важны:\n",
    "\n",
    "- качество предсказания;\n",
    "- скорость предсказания;\n",
    "- время обучения."
   ]
  },
  {
   "cell_type": "markdown",
   "metadata": {},
   "source": [
    "## Подготовка данных"
   ]
  },
  {
   "cell_type": "code",
   "execution_count": 1,
   "metadata": {},
   "outputs": [],
   "source": [
    "import pandas as pd\n",
    "import numpy as np\n",
    "import matplotlib.pyplot as plt\n",
    "import seaborn as sns\n",
    "from sklearn.preprocessing import OrdinalEncoder\n",
    "from sklearn.model_selection import train_test_split, cross_val_score\n",
    "from sklearn.preprocessing import StandardScaler\n",
    "from sklearn.linear_model import LinearRegression\n",
    "from sklearn.tree import DecisionTreeRegressor\n",
    "from lightgbm import LGBMRegressor\n",
    "from sklearn.metrics import mean_squared_error"
   ]
  },
  {
   "cell_type": "code",
   "execution_count": 2,
   "metadata": {},
   "outputs": [],
   "source": [
    "data = pd.read_csv('/datasets/autos.csv')"
   ]
  },
  {
   "cell_type": "code",
   "execution_count": 3,
   "metadata": {},
   "outputs": [
    {
     "name": "stdout",
     "output_type": "stream",
     "text": [
      "<class 'pandas.core.frame.DataFrame'>\n",
      "RangeIndex: 354369 entries, 0 to 354368\n",
      "Data columns (total 16 columns):\n",
      " #   Column             Non-Null Count   Dtype \n",
      "---  ------             --------------   ----- \n",
      " 0   DateCrawled        354369 non-null  object\n",
      " 1   Price              354369 non-null  int64 \n",
      " 2   VehicleType        316879 non-null  object\n",
      " 3   RegistrationYear   354369 non-null  int64 \n",
      " 4   Gearbox            334536 non-null  object\n",
      " 5   Power              354369 non-null  int64 \n",
      " 6   Model              334664 non-null  object\n",
      " 7   Kilometer          354369 non-null  int64 \n",
      " 8   RegistrationMonth  354369 non-null  int64 \n",
      " 9   FuelType           321474 non-null  object\n",
      " 10  Brand              354369 non-null  object\n",
      " 11  Repaired           283215 non-null  object\n",
      " 12  DateCreated        354369 non-null  object\n",
      " 13  NumberOfPictures   354369 non-null  int64 \n",
      " 14  PostalCode         354369 non-null  int64 \n",
      " 15  LastSeen           354369 non-null  object\n",
      "dtypes: int64(7), object(9)\n",
      "memory usage: 43.3+ MB\n"
     ]
    }
   ],
   "source": [
    "data.info()"
   ]
  },
  {
   "cell_type": "code",
   "execution_count": 4,
   "metadata": {},
   "outputs": [
    {
     "data": {
      "text/html": [
       "<div>\n",
       "<style scoped>\n",
       "    .dataframe tbody tr th:only-of-type {\n",
       "        vertical-align: middle;\n",
       "    }\n",
       "\n",
       "    .dataframe tbody tr th {\n",
       "        vertical-align: top;\n",
       "    }\n",
       "\n",
       "    .dataframe thead th {\n",
       "        text-align: right;\n",
       "    }\n",
       "</style>\n",
       "<table border=\"1\" class=\"dataframe\">\n",
       "  <thead>\n",
       "    <tr style=\"text-align: right;\">\n",
       "      <th></th>\n",
       "      <th>DateCrawled</th>\n",
       "      <th>Price</th>\n",
       "      <th>VehicleType</th>\n",
       "      <th>RegistrationYear</th>\n",
       "      <th>Gearbox</th>\n",
       "      <th>Power</th>\n",
       "      <th>Model</th>\n",
       "      <th>Kilometer</th>\n",
       "      <th>RegistrationMonth</th>\n",
       "      <th>FuelType</th>\n",
       "      <th>Brand</th>\n",
       "      <th>Repaired</th>\n",
       "      <th>DateCreated</th>\n",
       "      <th>NumberOfPictures</th>\n",
       "      <th>PostalCode</th>\n",
       "      <th>LastSeen</th>\n",
       "    </tr>\n",
       "  </thead>\n",
       "  <tbody>\n",
       "    <tr>\n",
       "      <th>0</th>\n",
       "      <td>2016-03-24 11:52:17</td>\n",
       "      <td>480</td>\n",
       "      <td>NaN</td>\n",
       "      <td>1993</td>\n",
       "      <td>manual</td>\n",
       "      <td>0</td>\n",
       "      <td>golf</td>\n",
       "      <td>150000</td>\n",
       "      <td>0</td>\n",
       "      <td>petrol</td>\n",
       "      <td>volkswagen</td>\n",
       "      <td>NaN</td>\n",
       "      <td>2016-03-24 00:00:00</td>\n",
       "      <td>0</td>\n",
       "      <td>70435</td>\n",
       "      <td>2016-04-07 03:16:57</td>\n",
       "    </tr>\n",
       "    <tr>\n",
       "      <th>1</th>\n",
       "      <td>2016-03-24 10:58:45</td>\n",
       "      <td>18300</td>\n",
       "      <td>coupe</td>\n",
       "      <td>2011</td>\n",
       "      <td>manual</td>\n",
       "      <td>190</td>\n",
       "      <td>NaN</td>\n",
       "      <td>125000</td>\n",
       "      <td>5</td>\n",
       "      <td>gasoline</td>\n",
       "      <td>audi</td>\n",
       "      <td>yes</td>\n",
       "      <td>2016-03-24 00:00:00</td>\n",
       "      <td>0</td>\n",
       "      <td>66954</td>\n",
       "      <td>2016-04-07 01:46:50</td>\n",
       "    </tr>\n",
       "    <tr>\n",
       "      <th>2</th>\n",
       "      <td>2016-03-14 12:52:21</td>\n",
       "      <td>9800</td>\n",
       "      <td>suv</td>\n",
       "      <td>2004</td>\n",
       "      <td>auto</td>\n",
       "      <td>163</td>\n",
       "      <td>grand</td>\n",
       "      <td>125000</td>\n",
       "      <td>8</td>\n",
       "      <td>gasoline</td>\n",
       "      <td>jeep</td>\n",
       "      <td>NaN</td>\n",
       "      <td>2016-03-14 00:00:00</td>\n",
       "      <td>0</td>\n",
       "      <td>90480</td>\n",
       "      <td>2016-04-05 12:47:46</td>\n",
       "    </tr>\n",
       "    <tr>\n",
       "      <th>3</th>\n",
       "      <td>2016-03-17 16:54:04</td>\n",
       "      <td>1500</td>\n",
       "      <td>small</td>\n",
       "      <td>2001</td>\n",
       "      <td>manual</td>\n",
       "      <td>75</td>\n",
       "      <td>golf</td>\n",
       "      <td>150000</td>\n",
       "      <td>6</td>\n",
       "      <td>petrol</td>\n",
       "      <td>volkswagen</td>\n",
       "      <td>no</td>\n",
       "      <td>2016-03-17 00:00:00</td>\n",
       "      <td>0</td>\n",
       "      <td>91074</td>\n",
       "      <td>2016-03-17 17:40:17</td>\n",
       "    </tr>\n",
       "    <tr>\n",
       "      <th>4</th>\n",
       "      <td>2016-03-31 17:25:20</td>\n",
       "      <td>3600</td>\n",
       "      <td>small</td>\n",
       "      <td>2008</td>\n",
       "      <td>manual</td>\n",
       "      <td>69</td>\n",
       "      <td>fabia</td>\n",
       "      <td>90000</td>\n",
       "      <td>7</td>\n",
       "      <td>gasoline</td>\n",
       "      <td>skoda</td>\n",
       "      <td>no</td>\n",
       "      <td>2016-03-31 00:00:00</td>\n",
       "      <td>0</td>\n",
       "      <td>60437</td>\n",
       "      <td>2016-04-06 10:17:21</td>\n",
       "    </tr>\n",
       "  </tbody>\n",
       "</table>\n",
       "</div>"
      ],
      "text/plain": [
       "           DateCrawled  Price VehicleType  RegistrationYear Gearbox  Power  \\\n",
       "0  2016-03-24 11:52:17    480         NaN              1993  manual      0   \n",
       "1  2016-03-24 10:58:45  18300       coupe              2011  manual    190   \n",
       "2  2016-03-14 12:52:21   9800         suv              2004    auto    163   \n",
       "3  2016-03-17 16:54:04   1500       small              2001  manual     75   \n",
       "4  2016-03-31 17:25:20   3600       small              2008  manual     69   \n",
       "\n",
       "   Model  Kilometer  RegistrationMonth  FuelType       Brand Repaired  \\\n",
       "0   golf     150000                  0    petrol  volkswagen      NaN   \n",
       "1    NaN     125000                  5  gasoline        audi      yes   \n",
       "2  grand     125000                  8  gasoline        jeep      NaN   \n",
       "3   golf     150000                  6    petrol  volkswagen       no   \n",
       "4  fabia      90000                  7  gasoline       skoda       no   \n",
       "\n",
       "           DateCreated  NumberOfPictures  PostalCode             LastSeen  \n",
       "0  2016-03-24 00:00:00                 0       70435  2016-04-07 03:16:57  \n",
       "1  2016-03-24 00:00:00                 0       66954  2016-04-07 01:46:50  \n",
       "2  2016-03-14 00:00:00                 0       90480  2016-04-05 12:47:46  \n",
       "3  2016-03-17 00:00:00                 0       91074  2016-03-17 17:40:17  \n",
       "4  2016-03-31 00:00:00                 0       60437  2016-04-06 10:17:21  "
      ]
     },
     "execution_count": 4,
     "metadata": {},
     "output_type": "execute_result"
    }
   ],
   "source": [
    "data.head(5)"
   ]
  },
  {
   "cell_type": "code",
   "execution_count": 5,
   "metadata": {
    "scrolled": true
   },
   "outputs": [
    {
     "name": "stdout",
     "output_type": "stream",
     "text": [
      "Количество дубликатов 0\n"
     ]
    }
   ],
   "source": [
    "#Удаляю дубликаты\n",
    "data.drop_duplicates(inplace=True)\n",
    "print('Количество дубликатов', data.duplicated().sum())"
   ]
  },
  {
   "cell_type": "code",
   "execution_count": 6,
   "metadata": {},
   "outputs": [
    {
     "data": {
      "text/html": [
       "<div>\n",
       "<style scoped>\n",
       "    .dataframe tbody tr th:only-of-type {\n",
       "        vertical-align: middle;\n",
       "    }\n",
       "\n",
       "    .dataframe tbody tr th {\n",
       "        vertical-align: top;\n",
       "    }\n",
       "\n",
       "    .dataframe thead th {\n",
       "        text-align: right;\n",
       "    }\n",
       "</style>\n",
       "<table border=\"1\" class=\"dataframe\">\n",
       "  <thead>\n",
       "    <tr style=\"text-align: right;\">\n",
       "      <th></th>\n",
       "      <th>Price</th>\n",
       "      <th>RegistrationYear</th>\n",
       "      <th>Power</th>\n",
       "      <th>Kilometer</th>\n",
       "      <th>RegistrationMonth</th>\n",
       "      <th>NumberOfPictures</th>\n",
       "      <th>PostalCode</th>\n",
       "    </tr>\n",
       "  </thead>\n",
       "  <tbody>\n",
       "    <tr>\n",
       "      <th>count</th>\n",
       "      <td>354365.000000</td>\n",
       "      <td>354365.000000</td>\n",
       "      <td>354365.000000</td>\n",
       "      <td>354365.000000</td>\n",
       "      <td>354365.000000</td>\n",
       "      <td>354365.0</td>\n",
       "      <td>354365.000000</td>\n",
       "    </tr>\n",
       "    <tr>\n",
       "      <th>mean</th>\n",
       "      <td>4416.679830</td>\n",
       "      <td>2004.234481</td>\n",
       "      <td>110.093816</td>\n",
       "      <td>128211.363989</td>\n",
       "      <td>5.714650</td>\n",
       "      <td>0.0</td>\n",
       "      <td>50508.503800</td>\n",
       "    </tr>\n",
       "    <tr>\n",
       "      <th>std</th>\n",
       "      <td>4514.176349</td>\n",
       "      <td>90.228466</td>\n",
       "      <td>189.851330</td>\n",
       "      <td>37905.083858</td>\n",
       "      <td>3.726432</td>\n",
       "      <td>0.0</td>\n",
       "      <td>25783.100078</td>\n",
       "    </tr>\n",
       "    <tr>\n",
       "      <th>min</th>\n",
       "      <td>0.000000</td>\n",
       "      <td>1000.000000</td>\n",
       "      <td>0.000000</td>\n",
       "      <td>5000.000000</td>\n",
       "      <td>0.000000</td>\n",
       "      <td>0.0</td>\n",
       "      <td>1067.000000</td>\n",
       "    </tr>\n",
       "    <tr>\n",
       "      <th>25%</th>\n",
       "      <td>1050.000000</td>\n",
       "      <td>1999.000000</td>\n",
       "      <td>69.000000</td>\n",
       "      <td>125000.000000</td>\n",
       "      <td>3.000000</td>\n",
       "      <td>0.0</td>\n",
       "      <td>30165.000000</td>\n",
       "    </tr>\n",
       "    <tr>\n",
       "      <th>50%</th>\n",
       "      <td>2700.000000</td>\n",
       "      <td>2003.000000</td>\n",
       "      <td>105.000000</td>\n",
       "      <td>150000.000000</td>\n",
       "      <td>6.000000</td>\n",
       "      <td>0.0</td>\n",
       "      <td>49413.000000</td>\n",
       "    </tr>\n",
       "    <tr>\n",
       "      <th>75%</th>\n",
       "      <td>6400.000000</td>\n",
       "      <td>2008.000000</td>\n",
       "      <td>143.000000</td>\n",
       "      <td>150000.000000</td>\n",
       "      <td>9.000000</td>\n",
       "      <td>0.0</td>\n",
       "      <td>71083.000000</td>\n",
       "    </tr>\n",
       "    <tr>\n",
       "      <th>max</th>\n",
       "      <td>20000.000000</td>\n",
       "      <td>9999.000000</td>\n",
       "      <td>20000.000000</td>\n",
       "      <td>150000.000000</td>\n",
       "      <td>12.000000</td>\n",
       "      <td>0.0</td>\n",
       "      <td>99998.000000</td>\n",
       "    </tr>\n",
       "  </tbody>\n",
       "</table>\n",
       "</div>"
      ],
      "text/plain": [
       "               Price  RegistrationYear          Power      Kilometer  \\\n",
       "count  354365.000000     354365.000000  354365.000000  354365.000000   \n",
       "mean     4416.679830       2004.234481     110.093816  128211.363989   \n",
       "std      4514.176349         90.228466     189.851330   37905.083858   \n",
       "min         0.000000       1000.000000       0.000000    5000.000000   \n",
       "25%      1050.000000       1999.000000      69.000000  125000.000000   \n",
       "50%      2700.000000       2003.000000     105.000000  150000.000000   \n",
       "75%      6400.000000       2008.000000     143.000000  150000.000000   \n",
       "max     20000.000000       9999.000000   20000.000000  150000.000000   \n",
       "\n",
       "       RegistrationMonth  NumberOfPictures     PostalCode  \n",
       "count      354365.000000          354365.0  354365.000000  \n",
       "mean            5.714650               0.0   50508.503800  \n",
       "std             3.726432               0.0   25783.100078  \n",
       "min             0.000000               0.0    1067.000000  \n",
       "25%             3.000000               0.0   30165.000000  \n",
       "50%             6.000000               0.0   49413.000000  \n",
       "75%             9.000000               0.0   71083.000000  \n",
       "max            12.000000               0.0   99998.000000  "
      ]
     },
     "execution_count": 6,
     "metadata": {},
     "output_type": "execute_result"
    }
   ],
   "source": [
    "data.describe()"
   ]
  },
  {
   "cell_type": "code",
   "execution_count": 7,
   "metadata": {},
   "outputs": [
    {
     "name": "stdout",
     "output_type": "stream",
     "text": [
      "<class 'pandas.core.frame.DataFrame'>\n",
      "Int64Index: 354365 entries, 0 to 354368\n",
      "Data columns (total 10 columns):\n",
      " #   Column            Non-Null Count   Dtype \n",
      "---  ------            --------------   ----- \n",
      " 0   Price             354365 non-null  int64 \n",
      " 1   VehicleType       316875 non-null  object\n",
      " 2   RegistrationYear  354365 non-null  int64 \n",
      " 3   Gearbox           334532 non-null  object\n",
      " 4   Power             354365 non-null  int64 \n",
      " 5   Model             334660 non-null  object\n",
      " 6   Kilometer         354365 non-null  int64 \n",
      " 7   FuelType          321470 non-null  object\n",
      " 8   Brand             354365 non-null  object\n",
      " 9   Repaired          283211 non-null  object\n",
      "dtypes: int64(4), object(6)\n",
      "memory usage: 29.7+ MB\n"
     ]
    }
   ],
   "source": [
    "#Удаляю ненужные признаки\n",
    "filtered_data = data.drop(\n",
    "    ['DateCrawled', 'RegistrationMonth', 'DateCreated', 'NumberOfPictures', 'PostalCode', 'LastSeen'], axis=1)\n",
    "filtered_data.info()"
   ]
  },
  {
   "cell_type": "code",
   "execution_count": 8,
   "metadata": {},
   "outputs": [
    {
     "data": {
      "text/plain": [
       "Repaired            71154\n",
       "VehicleType         37490\n",
       "FuelType            32895\n",
       "Gearbox             19833\n",
       "Model               19705\n",
       "Price                   0\n",
       "RegistrationYear        0\n",
       "Power                   0\n",
       "Kilometer               0\n",
       "Brand                   0\n",
       "dtype: int64"
      ]
     },
     "execution_count": 8,
     "metadata": {},
     "output_type": "execute_result"
    }
   ],
   "source": [
    "#Количество пропусков\n",
    "filtered_data.isna().sum().sort_values(ascending=False)"
   ]
  },
  {
   "cell_type": "code",
   "execution_count": 9,
   "metadata": {},
   "outputs": [
    {
     "name": "stdout",
     "output_type": "stream",
     "text": [
      "Уникальные значения: [nan 'yes' 'no']\n",
      "Количество пропусков: 0\n"
     ]
    }
   ],
   "source": [
    "#Заменяю nan на yes\n",
    "print('Уникальные значения:', filtered_data['Repaired'].unique())\n",
    "filtered_data['Repaired'] = filtered_data['Repaired'].fillna('yes')\n",
    "print('Количество пропусков:', filtered_data['Repaired'].isna().sum())"
   ]
  },
  {
   "cell_type": "code",
   "execution_count": 10,
   "metadata": {},
   "outputs": [
    {
     "name": "stdout",
     "output_type": "stream",
     "text": [
      "Уникальные значения: [nan 'coupe' 'suv' 'small' 'sedan' 'convertible' 'bus' 'wagon' 'other']\n",
      "Количество пропусков: 0\n"
     ]
    }
   ],
   "source": [
    "#Заменяю nan на unknowm\n",
    "print('Уникальные значения:',  filtered_data['VehicleType'].unique())\n",
    "filtered_data['VehicleType'] = filtered_data['VehicleType'].fillna('unknown')\n",
    "print('Количество пропусков:', filtered_data['VehicleType'].isna().sum())"
   ]
  },
  {
   "cell_type": "code",
   "execution_count": 11,
   "metadata": {},
   "outputs": [
    {
     "name": "stdout",
     "output_type": "stream",
     "text": [
      "Уникальные значения: ['petrol' 'gasoline' nan 'lpg' 'other' 'hybrid' 'cng' 'electric']\n",
      "0\n"
     ]
    }
   ],
   "source": [
    "#Заменяю nan на unknowm и petrol на gasoline, так как это одно и тоже\n",
    "print('Уникальные значения:', filtered_data['FuelType'].unique())\n",
    "filtered_data.loc[filtered_data['FuelType'] == 'petrol', 'FuelType'] = 'gasoline'\n",
    "filtered_data['FuelType'] = filtered_data['FuelType'].fillna('unknown')\n",
    "print(filtered_data['FuelType'].isna().sum())"
   ]
  },
  {
   "cell_type": "code",
   "execution_count": 12,
   "metadata": {},
   "outputs": [
    {
     "name": "stdout",
     "output_type": "stream",
     "text": [
      "Уникальные значения: ['manual' 'auto' nan]\n",
      "Количество пропусков: 0\n"
     ]
    }
   ],
   "source": [
    "#Заменяю nan на manual\n",
    "print('Уникальные значения:', filtered_data['Gearbox'].unique())\n",
    "filtered_data['Gearbox'] = filtered_data['Gearbox'].fillna('manual')\n",
    "print('Количество пропусков:', filtered_data['Gearbox'].isna().sum())"
   ]
  },
  {
   "cell_type": "code",
   "execution_count": 13,
   "metadata": {},
   "outputs": [
    {
     "name": "stdout",
     "output_type": "stream",
     "text": [
      "Уникальные значения: ['golf' nan 'grand' 'fabia' '3er' '2_reihe' 'other' 'c_max' '3_reihe'\n",
      " 'passat' 'navara' 'ka' 'polo' 'twingo' 'a_klasse' 'scirocco' '5er'\n",
      " 'meriva' 'arosa' 'c4' 'civic' 'transporter' 'punto' 'e_klasse' 'clio'\n",
      " 'kadett' 'kangoo' 'corsa' 'one' 'fortwo' '1er' 'b_klasse' 'signum'\n",
      " 'astra' 'a8' 'jetta' 'fiesta' 'c_klasse' 'micra' 'vito' 'sprinter' '156'\n",
      " 'escort' 'forester' 'xc_reihe' 'scenic' 'a4' 'a1' 'insignia' 'combo'\n",
      " 'focus' 'tt' 'a6' 'jazz' 'omega' 'slk' '7er' '80' '147' '100' 'z_reihe'\n",
      " 'sportage' 'sorento' 'v40' 'ibiza' 'mustang' 'eos' 'touran' 'getz' 'a3'\n",
      " 'almera' 'megane' 'lupo' 'r19' 'zafira' 'caddy' 'mondeo' 'cordoba' 'colt'\n",
      " 'impreza' 'vectra' 'berlingo' 'tiguan' 'i_reihe' 'espace' 'sharan'\n",
      " '6_reihe' 'panda' 'up' 'seicento' 'ceed' '5_reihe' 'yeti' 'octavia' 'mii'\n",
      " 'rx_reihe' '6er' 'modus' 'fox' 'matiz' 'beetle' 'c1' 'rio' 'touareg'\n",
      " 'logan' 'spider' 'cuore' 's_max' 'a2' 'galaxy' 'c3' 'viano' 's_klasse'\n",
      " '1_reihe' 'avensis' 'roomster' 'sl' 'kaefer' 'santa' 'cooper' 'leon'\n",
      " '4_reihe' 'a5' '500' 'laguna' 'ptcruiser' 'clk' 'primera' 'x_reihe'\n",
      " 'exeo' '159' 'transit' 'juke' 'qashqai' 'carisma' 'accord' 'corolla'\n",
      " 'lanos' 'phaeton' 'verso' 'swift' 'rav' 'picanto' 'boxster' 'kalos'\n",
      " 'superb' 'stilo' 'alhambra' 'mx_reihe' 'roadster' 'ypsilon' 'cayenne'\n",
      " 'galant' 'justy' '90' 'sirion' 'crossfire' 'agila' 'duster' 'cr_reihe'\n",
      " 'v50' 'c_reihe' 'v_klasse' 'm_klasse' 'yaris' 'c5' 'aygo' 'cc' 'carnival'\n",
      " 'fusion' '911' 'bora' 'forfour' 'm_reihe' 'cl' 'tigra' '300c' 'spark'\n",
      " 'v70' 'kuga' 'x_type' 'ducato' 's_type' 'x_trail' 'toledo' 'altea'\n",
      " 'voyager' 'calibra' 'bravo' 'antara' 'tucson' 'citigo' 'jimny' 'wrangler'\n",
      " 'lybra' 'q7' 'lancer' 'captiva' 'c2' 'discovery' 'freelander' 'sandero'\n",
      " 'note' '900' 'cherokee' 'clubman' 'samara' 'defender' '601' 'cx_reihe'\n",
      " 'legacy' 'pajero' 'auris' 'niva' 's60' 'nubira' 'vivaro' 'g_klasse'\n",
      " 'lodgy' '850' 'range_rover' 'q3' 'serie_2' 'glk' 'charade' 'croma'\n",
      " 'outlander' 'doblo' 'musa' 'move' '9000' 'v60' '145' 'aveo' '200' 'b_max'\n",
      " 'range_rover_sport' 'terios' 'rangerover' 'q5' 'range_rover_evoque'\n",
      " 'materia' 'delta' 'gl' 'kalina' 'amarok' 'elefantino' 'i3' 'kappa'\n",
      " 'serie_3' 'serie_1']\n",
      "Количество пропусков: 0\n"
     ]
    }
   ],
   "source": [
    "#Заменяю nan на unknowm\n",
    "print('Уникальные значения:', filtered_data['Model'].unique())\n",
    "filtered_data['Model'] = filtered_data['Model'].fillna('unknown')\n",
    "print('Количество пропусков:', filtered_data['Model'].isna().sum())"
   ]
  },
  {
   "cell_type": "code",
   "execution_count": 14,
   "metadata": {},
   "outputs": [
    {
     "data": {
      "text/plain": [
       "Price               0\n",
       "VehicleType         0\n",
       "RegistrationYear    0\n",
       "Gearbox             0\n",
       "Power               0\n",
       "Model               0\n",
       "Kilometer           0\n",
       "FuelType            0\n",
       "Brand               0\n",
       "Repaired            0\n",
       "dtype: int64"
      ]
     },
     "execution_count": 14,
     "metadata": {},
     "output_type": "execute_result"
    }
   ],
   "source": [
    "#Пропуски исправлены\n",
    "filtered_data.isna().sum().sort_values(ascending=False)"
   ]
  },
  {
   "cell_type": "code",
   "execution_count": 15,
   "metadata": {},
   "outputs": [
    {
     "data": {
      "image/png": "[encoded data removed]",
      "text/plain": [
       "<Figure size 864x648 with 1 Axes>"
      ]
     },
     "metadata": {
      "needs_background": "light"
     },
     "output_type": "display_data"
    }
   ],
   "source": [
    "#Распределение целевого признака, есть нулевые и очень маленькие значения\n",
    "filtered_data['Price'].hist(bins=100, figsize=(12,9))\n",
    "plt.title('Распределение данных по цене')\n",
    "plt.show()"
   ]
  },
  {
   "cell_type": "code",
   "execution_count": 16,
   "metadata": {},
   "outputs": [
    {
     "data": {
      "text/plain": [
       "0        10772\n",
       "500       5670\n",
       "1500      5394\n",
       "1000      4648\n",
       "1200      4594\n",
       "         ...  \n",
       "13180        1\n",
       "10879        1\n",
       "2683         1\n",
       "634          1\n",
       "8188         1\n",
       "Name: Price, Length: 3731, dtype: int64"
      ]
     },
     "execution_count": 16,
     "metadata": {},
     "output_type": "execute_result"
    }
   ],
   "source": [
    "filtered_data['Price'].value_counts()"
   ]
  },
  {
   "cell_type": "code",
   "execution_count": 17,
   "metadata": {
    "scrolled": true
   },
   "outputs": [
    {
     "data": {
      "text/plain": [
       "500      5670\n",
       "1500     5394\n",
       "1000     4648\n",
       "1200     4594\n",
       "2500     4438\n",
       "         ... \n",
       "11955       1\n",
       "6996        1\n",
       "1879        1\n",
       "6235        1\n",
       "8188        1\n",
       "Name: Price, Length: 3508, dtype: int64"
      ]
     },
     "execution_count": 17,
     "metadata": {},
     "output_type": "execute_result"
    }
   ],
   "source": [
    "#Оставляю цену выше 400 евро\n",
    "filtered_data = filtered_data.query('Price>400')\n",
    "filtered_data['Price'].value_counts()"
   ]
  },
  {
   "cell_type": "code",
   "execution_count": 18,
   "metadata": {},
   "outputs": [
    {
     "data": {
      "text/plain": [
       "1000    14\n",
       "1001     1\n",
       "1039     1\n",
       "1111     1\n",
       "1234     1\n",
       "        ..\n",
       "8500     1\n",
       "8888     1\n",
       "9000     2\n",
       "9450     1\n",
       "9999    10\n",
       "Name: RegistrationYear, Length: 133, dtype: int64"
      ]
     },
     "execution_count": 18,
     "metadata": {},
     "output_type": "execute_result"
    }
   ],
   "source": [
    "#По году регистрации автомобиля есть вопросы. Слижком маленькие и большие значения\n",
    "filtered_data['RegistrationYear'].value_counts().sort_index()"
   ]
  },
  {
   "cell_type": "code",
   "execution_count": 19,
   "metadata": {},
   "outputs": [
    {
     "data": {
      "text/plain": [
       "1971      157\n",
       "1972      208\n",
       "1973      161\n",
       "1974      166\n",
       "1975      135\n",
       "1976      150\n",
       "1977      164\n",
       "1978      272\n",
       "1979      265\n",
       "1980      419\n",
       "1981      242\n",
       "1982      298\n",
       "1983      393\n",
       "1984      374\n",
       "1985      595\n",
       "1986      476\n",
       "1987      583\n",
       "1988      855\n",
       "1989     1119\n",
       "1990     2065\n",
       "1991     2273\n",
       "1992     2438\n",
       "1993     2646\n",
       "1994     3759\n",
       "1995     6663\n",
       "1996     8394\n",
       "1997    11419\n",
       "1998    15072\n",
       "1999    19982\n",
       "2000    20254\n",
       "2001    18951\n",
       "2002    18379\n",
       "2003    19300\n",
       "2004    19243\n",
       "2005    21110\n",
       "2006    19623\n",
       "2007    16963\n",
       "2008    15212\n",
       "2009    14359\n",
       "2010    10638\n",
       "2011     9803\n",
       "2012     7086\n",
       "2013     4047\n",
       "2014     2448\n",
       "2015     1072\n",
       "2016     7187\n",
       "2017     9375\n",
       "2018     3740\n",
       "2019       13\n",
       "Name: RegistrationYear, dtype: int64"
      ]
     },
     "execution_count": 19,
     "metadata": {},
     "output_type": "execute_result"
    }
   ],
   "source": [
    "#Оставляю данные с 1970 по актуальный год - 2023\n",
    "filtered_data = filtered_data.query('1970<RegistrationYear<2024')\n",
    "filtered_data['RegistrationYear'].value_counts().sort_index()"
   ]
  },
  {
   "cell_type": "code",
   "execution_count": 20,
   "metadata": {},
   "outputs": [
    {
     "data": {
      "image/png": "[encoded data removed]",
      "text/plain": [
       "<Figure size 1440x720 with 1 Axes>"
      ]
     },
     "metadata": {
      "needs_background": "light"
     },
     "output_type": "display_data"
    }
   ],
   "source": [
    "#Смотрю распределение суммарной стоимости по годам. Больше всего продаются автомобили с 00-ми и 10-ми годами выпуска\n",
    "plt.figure(figsize=(20,10))\n",
    "plt.grid()\n",
    "plt.title('График суммарных цен по годам')\n",
    "sns.barplot(x='RegistrationYear', y='Price', data=filtered_data, color='blue', estimator=sum);\n",
    "plt.xticks(rotation=90)\n",
    "plt.show()"
   ]
  },
  {
   "cell_type": "code",
   "execution_count": 21,
   "metadata": {},
   "outputs": [
    {
     "data": {
      "text/plain": [
       "array([    0,     1,     2,     3,     4,     5,     6,     7,     8,\n",
       "           9,    10,    11,    12,    13,    14,    15,    16,    17,\n",
       "          18,    19,    20,    21,    22,    23,    24,    25,    26,\n",
       "          27,    28,    29,    30,    31,    33,    34,    35,    36,\n",
       "          37,    38,    39,    40,    41,    42,    43,    44,    45,\n",
       "          46,    47,    48,    49,    50,    51,    52,    53,    54,\n",
       "          55,    56,    57,    58,    59,    60,    61,    62,    63,\n",
       "          64,    65,    66,    67,    68,    69,    70,    71,    72,\n",
       "          73,    74,    75,    76,    77,    78,    79,    80,    81,\n",
       "          82,    83,    84,    85,    86,    87,    88,    89,    90,\n",
       "          91,    92,    93,    94,    95,    96,    97,    98,    99,\n",
       "         100,   101,   102,   103,   104,   105,   106,   107,   108,\n",
       "         109,   110,   111,   112,   113,   114,   115,   116,   117,\n",
       "         118,   119,   120,   121,   122,   123,   124,   125,   126,\n",
       "         127,   128,   129,   130,   131,   132,   133,   134,   135,\n",
       "         136,   137,   138,   139,   140,   141,   142,   143,   144,\n",
       "         145,   146,   147,   148,   149,   150,   151,   152,   153,\n",
       "         154,   155,   156,   157,   158,   159,   160,   161,   162,\n",
       "         163,   164,   165,   166,   167,   168,   169,   170,   171,\n",
       "         172,   173,   174,   175,   176,   177,   178,   179,   180,\n",
       "         181,   182,   183,   184,   185,   186,   187,   188,   189,\n",
       "         190,   191,   192,   193,   194,   195,   196,   197,   198,\n",
       "         199,   200,   201,   202,   203,   204,   205,   206,   207,\n",
       "         208,   209,   210,   211,   212,   213,   214,   215,   216,\n",
       "         217,   218,   219,   220,   221,   222,   223,   224,   225,\n",
       "         226,   227,   228,   229,   230,   231,   232,   233,   234,\n",
       "         235,   236,   237,   238,   239,   240,   241,   242,   243,\n",
       "         244,   245,   246,   247,   248,   249,   250,   251,   252,\n",
       "         253,   254,   255,   256,   257,   258,   259,   260,   261,\n",
       "         262,   264,   265,   266,   267,   268,   269,   270,   271,\n",
       "         272,   273,   274,   275,   276,   277,   278,   279,   280,\n",
       "         281,   282,   283,   284,   285,   286,   287,   288,   289,\n",
       "         290,   292,   293,   294,   295,   296,   297,   298,   299,\n",
       "         300,   301,   303,   304,   305,   306,   307,   308,   309,\n",
       "         310,   311,   313,   314,   315,   316,   317,   318,   320,\n",
       "         321,   322,   323,   324,   325,   326,   327,   328,   329,\n",
       "         330,   331,   332,   333,   334,   335,   336,   337,   338,\n",
       "         339,   340,   341,   343,   344,   345,   346,   347,   348,\n",
       "         349,   350,   352,   353,   354,   355,   356,   357,   358,\n",
       "         360,   361,   362,   363,   364,   365,   367,   368,   370,\n",
       "         371,   374,   376,   377,   379,   380,   381,   382,   385,\n",
       "         386,   387,   388,   390,   392,   394,   396,   398,   399,\n",
       "         400,   401,   402,   405,   408,   409,   411,   416,   420,\n",
       "         421,   426,   428,   430,   431,   435,   440,   442,   445,\n",
       "         449,   450,   454,   457,   460,   475,   476,   487,   489,\n",
       "         490,   500,   504,   505,   507,   508,   510,   514,   515,\n",
       "         517,   519,   520,   521,   525,   540,   541,   544,   550,\n",
       "         551,   560,   572,   579,   584,   585,   599,   600,   601,\n",
       "         602,   603,   604,   606,   607,   612,   620,   640,   645,\n",
       "         650,   651,   671,   682,   685,   696,   700,   702,   703,\n",
       "         732,   743,   750,   751,   771,   776,   800,   805,   808,\n",
       "         850,   851,   871,   900,   901,   903,   907,   909,   923,\n",
       "         950,   952,   953,   999,  1000,  1001,  1003,  1004,  1005,\n",
       "        1011,  1012,  1016,  1017,  1021,  1024,  1054,  1055,  1056,\n",
       "        1062,  1079,  1082,  1090,  1100,  1105,  1115,  1149,  1151,\n",
       "        1160,  1162,  1164,  1199,  1202,  1221,  1223,  1240,  1250,\n",
       "        1252,  1256,  1275,  1288,  1299,  1300,  1317,  1339,  1351,\n",
       "        1360,  1362,  1363,  1367,  1390,  1394,  1398,  1399,  1400,\n",
       "        1401,  1403,  1405,  1416,  1432,  1433,  1436,  1500,  1501,\n",
       "        1502,  1503,  1506,  1521,  1548,  1595,  1596,  1597,  1598,\n",
       "        1600,  1631,  1653,  1659,  1689,  1700,  1701,  1704,  1707,\n",
       "        1753,  1771,  1779,  1780,  1781,  1783,  1793,  1796,  1800,\n",
       "        1801,  1870,  1895,  1896,  1900,  1920,  1922,  1933,  1937,\n",
       "        1968,  1986,  1992,  1993,  1995,  1998,  2000,  2004,  2005,\n",
       "        2007,  2009,  2016,  2017,  2018,  2172,  2331,  2340,  2389,\n",
       "        2402,  2461,  2598,  2729,  2789,  2792,  2799,  3199,  3454,\n",
       "        3500,  4400,  4507,  4700,  5411,  5420,  5809,  5867,  6006,\n",
       "        6010,  6011,  6012,  6018,  6045,  6062,  6226,  6512,  6920,\n",
       "        7508,  7511,  7512,  7515,  7518,  7529,  7544,  8259,  8404,\n",
       "        8500,  9000,  9007,  9010,  9011,  9012,  9013, 10000, 10110,\n",
       "       10218, 10311, 10520, 10522, 10710, 10910, 10912, 11011, 11025,\n",
       "       11509, 11530, 11635, 12012, 12510, 12512, 13616, 13636, 14009,\n",
       "       15001, 15017, 15020, 15033, 16011, 16311, 16312, 17011, 17019,\n",
       "       17410, 17700, 17932, 19208, 19211, 19312, 20000])"
      ]
     },
     "execution_count": 21,
     "metadata": {},
     "output_type": "execute_result"
    }
   ],
   "source": [
    "power = filtered_data['Power'].unique()\n",
    "power.sort()\n",
    "power"
   ]
  },
  {
   "cell_type": "code",
   "execution_count": 22,
   "metadata": {},
   "outputs": [],
   "source": [
    "#Оставляю данные по мощности от 50 лс до 400 лс\n",
    "filtered_data = filtered_data.query('50<Power<400')"
   ]
  },
  {
   "cell_type": "code",
   "execution_count": 23,
   "metadata": {
    "scrolled": false
   },
   "outputs": [
    {
     "name": "stderr",
     "output_type": "stream",
     "text": [
      "/opt/conda/lib/python3.9/site-packages/seaborn/distributions.py:2557: FutureWarning: `distplot` is a deprecated function and will be removed in a future version. Please adapt your code to use either `displot` (a figure-level function with similar flexibility) or `histplot` (an axes-level function for histograms).\n",
      "  warnings.warn(msg, FutureWarning)\n"
     ]
    },
    {
     "data": {
      "image/png": "[encoded data removed]",
      "text/plain": [
       "<Figure size 1440x720 with 1 Axes>"
      ]
     },
     "metadata": {
      "needs_background": "light"
     },
     "output_type": "display_data"
    }
   ],
   "source": [
    "plt.figure(figsize=(20,10))\n",
    "plt.grid()\n",
    "plt.title('Рапсределение данных по мощности')\n",
    "sns.distplot(filtered_data['Power'])\n",
    "plt.show()"
   ]
  },
  {
   "cell_type": "code",
   "execution_count": 24,
   "metadata": {},
   "outputs": [
    {
     "name": "stderr",
     "output_type": "stream",
     "text": [
      "/opt/conda/lib/python3.9/site-packages/seaborn/distributions.py:2557: FutureWarning: `distplot` is a deprecated function and will be removed in a future version. Please adapt your code to use either `displot` (a figure-level function with similar flexibility) or `histplot` (an axes-level function for histograms).\n",
      "  warnings.warn(msg, FutureWarning)\n"
     ]
    },
    {
     "data": {
      "image/png": "[encoded data removed]",
      "text/plain": [
       "<Figure size 1440x720 with 1 Axes>"
      ]
     },
     "metadata": {
      "needs_background": "light"
     },
     "output_type": "display_data"
    }
   ],
   "source": [
    "#Данные по пробегу не требуют вмешательства\n",
    "plt.figure(figsize=(20,10))\n",
    "plt.grid()\n",
    "plt.title('Распределение данных по пробегу')\n",
    "sns.distplot(filtered_data['Kilometer'])\n",
    "plt.show()"
   ]
  },
  {
   "cell_type": "code",
   "execution_count": 25,
   "metadata": {},
   "outputs": [
    {
     "data": {
      "image/png": "[encoded data removed]",
      "text/plain": [
       "<Figure size 1440x720 with 1 Axes>"
      ]
     },
     "metadata": {
      "needs_background": "light"
     },
     "output_type": "display_data"
    }
   ],
   "source": [
    "#По бренду тоже не требуют корректировок\n",
    "plt.figure(figsize=(20,10))\n",
    "plt.grid()\n",
    "plt.title('График медианных значений цены по брендам')\n",
    "sns.barplot(x='Brand', y='Price', data=filtered_data, color='blue', estimator=np.median);\n",
    "plt.xticks(rotation=90)\n",
    "plt.show()"
   ]
  },
  {
   "cell_type": "code",
   "execution_count": 26,
   "metadata": {},
   "outputs": [],
   "source": [
    "filtered_data.reset_index(drop=True, inplace=True)"
   ]
  },
  {
   "cell_type": "code",
   "execution_count": 27,
   "metadata": {},
   "outputs": [
    {
     "name": "stdout",
     "output_type": "stream",
     "text": [
      "<class 'pandas.core.frame.DataFrame'>\n",
      "RangeIndex: 282995 entries, 0 to 282994\n",
      "Data columns (total 10 columns):\n",
      " #   Column            Non-Null Count   Dtype \n",
      "---  ------            --------------   ----- \n",
      " 0   Price             282995 non-null  int64 \n",
      " 1   VehicleType       282995 non-null  object\n",
      " 2   RegistrationYear  282995 non-null  int64 \n",
      " 3   Gearbox           282995 non-null  object\n",
      " 4   Power             282995 non-null  int64 \n",
      " 5   Model             282995 non-null  object\n",
      " 6   Kilometer         282995 non-null  int64 \n",
      " 7   FuelType          282995 non-null  object\n",
      " 8   Brand             282995 non-null  object\n",
      " 9   Repaired          282995 non-null  object\n",
      "dtypes: int64(4), object(6)\n",
      "memory usage: 21.6+ MB\n"
     ]
    }
   ],
   "source": [
    "filtered_data.info()"
   ]
  },
  {
   "cell_type": "markdown",
   "metadata": {},
   "source": [
    "<b>Вывод</b>\n",
    "Удалил не нужные признаки, заполнил пропуски в столбцах и удалил выбросы или подозрительные значения. Удалил около 30% данных."
   ]
  },
  {
   "cell_type": "code",
   "execution_count": 28,
   "metadata": {},
   "outputs": [],
   "source": [
    "#Делю на признаки и целевой признак\n",
    "features = filtered_data.drop('Price', axis=1)\n",
    "target = filtered_data['Price']"
   ]
  },
  {
   "cell_type": "code",
   "execution_count": 29,
   "metadata": {},
   "outputs": [],
   "source": [
    "features_ohe = pd.get_dummies(features, drop_first=True)"
   ]
  },
  {
   "cell_type": "code",
   "execution_count": 30,
   "metadata": {},
   "outputs": [],
   "source": [
    "#Дроблю на обучающую и тестовую выборки\n",
    "features_train, features_test, target_train, target_test = train_test_split(features,\n",
    "                                                                            target, \n",
    "                                                                            test_size=0.2,\n",
    "                                                                            random_state=12345)\n",
    "\n",
    "features_train, features_valid, target_train, target_valid = train_test_split(features_train,\n",
    "                                                                              target_train, \n",
    "                                                                              test_size=0.25,\n",
    "                                                                              random_state=12345)"
   ]
  },
  {
   "cell_type": "code",
   "execution_count": 31,
   "metadata": {},
   "outputs": [
    {
     "data": {
      "text/html": [
       "<div>\n",
       "<style scoped>\n",
       "    .dataframe tbody tr th:only-of-type {\n",
       "        vertical-align: middle;\n",
       "    }\n",
       "\n",
       "    .dataframe tbody tr th {\n",
       "        vertical-align: top;\n",
       "    }\n",
       "\n",
       "    .dataframe thead th {\n",
       "        text-align: right;\n",
       "    }\n",
       "</style>\n",
       "<table border=\"1\" class=\"dataframe\">\n",
       "  <thead>\n",
       "    <tr style=\"text-align: right;\">\n",
       "      <th></th>\n",
       "      <th>RegistrationYear</th>\n",
       "      <th>Power</th>\n",
       "      <th>Kilometer</th>\n",
       "      <th>VehicleType_convertible</th>\n",
       "      <th>VehicleType_coupe</th>\n",
       "      <th>VehicleType_other</th>\n",
       "      <th>VehicleType_sedan</th>\n",
       "      <th>VehicleType_small</th>\n",
       "      <th>VehicleType_suv</th>\n",
       "      <th>VehicleType_unknown</th>\n",
       "      <th>...</th>\n",
       "      <th>Brand_skoda</th>\n",
       "      <th>Brand_smart</th>\n",
       "      <th>Brand_sonstige_autos</th>\n",
       "      <th>Brand_subaru</th>\n",
       "      <th>Brand_suzuki</th>\n",
       "      <th>Brand_toyota</th>\n",
       "      <th>Brand_trabant</th>\n",
       "      <th>Brand_volkswagen</th>\n",
       "      <th>Brand_volvo</th>\n",
       "      <th>Repaired_yes</th>\n",
       "    </tr>\n",
       "  </thead>\n",
       "  <tbody>\n",
       "    <tr>\n",
       "      <th>60881</th>\n",
       "      <td>2013</td>\n",
       "      <td>150</td>\n",
       "      <td>20000</td>\n",
       "      <td>0</td>\n",
       "      <td>0</td>\n",
       "      <td>0</td>\n",
       "      <td>0</td>\n",
       "      <td>0</td>\n",
       "      <td>0</td>\n",
       "      <td>0</td>\n",
       "      <td>...</td>\n",
       "      <td>0</td>\n",
       "      <td>0</td>\n",
       "      <td>0</td>\n",
       "      <td>0</td>\n",
       "      <td>0</td>\n",
       "      <td>0</td>\n",
       "      <td>0</td>\n",
       "      <td>0</td>\n",
       "      <td>0</td>\n",
       "      <td>0</td>\n",
       "    </tr>\n",
       "    <tr>\n",
       "      <th>210584</th>\n",
       "      <td>1998</td>\n",
       "      <td>170</td>\n",
       "      <td>150000</td>\n",
       "      <td>0</td>\n",
       "      <td>0</td>\n",
       "      <td>0</td>\n",
       "      <td>0</td>\n",
       "      <td>0</td>\n",
       "      <td>0</td>\n",
       "      <td>0</td>\n",
       "      <td>...</td>\n",
       "      <td>0</td>\n",
       "      <td>0</td>\n",
       "      <td>0</td>\n",
       "      <td>0</td>\n",
       "      <td>0</td>\n",
       "      <td>0</td>\n",
       "      <td>0</td>\n",
       "      <td>0</td>\n",
       "      <td>0</td>\n",
       "      <td>0</td>\n",
       "    </tr>\n",
       "    <tr>\n",
       "      <th>61596</th>\n",
       "      <td>2009</td>\n",
       "      <td>143</td>\n",
       "      <td>90000</td>\n",
       "      <td>1</td>\n",
       "      <td>0</td>\n",
       "      <td>0</td>\n",
       "      <td>0</td>\n",
       "      <td>0</td>\n",
       "      <td>0</td>\n",
       "      <td>0</td>\n",
       "      <td>...</td>\n",
       "      <td>0</td>\n",
       "      <td>0</td>\n",
       "      <td>0</td>\n",
       "      <td>0</td>\n",
       "      <td>0</td>\n",
       "      <td>0</td>\n",
       "      <td>0</td>\n",
       "      <td>0</td>\n",
       "      <td>0</td>\n",
       "      <td>0</td>\n",
       "    </tr>\n",
       "    <tr>\n",
       "      <th>106699</th>\n",
       "      <td>2007</td>\n",
       "      <td>140</td>\n",
       "      <td>70000</td>\n",
       "      <td>1</td>\n",
       "      <td>0</td>\n",
       "      <td>0</td>\n",
       "      <td>0</td>\n",
       "      <td>0</td>\n",
       "      <td>0</td>\n",
       "      <td>0</td>\n",
       "      <td>...</td>\n",
       "      <td>0</td>\n",
       "      <td>0</td>\n",
       "      <td>0</td>\n",
       "      <td>0</td>\n",
       "      <td>0</td>\n",
       "      <td>0</td>\n",
       "      <td>0</td>\n",
       "      <td>0</td>\n",
       "      <td>0</td>\n",
       "      <td>0</td>\n",
       "    </tr>\n",
       "    <tr>\n",
       "      <th>169158</th>\n",
       "      <td>2005</td>\n",
       "      <td>105</td>\n",
       "      <td>150000</td>\n",
       "      <td>0</td>\n",
       "      <td>0</td>\n",
       "      <td>0</td>\n",
       "      <td>0</td>\n",
       "      <td>0</td>\n",
       "      <td>0</td>\n",
       "      <td>0</td>\n",
       "      <td>...</td>\n",
       "      <td>0</td>\n",
       "      <td>0</td>\n",
       "      <td>0</td>\n",
       "      <td>0</td>\n",
       "      <td>0</td>\n",
       "      <td>0</td>\n",
       "      <td>0</td>\n",
       "      <td>1</td>\n",
       "      <td>0</td>\n",
       "      <td>0</td>\n",
       "    </tr>\n",
       "    <tr>\n",
       "      <th>...</th>\n",
       "      <td>...</td>\n",
       "      <td>...</td>\n",
       "      <td>...</td>\n",
       "      <td>...</td>\n",
       "      <td>...</td>\n",
       "      <td>...</td>\n",
       "      <td>...</td>\n",
       "      <td>...</td>\n",
       "      <td>...</td>\n",
       "      <td>...</td>\n",
       "      <td>...</td>\n",
       "      <td>...</td>\n",
       "      <td>...</td>\n",
       "      <td>...</td>\n",
       "      <td>...</td>\n",
       "      <td>...</td>\n",
       "      <td>...</td>\n",
       "      <td>...</td>\n",
       "      <td>...</td>\n",
       "      <td>...</td>\n",
       "      <td>...</td>\n",
       "    </tr>\n",
       "    <tr>\n",
       "      <th>13921</th>\n",
       "      <td>1998</td>\n",
       "      <td>101</td>\n",
       "      <td>150000</td>\n",
       "      <td>0</td>\n",
       "      <td>0</td>\n",
       "      <td>0</td>\n",
       "      <td>1</td>\n",
       "      <td>0</td>\n",
       "      <td>0</td>\n",
       "      <td>0</td>\n",
       "      <td>...</td>\n",
       "      <td>0</td>\n",
       "      <td>0</td>\n",
       "      <td>0</td>\n",
       "      <td>0</td>\n",
       "      <td>0</td>\n",
       "      <td>0</td>\n",
       "      <td>0</td>\n",
       "      <td>0</td>\n",
       "      <td>0</td>\n",
       "      <td>0</td>\n",
       "    </tr>\n",
       "    <tr>\n",
       "      <th>161491</th>\n",
       "      <td>2012</td>\n",
       "      <td>170</td>\n",
       "      <td>90000</td>\n",
       "      <td>0</td>\n",
       "      <td>0</td>\n",
       "      <td>0</td>\n",
       "      <td>1</td>\n",
       "      <td>0</td>\n",
       "      <td>0</td>\n",
       "      <td>0</td>\n",
       "      <td>...</td>\n",
       "      <td>0</td>\n",
       "      <td>0</td>\n",
       "      <td>0</td>\n",
       "      <td>0</td>\n",
       "      <td>0</td>\n",
       "      <td>0</td>\n",
       "      <td>0</td>\n",
       "      <td>0</td>\n",
       "      <td>0</td>\n",
       "      <td>0</td>\n",
       "    </tr>\n",
       "    <tr>\n",
       "      <th>72226</th>\n",
       "      <td>2013</td>\n",
       "      <td>140</td>\n",
       "      <td>10000</td>\n",
       "      <td>0</td>\n",
       "      <td>0</td>\n",
       "      <td>0</td>\n",
       "      <td>0</td>\n",
       "      <td>0</td>\n",
       "      <td>0</td>\n",
       "      <td>0</td>\n",
       "      <td>...</td>\n",
       "      <td>0</td>\n",
       "      <td>0</td>\n",
       "      <td>0</td>\n",
       "      <td>0</td>\n",
       "      <td>0</td>\n",
       "      <td>0</td>\n",
       "      <td>0</td>\n",
       "      <td>0</td>\n",
       "      <td>0</td>\n",
       "      <td>0</td>\n",
       "    </tr>\n",
       "    <tr>\n",
       "      <th>265912</th>\n",
       "      <td>2001</td>\n",
       "      <td>82</td>\n",
       "      <td>150000</td>\n",
       "      <td>0</td>\n",
       "      <td>0</td>\n",
       "      <td>0</td>\n",
       "      <td>0</td>\n",
       "      <td>0</td>\n",
       "      <td>0</td>\n",
       "      <td>0</td>\n",
       "      <td>...</td>\n",
       "      <td>0</td>\n",
       "      <td>0</td>\n",
       "      <td>0</td>\n",
       "      <td>0</td>\n",
       "      <td>0</td>\n",
       "      <td>0</td>\n",
       "      <td>0</td>\n",
       "      <td>0</td>\n",
       "      <td>0</td>\n",
       "      <td>0</td>\n",
       "    </tr>\n",
       "    <tr>\n",
       "      <th>150521</th>\n",
       "      <td>2001</td>\n",
       "      <td>75</td>\n",
       "      <td>150000</td>\n",
       "      <td>0</td>\n",
       "      <td>0</td>\n",
       "      <td>0</td>\n",
       "      <td>0</td>\n",
       "      <td>1</td>\n",
       "      <td>0</td>\n",
       "      <td>0</td>\n",
       "      <td>...</td>\n",
       "      <td>0</td>\n",
       "      <td>0</td>\n",
       "      <td>0</td>\n",
       "      <td>0</td>\n",
       "      <td>0</td>\n",
       "      <td>0</td>\n",
       "      <td>0</td>\n",
       "      <td>1</td>\n",
       "      <td>0</td>\n",
       "      <td>1</td>\n",
       "    </tr>\n",
       "  </tbody>\n",
       "</table>\n",
       "<p>169797 rows × 306 columns</p>\n",
       "</div>"
      ],
      "text/plain": [
       "        RegistrationYear  Power  Kilometer  VehicleType_convertible  \\\n",
       "60881               2013    150      20000                        0   \n",
       "210584              1998    170     150000                        0   \n",
       "61596               2009    143      90000                        1   \n",
       "106699              2007    140      70000                        1   \n",
       "169158              2005    105     150000                        0   \n",
       "...                  ...    ...        ...                      ...   \n",
       "13921               1998    101     150000                        0   \n",
       "161491              2012    170      90000                        0   \n",
       "72226               2013    140      10000                        0   \n",
       "265912              2001     82     150000                        0   \n",
       "150521              2001     75     150000                        0   \n",
       "\n",
       "        VehicleType_coupe  VehicleType_other  VehicleType_sedan  \\\n",
       "60881                   0                  0                  0   \n",
       "210584                  0                  0                  0   \n",
       "61596                   0                  0                  0   \n",
       "106699                  0                  0                  0   \n",
       "169158                  0                  0                  0   \n",
       "...                   ...                ...                ...   \n",
       "13921                   0                  0                  1   \n",
       "161491                  0                  0                  1   \n",
       "72226                   0                  0                  0   \n",
       "265912                  0                  0                  0   \n",
       "150521                  0                  0                  0   \n",
       "\n",
       "        VehicleType_small  VehicleType_suv  VehicleType_unknown  ...  \\\n",
       "60881                   0                0                    0  ...   \n",
       "210584                  0                0                    0  ...   \n",
       "61596                   0                0                    0  ...   \n",
       "106699                  0                0                    0  ...   \n",
       "169158                  0                0                    0  ...   \n",
       "...                   ...              ...                  ...  ...   \n",
       "13921                   0                0                    0  ...   \n",
       "161491                  0                0                    0  ...   \n",
       "72226                   0                0                    0  ...   \n",
       "265912                  0                0                    0  ...   \n",
       "150521                  1                0                    0  ...   \n",
       "\n",
       "        Brand_skoda  Brand_smart  Brand_sonstige_autos  Brand_subaru  \\\n",
       "60881             0            0                     0             0   \n",
       "210584            0            0                     0             0   \n",
       "61596             0            0                     0             0   \n",
       "106699            0            0                     0             0   \n",
       "169158            0            0                     0             0   \n",
       "...             ...          ...                   ...           ...   \n",
       "13921             0            0                     0             0   \n",
       "161491            0            0                     0             0   \n",
       "72226             0            0                     0             0   \n",
       "265912            0            0                     0             0   \n",
       "150521            0            0                     0             0   \n",
       "\n",
       "        Brand_suzuki  Brand_toyota  Brand_trabant  Brand_volkswagen  \\\n",
       "60881              0             0              0                 0   \n",
       "210584             0             0              0                 0   \n",
       "61596              0             0              0                 0   \n",
       "106699             0             0              0                 0   \n",
       "169158             0             0              0                 1   \n",
       "...              ...           ...            ...               ...   \n",
       "13921              0             0              0                 0   \n",
       "161491             0             0              0                 0   \n",
       "72226              0             0              0                 0   \n",
       "265912             0             0              0                 0   \n",
       "150521             0             0              0                 1   \n",
       "\n",
       "        Brand_volvo  Repaired_yes  \n",
       "60881             0             0  \n",
       "210584            0             0  \n",
       "61596             0             0  \n",
       "106699            0             0  \n",
       "169158            0             0  \n",
       "...             ...           ...  \n",
       "13921             0             0  \n",
       "161491            0             0  \n",
       "72226             0             0  \n",
       "265912            0             0  \n",
       "150521            0             1  \n",
       "\n",
       "[169797 rows x 306 columns]"
      ]
     },
     "metadata": {},
     "output_type": "display_data"
    },
    {
     "data": {
      "text/html": [
       "<div>\n",
       "<style scoped>\n",
       "    .dataframe tbody tr th:only-of-type {\n",
       "        vertical-align: middle;\n",
       "    }\n",
       "\n",
       "    .dataframe tbody tr th {\n",
       "        vertical-align: top;\n",
       "    }\n",
       "\n",
       "    .dataframe thead th {\n",
       "        text-align: right;\n",
       "    }\n",
       "</style>\n",
       "<table border=\"1\" class=\"dataframe\">\n",
       "  <thead>\n",
       "    <tr style=\"text-align: right;\">\n",
       "      <th></th>\n",
       "      <th>RegistrationYear</th>\n",
       "      <th>Power</th>\n",
       "      <th>Kilometer</th>\n",
       "      <th>VehicleType_convertible</th>\n",
       "      <th>VehicleType_coupe</th>\n",
       "      <th>VehicleType_other</th>\n",
       "      <th>VehicleType_sedan</th>\n",
       "      <th>VehicleType_small</th>\n",
       "      <th>VehicleType_suv</th>\n",
       "      <th>VehicleType_unknown</th>\n",
       "      <th>...</th>\n",
       "      <th>Brand_skoda</th>\n",
       "      <th>Brand_smart</th>\n",
       "      <th>Brand_sonstige_autos</th>\n",
       "      <th>Brand_subaru</th>\n",
       "      <th>Brand_suzuki</th>\n",
       "      <th>Brand_toyota</th>\n",
       "      <th>Brand_trabant</th>\n",
       "      <th>Brand_volkswagen</th>\n",
       "      <th>Brand_volvo</th>\n",
       "      <th>Repaired_yes</th>\n",
       "    </tr>\n",
       "  </thead>\n",
       "  <tbody>\n",
       "    <tr>\n",
       "      <th>41923</th>\n",
       "      <td>2008</td>\n",
       "      <td>160</td>\n",
       "      <td>70000</td>\n",
       "      <td>1</td>\n",
       "      <td>0</td>\n",
       "      <td>0</td>\n",
       "      <td>0</td>\n",
       "      <td>0</td>\n",
       "      <td>0</td>\n",
       "      <td>0</td>\n",
       "      <td>...</td>\n",
       "      <td>0</td>\n",
       "      <td>0</td>\n",
       "      <td>0</td>\n",
       "      <td>0</td>\n",
       "      <td>0</td>\n",
       "      <td>0</td>\n",
       "      <td>0</td>\n",
       "      <td>0</td>\n",
       "      <td>0</td>\n",
       "      <td>0</td>\n",
       "    </tr>\n",
       "    <tr>\n",
       "      <th>111068</th>\n",
       "      <td>1999</td>\n",
       "      <td>60</td>\n",
       "      <td>80000</td>\n",
       "      <td>0</td>\n",
       "      <td>0</td>\n",
       "      <td>0</td>\n",
       "      <td>1</td>\n",
       "      <td>0</td>\n",
       "      <td>0</td>\n",
       "      <td>0</td>\n",
       "      <td>...</td>\n",
       "      <td>0</td>\n",
       "      <td>0</td>\n",
       "      <td>0</td>\n",
       "      <td>0</td>\n",
       "      <td>0</td>\n",
       "      <td>0</td>\n",
       "      <td>0</td>\n",
       "      <td>0</td>\n",
       "      <td>0</td>\n",
       "      <td>0</td>\n",
       "    </tr>\n",
       "    <tr>\n",
       "      <th>24225</th>\n",
       "      <td>2009</td>\n",
       "      <td>100</td>\n",
       "      <td>125000</td>\n",
       "      <td>0</td>\n",
       "      <td>0</td>\n",
       "      <td>0</td>\n",
       "      <td>0</td>\n",
       "      <td>0</td>\n",
       "      <td>1</td>\n",
       "      <td>0</td>\n",
       "      <td>...</td>\n",
       "      <td>0</td>\n",
       "      <td>0</td>\n",
       "      <td>0</td>\n",
       "      <td>0</td>\n",
       "      <td>0</td>\n",
       "      <td>0</td>\n",
       "      <td>0</td>\n",
       "      <td>0</td>\n",
       "      <td>0</td>\n",
       "      <td>1</td>\n",
       "    </tr>\n",
       "    <tr>\n",
       "      <th>125927</th>\n",
       "      <td>2004</td>\n",
       "      <td>125</td>\n",
       "      <td>150000</td>\n",
       "      <td>0</td>\n",
       "      <td>0</td>\n",
       "      <td>0</td>\n",
       "      <td>0</td>\n",
       "      <td>0</td>\n",
       "      <td>0</td>\n",
       "      <td>0</td>\n",
       "      <td>...</td>\n",
       "      <td>0</td>\n",
       "      <td>0</td>\n",
       "      <td>0</td>\n",
       "      <td>0</td>\n",
       "      <td>0</td>\n",
       "      <td>0</td>\n",
       "      <td>0</td>\n",
       "      <td>0</td>\n",
       "      <td>0</td>\n",
       "      <td>1</td>\n",
       "    </tr>\n",
       "    <tr>\n",
       "      <th>129824</th>\n",
       "      <td>2001</td>\n",
       "      <td>101</td>\n",
       "      <td>150000</td>\n",
       "      <td>0</td>\n",
       "      <td>0</td>\n",
       "      <td>0</td>\n",
       "      <td>0</td>\n",
       "      <td>0</td>\n",
       "      <td>0</td>\n",
       "      <td>0</td>\n",
       "      <td>...</td>\n",
       "      <td>0</td>\n",
       "      <td>0</td>\n",
       "      <td>0</td>\n",
       "      <td>0</td>\n",
       "      <td>0</td>\n",
       "      <td>0</td>\n",
       "      <td>0</td>\n",
       "      <td>0</td>\n",
       "      <td>0</td>\n",
       "      <td>0</td>\n",
       "    </tr>\n",
       "    <tr>\n",
       "      <th>...</th>\n",
       "      <td>...</td>\n",
       "      <td>...</td>\n",
       "      <td>...</td>\n",
       "      <td>...</td>\n",
       "      <td>...</td>\n",
       "      <td>...</td>\n",
       "      <td>...</td>\n",
       "      <td>...</td>\n",
       "      <td>...</td>\n",
       "      <td>...</td>\n",
       "      <td>...</td>\n",
       "      <td>...</td>\n",
       "      <td>...</td>\n",
       "      <td>...</td>\n",
       "      <td>...</td>\n",
       "      <td>...</td>\n",
       "      <td>...</td>\n",
       "      <td>...</td>\n",
       "      <td>...</td>\n",
       "      <td>...</td>\n",
       "      <td>...</td>\n",
       "    </tr>\n",
       "    <tr>\n",
       "      <th>195863</th>\n",
       "      <td>2005</td>\n",
       "      <td>139</td>\n",
       "      <td>150000</td>\n",
       "      <td>0</td>\n",
       "      <td>0</td>\n",
       "      <td>0</td>\n",
       "      <td>0</td>\n",
       "      <td>0</td>\n",
       "      <td>0</td>\n",
       "      <td>0</td>\n",
       "      <td>...</td>\n",
       "      <td>0</td>\n",
       "      <td>0</td>\n",
       "      <td>0</td>\n",
       "      <td>0</td>\n",
       "      <td>0</td>\n",
       "      <td>0</td>\n",
       "      <td>0</td>\n",
       "      <td>0</td>\n",
       "      <td>0</td>\n",
       "      <td>0</td>\n",
       "    </tr>\n",
       "    <tr>\n",
       "      <th>234439</th>\n",
       "      <td>2001</td>\n",
       "      <td>197</td>\n",
       "      <td>150000</td>\n",
       "      <td>1</td>\n",
       "      <td>0</td>\n",
       "      <td>0</td>\n",
       "      <td>0</td>\n",
       "      <td>0</td>\n",
       "      <td>0</td>\n",
       "      <td>0</td>\n",
       "      <td>...</td>\n",
       "      <td>0</td>\n",
       "      <td>0</td>\n",
       "      <td>0</td>\n",
       "      <td>0</td>\n",
       "      <td>0</td>\n",
       "      <td>0</td>\n",
       "      <td>0</td>\n",
       "      <td>0</td>\n",
       "      <td>0</td>\n",
       "      <td>0</td>\n",
       "    </tr>\n",
       "    <tr>\n",
       "      <th>173958</th>\n",
       "      <td>2001</td>\n",
       "      <td>105</td>\n",
       "      <td>150000</td>\n",
       "      <td>0</td>\n",
       "      <td>1</td>\n",
       "      <td>0</td>\n",
       "      <td>0</td>\n",
       "      <td>0</td>\n",
       "      <td>0</td>\n",
       "      <td>0</td>\n",
       "      <td>...</td>\n",
       "      <td>0</td>\n",
       "      <td>0</td>\n",
       "      <td>0</td>\n",
       "      <td>0</td>\n",
       "      <td>0</td>\n",
       "      <td>0</td>\n",
       "      <td>0</td>\n",
       "      <td>0</td>\n",
       "      <td>0</td>\n",
       "      <td>1</td>\n",
       "    </tr>\n",
       "    <tr>\n",
       "      <th>268664</th>\n",
       "      <td>1999</td>\n",
       "      <td>102</td>\n",
       "      <td>150000</td>\n",
       "      <td>0</td>\n",
       "      <td>0</td>\n",
       "      <td>0</td>\n",
       "      <td>0</td>\n",
       "      <td>1</td>\n",
       "      <td>0</td>\n",
       "      <td>0</td>\n",
       "      <td>...</td>\n",
       "      <td>0</td>\n",
       "      <td>0</td>\n",
       "      <td>0</td>\n",
       "      <td>0</td>\n",
       "      <td>0</td>\n",
       "      <td>0</td>\n",
       "      <td>0</td>\n",
       "      <td>0</td>\n",
       "      <td>0</td>\n",
       "      <td>1</td>\n",
       "    </tr>\n",
       "    <tr>\n",
       "      <th>278400</th>\n",
       "      <td>2011</td>\n",
       "      <td>60</td>\n",
       "      <td>80000</td>\n",
       "      <td>0</td>\n",
       "      <td>0</td>\n",
       "      <td>0</td>\n",
       "      <td>0</td>\n",
       "      <td>1</td>\n",
       "      <td>0</td>\n",
       "      <td>0</td>\n",
       "      <td>...</td>\n",
       "      <td>0</td>\n",
       "      <td>0</td>\n",
       "      <td>0</td>\n",
       "      <td>0</td>\n",
       "      <td>0</td>\n",
       "      <td>0</td>\n",
       "      <td>0</td>\n",
       "      <td>1</td>\n",
       "      <td>0</td>\n",
       "      <td>1</td>\n",
       "    </tr>\n",
       "  </tbody>\n",
       "</table>\n",
       "<p>56599 rows × 306 columns</p>\n",
       "</div>"
      ],
      "text/plain": [
       "        RegistrationYear  Power  Kilometer  VehicleType_convertible  \\\n",
       "41923               2008    160      70000                        1   \n",
       "111068              1999     60      80000                        0   \n",
       "24225               2009    100     125000                        0   \n",
       "125927              2004    125     150000                        0   \n",
       "129824              2001    101     150000                        0   \n",
       "...                  ...    ...        ...                      ...   \n",
       "195863              2005    139     150000                        0   \n",
       "234439              2001    197     150000                        1   \n",
       "173958              2001    105     150000                        0   \n",
       "268664              1999    102     150000                        0   \n",
       "278400              2011     60      80000                        0   \n",
       "\n",
       "        VehicleType_coupe  VehicleType_other  VehicleType_sedan  \\\n",
       "41923                   0                  0                  0   \n",
       "111068                  0                  0                  1   \n",
       "24225                   0                  0                  0   \n",
       "125927                  0                  0                  0   \n",
       "129824                  0                  0                  0   \n",
       "...                   ...                ...                ...   \n",
       "195863                  0                  0                  0   \n",
       "234439                  0                  0                  0   \n",
       "173958                  1                  0                  0   \n",
       "268664                  0                  0                  0   \n",
       "278400                  0                  0                  0   \n",
       "\n",
       "        VehicleType_small  VehicleType_suv  VehicleType_unknown  ...  \\\n",
       "41923                   0                0                    0  ...   \n",
       "111068                  0                0                    0  ...   \n",
       "24225                   0                1                    0  ...   \n",
       "125927                  0                0                    0  ...   \n",
       "129824                  0                0                    0  ...   \n",
       "...                   ...              ...                  ...  ...   \n",
       "195863                  0                0                    0  ...   \n",
       "234439                  0                0                    0  ...   \n",
       "173958                  0                0                    0  ...   \n",
       "268664                  1                0                    0  ...   \n",
       "278400                  1                0                    0  ...   \n",
       "\n",
       "        Brand_skoda  Brand_smart  Brand_sonstige_autos  Brand_subaru  \\\n",
       "41923             0            0                     0             0   \n",
       "111068            0            0                     0             0   \n",
       "24225             0            0                     0             0   \n",
       "125927            0            0                     0             0   \n",
       "129824            0            0                     0             0   \n",
       "...             ...          ...                   ...           ...   \n",
       "195863            0            0                     0             0   \n",
       "234439            0            0                     0             0   \n",
       "173958            0            0                     0             0   \n",
       "268664            0            0                     0             0   \n",
       "278400            0            0                     0             0   \n",
       "\n",
       "        Brand_suzuki  Brand_toyota  Brand_trabant  Brand_volkswagen  \\\n",
       "41923              0             0              0                 0   \n",
       "111068             0             0              0                 0   \n",
       "24225              0             0              0                 0   \n",
       "125927             0             0              0                 0   \n",
       "129824             0             0              0                 0   \n",
       "...              ...           ...            ...               ...   \n",
       "195863             0             0              0                 0   \n",
       "234439             0             0              0                 0   \n",
       "173958             0             0              0                 0   \n",
       "268664             0             0              0                 0   \n",
       "278400             0             0              0                 1   \n",
       "\n",
       "        Brand_volvo  Repaired_yes  \n",
       "41923             0             0  \n",
       "111068            0             0  \n",
       "24225             0             1  \n",
       "125927            0             1  \n",
       "129824            0             0  \n",
       "...             ...           ...  \n",
       "195863            0             0  \n",
       "234439            0             0  \n",
       "173958            0             1  \n",
       "268664            0             1  \n",
       "278400            0             1  \n",
       "\n",
       "[56599 rows x 306 columns]"
      ]
     },
     "metadata": {},
     "output_type": "display_data"
    },
    {
     "data": {
      "text/html": [
       "<div>\n",
       "<style scoped>\n",
       "    .dataframe tbody tr th:only-of-type {\n",
       "        vertical-align: middle;\n",
       "    }\n",
       "\n",
       "    .dataframe tbody tr th {\n",
       "        vertical-align: top;\n",
       "    }\n",
       "\n",
       "    .dataframe thead th {\n",
       "        text-align: right;\n",
       "    }\n",
       "</style>\n",
       "<table border=\"1\" class=\"dataframe\">\n",
       "  <thead>\n",
       "    <tr style=\"text-align: right;\">\n",
       "      <th></th>\n",
       "      <th>RegistrationYear</th>\n",
       "      <th>Power</th>\n",
       "      <th>Kilometer</th>\n",
       "      <th>VehicleType_convertible</th>\n",
       "      <th>VehicleType_coupe</th>\n",
       "      <th>VehicleType_other</th>\n",
       "      <th>VehicleType_sedan</th>\n",
       "      <th>VehicleType_small</th>\n",
       "      <th>VehicleType_suv</th>\n",
       "      <th>VehicleType_unknown</th>\n",
       "      <th>...</th>\n",
       "      <th>Brand_skoda</th>\n",
       "      <th>Brand_smart</th>\n",
       "      <th>Brand_sonstige_autos</th>\n",
       "      <th>Brand_subaru</th>\n",
       "      <th>Brand_suzuki</th>\n",
       "      <th>Brand_toyota</th>\n",
       "      <th>Brand_trabant</th>\n",
       "      <th>Brand_volkswagen</th>\n",
       "      <th>Brand_volvo</th>\n",
       "      <th>Repaired_yes</th>\n",
       "    </tr>\n",
       "  </thead>\n",
       "  <tbody>\n",
       "    <tr>\n",
       "      <th>247140</th>\n",
       "      <td>2003</td>\n",
       "      <td>136</td>\n",
       "      <td>150000</td>\n",
       "      <td>0</td>\n",
       "      <td>0</td>\n",
       "      <td>0</td>\n",
       "      <td>0</td>\n",
       "      <td>0</td>\n",
       "      <td>0</td>\n",
       "      <td>0</td>\n",
       "      <td>...</td>\n",
       "      <td>0</td>\n",
       "      <td>0</td>\n",
       "      <td>0</td>\n",
       "      <td>0</td>\n",
       "      <td>0</td>\n",
       "      <td>0</td>\n",
       "      <td>0</td>\n",
       "      <td>1</td>\n",
       "      <td>0</td>\n",
       "      <td>0</td>\n",
       "    </tr>\n",
       "    <tr>\n",
       "      <th>65050</th>\n",
       "      <td>1995</td>\n",
       "      <td>68</td>\n",
       "      <td>125000</td>\n",
       "      <td>0</td>\n",
       "      <td>0</td>\n",
       "      <td>0</td>\n",
       "      <td>0</td>\n",
       "      <td>0</td>\n",
       "      <td>0</td>\n",
       "      <td>0</td>\n",
       "      <td>...</td>\n",
       "      <td>1</td>\n",
       "      <td>0</td>\n",
       "      <td>0</td>\n",
       "      <td>0</td>\n",
       "      <td>0</td>\n",
       "      <td>0</td>\n",
       "      <td>0</td>\n",
       "      <td>0</td>\n",
       "      <td>0</td>\n",
       "      <td>1</td>\n",
       "    </tr>\n",
       "    <tr>\n",
       "      <th>90869</th>\n",
       "      <td>1995</td>\n",
       "      <td>150</td>\n",
       "      <td>150000</td>\n",
       "      <td>1</td>\n",
       "      <td>0</td>\n",
       "      <td>0</td>\n",
       "      <td>0</td>\n",
       "      <td>0</td>\n",
       "      <td>0</td>\n",
       "      <td>0</td>\n",
       "      <td>...</td>\n",
       "      <td>0</td>\n",
       "      <td>0</td>\n",
       "      <td>0</td>\n",
       "      <td>0</td>\n",
       "      <td>0</td>\n",
       "      <td>0</td>\n",
       "      <td>0</td>\n",
       "      <td>0</td>\n",
       "      <td>0</td>\n",
       "      <td>1</td>\n",
       "    </tr>\n",
       "    <tr>\n",
       "      <th>280385</th>\n",
       "      <td>1998</td>\n",
       "      <td>150</td>\n",
       "      <td>150000</td>\n",
       "      <td>0</td>\n",
       "      <td>0</td>\n",
       "      <td>0</td>\n",
       "      <td>1</td>\n",
       "      <td>0</td>\n",
       "      <td>0</td>\n",
       "      <td>0</td>\n",
       "      <td>...</td>\n",
       "      <td>0</td>\n",
       "      <td>0</td>\n",
       "      <td>0</td>\n",
       "      <td>0</td>\n",
       "      <td>0</td>\n",
       "      <td>0</td>\n",
       "      <td>0</td>\n",
       "      <td>0</td>\n",
       "      <td>0</td>\n",
       "      <td>1</td>\n",
       "    </tr>\n",
       "    <tr>\n",
       "      <th>262115</th>\n",
       "      <td>2002</td>\n",
       "      <td>211</td>\n",
       "      <td>150000</td>\n",
       "      <td>0</td>\n",
       "      <td>0</td>\n",
       "      <td>0</td>\n",
       "      <td>0</td>\n",
       "      <td>0</td>\n",
       "      <td>1</td>\n",
       "      <td>0</td>\n",
       "      <td>...</td>\n",
       "      <td>0</td>\n",
       "      <td>0</td>\n",
       "      <td>0</td>\n",
       "      <td>0</td>\n",
       "      <td>0</td>\n",
       "      <td>0</td>\n",
       "      <td>0</td>\n",
       "      <td>0</td>\n",
       "      <td>0</td>\n",
       "      <td>0</td>\n",
       "    </tr>\n",
       "    <tr>\n",
       "      <th>...</th>\n",
       "      <td>...</td>\n",
       "      <td>...</td>\n",
       "      <td>...</td>\n",
       "      <td>...</td>\n",
       "      <td>...</td>\n",
       "      <td>...</td>\n",
       "      <td>...</td>\n",
       "      <td>...</td>\n",
       "      <td>...</td>\n",
       "      <td>...</td>\n",
       "      <td>...</td>\n",
       "      <td>...</td>\n",
       "      <td>...</td>\n",
       "      <td>...</td>\n",
       "      <td>...</td>\n",
       "      <td>...</td>\n",
       "      <td>...</td>\n",
       "      <td>...</td>\n",
       "      <td>...</td>\n",
       "      <td>...</td>\n",
       "      <td>...</td>\n",
       "    </tr>\n",
       "    <tr>\n",
       "      <th>217805</th>\n",
       "      <td>2007</td>\n",
       "      <td>235</td>\n",
       "      <td>125000</td>\n",
       "      <td>0</td>\n",
       "      <td>0</td>\n",
       "      <td>0</td>\n",
       "      <td>1</td>\n",
       "      <td>0</td>\n",
       "      <td>0</td>\n",
       "      <td>0</td>\n",
       "      <td>...</td>\n",
       "      <td>0</td>\n",
       "      <td>0</td>\n",
       "      <td>0</td>\n",
       "      <td>0</td>\n",
       "      <td>0</td>\n",
       "      <td>0</td>\n",
       "      <td>0</td>\n",
       "      <td>0</td>\n",
       "      <td>0</td>\n",
       "      <td>1</td>\n",
       "    </tr>\n",
       "    <tr>\n",
       "      <th>52822</th>\n",
       "      <td>2000</td>\n",
       "      <td>193</td>\n",
       "      <td>150000</td>\n",
       "      <td>0</td>\n",
       "      <td>0</td>\n",
       "      <td>0</td>\n",
       "      <td>0</td>\n",
       "      <td>0</td>\n",
       "      <td>0</td>\n",
       "      <td>0</td>\n",
       "      <td>...</td>\n",
       "      <td>0</td>\n",
       "      <td>0</td>\n",
       "      <td>0</td>\n",
       "      <td>0</td>\n",
       "      <td>0</td>\n",
       "      <td>0</td>\n",
       "      <td>0</td>\n",
       "      <td>0</td>\n",
       "      <td>0</td>\n",
       "      <td>0</td>\n",
       "    </tr>\n",
       "    <tr>\n",
       "      <th>10905</th>\n",
       "      <td>1998</td>\n",
       "      <td>151</td>\n",
       "      <td>150000</td>\n",
       "      <td>0</td>\n",
       "      <td>0</td>\n",
       "      <td>0</td>\n",
       "      <td>0</td>\n",
       "      <td>0</td>\n",
       "      <td>0</td>\n",
       "      <td>0</td>\n",
       "      <td>...</td>\n",
       "      <td>0</td>\n",
       "      <td>0</td>\n",
       "      <td>0</td>\n",
       "      <td>0</td>\n",
       "      <td>0</td>\n",
       "      <td>0</td>\n",
       "      <td>0</td>\n",
       "      <td>1</td>\n",
       "      <td>0</td>\n",
       "      <td>0</td>\n",
       "    </tr>\n",
       "    <tr>\n",
       "      <th>30841</th>\n",
       "      <td>1995</td>\n",
       "      <td>75</td>\n",
       "      <td>150000</td>\n",
       "      <td>0</td>\n",
       "      <td>0</td>\n",
       "      <td>0</td>\n",
       "      <td>1</td>\n",
       "      <td>0</td>\n",
       "      <td>0</td>\n",
       "      <td>0</td>\n",
       "      <td>...</td>\n",
       "      <td>0</td>\n",
       "      <td>0</td>\n",
       "      <td>0</td>\n",
       "      <td>0</td>\n",
       "      <td>0</td>\n",
       "      <td>0</td>\n",
       "      <td>0</td>\n",
       "      <td>1</td>\n",
       "      <td>0</td>\n",
       "      <td>0</td>\n",
       "    </tr>\n",
       "    <tr>\n",
       "      <th>53854</th>\n",
       "      <td>2011</td>\n",
       "      <td>69</td>\n",
       "      <td>30000</td>\n",
       "      <td>0</td>\n",
       "      <td>0</td>\n",
       "      <td>0</td>\n",
       "      <td>0</td>\n",
       "      <td>1</td>\n",
       "      <td>0</td>\n",
       "      <td>0</td>\n",
       "      <td>...</td>\n",
       "      <td>0</td>\n",
       "      <td>0</td>\n",
       "      <td>0</td>\n",
       "      <td>0</td>\n",
       "      <td>0</td>\n",
       "      <td>0</td>\n",
       "      <td>0</td>\n",
       "      <td>0</td>\n",
       "      <td>0</td>\n",
       "      <td>0</td>\n",
       "    </tr>\n",
       "  </tbody>\n",
       "</table>\n",
       "<p>56599 rows × 306 columns</p>\n",
       "</div>"
      ],
      "text/plain": [
       "        RegistrationYear  Power  Kilometer  VehicleType_convertible  \\\n",
       "247140              2003    136     150000                        0   \n",
       "65050               1995     68     125000                        0   \n",
       "90869               1995    150     150000                        1   \n",
       "280385              1998    150     150000                        0   \n",
       "262115              2002    211     150000                        0   \n",
       "...                  ...    ...        ...                      ...   \n",
       "217805              2007    235     125000                        0   \n",
       "52822               2000    193     150000                        0   \n",
       "10905               1998    151     150000                        0   \n",
       "30841               1995     75     150000                        0   \n",
       "53854               2011     69      30000                        0   \n",
       "\n",
       "        VehicleType_coupe  VehicleType_other  VehicleType_sedan  \\\n",
       "247140                  0                  0                  0   \n",
       "65050                   0                  0                  0   \n",
       "90869                   0                  0                  0   \n",
       "280385                  0                  0                  1   \n",
       "262115                  0                  0                  0   \n",
       "...                   ...                ...                ...   \n",
       "217805                  0                  0                  1   \n",
       "52822                   0                  0                  0   \n",
       "10905                   0                  0                  0   \n",
       "30841                   0                  0                  1   \n",
       "53854                   0                  0                  0   \n",
       "\n",
       "        VehicleType_small  VehicleType_suv  VehicleType_unknown  ...  \\\n",
       "247140                  0                0                    0  ...   \n",
       "65050                   0                0                    0  ...   \n",
       "90869                   0                0                    0  ...   \n",
       "280385                  0                0                    0  ...   \n",
       "262115                  0                1                    0  ...   \n",
       "...                   ...              ...                  ...  ...   \n",
       "217805                  0                0                    0  ...   \n",
       "52822                   0                0                    0  ...   \n",
       "10905                   0                0                    0  ...   \n",
       "30841                   0                0                    0  ...   \n",
       "53854                   1                0                    0  ...   \n",
       "\n",
       "        Brand_skoda  Brand_smart  Brand_sonstige_autos  Brand_subaru  \\\n",
       "247140            0            0                     0             0   \n",
       "65050             1            0                     0             0   \n",
       "90869             0            0                     0             0   \n",
       "280385            0            0                     0             0   \n",
       "262115            0            0                     0             0   \n",
       "...             ...          ...                   ...           ...   \n",
       "217805            0            0                     0             0   \n",
       "52822             0            0                     0             0   \n",
       "10905             0            0                     0             0   \n",
       "30841             0            0                     0             0   \n",
       "53854             0            0                     0             0   \n",
       "\n",
       "        Brand_suzuki  Brand_toyota  Brand_trabant  Brand_volkswagen  \\\n",
       "247140             0             0              0                 1   \n",
       "65050              0             0              0                 0   \n",
       "90869              0             0              0                 0   \n",
       "280385             0             0              0                 0   \n",
       "262115             0             0              0                 0   \n",
       "...              ...           ...            ...               ...   \n",
       "217805             0             0              0                 0   \n",
       "52822              0             0              0                 0   \n",
       "10905              0             0              0                 1   \n",
       "30841              0             0              0                 1   \n",
       "53854              0             0              0                 0   \n",
       "\n",
       "        Brand_volvo  Repaired_yes  \n",
       "247140            0             0  \n",
       "65050             0             1  \n",
       "90869             0             1  \n",
       "280385            0             1  \n",
       "262115            0             0  \n",
       "...             ...           ...  \n",
       "217805            0             1  \n",
       "52822             0             0  \n",
       "10905             0             0  \n",
       "30841             0             0  \n",
       "53854             0             0  \n",
       "\n",
       "[56599 rows x 306 columns]"
      ]
     },
     "metadata": {},
     "output_type": "display_data"
    }
   ],
   "source": [
    "features_train_ohe = features_ohe.loc[features_train.index, :]\n",
    "features_valid_ohe = features_ohe.loc[features_valid.index, :]\n",
    "features_test_ohe = features_ohe.loc[features_test.index, :]\n",
    "\n",
    "display(features_train_ohe, features_valid_ohe, features_test_ohe)"
   ]
  },
  {
   "cell_type": "code",
   "execution_count": 32,
   "metadata": {},
   "outputs": [
    {
     "data": {
      "text/html": [
       "<div>\n",
       "<style scoped>\n",
       "    .dataframe tbody tr th:only-of-type {\n",
       "        vertical-align: middle;\n",
       "    }\n",
       "\n",
       "    .dataframe tbody tr th {\n",
       "        vertical-align: top;\n",
       "    }\n",
       "\n",
       "    .dataframe thead th {\n",
       "        text-align: right;\n",
       "    }\n",
       "</style>\n",
       "<table border=\"1\" class=\"dataframe\">\n",
       "  <thead>\n",
       "    <tr style=\"text-align: right;\">\n",
       "      <th></th>\n",
       "      <th>VehicleType</th>\n",
       "      <th>RegistrationYear</th>\n",
       "      <th>Gearbox</th>\n",
       "      <th>Power</th>\n",
       "      <th>Model</th>\n",
       "      <th>Kilometer</th>\n",
       "      <th>FuelType</th>\n",
       "      <th>Brand</th>\n",
       "      <th>Repaired</th>\n",
       "    </tr>\n",
       "  </thead>\n",
       "  <tbody>\n",
       "    <tr>\n",
       "      <th>60881</th>\n",
       "      <td>8.0</td>\n",
       "      <td>2013</td>\n",
       "      <td>1.0</td>\n",
       "      <td>150</td>\n",
       "      <td>59.0</td>\n",
       "      <td>20000</td>\n",
       "      <td>2.0</td>\n",
       "      <td>10.0</td>\n",
       "      <td>0.0</td>\n",
       "    </tr>\n",
       "    <tr>\n",
       "      <th>210584</th>\n",
       "      <td>8.0</td>\n",
       "      <td>1998</td>\n",
       "      <td>1.0</td>\n",
       "      <td>170</td>\n",
       "      <td>15.0</td>\n",
       "      <td>150000</td>\n",
       "      <td>2.0</td>\n",
       "      <td>2.0</td>\n",
       "      <td>0.0</td>\n",
       "    </tr>\n",
       "    <tr>\n",
       "      <th>61596</th>\n",
       "      <td>1.0</td>\n",
       "      <td>2009</td>\n",
       "      <td>1.0</td>\n",
       "      <td>143</td>\n",
       "      <td>6.0</td>\n",
       "      <td>90000</td>\n",
       "      <td>2.0</td>\n",
       "      <td>2.0</td>\n",
       "      <td>0.0</td>\n",
       "    </tr>\n",
       "    <tr>\n",
       "      <th>106699</th>\n",
       "      <td>1.0</td>\n",
       "      <td>2007</td>\n",
       "      <td>0.0</td>\n",
       "      <td>140</td>\n",
       "      <td>10.0</td>\n",
       "      <td>70000</td>\n",
       "      <td>2.0</td>\n",
       "      <td>25.0</td>\n",
       "      <td>0.0</td>\n",
       "    </tr>\n",
       "    <tr>\n",
       "      <th>169158</th>\n",
       "      <td>8.0</td>\n",
       "      <td>2005</td>\n",
       "      <td>1.0</td>\n",
       "      <td>105</td>\n",
       "      <td>61.0</td>\n",
       "      <td>150000</td>\n",
       "      <td>2.0</td>\n",
       "      <td>38.0</td>\n",
       "      <td>0.0</td>\n",
       "    </tr>\n",
       "    <tr>\n",
       "      <th>...</th>\n",
       "      <td>...</td>\n",
       "      <td>...</td>\n",
       "      <td>...</td>\n",
       "      <td>...</td>\n",
       "      <td>...</td>\n",
       "      <td>...</td>\n",
       "      <td>...</td>\n",
       "      <td>...</td>\n",
       "      <td>...</td>\n",
       "    </tr>\n",
       "    <tr>\n",
       "      <th>13921</th>\n",
       "      <td>4.0</td>\n",
       "      <td>1998</td>\n",
       "      <td>1.0</td>\n",
       "      <td>101</td>\n",
       "      <td>28.0</td>\n",
       "      <td>150000</td>\n",
       "      <td>2.0</td>\n",
       "      <td>1.0</td>\n",
       "      <td>0.0</td>\n",
       "    </tr>\n",
       "    <tr>\n",
       "      <th>161491</th>\n",
       "      <td>4.0</td>\n",
       "      <td>2012</td>\n",
       "      <td>1.0</td>\n",
       "      <td>170</td>\n",
       "      <td>139.0</td>\n",
       "      <td>90000</td>\n",
       "      <td>2.0</td>\n",
       "      <td>30.0</td>\n",
       "      <td>0.0</td>\n",
       "    </tr>\n",
       "    <tr>\n",
       "      <th>72226</th>\n",
       "      <td>8.0</td>\n",
       "      <td>2013</td>\n",
       "      <td>1.0</td>\n",
       "      <td>140</td>\n",
       "      <td>41.0</td>\n",
       "      <td>10000</td>\n",
       "      <td>2.0</td>\n",
       "      <td>24.0</td>\n",
       "      <td>0.0</td>\n",
       "    </tr>\n",
       "    <tr>\n",
       "      <th>265912</th>\n",
       "      <td>0.0</td>\n",
       "      <td>2001</td>\n",
       "      <td>1.0</td>\n",
       "      <td>82</td>\n",
       "      <td>236.0</td>\n",
       "      <td>150000</td>\n",
       "      <td>2.0</td>\n",
       "      <td>20.0</td>\n",
       "      <td>0.0</td>\n",
       "    </tr>\n",
       "    <tr>\n",
       "      <th>150521</th>\n",
       "      <td>5.0</td>\n",
       "      <td>2001</td>\n",
       "      <td>1.0</td>\n",
       "      <td>75</td>\n",
       "      <td>172.0</td>\n",
       "      <td>150000</td>\n",
       "      <td>2.0</td>\n",
       "      <td>38.0</td>\n",
       "      <td>1.0</td>\n",
       "    </tr>\n",
       "  </tbody>\n",
       "</table>\n",
       "<p>169797 rows × 9 columns</p>\n",
       "</div>"
      ],
      "text/plain": [
       "        VehicleType  RegistrationYear  Gearbox  Power  Model  Kilometer  \\\n",
       "60881           8.0              2013      1.0    150   59.0      20000   \n",
       "210584          8.0              1998      1.0    170   15.0     150000   \n",
       "61596           1.0              2009      1.0    143    6.0      90000   \n",
       "106699          1.0              2007      0.0    140   10.0      70000   \n",
       "169158          8.0              2005      1.0    105   61.0     150000   \n",
       "...             ...               ...      ...    ...    ...        ...   \n",
       "13921           4.0              1998      1.0    101   28.0     150000   \n",
       "161491          4.0              2012      1.0    170  139.0      90000   \n",
       "72226           8.0              2013      1.0    140   41.0      10000   \n",
       "265912          0.0              2001      1.0     82  236.0     150000   \n",
       "150521          5.0              2001      1.0     75  172.0     150000   \n",
       "\n",
       "        FuelType  Brand  Repaired  \n",
       "60881        2.0   10.0       0.0  \n",
       "210584       2.0    2.0       0.0  \n",
       "61596        2.0    2.0       0.0  \n",
       "106699       2.0   25.0       0.0  \n",
       "169158       2.0   38.0       0.0  \n",
       "...          ...    ...       ...  \n",
       "13921        2.0    1.0       0.0  \n",
       "161491       2.0   30.0       0.0  \n",
       "72226        2.0   24.0       0.0  \n",
       "265912       2.0   20.0       0.0  \n",
       "150521       2.0   38.0       1.0  \n",
       "\n",
       "[169797 rows x 9 columns]"
      ]
     },
     "metadata": {},
     "output_type": "display_data"
    },
    {
     "data": {
      "text/html": [
       "<div>\n",
       "<style scoped>\n",
       "    .dataframe tbody tr th:only-of-type {\n",
       "        vertical-align: middle;\n",
       "    }\n",
       "\n",
       "    .dataframe tbody tr th {\n",
       "        vertical-align: top;\n",
       "    }\n",
       "\n",
       "    .dataframe thead th {\n",
       "        text-align: right;\n",
       "    }\n",
       "</style>\n",
       "<table border=\"1\" class=\"dataframe\">\n",
       "  <thead>\n",
       "    <tr style=\"text-align: right;\">\n",
       "      <th></th>\n",
       "      <th>VehicleType</th>\n",
       "      <th>RegistrationYear</th>\n",
       "      <th>Gearbox</th>\n",
       "      <th>Power</th>\n",
       "      <th>Model</th>\n",
       "      <th>Kilometer</th>\n",
       "      <th>FuelType</th>\n",
       "      <th>Brand</th>\n",
       "      <th>Repaired</th>\n",
       "    </tr>\n",
       "  </thead>\n",
       "  <tbody>\n",
       "    <tr>\n",
       "      <th>41923</th>\n",
       "      <td>1.0</td>\n",
       "      <td>2008</td>\n",
       "      <td>1.0</td>\n",
       "      <td>160</td>\n",
       "      <td>157.0</td>\n",
       "      <td>70000</td>\n",
       "      <td>2.0</td>\n",
       "      <td>19.0</td>\n",
       "      <td>0.0</td>\n",
       "    </tr>\n",
       "    <tr>\n",
       "      <th>111068</th>\n",
       "      <td>4.0</td>\n",
       "      <td>1999</td>\n",
       "      <td>1.0</td>\n",
       "      <td>60</td>\n",
       "      <td>127.0</td>\n",
       "      <td>80000</td>\n",
       "      <td>2.0</td>\n",
       "      <td>10.0</td>\n",
       "      <td>0.0</td>\n",
       "    </tr>\n",
       "    <tr>\n",
       "      <th>24225</th>\n",
       "      <td>6.0</td>\n",
       "      <td>2009</td>\n",
       "      <td>1.0</td>\n",
       "      <td>100</td>\n",
       "      <td>179.0</td>\n",
       "      <td>125000</td>\n",
       "      <td>2.0</td>\n",
       "      <td>23.0</td>\n",
       "      <td>1.0</td>\n",
       "    </tr>\n",
       "    <tr>\n",
       "      <th>125927</th>\n",
       "      <td>0.0</td>\n",
       "      <td>2004</td>\n",
       "      <td>1.0</td>\n",
       "      <td>125</td>\n",
       "      <td>248.0</td>\n",
       "      <td>150000</td>\n",
       "      <td>6.0</td>\n",
       "      <td>24.0</td>\n",
       "      <td>1.0</td>\n",
       "    </tr>\n",
       "    <tr>\n",
       "      <th>129824</th>\n",
       "      <td>8.0</td>\n",
       "      <td>2001</td>\n",
       "      <td>1.0</td>\n",
       "      <td>101</td>\n",
       "      <td>41.0</td>\n",
       "      <td>150000</td>\n",
       "      <td>2.0</td>\n",
       "      <td>24.0</td>\n",
       "      <td>0.0</td>\n",
       "    </tr>\n",
       "    <tr>\n",
       "      <th>...</th>\n",
       "      <td>...</td>\n",
       "      <td>...</td>\n",
       "      <td>...</td>\n",
       "      <td>...</td>\n",
       "      <td>...</td>\n",
       "      <td>...</td>\n",
       "      <td>...</td>\n",
       "      <td>...</td>\n",
       "      <td>...</td>\n",
       "    </tr>\n",
       "    <tr>\n",
       "      <th>195863</th>\n",
       "      <td>8.0</td>\n",
       "      <td>2005</td>\n",
       "      <td>1.0</td>\n",
       "      <td>139</td>\n",
       "      <td>135.0</td>\n",
       "      <td>150000</td>\n",
       "      <td>2.0</td>\n",
       "      <td>27.0</td>\n",
       "      <td>0.0</td>\n",
       "    </tr>\n",
       "    <tr>\n",
       "      <th>234439</th>\n",
       "      <td>1.0</td>\n",
       "      <td>2001</td>\n",
       "      <td>0.0</td>\n",
       "      <td>197</td>\n",
       "      <td>75.0</td>\n",
       "      <td>150000</td>\n",
       "      <td>2.0</td>\n",
       "      <td>20.0</td>\n",
       "      <td>0.0</td>\n",
       "    </tr>\n",
       "    <tr>\n",
       "      <th>173958</th>\n",
       "      <td>2.0</td>\n",
       "      <td>2001</td>\n",
       "      <td>1.0</td>\n",
       "      <td>105</td>\n",
       "      <td>11.0</td>\n",
       "      <td>150000</td>\n",
       "      <td>6.0</td>\n",
       "      <td>2.0</td>\n",
       "      <td>1.0</td>\n",
       "    </tr>\n",
       "    <tr>\n",
       "      <th>268664</th>\n",
       "      <td>5.0</td>\n",
       "      <td>1999</td>\n",
       "      <td>1.0</td>\n",
       "      <td>102</td>\n",
       "      <td>32.0</td>\n",
       "      <td>150000</td>\n",
       "      <td>6.0</td>\n",
       "      <td>20.0</td>\n",
       "      <td>1.0</td>\n",
       "    </tr>\n",
       "    <tr>\n",
       "      <th>278400</th>\n",
       "      <td>5.0</td>\n",
       "      <td>2011</td>\n",
       "      <td>1.0</td>\n",
       "      <td>60</td>\n",
       "      <td>227.0</td>\n",
       "      <td>80000</td>\n",
       "      <td>2.0</td>\n",
       "      <td>38.0</td>\n",
       "      <td>1.0</td>\n",
       "    </tr>\n",
       "  </tbody>\n",
       "</table>\n",
       "<p>56599 rows × 9 columns</p>\n",
       "</div>"
      ],
      "text/plain": [
       "        VehicleType  RegistrationYear  Gearbox  Power  Model  Kilometer  \\\n",
       "41923           1.0              2008      1.0    160  157.0      70000   \n",
       "111068          4.0              1999      1.0     60  127.0      80000   \n",
       "24225           6.0              2009      1.0    100  179.0     125000   \n",
       "125927          0.0              2004      1.0    125  248.0     150000   \n",
       "129824          8.0              2001      1.0    101   41.0     150000   \n",
       "...             ...               ...      ...    ...    ...        ...   \n",
       "195863          8.0              2005      1.0    139  135.0     150000   \n",
       "234439          1.0              2001      0.0    197   75.0     150000   \n",
       "173958          2.0              2001      1.0    105   11.0     150000   \n",
       "268664          5.0              1999      1.0    102   32.0     150000   \n",
       "278400          5.0              2011      1.0     60  227.0      80000   \n",
       "\n",
       "        FuelType  Brand  Repaired  \n",
       "41923        2.0   19.0       0.0  \n",
       "111068       2.0   10.0       0.0  \n",
       "24225        2.0   23.0       1.0  \n",
       "125927       6.0   24.0       1.0  \n",
       "129824       2.0   24.0       0.0  \n",
       "...          ...    ...       ...  \n",
       "195863       2.0   27.0       0.0  \n",
       "234439       2.0   20.0       0.0  \n",
       "173958       6.0    2.0       1.0  \n",
       "268664       6.0   20.0       1.0  \n",
       "278400       2.0   38.0       1.0  \n",
       "\n",
       "[56599 rows x 9 columns]"
      ]
     },
     "metadata": {},
     "output_type": "display_data"
    },
    {
     "data": {
      "text/html": [
       "<div>\n",
       "<style scoped>\n",
       "    .dataframe tbody tr th:only-of-type {\n",
       "        vertical-align: middle;\n",
       "    }\n",
       "\n",
       "    .dataframe tbody tr th {\n",
       "        vertical-align: top;\n",
       "    }\n",
       "\n",
       "    .dataframe thead th {\n",
       "        text-align: right;\n",
       "    }\n",
       "</style>\n",
       "<table border=\"1\" class=\"dataframe\">\n",
       "  <thead>\n",
       "    <tr style=\"text-align: right;\">\n",
       "      <th></th>\n",
       "      <th>VehicleType</th>\n",
       "      <th>RegistrationYear</th>\n",
       "      <th>Gearbox</th>\n",
       "      <th>Power</th>\n",
       "      <th>Model</th>\n",
       "      <th>Kilometer</th>\n",
       "      <th>FuelType</th>\n",
       "      <th>Brand</th>\n",
       "      <th>Repaired</th>\n",
       "    </tr>\n",
       "  </thead>\n",
       "  <tbody>\n",
       "    <tr>\n",
       "      <th>247140</th>\n",
       "      <td>0.0</td>\n",
       "      <td>2003</td>\n",
       "      <td>1.0</td>\n",
       "      <td>136</td>\n",
       "      <td>220.0</td>\n",
       "      <td>150000</td>\n",
       "      <td>2.0</td>\n",
       "      <td>38.0</td>\n",
       "      <td>0.0</td>\n",
       "    </tr>\n",
       "    <tr>\n",
       "      <th>65050</th>\n",
       "      <td>8.0</td>\n",
       "      <td>1995</td>\n",
       "      <td>1.0</td>\n",
       "      <td>68</td>\n",
       "      <td>226.0</td>\n",
       "      <td>125000</td>\n",
       "      <td>2.0</td>\n",
       "      <td>31.0</td>\n",
       "      <td>1.0</td>\n",
       "    </tr>\n",
       "    <tr>\n",
       "      <th>90869</th>\n",
       "      <td>1.0</td>\n",
       "      <td>1995</td>\n",
       "      <td>1.0</td>\n",
       "      <td>150</td>\n",
       "      <td>19.0</td>\n",
       "      <td>150000</td>\n",
       "      <td>6.0</td>\n",
       "      <td>1.0</td>\n",
       "      <td>1.0</td>\n",
       "    </tr>\n",
       "    <tr>\n",
       "      <th>280385</th>\n",
       "      <td>4.0</td>\n",
       "      <td>1998</td>\n",
       "      <td>1.0</td>\n",
       "      <td>150</td>\n",
       "      <td>226.0</td>\n",
       "      <td>150000</td>\n",
       "      <td>2.0</td>\n",
       "      <td>1.0</td>\n",
       "      <td>1.0</td>\n",
       "    </tr>\n",
       "    <tr>\n",
       "      <th>262115</th>\n",
       "      <td>6.0</td>\n",
       "      <td>2002</td>\n",
       "      <td>0.0</td>\n",
       "      <td>211</td>\n",
       "      <td>70.0</td>\n",
       "      <td>150000</td>\n",
       "      <td>4.0</td>\n",
       "      <td>14.0</td>\n",
       "      <td>0.0</td>\n",
       "    </tr>\n",
       "    <tr>\n",
       "      <th>...</th>\n",
       "      <td>...</td>\n",
       "      <td>...</td>\n",
       "      <td>...</td>\n",
       "      <td>...</td>\n",
       "      <td>...</td>\n",
       "      <td>...</td>\n",
       "      <td>...</td>\n",
       "      <td>...</td>\n",
       "      <td>...</td>\n",
       "    </tr>\n",
       "    <tr>\n",
       "      <th>217805</th>\n",
       "      <td>4.0</td>\n",
       "      <td>2007</td>\n",
       "      <td>0.0</td>\n",
       "      <td>235</td>\n",
       "      <td>15.0</td>\n",
       "      <td>125000</td>\n",
       "      <td>2.0</td>\n",
       "      <td>2.0</td>\n",
       "      <td>1.0</td>\n",
       "    </tr>\n",
       "    <tr>\n",
       "      <th>52822</th>\n",
       "      <td>8.0</td>\n",
       "      <td>2000</td>\n",
       "      <td>1.0</td>\n",
       "      <td>193</td>\n",
       "      <td>11.0</td>\n",
       "      <td>150000</td>\n",
       "      <td>2.0</td>\n",
       "      <td>2.0</td>\n",
       "      <td>0.0</td>\n",
       "    </tr>\n",
       "    <tr>\n",
       "      <th>10905</th>\n",
       "      <td>0.0</td>\n",
       "      <td>1998</td>\n",
       "      <td>1.0</td>\n",
       "      <td>151</td>\n",
       "      <td>222.0</td>\n",
       "      <td>150000</td>\n",
       "      <td>2.0</td>\n",
       "      <td>38.0</td>\n",
       "      <td>0.0</td>\n",
       "    </tr>\n",
       "    <tr>\n",
       "      <th>30841</th>\n",
       "      <td>4.0</td>\n",
       "      <td>1995</td>\n",
       "      <td>1.0</td>\n",
       "      <td>75</td>\n",
       "      <td>115.0</td>\n",
       "      <td>150000</td>\n",
       "      <td>2.0</td>\n",
       "      <td>38.0</td>\n",
       "      <td>0.0</td>\n",
       "    </tr>\n",
       "    <tr>\n",
       "      <th>53854</th>\n",
       "      <td>5.0</td>\n",
       "      <td>2011</td>\n",
       "      <td>1.0</td>\n",
       "      <td>69</td>\n",
       "      <td>168.0</td>\n",
       "      <td>30000</td>\n",
       "      <td>2.0</td>\n",
       "      <td>9.0</td>\n",
       "      <td>0.0</td>\n",
       "    </tr>\n",
       "  </tbody>\n",
       "</table>\n",
       "<p>56599 rows × 9 columns</p>\n",
       "</div>"
      ],
      "text/plain": [
       "        VehicleType  RegistrationYear  Gearbox  Power  Model  Kilometer  \\\n",
       "247140          0.0              2003      1.0    136  220.0     150000   \n",
       "65050           8.0              1995      1.0     68  226.0     125000   \n",
       "90869           1.0              1995      1.0    150   19.0     150000   \n",
       "280385          4.0              1998      1.0    150  226.0     150000   \n",
       "262115          6.0              2002      0.0    211   70.0     150000   \n",
       "...             ...               ...      ...    ...    ...        ...   \n",
       "217805          4.0              2007      0.0    235   15.0     125000   \n",
       "52822           8.0              2000      1.0    193   11.0     150000   \n",
       "10905           0.0              1998      1.0    151  222.0     150000   \n",
       "30841           4.0              1995      1.0     75  115.0     150000   \n",
       "53854           5.0              2011      1.0     69  168.0      30000   \n",
       "\n",
       "        FuelType  Brand  Repaired  \n",
       "247140       2.0   38.0       0.0  \n",
       "65050        2.0   31.0       1.0  \n",
       "90869        6.0    1.0       1.0  \n",
       "280385       2.0    1.0       1.0  \n",
       "262115       4.0   14.0       0.0  \n",
       "...          ...    ...       ...  \n",
       "217805       2.0    2.0       1.0  \n",
       "52822        2.0    2.0       0.0  \n",
       "10905        2.0   38.0       0.0  \n",
       "30841        2.0   38.0       0.0  \n",
       "53854        2.0    9.0       0.0  \n",
       "\n",
       "[56599 rows x 9 columns]"
      ]
     },
     "metadata": {},
     "output_type": "display_data"
    }
   ],
   "source": [
    "#Кодирую категориальные признаки в данных\n",
    "encoder = OrdinalEncoder()\n",
    "cat_columns = ['VehicleType', 'Gearbox', 'Model','FuelType', 'Brand', 'Repaired']\n",
    "cat_features_train = features_train[cat_columns]\n",
    "cat_features_train = pd.DataFrame(encoder.fit_transform(cat_features_train),\n",
    "                                columns=cat_features_train.columns, \n",
    "                                index=cat_features_train.index)\n",
    "features_train_oe = features_train.copy()\n",
    "for column in cat_columns:\n",
    "    features_train_oe[column] = cat_features_train[column]\n",
    "\n",
    "\n",
    "\n",
    "cat_features_valid = features_valid[cat_columns]\n",
    "cat_features_valid = pd.DataFrame(encoder.transform(cat_features_valid),\n",
    "                                columns=cat_features_valid.columns, \n",
    "                                index=cat_features_valid.index)\n",
    "features_valid_oe = features_valid.copy()\n",
    "for column in cat_columns:\n",
    "    features_valid_oe[column] = cat_features_valid[column]\n",
    "\n",
    "\n",
    "\n",
    "cat_features_test = features_test[cat_columns]\n",
    "cat_features_test = pd.DataFrame(encoder.transform(cat_features_test),\n",
    "                                columns=cat_features_test.columns, \n",
    "                                index=cat_features_test.index)\n",
    "features_test_oe = features_test.copy()\n",
    "for column in cat_columns:\n",
    "    features_test_oe[column] = cat_features_test[column]\n",
    "    \n",
    "    \n",
    "    \n",
    "display(features_train_oe, features_valid_oe, features_test_oe)"
   ]
  },
  {
   "cell_type": "code",
   "execution_count": 33,
   "metadata": {},
   "outputs": [
    {
     "data": {
      "text/html": [
       "<div>\n",
       "<style scoped>\n",
       "    .dataframe tbody tr th:only-of-type {\n",
       "        vertical-align: middle;\n",
       "    }\n",
       "\n",
       "    .dataframe tbody tr th {\n",
       "        vertical-align: top;\n",
       "    }\n",
       "\n",
       "    .dataframe thead th {\n",
       "        text-align: right;\n",
       "    }\n",
       "</style>\n",
       "<table border=\"1\" class=\"dataframe\">\n",
       "  <thead>\n",
       "    <tr style=\"text-align: right;\">\n",
       "      <th></th>\n",
       "      <th>VehicleType</th>\n",
       "      <th>RegistrationYear</th>\n",
       "      <th>Gearbox</th>\n",
       "      <th>Power</th>\n",
       "      <th>Model</th>\n",
       "      <th>Kilometer</th>\n",
       "      <th>FuelType</th>\n",
       "      <th>Brand</th>\n",
       "      <th>Repaired</th>\n",
       "    </tr>\n",
       "  </thead>\n",
       "  <tbody>\n",
       "    <tr>\n",
       "      <th>60881</th>\n",
       "      <td>wagon</td>\n",
       "      <td>1.440243</td>\n",
       "      <td>manual</td>\n",
       "      <td>0.506464</td>\n",
       "      <td>c_max</td>\n",
       "      <td>-2.957251</td>\n",
       "      <td>gasoline</td>\n",
       "      <td>ford</td>\n",
       "      <td>no</td>\n",
       "    </tr>\n",
       "    <tr>\n",
       "      <th>210584</th>\n",
       "      <td>wagon</td>\n",
       "      <td>-0.900450</td>\n",
       "      <td>manual</td>\n",
       "      <td>0.895864</td>\n",
       "      <td>5er</td>\n",
       "      <td>0.594006</td>\n",
       "      <td>gasoline</td>\n",
       "      <td>bmw</td>\n",
       "      <td>no</td>\n",
       "    </tr>\n",
       "    <tr>\n",
       "      <th>61596</th>\n",
       "      <td>convertible</td>\n",
       "      <td>0.816058</td>\n",
       "      <td>manual</td>\n",
       "      <td>0.370174</td>\n",
       "      <td>1er</td>\n",
       "      <td>-1.045035</td>\n",
       "      <td>gasoline</td>\n",
       "      <td>bmw</td>\n",
       "      <td>no</td>\n",
       "    </tr>\n",
       "    <tr>\n",
       "      <th>106699</th>\n",
       "      <td>convertible</td>\n",
       "      <td>0.503965</td>\n",
       "      <td>auto</td>\n",
       "      <td>0.311764</td>\n",
       "      <td>3_reihe</td>\n",
       "      <td>-1.591383</td>\n",
       "      <td>gasoline</td>\n",
       "      <td>peugeot</td>\n",
       "      <td>no</td>\n",
       "    </tr>\n",
       "    <tr>\n",
       "      <th>169158</th>\n",
       "      <td>wagon</td>\n",
       "      <td>0.191873</td>\n",
       "      <td>manual</td>\n",
       "      <td>-0.369685</td>\n",
       "      <td>caddy</td>\n",
       "      <td>0.594006</td>\n",
       "      <td>gasoline</td>\n",
       "      <td>volkswagen</td>\n",
       "      <td>no</td>\n",
       "    </tr>\n",
       "    <tr>\n",
       "      <th>...</th>\n",
       "      <td>...</td>\n",
       "      <td>...</td>\n",
       "      <td>...</td>\n",
       "      <td>...</td>\n",
       "      <td>...</td>\n",
       "      <td>...</td>\n",
       "      <td>...</td>\n",
       "      <td>...</td>\n",
       "      <td>...</td>\n",
       "    </tr>\n",
       "    <tr>\n",
       "      <th>13921</th>\n",
       "      <td>sedan</td>\n",
       "      <td>-0.900450</td>\n",
       "      <td>manual</td>\n",
       "      <td>-0.447565</td>\n",
       "      <td>a4</td>\n",
       "      <td>0.594006</td>\n",
       "      <td>gasoline</td>\n",
       "      <td>audi</td>\n",
       "      <td>no</td>\n",
       "    </tr>\n",
       "    <tr>\n",
       "      <th>161491</th>\n",
       "      <td>sedan</td>\n",
       "      <td>1.284196</td>\n",
       "      <td>manual</td>\n",
       "      <td>0.895864</td>\n",
       "      <td>leon</td>\n",
       "      <td>-1.045035</td>\n",
       "      <td>gasoline</td>\n",
       "      <td>seat</td>\n",
       "      <td>no</td>\n",
       "    </tr>\n",
       "    <tr>\n",
       "      <th>72226</th>\n",
       "      <td>wagon</td>\n",
       "      <td>1.440243</td>\n",
       "      <td>manual</td>\n",
       "      <td>0.311764</td>\n",
       "      <td>astra</td>\n",
       "      <td>-3.230424</td>\n",
       "      <td>gasoline</td>\n",
       "      <td>opel</td>\n",
       "      <td>no</td>\n",
       "    </tr>\n",
       "    <tr>\n",
       "      <th>265912</th>\n",
       "      <td>bus</td>\n",
       "      <td>-0.432312</td>\n",
       "      <td>manual</td>\n",
       "      <td>-0.817494</td>\n",
       "      <td>vito</td>\n",
       "      <td>0.594006</td>\n",
       "      <td>gasoline</td>\n",
       "      <td>mercedes_benz</td>\n",
       "      <td>no</td>\n",
       "    </tr>\n",
       "    <tr>\n",
       "      <th>150521</th>\n",
       "      <td>small</td>\n",
       "      <td>-0.432312</td>\n",
       "      <td>manual</td>\n",
       "      <td>-0.953784</td>\n",
       "      <td>polo</td>\n",
       "      <td>0.594006</td>\n",
       "      <td>gasoline</td>\n",
       "      <td>volkswagen</td>\n",
       "      <td>yes</td>\n",
       "    </tr>\n",
       "  </tbody>\n",
       "</table>\n",
       "<p>169797 rows × 9 columns</p>\n",
       "</div>"
      ],
      "text/plain": [
       "        VehicleType  RegistrationYear Gearbox     Power    Model  Kilometer  \\\n",
       "60881         wagon          1.440243  manual  0.506464    c_max  -2.957251   \n",
       "210584        wagon         -0.900450  manual  0.895864      5er   0.594006   \n",
       "61596   convertible          0.816058  manual  0.370174      1er  -1.045035   \n",
       "106699  convertible          0.503965    auto  0.311764  3_reihe  -1.591383   \n",
       "169158        wagon          0.191873  manual -0.369685    caddy   0.594006   \n",
       "...             ...               ...     ...       ...      ...        ...   \n",
       "13921         sedan         -0.900450  manual -0.447565       a4   0.594006   \n",
       "161491        sedan          1.284196  manual  0.895864     leon  -1.045035   \n",
       "72226         wagon          1.440243  manual  0.311764    astra  -3.230424   \n",
       "265912          bus         -0.432312  manual -0.817494     vito   0.594006   \n",
       "150521        small         -0.432312  manual -0.953784     polo   0.594006   \n",
       "\n",
       "        FuelType          Brand Repaired  \n",
       "60881   gasoline           ford       no  \n",
       "210584  gasoline            bmw       no  \n",
       "61596   gasoline            bmw       no  \n",
       "106699  gasoline        peugeot       no  \n",
       "169158  gasoline     volkswagen       no  \n",
       "...          ...            ...      ...  \n",
       "13921   gasoline           audi       no  \n",
       "161491  gasoline           seat       no  \n",
       "72226   gasoline           opel       no  \n",
       "265912  gasoline  mercedes_benz       no  \n",
       "150521  gasoline     volkswagen      yes  \n",
       "\n",
       "[169797 rows x 9 columns]"
      ]
     },
     "metadata": {},
     "output_type": "display_data"
    },
    {
     "data": {
      "text/html": [
       "<div>\n",
       "<style scoped>\n",
       "    .dataframe tbody tr th:only-of-type {\n",
       "        vertical-align: middle;\n",
       "    }\n",
       "\n",
       "    .dataframe tbody tr th {\n",
       "        vertical-align: top;\n",
       "    }\n",
       "\n",
       "    .dataframe thead th {\n",
       "        text-align: right;\n",
       "    }\n",
       "</style>\n",
       "<table border=\"1\" class=\"dataframe\">\n",
       "  <thead>\n",
       "    <tr style=\"text-align: right;\">\n",
       "      <th></th>\n",
       "      <th>VehicleType</th>\n",
       "      <th>RegistrationYear</th>\n",
       "      <th>Gearbox</th>\n",
       "      <th>Power</th>\n",
       "      <th>Model</th>\n",
       "      <th>Kilometer</th>\n",
       "      <th>FuelType</th>\n",
       "      <th>Brand</th>\n",
       "      <th>Repaired</th>\n",
       "    </tr>\n",
       "  </thead>\n",
       "  <tbody>\n",
       "    <tr>\n",
       "      <th>41923</th>\n",
       "      <td>convertible</td>\n",
       "      <td>0.660012</td>\n",
       "      <td>manual</td>\n",
       "      <td>0.701164</td>\n",
       "      <td>mx_reihe</td>\n",
       "      <td>-1.591383</td>\n",
       "      <td>gasoline</td>\n",
       "      <td>mazda</td>\n",
       "      <td>no</td>\n",
       "    </tr>\n",
       "    <tr>\n",
       "      <th>111068</th>\n",
       "      <td>sedan</td>\n",
       "      <td>-0.744404</td>\n",
       "      <td>manual</td>\n",
       "      <td>-1.245833</td>\n",
       "      <td>ka</td>\n",
       "      <td>-1.318209</td>\n",
       "      <td>gasoline</td>\n",
       "      <td>ford</td>\n",
       "      <td>no</td>\n",
       "    </tr>\n",
       "    <tr>\n",
       "      <th>24225</th>\n",
       "      <td>suv</td>\n",
       "      <td>0.816058</td>\n",
       "      <td>manual</td>\n",
       "      <td>-0.467035</td>\n",
       "      <td>qashqai</td>\n",
       "      <td>-0.088928</td>\n",
       "      <td>gasoline</td>\n",
       "      <td>nissan</td>\n",
       "      <td>yes</td>\n",
       "    </tr>\n",
       "    <tr>\n",
       "      <th>125927</th>\n",
       "      <td>bus</td>\n",
       "      <td>0.035827</td>\n",
       "      <td>manual</td>\n",
       "      <td>0.019715</td>\n",
       "      <td>zafira</td>\n",
       "      <td>0.594006</td>\n",
       "      <td>unknown</td>\n",
       "      <td>opel</td>\n",
       "      <td>yes</td>\n",
       "    </tr>\n",
       "    <tr>\n",
       "      <th>129824</th>\n",
       "      <td>wagon</td>\n",
       "      <td>-0.432312</td>\n",
       "      <td>manual</td>\n",
       "      <td>-0.447565</td>\n",
       "      <td>astra</td>\n",
       "      <td>0.594006</td>\n",
       "      <td>gasoline</td>\n",
       "      <td>opel</td>\n",
       "      <td>no</td>\n",
       "    </tr>\n",
       "    <tr>\n",
       "      <th>...</th>\n",
       "      <td>...</td>\n",
       "      <td>...</td>\n",
       "      <td>...</td>\n",
       "      <td>...</td>\n",
       "      <td>...</td>\n",
       "      <td>...</td>\n",
       "      <td>...</td>\n",
       "      <td>...</td>\n",
       "      <td>...</td>\n",
       "    </tr>\n",
       "    <tr>\n",
       "      <th>195863</th>\n",
       "      <td>wagon</td>\n",
       "      <td>0.191873</td>\n",
       "      <td>manual</td>\n",
       "      <td>0.292294</td>\n",
       "      <td>laguna</td>\n",
       "      <td>0.594006</td>\n",
       "      <td>gasoline</td>\n",
       "      <td>renault</td>\n",
       "      <td>no</td>\n",
       "    </tr>\n",
       "    <tr>\n",
       "      <th>234439</th>\n",
       "      <td>convertible</td>\n",
       "      <td>-0.432312</td>\n",
       "      <td>auto</td>\n",
       "      <td>1.421553</td>\n",
       "      <td>clk</td>\n",
       "      <td>0.594006</td>\n",
       "      <td>gasoline</td>\n",
       "      <td>mercedes_benz</td>\n",
       "      <td>no</td>\n",
       "    </tr>\n",
       "    <tr>\n",
       "      <th>173958</th>\n",
       "      <td>coupe</td>\n",
       "      <td>-0.432312</td>\n",
       "      <td>manual</td>\n",
       "      <td>-0.369685</td>\n",
       "      <td>3er</td>\n",
       "      <td>0.594006</td>\n",
       "      <td>unknown</td>\n",
       "      <td>bmw</td>\n",
       "      <td>yes</td>\n",
       "    </tr>\n",
       "    <tr>\n",
       "      <th>268664</th>\n",
       "      <td>small</td>\n",
       "      <td>-0.744404</td>\n",
       "      <td>manual</td>\n",
       "      <td>-0.428095</td>\n",
       "      <td>a_klasse</td>\n",
       "      <td>0.594006</td>\n",
       "      <td>unknown</td>\n",
       "      <td>mercedes_benz</td>\n",
       "      <td>yes</td>\n",
       "    </tr>\n",
       "    <tr>\n",
       "      <th>278400</th>\n",
       "      <td>small</td>\n",
       "      <td>1.128150</td>\n",
       "      <td>manual</td>\n",
       "      <td>-1.245833</td>\n",
       "      <td>up</td>\n",
       "      <td>-1.318209</td>\n",
       "      <td>gasoline</td>\n",
       "      <td>volkswagen</td>\n",
       "      <td>yes</td>\n",
       "    </tr>\n",
       "  </tbody>\n",
       "</table>\n",
       "<p>56599 rows × 9 columns</p>\n",
       "</div>"
      ],
      "text/plain": [
       "        VehicleType  RegistrationYear Gearbox     Power     Model  Kilometer  \\\n",
       "41923   convertible          0.660012  manual  0.701164  mx_reihe  -1.591383   \n",
       "111068        sedan         -0.744404  manual -1.245833        ka  -1.318209   \n",
       "24225           suv          0.816058  manual -0.467035   qashqai  -0.088928   \n",
       "125927          bus          0.035827  manual  0.019715    zafira   0.594006   \n",
       "129824        wagon         -0.432312  manual -0.447565     astra   0.594006   \n",
       "...             ...               ...     ...       ...       ...        ...   \n",
       "195863        wagon          0.191873  manual  0.292294    laguna   0.594006   \n",
       "234439  convertible         -0.432312    auto  1.421553       clk   0.594006   \n",
       "173958        coupe         -0.432312  manual -0.369685       3er   0.594006   \n",
       "268664        small         -0.744404  manual -0.428095  a_klasse   0.594006   \n",
       "278400        small          1.128150  manual -1.245833        up  -1.318209   \n",
       "\n",
       "        FuelType          Brand Repaired  \n",
       "41923   gasoline          mazda       no  \n",
       "111068  gasoline           ford       no  \n",
       "24225   gasoline         nissan      yes  \n",
       "125927   unknown           opel      yes  \n",
       "129824  gasoline           opel       no  \n",
       "...          ...            ...      ...  \n",
       "195863  gasoline        renault       no  \n",
       "234439  gasoline  mercedes_benz       no  \n",
       "173958   unknown            bmw      yes  \n",
       "268664   unknown  mercedes_benz      yes  \n",
       "278400  gasoline     volkswagen      yes  \n",
       "\n",
       "[56599 rows x 9 columns]"
      ]
     },
     "metadata": {},
     "output_type": "display_data"
    },
    {
     "data": {
      "text/html": [
       "<div>\n",
       "<style scoped>\n",
       "    .dataframe tbody tr th:only-of-type {\n",
       "        vertical-align: middle;\n",
       "    }\n",
       "\n",
       "    .dataframe tbody tr th {\n",
       "        vertical-align: top;\n",
       "    }\n",
       "\n",
       "    .dataframe thead th {\n",
       "        text-align: right;\n",
       "    }\n",
       "</style>\n",
       "<table border=\"1\" class=\"dataframe\">\n",
       "  <thead>\n",
       "    <tr style=\"text-align: right;\">\n",
       "      <th></th>\n",
       "      <th>VehicleType</th>\n",
       "      <th>RegistrationYear</th>\n",
       "      <th>Gearbox</th>\n",
       "      <th>Power</th>\n",
       "      <th>Model</th>\n",
       "      <th>Kilometer</th>\n",
       "      <th>FuelType</th>\n",
       "      <th>Brand</th>\n",
       "      <th>Repaired</th>\n",
       "    </tr>\n",
       "  </thead>\n",
       "  <tbody>\n",
       "    <tr>\n",
       "      <th>247140</th>\n",
       "      <td>bus</td>\n",
       "      <td>-0.120219</td>\n",
       "      <td>manual</td>\n",
       "      <td>0.233884</td>\n",
       "      <td>touran</td>\n",
       "      <td>0.594006</td>\n",
       "      <td>gasoline</td>\n",
       "      <td>volkswagen</td>\n",
       "      <td>no</td>\n",
       "    </tr>\n",
       "    <tr>\n",
       "      <th>65050</th>\n",
       "      <td>wagon</td>\n",
       "      <td>-1.368589</td>\n",
       "      <td>manual</td>\n",
       "      <td>-1.090074</td>\n",
       "      <td>unknown</td>\n",
       "      <td>-0.088928</td>\n",
       "      <td>gasoline</td>\n",
       "      <td>skoda</td>\n",
       "      <td>yes</td>\n",
       "    </tr>\n",
       "    <tr>\n",
       "      <th>90869</th>\n",
       "      <td>convertible</td>\n",
       "      <td>-1.368589</td>\n",
       "      <td>manual</td>\n",
       "      <td>0.506464</td>\n",
       "      <td>80</td>\n",
       "      <td>0.594006</td>\n",
       "      <td>unknown</td>\n",
       "      <td>audi</td>\n",
       "      <td>yes</td>\n",
       "    </tr>\n",
       "    <tr>\n",
       "      <th>280385</th>\n",
       "      <td>sedan</td>\n",
       "      <td>-0.900450</td>\n",
       "      <td>manual</td>\n",
       "      <td>0.506464</td>\n",
       "      <td>unknown</td>\n",
       "      <td>0.594006</td>\n",
       "      <td>gasoline</td>\n",
       "      <td>audi</td>\n",
       "      <td>yes</td>\n",
       "    </tr>\n",
       "    <tr>\n",
       "      <th>262115</th>\n",
       "      <td>suv</td>\n",
       "      <td>-0.276265</td>\n",
       "      <td>auto</td>\n",
       "      <td>1.694132</td>\n",
       "      <td>cherokee</td>\n",
       "      <td>0.594006</td>\n",
       "      <td>lpg</td>\n",
       "      <td>jeep</td>\n",
       "      <td>no</td>\n",
       "    </tr>\n",
       "    <tr>\n",
       "      <th>...</th>\n",
       "      <td>...</td>\n",
       "      <td>...</td>\n",
       "      <td>...</td>\n",
       "      <td>...</td>\n",
       "      <td>...</td>\n",
       "      <td>...</td>\n",
       "      <td>...</td>\n",
       "      <td>...</td>\n",
       "      <td>...</td>\n",
       "    </tr>\n",
       "    <tr>\n",
       "      <th>217805</th>\n",
       "      <td>sedan</td>\n",
       "      <td>0.503965</td>\n",
       "      <td>auto</td>\n",
       "      <td>2.161412</td>\n",
       "      <td>5er</td>\n",
       "      <td>-0.088928</td>\n",
       "      <td>gasoline</td>\n",
       "      <td>bmw</td>\n",
       "      <td>yes</td>\n",
       "    </tr>\n",
       "    <tr>\n",
       "      <th>52822</th>\n",
       "      <td>wagon</td>\n",
       "      <td>-0.588358</td>\n",
       "      <td>manual</td>\n",
       "      <td>1.343673</td>\n",
       "      <td>3er</td>\n",
       "      <td>0.594006</td>\n",
       "      <td>gasoline</td>\n",
       "      <td>bmw</td>\n",
       "      <td>no</td>\n",
       "    </tr>\n",
       "    <tr>\n",
       "      <th>10905</th>\n",
       "      <td>bus</td>\n",
       "      <td>-0.900450</td>\n",
       "      <td>manual</td>\n",
       "      <td>0.525934</td>\n",
       "      <td>transporter</td>\n",
       "      <td>0.594006</td>\n",
       "      <td>gasoline</td>\n",
       "      <td>volkswagen</td>\n",
       "      <td>no</td>\n",
       "    </tr>\n",
       "    <tr>\n",
       "      <th>30841</th>\n",
       "      <td>sedan</td>\n",
       "      <td>-1.368589</td>\n",
       "      <td>manual</td>\n",
       "      <td>-0.953784</td>\n",
       "      <td>golf</td>\n",
       "      <td>0.594006</td>\n",
       "      <td>gasoline</td>\n",
       "      <td>volkswagen</td>\n",
       "      <td>no</td>\n",
       "    </tr>\n",
       "    <tr>\n",
       "      <th>53854</th>\n",
       "      <td>small</td>\n",
       "      <td>1.128150</td>\n",
       "      <td>manual</td>\n",
       "      <td>-1.070604</td>\n",
       "      <td>panda</td>\n",
       "      <td>-2.684077</td>\n",
       "      <td>gasoline</td>\n",
       "      <td>fiat</td>\n",
       "      <td>no</td>\n",
       "    </tr>\n",
       "  </tbody>\n",
       "</table>\n",
       "<p>56599 rows × 9 columns</p>\n",
       "</div>"
      ],
      "text/plain": [
       "        VehicleType  RegistrationYear Gearbox     Power        Model  \\\n",
       "247140          bus         -0.120219  manual  0.233884       touran   \n",
       "65050         wagon         -1.368589  manual -1.090074      unknown   \n",
       "90869   convertible         -1.368589  manual  0.506464           80   \n",
       "280385        sedan         -0.900450  manual  0.506464      unknown   \n",
       "262115          suv         -0.276265    auto  1.694132     cherokee   \n",
       "...             ...               ...     ...       ...          ...   \n",
       "217805        sedan          0.503965    auto  2.161412          5er   \n",
       "52822         wagon         -0.588358  manual  1.343673          3er   \n",
       "10905           bus         -0.900450  manual  0.525934  transporter   \n",
       "30841         sedan         -1.368589  manual -0.953784         golf   \n",
       "53854         small          1.128150  manual -1.070604        panda   \n",
       "\n",
       "        Kilometer  FuelType       Brand Repaired  \n",
       "247140   0.594006  gasoline  volkswagen       no  \n",
       "65050   -0.088928  gasoline       skoda      yes  \n",
       "90869    0.594006   unknown        audi      yes  \n",
       "280385   0.594006  gasoline        audi      yes  \n",
       "262115   0.594006       lpg        jeep       no  \n",
       "...           ...       ...         ...      ...  \n",
       "217805  -0.088928  gasoline         bmw      yes  \n",
       "52822    0.594006  gasoline         bmw       no  \n",
       "10905    0.594006  gasoline  volkswagen       no  \n",
       "30841    0.594006  gasoline  volkswagen       no  \n",
       "53854   -2.684077  gasoline        fiat       no  \n",
       "\n",
       "[56599 rows x 9 columns]"
      ]
     },
     "metadata": {},
     "output_type": "display_data"
    }
   ],
   "source": [
    "#Масштабирую количественные признаках исходных\n",
    "quan_columns = ['RegistrationYear', 'Power', 'Kilometer']\n",
    "quan_features_train = features_train[quan_columns]\n",
    "scaler = StandardScaler()\n",
    "scaler.fit(quan_features_train)\n",
    "quan_features_train_scaled = pd.DataFrame(scaler.transform(quan_features_train),\n",
    "                                          columns = quan_features_train.columns,\n",
    "                                          index = quan_features_train.index)\n",
    "features_train_scaled = features_train.copy()\n",
    "for column in quan_columns:\n",
    "    features_train_scaled[column] = quan_features_train_scaled[column]\n",
    "\n",
    "\n",
    "\n",
    "\n",
    "quan_features_valid = features_valid[quan_columns]\n",
    "\n",
    "quan_features_valid_scaled = pd.DataFrame(scaler.transform(quan_features_valid),\n",
    "                                          columns = quan_features_valid.columns,\n",
    "                                          index = quan_features_valid.index)\n",
    "features_valid_scaled = features_valid.copy()\n",
    "for column in quan_columns:\n",
    "    features_valid_scaled[column] = quan_features_valid_scaled[column]\n",
    "    \n",
    "    \n",
    "    \n",
    "quan_features_test = features_test[quan_columns]\n",
    "\n",
    "quan_features_test_scaled = pd.DataFrame(scaler.transform(quan_features_test),\n",
    "                                          columns = quan_features_test.columns,\n",
    "                                          index = quan_features_test.index)\n",
    "features_test_scaled = features_test.copy()\n",
    "for column in quan_columns:\n",
    "    features_test_scaled[column] = quan_features_test_scaled[column]\n",
    "\n",
    "\n",
    "    \n",
    "display(features_train_scaled, features_valid_scaled, features_test_scaled)"
   ]
  },
  {
   "cell_type": "code",
   "execution_count": 34,
   "metadata": {},
   "outputs": [
    {
     "data": {
      "text/html": [
       "<div>\n",
       "<style scoped>\n",
       "    .dataframe tbody tr th:only-of-type {\n",
       "        vertical-align: middle;\n",
       "    }\n",
       "\n",
       "    .dataframe tbody tr th {\n",
       "        vertical-align: top;\n",
       "    }\n",
       "\n",
       "    .dataframe thead th {\n",
       "        text-align: right;\n",
       "    }\n",
       "</style>\n",
       "<table border=\"1\" class=\"dataframe\">\n",
       "  <thead>\n",
       "    <tr style=\"text-align: right;\">\n",
       "      <th></th>\n",
       "      <th>VehicleType</th>\n",
       "      <th>RegistrationYear</th>\n",
       "      <th>Gearbox</th>\n",
       "      <th>Power</th>\n",
       "      <th>Model</th>\n",
       "      <th>Kilometer</th>\n",
       "      <th>FuelType</th>\n",
       "      <th>Brand</th>\n",
       "      <th>Repaired</th>\n",
       "    </tr>\n",
       "  </thead>\n",
       "  <tbody>\n",
       "    <tr>\n",
       "      <th>60881</th>\n",
       "      <td>8.0</td>\n",
       "      <td>1.440243</td>\n",
       "      <td>1.0</td>\n",
       "      <td>0.506464</td>\n",
       "      <td>59.0</td>\n",
       "      <td>-2.957251</td>\n",
       "      <td>2.0</td>\n",
       "      <td>10.0</td>\n",
       "      <td>0.0</td>\n",
       "    </tr>\n",
       "    <tr>\n",
       "      <th>210584</th>\n",
       "      <td>8.0</td>\n",
       "      <td>-0.900450</td>\n",
       "      <td>1.0</td>\n",
       "      <td>0.895864</td>\n",
       "      <td>15.0</td>\n",
       "      <td>0.594006</td>\n",
       "      <td>2.0</td>\n",
       "      <td>2.0</td>\n",
       "      <td>0.0</td>\n",
       "    </tr>\n",
       "    <tr>\n",
       "      <th>61596</th>\n",
       "      <td>1.0</td>\n",
       "      <td>0.816058</td>\n",
       "      <td>1.0</td>\n",
       "      <td>0.370174</td>\n",
       "      <td>6.0</td>\n",
       "      <td>-1.045035</td>\n",
       "      <td>2.0</td>\n",
       "      <td>2.0</td>\n",
       "      <td>0.0</td>\n",
       "    </tr>\n",
       "    <tr>\n",
       "      <th>106699</th>\n",
       "      <td>1.0</td>\n",
       "      <td>0.503965</td>\n",
       "      <td>0.0</td>\n",
       "      <td>0.311764</td>\n",
       "      <td>10.0</td>\n",
       "      <td>-1.591383</td>\n",
       "      <td>2.0</td>\n",
       "      <td>25.0</td>\n",
       "      <td>0.0</td>\n",
       "    </tr>\n",
       "    <tr>\n",
       "      <th>169158</th>\n",
       "      <td>8.0</td>\n",
       "      <td>0.191873</td>\n",
       "      <td>1.0</td>\n",
       "      <td>-0.369685</td>\n",
       "      <td>61.0</td>\n",
       "      <td>0.594006</td>\n",
       "      <td>2.0</td>\n",
       "      <td>38.0</td>\n",
       "      <td>0.0</td>\n",
       "    </tr>\n",
       "    <tr>\n",
       "      <th>...</th>\n",
       "      <td>...</td>\n",
       "      <td>...</td>\n",
       "      <td>...</td>\n",
       "      <td>...</td>\n",
       "      <td>...</td>\n",
       "      <td>...</td>\n",
       "      <td>...</td>\n",
       "      <td>...</td>\n",
       "      <td>...</td>\n",
       "    </tr>\n",
       "    <tr>\n",
       "      <th>13921</th>\n",
       "      <td>4.0</td>\n",
       "      <td>-0.900450</td>\n",
       "      <td>1.0</td>\n",
       "      <td>-0.447565</td>\n",
       "      <td>28.0</td>\n",
       "      <td>0.594006</td>\n",
       "      <td>2.0</td>\n",
       "      <td>1.0</td>\n",
       "      <td>0.0</td>\n",
       "    </tr>\n",
       "    <tr>\n",
       "      <th>161491</th>\n",
       "      <td>4.0</td>\n",
       "      <td>1.284196</td>\n",
       "      <td>1.0</td>\n",
       "      <td>0.895864</td>\n",
       "      <td>139.0</td>\n",
       "      <td>-1.045035</td>\n",
       "      <td>2.0</td>\n",
       "      <td>30.0</td>\n",
       "      <td>0.0</td>\n",
       "    </tr>\n",
       "    <tr>\n",
       "      <th>72226</th>\n",
       "      <td>8.0</td>\n",
       "      <td>1.440243</td>\n",
       "      <td>1.0</td>\n",
       "      <td>0.311764</td>\n",
       "      <td>41.0</td>\n",
       "      <td>-3.230424</td>\n",
       "      <td>2.0</td>\n",
       "      <td>24.0</td>\n",
       "      <td>0.0</td>\n",
       "    </tr>\n",
       "    <tr>\n",
       "      <th>265912</th>\n",
       "      <td>0.0</td>\n",
       "      <td>-0.432312</td>\n",
       "      <td>1.0</td>\n",
       "      <td>-0.817494</td>\n",
       "      <td>236.0</td>\n",
       "      <td>0.594006</td>\n",
       "      <td>2.0</td>\n",
       "      <td>20.0</td>\n",
       "      <td>0.0</td>\n",
       "    </tr>\n",
       "    <tr>\n",
       "      <th>150521</th>\n",
       "      <td>5.0</td>\n",
       "      <td>-0.432312</td>\n",
       "      <td>1.0</td>\n",
       "      <td>-0.953784</td>\n",
       "      <td>172.0</td>\n",
       "      <td>0.594006</td>\n",
       "      <td>2.0</td>\n",
       "      <td>38.0</td>\n",
       "      <td>1.0</td>\n",
       "    </tr>\n",
       "  </tbody>\n",
       "</table>\n",
       "<p>169797 rows × 9 columns</p>\n",
       "</div>"
      ],
      "text/plain": [
       "        VehicleType  RegistrationYear  Gearbox     Power  Model  Kilometer  \\\n",
       "60881           8.0          1.440243      1.0  0.506464   59.0  -2.957251   \n",
       "210584          8.0         -0.900450      1.0  0.895864   15.0   0.594006   \n",
       "61596           1.0          0.816058      1.0  0.370174    6.0  -1.045035   \n",
       "106699          1.0          0.503965      0.0  0.311764   10.0  -1.591383   \n",
       "169158          8.0          0.191873      1.0 -0.369685   61.0   0.594006   \n",
       "...             ...               ...      ...       ...    ...        ...   \n",
       "13921           4.0         -0.900450      1.0 -0.447565   28.0   0.594006   \n",
       "161491          4.0          1.284196      1.0  0.895864  139.0  -1.045035   \n",
       "72226           8.0          1.440243      1.0  0.311764   41.0  -3.230424   \n",
       "265912          0.0         -0.432312      1.0 -0.817494  236.0   0.594006   \n",
       "150521          5.0         -0.432312      1.0 -0.953784  172.0   0.594006   \n",
       "\n",
       "        FuelType  Brand  Repaired  \n",
       "60881        2.0   10.0       0.0  \n",
       "210584       2.0    2.0       0.0  \n",
       "61596        2.0    2.0       0.0  \n",
       "106699       2.0   25.0       0.0  \n",
       "169158       2.0   38.0       0.0  \n",
       "...          ...    ...       ...  \n",
       "13921        2.0    1.0       0.0  \n",
       "161491       2.0   30.0       0.0  \n",
       "72226        2.0   24.0       0.0  \n",
       "265912       2.0   20.0       0.0  \n",
       "150521       2.0   38.0       1.0  \n",
       "\n",
       "[169797 rows x 9 columns]"
      ]
     },
     "metadata": {},
     "output_type": "display_data"
    },
    {
     "data": {
      "text/html": [
       "<div>\n",
       "<style scoped>\n",
       "    .dataframe tbody tr th:only-of-type {\n",
       "        vertical-align: middle;\n",
       "    }\n",
       "\n",
       "    .dataframe tbody tr th {\n",
       "        vertical-align: top;\n",
       "    }\n",
       "\n",
       "    .dataframe thead th {\n",
       "        text-align: right;\n",
       "    }\n",
       "</style>\n",
       "<table border=\"1\" class=\"dataframe\">\n",
       "  <thead>\n",
       "    <tr style=\"text-align: right;\">\n",
       "      <th></th>\n",
       "      <th>VehicleType</th>\n",
       "      <th>RegistrationYear</th>\n",
       "      <th>Gearbox</th>\n",
       "      <th>Power</th>\n",
       "      <th>Model</th>\n",
       "      <th>Kilometer</th>\n",
       "      <th>FuelType</th>\n",
       "      <th>Brand</th>\n",
       "      <th>Repaired</th>\n",
       "    </tr>\n",
       "  </thead>\n",
       "  <tbody>\n",
       "    <tr>\n",
       "      <th>41923</th>\n",
       "      <td>1.0</td>\n",
       "      <td>0.660012</td>\n",
       "      <td>1.0</td>\n",
       "      <td>0.701164</td>\n",
       "      <td>157.0</td>\n",
       "      <td>-1.591383</td>\n",
       "      <td>2.0</td>\n",
       "      <td>19.0</td>\n",
       "      <td>0.0</td>\n",
       "    </tr>\n",
       "    <tr>\n",
       "      <th>111068</th>\n",
       "      <td>4.0</td>\n",
       "      <td>-0.744404</td>\n",
       "      <td>1.0</td>\n",
       "      <td>-1.245833</td>\n",
       "      <td>127.0</td>\n",
       "      <td>-1.318209</td>\n",
       "      <td>2.0</td>\n",
       "      <td>10.0</td>\n",
       "      <td>0.0</td>\n",
       "    </tr>\n",
       "    <tr>\n",
       "      <th>24225</th>\n",
       "      <td>6.0</td>\n",
       "      <td>0.816058</td>\n",
       "      <td>1.0</td>\n",
       "      <td>-0.467035</td>\n",
       "      <td>179.0</td>\n",
       "      <td>-0.088928</td>\n",
       "      <td>2.0</td>\n",
       "      <td>23.0</td>\n",
       "      <td>1.0</td>\n",
       "    </tr>\n",
       "    <tr>\n",
       "      <th>125927</th>\n",
       "      <td>0.0</td>\n",
       "      <td>0.035827</td>\n",
       "      <td>1.0</td>\n",
       "      <td>0.019715</td>\n",
       "      <td>248.0</td>\n",
       "      <td>0.594006</td>\n",
       "      <td>6.0</td>\n",
       "      <td>24.0</td>\n",
       "      <td>1.0</td>\n",
       "    </tr>\n",
       "    <tr>\n",
       "      <th>129824</th>\n",
       "      <td>8.0</td>\n",
       "      <td>-0.432312</td>\n",
       "      <td>1.0</td>\n",
       "      <td>-0.447565</td>\n",
       "      <td>41.0</td>\n",
       "      <td>0.594006</td>\n",
       "      <td>2.0</td>\n",
       "      <td>24.0</td>\n",
       "      <td>0.0</td>\n",
       "    </tr>\n",
       "    <tr>\n",
       "      <th>...</th>\n",
       "      <td>...</td>\n",
       "      <td>...</td>\n",
       "      <td>...</td>\n",
       "      <td>...</td>\n",
       "      <td>...</td>\n",
       "      <td>...</td>\n",
       "      <td>...</td>\n",
       "      <td>...</td>\n",
       "      <td>...</td>\n",
       "    </tr>\n",
       "    <tr>\n",
       "      <th>195863</th>\n",
       "      <td>8.0</td>\n",
       "      <td>0.191873</td>\n",
       "      <td>1.0</td>\n",
       "      <td>0.292294</td>\n",
       "      <td>135.0</td>\n",
       "      <td>0.594006</td>\n",
       "      <td>2.0</td>\n",
       "      <td>27.0</td>\n",
       "      <td>0.0</td>\n",
       "    </tr>\n",
       "    <tr>\n",
       "      <th>234439</th>\n",
       "      <td>1.0</td>\n",
       "      <td>-0.432312</td>\n",
       "      <td>0.0</td>\n",
       "      <td>1.421553</td>\n",
       "      <td>75.0</td>\n",
       "      <td>0.594006</td>\n",
       "      <td>2.0</td>\n",
       "      <td>20.0</td>\n",
       "      <td>0.0</td>\n",
       "    </tr>\n",
       "    <tr>\n",
       "      <th>173958</th>\n",
       "      <td>2.0</td>\n",
       "      <td>-0.432312</td>\n",
       "      <td>1.0</td>\n",
       "      <td>-0.369685</td>\n",
       "      <td>11.0</td>\n",
       "      <td>0.594006</td>\n",
       "      <td>6.0</td>\n",
       "      <td>2.0</td>\n",
       "      <td>1.0</td>\n",
       "    </tr>\n",
       "    <tr>\n",
       "      <th>268664</th>\n",
       "      <td>5.0</td>\n",
       "      <td>-0.744404</td>\n",
       "      <td>1.0</td>\n",
       "      <td>-0.428095</td>\n",
       "      <td>32.0</td>\n",
       "      <td>0.594006</td>\n",
       "      <td>6.0</td>\n",
       "      <td>20.0</td>\n",
       "      <td>1.0</td>\n",
       "    </tr>\n",
       "    <tr>\n",
       "      <th>278400</th>\n",
       "      <td>5.0</td>\n",
       "      <td>1.128150</td>\n",
       "      <td>1.0</td>\n",
       "      <td>-1.245833</td>\n",
       "      <td>227.0</td>\n",
       "      <td>-1.318209</td>\n",
       "      <td>2.0</td>\n",
       "      <td>38.0</td>\n",
       "      <td>1.0</td>\n",
       "    </tr>\n",
       "  </tbody>\n",
       "</table>\n",
       "<p>56599 rows × 9 columns</p>\n",
       "</div>"
      ],
      "text/plain": [
       "        VehicleType  RegistrationYear  Gearbox     Power  Model  Kilometer  \\\n",
       "41923           1.0          0.660012      1.0  0.701164  157.0  -1.591383   \n",
       "111068          4.0         -0.744404      1.0 -1.245833  127.0  -1.318209   \n",
       "24225           6.0          0.816058      1.0 -0.467035  179.0  -0.088928   \n",
       "125927          0.0          0.035827      1.0  0.019715  248.0   0.594006   \n",
       "129824          8.0         -0.432312      1.0 -0.447565   41.0   0.594006   \n",
       "...             ...               ...      ...       ...    ...        ...   \n",
       "195863          8.0          0.191873      1.0  0.292294  135.0   0.594006   \n",
       "234439          1.0         -0.432312      0.0  1.421553   75.0   0.594006   \n",
       "173958          2.0         -0.432312      1.0 -0.369685   11.0   0.594006   \n",
       "268664          5.0         -0.744404      1.0 -0.428095   32.0   0.594006   \n",
       "278400          5.0          1.128150      1.0 -1.245833  227.0  -1.318209   \n",
       "\n",
       "        FuelType  Brand  Repaired  \n",
       "41923        2.0   19.0       0.0  \n",
       "111068       2.0   10.0       0.0  \n",
       "24225        2.0   23.0       1.0  \n",
       "125927       6.0   24.0       1.0  \n",
       "129824       2.0   24.0       0.0  \n",
       "...          ...    ...       ...  \n",
       "195863       2.0   27.0       0.0  \n",
       "234439       2.0   20.0       0.0  \n",
       "173958       6.0    2.0       1.0  \n",
       "268664       6.0   20.0       1.0  \n",
       "278400       2.0   38.0       1.0  \n",
       "\n",
       "[56599 rows x 9 columns]"
      ]
     },
     "metadata": {},
     "output_type": "display_data"
    },
    {
     "data": {
      "text/html": [
       "<div>\n",
       "<style scoped>\n",
       "    .dataframe tbody tr th:only-of-type {\n",
       "        vertical-align: middle;\n",
       "    }\n",
       "\n",
       "    .dataframe tbody tr th {\n",
       "        vertical-align: top;\n",
       "    }\n",
       "\n",
       "    .dataframe thead th {\n",
       "        text-align: right;\n",
       "    }\n",
       "</style>\n",
       "<table border=\"1\" class=\"dataframe\">\n",
       "  <thead>\n",
       "    <tr style=\"text-align: right;\">\n",
       "      <th></th>\n",
       "      <th>VehicleType</th>\n",
       "      <th>RegistrationYear</th>\n",
       "      <th>Gearbox</th>\n",
       "      <th>Power</th>\n",
       "      <th>Model</th>\n",
       "      <th>Kilometer</th>\n",
       "      <th>FuelType</th>\n",
       "      <th>Brand</th>\n",
       "      <th>Repaired</th>\n",
       "    </tr>\n",
       "  </thead>\n",
       "  <tbody>\n",
       "    <tr>\n",
       "      <th>247140</th>\n",
       "      <td>0.0</td>\n",
       "      <td>-0.120219</td>\n",
       "      <td>1.0</td>\n",
       "      <td>0.233884</td>\n",
       "      <td>220.0</td>\n",
       "      <td>0.594006</td>\n",
       "      <td>2.0</td>\n",
       "      <td>38.0</td>\n",
       "      <td>0.0</td>\n",
       "    </tr>\n",
       "    <tr>\n",
       "      <th>65050</th>\n",
       "      <td>8.0</td>\n",
       "      <td>-1.368589</td>\n",
       "      <td>1.0</td>\n",
       "      <td>-1.090074</td>\n",
       "      <td>226.0</td>\n",
       "      <td>-0.088928</td>\n",
       "      <td>2.0</td>\n",
       "      <td>31.0</td>\n",
       "      <td>1.0</td>\n",
       "    </tr>\n",
       "    <tr>\n",
       "      <th>90869</th>\n",
       "      <td>1.0</td>\n",
       "      <td>-1.368589</td>\n",
       "      <td>1.0</td>\n",
       "      <td>0.506464</td>\n",
       "      <td>19.0</td>\n",
       "      <td>0.594006</td>\n",
       "      <td>6.0</td>\n",
       "      <td>1.0</td>\n",
       "      <td>1.0</td>\n",
       "    </tr>\n",
       "    <tr>\n",
       "      <th>280385</th>\n",
       "      <td>4.0</td>\n",
       "      <td>-0.900450</td>\n",
       "      <td>1.0</td>\n",
       "      <td>0.506464</td>\n",
       "      <td>226.0</td>\n",
       "      <td>0.594006</td>\n",
       "      <td>2.0</td>\n",
       "      <td>1.0</td>\n",
       "      <td>1.0</td>\n",
       "    </tr>\n",
       "    <tr>\n",
       "      <th>262115</th>\n",
       "      <td>6.0</td>\n",
       "      <td>-0.276265</td>\n",
       "      <td>0.0</td>\n",
       "      <td>1.694132</td>\n",
       "      <td>70.0</td>\n",
       "      <td>0.594006</td>\n",
       "      <td>4.0</td>\n",
       "      <td>14.0</td>\n",
       "      <td>0.0</td>\n",
       "    </tr>\n",
       "    <tr>\n",
       "      <th>...</th>\n",
       "      <td>...</td>\n",
       "      <td>...</td>\n",
       "      <td>...</td>\n",
       "      <td>...</td>\n",
       "      <td>...</td>\n",
       "      <td>...</td>\n",
       "      <td>...</td>\n",
       "      <td>...</td>\n",
       "      <td>...</td>\n",
       "    </tr>\n",
       "    <tr>\n",
       "      <th>217805</th>\n",
       "      <td>4.0</td>\n",
       "      <td>0.503965</td>\n",
       "      <td>0.0</td>\n",
       "      <td>2.161412</td>\n",
       "      <td>15.0</td>\n",
       "      <td>-0.088928</td>\n",
       "      <td>2.0</td>\n",
       "      <td>2.0</td>\n",
       "      <td>1.0</td>\n",
       "    </tr>\n",
       "    <tr>\n",
       "      <th>52822</th>\n",
       "      <td>8.0</td>\n",
       "      <td>-0.588358</td>\n",
       "      <td>1.0</td>\n",
       "      <td>1.343673</td>\n",
       "      <td>11.0</td>\n",
       "      <td>0.594006</td>\n",
       "      <td>2.0</td>\n",
       "      <td>2.0</td>\n",
       "      <td>0.0</td>\n",
       "    </tr>\n",
       "    <tr>\n",
       "      <th>10905</th>\n",
       "      <td>0.0</td>\n",
       "      <td>-0.900450</td>\n",
       "      <td>1.0</td>\n",
       "      <td>0.525934</td>\n",
       "      <td>222.0</td>\n",
       "      <td>0.594006</td>\n",
       "      <td>2.0</td>\n",
       "      <td>38.0</td>\n",
       "      <td>0.0</td>\n",
       "    </tr>\n",
       "    <tr>\n",
       "      <th>30841</th>\n",
       "      <td>4.0</td>\n",
       "      <td>-1.368589</td>\n",
       "      <td>1.0</td>\n",
       "      <td>-0.953784</td>\n",
       "      <td>115.0</td>\n",
       "      <td>0.594006</td>\n",
       "      <td>2.0</td>\n",
       "      <td>38.0</td>\n",
       "      <td>0.0</td>\n",
       "    </tr>\n",
       "    <tr>\n",
       "      <th>53854</th>\n",
       "      <td>5.0</td>\n",
       "      <td>1.128150</td>\n",
       "      <td>1.0</td>\n",
       "      <td>-1.070604</td>\n",
       "      <td>168.0</td>\n",
       "      <td>-2.684077</td>\n",
       "      <td>2.0</td>\n",
       "      <td>9.0</td>\n",
       "      <td>0.0</td>\n",
       "    </tr>\n",
       "  </tbody>\n",
       "</table>\n",
       "<p>56599 rows × 9 columns</p>\n",
       "</div>"
      ],
      "text/plain": [
       "        VehicleType  RegistrationYear  Gearbox     Power  Model  Kilometer  \\\n",
       "247140          0.0         -0.120219      1.0  0.233884  220.0   0.594006   \n",
       "65050           8.0         -1.368589      1.0 -1.090074  226.0  -0.088928   \n",
       "90869           1.0         -1.368589      1.0  0.506464   19.0   0.594006   \n",
       "280385          4.0         -0.900450      1.0  0.506464  226.0   0.594006   \n",
       "262115          6.0         -0.276265      0.0  1.694132   70.0   0.594006   \n",
       "...             ...               ...      ...       ...    ...        ...   \n",
       "217805          4.0          0.503965      0.0  2.161412   15.0  -0.088928   \n",
       "52822           8.0         -0.588358      1.0  1.343673   11.0   0.594006   \n",
       "10905           0.0         -0.900450      1.0  0.525934  222.0   0.594006   \n",
       "30841           4.0         -1.368589      1.0 -0.953784  115.0   0.594006   \n",
       "53854           5.0          1.128150      1.0 -1.070604  168.0  -2.684077   \n",
       "\n",
       "        FuelType  Brand  Repaired  \n",
       "247140       2.0   38.0       0.0  \n",
       "65050        2.0   31.0       1.0  \n",
       "90869        6.0    1.0       1.0  \n",
       "280385       2.0    1.0       1.0  \n",
       "262115       4.0   14.0       0.0  \n",
       "...          ...    ...       ...  \n",
       "217805       2.0    2.0       1.0  \n",
       "52822        2.0    2.0       0.0  \n",
       "10905        2.0   38.0       0.0  \n",
       "30841        2.0   38.0       0.0  \n",
       "53854        2.0    9.0       0.0  \n",
       "\n",
       "[56599 rows x 9 columns]"
      ]
     },
     "metadata": {},
     "output_type": "display_data"
    }
   ],
   "source": [
    "#Масштабирую количественные признаки ОЕ\n",
    "quan_features_train_oe = features_train[quan_columns]\n",
    "\n",
    "quan_features_train_oe_scaled = pd.DataFrame(scaler.transform(quan_features_train_oe),\n",
    "                                          columns = quan_features_train_oe.columns,\n",
    "                                          index = quan_features_train_oe.index)\n",
    "features_train_oe_scaled = features_train_oe.copy()\n",
    "for column in quan_columns:\n",
    "    features_train_oe_scaled[column] = quan_features_train_oe_scaled[column]\n",
    "    \n",
    "    \n",
    "\n",
    "quan_features_valid_oe = features_valid[quan_columns]\n",
    "\n",
    "quan_features_valid_oe_scaled = pd.DataFrame(scaler.transform(quan_features_valid_oe),\n",
    "                                          columns = quan_features_valid_oe.columns,\n",
    "                                          index = quan_features_valid_oe.index)\n",
    "features_valid_oe_scaled = features_valid_oe.copy()\n",
    "for column in quan_columns:\n",
    "    features_valid_oe_scaled[column] = quan_features_valid_oe_scaled[column]\n",
    "    \n",
    "\n",
    "    \n",
    "quan_features_test_oe = features_test[quan_columns]\n",
    "\n",
    "quan_features_test_oe_scaled = pd.DataFrame(scaler.transform(quan_features_test_oe),\n",
    "                                          columns = quan_features_test_oe.columns,\n",
    "                                          index = quan_features_test_oe.index)\n",
    "features_test_oe_scaled = features_test_oe.copy()\n",
    "for column in quan_columns:\n",
    "    features_test_oe_scaled[column] = quan_features_test_oe_scaled[column]\n",
    "    \n",
    "\n",
    "    \n",
    "display(features_train_oe_scaled, features_valid_oe_scaled, features_test_oe_scaled)"
   ]
  },
  {
   "cell_type": "code",
   "execution_count": 35,
   "metadata": {},
   "outputs": [
    {
     "data": {
      "text/html": [
       "<div>\n",
       "<style scoped>\n",
       "    .dataframe tbody tr th:only-of-type {\n",
       "        vertical-align: middle;\n",
       "    }\n",
       "\n",
       "    .dataframe tbody tr th {\n",
       "        vertical-align: top;\n",
       "    }\n",
       "\n",
       "    .dataframe thead th {\n",
       "        text-align: right;\n",
       "    }\n",
       "</style>\n",
       "<table border=\"1\" class=\"dataframe\">\n",
       "  <thead>\n",
       "    <tr style=\"text-align: right;\">\n",
       "      <th></th>\n",
       "      <th>RegistrationYear</th>\n",
       "      <th>Power</th>\n",
       "      <th>Kilometer</th>\n",
       "      <th>VehicleType_convertible</th>\n",
       "      <th>VehicleType_coupe</th>\n",
       "      <th>VehicleType_other</th>\n",
       "      <th>VehicleType_sedan</th>\n",
       "      <th>VehicleType_small</th>\n",
       "      <th>VehicleType_suv</th>\n",
       "      <th>VehicleType_unknown</th>\n",
       "      <th>...</th>\n",
       "      <th>Brand_skoda</th>\n",
       "      <th>Brand_smart</th>\n",
       "      <th>Brand_sonstige_autos</th>\n",
       "      <th>Brand_subaru</th>\n",
       "      <th>Brand_suzuki</th>\n",
       "      <th>Brand_toyota</th>\n",
       "      <th>Brand_trabant</th>\n",
       "      <th>Brand_volkswagen</th>\n",
       "      <th>Brand_volvo</th>\n",
       "      <th>Repaired_yes</th>\n",
       "    </tr>\n",
       "  </thead>\n",
       "  <tbody>\n",
       "    <tr>\n",
       "      <th>60881</th>\n",
       "      <td>1.440243</td>\n",
       "      <td>0.506464</td>\n",
       "      <td>-2.957251</td>\n",
       "      <td>0</td>\n",
       "      <td>0</td>\n",
       "      <td>0</td>\n",
       "      <td>0</td>\n",
       "      <td>0</td>\n",
       "      <td>0</td>\n",
       "      <td>0</td>\n",
       "      <td>...</td>\n",
       "      <td>0</td>\n",
       "      <td>0</td>\n",
       "      <td>0</td>\n",
       "      <td>0</td>\n",
       "      <td>0</td>\n",
       "      <td>0</td>\n",
       "      <td>0</td>\n",
       "      <td>0</td>\n",
       "      <td>0</td>\n",
       "      <td>0</td>\n",
       "    </tr>\n",
       "    <tr>\n",
       "      <th>210584</th>\n",
       "      <td>-0.900450</td>\n",
       "      <td>0.895864</td>\n",
       "      <td>0.594006</td>\n",
       "      <td>0</td>\n",
       "      <td>0</td>\n",
       "      <td>0</td>\n",
       "      <td>0</td>\n",
       "      <td>0</td>\n",
       "      <td>0</td>\n",
       "      <td>0</td>\n",
       "      <td>...</td>\n",
       "      <td>0</td>\n",
       "      <td>0</td>\n",
       "      <td>0</td>\n",
       "      <td>0</td>\n",
       "      <td>0</td>\n",
       "      <td>0</td>\n",
       "      <td>0</td>\n",
       "      <td>0</td>\n",
       "      <td>0</td>\n",
       "      <td>0</td>\n",
       "    </tr>\n",
       "    <tr>\n",
       "      <th>61596</th>\n",
       "      <td>0.816058</td>\n",
       "      <td>0.370174</td>\n",
       "      <td>-1.045035</td>\n",
       "      <td>1</td>\n",
       "      <td>0</td>\n",
       "      <td>0</td>\n",
       "      <td>0</td>\n",
       "      <td>0</td>\n",
       "      <td>0</td>\n",
       "      <td>0</td>\n",
       "      <td>...</td>\n",
       "      <td>0</td>\n",
       "      <td>0</td>\n",
       "      <td>0</td>\n",
       "      <td>0</td>\n",
       "      <td>0</td>\n",
       "      <td>0</td>\n",
       "      <td>0</td>\n",
       "      <td>0</td>\n",
       "      <td>0</td>\n",
       "      <td>0</td>\n",
       "    </tr>\n",
       "    <tr>\n",
       "      <th>106699</th>\n",
       "      <td>0.503965</td>\n",
       "      <td>0.311764</td>\n",
       "      <td>-1.591383</td>\n",
       "      <td>1</td>\n",
       "      <td>0</td>\n",
       "      <td>0</td>\n",
       "      <td>0</td>\n",
       "      <td>0</td>\n",
       "      <td>0</td>\n",
       "      <td>0</td>\n",
       "      <td>...</td>\n",
       "      <td>0</td>\n",
       "      <td>0</td>\n",
       "      <td>0</td>\n",
       "      <td>0</td>\n",
       "      <td>0</td>\n",
       "      <td>0</td>\n",
       "      <td>0</td>\n",
       "      <td>0</td>\n",
       "      <td>0</td>\n",
       "      <td>0</td>\n",
       "    </tr>\n",
       "    <tr>\n",
       "      <th>169158</th>\n",
       "      <td>0.191873</td>\n",
       "      <td>-0.369685</td>\n",
       "      <td>0.594006</td>\n",
       "      <td>0</td>\n",
       "      <td>0</td>\n",
       "      <td>0</td>\n",
       "      <td>0</td>\n",
       "      <td>0</td>\n",
       "      <td>0</td>\n",
       "      <td>0</td>\n",
       "      <td>...</td>\n",
       "      <td>0</td>\n",
       "      <td>0</td>\n",
       "      <td>0</td>\n",
       "      <td>0</td>\n",
       "      <td>0</td>\n",
       "      <td>0</td>\n",
       "      <td>0</td>\n",
       "      <td>1</td>\n",
       "      <td>0</td>\n",
       "      <td>0</td>\n",
       "    </tr>\n",
       "    <tr>\n",
       "      <th>...</th>\n",
       "      <td>...</td>\n",
       "      <td>...</td>\n",
       "      <td>...</td>\n",
       "      <td>...</td>\n",
       "      <td>...</td>\n",
       "      <td>...</td>\n",
       "      <td>...</td>\n",
       "      <td>...</td>\n",
       "      <td>...</td>\n",
       "      <td>...</td>\n",
       "      <td>...</td>\n",
       "      <td>...</td>\n",
       "      <td>...</td>\n",
       "      <td>...</td>\n",
       "      <td>...</td>\n",
       "      <td>...</td>\n",
       "      <td>...</td>\n",
       "      <td>...</td>\n",
       "      <td>...</td>\n",
       "      <td>...</td>\n",
       "      <td>...</td>\n",
       "    </tr>\n",
       "    <tr>\n",
       "      <th>13921</th>\n",
       "      <td>-0.900450</td>\n",
       "      <td>-0.447565</td>\n",
       "      <td>0.594006</td>\n",
       "      <td>0</td>\n",
       "      <td>0</td>\n",
       "      <td>0</td>\n",
       "      <td>1</td>\n",
       "      <td>0</td>\n",
       "      <td>0</td>\n",
       "      <td>0</td>\n",
       "      <td>...</td>\n",
       "      <td>0</td>\n",
       "      <td>0</td>\n",
       "      <td>0</td>\n",
       "      <td>0</td>\n",
       "      <td>0</td>\n",
       "      <td>0</td>\n",
       "      <td>0</td>\n",
       "      <td>0</td>\n",
       "      <td>0</td>\n",
       "      <td>0</td>\n",
       "    </tr>\n",
       "    <tr>\n",
       "      <th>161491</th>\n",
       "      <td>1.284196</td>\n",
       "      <td>0.895864</td>\n",
       "      <td>-1.045035</td>\n",
       "      <td>0</td>\n",
       "      <td>0</td>\n",
       "      <td>0</td>\n",
       "      <td>1</td>\n",
       "      <td>0</td>\n",
       "      <td>0</td>\n",
       "      <td>0</td>\n",
       "      <td>...</td>\n",
       "      <td>0</td>\n",
       "      <td>0</td>\n",
       "      <td>0</td>\n",
       "      <td>0</td>\n",
       "      <td>0</td>\n",
       "      <td>0</td>\n",
       "      <td>0</td>\n",
       "      <td>0</td>\n",
       "      <td>0</td>\n",
       "      <td>0</td>\n",
       "    </tr>\n",
       "    <tr>\n",
       "      <th>72226</th>\n",
       "      <td>1.440243</td>\n",
       "      <td>0.311764</td>\n",
       "      <td>-3.230424</td>\n",
       "      <td>0</td>\n",
       "      <td>0</td>\n",
       "      <td>0</td>\n",
       "      <td>0</td>\n",
       "      <td>0</td>\n",
       "      <td>0</td>\n",
       "      <td>0</td>\n",
       "      <td>...</td>\n",
       "      <td>0</td>\n",
       "      <td>0</td>\n",
       "      <td>0</td>\n",
       "      <td>0</td>\n",
       "      <td>0</td>\n",
       "      <td>0</td>\n",
       "      <td>0</td>\n",
       "      <td>0</td>\n",
       "      <td>0</td>\n",
       "      <td>0</td>\n",
       "    </tr>\n",
       "    <tr>\n",
       "      <th>265912</th>\n",
       "      <td>-0.432312</td>\n",
       "      <td>-0.817494</td>\n",
       "      <td>0.594006</td>\n",
       "      <td>0</td>\n",
       "      <td>0</td>\n",
       "      <td>0</td>\n",
       "      <td>0</td>\n",
       "      <td>0</td>\n",
       "      <td>0</td>\n",
       "      <td>0</td>\n",
       "      <td>...</td>\n",
       "      <td>0</td>\n",
       "      <td>0</td>\n",
       "      <td>0</td>\n",
       "      <td>0</td>\n",
       "      <td>0</td>\n",
       "      <td>0</td>\n",
       "      <td>0</td>\n",
       "      <td>0</td>\n",
       "      <td>0</td>\n",
       "      <td>0</td>\n",
       "    </tr>\n",
       "    <tr>\n",
       "      <th>150521</th>\n",
       "      <td>-0.432312</td>\n",
       "      <td>-0.953784</td>\n",
       "      <td>0.594006</td>\n",
       "      <td>0</td>\n",
       "      <td>0</td>\n",
       "      <td>0</td>\n",
       "      <td>0</td>\n",
       "      <td>1</td>\n",
       "      <td>0</td>\n",
       "      <td>0</td>\n",
       "      <td>...</td>\n",
       "      <td>0</td>\n",
       "      <td>0</td>\n",
       "      <td>0</td>\n",
       "      <td>0</td>\n",
       "      <td>0</td>\n",
       "      <td>0</td>\n",
       "      <td>0</td>\n",
       "      <td>1</td>\n",
       "      <td>0</td>\n",
       "      <td>1</td>\n",
       "    </tr>\n",
       "  </tbody>\n",
       "</table>\n",
       "<p>169797 rows × 306 columns</p>\n",
       "</div>"
      ],
      "text/plain": [
       "        RegistrationYear     Power  Kilometer  VehicleType_convertible  \\\n",
       "60881           1.440243  0.506464  -2.957251                        0   \n",
       "210584         -0.900450  0.895864   0.594006                        0   \n",
       "61596           0.816058  0.370174  -1.045035                        1   \n",
       "106699          0.503965  0.311764  -1.591383                        1   \n",
       "169158          0.191873 -0.369685   0.594006                        0   \n",
       "...                  ...       ...        ...                      ...   \n",
       "13921          -0.900450 -0.447565   0.594006                        0   \n",
       "161491          1.284196  0.895864  -1.045035                        0   \n",
       "72226           1.440243  0.311764  -3.230424                        0   \n",
       "265912         -0.432312 -0.817494   0.594006                        0   \n",
       "150521         -0.432312 -0.953784   0.594006                        0   \n",
       "\n",
       "        VehicleType_coupe  VehicleType_other  VehicleType_sedan  \\\n",
       "60881                   0                  0                  0   \n",
       "210584                  0                  0                  0   \n",
       "61596                   0                  0                  0   \n",
       "106699                  0                  0                  0   \n",
       "169158                  0                  0                  0   \n",
       "...                   ...                ...                ...   \n",
       "13921                   0                  0                  1   \n",
       "161491                  0                  0                  1   \n",
       "72226                   0                  0                  0   \n",
       "265912                  0                  0                  0   \n",
       "150521                  0                  0                  0   \n",
       "\n",
       "        VehicleType_small  VehicleType_suv  VehicleType_unknown  ...  \\\n",
       "60881                   0                0                    0  ...   \n",
       "210584                  0                0                    0  ...   \n",
       "61596                   0                0                    0  ...   \n",
       "106699                  0                0                    0  ...   \n",
       "169158                  0                0                    0  ...   \n",
       "...                   ...              ...                  ...  ...   \n",
       "13921                   0                0                    0  ...   \n",
       "161491                  0                0                    0  ...   \n",
       "72226                   0                0                    0  ...   \n",
       "265912                  0                0                    0  ...   \n",
       "150521                  1                0                    0  ...   \n",
       "\n",
       "        Brand_skoda  Brand_smart  Brand_sonstige_autos  Brand_subaru  \\\n",
       "60881             0            0                     0             0   \n",
       "210584            0            0                     0             0   \n",
       "61596             0            0                     0             0   \n",
       "106699            0            0                     0             0   \n",
       "169158            0            0                     0             0   \n",
       "...             ...          ...                   ...           ...   \n",
       "13921             0            0                     0             0   \n",
       "161491            0            0                     0             0   \n",
       "72226             0            0                     0             0   \n",
       "265912            0            0                     0             0   \n",
       "150521            0            0                     0             0   \n",
       "\n",
       "        Brand_suzuki  Brand_toyota  Brand_trabant  Brand_volkswagen  \\\n",
       "60881              0             0              0                 0   \n",
       "210584             0             0              0                 0   \n",
       "61596              0             0              0                 0   \n",
       "106699             0             0              0                 0   \n",
       "169158             0             0              0                 1   \n",
       "...              ...           ...            ...               ...   \n",
       "13921              0             0              0                 0   \n",
       "161491             0             0              0                 0   \n",
       "72226              0             0              0                 0   \n",
       "265912             0             0              0                 0   \n",
       "150521             0             0              0                 1   \n",
       "\n",
       "        Brand_volvo  Repaired_yes  \n",
       "60881             0             0  \n",
       "210584            0             0  \n",
       "61596             0             0  \n",
       "106699            0             0  \n",
       "169158            0             0  \n",
       "...             ...           ...  \n",
       "13921             0             0  \n",
       "161491            0             0  \n",
       "72226             0             0  \n",
       "265912            0             0  \n",
       "150521            0             1  \n",
       "\n",
       "[169797 rows x 306 columns]"
      ]
     },
     "metadata": {},
     "output_type": "display_data"
    },
    {
     "data": {
      "text/html": [
       "<div>\n",
       "<style scoped>\n",
       "    .dataframe tbody tr th:only-of-type {\n",
       "        vertical-align: middle;\n",
       "    }\n",
       "\n",
       "    .dataframe tbody tr th {\n",
       "        vertical-align: top;\n",
       "    }\n",
       "\n",
       "    .dataframe thead th {\n",
       "        text-align: right;\n",
       "    }\n",
       "</style>\n",
       "<table border=\"1\" class=\"dataframe\">\n",
       "  <thead>\n",
       "    <tr style=\"text-align: right;\">\n",
       "      <th></th>\n",
       "      <th>RegistrationYear</th>\n",
       "      <th>Power</th>\n",
       "      <th>Kilometer</th>\n",
       "      <th>VehicleType_convertible</th>\n",
       "      <th>VehicleType_coupe</th>\n",
       "      <th>VehicleType_other</th>\n",
       "      <th>VehicleType_sedan</th>\n",
       "      <th>VehicleType_small</th>\n",
       "      <th>VehicleType_suv</th>\n",
       "      <th>VehicleType_unknown</th>\n",
       "      <th>...</th>\n",
       "      <th>Brand_skoda</th>\n",
       "      <th>Brand_smart</th>\n",
       "      <th>Brand_sonstige_autos</th>\n",
       "      <th>Brand_subaru</th>\n",
       "      <th>Brand_suzuki</th>\n",
       "      <th>Brand_toyota</th>\n",
       "      <th>Brand_trabant</th>\n",
       "      <th>Brand_volkswagen</th>\n",
       "      <th>Brand_volvo</th>\n",
       "      <th>Repaired_yes</th>\n",
       "    </tr>\n",
       "  </thead>\n",
       "  <tbody>\n",
       "    <tr>\n",
       "      <th>41923</th>\n",
       "      <td>0.660012</td>\n",
       "      <td>0.701164</td>\n",
       "      <td>-1.591383</td>\n",
       "      <td>1</td>\n",
       "      <td>0</td>\n",
       "      <td>0</td>\n",
       "      <td>0</td>\n",
       "      <td>0</td>\n",
       "      <td>0</td>\n",
       "      <td>0</td>\n",
       "      <td>...</td>\n",
       "      <td>0</td>\n",
       "      <td>0</td>\n",
       "      <td>0</td>\n",
       "      <td>0</td>\n",
       "      <td>0</td>\n",
       "      <td>0</td>\n",
       "      <td>0</td>\n",
       "      <td>0</td>\n",
       "      <td>0</td>\n",
       "      <td>0</td>\n",
       "    </tr>\n",
       "    <tr>\n",
       "      <th>111068</th>\n",
       "      <td>-0.744404</td>\n",
       "      <td>-1.245833</td>\n",
       "      <td>-1.318209</td>\n",
       "      <td>0</td>\n",
       "      <td>0</td>\n",
       "      <td>0</td>\n",
       "      <td>1</td>\n",
       "      <td>0</td>\n",
       "      <td>0</td>\n",
       "      <td>0</td>\n",
       "      <td>...</td>\n",
       "      <td>0</td>\n",
       "      <td>0</td>\n",
       "      <td>0</td>\n",
       "      <td>0</td>\n",
       "      <td>0</td>\n",
       "      <td>0</td>\n",
       "      <td>0</td>\n",
       "      <td>0</td>\n",
       "      <td>0</td>\n",
       "      <td>0</td>\n",
       "    </tr>\n",
       "    <tr>\n",
       "      <th>24225</th>\n",
       "      <td>0.816058</td>\n",
       "      <td>-0.467035</td>\n",
       "      <td>-0.088928</td>\n",
       "      <td>0</td>\n",
       "      <td>0</td>\n",
       "      <td>0</td>\n",
       "      <td>0</td>\n",
       "      <td>0</td>\n",
       "      <td>1</td>\n",
       "      <td>0</td>\n",
       "      <td>...</td>\n",
       "      <td>0</td>\n",
       "      <td>0</td>\n",
       "      <td>0</td>\n",
       "      <td>0</td>\n",
       "      <td>0</td>\n",
       "      <td>0</td>\n",
       "      <td>0</td>\n",
       "      <td>0</td>\n",
       "      <td>0</td>\n",
       "      <td>1</td>\n",
       "    </tr>\n",
       "    <tr>\n",
       "      <th>125927</th>\n",
       "      <td>0.035827</td>\n",
       "      <td>0.019715</td>\n",
       "      <td>0.594006</td>\n",
       "      <td>0</td>\n",
       "      <td>0</td>\n",
       "      <td>0</td>\n",
       "      <td>0</td>\n",
       "      <td>0</td>\n",
       "      <td>0</td>\n",
       "      <td>0</td>\n",
       "      <td>...</td>\n",
       "      <td>0</td>\n",
       "      <td>0</td>\n",
       "      <td>0</td>\n",
       "      <td>0</td>\n",
       "      <td>0</td>\n",
       "      <td>0</td>\n",
       "      <td>0</td>\n",
       "      <td>0</td>\n",
       "      <td>0</td>\n",
       "      <td>1</td>\n",
       "    </tr>\n",
       "    <tr>\n",
       "      <th>129824</th>\n",
       "      <td>-0.432312</td>\n",
       "      <td>-0.447565</td>\n",
       "      <td>0.594006</td>\n",
       "      <td>0</td>\n",
       "      <td>0</td>\n",
       "      <td>0</td>\n",
       "      <td>0</td>\n",
       "      <td>0</td>\n",
       "      <td>0</td>\n",
       "      <td>0</td>\n",
       "      <td>...</td>\n",
       "      <td>0</td>\n",
       "      <td>0</td>\n",
       "      <td>0</td>\n",
       "      <td>0</td>\n",
       "      <td>0</td>\n",
       "      <td>0</td>\n",
       "      <td>0</td>\n",
       "      <td>0</td>\n",
       "      <td>0</td>\n",
       "      <td>0</td>\n",
       "    </tr>\n",
       "    <tr>\n",
       "      <th>...</th>\n",
       "      <td>...</td>\n",
       "      <td>...</td>\n",
       "      <td>...</td>\n",
       "      <td>...</td>\n",
       "      <td>...</td>\n",
       "      <td>...</td>\n",
       "      <td>...</td>\n",
       "      <td>...</td>\n",
       "      <td>...</td>\n",
       "      <td>...</td>\n",
       "      <td>...</td>\n",
       "      <td>...</td>\n",
       "      <td>...</td>\n",
       "      <td>...</td>\n",
       "      <td>...</td>\n",
       "      <td>...</td>\n",
       "      <td>...</td>\n",
       "      <td>...</td>\n",
       "      <td>...</td>\n",
       "      <td>...</td>\n",
       "      <td>...</td>\n",
       "    </tr>\n",
       "    <tr>\n",
       "      <th>195863</th>\n",
       "      <td>0.191873</td>\n",
       "      <td>0.292294</td>\n",
       "      <td>0.594006</td>\n",
       "      <td>0</td>\n",
       "      <td>0</td>\n",
       "      <td>0</td>\n",
       "      <td>0</td>\n",
       "      <td>0</td>\n",
       "      <td>0</td>\n",
       "      <td>0</td>\n",
       "      <td>...</td>\n",
       "      <td>0</td>\n",
       "      <td>0</td>\n",
       "      <td>0</td>\n",
       "      <td>0</td>\n",
       "      <td>0</td>\n",
       "      <td>0</td>\n",
       "      <td>0</td>\n",
       "      <td>0</td>\n",
       "      <td>0</td>\n",
       "      <td>0</td>\n",
       "    </tr>\n",
       "    <tr>\n",
       "      <th>234439</th>\n",
       "      <td>-0.432312</td>\n",
       "      <td>1.421553</td>\n",
       "      <td>0.594006</td>\n",
       "      <td>1</td>\n",
       "      <td>0</td>\n",
       "      <td>0</td>\n",
       "      <td>0</td>\n",
       "      <td>0</td>\n",
       "      <td>0</td>\n",
       "      <td>0</td>\n",
       "      <td>...</td>\n",
       "      <td>0</td>\n",
       "      <td>0</td>\n",
       "      <td>0</td>\n",
       "      <td>0</td>\n",
       "      <td>0</td>\n",
       "      <td>0</td>\n",
       "      <td>0</td>\n",
       "      <td>0</td>\n",
       "      <td>0</td>\n",
       "      <td>0</td>\n",
       "    </tr>\n",
       "    <tr>\n",
       "      <th>173958</th>\n",
       "      <td>-0.432312</td>\n",
       "      <td>-0.369685</td>\n",
       "      <td>0.594006</td>\n",
       "      <td>0</td>\n",
       "      <td>1</td>\n",
       "      <td>0</td>\n",
       "      <td>0</td>\n",
       "      <td>0</td>\n",
       "      <td>0</td>\n",
       "      <td>0</td>\n",
       "      <td>...</td>\n",
       "      <td>0</td>\n",
       "      <td>0</td>\n",
       "      <td>0</td>\n",
       "      <td>0</td>\n",
       "      <td>0</td>\n",
       "      <td>0</td>\n",
       "      <td>0</td>\n",
       "      <td>0</td>\n",
       "      <td>0</td>\n",
       "      <td>1</td>\n",
       "    </tr>\n",
       "    <tr>\n",
       "      <th>268664</th>\n",
       "      <td>-0.744404</td>\n",
       "      <td>-0.428095</td>\n",
       "      <td>0.594006</td>\n",
       "      <td>0</td>\n",
       "      <td>0</td>\n",
       "      <td>0</td>\n",
       "      <td>0</td>\n",
       "      <td>1</td>\n",
       "      <td>0</td>\n",
       "      <td>0</td>\n",
       "      <td>...</td>\n",
       "      <td>0</td>\n",
       "      <td>0</td>\n",
       "      <td>0</td>\n",
       "      <td>0</td>\n",
       "      <td>0</td>\n",
       "      <td>0</td>\n",
       "      <td>0</td>\n",
       "      <td>0</td>\n",
       "      <td>0</td>\n",
       "      <td>1</td>\n",
       "    </tr>\n",
       "    <tr>\n",
       "      <th>278400</th>\n",
       "      <td>1.128150</td>\n",
       "      <td>-1.245833</td>\n",
       "      <td>-1.318209</td>\n",
       "      <td>0</td>\n",
       "      <td>0</td>\n",
       "      <td>0</td>\n",
       "      <td>0</td>\n",
       "      <td>1</td>\n",
       "      <td>0</td>\n",
       "      <td>0</td>\n",
       "      <td>...</td>\n",
       "      <td>0</td>\n",
       "      <td>0</td>\n",
       "      <td>0</td>\n",
       "      <td>0</td>\n",
       "      <td>0</td>\n",
       "      <td>0</td>\n",
       "      <td>0</td>\n",
       "      <td>1</td>\n",
       "      <td>0</td>\n",
       "      <td>1</td>\n",
       "    </tr>\n",
       "  </tbody>\n",
       "</table>\n",
       "<p>56599 rows × 306 columns</p>\n",
       "</div>"
      ],
      "text/plain": [
       "        RegistrationYear     Power  Kilometer  VehicleType_convertible  \\\n",
       "41923           0.660012  0.701164  -1.591383                        1   \n",
       "111068         -0.744404 -1.245833  -1.318209                        0   \n",
       "24225           0.816058 -0.467035  -0.088928                        0   \n",
       "125927          0.035827  0.019715   0.594006                        0   \n",
       "129824         -0.432312 -0.447565   0.594006                        0   \n",
       "...                  ...       ...        ...                      ...   \n",
       "195863          0.191873  0.292294   0.594006                        0   \n",
       "234439         -0.432312  1.421553   0.594006                        1   \n",
       "173958         -0.432312 -0.369685   0.594006                        0   \n",
       "268664         -0.744404 -0.428095   0.594006                        0   \n",
       "278400          1.128150 -1.245833  -1.318209                        0   \n",
       "\n",
       "        VehicleType_coupe  VehicleType_other  VehicleType_sedan  \\\n",
       "41923                   0                  0                  0   \n",
       "111068                  0                  0                  1   \n",
       "24225                   0                  0                  0   \n",
       "125927                  0                  0                  0   \n",
       "129824                  0                  0                  0   \n",
       "...                   ...                ...                ...   \n",
       "195863                  0                  0                  0   \n",
       "234439                  0                  0                  0   \n",
       "173958                  1                  0                  0   \n",
       "268664                  0                  0                  0   \n",
       "278400                  0                  0                  0   \n",
       "\n",
       "        VehicleType_small  VehicleType_suv  VehicleType_unknown  ...  \\\n",
       "41923                   0                0                    0  ...   \n",
       "111068                  0                0                    0  ...   \n",
       "24225                   0                1                    0  ...   \n",
       "125927                  0                0                    0  ...   \n",
       "129824                  0                0                    0  ...   \n",
       "...                   ...              ...                  ...  ...   \n",
       "195863                  0                0                    0  ...   \n",
       "234439                  0                0                    0  ...   \n",
       "173958                  0                0                    0  ...   \n",
       "268664                  1                0                    0  ...   \n",
       "278400                  1                0                    0  ...   \n",
       "\n",
       "        Brand_skoda  Brand_smart  Brand_sonstige_autos  Brand_subaru  \\\n",
       "41923             0            0                     0             0   \n",
       "111068            0            0                     0             0   \n",
       "24225             0            0                     0             0   \n",
       "125927            0            0                     0             0   \n",
       "129824            0            0                     0             0   \n",
       "...             ...          ...                   ...           ...   \n",
       "195863            0            0                     0             0   \n",
       "234439            0            0                     0             0   \n",
       "173958            0            0                     0             0   \n",
       "268664            0            0                     0             0   \n",
       "278400            0            0                     0             0   \n",
       "\n",
       "        Brand_suzuki  Brand_toyota  Brand_trabant  Brand_volkswagen  \\\n",
       "41923              0             0              0                 0   \n",
       "111068             0             0              0                 0   \n",
       "24225              0             0              0                 0   \n",
       "125927             0             0              0                 0   \n",
       "129824             0             0              0                 0   \n",
       "...              ...           ...            ...               ...   \n",
       "195863             0             0              0                 0   \n",
       "234439             0             0              0                 0   \n",
       "173958             0             0              0                 0   \n",
       "268664             0             0              0                 0   \n",
       "278400             0             0              0                 1   \n",
       "\n",
       "        Brand_volvo  Repaired_yes  \n",
       "41923             0             0  \n",
       "111068            0             0  \n",
       "24225             0             1  \n",
       "125927            0             1  \n",
       "129824            0             0  \n",
       "...             ...           ...  \n",
       "195863            0             0  \n",
       "234439            0             0  \n",
       "173958            0             1  \n",
       "268664            0             1  \n",
       "278400            0             1  \n",
       "\n",
       "[56599 rows x 306 columns]"
      ]
     },
     "metadata": {},
     "output_type": "display_data"
    },
    {
     "data": {
      "text/html": [
       "<div>\n",
       "<style scoped>\n",
       "    .dataframe tbody tr th:only-of-type {\n",
       "        vertical-align: middle;\n",
       "    }\n",
       "\n",
       "    .dataframe tbody tr th {\n",
       "        vertical-align: top;\n",
       "    }\n",
       "\n",
       "    .dataframe thead th {\n",
       "        text-align: right;\n",
       "    }\n",
       "</style>\n",
       "<table border=\"1\" class=\"dataframe\">\n",
       "  <thead>\n",
       "    <tr style=\"text-align: right;\">\n",
       "      <th></th>\n",
       "      <th>RegistrationYear</th>\n",
       "      <th>Power</th>\n",
       "      <th>Kilometer</th>\n",
       "      <th>VehicleType_convertible</th>\n",
       "      <th>VehicleType_coupe</th>\n",
       "      <th>VehicleType_other</th>\n",
       "      <th>VehicleType_sedan</th>\n",
       "      <th>VehicleType_small</th>\n",
       "      <th>VehicleType_suv</th>\n",
       "      <th>VehicleType_unknown</th>\n",
       "      <th>...</th>\n",
       "      <th>Brand_skoda</th>\n",
       "      <th>Brand_smart</th>\n",
       "      <th>Brand_sonstige_autos</th>\n",
       "      <th>Brand_subaru</th>\n",
       "      <th>Brand_suzuki</th>\n",
       "      <th>Brand_toyota</th>\n",
       "      <th>Brand_trabant</th>\n",
       "      <th>Brand_volkswagen</th>\n",
       "      <th>Brand_volvo</th>\n",
       "      <th>Repaired_yes</th>\n",
       "    </tr>\n",
       "  </thead>\n",
       "  <tbody>\n",
       "    <tr>\n",
       "      <th>247140</th>\n",
       "      <td>-0.120219</td>\n",
       "      <td>0.233884</td>\n",
       "      <td>0.594006</td>\n",
       "      <td>0</td>\n",
       "      <td>0</td>\n",
       "      <td>0</td>\n",
       "      <td>0</td>\n",
       "      <td>0</td>\n",
       "      <td>0</td>\n",
       "      <td>0</td>\n",
       "      <td>...</td>\n",
       "      <td>0</td>\n",
       "      <td>0</td>\n",
       "      <td>0</td>\n",
       "      <td>0</td>\n",
       "      <td>0</td>\n",
       "      <td>0</td>\n",
       "      <td>0</td>\n",
       "      <td>1</td>\n",
       "      <td>0</td>\n",
       "      <td>0</td>\n",
       "    </tr>\n",
       "    <tr>\n",
       "      <th>65050</th>\n",
       "      <td>-1.368589</td>\n",
       "      <td>-1.090074</td>\n",
       "      <td>-0.088928</td>\n",
       "      <td>0</td>\n",
       "      <td>0</td>\n",
       "      <td>0</td>\n",
       "      <td>0</td>\n",
       "      <td>0</td>\n",
       "      <td>0</td>\n",
       "      <td>0</td>\n",
       "      <td>...</td>\n",
       "      <td>1</td>\n",
       "      <td>0</td>\n",
       "      <td>0</td>\n",
       "      <td>0</td>\n",
       "      <td>0</td>\n",
       "      <td>0</td>\n",
       "      <td>0</td>\n",
       "      <td>0</td>\n",
       "      <td>0</td>\n",
       "      <td>1</td>\n",
       "    </tr>\n",
       "    <tr>\n",
       "      <th>90869</th>\n",
       "      <td>-1.368589</td>\n",
       "      <td>0.506464</td>\n",
       "      <td>0.594006</td>\n",
       "      <td>1</td>\n",
       "      <td>0</td>\n",
       "      <td>0</td>\n",
       "      <td>0</td>\n",
       "      <td>0</td>\n",
       "      <td>0</td>\n",
       "      <td>0</td>\n",
       "      <td>...</td>\n",
       "      <td>0</td>\n",
       "      <td>0</td>\n",
       "      <td>0</td>\n",
       "      <td>0</td>\n",
       "      <td>0</td>\n",
       "      <td>0</td>\n",
       "      <td>0</td>\n",
       "      <td>0</td>\n",
       "      <td>0</td>\n",
       "      <td>1</td>\n",
       "    </tr>\n",
       "    <tr>\n",
       "      <th>280385</th>\n",
       "      <td>-0.900450</td>\n",
       "      <td>0.506464</td>\n",
       "      <td>0.594006</td>\n",
       "      <td>0</td>\n",
       "      <td>0</td>\n",
       "      <td>0</td>\n",
       "      <td>1</td>\n",
       "      <td>0</td>\n",
       "      <td>0</td>\n",
       "      <td>0</td>\n",
       "      <td>...</td>\n",
       "      <td>0</td>\n",
       "      <td>0</td>\n",
       "      <td>0</td>\n",
       "      <td>0</td>\n",
       "      <td>0</td>\n",
       "      <td>0</td>\n",
       "      <td>0</td>\n",
       "      <td>0</td>\n",
       "      <td>0</td>\n",
       "      <td>1</td>\n",
       "    </tr>\n",
       "    <tr>\n",
       "      <th>262115</th>\n",
       "      <td>-0.276265</td>\n",
       "      <td>1.694132</td>\n",
       "      <td>0.594006</td>\n",
       "      <td>0</td>\n",
       "      <td>0</td>\n",
       "      <td>0</td>\n",
       "      <td>0</td>\n",
       "      <td>0</td>\n",
       "      <td>1</td>\n",
       "      <td>0</td>\n",
       "      <td>...</td>\n",
       "      <td>0</td>\n",
       "      <td>0</td>\n",
       "      <td>0</td>\n",
       "      <td>0</td>\n",
       "      <td>0</td>\n",
       "      <td>0</td>\n",
       "      <td>0</td>\n",
       "      <td>0</td>\n",
       "      <td>0</td>\n",
       "      <td>0</td>\n",
       "    </tr>\n",
       "    <tr>\n",
       "      <th>...</th>\n",
       "      <td>...</td>\n",
       "      <td>...</td>\n",
       "      <td>...</td>\n",
       "      <td>...</td>\n",
       "      <td>...</td>\n",
       "      <td>...</td>\n",
       "      <td>...</td>\n",
       "      <td>...</td>\n",
       "      <td>...</td>\n",
       "      <td>...</td>\n",
       "      <td>...</td>\n",
       "      <td>...</td>\n",
       "      <td>...</td>\n",
       "      <td>...</td>\n",
       "      <td>...</td>\n",
       "      <td>...</td>\n",
       "      <td>...</td>\n",
       "      <td>...</td>\n",
       "      <td>...</td>\n",
       "      <td>...</td>\n",
       "      <td>...</td>\n",
       "    </tr>\n",
       "    <tr>\n",
       "      <th>217805</th>\n",
       "      <td>0.503965</td>\n",
       "      <td>2.161412</td>\n",
       "      <td>-0.088928</td>\n",
       "      <td>0</td>\n",
       "      <td>0</td>\n",
       "      <td>0</td>\n",
       "      <td>1</td>\n",
       "      <td>0</td>\n",
       "      <td>0</td>\n",
       "      <td>0</td>\n",
       "      <td>...</td>\n",
       "      <td>0</td>\n",
       "      <td>0</td>\n",
       "      <td>0</td>\n",
       "      <td>0</td>\n",
       "      <td>0</td>\n",
       "      <td>0</td>\n",
       "      <td>0</td>\n",
       "      <td>0</td>\n",
       "      <td>0</td>\n",
       "      <td>1</td>\n",
       "    </tr>\n",
       "    <tr>\n",
       "      <th>52822</th>\n",
       "      <td>-0.588358</td>\n",
       "      <td>1.343673</td>\n",
       "      <td>0.594006</td>\n",
       "      <td>0</td>\n",
       "      <td>0</td>\n",
       "      <td>0</td>\n",
       "      <td>0</td>\n",
       "      <td>0</td>\n",
       "      <td>0</td>\n",
       "      <td>0</td>\n",
       "      <td>...</td>\n",
       "      <td>0</td>\n",
       "      <td>0</td>\n",
       "      <td>0</td>\n",
       "      <td>0</td>\n",
       "      <td>0</td>\n",
       "      <td>0</td>\n",
       "      <td>0</td>\n",
       "      <td>0</td>\n",
       "      <td>0</td>\n",
       "      <td>0</td>\n",
       "    </tr>\n",
       "    <tr>\n",
       "      <th>10905</th>\n",
       "      <td>-0.900450</td>\n",
       "      <td>0.525934</td>\n",
       "      <td>0.594006</td>\n",
       "      <td>0</td>\n",
       "      <td>0</td>\n",
       "      <td>0</td>\n",
       "      <td>0</td>\n",
       "      <td>0</td>\n",
       "      <td>0</td>\n",
       "      <td>0</td>\n",
       "      <td>...</td>\n",
       "      <td>0</td>\n",
       "      <td>0</td>\n",
       "      <td>0</td>\n",
       "      <td>0</td>\n",
       "      <td>0</td>\n",
       "      <td>0</td>\n",
       "      <td>0</td>\n",
       "      <td>1</td>\n",
       "      <td>0</td>\n",
       "      <td>0</td>\n",
       "    </tr>\n",
       "    <tr>\n",
       "      <th>30841</th>\n",
       "      <td>-1.368589</td>\n",
       "      <td>-0.953784</td>\n",
       "      <td>0.594006</td>\n",
       "      <td>0</td>\n",
       "      <td>0</td>\n",
       "      <td>0</td>\n",
       "      <td>1</td>\n",
       "      <td>0</td>\n",
       "      <td>0</td>\n",
       "      <td>0</td>\n",
       "      <td>...</td>\n",
       "      <td>0</td>\n",
       "      <td>0</td>\n",
       "      <td>0</td>\n",
       "      <td>0</td>\n",
       "      <td>0</td>\n",
       "      <td>0</td>\n",
       "      <td>0</td>\n",
       "      <td>1</td>\n",
       "      <td>0</td>\n",
       "      <td>0</td>\n",
       "    </tr>\n",
       "    <tr>\n",
       "      <th>53854</th>\n",
       "      <td>1.128150</td>\n",
       "      <td>-1.070604</td>\n",
       "      <td>-2.684077</td>\n",
       "      <td>0</td>\n",
       "      <td>0</td>\n",
       "      <td>0</td>\n",
       "      <td>0</td>\n",
       "      <td>1</td>\n",
       "      <td>0</td>\n",
       "      <td>0</td>\n",
       "      <td>...</td>\n",
       "      <td>0</td>\n",
       "      <td>0</td>\n",
       "      <td>0</td>\n",
       "      <td>0</td>\n",
       "      <td>0</td>\n",
       "      <td>0</td>\n",
       "      <td>0</td>\n",
       "      <td>0</td>\n",
       "      <td>0</td>\n",
       "      <td>0</td>\n",
       "    </tr>\n",
       "  </tbody>\n",
       "</table>\n",
       "<p>56599 rows × 306 columns</p>\n",
       "</div>"
      ],
      "text/plain": [
       "        RegistrationYear     Power  Kilometer  VehicleType_convertible  \\\n",
       "247140         -0.120219  0.233884   0.594006                        0   \n",
       "65050          -1.368589 -1.090074  -0.088928                        0   \n",
       "90869          -1.368589  0.506464   0.594006                        1   \n",
       "280385         -0.900450  0.506464   0.594006                        0   \n",
       "262115         -0.276265  1.694132   0.594006                        0   \n",
       "...                  ...       ...        ...                      ...   \n",
       "217805          0.503965  2.161412  -0.088928                        0   \n",
       "52822          -0.588358  1.343673   0.594006                        0   \n",
       "10905          -0.900450  0.525934   0.594006                        0   \n",
       "30841          -1.368589 -0.953784   0.594006                        0   \n",
       "53854           1.128150 -1.070604  -2.684077                        0   \n",
       "\n",
       "        VehicleType_coupe  VehicleType_other  VehicleType_sedan  \\\n",
       "247140                  0                  0                  0   \n",
       "65050                   0                  0                  0   \n",
       "90869                   0                  0                  0   \n",
       "280385                  0                  0                  1   \n",
       "262115                  0                  0                  0   \n",
       "...                   ...                ...                ...   \n",
       "217805                  0                  0                  1   \n",
       "52822                   0                  0                  0   \n",
       "10905                   0                  0                  0   \n",
       "30841                   0                  0                  1   \n",
       "53854                   0                  0                  0   \n",
       "\n",
       "        VehicleType_small  VehicleType_suv  VehicleType_unknown  ...  \\\n",
       "247140                  0                0                    0  ...   \n",
       "65050                   0                0                    0  ...   \n",
       "90869                   0                0                    0  ...   \n",
       "280385                  0                0                    0  ...   \n",
       "262115                  0                1                    0  ...   \n",
       "...                   ...              ...                  ...  ...   \n",
       "217805                  0                0                    0  ...   \n",
       "52822                   0                0                    0  ...   \n",
       "10905                   0                0                    0  ...   \n",
       "30841                   0                0                    0  ...   \n",
       "53854                   1                0                    0  ...   \n",
       "\n",
       "        Brand_skoda  Brand_smart  Brand_sonstige_autos  Brand_subaru  \\\n",
       "247140            0            0                     0             0   \n",
       "65050             1            0                     0             0   \n",
       "90869             0            0                     0             0   \n",
       "280385            0            0                     0             0   \n",
       "262115            0            0                     0             0   \n",
       "...             ...          ...                   ...           ...   \n",
       "217805            0            0                     0             0   \n",
       "52822             0            0                     0             0   \n",
       "10905             0            0                     0             0   \n",
       "30841             0            0                     0             0   \n",
       "53854             0            0                     0             0   \n",
       "\n",
       "        Brand_suzuki  Brand_toyota  Brand_trabant  Brand_volkswagen  \\\n",
       "247140             0             0              0                 1   \n",
       "65050              0             0              0                 0   \n",
       "90869              0             0              0                 0   \n",
       "280385             0             0              0                 0   \n",
       "262115             0             0              0                 0   \n",
       "...              ...           ...            ...               ...   \n",
       "217805             0             0              0                 0   \n",
       "52822              0             0              0                 0   \n",
       "10905              0             0              0                 1   \n",
       "30841              0             0              0                 1   \n",
       "53854              0             0              0                 0   \n",
       "\n",
       "        Brand_volvo  Repaired_yes  \n",
       "247140            0             0  \n",
       "65050             0             1  \n",
       "90869             0             1  \n",
       "280385            0             1  \n",
       "262115            0             0  \n",
       "...             ...           ...  \n",
       "217805            0             1  \n",
       "52822             0             0  \n",
       "10905             0             0  \n",
       "30841             0             0  \n",
       "53854             0             0  \n",
       "\n",
       "[56599 rows x 306 columns]"
      ]
     },
     "metadata": {},
     "output_type": "display_data"
    }
   ],
   "source": [
    "#Масштабирую количественные признаки ОНЕ\n",
    "quan_features_train_ohe = features_train[quan_columns]\n",
    "\n",
    "quan_features_train_ohe_scaled = pd.DataFrame(scaler.transform(quan_features_train_ohe),\n",
    "                                          columns = quan_features_train_ohe.columns,\n",
    "                                          index = quan_features_train_ohe.index)\n",
    "features_train_ohe_scaled = features_train_ohe.copy()\n",
    "for column in quan_columns:\n",
    "    features_train_ohe_scaled[column] = quan_features_train_ohe_scaled[column]\n",
    "    \n",
    "    \n",
    "\n",
    "quan_features_valid_ohe = features_valid[quan_columns]\n",
    "\n",
    "quan_features_valid_ohe_scaled = pd.DataFrame(scaler.transform(quan_features_valid_ohe),\n",
    "                                          columns = quan_features_valid_ohe.columns,\n",
    "                                          index = quan_features_valid_ohe.index)\n",
    "features_valid_ohe_scaled = features_valid_ohe.copy()\n",
    "for column in quan_columns:\n",
    "    features_valid_ohe_scaled[column] = quan_features_valid_ohe_scaled[column]\n",
    "    \n",
    "\n",
    "    \n",
    "quan_features_test_ohe = features_test[quan_columns]\n",
    "\n",
    "quan_features_test_ohe_scaled = pd.DataFrame(scaler.transform(quan_features_test_ohe),\n",
    "                                          columns = quan_features_test_ohe.columns,\n",
    "                                          index = quan_features_test_ohe.index)\n",
    "features_test_ohe_scaled = features_test_ohe.copy()\n",
    "for column in quan_columns:\n",
    "    features_test_ohe_scaled[column] = quan_features_test_ohe_scaled[column]\n",
    "    \n",
    "\n",
    "    \n",
    "display(features_train_ohe_scaled, features_valid_ohe_scaled, features_test_ohe_scaled)"
   ]
  },
  {
   "cell_type": "code",
   "execution_count": 36,
   "metadata": {},
   "outputs": [
    {
     "name": "stdout",
     "output_type": "stream",
     "text": [
      "RMSE valid: 2526.1651532088636\n",
      "\n",
      "CPU times: user 14.9 s, sys: 13.2 s, total: 28.1 s\n",
      "Wall time: 28.2 s\n"
     ]
    }
   ],
   "source": [
    "%%time\n",
    "#Линейная регрессия\n",
    "linear = LinearRegression()\n",
    "linear.fit(features_train_ohe_scaled, target_train)\n",
    "linear_predict_valid = linear.predict(features_valid_ohe_scaled)\n",
    "print('RMSE valid:', mean_squared_error(target_valid, linear_predict_valid) ** 0.5)\n",
    "print()"
   ]
  },
  {
   "cell_type": "code",
   "execution_count": 37,
   "metadata": {},
   "outputs": [
    {
     "name": "stdout",
     "output_type": "stream",
     "text": [
      "Лучшая глубина: 15\n",
      "Лучшая RMSE: 1888.0273691204393\n",
      "\n",
      "CPU times: user 3.16 s, sys: 18.1 ms, total: 3.18 s\n",
      "Wall time: 3.24 s\n"
     ]
    }
   ],
   "source": [
    "%%time\n",
    "#Дерево решений\n",
    "best_result = 2500\n",
    "depth = 0\n",
    "depths = []\n",
    "results = []\n",
    "\n",
    "for depth in range(1, 21, 2):\n",
    "    tree = DecisionTreeRegressor(random_state=12345, max_depth=depth)\n",
    "    tree.fit(features_train_oe_scaled, target_train)\n",
    "    tree_predict_valid = tree.predict(features_valid_oe_scaled)\n",
    "    result = mean_squared_error(target_valid, tree_predict_valid) ** 0.5\n",
    "    depths.append(depth)\n",
    "    results.append(result)\n",
    "                 \n",
    "    if result < best_result:\n",
    "        best_depth = depth\n",
    "        best_result = result\n",
    "\n",
    "print('Лучшая глубина:', best_depth)\n",
    "print('Лучшая RMSE:', best_result)\n",
    "print()"
   ]
  },
  {
   "cell_type": "code",
   "execution_count": 38,
   "metadata": {},
   "outputs": [],
   "source": [
    "#Пришлось принудительно задать типы столбцов category, иначе модель не работала\n",
    "features_train_scaled = features_train_scaled.astype({'VehicleType':'category', 'Gearbox':'category', 'Model':'category', 'FuelType':'category', 'Brand':'category', 'Repaired':'category'})\n",
    "features_valid_scaled = features_valid_scaled.astype({'VehicleType':'category', 'Gearbox':'category', 'Model':'category', 'FuelType':'category', 'Brand':'category', 'Repaired':'category'})\n",
    "features_test_scaled = features_test_scaled.astype({'VehicleType':'category', 'Gearbox':'category', 'Model':'category', 'FuelType':'category', 'Brand':'category', 'Repaired':'category'})"
   ]
  },
  {
   "cell_type": "code",
   "execution_count": 39,
   "metadata": {},
   "outputs": [
    {
     "name": "stdout",
     "output_type": "stream",
     "text": [
      "CPU times: user 1min 23s, sys: 291 ms, total: 1min 23s\n",
      "Wall time: 1min 24s\n"
     ]
    },
    {
     "data": {
      "text/plain": [
       "LGBMRegressor(num_leaves=50, random_state=12345)"
      ]
     },
     "execution_count": 39,
     "metadata": {},
     "output_type": "execute_result"
    }
   ],
   "source": [
    "%%time\n",
    "#LGBMRegressor\n",
    "model = LGBMRegressor(learning_rate=0.1, \n",
    "                      num_leaves=50, \n",
    "                      random_state=12345,\n",
    "                      )\n",
    "model.fit(features_train_scaled, target_train)"
   ]
  },
  {
   "cell_type": "code",
   "execution_count": 40,
   "metadata": {},
   "outputs": [
    {
     "name": "stdout",
     "output_type": "stream",
     "text": [
      "CPU times: user 755 ms, sys: 0 ns, total: 755 ms\n",
      "Wall time: 786 ms\n"
     ]
    },
    {
     "data": {
      "text/plain": [
       "1626.06088622086"
      ]
     },
     "execution_count": 40,
     "metadata": {},
     "output_type": "execute_result"
    }
   ],
   "source": [
    "%%time\n",
    "predict_valid = model.predict(features_valid_scaled)\n",
    "rmse_lgbmr = mean_squared_error(target_valid, predict_valid) ** 0.5\n",
    "rmse_lgbmr"
   ]
  },
  {
   "cell_type": "markdown",
   "metadata": {},
   "source": [
    "<b>Вывод</b>  \n",
    "В данной части разделил датасет на признаки и целевой признак, также разделил на обучающие и тестовые выборки. Категориальные признаки закодировал, а количественные масштабировал. Обучил три модели: LinearRegression, DecisionTreeRegressor и LGBMRegressor. Лучшие результаты по RMSE показала последняя модель, а вот по времени лучше была дерево решений. Линейная регрессия не справилась с задачей."
   ]
  },
  {
   "cell_type": "markdown",
   "metadata": {},
   "source": [
    "## Анализ моделей"
   ]
  },
  {
   "cell_type": "code",
   "execution_count": 41,
   "metadata": {},
   "outputs": [
    {
     "name": "stdout",
     "output_type": "stream",
     "text": [
      "RMSE test: 2531.6977380607013\n"
     ]
    }
   ],
   "source": [
    "linear_predict_test = linear.predict(features_test_ohe_scaled)\n",
    "print('RMSE test:', mean_squared_error(target_test, linear_predict_test) ** 0.5)"
   ]
  },
  {
   "cell_type": "code",
   "execution_count": 42,
   "metadata": {},
   "outputs": [
    {
     "name": "stdout",
     "output_type": "stream",
     "text": [
      "RMSE test: 1910.5600541814927\n"
     ]
    }
   ],
   "source": [
    "tree = DecisionTreeRegressor(random_state=12345, max_depth=15)\n",
    "tree.fit(features_train_oe_scaled, target_train)\n",
    "tree_predict_test = tree.predict(features_test_oe_scaled)\n",
    "print('RMSE test:', mean_squared_error(target_test, tree_predict_test) ** 0.5)"
   ]
  },
  {
   "cell_type": "code",
   "execution_count": 43,
   "metadata": {},
   "outputs": [
    {
     "name": "stdout",
     "output_type": "stream",
     "text": [
      "RMSE test: 1614.2042991808146\n"
     ]
    }
   ],
   "source": [
    "predict_test = model.predict(features_test_scaled)\n",
    "print('RMSE test:', mean_squared_error(target_test, predict_test) ** 0.5)"
   ]
  },
  {
   "cell_type": "markdown",
   "metadata": {},
   "source": [
    "Линейная регрессия не справилась с заданием RMSE более 4000. У дерева решений второй результат по RMSE - 1910, но по времени модель справилась быстрее всех. У LGBMRegressor лучшее значение RMSE - 1614, но на обучение потребовалось больше времени."
   ]
  }
 ],
 "metadata": {
  "ExecuteTimeLog": [
   {
    "duration": 431,
    "start_time": "2023-05-29T16:13:27.662Z"
   },
   {
    "duration": 61,
    "start_time": "2023-05-29T16:15:17.276Z"
   },
   {
    "duration": 2927,
    "start_time": "2023-05-29T16:15:23.596Z"
   },
   {
    "duration": 188,
    "start_time": "2023-05-29T16:15:37.563Z"
   },
   {
    "duration": 25,
    "start_time": "2023-05-29T16:15:49.804Z"
   },
   {
    "duration": 397,
    "start_time": "2023-05-30T16:00:33.500Z"
   },
   {
    "duration": 1059,
    "start_time": "2023-05-30T16:00:33.900Z"
   },
   {
    "duration": 108,
    "start_time": "2023-05-30T16:00:34.960Z"
   },
   {
    "duration": 64,
    "start_time": "2023-05-30T16:00:35.069Z"
   },
   {
    "duration": 66,
    "start_time": "2023-05-30T16:09:58.659Z"
   },
   {
    "duration": 23,
    "start_time": "2023-05-30T16:10:09.885Z"
   },
   {
    "duration": 30,
    "start_time": "2023-05-30T16:10:34.572Z"
   },
   {
    "duration": 101,
    "start_time": "2023-05-30T16:10:41.945Z"
   },
   {
    "duration": 67,
    "start_time": "2023-05-30T16:12:21.130Z"
   },
   {
    "duration": 66,
    "start_time": "2023-05-30T16:12:30.049Z"
   },
   {
    "duration": 3,
    "start_time": "2023-05-30T16:16:45.518Z"
   },
   {
    "duration": 23,
    "start_time": "2023-05-30T16:17:07.059Z"
   },
   {
    "duration": 3,
    "start_time": "2023-05-30T16:17:30.521Z"
   },
   {
    "duration": 25,
    "start_time": "2023-05-30T16:17:30.773Z"
   },
   {
    "duration": 4,
    "start_time": "2023-05-30T16:17:38.631Z"
   },
   {
    "duration": 21,
    "start_time": "2023-05-30T16:17:40.117Z"
   },
   {
    "duration": 17,
    "start_time": "2023-05-30T16:18:16.887Z"
   },
   {
    "duration": 25,
    "start_time": "2023-05-30T16:19:20.476Z"
   },
   {
    "duration": 16,
    "start_time": "2023-05-30T16:20:13.112Z"
   },
   {
    "duration": 24,
    "start_time": "2023-05-30T16:22:02.073Z"
   },
   {
    "duration": 7,
    "start_time": "2023-05-30T16:22:16.385Z"
   },
   {
    "duration": 3555,
    "start_time": "2023-05-30T16:22:21.417Z"
   },
   {
    "duration": 7,
    "start_time": "2023-05-30T16:24:20.157Z"
   },
   {
    "duration": 20,
    "start_time": "2023-05-30T16:24:24.465Z"
   },
   {
    "duration": 18,
    "start_time": "2023-05-30T16:24:52.318Z"
   },
   {
    "duration": 18,
    "start_time": "2023-05-30T16:24:53.968Z"
   },
   {
    "duration": 19,
    "start_time": "2023-05-30T16:24:54.535Z"
   },
   {
    "duration": 405,
    "start_time": "2023-05-30T16:25:05.260Z"
   },
   {
    "duration": 760,
    "start_time": "2023-05-30T16:25:05.668Z"
   },
   {
    "duration": 114,
    "start_time": "2023-05-30T16:25:06.429Z"
   },
   {
    "duration": 16,
    "start_time": "2023-05-30T16:25:06.545Z"
   },
   {
    "duration": 98,
    "start_time": "2023-05-30T16:25:06.563Z"
   },
   {
    "duration": 79,
    "start_time": "2023-05-30T16:25:06.662Z"
   },
   {
    "duration": 17,
    "start_time": "2023-05-30T16:25:06.742Z"
   },
   {
    "duration": 31,
    "start_time": "2023-05-30T16:25:06.761Z"
   },
   {
    "duration": 17,
    "start_time": "2023-05-30T16:25:06.794Z"
   },
   {
    "duration": 28,
    "start_time": "2023-05-30T16:25:14.016Z"
   },
   {
    "duration": 122,
    "start_time": "2023-05-30T16:25:15.065Z"
   },
   {
    "duration": 8,
    "start_time": "2023-05-30T16:25:33.933Z"
   },
   {
    "duration": 380,
    "start_time": "2023-05-30T16:25:39.814Z"
   },
   {
    "duration": 760,
    "start_time": "2023-05-30T16:25:40.199Z"
   },
   {
    "duration": 115,
    "start_time": "2023-05-30T16:25:40.960Z"
   },
   {
    "duration": 27,
    "start_time": "2023-05-30T16:25:41.077Z"
   },
   {
    "duration": 107,
    "start_time": "2023-05-30T16:25:41.105Z"
   },
   {
    "duration": 72,
    "start_time": "2023-05-30T16:25:41.213Z"
   },
   {
    "duration": 25,
    "start_time": "2023-05-30T16:25:41.287Z"
   },
   {
    "duration": 34,
    "start_time": "2023-05-30T16:25:41.314Z"
   },
   {
    "duration": 20,
    "start_time": "2023-05-30T16:25:41.349Z"
   },
   {
    "duration": 37,
    "start_time": "2023-05-30T16:26:07.922Z"
   },
   {
    "duration": 361,
    "start_time": "2023-05-30T16:26:14.155Z"
   },
   {
    "duration": 752,
    "start_time": "2023-05-30T16:26:14.518Z"
   },
   {
    "duration": 137,
    "start_time": "2023-05-30T16:26:15.271Z"
   },
   {
    "duration": 23,
    "start_time": "2023-05-30T16:26:15.410Z"
   },
   {
    "duration": 121,
    "start_time": "2023-05-30T16:26:15.435Z"
   },
   {
    "duration": 86,
    "start_time": "2023-05-30T16:26:15.558Z"
   },
   {
    "duration": 49,
    "start_time": "2023-05-30T16:26:15.646Z"
   },
   {
    "duration": 53,
    "start_time": "2023-05-30T16:26:55.330Z"
   },
   {
    "duration": 56,
    "start_time": "2023-05-30T16:27:21.290Z"
   },
   {
    "duration": 345,
    "start_time": "2023-05-30T16:27:39.524Z"
   },
   {
    "duration": 716,
    "start_time": "2023-05-30T16:27:39.871Z"
   },
   {
    "duration": 110,
    "start_time": "2023-05-30T16:27:40.589Z"
   },
   {
    "duration": 22,
    "start_time": "2023-05-30T16:27:40.701Z"
   },
   {
    "duration": 122,
    "start_time": "2023-05-30T16:27:40.725Z"
   },
   {
    "duration": 86,
    "start_time": "2023-05-30T16:27:40.848Z"
   },
   {
    "duration": 63,
    "start_time": "2023-05-30T16:27:40.935Z"
   },
   {
    "duration": 19,
    "start_time": "2023-05-30T16:28:30.853Z"
   },
   {
    "duration": 45,
    "start_time": "2023-05-30T16:28:57.703Z"
   },
   {
    "duration": 63,
    "start_time": "2023-05-30T16:52:04.747Z"
   },
   {
    "duration": 30,
    "start_time": "2023-05-30T16:52:15.150Z"
   },
   {
    "duration": 26,
    "start_time": "2023-05-30T16:52:46.878Z"
   },
   {
    "duration": 43,
    "start_time": "2023-05-30T16:53:04.869Z"
   },
   {
    "duration": 90,
    "start_time": "2023-05-30T17:15:49.355Z"
   },
   {
    "duration": 28,
    "start_time": "2023-05-30T17:15:52.877Z"
   },
   {
    "duration": 23,
    "start_time": "2023-05-30T17:52:37.898Z"
   },
   {
    "duration": 35,
    "start_time": "2023-05-30T17:52:48.633Z"
   },
   {
    "duration": 1361,
    "start_time": "2023-05-30T17:53:41.864Z"
   },
   {
    "duration": 1496,
    "start_time": "2023-05-30T17:54:30.096Z"
   },
   {
    "duration": 49,
    "start_time": "2023-05-30T17:54:54.352Z"
   },
   {
    "duration": 19,
    "start_time": "2023-05-30T17:55:51.096Z"
   },
   {
    "duration": 378,
    "start_time": "2023-05-30T18:15:11.756Z"
   },
   {
    "duration": 105,
    "start_time": "2023-05-30T18:15:34.280Z"
   },
   {
    "duration": 72,
    "start_time": "2023-05-30T18:15:49.490Z"
   },
   {
    "duration": 144,
    "start_time": "2023-05-30T18:18:45.210Z"
   },
   {
    "duration": 88,
    "start_time": "2023-05-30T18:18:58.016Z"
   },
   {
    "duration": 96,
    "start_time": "2023-05-30T18:19:14.569Z"
   },
   {
    "duration": 115,
    "start_time": "2023-05-30T18:37:29.905Z"
   },
   {
    "duration": 109,
    "start_time": "2023-05-30T18:37:51.545Z"
   },
   {
    "duration": 325,
    "start_time": "2023-05-30T18:37:56.340Z"
   },
   {
    "duration": 692,
    "start_time": "2023-05-30T18:37:56.667Z"
   },
   {
    "duration": 100,
    "start_time": "2023-05-30T18:37:57.360Z"
   },
   {
    "duration": 26,
    "start_time": "2023-05-30T18:37:57.461Z"
   },
   {
    "duration": 85,
    "start_time": "2023-05-30T18:37:57.489Z"
   },
   {
    "duration": 63,
    "start_time": "2023-05-30T18:37:57.584Z"
   },
   {
    "duration": 58,
    "start_time": "2023-05-30T18:37:57.649Z"
   },
   {
    "duration": 42,
    "start_time": "2023-05-30T18:37:57.708Z"
   },
   {
    "duration": 189,
    "start_time": "2023-05-30T18:37:57.752Z"
   },
   {
    "duration": 117,
    "start_time": "2023-05-30T18:38:49.345Z"
   },
   {
    "duration": 379,
    "start_time": "2023-05-30T18:39:05.547Z"
   },
   {
    "duration": 744,
    "start_time": "2023-05-30T18:39:05.928Z"
   },
   {
    "duration": 115,
    "start_time": "2023-05-30T18:39:06.674Z"
   },
   {
    "duration": 17,
    "start_time": "2023-05-30T18:39:06.792Z"
   },
   {
    "duration": 118,
    "start_time": "2023-05-30T18:39:06.811Z"
   },
   {
    "duration": 74,
    "start_time": "2023-05-30T18:39:06.930Z"
   },
   {
    "duration": 51,
    "start_time": "2023-05-30T18:39:07.006Z"
   },
   {
    "duration": 59,
    "start_time": "2023-05-30T18:39:07.059Z"
   },
   {
    "duration": 17,
    "start_time": "2023-05-30T18:39:07.119Z"
   },
   {
    "duration": 179,
    "start_time": "2023-05-30T18:39:07.138Z"
   },
   {
    "duration": 75,
    "start_time": "2023-05-30T18:39:22.681Z"
   },
   {
    "duration": 332,
    "start_time": "2023-05-30T18:39:29.839Z"
   },
   {
    "duration": 715,
    "start_time": "2023-05-30T18:39:30.173Z"
   },
   {
    "duration": 107,
    "start_time": "2023-05-30T18:39:30.891Z"
   },
   {
    "duration": 37,
    "start_time": "2023-05-30T18:39:31.000Z"
   },
   {
    "duration": 112,
    "start_time": "2023-05-30T18:39:31.038Z"
   },
   {
    "duration": 63,
    "start_time": "2023-05-30T18:39:31.152Z"
   },
   {
    "duration": 90,
    "start_time": "2023-05-30T18:39:31.216Z"
   },
   {
    "duration": 57,
    "start_time": "2023-05-30T18:39:31.308Z"
   },
   {
    "duration": 34,
    "start_time": "2023-05-30T18:39:31.367Z"
   },
   {
    "duration": 133,
    "start_time": "2023-05-30T18:39:31.402Z"
   },
   {
    "duration": 148,
    "start_time": "2023-05-30T18:39:51.375Z"
   },
   {
    "duration": 57,
    "start_time": "2023-05-30T18:40:24.191Z"
   },
   {
    "duration": 66,
    "start_time": "2023-05-30T18:40:33.572Z"
   },
   {
    "duration": 329,
    "start_time": "2023-05-30T18:40:37.441Z"
   },
   {
    "duration": 704,
    "start_time": "2023-05-30T18:40:37.771Z"
   },
   {
    "duration": 120,
    "start_time": "2023-05-30T18:40:38.477Z"
   },
   {
    "duration": 18,
    "start_time": "2023-05-30T18:40:38.599Z"
   },
   {
    "duration": 108,
    "start_time": "2023-05-30T18:40:38.619Z"
   },
   {
    "duration": 72,
    "start_time": "2023-05-30T18:40:38.729Z"
   },
   {
    "duration": 52,
    "start_time": "2023-05-30T18:40:38.802Z"
   },
   {
    "duration": 59,
    "start_time": "2023-05-30T18:40:38.855Z"
   },
   {
    "duration": 20,
    "start_time": "2023-05-30T18:40:38.916Z"
   },
   {
    "duration": 105,
    "start_time": "2023-05-30T18:40:38.938Z"
   },
   {
    "duration": 68,
    "start_time": "2023-05-30T18:40:59.224Z"
   },
   {
    "duration": 78,
    "start_time": "2023-05-30T18:41:13.742Z"
   },
   {
    "duration": 8,
    "start_time": "2023-05-30T18:41:27.513Z"
   },
   {
    "duration": 7,
    "start_time": "2023-05-30T18:41:31.800Z"
   },
   {
    "duration": 367,
    "start_time": "2023-05-30T18:41:38.802Z"
   },
   {
    "duration": 693,
    "start_time": "2023-05-30T18:41:39.171Z"
   },
   {
    "duration": 102,
    "start_time": "2023-05-30T18:41:39.865Z"
   },
   {
    "duration": 23,
    "start_time": "2023-05-30T18:41:39.968Z"
   },
   {
    "duration": 99,
    "start_time": "2023-05-30T18:41:39.992Z"
   },
   {
    "duration": 82,
    "start_time": "2023-05-30T18:41:40.092Z"
   },
   {
    "duration": 51,
    "start_time": "2023-05-30T18:41:40.175Z"
   },
   {
    "duration": 40,
    "start_time": "2023-05-30T18:41:40.227Z"
   },
   {
    "duration": 23,
    "start_time": "2023-05-30T18:41:40.269Z"
   },
   {
    "duration": 108,
    "start_time": "2023-05-30T18:41:40.294Z"
   },
   {
    "duration": 31,
    "start_time": "2023-05-30T18:42:14.883Z"
   },
   {
    "duration": 75,
    "start_time": "2023-05-30T18:42:44.578Z"
   },
   {
    "duration": 140,
    "start_time": "2023-05-30T18:42:49.267Z"
   },
   {
    "duration": 133,
    "start_time": "2023-05-30T18:42:58.360Z"
   },
   {
    "duration": 87,
    "start_time": "2023-05-30T18:43:07.212Z"
   },
   {
    "duration": 112,
    "start_time": "2023-05-30T18:44:29.021Z"
   },
   {
    "duration": 125,
    "start_time": "2023-05-30T18:44:58.125Z"
   },
   {
    "duration": 96,
    "start_time": "2023-05-30T18:45:10.877Z"
   },
   {
    "duration": 1110,
    "start_time": "2023-05-30T18:45:39.403Z"
   },
   {
    "duration": 15,
    "start_time": "2023-05-30T18:45:47.345Z"
   },
   {
    "duration": 354,
    "start_time": "2023-05-30T18:45:55.211Z"
   },
   {
    "duration": 745,
    "start_time": "2023-05-30T18:45:55.566Z"
   },
   {
    "duration": 108,
    "start_time": "2023-05-30T18:45:56.313Z"
   },
   {
    "duration": 16,
    "start_time": "2023-05-30T18:45:56.423Z"
   },
   {
    "duration": 98,
    "start_time": "2023-05-30T18:45:56.440Z"
   },
   {
    "duration": 68,
    "start_time": "2023-05-30T18:45:56.539Z"
   },
   {
    "duration": 42,
    "start_time": "2023-05-30T18:45:56.609Z"
   },
   {
    "duration": 57,
    "start_time": "2023-05-30T18:45:56.652Z"
   },
   {
    "duration": 179,
    "start_time": "2023-05-30T18:45:56.710Z"
   },
   {
    "duration": 16,
    "start_time": "2023-05-30T18:45:56.890Z"
   },
   {
    "duration": 385,
    "start_time": "2023-05-30T18:46:12.477Z"
   },
   {
    "duration": 703,
    "start_time": "2023-05-30T18:46:12.863Z"
   },
   {
    "duration": 107,
    "start_time": "2023-05-30T18:46:13.568Z"
   },
   {
    "duration": 22,
    "start_time": "2023-05-30T18:46:13.677Z"
   },
   {
    "duration": 151,
    "start_time": "2023-05-30T18:46:13.700Z"
   },
   {
    "duration": 17,
    "start_time": "2023-05-30T18:46:13.852Z"
   },
   {
    "duration": 73,
    "start_time": "2023-05-30T18:46:13.870Z"
   },
   {
    "duration": 60,
    "start_time": "2023-05-30T18:46:13.944Z"
   },
   {
    "duration": 43,
    "start_time": "2023-05-30T18:46:14.006Z"
   },
   {
    "duration": 181,
    "start_time": "2023-05-30T18:46:14.051Z"
   },
   {
    "duration": 16,
    "start_time": "2023-05-30T18:46:14.233Z"
   },
   {
    "duration": 357,
    "start_time": "2023-05-30T18:46:31.909Z"
   },
   {
    "duration": 685,
    "start_time": "2023-05-30T18:46:32.268Z"
   },
   {
    "duration": 106,
    "start_time": "2023-05-30T18:46:32.955Z"
   },
   {
    "duration": 22,
    "start_time": "2023-05-30T18:46:33.063Z"
   },
   {
    "duration": 97,
    "start_time": "2023-05-30T18:46:33.087Z"
   },
   {
    "duration": 64,
    "start_time": "2023-05-30T18:46:33.186Z"
   },
   {
    "duration": 54,
    "start_time": "2023-05-30T18:46:33.251Z"
   },
   {
    "duration": 56,
    "start_time": "2023-05-30T18:46:33.307Z"
   },
   {
    "duration": 170,
    "start_time": "2023-05-30T18:46:33.364Z"
   },
   {
    "duration": 26,
    "start_time": "2023-05-30T18:46:33.535Z"
   },
   {
    "duration": 27,
    "start_time": "2023-05-30T18:47:07.527Z"
   },
   {
    "duration": 59,
    "start_time": "2023-05-30T18:47:31.019Z"
   },
   {
    "duration": 26,
    "start_time": "2023-05-30T18:47:34.892Z"
   },
   {
    "duration": 394,
    "start_time": "2023-05-30T18:47:38.485Z"
   },
   {
    "duration": 691,
    "start_time": "2023-05-30T18:47:38.881Z"
   },
   {
    "duration": 107,
    "start_time": "2023-05-30T18:47:39.574Z"
   },
   {
    "duration": 17,
    "start_time": "2023-05-30T18:47:39.685Z"
   },
   {
    "duration": 103,
    "start_time": "2023-05-30T18:47:39.703Z"
   },
   {
    "duration": 66,
    "start_time": "2023-05-30T18:47:39.808Z"
   },
   {
    "duration": 46,
    "start_time": "2023-05-30T18:47:39.885Z"
   },
   {
    "duration": 58,
    "start_time": "2023-05-30T18:47:39.932Z"
   },
   {
    "duration": 70,
    "start_time": "2023-05-30T18:47:39.991Z"
   },
   {
    "duration": 32,
    "start_time": "2023-05-30T18:47:40.063Z"
   },
   {
    "duration": 827,
    "start_time": "2023-05-30T18:48:09.350Z"
   },
   {
    "duration": 670,
    "start_time": "2023-05-30T18:48:39.769Z"
   },
   {
    "duration": 393,
    "start_time": "2023-05-30T18:48:48.474Z"
   },
   {
    "duration": 686,
    "start_time": "2023-05-30T18:48:48.869Z"
   },
   {
    "duration": 101,
    "start_time": "2023-05-30T18:48:49.557Z"
   },
   {
    "duration": 16,
    "start_time": "2023-05-30T18:48:49.660Z"
   },
   {
    "duration": 86,
    "start_time": "2023-05-30T18:48:49.685Z"
   },
   {
    "duration": 72,
    "start_time": "2023-05-30T18:48:49.773Z"
   },
   {
    "duration": 53,
    "start_time": "2023-05-30T18:48:49.846Z"
   },
   {
    "duration": 42,
    "start_time": "2023-05-30T18:48:49.900Z"
   },
   {
    "duration": 697,
    "start_time": "2023-05-30T18:48:49.943Z"
   },
   {
    "duration": 0,
    "start_time": "2023-05-30T18:48:50.642Z"
   },
   {
    "duration": 985,
    "start_time": "2023-05-30T18:50:04.399Z"
   },
   {
    "duration": 122,
    "start_time": "2023-05-30T18:50:27.301Z"
   },
   {
    "duration": 69,
    "start_time": "2023-05-30T18:50:30.116Z"
   },
   {
    "duration": 73,
    "start_time": "2023-05-30T18:50:55.903Z"
   },
   {
    "duration": 93,
    "start_time": "2023-05-30T18:51:02.455Z"
   },
   {
    "duration": 403,
    "start_time": "2023-05-30T18:51:46.456Z"
   },
   {
    "duration": 697,
    "start_time": "2023-05-30T18:51:46.861Z"
   },
   {
    "duration": 113,
    "start_time": "2023-05-30T18:51:47.559Z"
   },
   {
    "duration": 21,
    "start_time": "2023-05-30T18:51:47.673Z"
   },
   {
    "duration": 106,
    "start_time": "2023-05-30T18:51:47.696Z"
   },
   {
    "duration": 64,
    "start_time": "2023-05-30T18:51:47.804Z"
   },
   {
    "duration": 54,
    "start_time": "2023-05-30T18:51:47.869Z"
   },
   {
    "duration": 44,
    "start_time": "2023-05-30T18:51:47.924Z"
   },
   {
    "duration": 79,
    "start_time": "2023-05-30T18:51:47.969Z"
   },
   {
    "duration": 42,
    "start_time": "2023-05-30T18:51:48.049Z"
   },
   {
    "duration": 45,
    "start_time": "2023-05-30T18:52:51.123Z"
   },
   {
    "duration": 49,
    "start_time": "2023-05-30T18:52:56.522Z"
   },
   {
    "duration": 20,
    "start_time": "2023-05-30T19:01:34.083Z"
   },
   {
    "duration": 40,
    "start_time": "2023-05-30T19:02:39.645Z"
   },
   {
    "duration": 37,
    "start_time": "2023-05-30T19:02:48.845Z"
   },
   {
    "duration": 35,
    "start_time": "2023-05-30T19:03:03.064Z"
   },
   {
    "duration": 38,
    "start_time": "2023-05-30T19:03:10.914Z"
   },
   {
    "duration": 35,
    "start_time": "2023-05-30T19:03:17.475Z"
   },
   {
    "duration": 83,
    "start_time": "2023-05-30T19:04:22.122Z"
   },
   {
    "duration": 1306,
    "start_time": "2023-05-30T19:04:34.242Z"
   },
   {
    "duration": 46,
    "start_time": "2023-05-30T19:04:43.805Z"
   },
   {
    "duration": 41,
    "start_time": "2023-05-30T19:06:06.626Z"
   },
   {
    "duration": 59,
    "start_time": "2023-05-30T19:06:19.418Z"
   },
   {
    "duration": 60,
    "start_time": "2023-05-30T19:06:49.980Z"
   },
   {
    "duration": 8,
    "start_time": "2023-05-30T19:07:09.748Z"
   },
   {
    "duration": 160,
    "start_time": "2023-05-30T19:07:12.799Z"
   },
   {
    "duration": 159,
    "start_time": "2023-05-30T19:07:20.184Z"
   },
   {
    "duration": 157,
    "start_time": "2023-05-30T19:07:28.662Z"
   },
   {
    "duration": 167,
    "start_time": "2023-05-30T19:10:32.481Z"
   },
   {
    "duration": 205,
    "start_time": "2023-05-30T19:10:46.304Z"
   },
   {
    "duration": 352,
    "start_time": "2023-05-30T19:11:24.986Z"
   },
   {
    "duration": 591,
    "start_time": "2023-05-30T19:11:42.351Z"
   },
   {
    "duration": 501,
    "start_time": "2023-05-30T19:11:46.765Z"
   },
   {
    "duration": 329,
    "start_time": "2023-05-30T19:11:52.636Z"
   },
   {
    "duration": 375,
    "start_time": "2023-05-30T19:11:56.391Z"
   },
   {
    "duration": 693,
    "start_time": "2023-05-30T19:11:56.768Z"
   },
   {
    "duration": 107,
    "start_time": "2023-05-30T19:11:57.463Z"
   },
   {
    "duration": 32,
    "start_time": "2023-05-30T19:11:57.572Z"
   },
   {
    "duration": 97,
    "start_time": "2023-05-30T19:11:57.605Z"
   },
   {
    "duration": 356,
    "start_time": "2023-05-30T19:11:57.704Z"
   },
   {
    "duration": 70,
    "start_time": "2023-05-30T19:11:58.061Z"
   },
   {
    "duration": 56,
    "start_time": "2023-05-30T19:11:58.133Z"
   },
   {
    "duration": 40,
    "start_time": "2023-05-30T19:11:58.191Z"
   },
   {
    "duration": 78,
    "start_time": "2023-05-30T19:11:58.234Z"
   },
   {
    "duration": 40,
    "start_time": "2023-05-30T19:11:58.314Z"
   },
   {
    "duration": 52,
    "start_time": "2023-05-30T19:11:58.355Z"
   },
   {
    "duration": 62,
    "start_time": "2023-05-30T19:11:58.409Z"
   },
   {
    "duration": 312,
    "start_time": "2023-05-30T19:13:23.527Z"
   },
   {
    "duration": 345,
    "start_time": "2023-05-30T19:13:31.719Z"
   },
   {
    "duration": 709,
    "start_time": "2023-05-30T19:13:32.066Z"
   },
   {
    "duration": 101,
    "start_time": "2023-05-30T19:13:32.776Z"
   },
   {
    "duration": 16,
    "start_time": "2023-05-30T19:13:32.884Z"
   },
   {
    "duration": 90,
    "start_time": "2023-05-30T19:13:32.901Z"
   },
   {
    "duration": 334,
    "start_time": "2023-05-30T19:13:32.992Z"
   },
   {
    "duration": 59,
    "start_time": "2023-05-30T19:13:33.327Z"
   },
   {
    "duration": 47,
    "start_time": "2023-05-30T19:13:33.387Z"
   },
   {
    "duration": 37,
    "start_time": "2023-05-30T19:13:33.435Z"
   },
   {
    "duration": 62,
    "start_time": "2023-05-30T19:13:33.473Z"
   },
   {
    "duration": 50,
    "start_time": "2023-05-30T19:13:33.537Z"
   },
   {
    "duration": 37,
    "start_time": "2023-05-30T19:13:33.589Z"
   },
   {
    "duration": 63,
    "start_time": "2023-05-30T19:13:33.628Z"
   },
   {
    "duration": 62,
    "start_time": "2023-05-30T19:24:20.302Z"
   },
   {
    "duration": 6,
    "start_time": "2023-05-30T19:24:48.483Z"
   },
   {
    "duration": 876,
    "start_time": "2023-05-30T19:25:00.293Z"
   },
   {
    "duration": 68,
    "start_time": "2023-05-30T19:25:07.936Z"
   },
   {
    "duration": 1434,
    "start_time": "2023-05-30T19:25:13.953Z"
   },
   {
    "duration": 1372,
    "start_time": "2023-05-30T19:26:25.753Z"
   },
   {
    "duration": 8,
    "start_time": "2023-05-30T19:30:31.891Z"
   },
   {
    "duration": 3,
    "start_time": "2023-05-30T19:30:48.859Z"
   },
   {
    "duration": 7,
    "start_time": "2023-05-30T19:30:53.551Z"
   },
   {
    "duration": 7,
    "start_time": "2023-05-30T19:31:21.581Z"
   },
   {
    "duration": 11,
    "start_time": "2023-05-30T19:31:25.440Z"
   },
   {
    "duration": 8,
    "start_time": "2023-05-30T19:31:34.161Z"
   },
   {
    "duration": 2,
    "start_time": "2023-05-30T19:32:29.339Z"
   },
   {
    "duration": 4,
    "start_time": "2023-05-30T19:32:33.695Z"
   },
   {
    "duration": 1042,
    "start_time": "2023-05-30T19:33:34.498Z"
   },
   {
    "duration": 756,
    "start_time": "2023-05-30T19:33:35.541Z"
   },
   {
    "duration": 103,
    "start_time": "2023-05-30T19:33:36.298Z"
   },
   {
    "duration": 13,
    "start_time": "2023-05-30T19:33:36.403Z"
   },
   {
    "duration": 101,
    "start_time": "2023-05-30T19:33:36.418Z"
   },
   {
    "duration": 320,
    "start_time": "2023-05-30T19:33:36.520Z"
   },
   {
    "duration": 56,
    "start_time": "2023-05-30T19:33:36.841Z"
   },
   {
    "duration": 55,
    "start_time": "2023-05-30T19:33:36.899Z"
   },
   {
    "duration": 41,
    "start_time": "2023-05-30T19:33:36.955Z"
   },
   {
    "duration": 62,
    "start_time": "2023-05-30T19:33:36.999Z"
   },
   {
    "duration": 48,
    "start_time": "2023-05-30T19:33:37.063Z"
   },
   {
    "duration": 37,
    "start_time": "2023-05-30T19:33:37.113Z"
   },
   {
    "duration": 63,
    "start_time": "2023-05-30T19:33:37.151Z"
   },
   {
    "duration": 45,
    "start_time": "2023-05-30T19:39:17.150Z"
   },
   {
    "duration": 1098,
    "start_time": "2023-05-30T19:39:35.480Z"
   },
   {
    "duration": 910,
    "start_time": "2023-05-30T19:39:36.579Z"
   },
   {
    "duration": 100,
    "start_time": "2023-05-30T19:39:37.490Z"
   },
   {
    "duration": 13,
    "start_time": "2023-05-30T19:39:37.591Z"
   },
   {
    "duration": 94,
    "start_time": "2023-05-30T19:39:37.606Z"
   },
   {
    "duration": 319,
    "start_time": "2023-05-30T19:39:37.702Z"
   },
   {
    "duration": 55,
    "start_time": "2023-05-30T19:39:38.022Z"
   },
   {
    "duration": 43,
    "start_time": "2023-05-30T19:39:38.078Z"
   },
   {
    "duration": 49,
    "start_time": "2023-05-30T19:39:38.123Z"
   },
   {
    "duration": 61,
    "start_time": "2023-05-30T19:39:38.174Z"
   },
   {
    "duration": 35,
    "start_time": "2023-05-30T19:39:38.237Z"
   },
   {
    "duration": 47,
    "start_time": "2023-05-30T19:39:38.273Z"
   },
   {
    "duration": 63,
    "start_time": "2023-05-30T19:39:38.322Z"
   },
   {
    "duration": 233,
    "start_time": "2023-05-30T19:39:38.388Z"
   },
   {
    "duration": 180,
    "start_time": "2023-05-30T19:39:59.548Z"
   },
   {
    "duration": 74,
    "start_time": "2023-05-30T19:40:22.080Z"
   },
   {
    "duration": 13,
    "start_time": "2023-05-30T19:40:26.404Z"
   },
   {
    "duration": 222,
    "start_time": "2023-05-30T19:40:37.791Z"
   },
   {
    "duration": 228,
    "start_time": "2023-05-30T19:41:14.839Z"
   },
   {
    "duration": 12,
    "start_time": "2023-05-30T19:50:50.861Z"
   },
   {
    "duration": 18,
    "start_time": "2023-05-30T19:51:44.085Z"
   },
   {
    "duration": 12,
    "start_time": "2023-05-30T19:52:08.719Z"
   },
   {
    "duration": 8,
    "start_time": "2023-05-30T19:52:35.719Z"
   },
   {
    "duration": 12,
    "start_time": "2023-05-30T19:52:41.278Z"
   },
   {
    "duration": 15,
    "start_time": "2023-05-30T19:53:28.353Z"
   },
   {
    "duration": 12,
    "start_time": "2023-05-30T19:53:50.104Z"
   },
   {
    "duration": 11,
    "start_time": "2023-05-30T19:54:40.504Z"
   },
   {
    "duration": 16,
    "start_time": "2023-05-30T19:55:30.794Z"
   },
   {
    "duration": 168,
    "start_time": "2023-05-30T19:56:28.374Z"
   },
   {
    "duration": 193,
    "start_time": "2023-05-30T19:56:46.975Z"
   },
   {
    "duration": 11,
    "start_time": "2023-05-30T19:57:41.353Z"
   },
   {
    "duration": 9,
    "start_time": "2023-05-30T19:57:45.497Z"
   },
   {
    "duration": 233,
    "start_time": "2023-05-30T19:57:50.621Z"
   },
   {
    "duration": 175,
    "start_time": "2023-05-30T19:57:59.225Z"
   },
   {
    "duration": 194,
    "start_time": "2023-05-30T19:58:35.586Z"
   },
   {
    "duration": 8,
    "start_time": "2023-05-30T20:13:49.666Z"
   },
   {
    "duration": 7,
    "start_time": "2023-05-30T20:13:56.125Z"
   },
   {
    "duration": 321,
    "start_time": "2023-05-30T20:15:52.790Z"
   },
   {
    "duration": 11,
    "start_time": "2023-05-30T20:16:19.175Z"
   },
   {
    "duration": 68,
    "start_time": "2023-05-30T20:16:36.694Z"
   },
   {
    "duration": 11,
    "start_time": "2023-05-30T20:17:01.755Z"
   },
   {
    "duration": 139,
    "start_time": "2023-05-30T20:17:33.178Z"
   },
   {
    "duration": 397,
    "start_time": "2023-05-30T20:17:36.963Z"
   },
   {
    "duration": 387,
    "start_time": "2023-05-30T20:17:51.429Z"
   },
   {
    "duration": 461,
    "start_time": "2023-05-30T20:17:58.267Z"
   },
   {
    "duration": 309,
    "start_time": "2023-05-30T20:19:20.246Z"
   },
   {
    "duration": 303,
    "start_time": "2023-05-30T20:19:26.462Z"
   },
   {
    "duration": 342,
    "start_time": "2023-05-30T20:20:07.647Z"
   },
   {
    "duration": 7,
    "start_time": "2023-05-30T20:22:17.085Z"
   },
   {
    "duration": 8,
    "start_time": "2023-05-30T20:22:23.191Z"
   },
   {
    "duration": 274,
    "start_time": "2023-05-30T20:22:28.066Z"
   },
   {
    "duration": 10,
    "start_time": "2023-05-30T20:25:29.290Z"
   },
   {
    "duration": 1023,
    "start_time": "2023-05-30T20:25:39.430Z"
   },
   {
    "duration": 688,
    "start_time": "2023-05-30T20:25:40.455Z"
   },
   {
    "duration": 102,
    "start_time": "2023-05-30T20:25:41.145Z"
   },
   {
    "duration": 13,
    "start_time": "2023-05-30T20:25:41.249Z"
   },
   {
    "duration": 97,
    "start_time": "2023-05-30T20:25:41.263Z"
   },
   {
    "duration": 330,
    "start_time": "2023-05-30T20:25:41.361Z"
   },
   {
    "duration": 58,
    "start_time": "2023-05-30T20:25:41.692Z"
   },
   {
    "duration": 48,
    "start_time": "2023-05-30T20:25:41.751Z"
   },
   {
    "duration": 36,
    "start_time": "2023-05-30T20:25:41.800Z"
   },
   {
    "duration": 71,
    "start_time": "2023-05-30T20:25:41.838Z"
   },
   {
    "duration": 35,
    "start_time": "2023-05-30T20:25:41.911Z"
   },
   {
    "duration": 49,
    "start_time": "2023-05-30T20:25:41.947Z"
   },
   {
    "duration": 55,
    "start_time": "2023-05-30T20:25:41.997Z"
   },
   {
    "duration": 233,
    "start_time": "2023-05-30T20:25:42.054Z"
   },
   {
    "duration": 14332,
    "start_time": "2023-05-30T20:25:42.288Z"
   },
   {
    "duration": 6203,
    "start_time": "2023-05-30T20:26:14.887Z"
   },
   {
    "duration": 65,
    "start_time": "2023-05-30T20:26:49.661Z"
   },
   {
    "duration": 277,
    "start_time": "2023-05-30T20:27:17.676Z"
   },
   {
    "duration": 8,
    "start_time": "2023-05-30T20:27:33.416Z"
   },
   {
    "duration": 9,
    "start_time": "2023-05-30T20:27:41.320Z"
   },
   {
    "duration": 7,
    "start_time": "2023-05-30T20:28:20.577Z"
   },
   {
    "duration": 8,
    "start_time": "2023-05-30T20:28:28.099Z"
   },
   {
    "duration": 1078,
    "start_time": "2023-05-30T20:28:33.869Z"
   },
   {
    "duration": 697,
    "start_time": "2023-05-30T20:28:34.949Z"
   },
   {
    "duration": 107,
    "start_time": "2023-05-30T20:28:35.647Z"
   },
   {
    "duration": 23,
    "start_time": "2023-05-30T20:28:35.756Z"
   },
   {
    "duration": 100,
    "start_time": "2023-05-30T20:28:35.781Z"
   },
   {
    "duration": 361,
    "start_time": "2023-05-30T20:28:35.883Z"
   },
   {
    "duration": 78,
    "start_time": "2023-05-30T20:28:36.246Z"
   },
   {
    "duration": 63,
    "start_time": "2023-05-30T20:28:36.326Z"
   },
   {
    "duration": 43,
    "start_time": "2023-05-30T20:28:36.391Z"
   },
   {
    "duration": 77,
    "start_time": "2023-05-30T20:28:36.435Z"
   },
   {
    "duration": 40,
    "start_time": "2023-05-30T20:28:36.513Z"
   },
   {
    "duration": 51,
    "start_time": "2023-05-30T20:28:36.554Z"
   },
   {
    "duration": 60,
    "start_time": "2023-05-30T20:28:36.606Z"
   },
   {
    "duration": 250,
    "start_time": "2023-05-30T20:28:36.668Z"
   },
   {
    "duration": 7086,
    "start_time": "2023-05-30T20:28:36.919Z"
   },
   {
    "duration": 84,
    "start_time": "2023-05-30T20:28:44.006Z"
   },
   {
    "duration": 297,
    "start_time": "2023-05-30T20:28:55.865Z"
   },
   {
    "duration": 270,
    "start_time": "2023-05-30T20:29:01.061Z"
   },
   {
    "duration": 286,
    "start_time": "2023-05-30T20:29:10.890Z"
   },
   {
    "duration": 312,
    "start_time": "2023-05-30T20:29:14.392Z"
   },
   {
    "duration": 293,
    "start_time": "2023-05-30T20:29:26.012Z"
   },
   {
    "duration": 168,
    "start_time": "2023-05-30T20:29:45.990Z"
   },
   {
    "duration": 8,
    "start_time": "2023-05-30T20:29:58.694Z"
   },
   {
    "duration": 9,
    "start_time": "2023-05-30T20:30:01.722Z"
   },
   {
    "duration": 9,
    "start_time": "2023-05-30T20:30:04.258Z"
   },
   {
    "duration": 7,
    "start_time": "2023-05-30T20:30:13.926Z"
   },
   {
    "duration": 1075,
    "start_time": "2023-05-30T20:30:19.675Z"
   },
   {
    "duration": 683,
    "start_time": "2023-05-30T20:30:20.752Z"
   },
   {
    "duration": 117,
    "start_time": "2023-05-30T20:30:21.436Z"
   },
   {
    "duration": 15,
    "start_time": "2023-05-30T20:30:21.555Z"
   },
   {
    "duration": 98,
    "start_time": "2023-05-30T20:30:21.571Z"
   },
   {
    "duration": 194,
    "start_time": "2023-05-30T20:30:21.670Z"
   },
   {
    "duration": 59,
    "start_time": "2023-05-30T20:30:21.865Z"
   },
   {
    "duration": 39,
    "start_time": "2023-05-30T20:30:21.925Z"
   },
   {
    "duration": 49,
    "start_time": "2023-05-30T20:30:21.965Z"
   },
   {
    "duration": 65,
    "start_time": "2023-05-30T20:30:22.015Z"
   },
   {
    "duration": 39,
    "start_time": "2023-05-30T20:30:22.081Z"
   },
   {
    "duration": 48,
    "start_time": "2023-05-30T20:30:22.121Z"
   },
   {
    "duration": 56,
    "start_time": "2023-05-30T20:30:22.170Z"
   },
   {
    "duration": 233,
    "start_time": "2023-05-30T20:30:22.229Z"
   },
   {
    "duration": 6084,
    "start_time": "2023-05-30T20:30:22.463Z"
   },
   {
    "duration": 60,
    "start_time": "2023-05-30T20:30:28.548Z"
   },
   {
    "duration": 293,
    "start_time": "2023-05-30T20:30:29.262Z"
   },
   {
    "duration": 252,
    "start_time": "2023-05-30T20:30:43.925Z"
   },
   {
    "duration": 363,
    "start_time": "2023-05-30T20:30:52.869Z"
   },
   {
    "duration": 429,
    "start_time": "2023-05-30T20:30:58.191Z"
   },
   {
    "duration": 1089,
    "start_time": "2023-05-30T20:31:07.758Z"
   },
   {
    "duration": 690,
    "start_time": "2023-05-30T20:31:08.849Z"
   },
   {
    "duration": 108,
    "start_time": "2023-05-30T20:31:09.540Z"
   },
   {
    "duration": 13,
    "start_time": "2023-05-30T20:31:09.649Z"
   },
   {
    "duration": 100,
    "start_time": "2023-05-30T20:31:09.664Z"
   },
   {
    "duration": 328,
    "start_time": "2023-05-30T20:31:09.765Z"
   },
   {
    "duration": 57,
    "start_time": "2023-05-30T20:31:10.095Z"
   },
   {
    "duration": 83,
    "start_time": "2023-05-30T20:31:10.153Z"
   },
   {
    "duration": 36,
    "start_time": "2023-05-30T20:31:10.237Z"
   },
   {
    "duration": 82,
    "start_time": "2023-05-30T20:31:10.274Z"
   },
   {
    "duration": 40,
    "start_time": "2023-05-30T20:31:10.357Z"
   },
   {
    "duration": 49,
    "start_time": "2023-05-30T20:31:10.399Z"
   },
   {
    "duration": 55,
    "start_time": "2023-05-30T20:31:10.450Z"
   },
   {
    "duration": 256,
    "start_time": "2023-05-30T20:31:10.507Z"
   },
   {
    "duration": 6420,
    "start_time": "2023-05-30T20:31:10.765Z"
   },
   {
    "duration": 59,
    "start_time": "2023-05-30T20:31:17.187Z"
   },
   {
    "duration": 106,
    "start_time": "2023-05-30T20:31:35.798Z"
   },
   {
    "duration": 353,
    "start_time": "2023-05-30T20:31:45.559Z"
   },
   {
    "duration": 1003,
    "start_time": "2023-05-30T20:31:56.344Z"
   },
   {
    "duration": 687,
    "start_time": "2023-05-30T20:31:57.349Z"
   },
   {
    "duration": 106,
    "start_time": "2023-05-30T20:31:58.038Z"
   },
   {
    "duration": 14,
    "start_time": "2023-05-30T20:31:58.145Z"
   },
   {
    "duration": 98,
    "start_time": "2023-05-30T20:31:58.161Z"
   },
   {
    "duration": 337,
    "start_time": "2023-05-30T20:31:58.260Z"
   },
   {
    "duration": 59,
    "start_time": "2023-05-30T20:31:58.599Z"
   },
   {
    "duration": 50,
    "start_time": "2023-05-30T20:31:58.659Z"
   },
   {
    "duration": 39,
    "start_time": "2023-05-30T20:31:58.710Z"
   },
   {
    "duration": 75,
    "start_time": "2023-05-30T20:31:58.751Z"
   },
   {
    "duration": 39,
    "start_time": "2023-05-30T20:31:58.828Z"
   },
   {
    "duration": 52,
    "start_time": "2023-05-30T20:31:58.869Z"
   },
   {
    "duration": 67,
    "start_time": "2023-05-30T20:31:58.923Z"
   },
   {
    "duration": 230,
    "start_time": "2023-05-30T20:31:58.993Z"
   },
   {
    "duration": 6046,
    "start_time": "2023-05-30T20:31:59.225Z"
   },
   {
    "duration": 63,
    "start_time": "2023-05-30T20:32:05.273Z"
   },
   {
    "duration": 230,
    "start_time": "2023-05-30T20:32:18.845Z"
   },
   {
    "duration": 33,
    "start_time": "2023-05-30T20:38:42.326Z"
   },
   {
    "duration": 93,
    "start_time": "2023-05-30T20:38:51.303Z"
   },
   {
    "duration": 30,
    "start_time": "2023-05-30T20:38:54.997Z"
   },
   {
    "duration": 32,
    "start_time": "2023-05-30T20:39:02.714Z"
   },
   {
    "duration": 3,
    "start_time": "2023-05-30T20:39:13.762Z"
   },
   {
    "duration": 10,
    "start_time": "2023-05-30T20:39:18.678Z"
   },
   {
    "duration": 8,
    "start_time": "2023-05-30T20:39:23.228Z"
   },
   {
    "duration": 8,
    "start_time": "2023-05-30T20:39:35.194Z"
   },
   {
    "duration": 9,
    "start_time": "2023-05-30T20:39:40.094Z"
   },
   {
    "duration": 28,
    "start_time": "2023-05-30T20:40:20.414Z"
   },
   {
    "duration": 21,
    "start_time": "2023-05-30T20:41:38.420Z"
   },
   {
    "duration": 29,
    "start_time": "2023-05-30T20:43:06.258Z"
   },
   {
    "duration": 38,
    "start_time": "2023-05-30T20:43:14.426Z"
   },
   {
    "duration": 26,
    "start_time": "2023-05-30T20:43:27.696Z"
   },
   {
    "duration": 19,
    "start_time": "2023-05-30T20:44:07.397Z"
   },
   {
    "duration": 22,
    "start_time": "2023-05-30T20:44:14.004Z"
   },
   {
    "duration": 23,
    "start_time": "2023-05-30T20:44:40.058Z"
   },
   {
    "duration": 249,
    "start_time": "2023-05-30T20:44:58.412Z"
   },
   {
    "duration": 10,
    "start_time": "2023-05-30T20:46:11.795Z"
   },
   {
    "duration": 10,
    "start_time": "2023-05-30T20:46:18.159Z"
   },
   {
    "duration": 339,
    "start_time": "2023-05-30T20:47:15.879Z"
   },
   {
    "duration": 54,
    "start_time": "2023-05-30T20:54:47.522Z"
   },
   {
    "duration": 1237,
    "start_time": "2023-05-31T17:40:03.585Z"
   },
   {
    "duration": 3289,
    "start_time": "2023-05-31T17:40:04.827Z"
   },
   {
    "duration": 129,
    "start_time": "2023-05-31T17:40:08.118Z"
   },
   {
    "duration": 14,
    "start_time": "2023-05-31T17:40:08.249Z"
   },
   {
    "duration": 119,
    "start_time": "2023-05-31T17:40:08.266Z"
   },
   {
    "duration": 363,
    "start_time": "2023-05-31T17:40:08.386Z"
   },
   {
    "duration": 75,
    "start_time": "2023-05-31T17:40:08.751Z"
   },
   {
    "duration": 69,
    "start_time": "2023-05-31T17:40:08.827Z"
   },
   {
    "duration": 67,
    "start_time": "2023-05-31T17:40:08.898Z"
   },
   {
    "duration": 89,
    "start_time": "2023-05-31T17:40:08.967Z"
   },
   {
    "duration": 42,
    "start_time": "2023-05-31T17:40:09.057Z"
   },
   {
    "duration": 54,
    "start_time": "2023-05-31T17:40:09.100Z"
   },
   {
    "duration": 85,
    "start_time": "2023-05-31T17:40:09.155Z"
   },
   {
    "duration": 318,
    "start_time": "2023-05-31T17:40:09.243Z"
   },
   {
    "duration": 84,
    "start_time": "2023-05-31T17:40:09.562Z"
   },
   {
    "duration": 5385,
    "start_time": "2023-05-31T17:40:09.648Z"
   },
   {
    "duration": 65,
    "start_time": "2023-05-31T17:40:15.034Z"
   },
   {
    "duration": 258,
    "start_time": "2023-05-31T17:40:27.181Z"
   },
   {
    "duration": 85,
    "start_time": "2023-05-31T17:44:08.957Z"
   },
   {
    "duration": 1055,
    "start_time": "2023-05-31T17:44:29.563Z"
   },
   {
    "duration": 793,
    "start_time": "2023-05-31T17:44:30.620Z"
   },
   {
    "duration": 124,
    "start_time": "2023-05-31T17:44:31.415Z"
   },
   {
    "duration": 70,
    "start_time": "2023-05-31T17:44:31.541Z"
   },
   {
    "duration": 129,
    "start_time": "2023-05-31T17:44:31.613Z"
   },
   {
    "duration": 158,
    "start_time": "2023-05-31T17:44:31.744Z"
   },
   {
    "duration": 453,
    "start_time": "2023-05-31T17:44:31.904Z"
   },
   {
    "duration": 71,
    "start_time": "2023-05-31T17:44:32.358Z"
   },
   {
    "duration": 40,
    "start_time": "2023-05-31T17:44:32.431Z"
   },
   {
    "duration": 61,
    "start_time": "2023-05-31T17:44:32.473Z"
   },
   {
    "duration": 67,
    "start_time": "2023-05-31T17:44:32.535Z"
   },
   {
    "duration": 55,
    "start_time": "2023-05-31T17:44:32.604Z"
   },
   {
    "duration": 42,
    "start_time": "2023-05-31T17:44:32.660Z"
   },
   {
    "duration": 79,
    "start_time": "2023-05-31T17:44:32.704Z"
   },
   {
    "duration": 294,
    "start_time": "2023-05-31T17:44:32.784Z"
   },
   {
    "duration": 68,
    "start_time": "2023-05-31T17:44:33.080Z"
   },
   {
    "duration": 5354,
    "start_time": "2023-05-31T17:44:33.150Z"
   },
   {
    "duration": 66,
    "start_time": "2023-05-31T17:44:38.506Z"
   },
   {
    "duration": 279,
    "start_time": "2023-05-31T17:45:13.227Z"
   },
   {
    "duration": 1032,
    "start_time": "2023-05-31T17:45:20.967Z"
   },
   {
    "duration": 760,
    "start_time": "2023-05-31T17:45:22.001Z"
   },
   {
    "duration": 124,
    "start_time": "2023-05-31T17:45:22.763Z"
   },
   {
    "duration": 14,
    "start_time": "2023-05-31T17:45:22.889Z"
   },
   {
    "duration": 97,
    "start_time": "2023-05-31T17:45:22.904Z"
   },
   {
    "duration": 103,
    "start_time": "2023-05-31T17:45:23.003Z"
   },
   {
    "duration": 361,
    "start_time": "2023-05-31T17:45:23.108Z"
   },
   {
    "duration": 67,
    "start_time": "2023-05-31T17:45:23.471Z"
   },
   {
    "duration": 41,
    "start_time": "2023-05-31T17:45:23.540Z"
   },
   {
    "duration": 62,
    "start_time": "2023-05-31T17:45:23.583Z"
   },
   {
    "duration": 61,
    "start_time": "2023-05-31T17:45:23.647Z"
   },
   {
    "duration": 52,
    "start_time": "2023-05-31T17:45:23.709Z"
   },
   {
    "duration": 42,
    "start_time": "2023-05-31T17:45:23.762Z"
   },
   {
    "duration": 84,
    "start_time": "2023-05-31T17:45:23.806Z"
   },
   {
    "duration": 305,
    "start_time": "2023-05-31T17:45:23.892Z"
   },
   {
    "duration": 68,
    "start_time": "2023-05-31T17:45:24.198Z"
   },
   {
    "duration": 5329,
    "start_time": "2023-05-31T17:45:24.268Z"
   },
   {
    "duration": 88,
    "start_time": "2023-05-31T17:45:29.600Z"
   },
   {
    "duration": 271,
    "start_time": "2023-05-31T17:46:34.517Z"
   },
   {
    "duration": 1134,
    "start_time": "2023-05-31T17:46:44.031Z"
   },
   {
    "duration": 785,
    "start_time": "2023-05-31T17:46:45.166Z"
   },
   {
    "duration": 129,
    "start_time": "2023-05-31T17:46:45.953Z"
   },
   {
    "duration": 15,
    "start_time": "2023-05-31T17:46:46.084Z"
   },
   {
    "duration": 95,
    "start_time": "2023-05-31T17:46:46.101Z"
   },
   {
    "duration": 113,
    "start_time": "2023-05-31T17:46:46.198Z"
   },
   {
    "duration": 347,
    "start_time": "2023-05-31T17:46:46.312Z"
   },
   {
    "duration": 70,
    "start_time": "2023-05-31T17:46:46.661Z"
   },
   {
    "duration": 41,
    "start_time": "2023-05-31T17:46:46.733Z"
   },
   {
    "duration": 55,
    "start_time": "2023-05-31T17:46:46.776Z"
   },
   {
    "duration": 61,
    "start_time": "2023-05-31T17:46:46.833Z"
   },
   {
    "duration": 55,
    "start_time": "2023-05-31T17:46:46.895Z"
   },
   {
    "duration": 40,
    "start_time": "2023-05-31T17:46:46.952Z"
   },
   {
    "duration": 76,
    "start_time": "2023-05-31T17:46:46.994Z"
   },
   {
    "duration": 305,
    "start_time": "2023-05-31T17:46:47.071Z"
   },
   {
    "duration": 69,
    "start_time": "2023-05-31T17:46:47.377Z"
   },
   {
    "duration": 5396,
    "start_time": "2023-05-31T17:46:47.447Z"
   },
   {
    "duration": 82,
    "start_time": "2023-05-31T17:46:52.844Z"
   },
   {
    "duration": 279,
    "start_time": "2023-05-31T17:47:33.442Z"
   },
   {
    "duration": 1061,
    "start_time": "2023-05-31T17:47:40.645Z"
   },
   {
    "duration": 763,
    "start_time": "2023-05-31T17:47:41.708Z"
   },
   {
    "duration": 121,
    "start_time": "2023-05-31T17:47:42.473Z"
   },
   {
    "duration": 15,
    "start_time": "2023-05-31T17:47:42.596Z"
   },
   {
    "duration": 84,
    "start_time": "2023-05-31T17:47:42.626Z"
   },
   {
    "duration": 114,
    "start_time": "2023-05-31T17:47:42.711Z"
   },
   {
    "duration": 349,
    "start_time": "2023-05-31T17:47:42.826Z"
   },
   {
    "duration": 69,
    "start_time": "2023-05-31T17:47:43.177Z"
   },
   {
    "duration": 43,
    "start_time": "2023-05-31T17:47:43.247Z"
   },
   {
    "duration": 60,
    "start_time": "2023-05-31T17:47:43.291Z"
   },
   {
    "duration": 72,
    "start_time": "2023-05-31T17:47:43.353Z"
   },
   {
    "duration": 43,
    "start_time": "2023-05-31T17:47:43.426Z"
   },
   {
    "duration": 59,
    "start_time": "2023-05-31T17:47:43.471Z"
   },
   {
    "duration": 66,
    "start_time": "2023-05-31T17:47:43.532Z"
   },
   {
    "duration": 301,
    "start_time": "2023-05-31T17:47:43.599Z"
   },
   {
    "duration": 75,
    "start_time": "2023-05-31T17:47:43.902Z"
   },
   {
    "duration": 5497,
    "start_time": "2023-05-31T17:47:43.979Z"
   },
   {
    "duration": 69,
    "start_time": "2023-05-31T17:47:49.478Z"
   },
   {
    "duration": 1053,
    "start_time": "2023-05-31T17:49:16.244Z"
   },
   {
    "duration": 763,
    "start_time": "2023-05-31T17:49:17.299Z"
   },
   {
    "duration": 117,
    "start_time": "2023-05-31T17:49:18.064Z"
   },
   {
    "duration": 13,
    "start_time": "2023-05-31T17:49:18.183Z"
   },
   {
    "duration": 96,
    "start_time": "2023-05-31T17:49:18.198Z"
   },
   {
    "duration": 106,
    "start_time": "2023-05-31T17:49:18.295Z"
   },
   {
    "duration": 339,
    "start_time": "2023-05-31T17:49:18.402Z"
   },
   {
    "duration": 66,
    "start_time": "2023-05-31T17:49:18.743Z"
   },
   {
    "duration": 63,
    "start_time": "2023-05-31T17:49:18.810Z"
   },
   {
    "duration": 52,
    "start_time": "2023-05-31T17:49:18.875Z"
   },
   {
    "duration": 61,
    "start_time": "2023-05-31T17:49:18.928Z"
   },
   {
    "duration": 52,
    "start_time": "2023-05-31T17:49:18.991Z"
   },
   {
    "duration": 44,
    "start_time": "2023-05-31T17:49:19.044Z"
   },
   {
    "duration": 90,
    "start_time": "2023-05-31T17:49:19.090Z"
   },
   {
    "duration": 6,
    "start_time": "2023-05-31T17:49:19.182Z"
   },
   {
    "duration": 294,
    "start_time": "2023-05-31T17:49:19.189Z"
   },
   {
    "duration": 81,
    "start_time": "2023-05-31T17:49:19.484Z"
   },
   {
    "duration": 5500,
    "start_time": "2023-05-31T17:49:19.567Z"
   },
   {
    "duration": 74,
    "start_time": "2023-05-31T17:49:25.069Z"
   },
   {
    "duration": 8,
    "start_time": "2023-05-31T17:49:25.643Z"
   },
   {
    "duration": 1174,
    "start_time": "2023-05-31T17:49:29.544Z"
   },
   {
    "duration": 821,
    "start_time": "2023-05-31T17:49:30.720Z"
   },
   {
    "duration": 141,
    "start_time": "2023-05-31T17:49:31.543Z"
   },
   {
    "duration": 18,
    "start_time": "2023-05-31T17:49:31.687Z"
   },
   {
    "duration": 113,
    "start_time": "2023-05-31T17:49:31.707Z"
   },
   {
    "duration": 113,
    "start_time": "2023-05-31T17:49:31.822Z"
   },
   {
    "duration": 362,
    "start_time": "2023-05-31T17:49:31.937Z"
   },
   {
    "duration": 69,
    "start_time": "2023-05-31T17:49:32.301Z"
   },
   {
    "duration": 55,
    "start_time": "2023-05-31T17:49:32.371Z"
   },
   {
    "duration": 40,
    "start_time": "2023-05-31T17:49:32.428Z"
   },
   {
    "duration": 80,
    "start_time": "2023-05-31T17:49:32.470Z"
   },
   {
    "duration": 40,
    "start_time": "2023-05-31T17:49:32.552Z"
   },
   {
    "duration": 54,
    "start_time": "2023-05-31T17:49:32.594Z"
   },
   {
    "duration": 79,
    "start_time": "2023-05-31T17:49:32.650Z"
   },
   {
    "duration": 6,
    "start_time": "2023-05-31T17:49:32.731Z"
   },
   {
    "duration": 306,
    "start_time": "2023-05-31T17:49:32.738Z"
   },
   {
    "duration": 67,
    "start_time": "2023-05-31T17:49:33.045Z"
   },
   {
    "duration": 5660,
    "start_time": "2023-05-31T17:49:33.124Z"
   },
   {
    "duration": 72,
    "start_time": "2023-05-31T17:49:38.786Z"
   },
   {
    "duration": 1970,
    "start_time": "2023-05-31T20:05:19.551Z"
   },
   {
    "duration": 2190,
    "start_time": "2023-05-31T20:05:21.524Z"
   },
   {
    "duration": 273,
    "start_time": "2023-05-31T20:05:23.716Z"
   },
   {
    "duration": 28,
    "start_time": "2023-05-31T20:05:23.991Z"
   },
   {
    "duration": 156,
    "start_time": "2023-05-31T20:05:24.023Z"
   },
   {
    "duration": 223,
    "start_time": "2023-05-31T20:05:24.182Z"
   },
   {
    "duration": 651,
    "start_time": "2023-05-31T20:05:24.407Z"
   },
   {
    "duration": 155,
    "start_time": "2023-05-31T20:05:25.060Z"
   },
   {
    "duration": 99,
    "start_time": "2023-05-31T20:05:25.217Z"
   },
   {
    "duration": 91,
    "start_time": "2023-05-31T20:05:25.319Z"
   },
   {
    "duration": 161,
    "start_time": "2023-05-31T20:05:25.412Z"
   },
   {
    "duration": 99,
    "start_time": "2023-05-31T20:05:25.575Z"
   },
   {
    "duration": 104,
    "start_time": "2023-05-31T20:05:25.676Z"
   },
   {
    "duration": 168,
    "start_time": "2023-05-31T20:05:25.784Z"
   },
   {
    "duration": 15,
    "start_time": "2023-05-31T20:05:25.957Z"
   },
   {
    "duration": 575,
    "start_time": "2023-05-31T20:05:25.976Z"
   },
   {
    "duration": 152,
    "start_time": "2023-05-31T20:05:26.554Z"
   },
   {
    "duration": 7819,
    "start_time": "2023-05-31T20:05:26.708Z"
   },
   {
    "duration": 160,
    "start_time": "2023-05-31T20:05:34.530Z"
   },
   {
    "duration": 15,
    "start_time": "2023-05-31T20:05:34.693Z"
   },
   {
    "duration": 1513,
    "start_time": "2023-05-31T20:05:42.845Z"
   },
   {
    "duration": 1425,
    "start_time": "2023-05-31T20:05:44.361Z"
   },
   {
    "duration": 266,
    "start_time": "2023-05-31T20:05:45.788Z"
   },
   {
    "duration": 27,
    "start_time": "2023-05-31T20:05:46.056Z"
   },
   {
    "duration": 154,
    "start_time": "2023-05-31T20:05:46.086Z"
   },
   {
    "duration": 206,
    "start_time": "2023-05-31T20:05:46.243Z"
   },
   {
    "duration": 673,
    "start_time": "2023-05-31T20:05:46.451Z"
   },
   {
    "duration": 157,
    "start_time": "2023-05-31T20:05:47.126Z"
   },
   {
    "duration": 184,
    "start_time": "2023-05-31T20:05:47.285Z"
   },
   {
    "duration": 93,
    "start_time": "2023-05-31T20:05:47.471Z"
   },
   {
    "duration": 137,
    "start_time": "2023-05-31T20:05:47.572Z"
   },
   {
    "duration": 87,
    "start_time": "2023-05-31T20:05:47.711Z"
   },
   {
    "duration": 102,
    "start_time": "2023-05-31T20:05:47.800Z"
   },
   {
    "duration": 160,
    "start_time": "2023-05-31T20:05:47.906Z"
   },
   {
    "duration": 30,
    "start_time": "2023-05-31T20:05:48.068Z"
   },
   {
    "duration": 596,
    "start_time": "2023-05-31T20:05:48.101Z"
   },
   {
    "duration": 165,
    "start_time": "2023-05-31T20:05:48.700Z"
   },
   {
    "duration": 9244,
    "start_time": "2023-05-31T20:05:48.873Z"
   },
   {
    "duration": 136,
    "start_time": "2023-05-31T20:05:58.120Z"
   },
   {
    "duration": 10,
    "start_time": "2023-05-31T20:06:38.675Z"
   },
   {
    "duration": 1376,
    "start_time": "2023-05-31T20:06:43.105Z"
   },
   {
    "duration": 991,
    "start_time": "2023-05-31T20:06:44.483Z"
   },
   {
    "duration": 148,
    "start_time": "2023-05-31T20:06:45.483Z"
   },
   {
    "duration": 36,
    "start_time": "2023-05-31T20:06:45.633Z"
   },
   {
    "duration": 103,
    "start_time": "2023-05-31T20:06:45.672Z"
   },
   {
    "duration": 196,
    "start_time": "2023-05-31T20:06:45.777Z"
   },
   {
    "duration": 13,
    "start_time": "2023-05-31T20:06:45.975Z"
   },
   {
    "duration": 485,
    "start_time": "2023-05-31T20:06:45.990Z"
   },
   {
    "duration": 87,
    "start_time": "2023-05-31T20:06:46.479Z"
   },
   {
    "duration": 66,
    "start_time": "2023-05-31T20:06:46.568Z"
   },
   {
    "duration": 65,
    "start_time": "2023-05-31T20:06:46.636Z"
   },
   {
    "duration": 162,
    "start_time": "2023-05-31T20:06:46.704Z"
   },
   {
    "duration": 95,
    "start_time": "2023-05-31T20:06:46.871Z"
   },
   {
    "duration": 85,
    "start_time": "2023-05-31T20:06:46.970Z"
   },
   {
    "duration": 127,
    "start_time": "2023-05-31T20:06:47.057Z"
   },
   {
    "duration": 16,
    "start_time": "2023-05-31T20:06:47.186Z"
   },
   {
    "duration": 445,
    "start_time": "2023-05-31T20:06:47.205Z"
   },
   {
    "duration": 85,
    "start_time": "2023-05-31T20:06:47.651Z"
   },
   {
    "duration": 7208,
    "start_time": "2023-05-31T20:06:47.748Z"
   },
   {
    "duration": 107,
    "start_time": "2023-05-31T20:06:54.958Z"
   },
   {
    "duration": 384,
    "start_time": "2023-05-31T20:09:54.377Z"
   },
   {
    "duration": 470,
    "start_time": "2023-05-31T20:11:24.926Z"
   },
   {
    "duration": 1754,
    "start_time": "2023-05-31T20:11:35.124Z"
   },
   {
    "duration": 1520,
    "start_time": "2023-05-31T20:11:36.881Z"
   },
   {
    "duration": 271,
    "start_time": "2023-05-31T20:11:38.408Z"
   },
   {
    "duration": 48,
    "start_time": "2023-05-31T20:11:38.682Z"
   },
   {
    "duration": 203,
    "start_time": "2023-05-31T20:11:38.734Z"
   },
   {
    "duration": 211,
    "start_time": "2023-05-31T20:11:38.939Z"
   },
   {
    "duration": 20,
    "start_time": "2023-05-31T20:11:39.153Z"
   },
   {
    "duration": 709,
    "start_time": "2023-05-31T20:11:39.176Z"
   },
   {
    "duration": 154,
    "start_time": "2023-05-31T20:11:39.887Z"
   },
   {
    "duration": 91,
    "start_time": "2023-05-31T20:11:40.044Z"
   },
   {
    "duration": 91,
    "start_time": "2023-05-31T20:11:40.137Z"
   },
   {
    "duration": 149,
    "start_time": "2023-05-31T20:11:40.231Z"
   },
   {
    "duration": 141,
    "start_time": "2023-05-31T20:11:40.387Z"
   },
   {
    "duration": 102,
    "start_time": "2023-05-31T20:11:40.532Z"
   },
   {
    "duration": 210,
    "start_time": "2023-05-31T20:11:40.636Z"
   },
   {
    "duration": 89,
    "start_time": "2023-05-31T20:11:40.848Z"
   },
   {
    "duration": 592,
    "start_time": "2023-05-31T20:11:40.940Z"
   },
   {
    "duration": 137,
    "start_time": "2023-05-31T20:11:41.537Z"
   },
   {
    "duration": 9182,
    "start_time": "2023-05-31T20:11:41.680Z"
   },
   {
    "duration": 167,
    "start_time": "2023-05-31T20:11:50.864Z"
   },
   {
    "duration": 1781,
    "start_time": "2023-06-02T16:39:58.807Z"
   },
   {
    "duration": 4300,
    "start_time": "2023-06-02T16:40:00.591Z"
   },
   {
    "duration": 254,
    "start_time": "2023-06-02T16:40:04.893Z"
   },
   {
    "duration": 23,
    "start_time": "2023-06-02T16:40:05.151Z"
   },
   {
    "duration": 139,
    "start_time": "2023-06-02T16:40:05.177Z"
   },
   {
    "duration": 211,
    "start_time": "2023-06-02T16:40:05.318Z"
   },
   {
    "duration": 25,
    "start_time": "2023-06-02T16:40:05.531Z"
   },
   {
    "duration": 570,
    "start_time": "2023-06-02T16:40:05.558Z"
   },
   {
    "duration": 137,
    "start_time": "2023-06-02T16:40:06.131Z"
   },
   {
    "duration": 63,
    "start_time": "2023-06-02T16:40:06.270Z"
   },
   {
    "duration": 58,
    "start_time": "2023-06-02T16:40:06.334Z"
   },
   {
    "duration": 121,
    "start_time": "2023-06-02T16:40:06.394Z"
   },
   {
    "duration": 86,
    "start_time": "2023-06-02T16:40:06.517Z"
   },
   {
    "duration": 72,
    "start_time": "2023-06-02T16:40:06.606Z"
   },
   {
    "duration": 153,
    "start_time": "2023-06-02T16:40:06.680Z"
   },
   {
    "duration": 41,
    "start_time": "2023-06-02T16:40:06.835Z"
   },
   {
    "duration": 366,
    "start_time": "2023-06-02T16:40:06.878Z"
   },
   {
    "duration": 107,
    "start_time": "2023-06-02T16:40:07.252Z"
   },
   {
    "duration": 8718,
    "start_time": "2023-06-02T16:40:07.362Z"
   },
   {
    "duration": 121,
    "start_time": "2023-06-02T16:40:16.083Z"
   },
   {
    "duration": 433,
    "start_time": "2023-06-02T16:41:13.662Z"
   },
   {
    "duration": 1441,
    "start_time": "2023-06-02T16:41:18.802Z"
   },
   {
    "duration": 1414,
    "start_time": "2023-06-02T16:41:20.252Z"
   },
   {
    "duration": 249,
    "start_time": "2023-06-02T16:41:21.668Z"
   },
   {
    "duration": 30,
    "start_time": "2023-06-02T16:41:21.929Z"
   },
   {
    "duration": 136,
    "start_time": "2023-06-02T16:41:21.962Z"
   },
   {
    "duration": 189,
    "start_time": "2023-06-02T16:41:22.100Z"
   },
   {
    "duration": 12,
    "start_time": "2023-06-02T16:41:22.291Z"
   },
   {
    "duration": 632,
    "start_time": "2023-06-02T16:41:22.305Z"
   },
   {
    "duration": 143,
    "start_time": "2023-06-02T16:41:22.939Z"
   },
   {
    "duration": 87,
    "start_time": "2023-06-02T16:41:23.084Z"
   },
   {
    "duration": 97,
    "start_time": "2023-06-02T16:41:23.173Z"
   },
   {
    "duration": 121,
    "start_time": "2023-06-02T16:41:23.272Z"
   },
   {
    "duration": 86,
    "start_time": "2023-06-02T16:41:23.397Z"
   },
   {
    "duration": 84,
    "start_time": "2023-06-02T16:41:23.487Z"
   },
   {
    "duration": 149,
    "start_time": "2023-06-02T16:41:23.574Z"
   },
   {
    "duration": 513,
    "start_time": "2023-06-02T16:41:23.725Z"
   },
   {
    "duration": 11,
    "start_time": "2023-06-02T16:41:24.240Z"
   },
   {
    "duration": 145,
    "start_time": "2023-06-02T16:41:24.254Z"
   },
   {
    "duration": 9234,
    "start_time": "2023-06-02T16:41:24.401Z"
   },
   {
    "duration": 142,
    "start_time": "2023-06-02T16:41:33.643Z"
   },
   {
    "duration": 157,
    "start_time": "2023-06-02T16:42:11.951Z"
   },
   {
    "duration": 14,
    "start_time": "2023-06-02T16:42:19.664Z"
   },
   {
    "duration": 14,
    "start_time": "2023-06-02T16:42:25.452Z"
   },
   {
    "duration": 13,
    "start_time": "2023-06-02T16:43:48.090Z"
   },
   {
    "duration": 63,
    "start_time": "2023-06-02T16:46:01.384Z"
   },
   {
    "duration": 35,
    "start_time": "2023-06-02T16:46:19.358Z"
   },
   {
    "duration": 44,
    "start_time": "2023-06-02T16:46:35.567Z"
   },
   {
    "duration": 39,
    "start_time": "2023-06-02T16:46:49.452Z"
   },
   {
    "duration": 1549,
    "start_time": "2023-06-02T16:46:54.283Z"
   },
   {
    "duration": 1251,
    "start_time": "2023-06-02T16:46:55.838Z"
   },
   {
    "duration": 276,
    "start_time": "2023-06-02T16:46:57.092Z"
   },
   {
    "duration": 28,
    "start_time": "2023-06-02T16:46:57.373Z"
   },
   {
    "duration": 148,
    "start_time": "2023-06-02T16:46:57.404Z"
   },
   {
    "duration": 206,
    "start_time": "2023-06-02T16:46:57.557Z"
   },
   {
    "duration": 12,
    "start_time": "2023-06-02T16:46:57.765Z"
   },
   {
    "duration": 624,
    "start_time": "2023-06-02T16:46:57.779Z"
   },
   {
    "duration": 153,
    "start_time": "2023-06-02T16:46:58.406Z"
   },
   {
    "duration": 95,
    "start_time": "2023-06-02T16:46:58.561Z"
   },
   {
    "duration": 86,
    "start_time": "2023-06-02T16:46:58.659Z"
   },
   {
    "duration": 134,
    "start_time": "2023-06-02T16:46:58.747Z"
   },
   {
    "duration": 81,
    "start_time": "2023-06-02T16:46:58.884Z"
   },
   {
    "duration": 94,
    "start_time": "2023-06-02T16:46:58.969Z"
   },
   {
    "duration": 145,
    "start_time": "2023-06-02T16:46:59.065Z"
   },
   {
    "duration": 486,
    "start_time": "2023-06-02T16:46:59.212Z"
   },
   {
    "duration": 13,
    "start_time": "2023-06-02T16:46:59.701Z"
   },
   {
    "duration": 54,
    "start_time": "2023-06-02T16:46:59.715Z"
   },
   {
    "duration": 137,
    "start_time": "2023-06-02T16:46:59.771Z"
   },
   {
    "duration": 8107,
    "start_time": "2023-06-02T16:46:59.910Z"
   },
   {
    "duration": 94,
    "start_time": "2023-06-02T16:47:08.027Z"
   },
   {
    "duration": 431,
    "start_time": "2023-06-02T16:47:47.579Z"
   },
   {
    "duration": 12854,
    "start_time": "2023-06-02T16:48:29.001Z"
   },
   {
    "duration": 9486,
    "start_time": "2023-06-02T16:50:36.126Z"
   },
   {
    "duration": 29948,
    "start_time": "2023-06-02T16:51:17.321Z"
   },
   {
    "duration": 14,
    "start_time": "2023-06-02T16:54:44.330Z"
   },
   {
    "duration": 11,
    "start_time": "2023-06-02T16:55:06.450Z"
   },
   {
    "duration": 12,
    "start_time": "2023-06-02T16:55:14.664Z"
   },
   {
    "duration": 196,
    "start_time": "2023-06-02T16:57:54.855Z"
   },
   {
    "duration": 53,
    "start_time": "2023-06-02T16:58:15.049Z"
   },
   {
    "duration": 35,
    "start_time": "2023-06-02T16:58:31.960Z"
   },
   {
    "duration": 30,
    "start_time": "2023-06-02T16:59:06.362Z"
   },
   {
    "duration": 55,
    "start_time": "2023-06-02T16:59:14.492Z"
   },
   {
    "duration": 45,
    "start_time": "2023-06-02T16:59:22.699Z"
   },
   {
    "duration": 29,
    "start_time": "2023-06-02T16:59:26.546Z"
   },
   {
    "duration": 1171,
    "start_time": "2023-06-02T16:59:43.348Z"
   },
   {
    "duration": 944,
    "start_time": "2023-06-02T16:59:44.521Z"
   },
   {
    "duration": 173,
    "start_time": "2023-06-02T16:59:45.467Z"
   },
   {
    "duration": 25,
    "start_time": "2023-06-02T16:59:45.642Z"
   },
   {
    "duration": 116,
    "start_time": "2023-06-02T16:59:45.670Z"
   },
   {
    "duration": 214,
    "start_time": "2023-06-02T16:59:45.789Z"
   },
   {
    "duration": 12,
    "start_time": "2023-06-02T16:59:46.005Z"
   },
   {
    "duration": 545,
    "start_time": "2023-06-02T16:59:46.031Z"
   },
   {
    "duration": 108,
    "start_time": "2023-06-02T16:59:46.578Z"
   },
   {
    "duration": 75,
    "start_time": "2023-06-02T16:59:46.687Z"
   },
   {
    "duration": 48,
    "start_time": "2023-06-02T16:59:46.765Z"
   },
   {
    "duration": 141,
    "start_time": "2023-06-02T16:59:46.825Z"
   },
   {
    "duration": 62,
    "start_time": "2023-06-02T16:59:46.968Z"
   },
   {
    "duration": 83,
    "start_time": "2023-06-02T16:59:47.039Z"
   },
   {
    "duration": 141,
    "start_time": "2023-06-02T16:59:47.123Z"
   },
   {
    "duration": 359,
    "start_time": "2023-06-02T16:59:47.267Z"
   },
   {
    "duration": 20,
    "start_time": "2023-06-02T16:59:47.631Z"
   },
   {
    "duration": 44,
    "start_time": "2023-06-02T16:59:47.653Z"
   },
   {
    "duration": 10,
    "start_time": "2023-06-02T16:59:47.700Z"
   },
   {
    "duration": 32138,
    "start_time": "2023-06-02T16:59:47.712Z"
   },
   {
    "duration": 49,
    "start_time": "2023-06-02T17:00:19.858Z"
   },
   {
    "duration": 156,
    "start_time": "2023-06-02T17:00:19.909Z"
   },
   {
    "duration": 45523,
    "start_time": "2023-06-02T17:01:54.665Z"
   },
   {
    "duration": 46309,
    "start_time": "2023-06-02T17:02:49.443Z"
   },
   {
    "duration": 7,
    "start_time": "2023-06-02T17:09:22.872Z"
   },
   {
    "duration": 109,
    "start_time": "2023-06-02T17:09:38.092Z"
   },
   {
    "duration": 7,
    "start_time": "2023-06-02T17:10:42.862Z"
   },
   {
    "duration": 6,
    "start_time": "2023-06-02T17:10:55.655Z"
   },
   {
    "duration": 9,
    "start_time": "2023-06-02T17:11:15.438Z"
   },
   {
    "duration": 6,
    "start_time": "2023-06-02T17:11:20.703Z"
   },
   {
    "duration": 7,
    "start_time": "2023-06-02T17:12:05.757Z"
   },
   {
    "duration": 10,
    "start_time": "2023-06-02T17:20:18.387Z"
   },
   {
    "duration": 55,
    "start_time": "2023-06-02T17:20:29.875Z"
   },
   {
    "duration": 5,
    "start_time": "2023-06-02T17:20:36.044Z"
   },
   {
    "duration": 1217,
    "start_time": "2023-06-02T17:20:52.924Z"
   },
   {
    "duration": 903,
    "start_time": "2023-06-02T17:20:54.143Z"
   },
   {
    "duration": 149,
    "start_time": "2023-06-02T17:20:55.048Z"
   },
   {
    "duration": 37,
    "start_time": "2023-06-02T17:20:55.200Z"
   },
   {
    "duration": 101,
    "start_time": "2023-06-02T17:20:55.238Z"
   },
   {
    "duration": 135,
    "start_time": "2023-06-02T17:20:55.343Z"
   },
   {
    "duration": 12,
    "start_time": "2023-06-02T17:20:55.481Z"
   },
   {
    "duration": 524,
    "start_time": "2023-06-02T17:20:55.495Z"
   },
   {
    "duration": 81,
    "start_time": "2023-06-02T17:20:56.026Z"
   },
   {
    "duration": 63,
    "start_time": "2023-06-02T17:20:56.110Z"
   },
   {
    "duration": 72,
    "start_time": "2023-06-02T17:20:56.175Z"
   },
   {
    "duration": 94,
    "start_time": "2023-06-02T17:20:56.248Z"
   },
   {
    "duration": 61,
    "start_time": "2023-06-02T17:20:56.344Z"
   },
   {
    "duration": 65,
    "start_time": "2023-06-02T17:20:56.407Z"
   },
   {
    "duration": 93,
    "start_time": "2023-06-02T17:20:56.474Z"
   },
   {
    "duration": 339,
    "start_time": "2023-06-02T17:20:56.570Z"
   },
   {
    "duration": 30,
    "start_time": "2023-06-02T17:20:56.911Z"
   },
   {
    "duration": 39,
    "start_time": "2023-06-02T17:20:56.943Z"
   },
   {
    "duration": 7,
    "start_time": "2023-06-02T17:20:56.983Z"
   },
   {
    "duration": 29580,
    "start_time": "2023-06-02T17:20:56.992Z"
   },
   {
    "duration": 38,
    "start_time": "2023-06-02T17:21:26.574Z"
   },
   {
    "duration": 25,
    "start_time": "2023-06-02T17:21:26.613Z"
   },
   {
    "duration": 24,
    "start_time": "2023-06-02T17:21:26.640Z"
   },
   {
    "duration": 2,
    "start_time": "2023-06-02T17:21:26.667Z"
   },
   {
    "duration": 93,
    "start_time": "2023-06-02T17:21:26.671Z"
   },
   {
    "duration": 1168,
    "start_time": "2023-06-02T17:22:06.662Z"
   },
   {
    "duration": 855,
    "start_time": "2023-06-02T17:22:07.834Z"
   },
   {
    "duration": 170,
    "start_time": "2023-06-02T17:22:08.691Z"
   },
   {
    "duration": 17,
    "start_time": "2023-06-02T17:22:08.863Z"
   },
   {
    "duration": 113,
    "start_time": "2023-06-02T17:22:08.883Z"
   },
   {
    "duration": 144,
    "start_time": "2023-06-02T17:22:08.997Z"
   },
   {
    "duration": 10,
    "start_time": "2023-06-02T17:22:09.142Z"
   },
   {
    "duration": 380,
    "start_time": "2023-06-02T17:22:09.153Z"
   },
   {
    "duration": 94,
    "start_time": "2023-06-02T17:22:09.542Z"
   },
   {
    "duration": 52,
    "start_time": "2023-06-02T17:22:09.642Z"
   },
   {
    "duration": 89,
    "start_time": "2023-06-02T17:22:09.697Z"
   },
   {
    "duration": 110,
    "start_time": "2023-06-02T17:22:09.787Z"
   },
   {
    "duration": 72,
    "start_time": "2023-06-02T17:22:09.899Z"
   },
   {
    "duration": 67,
    "start_time": "2023-06-02T17:22:09.974Z"
   },
   {
    "duration": 80,
    "start_time": "2023-06-02T17:22:10.043Z"
   },
   {
    "duration": 378,
    "start_time": "2023-06-02T17:22:10.126Z"
   },
   {
    "duration": 10,
    "start_time": "2023-06-02T17:22:10.505Z"
   },
   {
    "duration": 72,
    "start_time": "2023-06-02T17:22:10.526Z"
   },
   {
    "duration": 9,
    "start_time": "2023-06-02T17:22:10.600Z"
   },
   {
    "duration": 56,
    "start_time": "2023-06-02T17:22:10.611Z"
   },
   {
    "duration": 28915,
    "start_time": "2023-06-02T17:22:10.669Z"
   },
   {
    "duration": 7,
    "start_time": "2023-06-02T17:22:39.587Z"
   },
   {
    "duration": 53,
    "start_time": "2023-06-02T17:22:39.596Z"
   },
   {
    "duration": 34230,
    "start_time": "2023-06-02T17:22:39.651Z"
   },
   {
    "duration": 77,
    "start_time": "2023-06-02T17:23:13.882Z"
   },
   {
    "duration": 265,
    "start_time": "2023-06-02T17:23:50.619Z"
   },
   {
    "duration": 151,
    "start_time": "2023-06-02T17:24:06.167Z"
   },
   {
    "duration": 183,
    "start_time": "2023-06-02T17:24:13.858Z"
   },
   {
    "duration": 1266,
    "start_time": "2023-06-02T17:25:35.418Z"
   },
   {
    "duration": 1285,
    "start_time": "2023-06-02T17:25:41.326Z"
   },
   {
    "duration": 1239,
    "start_time": "2023-06-02T17:26:08.088Z"
   },
   {
    "duration": 23,
    "start_time": "2023-06-02T17:26:26.485Z"
   },
   {
    "duration": 1308,
    "start_time": "2023-06-02T17:26:27.016Z"
   },
   {
    "duration": 1510,
    "start_time": "2023-06-02T17:27:18.668Z"
   },
   {
    "duration": 24743,
    "start_time": "2023-06-02T17:28:30.436Z"
   },
   {
    "duration": 155,
    "start_time": "2023-06-02T17:29:21.353Z"
   },
   {
    "duration": 5579,
    "start_time": "2023-06-02T17:29:25.536Z"
   },
   {
    "duration": 1197,
    "start_time": "2023-06-02T17:30:52.045Z"
   },
   {
    "duration": 872,
    "start_time": "2023-06-02T17:30:53.244Z"
   },
   {
    "duration": 151,
    "start_time": "2023-06-02T17:30:54.118Z"
   },
   {
    "duration": 19,
    "start_time": "2023-06-02T17:30:54.271Z"
   },
   {
    "duration": 108,
    "start_time": "2023-06-02T17:30:54.293Z"
   },
   {
    "duration": 116,
    "start_time": "2023-06-02T17:30:54.403Z"
   },
   {
    "duration": 10,
    "start_time": "2023-06-02T17:30:54.524Z"
   },
   {
    "duration": 398,
    "start_time": "2023-06-02T17:30:54.536Z"
   },
   {
    "duration": 81,
    "start_time": "2023-06-02T17:30:54.941Z"
   },
   {
    "duration": 55,
    "start_time": "2023-06-02T17:30:55.024Z"
   },
   {
    "duration": 71,
    "start_time": "2023-06-02T17:30:55.081Z"
   },
   {
    "duration": 77,
    "start_time": "2023-06-02T17:30:55.154Z"
   },
   {
    "duration": 48,
    "start_time": "2023-06-02T17:30:55.232Z"
   },
   {
    "duration": 66,
    "start_time": "2023-06-02T17:30:55.283Z"
   },
   {
    "duration": 92,
    "start_time": "2023-06-02T17:30:55.351Z"
   },
   {
    "duration": 298,
    "start_time": "2023-06-02T17:30:55.444Z"
   },
   {
    "duration": 13,
    "start_time": "2023-06-02T17:30:55.744Z"
   },
   {
    "duration": 55,
    "start_time": "2023-06-02T17:30:55.760Z"
   },
   {
    "duration": 13,
    "start_time": "2023-06-02T17:30:55.817Z"
   },
   {
    "duration": 45,
    "start_time": "2023-06-02T17:30:55.834Z"
   },
   {
    "duration": 25679,
    "start_time": "2023-06-02T17:30:55.880Z"
   },
   {
    "duration": 7,
    "start_time": "2023-06-02T17:31:21.561Z"
   },
   {
    "duration": 20,
    "start_time": "2023-06-02T17:31:21.570Z"
   },
   {
    "duration": 1281,
    "start_time": "2023-06-02T17:31:21.592Z"
   },
   {
    "duration": 1211,
    "start_time": "2023-06-02T17:31:22.875Z"
   },
   {
    "duration": 5319,
    "start_time": "2023-06-02T17:31:24.088Z"
   },
   {
    "duration": 107,
    "start_time": "2023-06-02T17:31:29.410Z"
   },
   {
    "duration": 1057,
    "start_time": "2023-06-02T17:40:10.856Z"
   },
   {
    "duration": 791,
    "start_time": "2023-06-02T17:40:11.915Z"
   },
   {
    "duration": 160,
    "start_time": "2023-06-02T17:40:12.708Z"
   },
   {
    "duration": 18,
    "start_time": "2023-06-02T17:40:12.870Z"
   },
   {
    "duration": 107,
    "start_time": "2023-06-02T17:40:12.890Z"
   },
   {
    "duration": 117,
    "start_time": "2023-06-02T17:40:12.998Z"
   },
   {
    "duration": 16,
    "start_time": "2023-06-02T17:40:13.117Z"
   },
   {
    "duration": 359,
    "start_time": "2023-06-02T17:40:13.139Z"
   },
   {
    "duration": 79,
    "start_time": "2023-06-02T17:40:13.500Z"
   },
   {
    "duration": 67,
    "start_time": "2023-06-02T17:40:13.580Z"
   },
   {
    "duration": 50,
    "start_time": "2023-06-02T17:40:13.649Z"
   },
   {
    "duration": 84,
    "start_time": "2023-06-02T17:40:13.701Z"
   },
   {
    "duration": 65,
    "start_time": "2023-06-02T17:40:13.787Z"
   },
   {
    "duration": 54,
    "start_time": "2023-06-02T17:40:13.854Z"
   },
   {
    "duration": 86,
    "start_time": "2023-06-02T17:40:13.910Z"
   },
   {
    "duration": 307,
    "start_time": "2023-06-02T17:40:13.998Z"
   },
   {
    "duration": 8,
    "start_time": "2023-06-02T17:40:14.307Z"
   },
   {
    "duration": 31,
    "start_time": "2023-06-02T17:40:14.328Z"
   },
   {
    "duration": 6,
    "start_time": "2023-06-02T17:40:14.361Z"
   },
   {
    "duration": 25,
    "start_time": "2023-06-02T17:40:14.369Z"
   },
   {
    "duration": 23515,
    "start_time": "2023-06-02T17:40:14.395Z"
   },
   {
    "duration": 28,
    "start_time": "2023-06-02T17:40:37.912Z"
   },
   {
    "duration": 20,
    "start_time": "2023-06-02T17:40:37.941Z"
   },
   {
    "duration": 1389,
    "start_time": "2023-06-02T17:40:37.962Z"
   },
   {
    "duration": 1248,
    "start_time": "2023-06-02T17:40:39.353Z"
   },
   {
    "duration": 5128,
    "start_time": "2023-06-02T17:40:40.603Z"
   },
   {
    "duration": 61,
    "start_time": "2023-06-02T17:40:45.736Z"
   },
   {
    "duration": 11,
    "start_time": "2023-06-02T17:40:45.799Z"
   },
   {
    "duration": 1532,
    "start_time": "2023-06-02T19:03:14.176Z"
   },
   {
    "duration": 1143,
    "start_time": "2023-06-02T19:03:15.711Z"
   },
   {
    "duration": 232,
    "start_time": "2023-06-02T19:03:16.856Z"
   },
   {
    "duration": 35,
    "start_time": "2023-06-02T19:03:17.090Z"
   },
   {
    "duration": 140,
    "start_time": "2023-06-02T19:03:17.137Z"
   },
   {
    "duration": 208,
    "start_time": "2023-06-02T19:03:17.279Z"
   },
   {
    "duration": 12,
    "start_time": "2023-06-02T19:03:17.489Z"
   },
   {
    "duration": 573,
    "start_time": "2023-06-02T19:03:17.503Z"
   },
   {
    "duration": 115,
    "start_time": "2023-06-02T19:03:18.085Z"
   },
   {
    "duration": 94,
    "start_time": "2023-06-02T19:03:18.202Z"
   },
   {
    "duration": 71,
    "start_time": "2023-06-02T19:03:18.298Z"
   },
   {
    "duration": 129,
    "start_time": "2023-06-02T19:03:18.372Z"
   },
   {
    "duration": 87,
    "start_time": "2023-06-02T19:03:18.503Z"
   },
   {
    "duration": 72,
    "start_time": "2023-06-02T19:03:18.594Z"
   },
   {
    "duration": 142,
    "start_time": "2023-06-02T19:03:18.668Z"
   },
   {
    "duration": 474,
    "start_time": "2023-06-02T19:03:18.812Z"
   },
   {
    "duration": 15,
    "start_time": "2023-06-02T19:03:19.288Z"
   },
   {
    "duration": 38,
    "start_time": "2023-06-02T19:03:19.305Z"
   },
   {
    "duration": 10,
    "start_time": "2023-06-02T19:03:19.345Z"
   },
   {
    "duration": 43,
    "start_time": "2023-06-02T19:03:19.368Z"
   },
   {
    "duration": 35912,
    "start_time": "2023-06-02T19:03:19.413Z"
   },
   {
    "duration": 10,
    "start_time": "2023-06-02T19:03:55.328Z"
   },
   {
    "duration": 42,
    "start_time": "2023-06-02T19:03:55.340Z"
   },
   {
    "duration": 1588,
    "start_time": "2023-06-02T19:03:55.384Z"
   },
   {
    "duration": 1578,
    "start_time": "2023-06-02T19:03:56.974Z"
   },
   {
    "duration": 7083,
    "start_time": "2023-06-02T19:03:58.557Z"
   },
   {
    "duration": 4,
    "start_time": "2023-06-02T19:04:05.650Z"
   },
   {
    "duration": 129,
    "start_time": "2023-06-02T19:04:05.656Z"
   },
   {
    "duration": 12,
    "start_time": "2023-06-02T19:07:31.401Z"
   },
   {
    "duration": 28,
    "start_time": "2023-06-02T19:14:52.943Z"
   },
   {
    "duration": 311,
    "start_time": "2023-06-02T19:21:48.111Z"
   },
   {
    "duration": 688,
    "start_time": "2023-06-02T19:24:09.822Z"
   },
   {
    "duration": 20,
    "start_time": "2023-06-02T19:24:21.077Z"
   },
   {
    "duration": 123,
    "start_time": "2023-06-02T19:28:09.370Z"
   },
   {
    "duration": 12,
    "start_time": "2023-06-02T19:28:14.603Z"
   },
   {
    "duration": 1362,
    "start_time": "2023-06-02T19:30:10.825Z"
   },
   {
    "duration": 459,
    "start_time": "2023-06-02T19:34:56.920Z"
   },
   {
    "duration": 475,
    "start_time": "2023-06-02T19:35:32.911Z"
   },
   {
    "duration": 603,
    "start_time": "2023-06-02T19:36:53.988Z"
   },
   {
    "duration": 22,
    "start_time": "2023-06-02T19:37:15.375Z"
   },
   {
    "duration": 23,
    "start_time": "2023-06-02T19:37:33.828Z"
   },
   {
    "duration": 11,
    "start_time": "2023-06-02T19:37:38.791Z"
   },
   {
    "duration": 29,
    "start_time": "2023-06-02T19:37:41.782Z"
   },
   {
    "duration": 6,
    "start_time": "2023-06-02T19:37:47.589Z"
   },
   {
    "duration": 1747,
    "start_time": "2023-06-03T09:34:37.918Z"
   },
   {
    "duration": 3590,
    "start_time": "2023-06-03T09:34:39.668Z"
   },
   {
    "duration": 190,
    "start_time": "2023-06-03T09:34:43.259Z"
   },
   {
    "duration": 15,
    "start_time": "2023-06-03T09:34:43.451Z"
   },
   {
    "duration": 133,
    "start_time": "2023-06-03T09:34:43.468Z"
   },
   {
    "duration": 143,
    "start_time": "2023-06-03T09:34:43.602Z"
   },
   {
    "duration": 8,
    "start_time": "2023-06-03T09:34:43.747Z"
   },
   {
    "duration": 554,
    "start_time": "2023-06-03T09:34:43.757Z"
   },
   {
    "duration": 118,
    "start_time": "2023-06-03T09:34:44.316Z"
   },
   {
    "duration": 89,
    "start_time": "2023-06-03T09:34:44.436Z"
   },
   {
    "duration": 96,
    "start_time": "2023-06-03T09:34:44.530Z"
   },
   {
    "duration": 111,
    "start_time": "2023-06-03T09:34:44.631Z"
   },
   {
    "duration": 64,
    "start_time": "2023-06-03T09:34:44.744Z"
   },
   {
    "duration": 69,
    "start_time": "2023-06-03T09:34:44.813Z"
   },
   {
    "duration": 135,
    "start_time": "2023-06-03T09:34:44.885Z"
   },
   {
    "duration": 377,
    "start_time": "2023-06-03T09:34:45.022Z"
   },
   {
    "duration": 17,
    "start_time": "2023-06-03T09:34:45.406Z"
   },
   {
    "duration": 43,
    "start_time": "2023-06-03T09:34:45.425Z"
   },
   {
    "duration": 20,
    "start_time": "2023-06-03T09:34:45.470Z"
   },
   {
    "duration": 42,
    "start_time": "2023-06-03T09:34:45.497Z"
   },
   {
    "duration": 32070,
    "start_time": "2023-06-03T09:34:45.540Z"
   },
   {
    "duration": 10,
    "start_time": "2023-06-03T09:35:17.618Z"
   },
   {
    "duration": 28,
    "start_time": "2023-06-03T09:35:17.629Z"
   },
   {
    "duration": 1671,
    "start_time": "2023-06-03T09:35:17.659Z"
   },
   {
    "duration": 1466,
    "start_time": "2023-06-03T09:35:19.331Z"
   },
   {
    "duration": 6369,
    "start_time": "2023-06-03T09:35:20.802Z"
   },
   {
    "duration": 18,
    "start_time": "2023-06-03T09:35:27.173Z"
   },
   {
    "duration": 84,
    "start_time": "2023-06-03T09:35:27.194Z"
   },
   {
    "duration": 570,
    "start_time": "2023-06-03T09:35:27.280Z"
   },
   {
    "duration": 14,
    "start_time": "2023-06-03T09:35:27.852Z"
   },
   {
    "duration": 18,
    "start_time": "2023-06-03T09:39:23.546Z"
   },
   {
    "duration": 145,
    "start_time": "2023-06-03T09:51:28.655Z"
   },
   {
    "duration": 13,
    "start_time": "2023-06-03T09:51:35.743Z"
   },
   {
    "duration": 13,
    "start_time": "2023-06-03T09:52:21.789Z"
   },
   {
    "duration": 5844,
    "start_time": "2023-06-03T09:52:36.865Z"
   },
   {
    "duration": 1050,
    "start_time": "2023-06-03T09:52:42.719Z"
   },
   {
    "duration": 223,
    "start_time": "2023-06-03T09:52:43.772Z"
   },
   {
    "duration": 32,
    "start_time": "2023-06-03T09:52:43.998Z"
   },
   {
    "duration": 136,
    "start_time": "2023-06-03T09:52:44.035Z"
   },
   {
    "duration": 196,
    "start_time": "2023-06-03T09:52:44.173Z"
   },
   {
    "duration": 16,
    "start_time": "2023-06-03T09:52:44.371Z"
   },
   {
    "duration": 593,
    "start_time": "2023-06-03T09:52:44.389Z"
   },
   {
    "duration": 113,
    "start_time": "2023-06-03T09:52:44.984Z"
   },
   {
    "duration": 66,
    "start_time": "2023-06-03T09:52:45.099Z"
   },
   {
    "duration": 87,
    "start_time": "2023-06-03T09:52:45.166Z"
   },
   {
    "duration": 100,
    "start_time": "2023-06-03T09:52:45.254Z"
   },
   {
    "duration": 78,
    "start_time": "2023-06-03T09:52:45.356Z"
   },
   {
    "duration": 57,
    "start_time": "2023-06-03T09:52:45.437Z"
   },
   {
    "duration": 103,
    "start_time": "2023-06-03T09:52:45.497Z"
   },
   {
    "duration": 372,
    "start_time": "2023-06-03T09:52:45.602Z"
   },
   {
    "duration": 13,
    "start_time": "2023-06-03T09:52:45.982Z"
   },
   {
    "duration": 50,
    "start_time": "2023-06-03T09:52:45.996Z"
   },
   {
    "duration": 7,
    "start_time": "2023-06-03T09:52:46.047Z"
   },
   {
    "duration": 54,
    "start_time": "2023-06-03T09:52:46.055Z"
   },
   {
    "duration": 35867,
    "start_time": "2023-06-03T09:52:46.117Z"
   },
   {
    "duration": 11,
    "start_time": "2023-06-03T09:53:21.987Z"
   },
   {
    "duration": 32,
    "start_time": "2023-06-03T09:53:22.003Z"
   },
   {
    "duration": 1792,
    "start_time": "2023-06-03T09:53:22.037Z"
   },
   {
    "duration": 1524,
    "start_time": "2023-06-03T09:53:23.830Z"
   },
   {
    "duration": 6559,
    "start_time": "2023-06-03T09:53:25.357Z"
   },
   {
    "duration": 4,
    "start_time": "2023-06-03T09:53:31.919Z"
   },
   {
    "duration": 99,
    "start_time": "2023-06-03T09:53:31.925Z"
   },
   {
    "duration": 548,
    "start_time": "2023-06-03T09:53:32.026Z"
   },
   {
    "duration": 31,
    "start_time": "2023-06-03T09:53:32.583Z"
   },
   {
    "duration": 48,
    "start_time": "2023-06-03T09:53:32.616Z"
   },
   {
    "duration": 16,
    "start_time": "2023-06-03T09:53:32.667Z"
   },
   {
    "duration": 17,
    "start_time": "2023-06-03T09:56:26.799Z"
   },
   {
    "duration": 140,
    "start_time": "2023-06-03T09:57:30.472Z"
   },
   {
    "duration": 24,
    "start_time": "2023-06-03T09:57:50.712Z"
   },
   {
    "duration": 21,
    "start_time": "2023-06-03T09:59:04.750Z"
   },
   {
    "duration": 33,
    "start_time": "2023-06-03T10:00:09.090Z"
   },
   {
    "duration": 29,
    "start_time": "2023-06-03T10:00:32.729Z"
   },
   {
    "duration": 34,
    "start_time": "2023-06-03T10:00:45.465Z"
   },
   {
    "duration": 48,
    "start_time": "2023-06-03T10:04:22.823Z"
   },
   {
    "duration": 29,
    "start_time": "2023-06-03T10:06:29.810Z"
   },
   {
    "duration": 1532,
    "start_time": "2023-06-03T10:06:43.061Z"
   },
   {
    "duration": 993,
    "start_time": "2023-06-03T10:06:44.602Z"
   },
   {
    "duration": 169,
    "start_time": "2023-06-03T10:06:45.604Z"
   },
   {
    "duration": 29,
    "start_time": "2023-06-03T10:06:45.775Z"
   },
   {
    "duration": 100,
    "start_time": "2023-06-03T10:06:45.815Z"
   },
   {
    "duration": 137,
    "start_time": "2023-06-03T10:06:45.917Z"
   },
   {
    "duration": 8,
    "start_time": "2023-06-03T10:06:46.056Z"
   },
   {
    "duration": 485,
    "start_time": "2023-06-03T10:06:46.075Z"
   },
   {
    "duration": 97,
    "start_time": "2023-06-03T10:06:46.562Z"
   },
   {
    "duration": 78,
    "start_time": "2023-06-03T10:06:46.660Z"
   },
   {
    "duration": 72,
    "start_time": "2023-06-03T10:06:46.739Z"
   },
   {
    "duration": 91,
    "start_time": "2023-06-03T10:06:46.814Z"
   },
   {
    "duration": 47,
    "start_time": "2023-06-03T10:06:46.906Z"
   },
   {
    "duration": 72,
    "start_time": "2023-06-03T10:06:46.955Z"
   },
   {
    "duration": 103,
    "start_time": "2023-06-03T10:06:47.028Z"
   },
   {
    "duration": 337,
    "start_time": "2023-06-03T10:06:47.132Z"
   },
   {
    "duration": 26,
    "start_time": "2023-06-03T10:06:47.470Z"
   },
   {
    "duration": 42,
    "start_time": "2023-06-03T10:06:47.503Z"
   },
   {
    "duration": 7,
    "start_time": "2023-06-03T10:06:47.546Z"
   },
   {
    "duration": 49,
    "start_time": "2023-06-03T10:06:47.554Z"
   },
   {
    "duration": 34140,
    "start_time": "2023-06-03T10:06:47.608Z"
   },
   {
    "duration": 7,
    "start_time": "2023-06-03T10:07:21.750Z"
   },
   {
    "duration": 69,
    "start_time": "2023-06-03T10:07:21.759Z"
   },
   {
    "duration": 1761,
    "start_time": "2023-06-03T10:07:21.832Z"
   },
   {
    "duration": 1810,
    "start_time": "2023-06-03T10:07:23.602Z"
   },
   {
    "duration": 6926,
    "start_time": "2023-06-03T10:07:25.414Z"
   },
   {
    "duration": 3,
    "start_time": "2023-06-03T10:07:32.342Z"
   },
   {
    "duration": 103,
    "start_time": "2023-06-03T10:07:32.346Z"
   },
   {
    "duration": 579,
    "start_time": "2023-06-03T10:07:32.451Z"
   },
   {
    "duration": 15,
    "start_time": "2023-06-03T10:07:33.034Z"
   },
   {
    "duration": 42,
    "start_time": "2023-06-03T10:07:33.050Z"
   },
   {
    "duration": 55,
    "start_time": "2023-06-03T10:07:33.094Z"
   },
   {
    "duration": 48,
    "start_time": "2023-06-03T10:07:33.150Z"
   },
   {
    "duration": 35,
    "start_time": "2023-06-03T10:11:04.103Z"
   },
   {
    "duration": 66,
    "start_time": "2023-06-03T10:12:07.807Z"
   },
   {
    "duration": 308,
    "start_time": "2023-06-03T10:16:56.618Z"
   },
   {
    "duration": 3,
    "start_time": "2023-06-03T10:17:05.117Z"
   },
   {
    "duration": 1549,
    "start_time": "2023-06-03T10:17:09.871Z"
   },
   {
    "duration": 928,
    "start_time": "2023-06-03T10:17:11.422Z"
   },
   {
    "duration": 183,
    "start_time": "2023-06-03T10:17:12.352Z"
   },
   {
    "duration": 38,
    "start_time": "2023-06-03T10:17:12.537Z"
   },
   {
    "duration": 109,
    "start_time": "2023-06-03T10:17:12.584Z"
   },
   {
    "duration": 141,
    "start_time": "2023-06-03T10:17:12.695Z"
   },
   {
    "duration": 10,
    "start_time": "2023-06-03T10:17:12.839Z"
   },
   {
    "duration": 452,
    "start_time": "2023-06-03T10:17:12.851Z"
   },
   {
    "duration": 80,
    "start_time": "2023-06-03T10:17:13.305Z"
   },
   {
    "duration": 60,
    "start_time": "2023-06-03T10:17:13.388Z"
   },
   {
    "duration": 79,
    "start_time": "2023-06-03T10:17:13.450Z"
   },
   {
    "duration": 100,
    "start_time": "2023-06-03T10:17:13.531Z"
   },
   {
    "duration": 64,
    "start_time": "2023-06-03T10:17:13.633Z"
   },
   {
    "duration": 52,
    "start_time": "2023-06-03T10:17:13.701Z"
   },
   {
    "duration": 91,
    "start_time": "2023-06-03T10:17:13.754Z"
   },
   {
    "duration": 379,
    "start_time": "2023-06-03T10:17:13.846Z"
   },
   {
    "duration": 11,
    "start_time": "2023-06-03T10:17:14.228Z"
   },
   {
    "duration": 73,
    "start_time": "2023-06-03T10:17:14.241Z"
   },
   {
    "duration": 9,
    "start_time": "2023-06-03T10:17:14.320Z"
   },
   {
    "duration": 38,
    "start_time": "2023-06-03T10:17:14.331Z"
   },
   {
    "duration": 28167,
    "start_time": "2023-06-03T10:17:14.382Z"
   },
   {
    "duration": 11,
    "start_time": "2023-06-03T10:17:42.552Z"
   },
   {
    "duration": 44,
    "start_time": "2023-06-03T10:17:42.564Z"
   },
   {
    "duration": 1426,
    "start_time": "2023-06-03T10:17:42.610Z"
   },
   {
    "duration": 1402,
    "start_time": "2023-06-03T10:17:44.038Z"
   },
   {
    "duration": 5910,
    "start_time": "2023-06-03T10:17:45.442Z"
   },
   {
    "duration": 3,
    "start_time": "2023-06-03T10:17:51.355Z"
   },
   {
    "duration": 78,
    "start_time": "2023-06-03T10:17:51.379Z"
   },
   {
    "duration": 479,
    "start_time": "2023-06-03T10:17:51.459Z"
   },
   {
    "duration": 16,
    "start_time": "2023-06-03T10:17:51.941Z"
   },
   {
    "duration": 61,
    "start_time": "2023-06-03T10:17:51.958Z"
   },
   {
    "duration": 58,
    "start_time": "2023-06-03T10:17:52.021Z"
   },
   {
    "duration": 38,
    "start_time": "2023-06-03T10:17:52.083Z"
   },
   {
    "duration": 412,
    "start_time": "2023-06-03T10:17:52.124Z"
   },
   {
    "duration": 118,
    "start_time": "2023-06-03T10:18:45.267Z"
   },
   {
    "duration": 136,
    "start_time": "2023-06-03T10:19:22.359Z"
   },
   {
    "duration": 1497,
    "start_time": "2023-06-03T10:19:28.942Z"
   },
   {
    "duration": 995,
    "start_time": "2023-06-03T10:19:30.441Z"
   },
   {
    "duration": 184,
    "start_time": "2023-06-03T10:19:31.438Z"
   },
   {
    "duration": 17,
    "start_time": "2023-06-03T10:19:31.624Z"
   },
   {
    "duration": 148,
    "start_time": "2023-06-03T10:19:31.644Z"
   },
   {
    "duration": 172,
    "start_time": "2023-06-03T10:19:31.794Z"
   },
   {
    "duration": 36,
    "start_time": "2023-06-03T10:19:31.968Z"
   },
   {
    "duration": 422,
    "start_time": "2023-06-03T10:19:32.018Z"
   },
   {
    "duration": 98,
    "start_time": "2023-06-03T10:19:32.441Z"
   },
   {
    "duration": 82,
    "start_time": "2023-06-03T10:19:32.541Z"
   },
   {
    "duration": 90,
    "start_time": "2023-06-03T10:19:32.625Z"
   },
   {
    "duration": 94,
    "start_time": "2023-06-03T10:19:32.717Z"
   },
   {
    "duration": 42,
    "start_time": "2023-06-03T10:19:32.813Z"
   },
   {
    "duration": 67,
    "start_time": "2023-06-03T10:19:32.858Z"
   },
   {
    "duration": 98,
    "start_time": "2023-06-03T10:19:32.927Z"
   },
   {
    "duration": 332,
    "start_time": "2023-06-03T10:19:33.027Z"
   },
   {
    "duration": 30,
    "start_time": "2023-06-03T10:19:33.361Z"
   },
   {
    "duration": 37,
    "start_time": "2023-06-03T10:19:33.399Z"
   },
   {
    "duration": 7,
    "start_time": "2023-06-03T10:19:33.438Z"
   },
   {
    "duration": 48,
    "start_time": "2023-06-03T10:19:33.447Z"
   },
   {
    "duration": 29317,
    "start_time": "2023-06-03T10:19:33.496Z"
   },
   {
    "duration": 7,
    "start_time": "2023-06-03T10:20:02.816Z"
   },
   {
    "duration": 37,
    "start_time": "2023-06-03T10:20:02.825Z"
   },
   {
    "duration": 1502,
    "start_time": "2023-06-03T10:20:02.864Z"
   },
   {
    "duration": 1548,
    "start_time": "2023-06-03T10:20:04.378Z"
   },
   {
    "duration": 5927,
    "start_time": "2023-06-03T10:20:05.927Z"
   },
   {
    "duration": 4,
    "start_time": "2023-06-03T10:20:11.856Z"
   },
   {
    "duration": 96,
    "start_time": "2023-06-03T10:20:11.861Z"
   },
   {
    "duration": 469,
    "start_time": "2023-06-03T10:20:11.959Z"
   },
   {
    "duration": 15,
    "start_time": "2023-06-03T10:20:12.429Z"
   },
   {
    "duration": 58,
    "start_time": "2023-06-03T10:20:12.446Z"
   },
   {
    "duration": 43,
    "start_time": "2023-06-03T10:20:12.506Z"
   },
   {
    "duration": 42,
    "start_time": "2023-06-03T10:20:12.550Z"
   },
   {
    "duration": 90,
    "start_time": "2023-06-03T10:20:12.600Z"
   },
   {
    "duration": 87,
    "start_time": "2023-06-03T10:21:18.689Z"
   },
   {
    "duration": 4,
    "start_time": "2023-06-03T10:24:47.934Z"
   },
   {
    "duration": 128,
    "start_time": "2023-06-03T10:25:04.312Z"
   },
   {
    "duration": 905,
    "start_time": "2023-06-03T10:25:14.170Z"
   },
   {
    "duration": 830,
    "start_time": "2023-06-03T10:25:32.175Z"
   },
   {
    "duration": 160,
    "start_time": "2023-06-03T10:29:57.989Z"
   },
   {
    "duration": 41,
    "start_time": "2023-06-03T10:30:08.679Z"
   },
   {
    "duration": 3088,
    "start_time": "2023-06-03T10:30:14.350Z"
   },
   {
    "duration": 6604,
    "start_time": "2023-06-03T10:30:51.014Z"
   },
   {
    "duration": 5685,
    "start_time": "2023-06-03T10:31:42.591Z"
   },
   {
    "duration": 5670,
    "start_time": "2023-06-03T10:32:47.001Z"
   },
   {
    "duration": 5613,
    "start_time": "2023-06-03T10:33:03.645Z"
   },
   {
    "duration": 40,
    "start_time": "2023-06-03T14:48:29.250Z"
   },
   {
    "duration": 1013720,
    "start_time": "2023-06-03T15:20:21.304Z"
   },
   {
    "duration": 120922,
    "start_time": "2023-06-03T15:37:44.158Z"
   },
   {
    "duration": 6,
    "start_time": "2023-06-03T15:43:06.810Z"
   },
   {
    "duration": 29,
    "start_time": "2023-06-03T15:43:59.506Z"
   },
   {
    "duration": 87299,
    "start_time": "2023-06-03T15:44:05.364Z"
   },
   {
    "duration": 202,
    "start_time": "2023-06-03T15:50:56.127Z"
   },
   {
    "duration": 37,
    "start_time": "2023-06-03T15:51:00.327Z"
   },
   {
    "duration": 274,
    "start_time": "2023-06-03T15:51:11.956Z"
   },
   {
    "duration": 164,
    "start_time": "2023-06-03T15:54:00.748Z"
   },
   {
    "duration": 10762,
    "start_time": "2023-06-03T15:54:06.287Z"
   },
   {
    "duration": 6073,
    "start_time": "2023-06-03T15:54:37.386Z"
   },
   {
    "duration": 110967,
    "start_time": "2023-06-03T15:54:53.118Z"
   },
   {
    "duration": 234,
    "start_time": "2023-06-03T15:58:34.391Z"
   },
   {
    "duration": 272,
    "start_time": "2023-06-03T15:58:44.249Z"
   },
   {
    "duration": 211,
    "start_time": "2023-06-03T15:59:00.251Z"
   },
   {
    "duration": 162,
    "start_time": "2023-06-03T15:59:06.259Z"
   },
   {
    "duration": 109561,
    "start_time": "2023-06-03T15:59:11.323Z"
   },
   {
    "duration": 2023,
    "start_time": "2023-06-03T17:55:04.702Z"
   },
   {
    "duration": 4390,
    "start_time": "2023-06-03T17:55:06.728Z"
   },
   {
    "duration": 181,
    "start_time": "2023-06-03T17:55:11.119Z"
   },
   {
    "duration": 28,
    "start_time": "2023-06-03T17:55:11.312Z"
   },
   {
    "duration": 109,
    "start_time": "2023-06-03T17:55:11.343Z"
   },
   {
    "duration": 148,
    "start_time": "2023-06-03T17:55:11.454Z"
   },
   {
    "duration": 14,
    "start_time": "2023-06-03T17:55:11.610Z"
   },
   {
    "duration": 485,
    "start_time": "2023-06-03T17:55:11.626Z"
   },
   {
    "duration": 134,
    "start_time": "2023-06-03T17:55:12.113Z"
   },
   {
    "duration": 85,
    "start_time": "2023-06-03T17:55:12.249Z"
   },
   {
    "duration": 69,
    "start_time": "2023-06-03T17:55:12.336Z"
   },
   {
    "duration": 98,
    "start_time": "2023-06-03T17:55:12.413Z"
   },
   {
    "duration": 48,
    "start_time": "2023-06-03T17:55:12.520Z"
   },
   {
    "duration": 73,
    "start_time": "2023-06-03T17:55:12.572Z"
   },
   {
    "duration": 107,
    "start_time": "2023-06-03T17:55:12.647Z"
   },
   {
    "duration": 333,
    "start_time": "2023-06-03T17:55:12.755Z"
   },
   {
    "duration": 13,
    "start_time": "2023-06-03T17:55:13.092Z"
   },
   {
    "duration": 46,
    "start_time": "2023-06-03T17:55:13.110Z"
   },
   {
    "duration": 7,
    "start_time": "2023-06-03T17:55:13.158Z"
   },
   {
    "duration": 52,
    "start_time": "2023-06-03T17:55:13.167Z"
   },
   {
    "duration": 33390,
    "start_time": "2023-06-03T17:55:13.221Z"
   },
   {
    "duration": 10,
    "start_time": "2023-06-03T17:55:46.613Z"
   },
   {
    "duration": 35,
    "start_time": "2023-06-03T17:55:46.625Z"
   },
   {
    "duration": 1424,
    "start_time": "2023-06-03T17:55:46.662Z"
   },
   {
    "duration": 1413,
    "start_time": "2023-06-03T17:55:48.088Z"
   },
   {
    "duration": 6632,
    "start_time": "2023-06-03T17:55:49.506Z"
   },
   {
    "duration": 3,
    "start_time": "2023-06-03T17:55:56.140Z"
   },
   {
    "duration": 141,
    "start_time": "2023-06-03T17:55:56.144Z"
   },
   {
    "duration": 601,
    "start_time": "2023-06-03T17:55:56.287Z"
   },
   {
    "duration": 19,
    "start_time": "2023-06-03T17:55:56.890Z"
   },
   {
    "duration": 36,
    "start_time": "2023-06-03T17:55:56.911Z"
   },
   {
    "duration": 77,
    "start_time": "2023-06-03T17:55:56.949Z"
   },
   {
    "duration": 37,
    "start_time": "2023-06-03T17:55:57.028Z"
   },
   {
    "duration": 132,
    "start_time": "2023-06-03T17:55:57.067Z"
   },
   {
    "duration": 4042,
    "start_time": "2023-06-03T17:55:57.214Z"
   },
   {
    "duration": 86954,
    "start_time": "2023-06-03T17:56:01.258Z"
   },
   {
    "duration": 197,
    "start_time": "2023-06-03T17:57:28.213Z"
   },
   {
    "duration": 6529,
    "start_time": "2023-06-03T18:10:40.407Z"
   },
   {
    "duration": 1572,
    "start_time": "2023-06-03T18:11:31.170Z"
   },
   {
    "duration": 1547,
    "start_time": "2023-06-03T18:11:51.646Z"
   },
   {
    "duration": 29796,
    "start_time": "2023-06-03T18:12:29.870Z"
   },
   {
    "duration": 402,
    "start_time": "2023-06-03T18:13:09.149Z"
   },
   {
    "duration": 66,
    "start_time": "2023-06-04T21:22:08.605Z"
   },
   {
    "duration": 1684,
    "start_time": "2023-06-04T21:22:16.062Z"
   },
   {
    "duration": 1195,
    "start_time": "2023-06-04T21:22:17.748Z"
   },
   {
    "duration": 117,
    "start_time": "2023-06-04T21:22:18.944Z"
   },
   {
    "duration": 16,
    "start_time": "2023-06-04T21:22:19.063Z"
   },
   {
    "duration": 80,
    "start_time": "2023-06-04T21:22:21.982Z"
   },
   {
    "duration": 99,
    "start_time": "2023-06-04T21:22:22.804Z"
   },
   {
    "duration": 1078,
    "start_time": "2023-06-04T21:23:03.067Z"
   },
   {
    "duration": 98,
    "start_time": "2023-06-04T21:23:06.996Z"
   },
   {
    "duration": 102,
    "start_time": "2023-06-04T21:23:12.097Z"
   },
   {
    "duration": 75,
    "start_time": "2023-06-04T21:23:15.503Z"
   },
   {
    "duration": 49,
    "start_time": "2023-06-04T21:23:18.462Z"
   },
   {
    "duration": 52,
    "start_time": "2023-06-04T21:23:19.885Z"
   },
   {
    "duration": 70,
    "start_time": "2023-06-04T21:23:20.452Z"
   },
   {
    "duration": 46,
    "start_time": "2023-06-04T21:23:20.988Z"
   },
   {
    "duration": 50,
    "start_time": "2023-06-04T21:23:23.628Z"
   },
   {
    "duration": 69,
    "start_time": "2023-06-04T21:23:25.375Z"
   },
   {
    "duration": 340,
    "start_time": "2023-06-04T21:23:26.056Z"
   },
   {
    "duration": 13,
    "start_time": "2023-06-04T21:23:28.242Z"
   },
   {
    "duration": 59,
    "start_time": "2023-06-04T21:23:30.254Z"
   },
   {
    "duration": 11,
    "start_time": "2023-06-04T21:23:31.216Z"
   },
   {
    "duration": 120,
    "start_time": "2023-06-04T21:23:36.298Z"
   },
   {
    "duration": 25466,
    "start_time": "2023-06-04T21:24:22.269Z"
   },
   {
    "duration": 137,
    "start_time": "2023-06-05T14:55:15.052Z"
   },
   {
    "duration": 81,
    "start_time": "2023-06-05T14:55:25.596Z"
   },
   {
    "duration": 1788,
    "start_time": "2023-06-05T14:55:29.593Z"
   },
   {
    "duration": 1396,
    "start_time": "2023-06-05T14:55:31.383Z"
   },
   {
    "duration": 124,
    "start_time": "2023-06-05T14:55:32.781Z"
   },
   {
    "duration": 41,
    "start_time": "2023-06-05T14:55:32.908Z"
   },
   {
    "duration": 887,
    "start_time": "2023-06-05T14:55:32.950Z"
   },
   {
    "duration": 106,
    "start_time": "2023-06-05T14:55:33.846Z"
   },
   {
    "duration": 152,
    "start_time": "2023-06-05T14:55:33.953Z"
   },
   {
    "duration": 94,
    "start_time": "2023-06-05T14:55:34.106Z"
   },
   {
    "duration": 88,
    "start_time": "2023-06-05T14:55:34.201Z"
   },
   {
    "duration": 67,
    "start_time": "2023-06-05T14:55:34.292Z"
   },
   {
    "duration": 91,
    "start_time": "2023-06-05T14:55:34.361Z"
   },
   {
    "duration": 44,
    "start_time": "2023-06-05T14:55:34.455Z"
   },
   {
    "duration": 68,
    "start_time": "2023-06-05T14:55:34.501Z"
   },
   {
    "duration": 87,
    "start_time": "2023-06-05T14:55:34.570Z"
   },
   {
    "duration": 330,
    "start_time": "2023-06-05T14:55:34.659Z"
   },
   {
    "duration": 10,
    "start_time": "2023-06-05T14:55:34.991Z"
   },
   {
    "duration": 58,
    "start_time": "2023-06-05T14:55:35.002Z"
   },
   {
    "duration": 12,
    "start_time": "2023-06-05T14:55:35.061Z"
   },
   {
    "duration": 51,
    "start_time": "2023-06-05T14:55:35.074Z"
   },
   {
    "duration": 31939,
    "start_time": "2023-06-05T14:55:35.126Z"
   },
   {
    "duration": 8,
    "start_time": "2023-06-05T14:56:07.066Z"
   },
   {
    "duration": 69,
    "start_time": "2023-06-05T14:56:07.076Z"
   },
   {
    "duration": 1799,
    "start_time": "2023-06-05T14:56:07.149Z"
   },
   {
    "duration": 1811,
    "start_time": "2023-06-05T14:56:08.957Z"
   },
   {
    "duration": 7085,
    "start_time": "2023-06-05T14:56:10.769Z"
   },
   {
    "duration": 4,
    "start_time": "2023-06-05T14:56:17.856Z"
   },
   {
    "duration": 89,
    "start_time": "2023-06-05T14:56:17.861Z"
   },
   {
    "duration": 513,
    "start_time": "2023-06-05T14:56:17.953Z"
   },
   {
    "duration": 13,
    "start_time": "2023-06-05T14:56:18.468Z"
   },
   {
    "duration": 61,
    "start_time": "2023-06-05T14:56:18.482Z"
   },
   {
    "duration": 43,
    "start_time": "2023-06-05T14:56:18.544Z"
   },
   {
    "duration": 22,
    "start_time": "2023-06-05T14:56:18.588Z"
   },
   {
    "duration": 7,
    "start_time": "2023-06-05T14:56:18.626Z"
   },
   {
    "duration": 0,
    "start_time": "2023-06-05T14:56:18.634Z"
   },
   {
    "duration": 0,
    "start_time": "2023-06-05T14:56:18.635Z"
   },
   {
    "duration": 0,
    "start_time": "2023-06-05T14:56:18.636Z"
   },
   {
    "duration": 19,
    "start_time": "2023-06-05T15:12:41.690Z"
   },
   {
    "duration": 92,
    "start_time": "2023-06-05T15:12:42.412Z"
   },
   {
    "duration": 333,
    "start_time": "2023-06-05T16:36:28.419Z"
   },
   {
    "duration": 323,
    "start_time": "2023-06-05T16:36:37.995Z"
   },
   {
    "duration": 394,
    "start_time": "2023-06-05T16:37:05.343Z"
   },
   {
    "duration": 318,
    "start_time": "2023-06-05T16:38:52.045Z"
   },
   {
    "duration": 371,
    "start_time": "2023-06-05T16:40:20.216Z"
   },
   {
    "duration": 321,
    "start_time": "2023-06-05T16:40:27.191Z"
   },
   {
    "duration": 426,
    "start_time": "2023-06-05T16:41:27.304Z"
   },
   {
    "duration": 468,
    "start_time": "2023-06-05T16:42:02.182Z"
   },
   {
    "duration": 91,
    "start_time": "2023-06-05T16:42:19.707Z"
   },
   {
    "duration": 496,
    "start_time": "2023-06-05T16:42:23.290Z"
   },
   {
    "duration": 473,
    "start_time": "2023-06-05T16:43:08.576Z"
   },
   {
    "duration": 1350,
    "start_time": "2023-06-05T16:43:27.973Z"
   },
   {
    "duration": 760,
    "start_time": "2023-06-05T16:43:29.327Z"
   },
   {
    "duration": 130,
    "start_time": "2023-06-05T16:43:30.088Z"
   },
   {
    "duration": 17,
    "start_time": "2023-06-05T16:43:30.220Z"
   },
   {
    "duration": 856,
    "start_time": "2023-06-05T16:43:30.240Z"
   },
   {
    "duration": 91,
    "start_time": "2023-06-05T16:43:31.098Z"
   },
   {
    "duration": 103,
    "start_time": "2023-06-05T16:43:31.190Z"
   },
   {
    "duration": 69,
    "start_time": "2023-06-05T16:43:31.295Z"
   },
   {
    "duration": 78,
    "start_time": "2023-06-05T16:43:31.365Z"
   },
   {
    "duration": 48,
    "start_time": "2023-06-05T16:43:31.444Z"
   },
   {
    "duration": 76,
    "start_time": "2023-06-05T16:43:31.494Z"
   },
   {
    "duration": 63,
    "start_time": "2023-06-05T16:43:31.572Z"
   },
   {
    "duration": 54,
    "start_time": "2023-06-05T16:43:31.636Z"
   },
   {
    "duration": 97,
    "start_time": "2023-06-05T16:43:31.693Z"
   },
   {
    "duration": 313,
    "start_time": "2023-06-05T16:43:31.792Z"
   },
   {
    "duration": 22,
    "start_time": "2023-06-05T16:43:32.106Z"
   },
   {
    "duration": 44,
    "start_time": "2023-06-05T16:43:32.132Z"
   },
   {
    "duration": 7,
    "start_time": "2023-06-05T16:43:32.177Z"
   },
   {
    "duration": 58,
    "start_time": "2023-06-05T16:43:32.185Z"
   },
   {
    "duration": 26825,
    "start_time": "2023-06-05T16:43:32.245Z"
   },
   {
    "duration": 9,
    "start_time": "2023-06-05T16:43:59.072Z"
   },
   {
    "duration": 37,
    "start_time": "2023-06-05T16:43:59.082Z"
   },
   {
    "duration": 1443,
    "start_time": "2023-06-05T16:43:59.121Z"
   },
   {
    "duration": 1413,
    "start_time": "2023-06-05T16:44:00.565Z"
   },
   {
    "duration": 6591,
    "start_time": "2023-06-05T16:44:01.980Z"
   },
   {
    "duration": 3,
    "start_time": "2023-06-05T16:44:08.572Z"
   },
   {
    "duration": 70,
    "start_time": "2023-06-05T16:44:08.576Z"
   },
   {
    "duration": 14,
    "start_time": "2023-06-05T16:44:08.648Z"
   },
   {
    "duration": 128,
    "start_time": "2023-06-05T16:44:08.664Z"
   },
   {
    "duration": 562,
    "start_time": "2023-06-05T16:44:08.794Z"
   },
   {
    "duration": 400,
    "start_time": "2023-06-05T16:44:09.357Z"
   },
   {
    "duration": 0,
    "start_time": "2023-06-05T16:44:09.759Z"
   },
   {
    "duration": 0,
    "start_time": "2023-06-05T16:44:09.760Z"
   },
   {
    "duration": 0,
    "start_time": "2023-06-05T16:44:09.761Z"
   },
   {
    "duration": 0,
    "start_time": "2023-06-05T16:44:09.762Z"
   },
   {
    "duration": 0,
    "start_time": "2023-06-05T16:44:09.764Z"
   },
   {
    "duration": 0,
    "start_time": "2023-06-05T16:44:09.765Z"
   },
   {
    "duration": 456,
    "start_time": "2023-06-05T16:47:53.595Z"
   },
   {
    "duration": 438,
    "start_time": "2023-06-05T16:48:17.784Z"
   },
   {
    "duration": 480,
    "start_time": "2023-06-05T16:48:21.884Z"
   },
   {
    "duration": 34,
    "start_time": "2023-06-05T16:54:13.784Z"
   },
   {
    "duration": 23,
    "start_time": "2023-06-05T16:54:26.982Z"
   },
   {
    "duration": 37,
    "start_time": "2023-06-05T16:57:16.043Z"
   },
   {
    "duration": 40,
    "start_time": "2023-06-05T16:57:36.746Z"
   },
   {
    "duration": 69,
    "start_time": "2023-06-05T17:02:10.919Z"
   },
   {
    "duration": 62,
    "start_time": "2023-06-05T17:06:06.838Z"
   },
   {
    "duration": 1341,
    "start_time": "2023-06-05T17:08:21.990Z"
   },
   {
    "duration": 710,
    "start_time": "2023-06-05T17:08:23.332Z"
   },
   {
    "duration": 113,
    "start_time": "2023-06-05T17:08:24.045Z"
   },
   {
    "duration": 13,
    "start_time": "2023-06-05T17:08:24.160Z"
   },
   {
    "duration": 785,
    "start_time": "2023-06-05T17:08:24.175Z"
   },
   {
    "duration": 89,
    "start_time": "2023-06-05T17:08:24.961Z"
   },
   {
    "duration": 101,
    "start_time": "2023-06-05T17:08:25.052Z"
   },
   {
    "duration": 73,
    "start_time": "2023-06-05T17:08:25.155Z"
   },
   {
    "duration": 67,
    "start_time": "2023-06-05T17:08:25.230Z"
   },
   {
    "duration": 62,
    "start_time": "2023-06-05T17:08:25.299Z"
   },
   {
    "duration": 93,
    "start_time": "2023-06-05T17:08:25.363Z"
   },
   {
    "duration": 43,
    "start_time": "2023-06-05T17:08:25.457Z"
   },
   {
    "duration": 44,
    "start_time": "2023-06-05T17:08:25.518Z"
   },
   {
    "duration": 80,
    "start_time": "2023-06-05T17:08:25.563Z"
   },
   {
    "duration": 283,
    "start_time": "2023-06-05T17:08:25.644Z"
   },
   {
    "duration": 12,
    "start_time": "2023-06-05T17:08:25.929Z"
   },
   {
    "duration": 37,
    "start_time": "2023-06-05T17:08:25.942Z"
   },
   {
    "duration": 8,
    "start_time": "2023-06-05T17:08:25.980Z"
   },
   {
    "duration": 52,
    "start_time": "2023-06-05T17:08:25.989Z"
   },
   {
    "duration": 23481,
    "start_time": "2023-06-05T17:08:26.042Z"
   },
   {
    "duration": 7,
    "start_time": "2023-06-05T17:08:49.524Z"
   },
   {
    "duration": 29,
    "start_time": "2023-06-05T17:08:49.532Z"
   },
   {
    "duration": 1211,
    "start_time": "2023-06-05T17:08:49.562Z"
   },
   {
    "duration": 1299,
    "start_time": "2023-06-05T17:08:50.774Z"
   },
   {
    "duration": 5597,
    "start_time": "2023-06-05T17:08:52.075Z"
   },
   {
    "duration": 2,
    "start_time": "2023-06-05T17:08:57.673Z"
   },
   {
    "duration": 64,
    "start_time": "2023-06-05T17:08:57.676Z"
   },
   {
    "duration": 11,
    "start_time": "2023-06-05T17:08:57.742Z"
   },
   {
    "duration": 93,
    "start_time": "2023-06-05T17:08:57.755Z"
   },
   {
    "duration": 428,
    "start_time": "2023-06-05T17:08:57.850Z"
   },
   {
    "duration": 453,
    "start_time": "2023-06-05T17:08:58.280Z"
   },
   {
    "duration": 85,
    "start_time": "2023-06-05T17:08:58.735Z"
   },
   {
    "duration": 67,
    "start_time": "2023-06-05T17:08:58.821Z"
   },
   {
    "duration": 4,
    "start_time": "2023-06-05T17:08:58.889Z"
   },
   {
    "duration": 0,
    "start_time": "2023-06-05T17:08:58.894Z"
   },
   {
    "duration": 0,
    "start_time": "2023-06-05T17:08:58.915Z"
   },
   {
    "duration": 0,
    "start_time": "2023-06-05T17:08:58.916Z"
   },
   {
    "duration": 119,
    "start_time": "2023-06-05T17:11:49.405Z"
   },
   {
    "duration": 6,
    "start_time": "2023-06-05T17:13:18.350Z"
   },
   {
    "duration": 5,
    "start_time": "2023-06-05T17:14:37.696Z"
   },
   {
    "duration": 1421,
    "start_time": "2023-06-05T17:14:44.339Z"
   },
   {
    "duration": 725,
    "start_time": "2023-06-05T17:14:45.762Z"
   },
   {
    "duration": 118,
    "start_time": "2023-06-05T17:14:46.489Z"
   },
   {
    "duration": 16,
    "start_time": "2023-06-05T17:14:46.609Z"
   },
   {
    "duration": 794,
    "start_time": "2023-06-05T17:14:46.626Z"
   },
   {
    "duration": 82,
    "start_time": "2023-06-05T17:14:47.422Z"
   },
   {
    "duration": 88,
    "start_time": "2023-06-05T17:14:47.515Z"
   },
   {
    "duration": 64,
    "start_time": "2023-06-05T17:14:47.615Z"
   },
   {
    "duration": 48,
    "start_time": "2023-06-05T17:14:47.680Z"
   },
   {
    "duration": 39,
    "start_time": "2023-06-05T17:14:47.731Z"
   },
   {
    "duration": 77,
    "start_time": "2023-06-05T17:14:47.772Z"
   },
   {
    "duration": 42,
    "start_time": "2023-06-05T17:14:47.851Z"
   },
   {
    "duration": 104,
    "start_time": "2023-06-05T17:14:47.895Z"
   },
   {
    "duration": 65,
    "start_time": "2023-06-05T17:14:48.001Z"
   },
   {
    "duration": 277,
    "start_time": "2023-06-05T17:14:48.068Z"
   },
   {
    "duration": 11,
    "start_time": "2023-06-05T17:14:48.346Z"
   },
   {
    "duration": 42,
    "start_time": "2023-06-05T17:14:48.358Z"
   },
   {
    "duration": 17,
    "start_time": "2023-06-05T17:14:48.402Z"
   },
   {
    "duration": 31,
    "start_time": "2023-06-05T17:14:48.420Z"
   },
   {
    "duration": 24602,
    "start_time": "2023-06-05T17:14:48.453Z"
   },
   {
    "duration": 8,
    "start_time": "2023-06-05T17:15:13.056Z"
   },
   {
    "duration": 45,
    "start_time": "2023-06-05T17:15:13.066Z"
   },
   {
    "duration": 1356,
    "start_time": "2023-06-05T17:15:13.112Z"
   },
   {
    "duration": 1307,
    "start_time": "2023-06-05T17:15:14.470Z"
   },
   {
    "duration": 5773,
    "start_time": "2023-06-05T17:15:15.778Z"
   },
   {
    "duration": 3,
    "start_time": "2023-06-05T17:15:21.553Z"
   },
   {
    "duration": 69,
    "start_time": "2023-06-05T17:15:21.557Z"
   },
   {
    "duration": 12,
    "start_time": "2023-06-05T17:15:21.629Z"
   },
   {
    "duration": 88,
    "start_time": "2023-06-05T17:15:21.642Z"
   },
   {
    "duration": 415,
    "start_time": "2023-06-05T17:15:21.732Z"
   },
   {
    "duration": 452,
    "start_time": "2023-06-05T17:15:22.148Z"
   },
   {
    "duration": 81,
    "start_time": "2023-06-05T17:15:22.601Z"
   },
   {
    "duration": 86,
    "start_time": "2023-06-05T17:15:22.683Z"
   },
   {
    "duration": 136,
    "start_time": "2023-06-05T17:15:22.770Z"
   },
   {
    "duration": 3,
    "start_time": "2023-06-05T17:15:22.915Z"
   },
   {
    "duration": 0,
    "start_time": "2023-06-05T17:15:22.920Z"
   },
   {
    "duration": 0,
    "start_time": "2023-06-05T17:15:22.922Z"
   },
   {
    "duration": 0,
    "start_time": "2023-06-05T17:15:22.923Z"
   },
   {
    "duration": 231,
    "start_time": "2023-06-05T17:18:19.791Z"
   },
   {
    "duration": 15424,
    "start_time": "2023-06-05T17:18:46.516Z"
   },
   {
    "duration": 4,
    "start_time": "2023-06-05T17:37:19.650Z"
   },
   {
    "duration": 5,
    "start_time": "2023-06-05T17:37:48.686Z"
   },
   {
    "duration": 10,
    "start_time": "2023-06-05T17:38:19.502Z"
   },
   {
    "duration": 4,
    "start_time": "2023-06-05T17:38:29.547Z"
   },
   {
    "duration": 101,
    "start_time": "2023-06-05T17:40:04.586Z"
   },
   {
    "duration": 102,
    "start_time": "2023-06-05T17:40:07.899Z"
   },
   {
    "duration": 64,
    "start_time": "2023-06-05T17:40:31.889Z"
   },
   {
    "duration": 431,
    "start_time": "2023-06-05T17:40:34.542Z"
   },
   {
    "duration": 440,
    "start_time": "2023-06-05T17:40:35.906Z"
   },
   {
    "duration": 72,
    "start_time": "2023-06-05T17:40:36.710Z"
   },
   {
    "duration": 59,
    "start_time": "2023-06-05T17:40:41.615Z"
   },
   {
    "duration": 98,
    "start_time": "2023-06-05T17:40:43.740Z"
   },
   {
    "duration": 102,
    "start_time": "2023-06-05T17:41:07.320Z"
   },
   {
    "duration": 68,
    "start_time": "2023-06-05T17:41:13.652Z"
   },
   {
    "duration": 125,
    "start_time": "2023-06-05T17:41:22.910Z"
   },
   {
    "duration": 124,
    "start_time": "2023-06-05T17:41:38.938Z"
   },
   {
    "duration": 69,
    "start_time": "2023-06-05T17:41:52.439Z"
   },
   {
    "duration": 138,
    "start_time": "2023-06-05T17:41:59.490Z"
   },
   {
    "duration": 4,
    "start_time": "2023-06-05T17:42:44.802Z"
   },
   {
    "duration": 5,
    "start_time": "2023-06-05T17:42:45.959Z"
   },
   {
    "duration": 64,
    "start_time": "2023-06-05T17:43:13.447Z"
   },
   {
    "duration": 425,
    "start_time": "2023-06-05T17:43:19.110Z"
   },
   {
    "duration": 439,
    "start_time": "2023-06-05T17:43:19.797Z"
   },
   {
    "duration": 73,
    "start_time": "2023-06-05T17:43:20.557Z"
   },
   {
    "duration": 61,
    "start_time": "2023-06-05T17:43:22.897Z"
   },
   {
    "duration": 1356,
    "start_time": "2023-06-05T17:43:31.293Z"
   },
   {
    "duration": 730,
    "start_time": "2023-06-05T17:43:32.652Z"
   },
   {
    "duration": 105,
    "start_time": "2023-06-05T17:43:33.384Z"
   },
   {
    "duration": 54,
    "start_time": "2023-06-05T17:43:33.491Z"
   },
   {
    "duration": 826,
    "start_time": "2023-06-05T17:43:33.547Z"
   },
   {
    "duration": 92,
    "start_time": "2023-06-05T17:43:34.374Z"
   },
   {
    "duration": 94,
    "start_time": "2023-06-05T17:43:34.468Z"
   },
   {
    "duration": 70,
    "start_time": "2023-06-05T17:43:34.563Z"
   },
   {
    "duration": 43,
    "start_time": "2023-06-05T17:43:34.634Z"
   },
   {
    "duration": 55,
    "start_time": "2023-06-05T17:43:34.679Z"
   },
   {
    "duration": 84,
    "start_time": "2023-06-05T17:43:34.736Z"
   },
   {
    "duration": 43,
    "start_time": "2023-06-05T17:43:34.822Z"
   },
   {
    "duration": 72,
    "start_time": "2023-06-05T17:43:34.867Z"
   },
   {
    "duration": 76,
    "start_time": "2023-06-05T17:43:34.942Z"
   },
   {
    "duration": 281,
    "start_time": "2023-06-05T17:43:35.020Z"
   },
   {
    "duration": 14,
    "start_time": "2023-06-05T17:43:35.302Z"
   },
   {
    "duration": 50,
    "start_time": "2023-06-05T17:43:35.317Z"
   },
   {
    "duration": 7,
    "start_time": "2023-06-05T17:43:35.368Z"
   },
   {
    "duration": 51,
    "start_time": "2023-06-05T17:43:35.377Z"
   },
   {
    "duration": 25067,
    "start_time": "2023-06-05T17:43:35.431Z"
   },
   {
    "duration": 16,
    "start_time": "2023-06-05T17:44:00.500Z"
   },
   {
    "duration": 32,
    "start_time": "2023-06-05T17:44:00.518Z"
   },
   {
    "duration": 1255,
    "start_time": "2023-06-05T17:44:00.551Z"
   },
   {
    "duration": 1312,
    "start_time": "2023-06-05T17:44:01.808Z"
   },
   {
    "duration": 6065,
    "start_time": "2023-06-05T17:44:03.122Z"
   },
   {
    "duration": 4,
    "start_time": "2023-06-05T17:44:09.188Z"
   },
   {
    "duration": 73,
    "start_time": "2023-06-05T17:44:09.193Z"
   },
   {
    "duration": 14,
    "start_time": "2023-06-05T17:44:09.268Z"
   },
   {
    "duration": 86,
    "start_time": "2023-06-05T17:44:09.283Z"
   },
   {
    "duration": 431,
    "start_time": "2023-06-05T17:44:09.371Z"
   },
   {
    "duration": 476,
    "start_time": "2023-06-05T17:44:09.804Z"
   },
   {
    "duration": 85,
    "start_time": "2023-06-05T17:44:10.282Z"
   },
   {
    "duration": 83,
    "start_time": "2023-06-05T17:44:10.368Z"
   },
   {
    "duration": 142,
    "start_time": "2023-06-05T17:44:10.453Z"
   },
   {
    "duration": 4,
    "start_time": "2023-06-05T17:44:10.597Z"
   },
   {
    "duration": 16,
    "start_time": "2023-06-05T17:44:10.602Z"
   },
   {
    "duration": 13031,
    "start_time": "2023-06-05T17:44:10.619Z"
   },
   {
    "duration": 6,
    "start_time": "2023-06-05T17:44:23.651Z"
   },
   {
    "duration": 0,
    "start_time": "2023-06-05T17:44:23.659Z"
   },
   {
    "duration": 0,
    "start_time": "2023-06-05T17:44:23.661Z"
   },
   {
    "duration": 65,
    "start_time": "2023-06-05T17:45:38.850Z"
   },
   {
    "duration": 131,
    "start_time": "2023-06-05T17:45:44.547Z"
   },
   {
    "duration": 67,
    "start_time": "2023-06-05T17:45:56.594Z"
   },
   {
    "duration": 2866,
    "start_time": "2023-06-05T17:47:47.752Z"
   },
   {
    "duration": 86,
    "start_time": "2023-06-05T17:48:50.695Z"
   },
   {
    "duration": 5,
    "start_time": "2023-06-05T17:48:53.098Z"
   },
   {
    "duration": 95,
    "start_time": "2023-06-05T17:49:10.055Z"
   },
   {
    "duration": 143,
    "start_time": "2023-06-05T17:50:42.450Z"
   },
   {
    "duration": 91,
    "start_time": "2023-06-05T17:50:51.293Z"
   },
   {
    "duration": 128,
    "start_time": "2023-06-05T17:50:58.701Z"
   },
   {
    "duration": 12,
    "start_time": "2023-06-05T17:52:35.118Z"
   },
   {
    "duration": 3,
    "start_time": "2023-06-05T17:53:08.697Z"
   },
   {
    "duration": 4,
    "start_time": "2023-06-05T17:53:15.548Z"
   },
   {
    "duration": 20,
    "start_time": "2023-06-05T17:53:17.851Z"
   },
   {
    "duration": 13,
    "start_time": "2023-06-05T19:05:21.478Z"
   },
   {
    "duration": 3,
    "start_time": "2023-06-05T19:06:08.444Z"
   },
   {
    "duration": 20,
    "start_time": "2023-06-05T19:06:14.490Z"
   },
   {
    "duration": 1397,
    "start_time": "2023-06-05T20:09:42.778Z"
   },
   {
    "duration": 706,
    "start_time": "2023-06-05T20:09:44.177Z"
   },
   {
    "duration": 114,
    "start_time": "2023-06-05T20:09:44.885Z"
   },
   {
    "duration": 22,
    "start_time": "2023-06-05T20:09:45.000Z"
   },
   {
    "duration": 881,
    "start_time": "2023-06-05T20:09:45.023Z"
   },
   {
    "duration": 84,
    "start_time": "2023-06-05T20:09:45.905Z"
   },
   {
    "duration": 100,
    "start_time": "2023-06-05T20:09:45.990Z"
   },
   {
    "duration": 79,
    "start_time": "2023-06-05T20:09:46.091Z"
   },
   {
    "duration": 56,
    "start_time": "2023-06-05T20:09:46.171Z"
   },
   {
    "duration": 43,
    "start_time": "2023-06-05T20:09:46.229Z"
   },
   {
    "duration": 84,
    "start_time": "2023-06-05T20:09:46.274Z"
   },
   {
    "duration": 57,
    "start_time": "2023-06-05T20:09:46.360Z"
   },
   {
    "duration": 44,
    "start_time": "2023-06-05T20:09:46.419Z"
   },
   {
    "duration": 77,
    "start_time": "2023-06-05T20:09:46.464Z"
   },
   {
    "duration": 280,
    "start_time": "2023-06-05T20:09:46.542Z"
   },
   {
    "duration": 17,
    "start_time": "2023-06-05T20:09:46.823Z"
   },
   {
    "duration": 41,
    "start_time": "2023-06-05T20:09:46.842Z"
   },
   {
    "duration": 7,
    "start_time": "2023-06-05T20:09:46.884Z"
   },
   {
    "duration": 49,
    "start_time": "2023-06-05T20:09:46.892Z"
   },
   {
    "duration": 23469,
    "start_time": "2023-06-05T20:09:46.943Z"
   },
   {
    "duration": 6,
    "start_time": "2023-06-05T20:10:10.415Z"
   },
   {
    "duration": 32,
    "start_time": "2023-06-05T20:10:10.422Z"
   },
   {
    "duration": 1221,
    "start_time": "2023-06-05T20:10:10.456Z"
   },
   {
    "duration": 1194,
    "start_time": "2023-06-05T20:10:11.678Z"
   },
   {
    "duration": 5707,
    "start_time": "2023-06-05T20:10:12.874Z"
   },
   {
    "duration": 3,
    "start_time": "2023-06-05T20:10:18.582Z"
   },
   {
    "duration": 67,
    "start_time": "2023-06-05T20:10:18.586Z"
   },
   {
    "duration": 19,
    "start_time": "2023-06-05T20:10:18.655Z"
   },
   {
    "duration": 92,
    "start_time": "2023-06-05T20:10:18.676Z"
   },
   {
    "duration": 416,
    "start_time": "2023-06-05T20:10:18.769Z"
   },
   {
    "duration": 467,
    "start_time": "2023-06-05T20:10:19.187Z"
   },
   {
    "duration": 113,
    "start_time": "2023-06-05T20:10:19.655Z"
   },
   {
    "duration": 0,
    "start_time": "2023-06-05T20:10:19.770Z"
   },
   {
    "duration": 0,
    "start_time": "2023-06-05T20:10:19.771Z"
   },
   {
    "duration": 0,
    "start_time": "2023-06-05T20:10:19.772Z"
   },
   {
    "duration": 0,
    "start_time": "2023-06-05T20:10:19.773Z"
   },
   {
    "duration": 0,
    "start_time": "2023-06-05T20:10:19.774Z"
   },
   {
    "duration": 0,
    "start_time": "2023-06-05T20:10:19.774Z"
   },
   {
    "duration": 0,
    "start_time": "2023-06-05T20:10:19.775Z"
   },
   {
    "duration": 4,
    "start_time": "2023-06-05T20:10:46.093Z"
   },
   {
    "duration": 4,
    "start_time": "2023-06-05T20:10:47.261Z"
   },
   {
    "duration": 9,
    "start_time": "2023-06-05T20:21:40.951Z"
   },
   {
    "duration": 9,
    "start_time": "2023-06-05T20:21:54.614Z"
   },
   {
    "duration": 8,
    "start_time": "2023-06-05T20:22:03.103Z"
   },
   {
    "duration": 28,
    "start_time": "2023-06-05T20:22:31.305Z"
   },
   {
    "duration": 26,
    "start_time": "2023-06-05T20:23:51.062Z"
   },
   {
    "duration": 28,
    "start_time": "2023-06-05T20:24:02.206Z"
   },
   {
    "duration": 1315,
    "start_time": "2023-06-05T20:24:06.781Z"
   },
   {
    "duration": 749,
    "start_time": "2023-06-05T20:24:08.098Z"
   },
   {
    "duration": 200,
    "start_time": "2023-06-05T20:24:08.849Z"
   },
   {
    "duration": 19,
    "start_time": "2023-06-05T20:24:09.052Z"
   },
   {
    "duration": 839,
    "start_time": "2023-06-05T20:24:09.073Z"
   },
   {
    "duration": 86,
    "start_time": "2023-06-05T20:24:09.915Z"
   },
   {
    "duration": 100,
    "start_time": "2023-06-05T20:24:10.002Z"
   },
   {
    "duration": 73,
    "start_time": "2023-06-05T20:24:10.104Z"
   },
   {
    "duration": 63,
    "start_time": "2023-06-05T20:24:10.178Z"
   },
   {
    "duration": 41,
    "start_time": "2023-06-05T20:24:10.243Z"
   },
   {
    "duration": 81,
    "start_time": "2023-06-05T20:24:10.285Z"
   },
   {
    "duration": 55,
    "start_time": "2023-06-05T20:24:10.367Z"
   },
   {
    "duration": 45,
    "start_time": "2023-06-05T20:24:10.426Z"
   },
   {
    "duration": 73,
    "start_time": "2023-06-05T20:24:10.472Z"
   },
   {
    "duration": 288,
    "start_time": "2023-06-05T20:24:10.546Z"
   },
   {
    "duration": 11,
    "start_time": "2023-06-05T20:24:10.835Z"
   },
   {
    "duration": 37,
    "start_time": "2023-06-05T20:24:10.848Z"
   },
   {
    "duration": 7,
    "start_time": "2023-06-05T20:24:10.887Z"
   },
   {
    "duration": 35,
    "start_time": "2023-06-05T20:24:10.915Z"
   },
   {
    "duration": 25394,
    "start_time": "2023-06-05T20:24:10.952Z"
   },
   {
    "duration": 7,
    "start_time": "2023-06-05T20:24:36.347Z"
   },
   {
    "duration": 26,
    "start_time": "2023-06-05T20:24:36.356Z"
   },
   {
    "duration": 1226,
    "start_time": "2023-06-05T20:24:36.383Z"
   },
   {
    "duration": 1323,
    "start_time": "2023-06-05T20:24:37.611Z"
   },
   {
    "duration": 5778,
    "start_time": "2023-06-05T20:24:38.936Z"
   },
   {
    "duration": 3,
    "start_time": "2023-06-05T20:24:44.715Z"
   },
   {
    "duration": 76,
    "start_time": "2023-06-05T20:24:44.719Z"
   },
   {
    "duration": 12,
    "start_time": "2023-06-05T20:24:44.799Z"
   },
   {
    "duration": 96,
    "start_time": "2023-06-05T20:24:44.813Z"
   },
   {
    "duration": 439,
    "start_time": "2023-06-05T20:24:44.910Z"
   },
   {
    "duration": 524,
    "start_time": "2023-06-05T20:24:45.351Z"
   },
   {
    "duration": 5,
    "start_time": "2023-06-05T20:24:45.877Z"
   },
   {
    "duration": 6,
    "start_time": "2023-06-05T20:24:45.884Z"
   },
   {
    "duration": 50,
    "start_time": "2023-06-05T20:24:45.892Z"
   },
   {
    "duration": 91,
    "start_time": "2023-06-05T20:24:45.944Z"
   },
   {
    "duration": 65,
    "start_time": "2023-06-05T20:24:46.036Z"
   },
   {
    "duration": 141,
    "start_time": "2023-06-05T20:24:46.102Z"
   },
   {
    "duration": 37994,
    "start_time": "2023-06-05T20:24:46.245Z"
   },
   {
    "duration": 2864,
    "start_time": "2023-06-05T20:25:24.241Z"
   },
   {
    "duration": 46,
    "start_time": "2023-06-05T20:25:27.106Z"
   },
   {
    "duration": 0,
    "start_time": "2023-06-05T20:25:27.153Z"
   },
   {
    "duration": 312,
    "start_time": "2023-06-05T20:25:34.230Z"
   },
   {
    "duration": 25,
    "start_time": "2023-06-05T20:26:24.671Z"
   },
   {
    "duration": 450,
    "start_time": "2023-06-05T20:26:36.827Z"
   },
   {
    "duration": 1359,
    "start_time": "2023-06-05T20:26:45.208Z"
   },
   {
    "duration": 764,
    "start_time": "2023-06-05T20:26:46.569Z"
   },
   {
    "duration": 120,
    "start_time": "2023-06-05T20:26:47.334Z"
   },
   {
    "duration": 14,
    "start_time": "2023-06-05T20:26:47.455Z"
   },
   {
    "duration": 899,
    "start_time": "2023-06-05T20:26:47.471Z"
   },
   {
    "duration": 91,
    "start_time": "2023-06-05T20:26:48.372Z"
   },
   {
    "duration": 100,
    "start_time": "2023-06-05T20:26:48.464Z"
   },
   {
    "duration": 83,
    "start_time": "2023-06-05T20:26:48.566Z"
   },
   {
    "duration": 49,
    "start_time": "2023-06-05T20:26:48.650Z"
   },
   {
    "duration": 57,
    "start_time": "2023-06-05T20:26:48.701Z"
   },
   {
    "duration": 82,
    "start_time": "2023-06-05T20:26:48.759Z"
   },
   {
    "duration": 39,
    "start_time": "2023-06-05T20:26:48.843Z"
   },
   {
    "duration": 68,
    "start_time": "2023-06-05T20:26:48.883Z"
   },
   {
    "duration": 80,
    "start_time": "2023-06-05T20:26:48.954Z"
   },
   {
    "duration": 266,
    "start_time": "2023-06-05T20:26:49.036Z"
   },
   {
    "duration": 31,
    "start_time": "2023-06-05T20:26:49.303Z"
   },
   {
    "duration": 49,
    "start_time": "2023-06-05T20:26:49.337Z"
   },
   {
    "duration": 10,
    "start_time": "2023-06-05T20:26:49.388Z"
   },
   {
    "duration": 49,
    "start_time": "2023-06-05T20:26:49.399Z"
   },
   {
    "duration": 26325,
    "start_time": "2023-06-05T20:26:49.450Z"
   },
   {
    "duration": 10,
    "start_time": "2023-06-05T20:27:15.777Z"
   },
   {
    "duration": 44,
    "start_time": "2023-06-05T20:27:15.788Z"
   },
   {
    "duration": 1291,
    "start_time": "2023-06-05T20:27:15.834Z"
   },
   {
    "duration": 1325,
    "start_time": "2023-06-05T20:27:17.130Z"
   },
   {
    "duration": 5923,
    "start_time": "2023-06-05T20:27:18.457Z"
   },
   {
    "duration": 3,
    "start_time": "2023-06-05T20:27:24.381Z"
   },
   {
    "duration": 88,
    "start_time": "2023-06-05T20:27:24.386Z"
   },
   {
    "duration": 27,
    "start_time": "2023-06-05T20:27:24.476Z"
   },
   {
    "duration": 86,
    "start_time": "2023-06-05T20:27:24.504Z"
   },
   {
    "duration": 439,
    "start_time": "2023-06-05T20:27:24.591Z"
   },
   {
    "duration": 469,
    "start_time": "2023-06-05T20:27:25.032Z"
   },
   {
    "duration": 23,
    "start_time": "2023-06-05T20:27:25.502Z"
   },
   {
    "duration": 31,
    "start_time": "2023-06-05T20:27:25.526Z"
   },
   {
    "duration": 45,
    "start_time": "2023-06-05T20:27:25.558Z"
   },
   {
    "duration": 525,
    "start_time": "2023-06-05T20:27:25.604Z"
   },
   {
    "duration": 63,
    "start_time": "2023-06-05T20:27:26.132Z"
   },
   {
    "duration": 84,
    "start_time": "2023-06-05T20:27:26.196Z"
   },
   {
    "duration": 150,
    "start_time": "2023-06-05T20:27:26.281Z"
   },
   {
    "duration": 39340,
    "start_time": "2023-06-05T20:27:26.432Z"
   },
   {
    "duration": 2805,
    "start_time": "2023-06-05T20:28:05.774Z"
   },
   {
    "duration": 24,
    "start_time": "2023-06-05T20:28:08.582Z"
   },
   {
    "duration": 22,
    "start_time": "2023-06-05T20:46:59.975Z"
   },
   {
    "duration": 1373,
    "start_time": "2023-06-05T20:48:23.911Z"
   },
   {
    "duration": 821,
    "start_time": "2023-06-05T20:48:25.286Z"
   },
   {
    "duration": 138,
    "start_time": "2023-06-05T20:48:26.108Z"
   },
   {
    "duration": 14,
    "start_time": "2023-06-05T20:48:26.248Z"
   },
   {
    "duration": 928,
    "start_time": "2023-06-05T20:48:26.264Z"
   },
   {
    "duration": 104,
    "start_time": "2023-06-05T20:48:27.193Z"
   },
   {
    "duration": 102,
    "start_time": "2023-06-05T20:48:27.298Z"
   },
   {
    "duration": 84,
    "start_time": "2023-06-05T20:48:27.402Z"
   },
   {
    "duration": 59,
    "start_time": "2023-06-05T20:48:27.487Z"
   },
   {
    "duration": 42,
    "start_time": "2023-06-05T20:48:27.549Z"
   },
   {
    "duration": 94,
    "start_time": "2023-06-05T20:48:27.593Z"
   },
   {
    "duration": 63,
    "start_time": "2023-06-05T20:48:27.688Z"
   },
   {
    "duration": 44,
    "start_time": "2023-06-05T20:48:27.752Z"
   },
   {
    "duration": 100,
    "start_time": "2023-06-05T20:48:27.797Z"
   },
   {
    "duration": 299,
    "start_time": "2023-06-05T20:48:27.898Z"
   },
   {
    "duration": 23,
    "start_time": "2023-06-05T20:48:28.200Z"
   },
   {
    "duration": 44,
    "start_time": "2023-06-05T20:48:28.225Z"
   },
   {
    "duration": 7,
    "start_time": "2023-06-05T20:48:28.271Z"
   },
   {
    "duration": 39,
    "start_time": "2023-06-05T20:48:28.279Z"
   },
   {
    "duration": 29322,
    "start_time": "2023-06-05T20:48:28.320Z"
   },
   {
    "duration": 7,
    "start_time": "2023-06-05T20:48:57.644Z"
   },
   {
    "duration": 23,
    "start_time": "2023-06-05T20:48:57.653Z"
   },
   {
    "duration": 1352,
    "start_time": "2023-06-05T20:48:57.677Z"
   },
   {
    "duration": 1447,
    "start_time": "2023-06-05T20:48:59.034Z"
   },
   {
    "duration": 6271,
    "start_time": "2023-06-05T20:49:00.483Z"
   },
   {
    "duration": 3,
    "start_time": "2023-06-05T20:49:06.755Z"
   },
   {
    "duration": 82,
    "start_time": "2023-06-05T20:49:06.760Z"
   },
   {
    "duration": 14,
    "start_time": "2023-06-05T20:49:06.846Z"
   },
   {
    "duration": 101,
    "start_time": "2023-06-05T20:49:06.861Z"
   },
   {
    "duration": 468,
    "start_time": "2023-06-05T20:49:06.964Z"
   },
   {
    "duration": 515,
    "start_time": "2023-06-05T20:49:07.434Z"
   },
   {
    "duration": 4,
    "start_time": "2023-06-05T20:49:07.951Z"
   },
   {
    "duration": 6,
    "start_time": "2023-06-05T20:49:07.956Z"
   },
   {
    "duration": 93,
    "start_time": "2023-06-05T20:49:07.963Z"
   },
   {
    "duration": 101,
    "start_time": "2023-06-05T20:49:08.058Z"
   },
   {
    "duration": 129,
    "start_time": "2023-06-05T20:49:08.161Z"
   },
   {
    "duration": 28603,
    "start_time": "2023-06-05T20:49:08.292Z"
   },
   {
    "duration": 2985,
    "start_time": "2023-06-05T20:49:36.896Z"
   },
   {
    "duration": 22,
    "start_time": "2023-06-05T20:49:39.882Z"
   },
   {
    "duration": 12,
    "start_time": "2023-06-05T20:54:26.543Z"
   },
   {
    "duration": 3,
    "start_time": "2023-06-05T20:54:36.096Z"
   },
   {
    "duration": 20,
    "start_time": "2023-06-05T20:54:39.590Z"
   },
   {
    "duration": 33,
    "start_time": "2023-06-05T20:55:01.102Z"
   },
   {
    "duration": 9,
    "start_time": "2023-06-05T20:57:53.438Z"
   },
   {
    "duration": 44,
    "start_time": "2023-06-05T20:58:01.582Z"
   },
   {
    "duration": 31,
    "start_time": "2023-06-05T20:58:10.576Z"
   },
   {
    "duration": 101,
    "start_time": "2023-06-05T20:59:43.039Z"
   },
   {
    "duration": 75,
    "start_time": "2023-06-05T20:59:56.238Z"
   },
   {
    "duration": 41,
    "start_time": "2023-06-05T21:00:01.079Z"
   },
   {
    "duration": 114,
    "start_time": "2023-06-05T21:04:37.834Z"
   },
   {
    "duration": 20,
    "start_time": "2023-06-05T21:04:43.468Z"
   },
   {
    "duration": 21,
    "start_time": "2023-06-05T21:06:16.072Z"
   },
   {
    "duration": 3,
    "start_time": "2023-06-05T21:06:30.546Z"
   },
   {
    "duration": 21,
    "start_time": "2023-06-05T21:06:38.269Z"
   },
   {
    "duration": 66,
    "start_time": "2023-06-05T21:09:43.738Z"
   },
   {
    "duration": 755163,
    "start_time": "2023-06-05T21:09:53.167Z"
   },
   {
    "duration": 1000586,
    "start_time": "2023-06-05T21:22:46.132Z"
   },
   {
    "duration": 19,
    "start_time": "2023-06-05T21:43:36.153Z"
   },
   {
    "duration": 33,
    "start_time": "2023-06-05T21:44:05.783Z"
   },
   {
    "duration": 763,
    "start_time": "2023-06-05T21:44:07.854Z"
   },
   {
    "duration": 728,
    "start_time": "2023-06-05T21:44:51.615Z"
   },
   {
    "duration": 652,
    "start_time": "2023-06-05T21:45:10.086Z"
   },
   {
    "duration": 720,
    "start_time": "2023-06-05T21:45:31.414Z"
   },
   {
    "duration": 27232,
    "start_time": "2023-06-05T21:45:34.793Z"
   },
   {
    "duration": 34,
    "start_time": "2023-06-05T21:47:16.059Z"
   },
   {
    "duration": 2,
    "start_time": "2023-06-05T21:54:25.970Z"
   },
   {
    "duration": 5,
    "start_time": "2023-06-05T21:55:07.988Z"
   },
   {
    "duration": 8,
    "start_time": "2023-06-05T21:55:24.205Z"
   },
   {
    "duration": 20,
    "start_time": "2023-06-05T21:55:46.158Z"
   },
   {
    "duration": 1333,
    "start_time": "2023-06-05T21:55:54.365Z"
   },
   {
    "duration": 719,
    "start_time": "2023-06-05T21:55:55.700Z"
   },
   {
    "duration": 116,
    "start_time": "2023-06-05T21:55:56.420Z"
   },
   {
    "duration": 15,
    "start_time": "2023-06-05T21:55:56.538Z"
   },
   {
    "duration": 841,
    "start_time": "2023-06-05T21:55:56.554Z"
   },
   {
    "duration": 99,
    "start_time": "2023-06-05T21:55:57.397Z"
   },
   {
    "duration": 96,
    "start_time": "2023-06-05T21:55:57.497Z"
   },
   {
    "duration": 78,
    "start_time": "2023-06-05T21:55:57.595Z"
   },
   {
    "duration": 50,
    "start_time": "2023-06-05T21:55:57.674Z"
   },
   {
    "duration": 43,
    "start_time": "2023-06-05T21:55:57.726Z"
   },
   {
    "duration": 81,
    "start_time": "2023-06-05T21:55:57.770Z"
   },
   {
    "duration": 48,
    "start_time": "2023-06-05T21:55:57.852Z"
   },
   {
    "duration": 49,
    "start_time": "2023-06-05T21:55:57.915Z"
   },
   {
    "duration": 79,
    "start_time": "2023-06-05T21:55:57.966Z"
   },
   {
    "duration": 293,
    "start_time": "2023-06-05T21:55:58.047Z"
   },
   {
    "duration": 11,
    "start_time": "2023-06-05T21:55:58.342Z"
   },
   {
    "duration": 51,
    "start_time": "2023-06-05T21:55:58.354Z"
   },
   {
    "duration": 10,
    "start_time": "2023-06-05T21:55:58.406Z"
   },
   {
    "duration": 34,
    "start_time": "2023-06-05T21:55:58.418Z"
   },
   {
    "duration": 24100,
    "start_time": "2023-06-05T21:55:58.454Z"
   },
   {
    "duration": 7,
    "start_time": "2023-06-05T21:56:22.555Z"
   },
   {
    "duration": 25,
    "start_time": "2023-06-05T21:56:22.563Z"
   },
   {
    "duration": 1253,
    "start_time": "2023-06-05T21:56:22.590Z"
   },
   {
    "duration": 1272,
    "start_time": "2023-06-05T21:56:23.844Z"
   },
   {
    "duration": 5834,
    "start_time": "2023-06-05T21:56:25.118Z"
   },
   {
    "duration": 3,
    "start_time": "2023-06-05T21:56:30.954Z"
   },
   {
    "duration": 87,
    "start_time": "2023-06-05T21:56:30.958Z"
   },
   {
    "duration": 52,
    "start_time": "2023-06-05T21:56:31.046Z"
   },
   {
    "duration": 102,
    "start_time": "2023-06-05T21:56:31.100Z"
   },
   {
    "duration": 436,
    "start_time": "2023-06-05T21:56:31.203Z"
   },
   {
    "duration": 477,
    "start_time": "2023-06-05T21:56:31.640Z"
   },
   {
    "duration": 20,
    "start_time": "2023-06-05T21:56:32.118Z"
   },
   {
    "duration": 10,
    "start_time": "2023-06-05T21:56:32.139Z"
   },
   {
    "duration": 101,
    "start_time": "2023-06-05T21:56:32.150Z"
   },
   {
    "duration": 88,
    "start_time": "2023-06-05T21:56:32.252Z"
   },
   {
    "duration": 137,
    "start_time": "2023-06-05T21:56:32.342Z"
   },
   {
    "duration": 11471,
    "start_time": "2023-06-05T21:56:32.480Z"
   },
   {
    "duration": 2892,
    "start_time": "2023-06-05T21:56:43.952Z"
   },
   {
    "duration": 127,
    "start_time": "2023-06-05T21:56:46.846Z"
   },
   {
    "duration": 5349,
    "start_time": "2023-06-05T21:56:46.975Z"
   },
   {
    "duration": 90,
    "start_time": "2023-06-05T21:56:52.415Z"
   },
   {
    "duration": 10,
    "start_time": "2023-06-05T21:56:52.506Z"
   },
   {
    "duration": 9,
    "start_time": "2023-06-05T21:57:43.848Z"
   },
   {
    "duration": 8,
    "start_time": "2023-06-05T21:57:52.619Z"
   },
   {
    "duration": 7,
    "start_time": "2023-06-05T21:58:15.307Z"
   },
   {
    "duration": 25,
    "start_time": "2023-06-05T21:58:21.048Z"
   },
   {
    "duration": 23,
    "start_time": "2023-06-05T22:03:22.458Z"
   },
   {
    "duration": 11631,
    "start_time": "2023-06-05T22:03:45.372Z"
   },
   {
    "duration": 103,
    "start_time": "2023-06-05T22:05:13.142Z"
   },
   {
    "duration": 12070,
    "start_time": "2023-06-05T22:05:36.546Z"
   },
   {
    "duration": 57,
    "start_time": "2023-06-05T22:12:39.160Z"
   },
   {
    "duration": 59,
    "start_time": "2023-06-05T22:12:45.248Z"
   },
   {
    "duration": 405,
    "start_time": "2023-06-05T22:13:46.582Z"
   },
   {
    "duration": 432,
    "start_time": "2023-06-05T22:14:24.316Z"
   },
   {
    "duration": 107,
    "start_time": "2023-06-05T22:15:30.449Z"
   },
   {
    "duration": 547,
    "start_time": "2023-06-05T22:15:34.371Z"
   },
   {
    "duration": 176,
    "start_time": "2023-06-05T22:15:48.325Z"
   },
   {
    "duration": 65,
    "start_time": "2023-06-05T22:17:41.584Z"
   },
   {
    "duration": 16,
    "start_time": "2023-06-05T22:20:34.688Z"
   },
   {
    "duration": 15,
    "start_time": "2023-06-05T22:22:16.246Z"
   },
   {
    "duration": 1291,
    "start_time": "2023-06-05T22:22:20.430Z"
   },
   {
    "duration": 702,
    "start_time": "2023-06-05T22:22:21.723Z"
   },
   {
    "duration": 105,
    "start_time": "2023-06-05T22:22:22.426Z"
   },
   {
    "duration": 13,
    "start_time": "2023-06-05T22:22:22.533Z"
   },
   {
    "duration": 774,
    "start_time": "2023-06-05T22:22:22.548Z"
   },
   {
    "duration": 83,
    "start_time": "2023-06-05T22:22:23.324Z"
   },
   {
    "duration": 87,
    "start_time": "2023-06-05T22:22:23.415Z"
   },
   {
    "duration": 66,
    "start_time": "2023-06-05T22:22:23.504Z"
   },
   {
    "duration": 54,
    "start_time": "2023-06-05T22:22:23.572Z"
   },
   {
    "duration": 40,
    "start_time": "2023-06-05T22:22:23.628Z"
   },
   {
    "duration": 79,
    "start_time": "2023-06-05T22:22:23.670Z"
   },
   {
    "duration": 40,
    "start_time": "2023-06-05T22:22:23.751Z"
   },
   {
    "duration": 58,
    "start_time": "2023-06-05T22:22:23.793Z"
   },
   {
    "duration": 71,
    "start_time": "2023-06-05T22:22:23.852Z"
   },
   {
    "duration": 257,
    "start_time": "2023-06-05T22:22:23.924Z"
   },
   {
    "duration": 10,
    "start_time": "2023-06-05T22:22:24.182Z"
   },
   {
    "duration": 46,
    "start_time": "2023-06-05T22:22:24.193Z"
   },
   {
    "duration": 7,
    "start_time": "2023-06-05T22:22:24.240Z"
   },
   {
    "duration": 31,
    "start_time": "2023-06-05T22:22:24.249Z"
   },
   {
    "duration": 22998,
    "start_time": "2023-06-05T22:22:24.281Z"
   },
   {
    "duration": 7,
    "start_time": "2023-06-05T22:22:47.281Z"
   },
   {
    "duration": 40,
    "start_time": "2023-06-05T22:22:47.290Z"
   },
   {
    "duration": 1308,
    "start_time": "2023-06-05T22:22:47.332Z"
   },
   {
    "duration": 1312,
    "start_time": "2023-06-05T22:22:48.641Z"
   },
   {
    "duration": 6064,
    "start_time": "2023-06-05T22:22:49.955Z"
   },
   {
    "duration": 2,
    "start_time": "2023-06-05T22:22:56.021Z"
   },
   {
    "duration": 57,
    "start_time": "2023-06-05T22:22:56.024Z"
   },
   {
    "duration": 17,
    "start_time": "2023-06-05T22:22:56.083Z"
   },
   {
    "duration": 82,
    "start_time": "2023-06-05T22:22:56.101Z"
   },
   {
    "duration": 31,
    "start_time": "2023-06-05T22:22:56.184Z"
   },
   {
    "duration": 403,
    "start_time": "2023-06-05T22:22:56.217Z"
   },
   {
    "duration": 479,
    "start_time": "2023-06-05T22:22:56.622Z"
   },
   {
    "duration": 32,
    "start_time": "2023-06-05T22:22:57.103Z"
   },
   {
    "duration": 22,
    "start_time": "2023-06-05T22:22:57.136Z"
   },
   {
    "duration": 94,
    "start_time": "2023-06-05T22:22:57.159Z"
   },
   {
    "duration": 84,
    "start_time": "2023-06-05T22:22:57.254Z"
   },
   {
    "duration": 177,
    "start_time": "2023-06-05T22:22:57.339Z"
   },
   {
    "duration": 11999,
    "start_time": "2023-06-05T22:22:57.518Z"
   },
   {
    "duration": 2745,
    "start_time": "2023-06-05T22:23:09.522Z"
   },
   {
    "duration": 110,
    "start_time": "2023-06-05T22:23:12.268Z"
   },
   {
    "duration": 5547,
    "start_time": "2023-06-05T22:23:12.379Z"
   },
   {
    "duration": 143,
    "start_time": "2023-06-05T22:23:17.932Z"
   },
   {
    "duration": 652,
    "start_time": "2023-06-05T22:23:18.077Z"
   },
   {
    "duration": 187,
    "start_time": "2023-06-05T22:23:18.731Z"
   },
   {
    "duration": 489,
    "start_time": "2023-06-05T22:23:18.920Z"
   },
   {
    "duration": 625,
    "start_time": "2023-06-05T22:23:19.410Z"
   },
   {
    "duration": 51,
    "start_time": "2023-06-07T03:44:57.094Z"
   },
   {
    "duration": 1744,
    "start_time": "2023-06-07T03:52:32.491Z"
   },
   {
    "duration": 1188,
    "start_time": "2023-06-07T03:52:34.237Z"
   },
   {
    "duration": 153,
    "start_time": "2023-06-07T03:52:35.427Z"
   },
   {
    "duration": 17,
    "start_time": "2023-06-07T03:52:35.581Z"
   },
   {
    "duration": 1064,
    "start_time": "2023-06-07T03:52:35.600Z"
   },
   {
    "duration": 114,
    "start_time": "2023-06-07T03:52:36.666Z"
   },
   {
    "duration": 128,
    "start_time": "2023-06-07T03:52:36.781Z"
   },
   {
    "duration": 104,
    "start_time": "2023-06-07T03:52:36.911Z"
   },
   {
    "duration": 73,
    "start_time": "2023-06-07T03:52:37.016Z"
   },
   {
    "duration": 72,
    "start_time": "2023-06-07T03:52:37.091Z"
   },
   {
    "duration": 97,
    "start_time": "2023-06-07T03:52:37.165Z"
   },
   {
    "duration": 52,
    "start_time": "2023-06-07T03:52:37.264Z"
   },
   {
    "duration": 75,
    "start_time": "2023-06-07T03:52:37.318Z"
   },
   {
    "duration": 100,
    "start_time": "2023-06-07T03:52:37.396Z"
   },
   {
    "duration": 363,
    "start_time": "2023-06-07T03:52:37.498Z"
   },
   {
    "duration": 11,
    "start_time": "2023-06-07T03:52:37.863Z"
   },
   {
    "duration": 53,
    "start_time": "2023-06-07T03:52:37.875Z"
   },
   {
    "duration": 8,
    "start_time": "2023-06-07T03:52:37.930Z"
   },
   {
    "duration": 57,
    "start_time": "2023-06-07T03:52:37.939Z"
   },
   {
    "duration": 28744,
    "start_time": "2023-06-07T03:52:37.998Z"
   },
   {
    "duration": 10,
    "start_time": "2023-06-07T03:53:06.746Z"
   },
   {
    "duration": 40,
    "start_time": "2023-06-07T03:53:06.758Z"
   },
   {
    "duration": 1543,
    "start_time": "2023-06-07T03:53:06.800Z"
   },
   {
    "duration": 1489,
    "start_time": "2023-06-07T03:53:08.345Z"
   },
   {
    "duration": 6501,
    "start_time": "2023-06-07T03:53:09.836Z"
   },
   {
    "duration": 6,
    "start_time": "2023-06-07T03:53:16.347Z"
   },
   {
    "duration": 96,
    "start_time": "2023-06-07T03:53:16.355Z"
   },
   {
    "duration": 19,
    "start_time": "2023-06-07T03:53:16.456Z"
   },
   {
    "duration": 628,
    "start_time": "2023-06-07T03:53:16.476Z"
   },
   {
    "duration": 118,
    "start_time": "2023-06-07T03:53:17.106Z"
   },
   {
    "duration": 300,
    "start_time": "2023-06-07T03:53:17.226Z"
   },
   {
    "duration": 509,
    "start_time": "2023-06-07T03:53:17.528Z"
   },
   {
    "duration": 586,
    "start_time": "2023-06-07T03:53:18.045Z"
   },
   {
    "duration": 46,
    "start_time": "2023-06-07T03:53:18.633Z"
   },
   {
    "duration": 29,
    "start_time": "2023-06-07T03:53:18.681Z"
   },
   {
    "duration": 110,
    "start_time": "2023-06-07T03:53:18.712Z"
   },
   {
    "duration": 111,
    "start_time": "2023-06-07T03:53:18.824Z"
   },
   {
    "duration": 185,
    "start_time": "2023-06-07T03:53:18.946Z"
   },
   {
    "duration": 28917,
    "start_time": "2023-06-07T03:53:19.132Z"
   },
   {
    "duration": 3305,
    "start_time": "2023-06-07T03:53:48.051Z"
   },
   {
    "duration": 131,
    "start_time": "2023-06-07T03:53:51.360Z"
   },
   {
    "duration": 1951,
    "start_time": "2023-06-07T03:54:55.590Z"
   },
   {
    "duration": 895,
    "start_time": "2023-06-07T03:54:57.543Z"
   },
   {
    "duration": 163,
    "start_time": "2023-06-07T03:54:58.439Z"
   },
   {
    "duration": 21,
    "start_time": "2023-06-07T03:54:58.604Z"
   },
   {
    "duration": 1031,
    "start_time": "2023-06-07T03:54:58.627Z"
   },
   {
    "duration": 104,
    "start_time": "2023-06-07T03:54:59.660Z"
   },
   {
    "duration": 126,
    "start_time": "2023-06-07T03:54:59.766Z"
   },
   {
    "duration": 88,
    "start_time": "2023-06-07T03:54:59.894Z"
   },
   {
    "duration": 71,
    "start_time": "2023-06-07T03:54:59.984Z"
   },
   {
    "duration": 53,
    "start_time": "2023-06-07T03:55:00.057Z"
   },
   {
    "duration": 103,
    "start_time": "2023-06-07T03:55:00.112Z"
   },
   {
    "duration": 79,
    "start_time": "2023-06-07T03:55:00.217Z"
   },
   {
    "duration": 91,
    "start_time": "2023-06-07T03:55:00.298Z"
   },
   {
    "duration": 122,
    "start_time": "2023-06-07T03:55:00.392Z"
   },
   {
    "duration": 342,
    "start_time": "2023-06-07T03:55:00.516Z"
   },
   {
    "duration": 13,
    "start_time": "2023-06-07T03:55:00.860Z"
   },
   {
    "duration": 58,
    "start_time": "2023-06-07T03:55:00.876Z"
   },
   {
    "duration": 14,
    "start_time": "2023-06-07T03:55:00.935Z"
   },
   {
    "duration": 53,
    "start_time": "2023-06-07T03:55:00.951Z"
   },
   {
    "duration": 28318,
    "start_time": "2023-06-07T03:55:01.006Z"
   },
   {
    "duration": 9,
    "start_time": "2023-06-07T03:55:29.326Z"
   },
   {
    "duration": 46,
    "start_time": "2023-06-07T03:55:29.336Z"
   },
   {
    "duration": 1606,
    "start_time": "2023-06-07T03:55:29.384Z"
   },
   {
    "duration": 1712,
    "start_time": "2023-06-07T03:55:30.992Z"
   },
   {
    "duration": 6373,
    "start_time": "2023-06-07T03:55:32.706Z"
   },
   {
    "duration": 3,
    "start_time": "2023-06-07T03:55:39.080Z"
   },
   {
    "duration": 106,
    "start_time": "2023-06-07T03:55:39.085Z"
   },
   {
    "duration": 32,
    "start_time": "2023-06-07T03:55:39.192Z"
   },
   {
    "duration": 705,
    "start_time": "2023-06-07T03:55:39.226Z"
   },
   {
    "duration": 121,
    "start_time": "2023-06-07T03:55:39.932Z"
   },
   {
    "duration": 299,
    "start_time": "2023-06-07T03:55:40.055Z"
   },
   {
    "duration": 535,
    "start_time": "2023-06-07T03:55:40.357Z"
   },
   {
    "duration": 107,
    "start_time": "2023-06-07T03:55:40.894Z"
   },
   {
    "duration": 111,
    "start_time": "2023-06-07T03:55:41.003Z"
   },
   {
    "duration": 180,
    "start_time": "2023-06-07T03:55:41.116Z"
   },
   {
    "duration": 0,
    "start_time": "2023-06-07T03:55:41.298Z"
   },
   {
    "duration": 0,
    "start_time": "2023-06-07T03:55:41.299Z"
   },
   {
    "duration": 0,
    "start_time": "2023-06-07T03:55:41.301Z"
   },
   {
    "duration": 0,
    "start_time": "2023-06-07T03:55:41.301Z"
   },
   {
    "duration": 0,
    "start_time": "2023-06-07T03:55:41.303Z"
   },
   {
    "duration": 0,
    "start_time": "2023-06-07T03:55:41.304Z"
   },
   {
    "duration": 0,
    "start_time": "2023-06-07T03:55:41.305Z"
   },
   {
    "duration": 0,
    "start_time": "2023-06-07T03:55:41.306Z"
   },
   {
    "duration": 119,
    "start_time": "2023-06-07T03:55:45.859Z"
   },
   {
    "duration": 232,
    "start_time": "2023-06-07T03:55:46.983Z"
   },
   {
    "duration": 292,
    "start_time": "2023-06-07T03:56:52.581Z"
   },
   {
    "duration": 349,
    "start_time": "2023-06-07T03:57:21.937Z"
   },
   {
    "duration": 1459,
    "start_time": "2023-06-07T03:57:38.278Z"
   },
   {
    "duration": 869,
    "start_time": "2023-06-07T03:57:39.739Z"
   },
   {
    "duration": 159,
    "start_time": "2023-06-07T03:57:40.609Z"
   },
   {
    "duration": 16,
    "start_time": "2023-06-07T03:57:40.771Z"
   },
   {
    "duration": 1075,
    "start_time": "2023-06-07T03:57:40.789Z"
   },
   {
    "duration": 107,
    "start_time": "2023-06-07T03:57:41.866Z"
   },
   {
    "duration": 129,
    "start_time": "2023-06-07T03:57:41.974Z"
   },
   {
    "duration": 95,
    "start_time": "2023-06-07T03:57:42.104Z"
   },
   {
    "duration": 72,
    "start_time": "2023-06-07T03:57:42.201Z"
   },
   {
    "duration": 74,
    "start_time": "2023-06-07T03:57:42.277Z"
   },
   {
    "duration": 117,
    "start_time": "2023-06-07T03:57:42.357Z"
   },
   {
    "duration": 94,
    "start_time": "2023-06-07T03:57:42.476Z"
   },
   {
    "duration": 60,
    "start_time": "2023-06-07T03:57:42.572Z"
   },
   {
    "duration": 101,
    "start_time": "2023-06-07T03:57:42.634Z"
   },
   {
    "duration": 371,
    "start_time": "2023-06-07T03:57:42.736Z"
   },
   {
    "duration": 14,
    "start_time": "2023-06-07T03:57:43.109Z"
   },
   {
    "duration": 56,
    "start_time": "2023-06-07T03:57:43.125Z"
   },
   {
    "duration": 8,
    "start_time": "2023-06-07T03:57:43.183Z"
   },
   {
    "duration": 32,
    "start_time": "2023-06-07T03:57:43.193Z"
   },
   {
    "duration": 28295,
    "start_time": "2023-06-07T03:57:43.227Z"
   },
   {
    "duration": 7,
    "start_time": "2023-06-07T03:58:11.524Z"
   },
   {
    "duration": 41,
    "start_time": "2023-06-07T03:58:11.532Z"
   },
   {
    "duration": 1639,
    "start_time": "2023-06-07T03:58:11.575Z"
   },
   {
    "duration": 1563,
    "start_time": "2023-06-07T03:58:13.215Z"
   },
   {
    "duration": 6321,
    "start_time": "2023-06-07T03:58:14.780Z"
   },
   {
    "duration": 3,
    "start_time": "2023-06-07T03:58:21.103Z"
   },
   {
    "duration": 95,
    "start_time": "2023-06-07T03:58:21.108Z"
   },
   {
    "duration": 13,
    "start_time": "2023-06-07T03:58:21.206Z"
   },
   {
    "duration": 692,
    "start_time": "2023-06-07T03:58:21.221Z"
   },
   {
    "duration": 123,
    "start_time": "2023-06-07T03:58:21.914Z"
   },
   {
    "duration": 466,
    "start_time": "2023-06-07T03:58:22.039Z"
   },
   {
    "duration": 578,
    "start_time": "2023-06-07T03:58:22.507Z"
   },
   {
    "duration": 111,
    "start_time": "2023-06-07T03:58:23.087Z"
   },
   {
    "duration": 108,
    "start_time": "2023-06-07T03:58:23.200Z"
   },
   {
    "duration": 165,
    "start_time": "2023-06-07T03:58:23.310Z"
   },
   {
    "duration": 28175,
    "start_time": "2023-06-07T03:58:23.477Z"
   },
   {
    "duration": 3245,
    "start_time": "2023-06-07T03:58:51.658Z"
   },
   {
    "duration": 137,
    "start_time": "2023-06-07T03:58:54.905Z"
   },
   {
    "duration": 84621,
    "start_time": "2023-06-07T03:58:55.044Z"
   },
   {
    "duration": 795,
    "start_time": "2023-06-07T04:00:19.668Z"
   },
   {
    "duration": 182,
    "start_time": "2023-06-07T04:00:20.465Z"
   },
   {
    "duration": 567,
    "start_time": "2023-06-07T04:00:20.654Z"
   },
   {
    "duration": 739,
    "start_time": "2023-06-07T04:00:21.223Z"
   }
  ],
  "kernelspec": {
   "display_name": "Python 3 (ipykernel)",
   "language": "python",
   "name": "python3"
  },
  "language_info": {
   "codemirror_mode": {
    "name": "ipython",
    "version": 3
   },
   "file_extension": ".py",
   "mimetype": "text/x-python",
   "name": "python",
   "nbconvert_exporter": "python",
   "pygments_lexer": "ipython3",
   "version": "3.9.13"
  },
  "toc": {
   "base_numbering": 1,
   "nav_menu": {},
   "number_sections": true,
   "sideBar": true,
   "skip_h1_title": true,
   "title_cell": "Table of Contents",
   "title_sidebar": "Contents",
   "toc_cell": false,
   "toc_position": {},
   "toc_section_display": true,
   "toc_window_display": false
  }
 },
 "nbformat": 4,
 "nbformat_minor": 2
}
