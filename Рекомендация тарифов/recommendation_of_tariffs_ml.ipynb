{
 "cells": [
  {
   "cell_type": "markdown",
   "metadata": {},
   "source": [
    "# Рекомендация тарифов"
   ]
  },
  {
   "cell_type": "code",
   "execution_count": 1,
   "metadata": {},
   "outputs": [],
   "source": [
    "import pandas as pd\n",
    "from sklearn.model_selection import train_test_split\n",
    "from sklearn.tree import DecisionTreeClassifier\n",
    "from sklearn.metrics import accuracy_score\n",
    "from sklearn.ensemble import RandomForestClassifier\n",
    "from sklearn.linear_model import LogisticRegression\n",
    "from sklearn.dummy import DummyClassifier"
   ]
  },
  {
   "cell_type": "code",
   "execution_count": 2,
   "metadata": {},
   "outputs": [],
   "source": [
    "df = pd.read_csv('users_behavior.csv')"
   ]
  },
  {
   "cell_type": "code",
   "execution_count": 3,
   "metadata": {},
   "outputs": [
    {
     "data": {
      "text/html": [
       "<div>\n",
       "<style scoped>\n",
       "    .dataframe tbody tr th:only-of-type {\n",
       "        vertical-align: middle;\n",
       "    }\n",
       "\n",
       "    .dataframe tbody tr th {\n",
       "        vertical-align: top;\n",
       "    }\n",
       "\n",
       "    .dataframe thead th {\n",
       "        text-align: right;\n",
       "    }\n",
       "</style>\n",
       "<table border=\"1\" class=\"dataframe\">\n",
       "  <thead>\n",
       "    <tr style=\"text-align: right;\">\n",
       "      <th></th>\n",
       "      <th>calls</th>\n",
       "      <th>minutes</th>\n",
       "      <th>messages</th>\n",
       "      <th>mb_used</th>\n",
       "      <th>is_ultra</th>\n",
       "    </tr>\n",
       "  </thead>\n",
       "  <tbody>\n",
       "    <tr>\n",
       "      <th>0</th>\n",
       "      <td>40.0</td>\n",
       "      <td>311.90</td>\n",
       "      <td>83.0</td>\n",
       "      <td>19915.42</td>\n",
       "      <td>0</td>\n",
       "    </tr>\n",
       "    <tr>\n",
       "      <th>1</th>\n",
       "      <td>85.0</td>\n",
       "      <td>516.75</td>\n",
       "      <td>56.0</td>\n",
       "      <td>22696.96</td>\n",
       "      <td>0</td>\n",
       "    </tr>\n",
       "    <tr>\n",
       "      <th>2</th>\n",
       "      <td>77.0</td>\n",
       "      <td>467.66</td>\n",
       "      <td>86.0</td>\n",
       "      <td>21060.45</td>\n",
       "      <td>0</td>\n",
       "    </tr>\n",
       "    <tr>\n",
       "      <th>3</th>\n",
       "      <td>106.0</td>\n",
       "      <td>745.53</td>\n",
       "      <td>81.0</td>\n",
       "      <td>8437.39</td>\n",
       "      <td>1</td>\n",
       "    </tr>\n",
       "    <tr>\n",
       "      <th>4</th>\n",
       "      <td>66.0</td>\n",
       "      <td>418.74</td>\n",
       "      <td>1.0</td>\n",
       "      <td>14502.75</td>\n",
       "      <td>0</td>\n",
       "    </tr>\n",
       "  </tbody>\n",
       "</table>\n",
       "</div>"
      ],
      "text/plain": [
       "   calls  minutes  messages   mb_used  is_ultra\n",
       "0   40.0   311.90      83.0  19915.42         0\n",
       "1   85.0   516.75      56.0  22696.96         0\n",
       "2   77.0   467.66      86.0  21060.45         0\n",
       "3  106.0   745.53      81.0   8437.39         1\n",
       "4   66.0   418.74       1.0  14502.75         0"
      ]
     },
     "execution_count": 3,
     "metadata": {},
     "output_type": "execute_result"
    }
   ],
   "source": [
    "df.head()"
   ]
  },
  {
   "cell_type": "code",
   "execution_count": 4,
   "metadata": {},
   "outputs": [
    {
     "name": "stdout",
     "output_type": "stream",
     "text": [
      "<class 'pandas.core.frame.DataFrame'>\n",
      "RangeIndex: 3214 entries, 0 to 3213\n",
      "Data columns (total 5 columns):\n",
      " #   Column    Non-Null Count  Dtype  \n",
      "---  ------    --------------  -----  \n",
      " 0   calls     3214 non-null   float64\n",
      " 1   minutes   3214 non-null   float64\n",
      " 2   messages  3214 non-null   float64\n",
      " 3   mb_used   3214 non-null   float64\n",
      " 4   is_ultra  3214 non-null   int64  \n",
      "dtypes: float64(4), int64(1)\n",
      "memory usage: 125.7 KB\n"
     ]
    }
   ],
   "source": [
    "df.info()"
   ]
  },
  {
   "cell_type": "markdown",
   "metadata": {},
   "source": [
    "## Разделение данных на выборки"
   ]
  },
  {
   "cell_type": "code",
   "execution_count": 5,
   "metadata": {},
   "outputs": [],
   "source": [
    "#Разделение на признаки и целевой признак\n",
    "features = df.drop(['is_ultra'], axis=1)\n",
    "target = df['is_ultra']"
   ]
  },
  {
   "cell_type": "code",
   "execution_count": 6,
   "metadata": {},
   "outputs": [
    {
     "name": "stdout",
     "output_type": "stream",
     "text": [
      "(2571, 4)\n",
      "(2571,)\n",
      "(643, 4)\n",
      "(643,)\n"
     ]
    }
   ],
   "source": [
    "#Деление данных на обучающие и тестовые выборки\n",
    "features_train, features_test, target_train, target_test = train_test_split(\n",
    "    features, target, test_size=0.2, random_state=12345, stratify=target\n",
    ")\n",
    "\n",
    "print(features_train.shape)\n",
    "print(target_train.shape)\n",
    "print(features_test.shape)\n",
    "print(target_test.shape)"
   ]
  },
  {
   "cell_type": "code",
   "execution_count": 7,
   "metadata": {},
   "outputs": [
    {
     "name": "stdout",
     "output_type": "stream",
     "text": [
      "(1928, 4)\n",
      "(1928,)\n",
      "(643, 4)\n",
      "(643,)\n"
     ]
    }
   ],
   "source": [
    "#Отделение от обучающей выборки валидационной выборки\n",
    "features_train, features_valid, target_train, target_valid = train_test_split(\n",
    "    features_train, target_train, test_size=0.25, random_state=12345, stratify=target_train\n",
    ")\n",
    "print(features_train.shape)\n",
    "print(target_train.shape)\n",
    "print(features_valid.shape)\n",
    "print(target_valid.shape)"
   ]
  },
  {
   "cell_type": "markdown",
   "metadata": {},
   "source": [
    "## Исследование модели"
   ]
  },
  {
   "cell_type": "markdown",
   "metadata": {},
   "source": [
    "<b>Решающее дерево</b>"
   ]
  },
  {
   "cell_type": "code",
   "execution_count": 8,
   "metadata": {},
   "outputs": [
    {
     "name": "stdout",
     "output_type": "stream",
     "text": [
      "Accuracy: 0.8164852255054432\n",
      "Лучшая глубина дерева: 5\n"
     ]
    }
   ],
   "source": [
    "best_result = 0\n",
    "depth = 0\n",
    "depths = []\n",
    "results = []\n",
    "\n",
    "for depth in range(1, 6):\n",
    "    model = DecisionTreeClassifier(random_state=12345, max_depth=depth)\n",
    "    model.fit(features_train, target_train)\n",
    "    predictions_valid = model.predict(features_valid)\n",
    "    result = accuracy_score(target_valid, predictions_valid)\n",
    "    depths.append(depth)\n",
    "    results.append(result)\n",
    "    if result > best_result:\n",
    "        best_depth = depth\n",
    "        best_result = result\n",
    "\n",
    "print('Accuracy:', best_result)\n",
    "print('Лучшая глубина дерева:', best_depth)"
   ]
  },
  {
   "cell_type": "markdown",
   "metadata": {},
   "source": [
    "<b>Случайный лес</b>"
   ]
  },
  {
   "cell_type": "code",
   "execution_count": 9,
   "metadata": {},
   "outputs": [
    {
     "name": "stdout",
     "output_type": "stream",
     "text": [
      "Accuracy: 0.8133748055987559\n",
      "Лучшее количество деревьев в лесу: 10\n"
     ]
    }
   ],
   "source": [
    "best_model = None\n",
    "best_result = 0\n",
    "for est in range(1, 11):\n",
    "    model = RandomForestClassifier(random_state=12345, n_estimators=est)\n",
    "    model.fit(features_train, target_train)\n",
    "    result = model.score(features_valid, target_valid)\n",
    "    if result > best_result:\n",
    "        best_model = model\n",
    "        best_result = result\n",
    "        best_est = est\n",
    "\n",
    "print('Accuracy:', best_result)\n",
    "print('Лучшее количество деревьев в лесу:', best_est)"
   ]
  },
  {
   "cell_type": "markdown",
   "metadata": {},
   "source": [
    "<b>Логистическая регрессия</b>"
   ]
  },
  {
   "cell_type": "code",
   "execution_count": 10,
   "metadata": {},
   "outputs": [
    {
     "name": "stdout",
     "output_type": "stream",
     "text": [
      "Accuracy: 0.7558320373250389\n"
     ]
    }
   ],
   "source": [
    "model = LogisticRegression()\n",
    "model.fit(features_train, target_train)\n",
    "predictions_valid = model.predict(features_valid)\n",
    "accuracy = model.score(features_valid, target_valid)\n",
    "print('Accuracy:', accuracy)"
   ]
  },
  {
   "cell_type": "markdown",
   "metadata": {},
   "source": [
    "<b>Вывод</b>  \n",
    "\n",
    "Лучший результат зафиксирован у решающего дерева - 81,64% при глубине дерева 5. У случайного леса - 81,33% при количестве деревьев в лесу 10. И наименьший результат у логистической регрессии - 75,58%."
   ]
  },
  {
   "cell_type": "markdown",
   "metadata": {},
   "source": [
    "## Проверка модели на тестовой выборке"
   ]
  },
  {
   "cell_type": "code",
   "execution_count": 11,
   "metadata": {},
   "outputs": [
    {
     "name": "stdout",
     "output_type": "stream",
     "text": [
      "Accuracy тестовой выборки: 0.7962674961119751\n"
     ]
    }
   ],
   "source": [
    "model = DecisionTreeClassifier(random_state=12345, max_depth=5)\n",
    "model.fit(features_train, target_train)\n",
    "predictions_test = model.predict(features_test)\n",
    "result = accuracy_score(target_test, predictions_test)\n",
    "print('Accuracy тестовой выборки:', result)"
   ]
  },
  {
   "cell_type": "markdown",
   "metadata": {},
   "source": [
    "<b>Вывод</b>  \n",
    "\n",
    "Результат на тестовой выборке 79,62% правильных ответов, на 2% меньше обучающей."
   ]
  },
  {
   "cell_type": "markdown",
   "metadata": {},
   "source": [
    "## Проверка модели на адекватность"
   ]
  },
  {
   "cell_type": "code",
   "execution_count": 12,
   "metadata": {},
   "outputs": [
    {
     "data": {
      "text/plain": [
       "0.6936236391912908"
      ]
     },
     "execution_count": 12,
     "metadata": {},
     "output_type": "execute_result"
    }
   ],
   "source": [
    "dummy = DummyClassifier(strategy='most_frequent')\n",
    "dummy.fit(features_train, target_train)\n",
    "dummy.predict(features_test)\n",
    "dummy.score(features_test, target_test)"
   ]
  }
 ],
 "metadata": {
  "ExecuteTimeLog": [
   {
    "duration": 51,
    "start_time": "2023-02-21T10:16:25.556Z"
   },
   {
    "duration": 378,
    "start_time": "2023-02-21T10:16:29.512Z"
   },
   {
    "duration": 155,
    "start_time": "2023-02-21T10:16:30.056Z"
   },
   {
    "duration": 83,
    "start_time": "2023-02-21T10:17:40.627Z"
   },
   {
    "duration": 58,
    "start_time": "2023-02-21T10:17:43.461Z"
   },
   {
    "duration": 57,
    "start_time": "2023-02-21T10:17:55.613Z"
   },
   {
    "duration": 66,
    "start_time": "2023-02-21T10:18:15.515Z"
   },
   {
    "duration": 59,
    "start_time": "2023-02-21T10:18:18.462Z"
   },
   {
    "duration": 43,
    "start_time": "2023-02-21T10:18:44.833Z"
   },
   {
    "duration": 4,
    "start_time": "2023-02-21T10:38:43.413Z"
   },
   {
    "duration": 782,
    "start_time": "2023-02-21T10:41:27.821Z"
   },
   {
    "duration": 48,
    "start_time": "2023-02-21T10:42:46.429Z"
   },
   {
    "duration": 10,
    "start_time": "2023-02-21T10:47:44.854Z"
   },
   {
    "duration": 1203,
    "start_time": "2023-02-21T10:47:51.996Z"
   },
   {
    "duration": 55,
    "start_time": "2023-02-21T10:47:53.201Z"
   },
   {
    "duration": 38,
    "start_time": "2023-02-21T10:47:53.257Z"
   },
   {
    "duration": 201,
    "start_time": "2023-02-21T10:47:53.297Z"
   },
   {
    "duration": 78,
    "start_time": "2023-02-25T18:35:35.444Z"
   },
   {
    "duration": 1067,
    "start_time": "2023-02-25T18:36:51.111Z"
   },
   {
    "duration": 134,
    "start_time": "2023-02-25T18:36:52.180Z"
   },
   {
    "duration": 4,
    "start_time": "2023-02-25T18:36:52.316Z"
   },
   {
    "duration": 149,
    "start_time": "2023-02-25T18:36:52.322Z"
   },
   {
    "duration": 7,
    "start_time": "2023-02-25T18:40:10.284Z"
   },
   {
    "duration": 35,
    "start_time": "2023-02-25T18:40:27.736Z"
   },
   {
    "duration": 6,
    "start_time": "2023-02-25T18:45:57.450Z"
   },
   {
    "duration": 1124,
    "start_time": "2023-02-26T15:09:49.745Z"
   },
   {
    "duration": 144,
    "start_time": "2023-02-26T15:09:50.872Z"
   },
   {
    "duration": 4,
    "start_time": "2023-02-26T15:09:51.017Z"
   },
   {
    "duration": 27,
    "start_time": "2023-02-26T15:09:51.023Z"
   },
   {
    "duration": 10,
    "start_time": "2023-02-26T15:09:51.052Z"
   },
   {
    "duration": 1114,
    "start_time": "2023-02-26T19:31:59.516Z"
   },
   {
    "duration": 46,
    "start_time": "2023-02-26T19:32:00.632Z"
   },
   {
    "duration": 4,
    "start_time": "2023-02-26T19:32:00.679Z"
   },
   {
    "duration": 28,
    "start_time": "2023-02-26T19:32:00.685Z"
   },
   {
    "duration": 25,
    "start_time": "2023-02-26T19:32:00.715Z"
   },
   {
    "duration": 1088,
    "start_time": "2023-02-27T17:51:12.743Z"
   },
   {
    "duration": 90,
    "start_time": "2023-02-27T17:51:13.833Z"
   },
   {
    "duration": 12,
    "start_time": "2023-02-27T17:51:13.926Z"
   },
   {
    "duration": 126,
    "start_time": "2023-02-27T17:51:13.942Z"
   },
   {
    "duration": 24,
    "start_time": "2023-02-27T17:51:14.070Z"
   },
   {
    "duration": 149,
    "start_time": "2023-02-27T17:51:14.096Z"
   },
   {
    "duration": 1194,
    "start_time": "2023-02-27T17:51:48.974Z"
   },
   {
    "duration": 42,
    "start_time": "2023-02-27T17:51:50.170Z"
   },
   {
    "duration": 3,
    "start_time": "2023-02-27T17:51:50.215Z"
   },
   {
    "duration": 11,
    "start_time": "2023-02-27T17:51:50.220Z"
   },
   {
    "duration": 7,
    "start_time": "2023-02-27T17:51:50.232Z"
   },
   {
    "duration": 31,
    "start_time": "2023-02-27T17:51:50.241Z"
   },
   {
    "duration": 93,
    "start_time": "2023-02-27T17:54:12.139Z"
   },
   {
    "duration": 1218,
    "start_time": "2023-02-27T17:54:33.324Z"
   },
   {
    "duration": 42,
    "start_time": "2023-02-27T17:54:34.544Z"
   },
   {
    "duration": 4,
    "start_time": "2023-02-27T17:54:34.591Z"
   },
   {
    "duration": 12,
    "start_time": "2023-02-27T17:54:34.597Z"
   },
   {
    "duration": 14,
    "start_time": "2023-02-27T17:54:34.611Z"
   },
   {
    "duration": 42,
    "start_time": "2023-02-27T17:54:34.627Z"
   },
   {
    "duration": 293,
    "start_time": "2023-02-27T17:54:34.672Z"
   },
   {
    "duration": 118,
    "start_time": "2023-02-27T17:57:03.790Z"
   },
   {
    "duration": 1199,
    "start_time": "2023-02-27T17:57:20.209Z"
   },
   {
    "duration": 43,
    "start_time": "2023-02-27T17:57:21.410Z"
   },
   {
    "duration": 4,
    "start_time": "2023-02-27T17:57:21.455Z"
   },
   {
    "duration": 17,
    "start_time": "2023-02-27T17:57:21.461Z"
   },
   {
    "duration": 11,
    "start_time": "2023-02-27T17:57:21.480Z"
   },
   {
    "duration": 58,
    "start_time": "2023-02-27T17:57:21.492Z"
   },
   {
    "duration": 273,
    "start_time": "2023-02-27T17:57:21.552Z"
   },
   {
    "duration": 42,
    "start_time": "2023-02-27T17:57:21.826Z"
   },
   {
    "duration": 1200,
    "start_time": "2023-02-27T17:57:38.488Z"
   },
   {
    "duration": 40,
    "start_time": "2023-02-27T17:57:39.690Z"
   },
   {
    "duration": 4,
    "start_time": "2023-02-27T17:57:39.731Z"
   },
   {
    "duration": 13,
    "start_time": "2023-02-27T17:57:39.737Z"
   },
   {
    "duration": 9,
    "start_time": "2023-02-27T17:57:39.751Z"
   },
   {
    "duration": 46,
    "start_time": "2023-02-27T17:57:39.761Z"
   },
   {
    "duration": 268,
    "start_time": "2023-02-27T17:57:39.809Z"
   },
   {
    "duration": 42,
    "start_time": "2023-02-27T17:57:40.078Z"
   },
   {
    "duration": 37,
    "start_time": "2023-02-27T17:59:24.738Z"
   },
   {
    "duration": 282,
    "start_time": "2023-02-27T18:01:38.162Z"
   },
   {
    "duration": 39,
    "start_time": "2023-02-27T18:02:01.448Z"
   },
   {
    "duration": 11,
    "start_time": "2023-02-27T18:17:20.961Z"
   },
   {
    "duration": 13,
    "start_time": "2023-02-27T18:17:26.523Z"
   },
   {
    "duration": 11,
    "start_time": "2023-02-27T18:18:03.496Z"
   },
   {
    "duration": 51,
    "start_time": "2023-02-27T18:19:09.334Z"
   },
   {
    "duration": 39,
    "start_time": "2023-02-27T18:20:11.865Z"
   },
   {
    "duration": 6018,
    "start_time": "2023-02-27T18:46:57.021Z"
   },
   {
    "duration": 281,
    "start_time": "2023-02-27T18:47:03.048Z"
   },
   {
    "duration": 75,
    "start_time": "2023-02-27T18:47:03.344Z"
   },
   {
    "duration": 195,
    "start_time": "2023-02-27T18:47:03.429Z"
   },
   {
    "duration": 95,
    "start_time": "2023-02-27T18:47:03.631Z"
   },
   {
    "duration": 580,
    "start_time": "2023-02-27T18:47:03.740Z"
   },
   {
    "duration": 2479,
    "start_time": "2023-02-27T18:47:04.330Z"
   },
   {
    "duration": 274,
    "start_time": "2023-02-27T18:47:06.839Z"
   },
   {
    "duration": 188,
    "start_time": "2023-02-27T18:47:07.124Z"
   },
   {
    "duration": 123,
    "start_time": "2023-02-27T19:23:55.312Z"
   },
   {
    "duration": 8100,
    "start_time": "2023-02-27T19:24:11.606Z"
   },
   {
    "duration": 499,
    "start_time": "2023-02-27T19:24:19.708Z"
   },
   {
    "duration": 8,
    "start_time": "2023-02-27T19:24:20.208Z"
   },
   {
    "duration": 303,
    "start_time": "2023-02-27T19:24:20.304Z"
   },
   {
    "duration": 9,
    "start_time": "2023-02-27T19:24:20.609Z"
   },
   {
    "duration": 96,
    "start_time": "2023-02-27T19:24:20.619Z"
   },
   {
    "duration": 685,
    "start_time": "2023-02-27T19:24:20.717Z"
   },
   {
    "duration": 137,
    "start_time": "2023-02-27T19:24:21.404Z"
   },
   {
    "duration": 67,
    "start_time": "2023-02-27T19:24:21.544Z"
   },
   {
    "duration": 60,
    "start_time": "2023-02-28T18:31:31.812Z"
   },
   {
    "duration": 1272,
    "start_time": "2023-02-28T18:31:35.623Z"
   },
   {
    "duration": 90,
    "start_time": "2023-02-28T18:31:37.463Z"
   },
   {
    "duration": 149,
    "start_time": "2023-02-28T18:32:23.211Z"
   },
   {
    "duration": 46,
    "start_time": "2023-03-01T18:19:43.473Z"
   },
   {
    "duration": 1053,
    "start_time": "2023-03-01T18:19:52.687Z"
   },
   {
    "duration": 97,
    "start_time": "2023-03-01T18:19:53.742Z"
   },
   {
    "duration": 3,
    "start_time": "2023-03-01T18:19:53.840Z"
   },
   {
    "duration": 12,
    "start_time": "2023-03-01T18:19:53.845Z"
   },
   {
    "duration": 18,
    "start_time": "2023-03-01T18:19:53.859Z"
   },
   {
    "duration": 30,
    "start_time": "2023-03-01T18:19:53.879Z"
   },
   {
    "duration": 251,
    "start_time": "2023-03-01T18:19:53.911Z"
   },
   {
    "duration": 107,
    "start_time": "2023-03-01T18:19:54.163Z"
   },
   {
    "duration": 0,
    "start_time": "2023-03-01T18:19:54.272Z"
   },
   {
    "duration": 0,
    "start_time": "2023-03-01T18:19:54.273Z"
   },
   {
    "duration": 37,
    "start_time": "2023-03-01T18:20:31.408Z"
   },
   {
    "duration": 12,
    "start_time": "2023-03-01T18:20:34.585Z"
   },
   {
    "duration": 7,
    "start_time": "2023-03-01T18:20:37.207Z"
   }
  ],
  "kernelspec": {
   "display_name": "Python 3 (ipykernel)",
   "language": "python",
   "name": "python3"
  },
  "language_info": {
   "codemirror_mode": {
    "name": "ipython",
    "version": 3
   },
   "file_extension": ".py",
   "mimetype": "text/x-python",
   "name": "python",
   "nbconvert_exporter": "python",
   "pygments_lexer": "ipython3",
   "version": "3.9.13"
  },
  "toc": {
   "base_numbering": 1,
   "nav_menu": {},
   "number_sections": true,
   "sideBar": true,
   "skip_h1_title": true,
   "title_cell": "Table of Contents",
   "title_sidebar": "Contents",
   "toc_cell": false,
   "toc_position": {},
   "toc_section_display": true,
   "toc_window_display": false
  }
 },
 "nbformat": 4,
 "nbformat_minor": 2
}
