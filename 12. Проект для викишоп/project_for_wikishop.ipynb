{
 "cells": [
  {
   "cell_type": "markdown",
   "metadata": {},
   "source": [
    "# Проект для «Викишоп»"
   ]
  },
  {
   "cell_type": "markdown",
   "metadata": {},
   "source": [
    "Интернет-магазин «Викишоп» запускает новый сервис. Теперь пользователи могут редактировать и дополнять описания товаров, как в вики-сообществах. То есть клиенты предлагают свои правки и комментируют изменения других. Магазину нужен инструмент, который будет искать токсичные комментарии и отправлять их на модерацию. \n",
    "\n",
    "Обучите модель классифицировать комментарии на позитивные и негативные. В вашем распоряжении набор данных с разметкой о токсичности правок.\n",
    "\n",
    "Постройте модель со значением метрики качества *F1* не меньше 0.75. \n",
    "\n",
    "**Инструкция по выполнению проекта**\n",
    "\n",
    "1. Загрузите и подготовьте данные.\n",
    "2. Обучите разные модели. \n",
    "3. Сделайте выводы.\n",
    "\n",
    "Для выполнения проекта применять *BERT* необязательно, но вы можете попробовать.\n",
    "\n",
    "**Описание данных**\n",
    "\n",
    "Данные находятся в файле `toxic_comments.csv`. Столбец *text* в нём содержит текст комментария, а *toxic* — целевой признак."
   ]
  },
  {
   "cell_type": "markdown",
   "metadata": {},
   "source": [
    "## Подготовка"
   ]
  },
  {
   "cell_type": "code",
   "execution_count": 1,
   "metadata": {},
   "outputs": [
    {
     "name": "stderr",
     "output_type": "stream",
     "text": [
      "[nltk_data] Downloading package wordnet to /home/jovyan/nltk_data...\n",
      "[nltk_data]   Package wordnet is already up-to-date!\n",
      "[nltk_data] Downloading package punkt to /home/jovyan/nltk_data...\n",
      "[nltk_data]   Package punkt is already up-to-date!\n",
      "[nltk_data] Downloading package omw-1.4 to /home/jovyan/nltk_data...\n",
      "[nltk_data]   Package omw-1.4 is already up-to-date!\n",
      "[nltk_data] Downloading package averaged_perceptron_tagger to\n",
      "[nltk_data]     /home/jovyan/nltk_data...\n",
      "[nltk_data]   Unzipping taggers/averaged_perceptron_tagger.zip.\n",
      "[nltk_data] Downloading package stopwords to /home/jovyan/nltk_data...\n",
      "[nltk_data]   Package stopwords is already up-to-date!\n"
     ]
    }
   ],
   "source": [
    "import pandas as pd\n",
    "import re\n",
    "\n",
    "from sklearn.feature_extraction.text import TfidfVectorizer\n",
    "from sklearn.model_selection import train_test_split, cross_val_score, GridSearchCV\n",
    "from sklearn.metrics import f1_score\n",
    "from sklearn.linear_model import LogisticRegression\n",
    "from sklearn.tree import DecisionTreeClassifier\n",
    "from catboost import CatBoostClassifier\n",
    "import warnings\n",
    "warnings.filterwarnings('ignore')\n",
    "\n",
    "import nltk\n",
    "nltk.download('wordnet')\n",
    "nltk.download('punkt')\n",
    "nltk.download('omw-1.4')\n",
    "nltk.download('averaged_perceptron_tagger')\n",
    "nltk.download('stopwords')\n",
    "from nltk.stem import WordNetLemmatizer\n",
    "from nltk.corpus import wordnet\n",
    "from nltk.corpus import stopwords\n",
    "from nltk import word_tokenize, sent_tokenize, FreqDist"
   ]
  },
  {
   "cell_type": "code",
   "execution_count": 2,
   "metadata": {},
   "outputs": [],
   "source": [
    "data = pd.read_csv('/datasets/toxic_comments.csv')"
   ]
  },
  {
   "cell_type": "code",
   "execution_count": 3,
   "metadata": {},
   "outputs": [
    {
     "name": "stdout",
     "output_type": "stream",
     "text": [
      "<class 'pandas.core.frame.DataFrame'>\n",
      "RangeIndex: 159292 entries, 0 to 159291\n",
      "Data columns (total 3 columns):\n",
      " #   Column      Non-Null Count   Dtype \n",
      "---  ------      --------------   ----- \n",
      " 0   Unnamed: 0  159292 non-null  int64 \n",
      " 1   text        159292 non-null  object\n",
      " 2   toxic       159292 non-null  int64 \n",
      "dtypes: int64(2), object(1)\n",
      "memory usage: 3.6+ MB\n"
     ]
    }
   ],
   "source": [
    "data.info()"
   ]
  },
  {
   "cell_type": "code",
   "execution_count": 4,
   "metadata": {},
   "outputs": [
    {
     "data": {
      "text/html": [
       "<div>\n",
       "<style scoped>\n",
       "    .dataframe tbody tr th:only-of-type {\n",
       "        vertical-align: middle;\n",
       "    }\n",
       "\n",
       "    .dataframe tbody tr th {\n",
       "        vertical-align: top;\n",
       "    }\n",
       "\n",
       "    .dataframe thead th {\n",
       "        text-align: right;\n",
       "    }\n",
       "</style>\n",
       "<table border=\"1\" class=\"dataframe\">\n",
       "  <thead>\n",
       "    <tr style=\"text-align: right;\">\n",
       "      <th></th>\n",
       "      <th>text</th>\n",
       "      <th>toxic</th>\n",
       "    </tr>\n",
       "  </thead>\n",
       "  <tbody>\n",
       "    <tr>\n",
       "      <th>0</th>\n",
       "      <td>Explanation\\nWhy the edits made under my usern...</td>\n",
       "      <td>0</td>\n",
       "    </tr>\n",
       "    <tr>\n",
       "      <th>1</th>\n",
       "      <td>D'aww! He matches this background colour I'm s...</td>\n",
       "      <td>0</td>\n",
       "    </tr>\n",
       "    <tr>\n",
       "      <th>2</th>\n",
       "      <td>Hey man, I'm really not trying to edit war. It...</td>\n",
       "      <td>0</td>\n",
       "    </tr>\n",
       "    <tr>\n",
       "      <th>3</th>\n",
       "      <td>\"\\nMore\\nI can't make any real suggestions on ...</td>\n",
       "      <td>0</td>\n",
       "    </tr>\n",
       "    <tr>\n",
       "      <th>4</th>\n",
       "      <td>You, sir, are my hero. Any chance you remember...</td>\n",
       "      <td>0</td>\n",
       "    </tr>\n",
       "    <tr>\n",
       "      <th>...</th>\n",
       "      <td>...</td>\n",
       "      <td>...</td>\n",
       "    </tr>\n",
       "    <tr>\n",
       "      <th>159287</th>\n",
       "      <td>\":::::And for the second time of asking, when ...</td>\n",
       "      <td>0</td>\n",
       "    </tr>\n",
       "    <tr>\n",
       "      <th>159288</th>\n",
       "      <td>You should be ashamed of yourself \\n\\nThat is ...</td>\n",
       "      <td>0</td>\n",
       "    </tr>\n",
       "    <tr>\n",
       "      <th>159289</th>\n",
       "      <td>Spitzer \\n\\nUmm, theres no actual article for ...</td>\n",
       "      <td>0</td>\n",
       "    </tr>\n",
       "    <tr>\n",
       "      <th>159290</th>\n",
       "      <td>And it looks like it was actually you who put ...</td>\n",
       "      <td>0</td>\n",
       "    </tr>\n",
       "    <tr>\n",
       "      <th>159291</th>\n",
       "      <td>\"\\nAnd ... I really don't think you understand...</td>\n",
       "      <td>0</td>\n",
       "    </tr>\n",
       "  </tbody>\n",
       "</table>\n",
       "<p>159292 rows × 2 columns</p>\n",
       "</div>"
      ],
      "text/plain": [
       "                                                     text  toxic\n",
       "0       Explanation\\nWhy the edits made under my usern...      0\n",
       "1       D'aww! He matches this background colour I'm s...      0\n",
       "2       Hey man, I'm really not trying to edit war. It...      0\n",
       "3       \"\\nMore\\nI can't make any real suggestions on ...      0\n",
       "4       You, sir, are my hero. Any chance you remember...      0\n",
       "...                                                   ...    ...\n",
       "159287  \":::::And for the second time of asking, when ...      0\n",
       "159288  You should be ashamed of yourself \\n\\nThat is ...      0\n",
       "159289  Spitzer \\n\\nUmm, theres no actual article for ...      0\n",
       "159290  And it looks like it was actually you who put ...      0\n",
       "159291  \"\\nAnd ... I really don't think you understand...      0\n",
       "\n",
       "[159292 rows x 2 columns]"
      ]
     },
     "execution_count": 4,
     "metadata": {},
     "output_type": "execute_result"
    }
   ],
   "source": [
    "#Удаляю лишний столбец\n",
    "data = data.drop(['Unnamed: 0'], axis=1)\n",
    "data"
   ]
  },
  {
   "cell_type": "code",
   "execution_count": 5,
   "metadata": {},
   "outputs": [
    {
     "name": "stdout",
     "output_type": "stream",
     "text": [
      "Количество нетоксичных и токсичных комментариев:\n",
      "0    143106\n",
      "1     16186\n",
      "Name: toxic, dtype: int64\n",
      "----------------------------------------------------------------------\n",
      "Количество пропусков:\n",
      "text     0\n",
      "toxic    0\n",
      "dtype: int64\n",
      "----------------------------------------------------------------------\n",
      "Количество дубликатов: 0\n"
     ]
    }
   ],
   "source": [
    "print('Количество нетоксичных и токсичных комментариев:')\n",
    "print(data['toxic'].value_counts())\n",
    "print(70 * '-')\n",
    "print('Количество пропусков:')\n",
    "print(data.isna().sum())\n",
    "print(70 * '-')\n",
    "print('Количество дубликатов:', data.duplicated().sum())"
   ]
  },
  {
   "cell_type": "code",
   "execution_count": 6,
   "metadata": {},
   "outputs": [
    {
     "data": {
      "text/plain": [
       "8.841344371679229"
      ]
     },
     "execution_count": 6,
     "metadata": {},
     "output_type": "execute_result"
    }
   ],
   "source": [
    "#Отношение нетоксичных комментариев к токсичным\n",
    "class_ratio = data['toxic'].value_counts()[0] / data['toxic'].value_counts()[1]\n",
    "class_ratio"
   ]
  },
  {
   "cell_type": "code",
   "execution_count": 7,
   "metadata": {},
   "outputs": [],
   "source": [
    "#Функция для замены регулярных выражений и понижения регистра\n",
    "def lemmatize_text(text):\n",
    "    text = text.lower()\n",
    "    cleared_text = re.sub(r'[^a-zA-Z]', ' ', text) \n",
    "    return \" \".join(cleared_text.split())\n",
    "\n",
    "data['lower_clear_text'] = data['text'].apply(lemmatize_text)\n",
    "\n",
    "data = data.drop(['text'], axis=1)"
   ]
  },
  {
   "cell_type": "code",
   "execution_count": 8,
   "metadata": {},
   "outputs": [
    {
     "data": {
      "text/html": [
       "<div>\n",
       "<style scoped>\n",
       "    .dataframe tbody tr th:only-of-type {\n",
       "        vertical-align: middle;\n",
       "    }\n",
       "\n",
       "    .dataframe tbody tr th {\n",
       "        vertical-align: top;\n",
       "    }\n",
       "\n",
       "    .dataframe thead th {\n",
       "        text-align: right;\n",
       "    }\n",
       "</style>\n",
       "<table border=\"1\" class=\"dataframe\">\n",
       "  <thead>\n",
       "    <tr style=\"text-align: right;\">\n",
       "      <th></th>\n",
       "      <th>toxic</th>\n",
       "      <th>lower_clear_text</th>\n",
       "    </tr>\n",
       "  </thead>\n",
       "  <tbody>\n",
       "    <tr>\n",
       "      <th>0</th>\n",
       "      <td>0</td>\n",
       "      <td>explanation why the edits made under my userna...</td>\n",
       "    </tr>\n",
       "    <tr>\n",
       "      <th>1</th>\n",
       "      <td>0</td>\n",
       "      <td>d aww he matches this background colour i m se...</td>\n",
       "    </tr>\n",
       "    <tr>\n",
       "      <th>2</th>\n",
       "      <td>0</td>\n",
       "      <td>hey man i m really not trying to edit war it s...</td>\n",
       "    </tr>\n",
       "    <tr>\n",
       "      <th>3</th>\n",
       "      <td>0</td>\n",
       "      <td>more i can t make any real suggestions on impr...</td>\n",
       "    </tr>\n",
       "    <tr>\n",
       "      <th>4</th>\n",
       "      <td>0</td>\n",
       "      <td>you sir are my hero any chance you remember wh...</td>\n",
       "    </tr>\n",
       "    <tr>\n",
       "      <th>...</th>\n",
       "      <td>...</td>\n",
       "      <td>...</td>\n",
       "    </tr>\n",
       "    <tr>\n",
       "      <th>159287</th>\n",
       "      <td>0</td>\n",
       "      <td>and for the second time of asking when your vi...</td>\n",
       "    </tr>\n",
       "    <tr>\n",
       "      <th>159288</th>\n",
       "      <td>0</td>\n",
       "      <td>you should be ashamed of yourself that is a ho...</td>\n",
       "    </tr>\n",
       "    <tr>\n",
       "      <th>159289</th>\n",
       "      <td>0</td>\n",
       "      <td>spitzer umm theres no actual article for prost...</td>\n",
       "    </tr>\n",
       "    <tr>\n",
       "      <th>159290</th>\n",
       "      <td>0</td>\n",
       "      <td>and it looks like it was actually you who put ...</td>\n",
       "    </tr>\n",
       "    <tr>\n",
       "      <th>159291</th>\n",
       "      <td>0</td>\n",
       "      <td>and i really don t think you understand i came...</td>\n",
       "    </tr>\n",
       "  </tbody>\n",
       "</table>\n",
       "<p>159292 rows × 2 columns</p>\n",
       "</div>"
      ],
      "text/plain": [
       "        toxic                                   lower_clear_text\n",
       "0           0  explanation why the edits made under my userna...\n",
       "1           0  d aww he matches this background colour i m se...\n",
       "2           0  hey man i m really not trying to edit war it s...\n",
       "3           0  more i can t make any real suggestions on impr...\n",
       "4           0  you sir are my hero any chance you remember wh...\n",
       "...       ...                                                ...\n",
       "159287      0  and for the second time of asking when your vi...\n",
       "159288      0  you should be ashamed of yourself that is a ho...\n",
       "159289      0  spitzer umm theres no actual article for prost...\n",
       "159290      0  and it looks like it was actually you who put ...\n",
       "159291      0  and i really don t think you understand i came...\n",
       "\n",
       "[159292 rows x 2 columns]"
      ]
     },
     "execution_count": 8,
     "metadata": {},
     "output_type": "execute_result"
    }
   ],
   "source": [
    "data"
   ]
  },
  {
   "cell_type": "code",
   "execution_count": 9,
   "metadata": {},
   "outputs": [],
   "source": [
    "L = WordNetLemmatizer()"
   ]
  },
  {
   "cell_type": "code",
   "execution_count": 10,
   "metadata": {},
   "outputs": [],
   "source": [
    "#Функция выполняет токенизациию и лемматизацию массива текстов\n",
    "def lemmatizered(corpus):\n",
    "    corpus_new = []\n",
    "    for sentence in corpus:\n",
    "        word_list = nltk.word_tokenize(sentence)\n",
    "        corpus_new.append(' '.join([L.lemmatize(w) for w in word_list]))\n",
    "    return corpus_new"
   ]
  },
  {
   "cell_type": "code",
   "execution_count": 11,
   "metadata": {},
   "outputs": [
    {
     "name": "stderr",
     "output_type": "stream",
     "text": [
      "[nltk_data] Downloading package stopwords to /home/jovyan/nltk_data...\n",
      "[nltk_data]   Package stopwords is already up-to-date!\n"
     ]
    },
    {
     "data": {
      "text/plain": [
       "['i', 'me', 'my', 'myself', 'we']"
      ]
     },
     "execution_count": 11,
     "metadata": {},
     "output_type": "execute_result"
    }
   ],
   "source": [
    "nltk.download('stopwords')\n",
    "stopwords.words('english')[:5]"
   ]
  },
  {
   "cell_type": "code",
   "execution_count": 12,
   "metadata": {},
   "outputs": [],
   "source": [
    "#Функция возвращает словарь, где возвращается значение часть речи (pos_tag)\n",
    "def get_wordnet_pos(word):\n",
    "    tag = nltk.pos_tag([word])[0][1][0].upper()\n",
    "    tag_dict = {\"J\": wordnet.ADJ,\n",
    "                \"N\": wordnet.NOUN,\n",
    "                \"V\": wordnet.VERB,\n",
    "                \"R\": wordnet.ADV}\n",
    " \n",
    "    return tag_dict.get(tag, wordnet.NOUN)"
   ]
  },
  {
   "cell_type": "code",
   "execution_count": 13,
   "metadata": {},
   "outputs": [],
   "source": [
    "#Функция выполняет токенизациию и лемматизацию массива текстов c учетом pos_tag и удаление стоп-слов\n",
    "def get_word_text(corpus):\n",
    "    corpus_new = []\n",
    "    for sentence in corpus:\n",
    "        corpus_new.append(' '.join([L.lemmatize(w, get_wordnet_pos(w)) for w in nltk.word_tokenize(sentence) if not w in stopwords.words('english')]))\n",
    "    return corpus_new"
   ]
  },
  {
   "cell_type": "code",
   "execution_count": 14,
   "metadata": {},
   "outputs": [
    {
     "name": "stdout",
     "output_type": "stream",
     "text": [
      "CPU times: user 1.77 s, sys: 145 ms, total: 1.92 s\n",
      "Wall time: 2.05 s\n"
     ]
    }
   ],
   "source": [
    "%%time\n",
    "data['lemma_text_no_sw'] = get_word_text(data['lower_clear_text'])"
   ]
  },
  {
   "cell_type": "code",
   "execution_count": 15,
   "metadata": {
    "scrolled": true
   },
   "outputs": [
    {
     "data": {
      "text/html": [
       "<div>\n",
       "<style scoped>\n",
       "    .dataframe tbody tr th:only-of-type {\n",
       "        vertical-align: middle;\n",
       "    }\n",
       "\n",
       "    .dataframe tbody tr th {\n",
       "        vertical-align: top;\n",
       "    }\n",
       "\n",
       "    .dataframe thead th {\n",
       "        text-align: right;\n",
       "    }\n",
       "</style>\n",
       "<table border=\"1\" class=\"dataframe\">\n",
       "  <thead>\n",
       "    <tr style=\"text-align: right;\">\n",
       "      <th></th>\n",
       "      <th>toxic</th>\n",
       "      <th>lemma_text_no_sw</th>\n",
       "    </tr>\n",
       "  </thead>\n",
       "  <tbody>\n",
       "    <tr>\n",
       "      <th>0</th>\n",
       "      <td>0</td>\n",
       "      <td>explanation edits make username hardcore metal...</td>\n",
       "    </tr>\n",
       "    <tr>\n",
       "      <th>1</th>\n",
       "      <td>0</td>\n",
       "      <td>aww match background colour seemingly stuck th...</td>\n",
       "    </tr>\n",
       "    <tr>\n",
       "      <th>2</th>\n",
       "      <td>0</td>\n",
       "      <td>hey man really try edit war guy constantly rem...</td>\n",
       "    </tr>\n",
       "    <tr>\n",
       "      <th>3</th>\n",
       "      <td>0</td>\n",
       "      <td>make real suggestion improvement wonder sectio...</td>\n",
       "    </tr>\n",
       "    <tr>\n",
       "      <th>4</th>\n",
       "      <td>0</td>\n",
       "      <td>sir hero chance remember page</td>\n",
       "    </tr>\n",
       "  </tbody>\n",
       "</table>\n",
       "</div>"
      ],
      "text/plain": [
       "   toxic                                   lemma_text_no_sw\n",
       "0      0  explanation edits make username hardcore metal...\n",
       "1      0  aww match background colour seemingly stuck th...\n",
       "2      0  hey man really try edit war guy constantly rem...\n",
       "3      0  make real suggestion improvement wonder sectio...\n",
       "4      0                      sir hero chance remember page"
      ]
     },
     "execution_count": 15,
     "metadata": {},
     "output_type": "execute_result"
    }
   ],
   "source": [
    "data = data.drop(['lower_clear_text'], axis=1)\n",
    "data.head()"
   ]
  },
  {
   "cell_type": "code",
   "execution_count": null,
   "metadata": {},
   "outputs": [],
   "source": [
    "#После преобразований появились дубликаты, удаляю их\n",
    "data.duplicated().sum()"
   ]
  },
  {
   "cell_type": "code",
   "execution_count": null,
   "metadata": {},
   "outputs": [],
   "source": [
    "data = data.drop_duplicates()"
   ]
  },
  {
   "cell_type": "code",
   "execution_count": null,
   "metadata": {},
   "outputs": [],
   "source": [
    "data.duplicated().sum()"
   ]
  },
  {
   "cell_type": "code",
   "execution_count": null,
   "metadata": {},
   "outputs": [],
   "source": [
    "#Деление на выборки\n",
    "features = data.drop(['toxic'], axis=1)\n",
    "target = data['toxic']\n",
    "\n",
    "features_train, features_test, target_train, target_test = train_test_split(features, \n",
    "                                                                              target, \n",
    "                                                                              test_size=0.2, \n",
    "                                                                              random_state=12345)\n",
    "features_train, features_valid, target_train, target_valid = train_test_split(features_train, \n",
    "                                                                            target_train, \n",
    "                                                                            test_size=0.25,\n",
    "                                                                            random_state=12345)"
   ]
  },
  {
   "cell_type": "code",
   "execution_count": null,
   "metadata": {},
   "outputs": [],
   "source": [
    "#Подключаю стоп-слова и преобразую признаки в тип Unicode\n",
    "nltk.download('stopwords')\n",
    "stopwords = set(nltk_stopwords.words('english'))\n",
    "\n",
    "count_tf_idf = TfidfVectorizer(stop_words=stopwords)\n",
    "\n",
    "features_train = count_tf_idf.fit_transform(features_train['lemm_text'].values)\n",
    "features_valid = count_tf_idf.transform(features_valid['lemm_text'].values)\n",
    "features_test = count_tf_idf.transform(features_test['lemm_text'].values)\n",
    "\n",
    "cv_counts = 3"
   ]
  },
  {
   "cell_type": "code",
   "execution_count": null,
   "metadata": {},
   "outputs": [],
   "source": [
    "%%time\n",
    "#Проверка модели на обучающих выборке с помощью кросс-валидации\n",
    "classificator = LogisticRegression()\n",
    "train_f1 = cross_val_score(classificator, \n",
    "                      features_train, \n",
    "                      target_train, \n",
    "                      cv=cv_counts, \n",
    "                      scoring='f1').mean()\n",
    "print('F1 на cv:', train_f1)"
   ]
  },
  {
   "cell_type": "code",
   "execution_count": null,
   "metadata": {},
   "outputs": [],
   "source": [
    "%%time\n",
    "#Так как данные не сбалансированы применяю балансировку\n",
    "classificator = LogisticRegression(class_weight='balanced')\n",
    "train_f1_ballanced = cross_val_score(classificator, \n",
    "                                    features_train, \n",
    "                                    target_train, \n",
    "                                    cv=cv_counts, \n",
    "                                    scoring='f1').mean()\n",
    "print('F1 на cv с балансированными классами:', train_f1_ballanced)"
   ]
  },
  {
   "cell_type": "code",
   "execution_count": null,
   "metadata": {},
   "outputs": [],
   "source": [
    "%%time\n",
    "\n",
    "dict_classes={0:1, 1:class_ratio}\n",
    "classificator = LogisticRegression(class_weight=dict_classes)\n",
    "train_f1_ballanced = cross_val_score(classificator, \n",
    "                                    features_train, \n",
    "                                    target_train, \n",
    "                                    cv=cv_counts, \n",
    "                                    scoring='f1').mean()\n",
    "print('F1 на cv с балансированными классами:', train_f1_ballanced)\n",
    "\n",
    "#F1 поднялась, но в первом случае недостаточно, так что дальше использую второй метод"
   ]
  },
  {
   "cell_type": "markdown",
   "metadata": {},
   "source": [
    "<b>Вывод</b>  \n",
    "После просмотра информации о данных оказалось, что есть не нужный столбец, который был удален. В целевом признаке присутствует дисбаланс - токсичных комментариев почти в 10 раз меньше, чем не токсичных. До обработки текста дубликатов не было, после замены регулярных выражений и лемматизации появились дубликаты, которые были удалены. Также данные были разбиты на выборки (обучающие, валидационные, тестовые). Из них были убраны стоп-слова и тип приведен к Unicode. Проверил F1 на обучающих данных. Результат не соответствует поставленной задаче, поэтому классы в целевом признаке были сбалансированы, что привело к повышению F1."
   ]
  },
  {
   "cell_type": "markdown",
   "metadata": {},
   "source": [
    "## Обучение"
   ]
  },
  {
   "cell_type": "code",
   "execution_count": null,
   "metadata": {},
   "outputs": [],
   "source": [
    "%%time\n",
    "#Подбираю лучшие параметры для логистической регрессии\n",
    "classificator = LogisticRegression()\n",
    "hyperparams = [{'solver':['lbfgs', 'liblinear'],\n",
    "                'C':[0.1, 1, 10],\n",
    "                'class_weight':[dict_classes]}]\n",
    "\n",
    "clf = GridSearchCV(classificator, hyperparams, scoring='f1',cv=cv_counts)\n",
    "clf.fit(features_train, target_train)\n",
    "print('Лучшие параметры:')\n",
    "LR_best_params = clf.best_params_\n",
    "print(LR_best_params)\n",
    "print(80*'-')\n",
    "means = clf.cv_results_['mean_test_score']\n",
    "stds = clf.cv_results_['std_test_score']\n",
    "for mean, std, params in zip(means, stds, clf.cv_results_['params']):\n",
    "    print(\"%0.6f for %r\"% (mean, params))\n",
    "print(80*'-')\n",
    "cv_f1_LR = max(means)\n",
    "print('F1 на cv:', cv_f1_LR)\n",
    "print(80*'-')"
   ]
  },
  {
   "cell_type": "code",
   "execution_count": null,
   "metadata": {},
   "outputs": [],
   "source": [
    "%%time\n",
    "#F1 на валидации\n",
    "classificator = LogisticRegression()\n",
    "classificator.set_params(**LR_best_params)\n",
    "classificator.fit(features_train, target_train)\n",
    "target_predict = classificator.predict(features_valid)\n",
    "valid_f1_LR = f1_score(target_valid, target_predict)\n",
    "print('F1 на валидации:', valid_f1_LR)\n",
    "print(80*'-')"
   ]
  },
  {
   "cell_type": "code",
   "execution_count": null,
   "metadata": {},
   "outputs": [],
   "source": [
    "%%time\n",
    "#Подбор параметров для дерева решений\n",
    "classificator = DecisionTreeClassifier()\n",
    "hyperparams = [{'max_depth':[x for x in range(30,51,2)],\n",
    "                'random_state':[12345],\n",
    "                'class_weight':[dict_classes]}]\n",
    "\n",
    "clf = GridSearchCV(classificator, hyperparams, scoring='f1',cv=cv_counts)\n",
    "clf.fit(features_train, target_train)\n",
    "print('Лучшие параметры:')\n",
    "DTC_best_params = clf.best_params_\n",
    "print(DTC_best_params)\n",
    "print(80*'-')\n",
    "means = clf.cv_results_['mean_test_score']\n",
    "stds = clf.cv_results_['std_test_score']\n",
    "for mean, std, params in zip(means, stds, clf.cv_results_['params']):\n",
    "    print(\"%0.6f for %r\"% (mean, params))\n",
    "print(80*'-')    \n",
    "cv_f1_DTC = max(means)\n",
    "print('F1 на cv:', cv_f1_DTC)\n",
    "print(80*'-')"
   ]
  },
  {
   "cell_type": "code",
   "execution_count": null,
   "metadata": {},
   "outputs": [],
   "source": [
    "%%time\n",
    "#F1 на валидации\n",
    "classificator = DecisionTreeClassifier()\n",
    "classificator.set_params(**DTC_best_params)\n",
    "classificator.fit(features_train, target_train)\n",
    "target_predict = classificator.predict(features_valid)\n",
    "valid_f1_DTC = f1_score(target_valid, target_predict)\n",
    "print('F1 на валидации', valid_f1_DTC)"
   ]
  },
  {
   "cell_type": "code",
   "execution_count": null,
   "metadata": {},
   "outputs": [],
   "source": [
    "%%time\n",
    "#Применение CatBoostClassifier\n",
    "classificator = CatBoostClassifier(verbose=False, iterations=200)\n",
    "classificator.fit(features_train, target_train)\n",
    "target_predict = classificator.predict(features_valid)\n",
    "cv_f1_CBC = cross_val_score(classificator,\n",
    "                                         features_train, \n",
    "                                         target_train, \n",
    "                                         cv=cv_counts, \n",
    "                                         scoring='f1').mean()\n",
    "valid_f1_CBC = f1_score(target_valid, target_predict)\n",
    "print('F1 на cv:', cv_f1_CBC)\n",
    "print('F1 на валидации:', valid_f1_CBC)"
   ]
  },
  {
   "cell_type": "markdown",
   "metadata": {},
   "source": [
    "<b>Вывод</b>  \n",
    "Были рассмотрены 3 модели: LogisticRegression, DecisionTreeClassifier, CatBoostClassifier. По F1 лучше всех себя показала LogisticRegression - результат 0.7698 на валидационной выборке, далее CatBoostClassifier с результатом 0.7522 на валидационной выборке. Хуже всех DecisionTreeClassifier - 0.6358 на валидационной выборке. На тестовой выборке буду использовать LogisticRegression.   "
   ]
  },
  {
   "cell_type": "markdown",
   "metadata": {},
   "source": [
    "## Выводы"
   ]
  },
  {
   "cell_type": "code",
   "execution_count": null,
   "metadata": {},
   "outputs": [],
   "source": [
    "#Проверка лучшей модели на тестовой выборке\n",
    "classificator = LogisticRegression()\n",
    "classificator.set_params(**LR_best_params)\n",
    "classificator.fit(features_train, target_train)\n",
    "predict_test = classificator.predict(features_test)\n",
    "print('F1:', f1_score(target_test, predict_test))"
   ]
  },
  {
   "cell_type": "markdown",
   "metadata": {},
   "source": [
    "<b>Вывод</b>  \n",
    "На тестовой выборке LogisticRegression показала результат 0.7599, что соответствует условию задачи."
   ]
  }
 ],
 "metadata": {
  "ExecuteTimeLog": [
   {
    "duration": 454,
    "start_time": "2023-06-10T08:13:13.933Z"
   },
   {
    "duration": 85,
    "start_time": "2023-06-10T08:13:47.373Z"
   },
   {
    "duration": 2344,
    "start_time": "2023-06-10T08:13:57.536Z"
   },
   {
    "duration": 15,
    "start_time": "2023-06-10T08:14:11.023Z"
   },
   {
    "duration": 31,
    "start_time": "2023-06-10T08:55:04.783Z"
   },
   {
    "duration": 3,
    "start_time": "2023-06-10T08:58:45.326Z"
   },
   {
    "duration": 891,
    "start_time": "2023-06-10T08:58:46.344Z"
   },
   {
    "duration": 31,
    "start_time": "2023-06-10T08:58:48.166Z"
   },
   {
    "duration": 8,
    "start_time": "2023-06-10T08:59:05.844Z"
   },
   {
    "duration": 955,
    "start_time": "2023-06-10T08:59:06.150Z"
   },
   {
    "duration": 31,
    "start_time": "2023-06-10T08:59:07.597Z"
   },
   {
    "duration": 8,
    "start_time": "2023-06-10T08:59:21.763Z"
   },
   {
    "duration": 919,
    "start_time": "2023-06-10T09:00:48.172Z"
   },
   {
    "duration": 36,
    "start_time": "2023-06-10T09:00:49.674Z"
   },
   {
    "duration": 11,
    "start_time": "2023-06-10T09:00:53.163Z"
   },
   {
    "duration": 105,
    "start_time": "2023-06-10T09:01:28.302Z"
   },
   {
    "duration": 253,
    "start_time": "2023-06-10T09:01:32.372Z"
   },
   {
    "duration": 204,
    "start_time": "2023-06-10T09:01:37.594Z"
   },
   {
    "duration": 46,
    "start_time": "2023-06-10T12:20:17.168Z"
   },
   {
    "duration": 399,
    "start_time": "2023-06-10T12:20:22.551Z"
   },
   {
    "duration": 2361,
    "start_time": "2023-06-10T12:20:22.952Z"
   },
   {
    "duration": 32,
    "start_time": "2023-06-10T12:20:25.315Z"
   },
   {
    "duration": 12,
    "start_time": "2023-06-10T12:20:25.349Z"
   },
   {
    "duration": 248,
    "start_time": "2023-06-10T12:20:25.363Z"
   },
   {
    "duration": 49,
    "start_time": "2023-06-10T12:20:47.188Z"
   },
   {
    "duration": 364,
    "start_time": "2023-06-10T12:20:52.188Z"
   },
   {
    "duration": 2364,
    "start_time": "2023-06-10T12:20:53.051Z"
   },
   {
    "duration": 34,
    "start_time": "2023-06-10T12:20:56.662Z"
   },
   {
    "duration": 12,
    "start_time": "2023-06-10T12:20:58.820Z"
   },
   {
    "duration": 246,
    "start_time": "2023-06-10T12:20:59.804Z"
   },
   {
    "duration": 49,
    "start_time": "2023-06-10T12:22:16.393Z"
   },
   {
    "duration": 6,
    "start_time": "2023-06-10T12:24:11.510Z"
   },
   {
    "duration": 386,
    "start_time": "2023-06-10T12:24:16.780Z"
   },
   {
    "duration": 2392,
    "start_time": "2023-06-10T12:24:17.168Z"
   },
   {
    "duration": 34,
    "start_time": "2023-06-10T12:24:19.562Z"
   },
   {
    "duration": 12,
    "start_time": "2023-06-10T12:24:19.598Z"
   },
   {
    "duration": 238,
    "start_time": "2023-06-10T12:24:19.612Z"
   },
   {
    "duration": 1798,
    "start_time": "2023-06-10T12:24:19.852Z"
   },
   {
    "duration": 420,
    "start_time": "2023-06-10T12:24:46.329Z"
   },
   {
    "duration": 2412,
    "start_time": "2023-06-10T12:24:46.751Z"
   },
   {
    "duration": 34,
    "start_time": "2023-06-10T12:24:49.167Z"
   },
   {
    "duration": 12,
    "start_time": "2023-06-10T12:24:49.203Z"
   },
   {
    "duration": 242,
    "start_time": "2023-06-10T12:24:49.218Z"
   },
   {
    "duration": 1799,
    "start_time": "2023-06-10T12:24:49.462Z"
   },
   {
    "duration": 5,
    "start_time": "2023-06-10T12:24:59.093Z"
   },
   {
    "duration": 7,
    "start_time": "2023-06-10T12:28:03.683Z"
   },
   {
    "duration": 476,
    "start_time": "2023-06-10T21:05:44.398Z"
   },
   {
    "duration": 2376,
    "start_time": "2023-06-10T21:05:44.877Z"
   },
   {
    "duration": 30,
    "start_time": "2023-06-10T21:05:47.257Z"
   },
   {
    "duration": 17,
    "start_time": "2023-06-10T21:05:47.289Z"
   },
   {
    "duration": 17,
    "start_time": "2023-06-10T21:05:47.307Z"
   },
   {
    "duration": 235,
    "start_time": "2023-06-10T21:05:47.325Z"
   },
   {
    "duration": 7,
    "start_time": "2023-06-10T21:06:22.786Z"
   },
   {
    "duration": 91,
    "start_time": "2023-06-10T21:06:40.976Z"
   },
   {
    "duration": 17,
    "start_time": "2023-06-10T21:06:54.198Z"
   },
   {
    "duration": 6,
    "start_time": "2023-06-10T21:07:27.728Z"
   },
   {
    "duration": 197,
    "start_time": "2023-06-10T21:07:29.310Z"
   },
   {
    "duration": 67,
    "start_time": "2023-06-10T21:10:36.786Z"
   },
   {
    "duration": 69,
    "start_time": "2023-06-10T21:11:06.981Z"
   },
   {
    "duration": 70,
    "start_time": "2023-06-10T21:11:12.964Z"
   },
   {
    "duration": 66,
    "start_time": "2023-06-10T21:11:18.031Z"
   },
   {
    "duration": 70,
    "start_time": "2023-06-10T21:11:52.726Z"
   },
   {
    "duration": 91,
    "start_time": "2023-06-10T21:12:24.782Z"
   },
   {
    "duration": 273,
    "start_time": "2023-06-10T21:13:08.314Z"
   },
   {
    "duration": 276,
    "start_time": "2023-06-10T21:13:17.800Z"
   },
   {
    "duration": 35,
    "start_time": "2023-06-10T21:14:32.215Z"
   },
   {
    "duration": 21,
    "start_time": "2023-06-10T21:14:34.321Z"
   },
   {
    "duration": 228,
    "start_time": "2023-06-10T21:14:57.810Z"
   },
   {
    "duration": 358,
    "start_time": "2023-06-10T21:15:03.573Z"
   },
   {
    "duration": 928,
    "start_time": "2023-06-10T21:15:03.932Z"
   },
   {
    "duration": 38,
    "start_time": "2023-06-10T21:15:04.862Z"
   },
   {
    "duration": 41,
    "start_time": "2023-06-10T21:15:04.903Z"
   },
   {
    "duration": 272,
    "start_time": "2023-06-10T21:15:04.946Z"
   },
   {
    "duration": 6,
    "start_time": "2023-06-10T21:15:05.219Z"
   },
   {
    "duration": 221,
    "start_time": "2023-06-10T21:15:05.227Z"
   },
   {
    "duration": 20,
    "start_time": "2023-06-10T21:15:40.622Z"
   },
   {
    "duration": 417,
    "start_time": "2023-06-10T21:15:46.924Z"
   },
   {
    "duration": 890,
    "start_time": "2023-06-10T21:15:47.342Z"
   },
   {
    "duration": 24,
    "start_time": "2023-06-10T21:15:48.233Z"
   },
   {
    "duration": 54,
    "start_time": "2023-06-10T21:15:48.259Z"
   },
   {
    "duration": 292,
    "start_time": "2023-06-10T21:15:48.315Z"
   },
   {
    "duration": 18,
    "start_time": "2023-06-10T21:15:48.608Z"
   },
   {
    "duration": 226,
    "start_time": "2023-06-10T21:15:48.627Z"
   },
   {
    "duration": 197,
    "start_time": "2023-06-10T21:16:53.943Z"
   },
   {
    "duration": 272,
    "start_time": "2023-06-10T21:58:49.066Z"
   },
   {
    "duration": 256,
    "start_time": "2023-06-10T21:58:57.661Z"
   },
   {
    "duration": 422,
    "start_time": "2023-06-10T22:01:04.589Z"
   },
   {
    "duration": 914,
    "start_time": "2023-06-10T22:01:05.013Z"
   },
   {
    "duration": 27,
    "start_time": "2023-06-10T22:01:05.929Z"
   },
   {
    "duration": 27,
    "start_time": "2023-06-10T22:01:05.958Z"
   },
   {
    "duration": 273,
    "start_time": "2023-06-10T22:01:05.987Z"
   },
   {
    "duration": 354,
    "start_time": "2023-06-10T22:01:42.272Z"
   },
   {
    "duration": 2318,
    "start_time": "2023-06-10T22:01:42.628Z"
   },
   {
    "duration": 26,
    "start_time": "2023-06-10T22:01:44.947Z"
   },
   {
    "duration": 34,
    "start_time": "2023-06-10T22:01:44.974Z"
   },
   {
    "duration": 274,
    "start_time": "2023-06-10T22:01:45.010Z"
   },
   {
    "duration": 311,
    "start_time": "2023-06-10T22:01:45.286Z"
   },
   {
    "duration": 457,
    "start_time": "2023-06-10T22:08:07.374Z"
   },
   {
    "duration": 2,
    "start_time": "2023-06-10T22:08:10.056Z"
   },
   {
    "duration": 531,
    "start_time": "2023-06-10T22:08:10.865Z"
   },
   {
    "duration": 2,
    "start_time": "2023-06-10T22:08:19.476Z"
   },
   {
    "duration": 338,
    "start_time": "2023-06-10T22:08:23.376Z"
   },
   {
    "duration": 825,
    "start_time": "2023-06-10T22:08:23.716Z"
   },
   {
    "duration": 22,
    "start_time": "2023-06-10T22:08:24.543Z"
   },
   {
    "duration": 32,
    "start_time": "2023-06-10T22:08:24.567Z"
   },
   {
    "duration": 257,
    "start_time": "2023-06-10T22:08:24.601Z"
   },
   {
    "duration": 3,
    "start_time": "2023-06-10T22:08:24.859Z"
   },
   {
    "duration": 1322,
    "start_time": "2023-06-10T22:08:24.863Z"
   },
   {
    "duration": 1383,
    "start_time": "2023-06-10T22:08:30.664Z"
   },
   {
    "duration": 2,
    "start_time": "2023-06-10T22:09:48.984Z"
   },
   {
    "duration": 1571,
    "start_time": "2023-06-10T22:09:49.738Z"
   },
   {
    "duration": 2616,
    "start_time": "2023-06-10T22:09:58.428Z"
   },
   {
    "duration": 741,
    "start_time": "2023-06-10T22:10:26.559Z"
   },
   {
    "duration": 4,
    "start_time": "2023-06-10T22:11:38.420Z"
   },
   {
    "duration": 2,
    "start_time": "2023-06-10T22:11:38.983Z"
   },
   {
    "duration": 2016,
    "start_time": "2023-06-10T22:11:39.437Z"
   },
   {
    "duration": 1567,
    "start_time": "2023-06-10T22:11:44.500Z"
   },
   {
    "duration": 1518,
    "start_time": "2023-06-10T22:13:04.645Z"
   },
   {
    "duration": 3,
    "start_time": "2023-06-10T22:14:34.226Z"
   },
   {
    "duration": 1237,
    "start_time": "2023-06-10T22:14:41.517Z"
   },
   {
    "duration": 845,
    "start_time": "2023-06-10T22:14:42.755Z"
   },
   {
    "duration": 37,
    "start_time": "2023-06-10T22:14:43.602Z"
   },
   {
    "duration": 28,
    "start_time": "2023-06-10T22:14:43.641Z"
   },
   {
    "duration": 264,
    "start_time": "2023-06-10T22:14:43.671Z"
   },
   {
    "duration": 3,
    "start_time": "2023-06-10T22:14:43.937Z"
   },
   {
    "duration": 1388,
    "start_time": "2023-06-10T22:14:43.941Z"
   },
   {
    "duration": 2,
    "start_time": "2023-06-10T22:14:45.331Z"
   },
   {
    "duration": 1498,
    "start_time": "2023-06-10T22:14:45.335Z"
   },
   {
    "duration": 3,
    "start_time": "2023-06-10T22:14:46.835Z"
   },
   {
    "duration": 5,
    "start_time": "2023-06-10T22:14:46.840Z"
   },
   {
    "duration": 2112,
    "start_time": "2023-06-10T22:14:46.846Z"
   },
   {
    "duration": 3,
    "start_time": "2023-06-10T22:16:06.132Z"
   },
   {
    "duration": 2,
    "start_time": "2023-06-10T22:17:08.981Z"
   },
   {
    "duration": 3,
    "start_time": "2023-06-10T22:17:10.116Z"
   },
   {
    "duration": 18036,
    "start_time": "2023-06-10T22:17:10.723Z"
   },
   {
    "duration": 16284,
    "start_time": "2023-06-10T22:17:33.367Z"
   },
   {
    "duration": 1272,
    "start_time": "2023-06-11T07:51:08.595Z"
   },
   {
    "duration": 2288,
    "start_time": "2023-06-11T07:51:09.869Z"
   },
   {
    "duration": 25,
    "start_time": "2023-06-11T07:51:12.160Z"
   },
   {
    "duration": 64,
    "start_time": "2023-06-11T07:51:12.187Z"
   },
   {
    "duration": 272,
    "start_time": "2023-06-11T07:51:12.253Z"
   },
   {
    "duration": 3,
    "start_time": "2023-06-11T07:51:12.527Z"
   },
   {
    "duration": 1473,
    "start_time": "2023-06-11T07:51:12.532Z"
   },
   {
    "duration": 2,
    "start_time": "2023-06-11T07:51:14.007Z"
   },
   {
    "duration": 1440,
    "start_time": "2023-06-11T07:51:14.011Z"
   },
   {
    "duration": 4,
    "start_time": "2023-06-11T07:51:15.452Z"
   },
   {
    "duration": 26,
    "start_time": "2023-06-11T07:51:15.458Z"
   },
   {
    "duration": 1906,
    "start_time": "2023-06-11T07:51:15.485Z"
   },
   {
    "duration": 3,
    "start_time": "2023-06-11T07:51:17.393Z"
   },
   {
    "duration": 7,
    "start_time": "2023-06-11T07:51:17.397Z"
   },
   {
    "duration": 17666,
    "start_time": "2023-06-11T07:51:17.405Z"
   },
   {
    "duration": 841,
    "start_time": "2023-06-11T07:51:35.072Z"
   },
   {
    "duration": 856,
    "start_time": "2023-06-11T07:51:39.687Z"
   },
   {
    "duration": 639,
    "start_time": "2023-06-11T07:52:06.343Z"
   },
   {
    "duration": 1268,
    "start_time": "2023-06-11T07:52:12.265Z"
   },
   {
    "duration": 875,
    "start_time": "2023-06-11T07:52:13.535Z"
   },
   {
    "duration": 30,
    "start_time": "2023-06-11T07:52:14.412Z"
   },
   {
    "duration": 23,
    "start_time": "2023-06-11T07:52:14.443Z"
   },
   {
    "duration": 268,
    "start_time": "2023-06-11T07:52:14.468Z"
   },
   {
    "duration": 3,
    "start_time": "2023-06-11T07:52:14.738Z"
   },
   {
    "duration": 1507,
    "start_time": "2023-06-11T07:52:14.743Z"
   },
   {
    "duration": 184,
    "start_time": "2023-06-11T07:52:16.252Z"
   },
   {
    "duration": 3,
    "start_time": "2023-06-11T07:52:16.437Z"
   },
   {
    "duration": 1402,
    "start_time": "2023-06-11T07:52:16.441Z"
   },
   {
    "duration": 4,
    "start_time": "2023-06-11T07:52:17.844Z"
   },
   {
    "duration": 7,
    "start_time": "2023-06-11T07:52:17.850Z"
   },
   {
    "duration": 1986,
    "start_time": "2023-06-11T07:52:17.858Z"
   },
   {
    "duration": 2,
    "start_time": "2023-06-11T07:52:19.846Z"
   },
   {
    "duration": 6,
    "start_time": "2023-06-11T07:52:19.850Z"
   },
   {
    "duration": 18539,
    "start_time": "2023-06-11T07:52:19.857Z"
   },
   {
    "duration": 30,
    "start_time": "2023-06-11T09:02:43.869Z"
   },
   {
    "duration": 1358,
    "start_time": "2023-06-11T09:05:54.145Z"
   },
   {
    "duration": 868,
    "start_time": "2023-06-11T09:05:55.505Z"
   },
   {
    "duration": 28,
    "start_time": "2023-06-11T09:05:56.374Z"
   },
   {
    "duration": 35,
    "start_time": "2023-06-11T09:05:56.404Z"
   },
   {
    "duration": 256,
    "start_time": "2023-06-11T09:05:56.442Z"
   },
   {
    "duration": 90485,
    "start_time": "2023-06-11T09:05:56.700Z"
   },
   {
    "duration": 2,
    "start_time": "2023-06-11T09:07:27.187Z"
   },
   {
    "duration": 1683,
    "start_time": "2023-06-11T09:07:27.191Z"
   },
   {
    "duration": 0,
    "start_time": "2023-06-11T09:07:28.876Z"
   },
   {
    "duration": 0,
    "start_time": "2023-06-11T09:07:28.877Z"
   },
   {
    "duration": 0,
    "start_time": "2023-06-11T09:07:28.878Z"
   },
   {
    "duration": 0,
    "start_time": "2023-06-11T09:07:28.879Z"
   },
   {
    "duration": 0,
    "start_time": "2023-06-11T09:07:28.880Z"
   },
   {
    "duration": 0,
    "start_time": "2023-06-11T09:07:28.881Z"
   },
   {
    "duration": 0,
    "start_time": "2023-06-11T09:07:28.882Z"
   },
   {
    "duration": 0,
    "start_time": "2023-06-11T09:07:28.884Z"
   },
   {
    "duration": 0,
    "start_time": "2023-06-11T09:07:28.884Z"
   },
   {
    "duration": 2157,
    "start_time": "2023-06-11T09:30:13.505Z"
   },
   {
    "duration": 1466,
    "start_time": "2023-06-11T09:30:25.785Z"
   },
   {
    "duration": 2,
    "start_time": "2023-06-11T09:30:45.882Z"
   },
   {
    "duration": 793,
    "start_time": "2023-06-11T09:30:46.904Z"
   },
   {
    "duration": 38,
    "start_time": "2023-06-11T09:30:47.698Z"
   },
   {
    "duration": 19,
    "start_time": "2023-06-11T09:30:48.771Z"
   },
   {
    "duration": 242,
    "start_time": "2023-06-11T09:30:51.212Z"
   },
   {
    "duration": 98907,
    "start_time": "2023-06-11T09:31:02.344Z"
   },
   {
    "duration": 12,
    "start_time": "2023-06-11T09:32:47.520Z"
   },
   {
    "duration": 225,
    "start_time": "2023-06-11T12:30:25.754Z"
   },
   {
    "duration": 229,
    "start_time": "2023-06-11T12:30:30.703Z"
   },
   {
    "duration": 265,
    "start_time": "2023-06-11T12:31:18.549Z"
   },
   {
    "duration": 280,
    "start_time": "2023-06-11T12:31:27.399Z"
   },
   {
    "duration": 309,
    "start_time": "2023-06-11T12:31:31.199Z"
   },
   {
    "duration": 263,
    "start_time": "2023-06-11T12:31:32.898Z"
   },
   {
    "duration": 3,
    "start_time": "2023-06-11T12:35:06.611Z"
   },
   {
    "duration": 67,
    "start_time": "2023-06-11T12:36:31.745Z"
   },
   {
    "duration": 196,
    "start_time": "2023-06-11T12:37:35.389Z"
   },
   {
    "duration": 3,
    "start_time": "2023-06-11T12:38:08.085Z"
   },
   {
    "duration": 12326,
    "start_time": "2023-06-11T12:38:11.363Z"
   },
   {
    "duration": 26,
    "start_time": "2023-06-11T12:39:40.993Z"
   },
   {
    "duration": 4,
    "start_time": "2023-06-11T12:40:40.756Z"
   },
   {
    "duration": 11,
    "start_time": "2023-06-11T12:40:44.699Z"
   },
   {
    "duration": 4,
    "start_time": "2023-06-11T12:40:59.070Z"
   },
   {
    "duration": 12,
    "start_time": "2023-06-11T12:41:03.564Z"
   },
   {
    "duration": 1441,
    "start_time": "2023-06-11T12:41:10.466Z"
   },
   {
    "duration": 990,
    "start_time": "2023-06-11T12:41:11.909Z"
   },
   {
    "duration": 41,
    "start_time": "2023-06-11T12:41:12.900Z"
   },
   {
    "duration": 45,
    "start_time": "2023-06-11T12:41:12.944Z"
   },
   {
    "duration": 303,
    "start_time": "2023-06-11T12:41:12.993Z"
   },
   {
    "duration": 116496,
    "start_time": "2023-06-11T12:41:13.308Z"
   },
   {
    "duration": 10,
    "start_time": "2023-06-11T12:43:09.806Z"
   },
   {
    "duration": 280,
    "start_time": "2023-06-11T12:43:09.817Z"
   },
   {
    "duration": 270,
    "start_time": "2023-06-11T12:43:10.099Z"
   },
   {
    "duration": 222,
    "start_time": "2023-06-11T12:43:10.372Z"
   },
   {
    "duration": 78,
    "start_time": "2023-06-11T12:43:10.597Z"
   },
   {
    "duration": 13185,
    "start_time": "2023-06-11T12:43:10.677Z"
   },
   {
    "duration": 89863,
    "start_time": "2023-06-11T12:43:23.863Z"
   },
   {
    "duration": 72225,
    "start_time": "2023-06-11T13:09:29.771Z"
   },
   {
    "duration": 69021,
    "start_time": "2023-06-11T13:11:03.143Z"
   },
   {
    "duration": 166,
    "start_time": "2023-06-11T13:22:17.802Z"
   },
   {
    "duration": 1597,
    "start_time": "2023-06-11T13:22:53.122Z"
   },
   {
    "duration": 1094,
    "start_time": "2023-06-11T13:22:54.721Z"
   },
   {
    "duration": 37,
    "start_time": "2023-06-11T13:22:55.817Z"
   },
   {
    "duration": 51,
    "start_time": "2023-06-11T13:22:55.857Z"
   },
   {
    "duration": 294,
    "start_time": "2023-06-11T13:22:55.912Z"
   },
   {
    "duration": 153,
    "start_time": "2023-06-11T13:22:56.208Z"
   },
   {
    "duration": 0,
    "start_time": "2023-06-11T13:22:56.363Z"
   },
   {
    "duration": 0,
    "start_time": "2023-06-11T13:22:56.365Z"
   },
   {
    "duration": 0,
    "start_time": "2023-06-11T13:22:56.367Z"
   },
   {
    "duration": 0,
    "start_time": "2023-06-11T13:22:56.369Z"
   },
   {
    "duration": 0,
    "start_time": "2023-06-11T13:22:56.371Z"
   },
   {
    "duration": 0,
    "start_time": "2023-06-11T13:22:56.372Z"
   },
   {
    "duration": 0,
    "start_time": "2023-06-11T13:22:56.374Z"
   },
   {
    "duration": 0,
    "start_time": "2023-06-11T13:22:56.375Z"
   },
   {
    "duration": 0,
    "start_time": "2023-06-11T13:22:56.376Z"
   },
   {
    "duration": 0,
    "start_time": "2023-06-11T13:22:56.378Z"
   },
   {
    "duration": 12,
    "start_time": "2023-06-11T13:23:11.556Z"
   },
   {
    "duration": 1411,
    "start_time": "2023-06-11T13:24:03.008Z"
   },
   {
    "duration": 1079,
    "start_time": "2023-06-11T13:24:04.421Z"
   },
   {
    "duration": 36,
    "start_time": "2023-06-11T13:24:05.502Z"
   },
   {
    "duration": 64,
    "start_time": "2023-06-11T13:24:05.539Z"
   },
   {
    "duration": 335,
    "start_time": "2023-06-11T13:24:05.605Z"
   },
   {
    "duration": 10,
    "start_time": "2023-06-11T13:24:05.943Z"
   },
   {
    "duration": 116595,
    "start_time": "2023-06-11T13:24:05.955Z"
   },
   {
    "duration": 14,
    "start_time": "2023-06-11T13:26:02.554Z"
   },
   {
    "duration": 254,
    "start_time": "2023-06-11T13:26:02.571Z"
   },
   {
    "duration": 261,
    "start_time": "2023-06-11T13:26:02.827Z"
   },
   {
    "duration": 238,
    "start_time": "2023-06-11T13:26:03.090Z"
   },
   {
    "duration": 70,
    "start_time": "2023-06-11T13:26:03.329Z"
   },
   {
    "duration": 14028,
    "start_time": "2023-06-11T13:26:03.401Z"
   },
   {
    "duration": 93648,
    "start_time": "2023-06-11T13:26:17.432Z"
   },
   {
    "duration": 71554,
    "start_time": "2023-06-11T13:27:51.082Z"
   },
   {
    "duration": 137979,
    "start_time": "2023-06-11T13:29:02.647Z"
   },
   {
    "duration": 465777,
    "start_time": "2023-06-11T13:33:35.669Z"
   },
   {
    "duration": 23739,
    "start_time": "2023-06-11T13:43:06.417Z"
   },
   {
    "duration": 24,
    "start_time": "2023-06-11T13:47:17.370Z"
   },
   {
    "duration": 670581,
    "start_time": "2023-06-11T13:47:49.655Z"
   },
   {
    "duration": 28696,
    "start_time": "2023-06-11T14:15:25.592Z"
   },
   {
    "duration": 239,
    "start_time": "2023-06-11T14:35:45.966Z"
   },
   {
    "duration": 123,
    "start_time": "2023-06-11T14:36:00.292Z"
   },
   {
    "duration": 1715551,
    "start_time": "2023-06-11T14:36:05.960Z"
   },
   {
    "duration": 28132,
    "start_time": "2023-06-11T15:19:49.215Z"
   },
   {
    "duration": 1785,
    "start_time": "2023-06-11T17:38:51.117Z"
   },
   {
    "duration": 1658,
    "start_time": "2023-06-11T17:38:55.937Z"
   },
   {
    "duration": 5359,
    "start_time": "2023-06-11T17:38:57.601Z"
   },
   {
    "duration": 54,
    "start_time": "2023-06-11T17:39:02.964Z"
   },
   {
    "duration": 57,
    "start_time": "2023-06-11T17:39:03.025Z"
   },
   {
    "duration": 355,
    "start_time": "2023-06-11T17:39:03.088Z"
   },
   {
    "duration": 9,
    "start_time": "2023-06-11T17:39:03.445Z"
   },
   {
    "duration": 134198,
    "start_time": "2023-06-11T17:39:03.457Z"
   },
   {
    "duration": 12,
    "start_time": "2023-06-11T17:41:17.658Z"
   },
   {
    "duration": 309,
    "start_time": "2023-06-11T17:41:17.672Z"
   },
   {
    "duration": 264,
    "start_time": "2023-06-11T17:41:17.984Z"
   },
   {
    "duration": 240,
    "start_time": "2023-06-11T17:41:18.250Z"
   },
   {
    "duration": 64,
    "start_time": "2023-06-11T17:41:18.491Z"
   },
   {
    "duration": 14106,
    "start_time": "2023-06-11T17:41:18.557Z"
   },
   {
    "duration": 85755,
    "start_time": "2023-06-11T17:41:32.665Z"
   },
   {
    "duration": 71513,
    "start_time": "2023-06-11T17:42:58.429Z"
   },
   {
    "duration": 122209,
    "start_time": "2023-06-11T17:44:09.950Z"
   },
   {
    "duration": 408687,
    "start_time": "2023-06-11T17:46:12.161Z"
   },
   {
    "duration": 23080,
    "start_time": "2023-06-11T17:53:00.850Z"
   },
   {
    "duration": 725806,
    "start_time": "2023-06-11T17:53:23.938Z"
   },
   {
    "duration": 24961,
    "start_time": "2023-06-11T18:05:29.745Z"
   },
   {
    "duration": 1693634,
    "start_time": "2023-06-11T18:05:54.714Z"
   },
   {
    "duration": 24393,
    "start_time": "2023-06-11T18:34:08.350Z"
   },
   {
    "duration": 8753,
    "start_time": "2023-06-11T19:21:46.861Z"
   },
   {
    "duration": 6377,
    "start_time": "2023-06-11T19:21:55.623Z"
   },
   {
    "duration": 65,
    "start_time": "2023-06-11T19:22:02.014Z"
   },
   {
    "duration": 188,
    "start_time": "2023-06-11T19:22:02.081Z"
   },
   {
    "duration": 451,
    "start_time": "2023-06-11T19:22:02.271Z"
   },
   {
    "duration": 181,
    "start_time": "2023-06-11T19:22:02.725Z"
   },
   {
    "duration": 0,
    "start_time": "2023-06-11T19:22:02.911Z"
   },
   {
    "duration": 0,
    "start_time": "2023-06-11T19:22:02.914Z"
   },
   {
    "duration": 0,
    "start_time": "2023-06-11T19:22:02.919Z"
   },
   {
    "duration": 0,
    "start_time": "2023-06-11T19:22:02.927Z"
   },
   {
    "duration": 0,
    "start_time": "2023-06-11T19:22:02.934Z"
   },
   {
    "duration": 0,
    "start_time": "2023-06-11T19:22:02.938Z"
   },
   {
    "duration": 0,
    "start_time": "2023-06-11T19:22:02.941Z"
   },
   {
    "duration": 0,
    "start_time": "2023-06-11T19:22:02.944Z"
   },
   {
    "duration": 0,
    "start_time": "2023-06-11T19:22:02.947Z"
   },
   {
    "duration": 0,
    "start_time": "2023-06-11T19:22:02.948Z"
   },
   {
    "duration": 0,
    "start_time": "2023-06-11T19:22:02.953Z"
   },
   {
    "duration": 0,
    "start_time": "2023-06-11T19:22:02.954Z"
   },
   {
    "duration": 0,
    "start_time": "2023-06-11T19:22:02.955Z"
   },
   {
    "duration": 0,
    "start_time": "2023-06-11T19:22:02.956Z"
   },
   {
    "duration": 0,
    "start_time": "2023-06-11T19:22:02.957Z"
   },
   {
    "duration": 0,
    "start_time": "2023-06-11T19:22:02.958Z"
   },
   {
    "duration": 19,
    "start_time": "2023-06-11T19:31:55.027Z"
   },
   {
    "duration": 124758,
    "start_time": "2023-06-11T19:31:56.308Z"
   },
   {
    "duration": 10,
    "start_time": "2023-06-11T19:34:01.068Z"
   },
   {
    "duration": 402,
    "start_time": "2023-06-11T19:34:01.079Z"
   },
   {
    "duration": 260,
    "start_time": "2023-06-11T19:34:01.483Z"
   },
   {
    "duration": 302,
    "start_time": "2023-06-11T19:34:01.755Z"
   },
   {
    "duration": 92,
    "start_time": "2023-06-11T19:34:02.069Z"
   },
   {
    "duration": 17711,
    "start_time": "2023-06-11T19:34:02.167Z"
   },
   {
    "duration": 99357,
    "start_time": "2023-06-11T19:34:19.880Z"
   },
   {
    "duration": 4,
    "start_time": "2023-06-11T19:35:59.241Z"
   },
   {
    "duration": 0,
    "start_time": "2023-06-11T19:35:59.247Z"
   },
   {
    "duration": 0,
    "start_time": "2023-06-11T19:35:59.248Z"
   },
   {
    "duration": 0,
    "start_time": "2023-06-11T19:35:59.249Z"
   },
   {
    "duration": 0,
    "start_time": "2023-06-11T19:35:59.250Z"
   },
   {
    "duration": 0,
    "start_time": "2023-06-11T19:35:59.251Z"
   },
   {
    "duration": 0,
    "start_time": "2023-06-11T19:35:59.252Z"
   },
   {
    "duration": 0,
    "start_time": "2023-06-11T19:35:59.253Z"
   },
   {
    "duration": 70631,
    "start_time": "2023-06-11T19:56:57.235Z"
   },
   {
    "duration": 136930,
    "start_time": "2023-06-11T19:58:07.868Z"
   },
   {
    "duration": 448180,
    "start_time": "2023-06-11T20:00:24.799Z"
   },
   {
    "duration": 21949,
    "start_time": "2023-06-11T20:07:52.981Z"
   },
   {
    "duration": 131,
    "start_time": "2023-06-11T20:08:14.934Z"
   },
   {
    "duration": 0,
    "start_time": "2023-06-11T20:08:15.066Z"
   },
   {
    "duration": 0,
    "start_time": "2023-06-11T20:08:15.067Z"
   },
   {
    "duration": 0,
    "start_time": "2023-06-11T20:08:15.068Z"
   },
   {
    "duration": 448469,
    "start_time": "2023-06-11T20:19:28.762Z"
   },
   {
    "duration": 2722,
    "start_time": "2023-06-11T20:30:39.116Z"
   },
   {
    "duration": 4026,
    "start_time": "2023-06-11T20:30:41.841Z"
   },
   {
    "duration": 31,
    "start_time": "2023-06-11T20:30:45.869Z"
   },
   {
    "duration": 71,
    "start_time": "2023-06-11T20:30:45.901Z"
   },
   {
    "duration": 340,
    "start_time": "2023-06-11T20:30:45.974Z"
   },
   {
    "duration": 15,
    "start_time": "2023-06-11T20:30:46.316Z"
   },
   {
    "duration": 115486,
    "start_time": "2023-06-11T20:30:46.337Z"
   },
   {
    "duration": 9,
    "start_time": "2023-06-11T20:32:41.831Z"
   },
   {
    "duration": 220,
    "start_time": "2023-06-11T20:32:41.841Z"
   },
   {
    "duration": 218,
    "start_time": "2023-06-11T20:32:42.063Z"
   },
   {
    "duration": 238,
    "start_time": "2023-06-11T20:32:42.283Z"
   },
   {
    "duration": 54,
    "start_time": "2023-06-11T20:32:42.523Z"
   },
   {
    "duration": 11098,
    "start_time": "2023-06-11T20:32:42.581Z"
   },
   {
    "duration": 88529,
    "start_time": "2023-06-11T20:32:53.681Z"
   },
   {
    "duration": 72120,
    "start_time": "2023-06-11T20:34:22.226Z"
   },
   {
    "duration": 140560,
    "start_time": "2023-06-11T20:35:34.348Z"
   },
   {
    "duration": 452817,
    "start_time": "2023-06-11T20:37:54.912Z"
   },
   {
    "duration": 23101,
    "start_time": "2023-06-11T20:45:27.730Z"
   },
   {
    "duration": 689543,
    "start_time": "2023-06-11T20:45:50.833Z"
   },
   {
    "duration": 26174,
    "start_time": "2023-06-11T20:57:20.377Z"
   },
   {
    "duration": 1681,
    "start_time": "2023-06-11T21:25:01.262Z"
   },
   {
    "duration": 1129,
    "start_time": "2023-06-11T21:25:02.946Z"
   },
   {
    "duration": 62,
    "start_time": "2023-06-11T21:25:04.076Z"
   },
   {
    "duration": 28,
    "start_time": "2023-06-11T21:25:04.147Z"
   },
   {
    "duration": 369,
    "start_time": "2023-06-11T21:25:04.178Z"
   },
   {
    "duration": 10,
    "start_time": "2023-06-11T21:25:04.548Z"
   },
   {
    "duration": 128143,
    "start_time": "2023-06-11T21:25:04.560Z"
   },
   {
    "duration": 12,
    "start_time": "2023-06-11T21:27:12.706Z"
   },
   {
    "duration": 314,
    "start_time": "2023-06-11T21:27:12.720Z"
   },
   {
    "duration": 260,
    "start_time": "2023-06-11T21:27:13.038Z"
   },
   {
    "duration": 251,
    "start_time": "2023-06-11T21:27:13.299Z"
   },
   {
    "duration": 56,
    "start_time": "2023-06-11T21:27:13.558Z"
   },
   {
    "duration": 12260,
    "start_time": "2023-06-11T21:27:13.619Z"
   },
   {
    "duration": 95544,
    "start_time": "2023-06-11T21:27:25.881Z"
   },
   {
    "duration": 69801,
    "start_time": "2023-06-11T21:29:01.429Z"
   },
   {
    "duration": 137162,
    "start_time": "2023-06-11T21:30:11.238Z"
   },
   {
    "duration": 456521,
    "start_time": "2023-06-11T21:32:28.413Z"
   },
   {
    "duration": 23352,
    "start_time": "2023-06-11T21:40:04.950Z"
   },
   {
    "duration": 685195,
    "start_time": "2023-06-11T21:40:28.311Z"
   },
   {
    "duration": 25546,
    "start_time": "2023-06-11T21:51:53.507Z"
   },
   {
    "duration": 1988042,
    "start_time": "2023-06-11T21:52:19.056Z"
   },
   {
    "duration": 26283,
    "start_time": "2023-06-11T22:25:27.112Z"
   },
   {
    "duration": 1899,
    "start_time": "2023-06-12T19:58:18.968Z"
   },
   {
    "duration": 4783,
    "start_time": "2023-06-12T19:58:22.734Z"
   },
   {
    "duration": 45,
    "start_time": "2023-06-12T19:58:28.576Z"
   },
   {
    "duration": 61,
    "start_time": "2023-06-12T19:58:31.618Z"
   },
   {
    "duration": 412,
    "start_time": "2023-06-12T19:58:35.221Z"
   },
   {
    "duration": 13,
    "start_time": "2023-06-12T19:58:37.935Z"
   },
   {
    "duration": 10331,
    "start_time": "2023-06-12T19:58:43.713Z"
   },
   {
    "duration": 13,
    "start_time": "2023-06-12T19:58:57.569Z"
   },
   {
    "duration": 304,
    "start_time": "2023-06-12T20:00:55.734Z"
   },
   {
    "duration": 316,
    "start_time": "2023-06-12T20:00:58.354Z"
   },
   {
    "duration": 308,
    "start_time": "2023-06-12T20:01:00.368Z"
   },
   {
    "duration": 97,
    "start_time": "2023-06-12T20:01:01.535Z"
   },
   {
    "duration": 11474,
    "start_time": "2023-06-12T20:01:03.781Z"
   },
   {
    "duration": 113831,
    "start_time": "2023-06-12T20:03:21.466Z"
   },
   {
    "duration": 5396,
    "start_time": "2023-06-13T19:52:18.202Z"
   },
   {
    "duration": 4826,
    "start_time": "2023-06-13T19:52:24.864Z"
   },
   {
    "duration": 39,
    "start_time": "2023-06-13T19:52:29.692Z"
   },
   {
    "duration": 45,
    "start_time": "2023-06-13T19:52:32.383Z"
   },
   {
    "duration": 403,
    "start_time": "2023-06-13T19:52:33.686Z"
   },
   {
    "duration": 9,
    "start_time": "2023-06-13T19:52:35.706Z"
   },
   {
    "duration": 339,
    "start_time": "2023-06-13T19:52:39.620Z"
   },
   {
    "duration": 257,
    "start_time": "2023-06-13T19:52:46.410Z"
   },
   {
    "duration": 19,
    "start_time": "2023-06-13T19:53:49.982Z"
   },
   {
    "duration": 20,
    "start_time": "2023-06-13T19:53:52.511Z"
   },
   {
    "duration": 11,
    "start_time": "2023-06-13T19:54:58.700Z"
   },
   {
    "duration": 35,
    "start_time": "2023-06-13T19:55:00.503Z"
   },
   {
    "duration": 11598,
    "start_time": "2023-06-13T21:00:05.705Z"
   },
   {
    "duration": 2951,
    "start_time": "2023-06-13T21:01:34.056Z"
   },
   {
    "duration": 1221,
    "start_time": "2023-06-13T21:01:37.012Z"
   },
   {
    "duration": 37,
    "start_time": "2023-06-13T21:01:38.235Z"
   },
   {
    "duration": 39,
    "start_time": "2023-06-13T21:01:38.275Z"
   },
   {
    "duration": 338,
    "start_time": "2023-06-13T21:01:38.512Z"
   },
   {
    "duration": 9,
    "start_time": "2023-06-13T21:01:41.043Z"
   },
   {
    "duration": 50,
    "start_time": "2023-06-13T21:01:46.628Z"
   },
   {
    "duration": 137,
    "start_time": "2023-06-13T21:04:38.041Z"
   },
   {
    "duration": 3,
    "start_time": "2023-06-13T21:04:58.458Z"
   },
   {
    "duration": 165002,
    "start_time": "2023-06-13T21:05:23.146Z"
   },
   {
    "duration": 167160,
    "start_time": "2023-06-13T21:08:38.435Z"
   },
   {
    "duration": 10,
    "start_time": "2023-06-13T21:32:29.521Z"
   },
   {
    "duration": 5495,
    "start_time": "2023-06-14T16:42:07.141Z"
   },
   {
    "duration": 6600,
    "start_time": "2023-06-14T16:42:15.397Z"
   },
   {
    "duration": 39,
    "start_time": "2023-06-14T16:43:23.750Z"
   },
   {
    "duration": 3,
    "start_time": "2023-06-14T16:43:31.999Z"
   },
   {
    "duration": 9,
    "start_time": "2023-06-14T16:43:33.451Z"
   },
   {
    "duration": 12,
    "start_time": "2023-06-14T16:43:36.535Z"
   },
   {
    "duration": 223,
    "start_time": "2023-06-14T16:43:38.007Z"
   },
   {
    "duration": 786,
    "start_time": "2023-06-14T16:43:49.352Z"
   },
   {
    "duration": 4112,
    "start_time": "2023-06-14T16:46:27.861Z"
   },
   {
    "duration": 5,
    "start_time": "2023-06-14T16:46:40.738Z"
   },
   {
    "duration": 4,
    "start_time": "2023-06-14T16:46:41.593Z"
   },
   {
    "duration": 4,
    "start_time": "2023-06-14T16:46:43.293Z"
   },
   {
    "duration": 600398,
    "start_time": "2023-06-14T16:46:45.005Z"
   },
   {
    "duration": 10,
    "start_time": "2023-06-14T16:56:58.651Z"
   },
   {
    "duration": 17,
    "start_time": "2023-06-14T16:57:15.863Z"
   },
   {
    "duration": 19,
    "start_time": "2023-06-14T16:58:53.770Z"
   },
   {
    "duration": 98,
    "start_time": "2023-06-14T17:14:05.992Z"
   },
   {
    "duration": 1040,
    "start_time": "2023-06-14T17:14:07.748Z"
   },
   {
    "duration": 34,
    "start_time": "2023-06-14T17:14:09.801Z"
   },
   {
    "duration": 8802,
    "start_time": "2023-06-14T17:14:15.439Z"
   },
   {
    "duration": 15,
    "start_time": "2023-06-14T17:14:37.636Z"
   },
   {
    "duration": 3,
    "start_time": "2023-06-14T17:14:58.091Z"
   },
   {
    "duration": 5,
    "start_time": "2023-06-14T17:14:59.158Z"
   },
   {
    "duration": 17,
    "start_time": "2023-06-14T17:15:00.114Z"
   },
   {
    "duration": 5,
    "start_time": "2023-06-14T17:15:01.099Z"
   },
   {
    "duration": 4,
    "start_time": "2023-06-14T17:15:02.307Z"
   },
   {
    "duration": 2504120,
    "start_time": "2023-06-14T17:15:03.079Z"
   },
   {
    "duration": 16,
    "start_time": "2023-06-14T18:38:04.172Z"
   },
   {
    "duration": 3167,
    "start_time": "2023-06-14T18:44:19.468Z"
   },
   {
    "duration": 1242,
    "start_time": "2023-06-14T18:44:22.639Z"
   },
   {
    "duration": 57,
    "start_time": "2023-06-14T18:44:23.883Z"
   },
   {
    "duration": 51,
    "start_time": "2023-06-14T18:44:23.947Z"
   },
   {
    "duration": 363,
    "start_time": "2023-06-14T18:44:24.002Z"
   },
   {
    "duration": 21,
    "start_time": "2023-06-14T18:44:24.368Z"
   },
   {
    "duration": 455,
    "start_time": "2023-06-14T18:44:24.395Z"
   },
   {
    "duration": 0,
    "start_time": "2023-06-14T18:44:24.854Z"
   },
   {
    "duration": 0,
    "start_time": "2023-06-14T18:44:24.859Z"
   },
   {
    "duration": 0,
    "start_time": "2023-06-14T18:44:24.860Z"
   },
   {
    "duration": 0,
    "start_time": "2023-06-14T18:44:24.862Z"
   },
   {
    "duration": 0,
    "start_time": "2023-06-14T18:44:24.869Z"
   },
   {
    "duration": 0,
    "start_time": "2023-06-14T18:44:24.871Z"
   },
   {
    "duration": 0,
    "start_time": "2023-06-14T18:44:24.873Z"
   },
   {
    "duration": 0,
    "start_time": "2023-06-14T18:44:24.874Z"
   },
   {
    "duration": 0,
    "start_time": "2023-06-14T18:44:24.876Z"
   },
   {
    "duration": 0,
    "start_time": "2023-06-14T18:44:24.877Z"
   },
   {
    "duration": 0,
    "start_time": "2023-06-14T18:44:24.879Z"
   },
   {
    "duration": 0,
    "start_time": "2023-06-14T18:44:24.880Z"
   },
   {
    "duration": 0,
    "start_time": "2023-06-14T18:44:24.882Z"
   },
   {
    "duration": 0,
    "start_time": "2023-06-14T18:44:24.883Z"
   },
   {
    "duration": 0,
    "start_time": "2023-06-14T18:44:24.884Z"
   },
   {
    "duration": 0,
    "start_time": "2023-06-14T18:44:24.886Z"
   },
   {
    "duration": 1,
    "start_time": "2023-06-14T18:44:24.887Z"
   },
   {
    "duration": 0,
    "start_time": "2023-06-14T18:44:24.889Z"
   },
   {
    "duration": 0,
    "start_time": "2023-06-14T18:44:24.891Z"
   },
   {
    "duration": 0,
    "start_time": "2023-06-14T18:44:24.892Z"
   },
   {
    "duration": 0,
    "start_time": "2023-06-14T18:44:24.893Z"
   },
   {
    "duration": 0,
    "start_time": "2023-06-14T18:44:24.895Z"
   },
   {
    "duration": 0,
    "start_time": "2023-06-14T18:44:24.897Z"
   },
   {
    "duration": 13,
    "start_time": "2023-06-14T18:49:54.540Z"
   },
   {
    "duration": 4,
    "start_time": "2023-06-14T18:49:58.649Z"
   },
   {
    "duration": 3,
    "start_time": "2023-06-14T18:50:00.490Z"
   },
   {
    "duration": 174189,
    "start_time": "2023-06-14T18:50:15.751Z"
   },
   {
    "duration": 5,
    "start_time": "2023-06-14T18:54:22.107Z"
   },
   {
    "duration": 32,
    "start_time": "2023-06-14T18:54:23.759Z"
   },
   {
    "duration": 6060,
    "start_time": "2023-06-14T18:57:32.210Z"
   },
   {
    "duration": 10,
    "start_time": "2023-06-14T18:57:43.290Z"
   },
   {
    "duration": 2001,
    "start_time": "2023-06-14T18:58:36.105Z"
   },
   {
    "duration": 4599,
    "start_time": "2023-06-14T18:58:55.711Z"
   },
   {
    "duration": 3256,
    "start_time": "2023-06-14T18:59:00.312Z"
   },
   {
    "duration": 54,
    "start_time": "2023-06-14T18:59:03.571Z"
   },
   {
    "duration": 118,
    "start_time": "2023-06-14T18:59:03.631Z"
   },
   {
    "duration": 391,
    "start_time": "2023-06-14T18:59:03.756Z"
   },
   {
    "duration": 17,
    "start_time": "2023-06-14T18:59:04.155Z"
   },
   {
    "duration": 6633,
    "start_time": "2023-06-14T18:59:04.178Z"
   },
   {
    "duration": 15,
    "start_time": "2023-06-14T18:59:10.813Z"
   },
   {
    "duration": 30,
    "start_time": "2023-06-14T18:59:10.834Z"
   },
   {
    "duration": 57,
    "start_time": "2023-06-14T18:59:10.866Z"
   },
   {
    "duration": 2158,
    "start_time": "2023-06-14T18:59:10.925Z"
   },
   {
    "duration": 0,
    "start_time": "2023-06-14T18:59:13.086Z"
   },
   {
    "duration": 0,
    "start_time": "2023-06-14T18:59:13.087Z"
   },
   {
    "duration": 0,
    "start_time": "2023-06-14T18:59:13.088Z"
   },
   {
    "duration": 0,
    "start_time": "2023-06-14T18:59:13.089Z"
   },
   {
    "duration": 0,
    "start_time": "2023-06-14T18:59:13.090Z"
   },
   {
    "duration": 1,
    "start_time": "2023-06-14T18:59:13.091Z"
   },
   {
    "duration": 0,
    "start_time": "2023-06-14T18:59:13.093Z"
   },
   {
    "duration": 0,
    "start_time": "2023-06-14T18:59:13.094Z"
   },
   {
    "duration": 0,
    "start_time": "2023-06-14T18:59:13.095Z"
   },
   {
    "duration": 0,
    "start_time": "2023-06-14T18:59:13.096Z"
   },
   {
    "duration": 0,
    "start_time": "2023-06-14T18:59:13.097Z"
   },
   {
    "duration": 0,
    "start_time": "2023-06-14T18:59:13.098Z"
   },
   {
    "duration": 0,
    "start_time": "2023-06-14T18:59:13.100Z"
   },
   {
    "duration": 0,
    "start_time": "2023-06-14T18:59:13.101Z"
   },
   {
    "duration": 0,
    "start_time": "2023-06-14T18:59:13.102Z"
   },
   {
    "duration": 1,
    "start_time": "2023-06-14T18:59:13.103Z"
   },
   {
    "duration": 0,
    "start_time": "2023-06-14T18:59:13.105Z"
   },
   {
    "duration": 0,
    "start_time": "2023-06-14T18:59:13.105Z"
   },
   {
    "duration": 0,
    "start_time": "2023-06-14T18:59:13.107Z"
   },
   {
    "duration": 0,
    "start_time": "2023-06-14T18:59:13.108Z"
   },
   {
    "duration": 28,
    "start_time": "2023-06-14T19:02:24.711Z"
   },
   {
    "duration": 26,
    "start_time": "2023-06-14T19:03:16.901Z"
   },
   {
    "duration": 10,
    "start_time": "2023-06-14T19:03:26.489Z"
   },
   {
    "duration": 16,
    "start_time": "2023-06-14T19:03:33.717Z"
   },
   {
    "duration": 7,
    "start_time": "2023-06-14T19:03:38.896Z"
   },
   {
    "duration": 12,
    "start_time": "2023-06-14T19:03:41.913Z"
   },
   {
    "duration": 4,
    "start_time": "2023-06-14T19:03:49.282Z"
   },
   {
    "duration": 2512,
    "start_time": "2023-06-14T19:50:13.663Z"
   },
   {
    "duration": 1096,
    "start_time": "2023-06-14T19:50:16.177Z"
   },
   {
    "duration": 45,
    "start_time": "2023-06-14T19:50:17.281Z"
   },
   {
    "duration": 63,
    "start_time": "2023-06-14T19:50:17.332Z"
   },
   {
    "duration": 407,
    "start_time": "2023-06-14T19:50:17.397Z"
   },
   {
    "duration": 16,
    "start_time": "2023-06-14T19:50:17.807Z"
   },
   {
    "duration": 6734,
    "start_time": "2023-06-14T19:50:17.824Z"
   },
   {
    "duration": 11,
    "start_time": "2023-06-14T19:50:24.560Z"
   },
   {
    "duration": 3,
    "start_time": "2023-06-14T19:50:24.574Z"
   },
   {
    "duration": 23,
    "start_time": "2023-06-14T19:50:24.581Z"
   },
   {
    "duration": 215,
    "start_time": "2023-06-14T19:50:24.606Z"
   },
   {
    "duration": 0,
    "start_time": "2023-06-14T19:50:24.823Z"
   },
   {
    "duration": 0,
    "start_time": "2023-06-14T19:50:24.825Z"
   },
   {
    "duration": 0,
    "start_time": "2023-06-14T19:50:24.826Z"
   },
   {
    "duration": 0,
    "start_time": "2023-06-14T19:50:24.828Z"
   },
   {
    "duration": 0,
    "start_time": "2023-06-14T19:50:24.829Z"
   },
   {
    "duration": 0,
    "start_time": "2023-06-14T19:50:24.831Z"
   },
   {
    "duration": 0,
    "start_time": "2023-06-14T19:50:24.832Z"
   },
   {
    "duration": 0,
    "start_time": "2023-06-14T19:50:24.837Z"
   },
   {
    "duration": 0,
    "start_time": "2023-06-14T19:50:24.839Z"
   },
   {
    "duration": 0,
    "start_time": "2023-06-14T19:50:24.840Z"
   },
   {
    "duration": 0,
    "start_time": "2023-06-14T19:50:24.842Z"
   },
   {
    "duration": 0,
    "start_time": "2023-06-14T19:50:24.843Z"
   },
   {
    "duration": 0,
    "start_time": "2023-06-14T19:50:24.844Z"
   },
   {
    "duration": 0,
    "start_time": "2023-06-14T19:50:24.849Z"
   },
   {
    "duration": 0,
    "start_time": "2023-06-14T19:50:24.851Z"
   },
   {
    "duration": 0,
    "start_time": "2023-06-14T19:50:24.852Z"
   },
   {
    "duration": 0,
    "start_time": "2023-06-14T19:50:24.861Z"
   },
   {
    "duration": 0,
    "start_time": "2023-06-14T19:50:24.863Z"
   },
   {
    "duration": 0,
    "start_time": "2023-06-14T19:50:24.864Z"
   },
   {
    "duration": 11,
    "start_time": "2023-06-14T19:50:45.381Z"
   },
   {
    "duration": 8,
    "start_time": "2023-06-14T19:50:46.349Z"
   },
   {
    "duration": 12,
    "start_time": "2023-06-14T19:50:47.309Z"
   },
   {
    "duration": 2534417,
    "start_time": "2023-06-14T19:50:49.493Z"
   },
   {
    "duration": 203,
    "start_time": "2023-06-14T20:33:09.507Z"
   },
   {
    "duration": 7,
    "start_time": "2023-06-14T20:33:56.646Z"
   },
   {
    "duration": 153,
    "start_time": "2023-06-14T20:34:13.711Z"
   },
   {
    "duration": 4,
    "start_time": "2023-06-14T20:34:39.763Z"
   },
   {
    "duration": 163,
    "start_time": "2023-06-14T20:34:53.755Z"
   },
   {
    "duration": 64,
    "start_time": "2023-06-14T20:35:02.612Z"
   },
   {
    "duration": 8,
    "start_time": "2023-06-14T20:35:17.104Z"
   },
   {
    "duration": 1604,
    "start_time": "2023-06-14T20:36:06.388Z"
   },
   {
    "duration": 0,
    "start_time": "2023-06-14T20:36:07.994Z"
   },
   {
    "duration": 3123,
    "start_time": "2023-06-14T20:36:14.662Z"
   },
   {
    "duration": 3474,
    "start_time": "2023-06-14T20:36:17.787Z"
   },
   {
    "duration": 40,
    "start_time": "2023-06-14T20:36:21.264Z"
   },
   {
    "duration": 45,
    "start_time": "2023-06-14T20:36:21.306Z"
   },
   {
    "duration": 329,
    "start_time": "2023-06-14T20:36:21.352Z"
   },
   {
    "duration": 8,
    "start_time": "2023-06-14T20:36:21.683Z"
   },
   {
    "duration": 5768,
    "start_time": "2023-06-14T20:36:21.693Z"
   },
   {
    "duration": 10,
    "start_time": "2023-06-14T20:36:27.465Z"
   },
   {
    "duration": 6,
    "start_time": "2023-06-14T20:36:27.476Z"
   },
   {
    "duration": 5,
    "start_time": "2023-06-14T20:36:27.484Z"
   },
   {
    "duration": 9,
    "start_time": "2023-06-14T20:36:27.490Z"
   },
   {
    "duration": 4,
    "start_time": "2023-06-14T20:36:27.501Z"
   },
   {
    "duration": 14,
    "start_time": "2023-06-14T20:36:27.518Z"
   },
   {
    "duration": 22,
    "start_time": "2023-06-14T20:36:27.533Z"
   },
   {
    "duration": 2834,
    "start_time": "2023-06-14T20:36:27.559Z"
   },
   {
    "duration": 9,
    "start_time": "2023-06-14T20:36:30.395Z"
   },
   {
    "duration": 130,
    "start_time": "2023-06-14T20:36:30.407Z"
   },
   {
    "duration": 114,
    "start_time": "2023-06-14T20:36:30.550Z"
   },
   {
    "duration": 430,
    "start_time": "2023-06-14T20:36:30.666Z"
   },
   {
    "duration": 256,
    "start_time": "2023-06-14T20:36:31.098Z"
   },
   {
    "duration": 226,
    "start_time": "2023-06-14T20:36:31.365Z"
   },
   {
    "duration": 96,
    "start_time": "2023-06-14T20:36:31.593Z"
   },
   {
    "duration": 22,
    "start_time": "2023-06-14T20:36:31.691Z"
   },
   {
    "duration": 0,
    "start_time": "2023-06-14T20:36:31.715Z"
   },
   {
    "duration": 0,
    "start_time": "2023-06-14T20:36:31.716Z"
   },
   {
    "duration": 0,
    "start_time": "2023-06-14T20:36:31.717Z"
   },
   {
    "duration": 0,
    "start_time": "2023-06-14T20:36:31.718Z"
   },
   {
    "duration": 0,
    "start_time": "2023-06-14T20:36:31.719Z"
   },
   {
    "duration": 0,
    "start_time": "2023-06-14T20:36:31.721Z"
   },
   {
    "duration": 0,
    "start_time": "2023-06-14T20:36:31.722Z"
   },
   {
    "duration": 0,
    "start_time": "2023-06-14T20:36:31.724Z"
   },
   {
    "duration": 0,
    "start_time": "2023-06-14T20:36:31.725Z"
   },
   {
    "duration": 1935,
    "start_time": "2023-06-14T20:36:46.859Z"
   },
   {
    "duration": 8,
    "start_time": "2023-06-14T20:36:50.496Z"
   },
   {
    "duration": 11,
    "start_time": "2023-06-14T20:36:54.299Z"
   },
   {
    "duration": 7,
    "start_time": "2023-06-14T20:37:37.439Z"
   },
   {
    "duration": 61,
    "start_time": "2023-06-14T20:37:38.403Z"
   },
   {
    "duration": 157237,
    "start_time": "2023-06-14T20:37:56.393Z"
   },
   {
    "duration": 21,
    "start_time": "2023-06-14T20:40:33.634Z"
   },
   {
    "duration": 7,
    "start_time": "2023-06-14T20:50:57.929Z"
   },
   {
    "duration": 3,
    "start_time": "2023-06-14T20:51:29.357Z"
   },
   {
    "duration": 3,
    "start_time": "2023-06-14T20:51:30.805Z"
   },
   {
    "duration": 107,
    "start_time": "2023-06-14T20:51:32.236Z"
   },
   {
    "duration": 5,
    "start_time": "2023-06-14T20:52:14.613Z"
   },
   {
    "duration": 4,
    "start_time": "2023-06-14T20:52:15.262Z"
   },
   {
    "duration": 68398,
    "start_time": "2023-06-14T20:52:16.190Z"
   },
   {
    "duration": 17,
    "start_time": "2023-06-14T20:53:30.200Z"
   },
   {
    "duration": 1885,
    "start_time": "2023-06-14T20:54:42.237Z"
   },
   {
    "duration": 979,
    "start_time": "2023-06-14T20:54:44.124Z"
   },
   {
    "duration": 49,
    "start_time": "2023-06-14T20:54:45.104Z"
   },
   {
    "duration": 29,
    "start_time": "2023-06-14T20:54:45.155Z"
   },
   {
    "duration": 295,
    "start_time": "2023-06-14T20:54:45.187Z"
   },
   {
    "duration": 9,
    "start_time": "2023-06-14T20:54:45.484Z"
   },
   {
    "duration": 5417,
    "start_time": "2023-06-14T20:54:45.514Z"
   },
   {
    "duration": 11,
    "start_time": "2023-06-14T20:54:50.940Z"
   },
   {
    "duration": 18,
    "start_time": "2023-06-14T20:54:50.954Z"
   },
   {
    "duration": 18,
    "start_time": "2023-06-14T20:54:50.974Z"
   },
   {
    "duration": 56,
    "start_time": "2023-06-14T20:54:50.994Z"
   },
   {
    "duration": 12,
    "start_time": "2023-06-14T20:54:51.052Z"
   },
   {
    "duration": 14,
    "start_time": "2023-06-14T20:54:51.067Z"
   },
   {
    "duration": 21718,
    "start_time": "2023-06-15T13:50:56.049Z"
   },
   {
    "duration": 4196,
    "start_time": "2023-06-15T13:51:17.769Z"
   },
   {
    "duration": 45,
    "start_time": "2023-06-15T13:51:21.967Z"
   },
   {
    "duration": 118,
    "start_time": "2023-06-15T13:51:22.015Z"
   },
   {
    "duration": 331,
    "start_time": "2023-06-15T13:51:22.137Z"
   },
   {
    "duration": 15,
    "start_time": "2023-06-15T13:51:22.470Z"
   },
   {
    "duration": 6532,
    "start_time": "2023-06-15T13:51:22.487Z"
   },
   {
    "duration": 15,
    "start_time": "2023-06-15T13:51:29.021Z"
   },
   {
    "duration": 8,
    "start_time": "2023-06-15T13:51:29.039Z"
   },
   {
    "duration": 9,
    "start_time": "2023-06-15T13:51:29.049Z"
   },
   {
    "duration": 55,
    "start_time": "2023-06-15T13:51:29.060Z"
   },
   {
    "duration": 20,
    "start_time": "2023-06-15T13:51:29.116Z"
   },
   {
    "duration": 25,
    "start_time": "2023-06-15T13:51:29.138Z"
   },
   {
    "duration": 2129,
    "start_time": "2023-06-15T13:51:29.166Z"
   },
   {
    "duration": 13,
    "start_time": "2023-06-15T13:51:31.297Z"
   }
  ],
  "kernelspec": {
   "display_name": "Python 3 (ipykernel)",
   "language": "python",
   "name": "python3"
  },
  "language_info": {
   "codemirror_mode": {
    "name": "ipython",
    "version": 3
   },
   "file_extension": ".py",
   "mimetype": "text/x-python",
   "name": "python",
   "nbconvert_exporter": "python",
   "pygments_lexer": "ipython3",
   "version": "3.9.13"
  },
  "toc": {
   "base_numbering": 1,
   "nav_menu": {},
   "number_sections": true,
   "sideBar": true,
   "skip_h1_title": true,
   "title_cell": "Содержание",
   "title_sidebar": "Contents",
   "toc_cell": true,
   "toc_position": {
    "height": "calc(100% - 180px)",
    "left": "10px",
    "top": "150px",
    "width": "302.391px"
   },
   "toc_section_display": true,
   "toc_window_display": false
  }
 },
 "nbformat": 4,
 "nbformat_minor": 2
}
