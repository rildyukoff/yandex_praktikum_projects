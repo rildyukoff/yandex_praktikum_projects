{
 "cells": [
  {
   "cell_type": "markdown",
   "metadata": {},
   "source": [
    "# Выбор локации для скважины"
   ]
  },
  {
   "cell_type": "markdown",
   "metadata": {},
   "source": [
    "Допустим, вы работаете в добывающей компании «ГлавРосГосНефть». Нужно решить, где бурить новую скважину.\n",
    "\n",
    "Вам предоставлены пробы нефти в трёх регионах: в каждом 10 000 месторождений, где измерили качество нефти и объём её запасов. Постройте модель машинного обучения, которая поможет определить регион, где добыча принесёт наибольшую прибыль. Проанализируйте возможную прибыль и риски техникой *Bootstrap.*\n",
    "\n",
    "Шаги для выбора локации:\n",
    "\n",
    "- В избранном регионе ищут месторождения, для каждого определяют значения признаков;\n",
    "- Строят модель и оценивают объём запасов;\n",
    "- Выбирают месторождения с самым высокими оценками значений. Количество месторождений зависит от бюджета компании и стоимости разработки одной скважины;\n",
    "- Прибыль равна суммарной прибыли отобранных месторождений."
   ]
  },
  {
   "cell_type": "markdown",
   "metadata": {},
   "source": [
    "## Загрузка и подготовка данных"
   ]
  },
  {
   "cell_type": "code",
   "execution_count": 1,
   "metadata": {},
   "outputs": [],
   "source": [
    "import pandas as pd\n",
    "import numpy as np\n",
    "from sklearn.model_selection import train_test_split\n",
    "from sklearn.linear_model import LinearRegression\n",
    "from sklearn.metrics import mean_squared_error\n",
    "from tqdm.notebook import tqdm"
   ]
  },
  {
   "cell_type": "code",
   "execution_count": 2,
   "metadata": {},
   "outputs": [],
   "source": [
    "geo_data_0 = pd.read_csv('/datasets/geo_data_0.csv')\n",
    "geo_data_1 = pd.read_csv('/datasets/geo_data_1.csv')\n",
    "geo_data_2 = pd.read_csv('/datasets/geo_data_2.csv')"
   ]
  },
  {
   "cell_type": "code",
   "execution_count": 3,
   "metadata": {},
   "outputs": [],
   "source": [
    "def info_geo_data(geo_data):\n",
    "    print('Первые 5 строк датасета')\n",
    "    display(geo_data.head())\n",
    "    print()\n",
    "    print('Информация о датасете')\n",
    "    display(geo_data.info())\n",
    "    print()\n",
    "    print('Описательная статистика датасета')\n",
    "    display(geo_data.describe())\n",
    "    print()\n",
    "    print('Количество дубликатов:', geo_data.duplicated().sum())\n",
    "    print()\n",
    "    print('Коэффициент корреляции')\n",
    "    display(geo_data.corr())\n",
    "    print('-------------------------------------------------------')"
   ]
  },
  {
   "cell_type": "code",
   "execution_count": 4,
   "metadata": {
    "scrolled": true
   },
   "outputs": [
    {
     "name": "stdout",
     "output_type": "stream",
     "text": [
      "Первые 5 строк датасета\n"
     ]
    },
    {
     "data": {
      "text/html": [
       "<div>\n",
       "<style scoped>\n",
       "    .dataframe tbody tr th:only-of-type {\n",
       "        vertical-align: middle;\n",
       "    }\n",
       "\n",
       "    .dataframe tbody tr th {\n",
       "        vertical-align: top;\n",
       "    }\n",
       "\n",
       "    .dataframe thead th {\n",
       "        text-align: right;\n",
       "    }\n",
       "</style>\n",
       "<table border=\"1\" class=\"dataframe\">\n",
       "  <thead>\n",
       "    <tr style=\"text-align: right;\">\n",
       "      <th></th>\n",
       "      <th>id</th>\n",
       "      <th>f0</th>\n",
       "      <th>f1</th>\n",
       "      <th>f2</th>\n",
       "      <th>product</th>\n",
       "    </tr>\n",
       "  </thead>\n",
       "  <tbody>\n",
       "    <tr>\n",
       "      <th>0</th>\n",
       "      <td>txEyH</td>\n",
       "      <td>0.705745</td>\n",
       "      <td>-0.497823</td>\n",
       "      <td>1.221170</td>\n",
       "      <td>105.280062</td>\n",
       "    </tr>\n",
       "    <tr>\n",
       "      <th>1</th>\n",
       "      <td>2acmU</td>\n",
       "      <td>1.334711</td>\n",
       "      <td>-0.340164</td>\n",
       "      <td>4.365080</td>\n",
       "      <td>73.037750</td>\n",
       "    </tr>\n",
       "    <tr>\n",
       "      <th>2</th>\n",
       "      <td>409Wp</td>\n",
       "      <td>1.022732</td>\n",
       "      <td>0.151990</td>\n",
       "      <td>1.419926</td>\n",
       "      <td>85.265647</td>\n",
       "    </tr>\n",
       "    <tr>\n",
       "      <th>3</th>\n",
       "      <td>iJLyR</td>\n",
       "      <td>-0.032172</td>\n",
       "      <td>0.139033</td>\n",
       "      <td>2.978566</td>\n",
       "      <td>168.620776</td>\n",
       "    </tr>\n",
       "    <tr>\n",
       "      <th>4</th>\n",
       "      <td>Xdl7t</td>\n",
       "      <td>1.988431</td>\n",
       "      <td>0.155413</td>\n",
       "      <td>4.751769</td>\n",
       "      <td>154.036647</td>\n",
       "    </tr>\n",
       "  </tbody>\n",
       "</table>\n",
       "</div>"
      ],
      "text/plain": [
       "      id        f0        f1        f2     product\n",
       "0  txEyH  0.705745 -0.497823  1.221170  105.280062\n",
       "1  2acmU  1.334711 -0.340164  4.365080   73.037750\n",
       "2  409Wp  1.022732  0.151990  1.419926   85.265647\n",
       "3  iJLyR -0.032172  0.139033  2.978566  168.620776\n",
       "4  Xdl7t  1.988431  0.155413  4.751769  154.036647"
      ]
     },
     "metadata": {},
     "output_type": "display_data"
    },
    {
     "name": "stdout",
     "output_type": "stream",
     "text": [
      "\n",
      "Информация о датасете\n",
      "<class 'pandas.core.frame.DataFrame'>\n",
      "RangeIndex: 100000 entries, 0 to 99999\n",
      "Data columns (total 5 columns):\n",
      " #   Column   Non-Null Count   Dtype  \n",
      "---  ------   --------------   -----  \n",
      " 0   id       100000 non-null  object \n",
      " 1   f0       100000 non-null  float64\n",
      " 2   f1       100000 non-null  float64\n",
      " 3   f2       100000 non-null  float64\n",
      " 4   product  100000 non-null  float64\n",
      "dtypes: float64(4), object(1)\n",
      "memory usage: 3.8+ MB\n"
     ]
    },
    {
     "data": {
      "text/plain": [
       "None"
      ]
     },
     "metadata": {},
     "output_type": "display_data"
    },
    {
     "name": "stdout",
     "output_type": "stream",
     "text": [
      "\n",
      "Описательная статистика датасета\n"
     ]
    },
    {
     "data": {
      "text/html": [
       "<div>\n",
       "<style scoped>\n",
       "    .dataframe tbody tr th:only-of-type {\n",
       "        vertical-align: middle;\n",
       "    }\n",
       "\n",
       "    .dataframe tbody tr th {\n",
       "        vertical-align: top;\n",
       "    }\n",
       "\n",
       "    .dataframe thead th {\n",
       "        text-align: right;\n",
       "    }\n",
       "</style>\n",
       "<table border=\"1\" class=\"dataframe\">\n",
       "  <thead>\n",
       "    <tr style=\"text-align: right;\">\n",
       "      <th></th>\n",
       "      <th>f0</th>\n",
       "      <th>f1</th>\n",
       "      <th>f2</th>\n",
       "      <th>product</th>\n",
       "    </tr>\n",
       "  </thead>\n",
       "  <tbody>\n",
       "    <tr>\n",
       "      <th>count</th>\n",
       "      <td>100000.000000</td>\n",
       "      <td>100000.000000</td>\n",
       "      <td>100000.000000</td>\n",
       "      <td>100000.000000</td>\n",
       "    </tr>\n",
       "    <tr>\n",
       "      <th>mean</th>\n",
       "      <td>0.500419</td>\n",
       "      <td>0.250143</td>\n",
       "      <td>2.502647</td>\n",
       "      <td>92.500000</td>\n",
       "    </tr>\n",
       "    <tr>\n",
       "      <th>std</th>\n",
       "      <td>0.871832</td>\n",
       "      <td>0.504433</td>\n",
       "      <td>3.248248</td>\n",
       "      <td>44.288691</td>\n",
       "    </tr>\n",
       "    <tr>\n",
       "      <th>min</th>\n",
       "      <td>-1.408605</td>\n",
       "      <td>-0.848218</td>\n",
       "      <td>-12.088328</td>\n",
       "      <td>0.000000</td>\n",
       "    </tr>\n",
       "    <tr>\n",
       "      <th>25%</th>\n",
       "      <td>-0.072580</td>\n",
       "      <td>-0.200881</td>\n",
       "      <td>0.287748</td>\n",
       "      <td>56.497507</td>\n",
       "    </tr>\n",
       "    <tr>\n",
       "      <th>50%</th>\n",
       "      <td>0.502360</td>\n",
       "      <td>0.250252</td>\n",
       "      <td>2.515969</td>\n",
       "      <td>91.849972</td>\n",
       "    </tr>\n",
       "    <tr>\n",
       "      <th>75%</th>\n",
       "      <td>1.073581</td>\n",
       "      <td>0.700646</td>\n",
       "      <td>4.715088</td>\n",
       "      <td>128.564089</td>\n",
       "    </tr>\n",
       "    <tr>\n",
       "      <th>max</th>\n",
       "      <td>2.362331</td>\n",
       "      <td>1.343769</td>\n",
       "      <td>16.003790</td>\n",
       "      <td>185.364347</td>\n",
       "    </tr>\n",
       "  </tbody>\n",
       "</table>\n",
       "</div>"
      ],
      "text/plain": [
       "                  f0             f1             f2        product\n",
       "count  100000.000000  100000.000000  100000.000000  100000.000000\n",
       "mean        0.500419       0.250143       2.502647      92.500000\n",
       "std         0.871832       0.504433       3.248248      44.288691\n",
       "min        -1.408605      -0.848218     -12.088328       0.000000\n",
       "25%        -0.072580      -0.200881       0.287748      56.497507\n",
       "50%         0.502360       0.250252       2.515969      91.849972\n",
       "75%         1.073581       0.700646       4.715088     128.564089\n",
       "max         2.362331       1.343769      16.003790     185.364347"
      ]
     },
     "metadata": {},
     "output_type": "display_data"
    },
    {
     "name": "stdout",
     "output_type": "stream",
     "text": [
      "\n",
      "Количество дубликатов: 0\n",
      "\n",
      "Коэффициент корреляции\n"
     ]
    },
    {
     "data": {
      "text/html": [
       "<div>\n",
       "<style scoped>\n",
       "    .dataframe tbody tr th:only-of-type {\n",
       "        vertical-align: middle;\n",
       "    }\n",
       "\n",
       "    .dataframe tbody tr th {\n",
       "        vertical-align: top;\n",
       "    }\n",
       "\n",
       "    .dataframe thead th {\n",
       "        text-align: right;\n",
       "    }\n",
       "</style>\n",
       "<table border=\"1\" class=\"dataframe\">\n",
       "  <thead>\n",
       "    <tr style=\"text-align: right;\">\n",
       "      <th></th>\n",
       "      <th>f0</th>\n",
       "      <th>f1</th>\n",
       "      <th>f2</th>\n",
       "      <th>product</th>\n",
       "    </tr>\n",
       "  </thead>\n",
       "  <tbody>\n",
       "    <tr>\n",
       "      <th>f0</th>\n",
       "      <td>1.000000</td>\n",
       "      <td>-0.440723</td>\n",
       "      <td>-0.003153</td>\n",
       "      <td>0.143536</td>\n",
       "    </tr>\n",
       "    <tr>\n",
       "      <th>f1</th>\n",
       "      <td>-0.440723</td>\n",
       "      <td>1.000000</td>\n",
       "      <td>0.001724</td>\n",
       "      <td>-0.192356</td>\n",
       "    </tr>\n",
       "    <tr>\n",
       "      <th>f2</th>\n",
       "      <td>-0.003153</td>\n",
       "      <td>0.001724</td>\n",
       "      <td>1.000000</td>\n",
       "      <td>0.483663</td>\n",
       "    </tr>\n",
       "    <tr>\n",
       "      <th>product</th>\n",
       "      <td>0.143536</td>\n",
       "      <td>-0.192356</td>\n",
       "      <td>0.483663</td>\n",
       "      <td>1.000000</td>\n",
       "    </tr>\n",
       "  </tbody>\n",
       "</table>\n",
       "</div>"
      ],
      "text/plain": [
       "               f0        f1        f2   product\n",
       "f0       1.000000 -0.440723 -0.003153  0.143536\n",
       "f1      -0.440723  1.000000  0.001724 -0.192356\n",
       "f2      -0.003153  0.001724  1.000000  0.483663\n",
       "product  0.143536 -0.192356  0.483663  1.000000"
      ]
     },
     "metadata": {},
     "output_type": "display_data"
    },
    {
     "name": "stdout",
     "output_type": "stream",
     "text": [
      "-------------------------------------------------------\n",
      "Первые 5 строк датасета\n"
     ]
    },
    {
     "data": {
      "text/html": [
       "<div>\n",
       "<style scoped>\n",
       "    .dataframe tbody tr th:only-of-type {\n",
       "        vertical-align: middle;\n",
       "    }\n",
       "\n",
       "    .dataframe tbody tr th {\n",
       "        vertical-align: top;\n",
       "    }\n",
       "\n",
       "    .dataframe thead th {\n",
       "        text-align: right;\n",
       "    }\n",
       "</style>\n",
       "<table border=\"1\" class=\"dataframe\">\n",
       "  <thead>\n",
       "    <tr style=\"text-align: right;\">\n",
       "      <th></th>\n",
       "      <th>id</th>\n",
       "      <th>f0</th>\n",
       "      <th>f1</th>\n",
       "      <th>f2</th>\n",
       "      <th>product</th>\n",
       "    </tr>\n",
       "  </thead>\n",
       "  <tbody>\n",
       "    <tr>\n",
       "      <th>0</th>\n",
       "      <td>kBEdx</td>\n",
       "      <td>-15.001348</td>\n",
       "      <td>-8.276000</td>\n",
       "      <td>-0.005876</td>\n",
       "      <td>3.179103</td>\n",
       "    </tr>\n",
       "    <tr>\n",
       "      <th>1</th>\n",
       "      <td>62mP7</td>\n",
       "      <td>14.272088</td>\n",
       "      <td>-3.475083</td>\n",
       "      <td>0.999183</td>\n",
       "      <td>26.953261</td>\n",
       "    </tr>\n",
       "    <tr>\n",
       "      <th>2</th>\n",
       "      <td>vyE1P</td>\n",
       "      <td>6.263187</td>\n",
       "      <td>-5.948386</td>\n",
       "      <td>5.001160</td>\n",
       "      <td>134.766305</td>\n",
       "    </tr>\n",
       "    <tr>\n",
       "      <th>3</th>\n",
       "      <td>KcrkZ</td>\n",
       "      <td>-13.081196</td>\n",
       "      <td>-11.506057</td>\n",
       "      <td>4.999415</td>\n",
       "      <td>137.945408</td>\n",
       "    </tr>\n",
       "    <tr>\n",
       "      <th>4</th>\n",
       "      <td>AHL4O</td>\n",
       "      <td>12.702195</td>\n",
       "      <td>-8.147433</td>\n",
       "      <td>5.004363</td>\n",
       "      <td>134.766305</td>\n",
       "    </tr>\n",
       "  </tbody>\n",
       "</table>\n",
       "</div>"
      ],
      "text/plain": [
       "      id         f0         f1        f2     product\n",
       "0  kBEdx -15.001348  -8.276000 -0.005876    3.179103\n",
       "1  62mP7  14.272088  -3.475083  0.999183   26.953261\n",
       "2  vyE1P   6.263187  -5.948386  5.001160  134.766305\n",
       "3  KcrkZ -13.081196 -11.506057  4.999415  137.945408\n",
       "4  AHL4O  12.702195  -8.147433  5.004363  134.766305"
      ]
     },
     "metadata": {},
     "output_type": "display_data"
    },
    {
     "name": "stdout",
     "output_type": "stream",
     "text": [
      "\n",
      "Информация о датасете\n",
      "<class 'pandas.core.frame.DataFrame'>\n",
      "RangeIndex: 100000 entries, 0 to 99999\n",
      "Data columns (total 5 columns):\n",
      " #   Column   Non-Null Count   Dtype  \n",
      "---  ------   --------------   -----  \n",
      " 0   id       100000 non-null  object \n",
      " 1   f0       100000 non-null  float64\n",
      " 2   f1       100000 non-null  float64\n",
      " 3   f2       100000 non-null  float64\n",
      " 4   product  100000 non-null  float64\n",
      "dtypes: float64(4), object(1)\n",
      "memory usage: 3.8+ MB\n"
     ]
    },
    {
     "data": {
      "text/plain": [
       "None"
      ]
     },
     "metadata": {},
     "output_type": "display_data"
    },
    {
     "name": "stdout",
     "output_type": "stream",
     "text": [
      "\n",
      "Описательная статистика датасета\n"
     ]
    },
    {
     "data": {
      "text/html": [
       "<div>\n",
       "<style scoped>\n",
       "    .dataframe tbody tr th:only-of-type {\n",
       "        vertical-align: middle;\n",
       "    }\n",
       "\n",
       "    .dataframe tbody tr th {\n",
       "        vertical-align: top;\n",
       "    }\n",
       "\n",
       "    .dataframe thead th {\n",
       "        text-align: right;\n",
       "    }\n",
       "</style>\n",
       "<table border=\"1\" class=\"dataframe\">\n",
       "  <thead>\n",
       "    <tr style=\"text-align: right;\">\n",
       "      <th></th>\n",
       "      <th>f0</th>\n",
       "      <th>f1</th>\n",
       "      <th>f2</th>\n",
       "      <th>product</th>\n",
       "    </tr>\n",
       "  </thead>\n",
       "  <tbody>\n",
       "    <tr>\n",
       "      <th>count</th>\n",
       "      <td>100000.000000</td>\n",
       "      <td>100000.000000</td>\n",
       "      <td>100000.000000</td>\n",
       "      <td>100000.000000</td>\n",
       "    </tr>\n",
       "    <tr>\n",
       "      <th>mean</th>\n",
       "      <td>1.141296</td>\n",
       "      <td>-4.796579</td>\n",
       "      <td>2.494541</td>\n",
       "      <td>68.825000</td>\n",
       "    </tr>\n",
       "    <tr>\n",
       "      <th>std</th>\n",
       "      <td>8.965932</td>\n",
       "      <td>5.119872</td>\n",
       "      <td>1.703572</td>\n",
       "      <td>45.944423</td>\n",
       "    </tr>\n",
       "    <tr>\n",
       "      <th>min</th>\n",
       "      <td>-31.609576</td>\n",
       "      <td>-26.358598</td>\n",
       "      <td>-0.018144</td>\n",
       "      <td>0.000000</td>\n",
       "    </tr>\n",
       "    <tr>\n",
       "      <th>25%</th>\n",
       "      <td>-6.298551</td>\n",
       "      <td>-8.267985</td>\n",
       "      <td>1.000021</td>\n",
       "      <td>26.953261</td>\n",
       "    </tr>\n",
       "    <tr>\n",
       "      <th>50%</th>\n",
       "      <td>1.153055</td>\n",
       "      <td>-4.813172</td>\n",
       "      <td>2.011479</td>\n",
       "      <td>57.085625</td>\n",
       "    </tr>\n",
       "    <tr>\n",
       "      <th>75%</th>\n",
       "      <td>8.621015</td>\n",
       "      <td>-1.332816</td>\n",
       "      <td>3.999904</td>\n",
       "      <td>107.813044</td>\n",
       "    </tr>\n",
       "    <tr>\n",
       "      <th>max</th>\n",
       "      <td>29.421755</td>\n",
       "      <td>18.734063</td>\n",
       "      <td>5.019721</td>\n",
       "      <td>137.945408</td>\n",
       "    </tr>\n",
       "  </tbody>\n",
       "</table>\n",
       "</div>"
      ],
      "text/plain": [
       "                  f0             f1             f2        product\n",
       "count  100000.000000  100000.000000  100000.000000  100000.000000\n",
       "mean        1.141296      -4.796579       2.494541      68.825000\n",
       "std         8.965932       5.119872       1.703572      45.944423\n",
       "min       -31.609576     -26.358598      -0.018144       0.000000\n",
       "25%        -6.298551      -8.267985       1.000021      26.953261\n",
       "50%         1.153055      -4.813172       2.011479      57.085625\n",
       "75%         8.621015      -1.332816       3.999904     107.813044\n",
       "max        29.421755      18.734063       5.019721     137.945408"
      ]
     },
     "metadata": {},
     "output_type": "display_data"
    },
    {
     "name": "stdout",
     "output_type": "stream",
     "text": [
      "\n",
      "Количество дубликатов: 0\n",
      "\n",
      "Коэффициент корреляции\n"
     ]
    },
    {
     "data": {
      "text/html": [
       "<div>\n",
       "<style scoped>\n",
       "    .dataframe tbody tr th:only-of-type {\n",
       "        vertical-align: middle;\n",
       "    }\n",
       "\n",
       "    .dataframe tbody tr th {\n",
       "        vertical-align: top;\n",
       "    }\n",
       "\n",
       "    .dataframe thead th {\n",
       "        text-align: right;\n",
       "    }\n",
       "</style>\n",
       "<table border=\"1\" class=\"dataframe\">\n",
       "  <thead>\n",
       "    <tr style=\"text-align: right;\">\n",
       "      <th></th>\n",
       "      <th>f0</th>\n",
       "      <th>f1</th>\n",
       "      <th>f2</th>\n",
       "      <th>product</th>\n",
       "    </tr>\n",
       "  </thead>\n",
       "  <tbody>\n",
       "    <tr>\n",
       "      <th>f0</th>\n",
       "      <td>1.000000</td>\n",
       "      <td>0.182287</td>\n",
       "      <td>-0.001777</td>\n",
       "      <td>-0.030491</td>\n",
       "    </tr>\n",
       "    <tr>\n",
       "      <th>f1</th>\n",
       "      <td>0.182287</td>\n",
       "      <td>1.000000</td>\n",
       "      <td>-0.002595</td>\n",
       "      <td>-0.010155</td>\n",
       "    </tr>\n",
       "    <tr>\n",
       "      <th>f2</th>\n",
       "      <td>-0.001777</td>\n",
       "      <td>-0.002595</td>\n",
       "      <td>1.000000</td>\n",
       "      <td>0.999397</td>\n",
       "    </tr>\n",
       "    <tr>\n",
       "      <th>product</th>\n",
       "      <td>-0.030491</td>\n",
       "      <td>-0.010155</td>\n",
       "      <td>0.999397</td>\n",
       "      <td>1.000000</td>\n",
       "    </tr>\n",
       "  </tbody>\n",
       "</table>\n",
       "</div>"
      ],
      "text/plain": [
       "               f0        f1        f2   product\n",
       "f0       1.000000  0.182287 -0.001777 -0.030491\n",
       "f1       0.182287  1.000000 -0.002595 -0.010155\n",
       "f2      -0.001777 -0.002595  1.000000  0.999397\n",
       "product -0.030491 -0.010155  0.999397  1.000000"
      ]
     },
     "metadata": {},
     "output_type": "display_data"
    },
    {
     "name": "stdout",
     "output_type": "stream",
     "text": [
      "-------------------------------------------------------\n",
      "Первые 5 строк датасета\n"
     ]
    },
    {
     "data": {
      "text/html": [
       "<div>\n",
       "<style scoped>\n",
       "    .dataframe tbody tr th:only-of-type {\n",
       "        vertical-align: middle;\n",
       "    }\n",
       "\n",
       "    .dataframe tbody tr th {\n",
       "        vertical-align: top;\n",
       "    }\n",
       "\n",
       "    .dataframe thead th {\n",
       "        text-align: right;\n",
       "    }\n",
       "</style>\n",
       "<table border=\"1\" class=\"dataframe\">\n",
       "  <thead>\n",
       "    <tr style=\"text-align: right;\">\n",
       "      <th></th>\n",
       "      <th>id</th>\n",
       "      <th>f0</th>\n",
       "      <th>f1</th>\n",
       "      <th>f2</th>\n",
       "      <th>product</th>\n",
       "    </tr>\n",
       "  </thead>\n",
       "  <tbody>\n",
       "    <tr>\n",
       "      <th>0</th>\n",
       "      <td>fwXo0</td>\n",
       "      <td>-1.146987</td>\n",
       "      <td>0.963328</td>\n",
       "      <td>-0.828965</td>\n",
       "      <td>27.758673</td>\n",
       "    </tr>\n",
       "    <tr>\n",
       "      <th>1</th>\n",
       "      <td>WJtFt</td>\n",
       "      <td>0.262778</td>\n",
       "      <td>0.269839</td>\n",
       "      <td>-2.530187</td>\n",
       "      <td>56.069697</td>\n",
       "    </tr>\n",
       "    <tr>\n",
       "      <th>2</th>\n",
       "      <td>ovLUW</td>\n",
       "      <td>0.194587</td>\n",
       "      <td>0.289035</td>\n",
       "      <td>-5.586433</td>\n",
       "      <td>62.871910</td>\n",
       "    </tr>\n",
       "    <tr>\n",
       "      <th>3</th>\n",
       "      <td>q6cA6</td>\n",
       "      <td>2.236060</td>\n",
       "      <td>-0.553760</td>\n",
       "      <td>0.930038</td>\n",
       "      <td>114.572842</td>\n",
       "    </tr>\n",
       "    <tr>\n",
       "      <th>4</th>\n",
       "      <td>WPMUX</td>\n",
       "      <td>-0.515993</td>\n",
       "      <td>1.716266</td>\n",
       "      <td>5.899011</td>\n",
       "      <td>149.600746</td>\n",
       "    </tr>\n",
       "  </tbody>\n",
       "</table>\n",
       "</div>"
      ],
      "text/plain": [
       "      id        f0        f1        f2     product\n",
       "0  fwXo0 -1.146987  0.963328 -0.828965   27.758673\n",
       "1  WJtFt  0.262778  0.269839 -2.530187   56.069697\n",
       "2  ovLUW  0.194587  0.289035 -5.586433   62.871910\n",
       "3  q6cA6  2.236060 -0.553760  0.930038  114.572842\n",
       "4  WPMUX -0.515993  1.716266  5.899011  149.600746"
      ]
     },
     "metadata": {},
     "output_type": "display_data"
    },
    {
     "name": "stdout",
     "output_type": "stream",
     "text": [
      "\n",
      "Информация о датасете\n",
      "<class 'pandas.core.frame.DataFrame'>\n",
      "RangeIndex: 100000 entries, 0 to 99999\n",
      "Data columns (total 5 columns):\n",
      " #   Column   Non-Null Count   Dtype  \n",
      "---  ------   --------------   -----  \n",
      " 0   id       100000 non-null  object \n",
      " 1   f0       100000 non-null  float64\n",
      " 2   f1       100000 non-null  float64\n",
      " 3   f2       100000 non-null  float64\n",
      " 4   product  100000 non-null  float64\n",
      "dtypes: float64(4), object(1)\n",
      "memory usage: 3.8+ MB\n"
     ]
    },
    {
     "data": {
      "text/plain": [
       "None"
      ]
     },
     "metadata": {},
     "output_type": "display_data"
    },
    {
     "name": "stdout",
     "output_type": "stream",
     "text": [
      "\n",
      "Описательная статистика датасета\n"
     ]
    },
    {
     "data": {
      "text/html": [
       "<div>\n",
       "<style scoped>\n",
       "    .dataframe tbody tr th:only-of-type {\n",
       "        vertical-align: middle;\n",
       "    }\n",
       "\n",
       "    .dataframe tbody tr th {\n",
       "        vertical-align: top;\n",
       "    }\n",
       "\n",
       "    .dataframe thead th {\n",
       "        text-align: right;\n",
       "    }\n",
       "</style>\n",
       "<table border=\"1\" class=\"dataframe\">\n",
       "  <thead>\n",
       "    <tr style=\"text-align: right;\">\n",
       "      <th></th>\n",
       "      <th>f0</th>\n",
       "      <th>f1</th>\n",
       "      <th>f2</th>\n",
       "      <th>product</th>\n",
       "    </tr>\n",
       "  </thead>\n",
       "  <tbody>\n",
       "    <tr>\n",
       "      <th>count</th>\n",
       "      <td>100000.000000</td>\n",
       "      <td>100000.000000</td>\n",
       "      <td>100000.000000</td>\n",
       "      <td>100000.000000</td>\n",
       "    </tr>\n",
       "    <tr>\n",
       "      <th>mean</th>\n",
       "      <td>0.002023</td>\n",
       "      <td>-0.002081</td>\n",
       "      <td>2.495128</td>\n",
       "      <td>95.000000</td>\n",
       "    </tr>\n",
       "    <tr>\n",
       "      <th>std</th>\n",
       "      <td>1.732045</td>\n",
       "      <td>1.730417</td>\n",
       "      <td>3.473445</td>\n",
       "      <td>44.749921</td>\n",
       "    </tr>\n",
       "    <tr>\n",
       "      <th>min</th>\n",
       "      <td>-8.760004</td>\n",
       "      <td>-7.084020</td>\n",
       "      <td>-11.970335</td>\n",
       "      <td>0.000000</td>\n",
       "    </tr>\n",
       "    <tr>\n",
       "      <th>25%</th>\n",
       "      <td>-1.162288</td>\n",
       "      <td>-1.174820</td>\n",
       "      <td>0.130359</td>\n",
       "      <td>59.450441</td>\n",
       "    </tr>\n",
       "    <tr>\n",
       "      <th>50%</th>\n",
       "      <td>0.009424</td>\n",
       "      <td>-0.009482</td>\n",
       "      <td>2.484236</td>\n",
       "      <td>94.925613</td>\n",
       "    </tr>\n",
       "    <tr>\n",
       "      <th>75%</th>\n",
       "      <td>1.158535</td>\n",
       "      <td>1.163678</td>\n",
       "      <td>4.858794</td>\n",
       "      <td>130.595027</td>\n",
       "    </tr>\n",
       "    <tr>\n",
       "      <th>max</th>\n",
       "      <td>7.238262</td>\n",
       "      <td>7.844801</td>\n",
       "      <td>16.739402</td>\n",
       "      <td>190.029838</td>\n",
       "    </tr>\n",
       "  </tbody>\n",
       "</table>\n",
       "</div>"
      ],
      "text/plain": [
       "                  f0             f1             f2        product\n",
       "count  100000.000000  100000.000000  100000.000000  100000.000000\n",
       "mean        0.002023      -0.002081       2.495128      95.000000\n",
       "std         1.732045       1.730417       3.473445      44.749921\n",
       "min        -8.760004      -7.084020     -11.970335       0.000000\n",
       "25%        -1.162288      -1.174820       0.130359      59.450441\n",
       "50%         0.009424      -0.009482       2.484236      94.925613\n",
       "75%         1.158535       1.163678       4.858794     130.595027\n",
       "max         7.238262       7.844801      16.739402     190.029838"
      ]
     },
     "metadata": {},
     "output_type": "display_data"
    },
    {
     "name": "stdout",
     "output_type": "stream",
     "text": [
      "\n",
      "Количество дубликатов: 0\n",
      "\n",
      "Коэффициент корреляции\n"
     ]
    },
    {
     "data": {
      "text/html": [
       "<div>\n",
       "<style scoped>\n",
       "    .dataframe tbody tr th:only-of-type {\n",
       "        vertical-align: middle;\n",
       "    }\n",
       "\n",
       "    .dataframe tbody tr th {\n",
       "        vertical-align: top;\n",
       "    }\n",
       "\n",
       "    .dataframe thead th {\n",
       "        text-align: right;\n",
       "    }\n",
       "</style>\n",
       "<table border=\"1\" class=\"dataframe\">\n",
       "  <thead>\n",
       "    <tr style=\"text-align: right;\">\n",
       "      <th></th>\n",
       "      <th>f0</th>\n",
       "      <th>f1</th>\n",
       "      <th>f2</th>\n",
       "      <th>product</th>\n",
       "    </tr>\n",
       "  </thead>\n",
       "  <tbody>\n",
       "    <tr>\n",
       "      <th>f0</th>\n",
       "      <td>1.000000</td>\n",
       "      <td>0.000528</td>\n",
       "      <td>-0.000448</td>\n",
       "      <td>-0.001987</td>\n",
       "    </tr>\n",
       "    <tr>\n",
       "      <th>f1</th>\n",
       "      <td>0.000528</td>\n",
       "      <td>1.000000</td>\n",
       "      <td>0.000779</td>\n",
       "      <td>-0.001012</td>\n",
       "    </tr>\n",
       "    <tr>\n",
       "      <th>f2</th>\n",
       "      <td>-0.000448</td>\n",
       "      <td>0.000779</td>\n",
       "      <td>1.000000</td>\n",
       "      <td>0.445871</td>\n",
       "    </tr>\n",
       "    <tr>\n",
       "      <th>product</th>\n",
       "      <td>-0.001987</td>\n",
       "      <td>-0.001012</td>\n",
       "      <td>0.445871</td>\n",
       "      <td>1.000000</td>\n",
       "    </tr>\n",
       "  </tbody>\n",
       "</table>\n",
       "</div>"
      ],
      "text/plain": [
       "               f0        f1        f2   product\n",
       "f0       1.000000  0.000528 -0.000448 -0.001987\n",
       "f1       0.000528  1.000000  0.000779 -0.001012\n",
       "f2      -0.000448  0.000779  1.000000  0.445871\n",
       "product -0.001987 -0.001012  0.445871  1.000000"
      ]
     },
     "metadata": {},
     "output_type": "display_data"
    },
    {
     "name": "stdout",
     "output_type": "stream",
     "text": [
      "-------------------------------------------------------\n"
     ]
    }
   ],
   "source": [
    "info_geo_data(geo_data_0)\n",
    "info_geo_data(geo_data_1)\n",
    "info_geo_data(geo_data_2)"
   ]
  },
  {
   "cell_type": "markdown",
   "metadata": {},
   "source": [
    "<b>Вывод</b>  \n",
    "\n",
    "Вывел основную информацию о данных.\n",
    "Пропусков - нет, дубликатов - нет. Корреляция 2 региона показывает, что количество нефти сильно зависит от признака f2. Может быть прибыльным регионом."
   ]
  },
  {
   "cell_type": "markdown",
   "metadata": {},
   "source": [
    "## Обучение и проверка модели"
   ]
  },
  {
   "cell_type": "code",
   "execution_count": 5,
   "metadata": {},
   "outputs": [],
   "source": [
    "def split_train (geo_data):\n",
    "    features = geo_data.drop(['product','id'], axis=1)\n",
    "    target = geo_data['product']\n",
    "    \n",
    "    features_train, features_valid, target_train, target_valid = train_test_split(\n",
    "        features, target, test_size=0.25, random_state=12345\n",
    "    )\n",
    "    \n",
    "    line_reg = LinearRegression()\n",
    "    line_reg.fit(features_train, target_train)\n",
    "    predicted_valid = line_reg.predict(features_valid)\n",
    "    mean_product_predicted_valid = sum(predicted_valid) / len(predicted_valid)\n",
    "    rmse = mean_squared_error(predicted_valid, target_valid) ** 0.5\n",
    "    \n",
    "    print('Средний запас предсказанного сырья:', round(mean_product_predicted_valid, 3))\n",
    "    print('RMSE:', round(rmse, 3))\n",
    "    \n",
    "    return predicted_valid, target_valid, rmse"
   ]
  },
  {
   "cell_type": "code",
   "execution_count": 6,
   "metadata": {},
   "outputs": [
    {
     "name": "stdout",
     "output_type": "stream",
     "text": [
      "Регион 1\n",
      "Средний запас предсказанного сырья: 92.593\n",
      "RMSE: 37.579\n",
      "\n",
      "Регион 2\n",
      "Средний запас предсказанного сырья: 68.729\n",
      "RMSE: 0.893\n",
      "\n",
      "Регион 3\n",
      "Средний запас предсказанного сырья: 94.965\n",
      "RMSE: 40.03\n"
     ]
    }
   ],
   "source": [
    "print('Регион 1')\n",
    "predicted_valid_0, target_valid_0, rmse_0 = split_train(geo_data_0)\n",
    "print()\n",
    "print('Регион 2')\n",
    "predicted_valid_1, target_valid_1, rmse_1 = split_train(geo_data_1)\n",
    "print()\n",
    "print('Регион 3')\n",
    "predicted_valid_2, target_valid_2, rmse_2 = split_train(geo_data_2)"
   ]
  },
  {
   "cell_type": "markdown",
   "metadata": {},
   "source": [
    "<b>Вывод</b>  \n",
    "\n",
    "Данные разделены на выборки в отношении 75:25.   \n",
    "Обучена модель линейной регрессии на валидационной выборке.  \n",
    "Найден средний запас сырья в регионах. Самый стабильный регион - второй. Среднеквадратическая ошибка минимальна."
   ]
  },
  {
   "cell_type": "markdown",
   "metadata": {},
   "source": [
    "## Подготовка к расчёту прибыли"
   ]
  },
  {
   "cell_type": "code",
   "execution_count": 7,
   "metadata": {},
   "outputs": [
    {
     "name": "stdout",
     "output_type": "stream",
     "text": [
      "Количество баррелей, которое нужно добыть с одной скважины, чтобы отбить затраты на разработку: 111.11\n"
     ]
    }
   ],
   "source": [
    "budget = 10000000000\n",
    "income_per_unit = 450000\n",
    "n = 200\n",
    "\n",
    "quantity_barrels = budget / (income_per_unit * n)\n",
    "print('Количество баррелей, которое нужно добыть с одной скважины, чтобы отбить затраты на разработку:', \n",
    "      round(quantity_barrels, 2)\n",
    "     )"
   ]
  },
  {
   "cell_type": "code",
   "execution_count": 8,
   "metadata": {},
   "outputs": [
    {
     "name": "stdout",
     "output_type": "stream",
     "text": [
      "Регион 1\n",
      "Среднее количеcтво нефти в регионе 92.5\n",
      "Нужно больше нефти!\n",
      "------------------------------------------------------------\n",
      "\n",
      "Регион 2\n",
      "Среднее количеcтво нефти в регионе 92.5\n",
      "Нужно больше нефти!\n",
      "------------------------------------------------------------\n",
      "\n",
      "Регион 3\n",
      "Среднее количеcтво нефти в регионе 92.5\n",
      "Нужно больше нефти!\n",
      "------------------------------------------------------------\n"
     ]
    }
   ],
   "source": [
    "def comparison(data):\n",
    "    mean_product = data.mean()\n",
    "    print('Среднее количеcтво нефти в регионе', round(mean_product, 2))\n",
    "    if mean_product > quantity_barrels:\n",
    "        print('Хватит нефти')\n",
    "        print('------------------------------------------------------------')\n",
    "    else:\n",
    "        print('Нужно больше нефти!')\n",
    "        print('------------------------------------------------------------')\n",
    "\n",
    "print('Регион 1')\n",
    "comparison(geo_data_0['product'])\n",
    "print()\n",
    "print('Регион 2')\n",
    "comparison(geo_data_0['product'])\n",
    "print()\n",
    "print('Регион 3')\n",
    "comparison(geo_data_0['product'])"
   ]
  },
  {
   "cell_type": "markdown",
   "metadata": {},
   "source": [
    "<b>Вывод</b>  \n",
    "\n",
    "Найдено среднее количество запасов нефти по регионам и количество баррелей, которое нужно добыть, чтобы отбить затраты на разработку скважин."
   ]
  },
  {
   "cell_type": "markdown",
   "metadata": {},
   "source": [
    "## Расчёт прибыли и рисков "
   ]
  },
  {
   "cell_type": "code",
   "execution_count": 16,
   "metadata": {},
   "outputs": [],
   "source": [
    "target_valid_0 = pd.Series(target_valid_0).reset_index(drop=True)\n",
    "predicted_valid_0 = pd.Series(predicted_valid_0).reset_index(drop=True)\n",
    "target_valid_1 = pd.Series(target_valid_1).reset_index(drop=True)\n",
    "predicted_valid_1 = pd.Series(predicted_valid_1).reset_index(drop=True)\n",
    "target_valid_2 = pd.Series(target_valid_2).reset_index(drop=True)\n",
    "predicted_valid_2 = pd.Series(predicted_valid_2).reset_index(drop=True)\n",
    "\n",
    "def revenue (target, predictions):\n",
    "    predicted_valid = predictions.sort_values(ascending=False)[:200]\n",
    "    target_valid = target[predicted_valid.index]\n",
    "    return income_per_unit * target_valid.sum() - budget "
   ]
  },
  {
   "cell_type": "code",
   "execution_count": 10,
   "metadata": {},
   "outputs": [
    {
     "data": {
      "text/plain": [
       "3320826043.1398506"
      ]
     },
     "execution_count": 10,
     "metadata": {},
     "output_type": "execute_result"
    }
   ],
   "source": [
    "revenue(target_valid_0, predicted_valid_0)"
   ]
  },
  {
   "cell_type": "code",
   "execution_count": 11,
   "metadata": {},
   "outputs": [
    {
     "data": {
      "text/plain": [
       "2415086696.681511"
      ]
     },
     "execution_count": 11,
     "metadata": {},
     "output_type": "execute_result"
    }
   ],
   "source": [
    "revenue(target_valid_1, predicted_valid_1)"
   ]
  },
  {
   "cell_type": "code",
   "execution_count": 12,
   "metadata": {
    "scrolled": true
   },
   "outputs": [
    {
     "data": {
      "text/plain": [
       "2710349963.5998325"
      ]
     },
     "execution_count": 12,
     "metadata": {},
     "output_type": "execute_result"
    }
   ],
   "source": [
    "revenue(target_valid_2, predicted_valid_2)"
   ]
  },
  {
   "cell_type": "code",
   "execution_count": 17,
   "metadata": {},
   "outputs": [
    {
     "data": {
      "application/vnd.jupyter.widget-view+json": {
       "model_id": "e2466592354e4394aff4752a308e0bd5",
       "version_major": 2,
       "version_minor": 0
      },
      "text/plain": [
       "Progress:   0%|          | 0/1000 [00:00<?, ?it/s]"
      ]
     },
     "metadata": {},
     "output_type": "display_data"
    },
    {
     "name": "stdout",
     "output_type": "stream",
     "text": [
      "Первый регион\n",
      "Средняя возможная прибыль: 396164984.8023711\n",
      "95%-доверительный интервал: от -111215545.89049526 до 909766941.5534226\n",
      "Вероятность убытков: 6.9 %\n",
      "\n"
     ]
    },
    {
     "data": {
      "application/vnd.jupyter.widget-view+json": {
       "model_id": "2828e38c0f0b4171bff3676ee2e8c17f",
       "version_major": 2,
       "version_minor": 0
      },
      "text/plain": [
       "Progress:   0%|          | 0/1000 [00:00<?, ?it/s]"
      ]
     },
     "metadata": {},
     "output_type": "display_data"
    },
    {
     "name": "stdout",
     "output_type": "stream",
     "text": [
      "Второй регион\n",
      "Средняя возможная прибыль: 461155817.2772397\n",
      "95%-доверительный интервал: от 78050810.7517417 до 862952060.2637234\n",
      "Вероятность убытков: 0.7000000000000001 %\n",
      "\n"
     ]
    },
    {
     "data": {
      "application/vnd.jupyter.widget-view+json": {
       "model_id": "6812ac881d454f5da184e9299a64c953",
       "version_major": 2,
       "version_minor": 0
      },
      "text/plain": [
       "Progress:   0%|          | 0/1000 [00:00<?, ?it/s]"
      ]
     },
     "metadata": {},
     "output_type": "display_data"
    },
    {
     "name": "stdout",
     "output_type": "stream",
     "text": [
      "Третий регион\n",
      "Средняя возможная прибыль: 392950475.17060447\n",
      "95%-доверительный интервал: от -112227625.37857565 до 934562914.5511636\n",
      "Вероятность убытков: 6.5 %\n",
      "\n"
     ]
    }
   ],
   "source": [
    "target_valid = [target_valid_0, target_valid_1, target_valid_2]\n",
    "predicted_valid = [predicted_valid_0, predicted_valid_1, predicted_valid_2]\n",
    "regions = ['Первый регион', 'Второй регион', 'Третий регион']\n",
    "\n",
    "state = np.random.RandomState(12345)\n",
    "\n",
    "for m in range(len(target_valid)):\n",
    "    values = []\n",
    "    for i in tqdm(range(1000), desc='Progress'):\n",
    "        target_subsample = target_valid[m].sample(500, replace=True, random_state=state)\n",
    "        predictions_subsample = predicted_valid[m].loc[target_subsample.index]\n",
    "        values.append(revenue(target_subsample.reset_index(drop=True), predictions_subsample.reset_index(drop=True)))\n",
    "\n",
    "    values = pd.Series(values)\n",
    "    lower = values.quantile(.025)\n",
    "    upper = values.quantile(.975)\n",
    "\n",
    "    mean = values.mean()\n",
    "    \n",
    "    loss_probability = sum(values < 0) / values.count() * 100\n",
    "    \n",
    "    print(regions[m])\n",
    "    print(\"Средняя возможная прибыль:\", mean)\n",
    "    print(\"95%-доверительный интервал:\", \"от\", lower, \"до\", upper)\n",
    "    print(\"Вероятность убытков:\", loss_probability, \"%\")\n",
    "    print()"
   ]
  },
  {
   "cell_type": "markdown",
   "metadata": {},
   "source": [
    "<b>Вывод</b>  \n",
    "\n",
    "Написана функция для рассчета прибыли. Рассчитаны: средняя возможная прибыль, 95% доверительный интервал и вероятность убытков. \n",
    "Самый выгодный регион - второй."
   ]
  },
  {
   "cell_type": "markdown",
   "metadata": {},
   "source": [
    "## Общий вывод  \n",
    "\n",
    "В данной работе были исследованы три региона где добывается нефть, чтобы построить модель для определения наиболее выгодного\n",
    "региона для добычи нефти.  \n",
    "Данные были проверены на наличие пропусков и дубликатов. Корреляция показала, что во втором регионе количество запасов напрямую зависит от признака f2.  \n",
    "Данные были разделены на выборки и использованы для обучения модели линейной регрессии и получения ее предсказаний. По среднеквадратичной ошибке наиболее стабильный регион - второй.  \n",
    "Посчитано минимальное количество добываемых баррелей для отбития затрат. Также вычислен средний запас продукта в каждом регионе.   \n",
    "Рассчитаны прибыли и вероятности убытков для всех регионов.  Самый прибыльный и стабильный регион - второй."
   ]
  }
 ],
 "metadata": {
  "ExecuteTimeLog": [
   {
    "duration": 376,
    "start_time": "2023-03-26T10:17:44.673Z"
   },
   {
    "duration": 3,
    "start_time": "2023-03-26T11:14:42.380Z"
   },
   {
    "duration": 127,
    "start_time": "2023-03-26T11:15:12.705Z"
   },
   {
    "duration": 73,
    "start_time": "2023-03-26T11:15:25.431Z"
   },
   {
    "duration": 153,
    "start_time": "2023-03-26T11:15:38.436Z"
   },
   {
    "duration": 23449,
    "start_time": "2023-03-26T11:15:43.876Z"
   },
   {
    "duration": 3,
    "start_time": "2023-03-26T11:17:19.237Z"
   },
   {
    "duration": 24638,
    "start_time": "2023-03-26T11:17:22.417Z"
   },
   {
    "duration": 110,
    "start_time": "2023-03-26T11:18:38.212Z"
   },
   {
    "duration": 3,
    "start_time": "2023-03-26T11:18:47.759Z"
   },
   {
    "duration": 3874,
    "start_time": "2023-03-26T11:22:18.547Z"
   },
   {
    "duration": 27,
    "start_time": "2023-03-26T11:23:05.044Z"
   },
   {
    "duration": 229,
    "start_time": "2023-03-26T11:23:08.581Z"
   },
   {
    "duration": 3956,
    "start_time": "2023-03-26T11:23:10.894Z"
   },
   {
    "duration": 4086,
    "start_time": "2023-03-26T11:23:59.859Z"
   },
   {
    "duration": 139,
    "start_time": "2023-03-26T11:24:07.187Z"
   },
   {
    "duration": 15,
    "start_time": "2023-03-26T11:24:35.355Z"
   },
   {
    "duration": 132,
    "start_time": "2023-03-26T11:27:12.598Z"
   },
   {
    "duration": 2553,
    "start_time": "2023-03-26T11:28:12.279Z"
   },
   {
    "duration": 133,
    "start_time": "2023-03-26T11:28:14.834Z"
   },
   {
    "duration": 24532,
    "start_time": "2023-03-26T11:28:14.969Z"
   },
   {
    "duration": 3838,
    "start_time": "2023-03-26T11:28:39.503Z"
   },
   {
    "duration": 213,
    "start_time": "2023-03-26T11:28:43.342Z"
   },
   {
    "duration": 345,
    "start_time": "2023-03-26T11:29:42.717Z"
   },
   {
    "duration": 4,
    "start_time": "2023-03-26T11:37:03.803Z"
   },
   {
    "duration": 4,
    "start_time": "2023-03-26T11:37:06.487Z"
   },
   {
    "duration": 24587,
    "start_time": "2023-03-26T11:37:25.005Z"
   },
   {
    "duration": 2,
    "start_time": "2023-03-26T11:38:49.837Z"
   },
   {
    "duration": 4,
    "start_time": "2023-03-26T11:39:19.854Z"
   },
   {
    "duration": 24697,
    "start_time": "2023-03-26T11:39:24.151Z"
   },
   {
    "duration": 3,
    "start_time": "2023-03-26T11:42:19.843Z"
   },
   {
    "duration": 23532,
    "start_time": "2023-03-26T11:42:49.052Z"
   },
   {
    "duration": 4,
    "start_time": "2023-03-26T11:46:24.315Z"
   },
   {
    "duration": 25648,
    "start_time": "2023-03-26T11:47:18.639Z"
   },
   {
    "duration": 2027,
    "start_time": "2023-03-26T12:01:56.474Z"
   },
   {
    "duration": 389,
    "start_time": "2023-03-26T12:01:58.503Z"
   },
   {
    "duration": 5,
    "start_time": "2023-03-26T12:01:58.894Z"
   },
   {
    "duration": 26265,
    "start_time": "2023-03-26T12:01:58.902Z"
   },
   {
    "duration": 26212,
    "start_time": "2023-03-26T12:02:25.170Z"
   },
   {
    "duration": 23834,
    "start_time": "2023-03-26T12:02:51.384Z"
   },
   {
    "duration": 615,
    "start_time": "2023-03-26T12:07:11.366Z"
   },
   {
    "duration": 3,
    "start_time": "2023-03-26T12:10:48.406Z"
   },
   {
    "duration": 184,
    "start_time": "2023-03-26T12:10:50.914Z"
   },
   {
    "duration": 21,
    "start_time": "2023-03-26T12:11:10.206Z"
   },
   {
    "duration": 373,
    "start_time": "2023-03-26T12:11:17.427Z"
   },
   {
    "duration": 4,
    "start_time": "2023-03-26T12:11:19.598Z"
   },
   {
    "duration": 25276,
    "start_time": "2023-03-26T12:11:22.183Z"
   },
   {
    "duration": 2897,
    "start_time": "2023-03-26T12:16:43.904Z"
   },
   {
    "duration": 4065,
    "start_time": "2023-03-26T12:16:55.934Z"
   },
   {
    "duration": 3,
    "start_time": "2023-03-26T12:17:09.562Z"
   },
   {
    "duration": 379,
    "start_time": "2023-03-26T12:17:12.776Z"
   },
   {
    "duration": 4,
    "start_time": "2023-03-26T12:17:15.062Z"
   },
   {
    "duration": 1179,
    "start_time": "2023-03-26T12:17:22.470Z"
   },
   {
    "duration": 3,
    "start_time": "2023-03-26T12:18:24.266Z"
   },
   {
    "duration": 1089,
    "start_time": "2023-03-26T12:18:35.069Z"
   },
   {
    "duration": 104,
    "start_time": "2023-03-26T12:19:37.329Z"
   },
   {
    "duration": 2335,
    "start_time": "2023-03-26T12:19:57.131Z"
   },
   {
    "duration": 379,
    "start_time": "2023-03-26T12:19:59.469Z"
   },
   {
    "duration": 4,
    "start_time": "2023-03-26T12:19:59.849Z"
   },
   {
    "duration": 25607,
    "start_time": "2023-03-26T12:19:59.855Z"
   },
   {
    "duration": 23751,
    "start_time": "2023-03-26T12:20:25.463Z"
   },
   {
    "duration": 25177,
    "start_time": "2023-03-26T12:20:49.216Z"
   },
   {
    "duration": 523,
    "start_time": "2023-03-26T19:00:00.737Z"
   },
   {
    "duration": 0,
    "start_time": "2023-03-26T19:00:01.263Z"
   },
   {
    "duration": 0,
    "start_time": "2023-03-26T19:00:01.264Z"
   },
   {
    "duration": 0,
    "start_time": "2023-03-26T19:00:01.265Z"
   },
   {
    "duration": 0,
    "start_time": "2023-03-26T19:00:01.266Z"
   },
   {
    "duration": 0,
    "start_time": "2023-03-26T19:00:01.268Z"
   },
   {
    "duration": 15419,
    "start_time": "2023-03-26T19:04:38.097Z"
   },
   {
    "duration": 2365,
    "start_time": "2023-03-26T19:04:53.519Z"
   },
   {
    "duration": 0,
    "start_time": "2023-03-26T19:04:55.886Z"
   },
   {
    "duration": 0,
    "start_time": "2023-03-26T19:04:55.888Z"
   },
   {
    "duration": 0,
    "start_time": "2023-03-26T19:04:55.889Z"
   },
   {
    "duration": 0,
    "start_time": "2023-03-26T19:04:55.890Z"
   },
   {
    "duration": 0,
    "start_time": "2023-03-26T19:04:55.891Z"
   },
   {
    "duration": 3,
    "start_time": "2023-03-26T19:05:20.608Z"
   },
   {
    "duration": 731,
    "start_time": "2023-03-26T19:05:22.678Z"
   },
   {
    "duration": 4,
    "start_time": "2023-03-26T19:05:24.094Z"
   },
   {
    "duration": 24288,
    "start_time": "2023-03-26T19:05:26.901Z"
   },
   {
    "duration": 5,
    "start_time": "2023-03-26T19:37:19.677Z"
   },
   {
    "duration": 117,
    "start_time": "2023-03-26T19:37:21.710Z"
   },
   {
    "duration": 94,
    "start_time": "2023-03-26T19:53:01.348Z"
   },
   {
    "duration": 101,
    "start_time": "2023-03-26T19:53:02.595Z"
   },
   {
    "duration": 421,
    "start_time": "2023-03-27T19:24:41.408Z"
   },
   {
    "duration": 1635,
    "start_time": "2023-03-27T19:24:41.831Z"
   },
   {
    "duration": 5,
    "start_time": "2023-03-27T19:24:43.467Z"
   },
   {
    "duration": 125,
    "start_time": "2023-03-27T19:24:43.473Z"
   },
   {
    "duration": 115,
    "start_time": "2023-03-27T19:24:43.601Z"
   },
   {
    "duration": 126,
    "start_time": "2023-03-27T19:24:43.718Z"
   },
   {
    "duration": 466,
    "start_time": "2023-03-27T19:24:57.399Z"
   },
   {
    "duration": 387,
    "start_time": "2023-03-27T19:25:06.254Z"
   },
   {
    "duration": 3,
    "start_time": "2023-03-27T19:26:28.449Z"
   },
   {
    "duration": 135,
    "start_time": "2023-03-27T19:26:31.148Z"
   },
   {
    "duration": 112,
    "start_time": "2023-03-27T19:26:37.684Z"
   },
   {
    "duration": 118,
    "start_time": "2023-03-27T19:26:57.137Z"
   },
   {
    "duration": 4,
    "start_time": "2023-03-27T19:27:40.743Z"
   },
   {
    "duration": 7,
    "start_time": "2023-03-27T19:32:14.547Z"
   },
   {
    "duration": 364,
    "start_time": "2023-03-27T19:32:22.713Z"
   },
   {
    "duration": 4,
    "start_time": "2023-03-27T19:32:48.535Z"
   },
   {
    "duration": 348,
    "start_time": "2023-03-27T19:32:54.821Z"
   },
   {
    "duration": 383,
    "start_time": "2023-03-27T19:35:25.246Z"
   },
   {
    "duration": 333,
    "start_time": "2023-03-27T19:35:42.149Z"
   },
   {
    "duration": 694,
    "start_time": "2023-03-27T19:54:18.022Z"
   },
   {
    "duration": 6,
    "start_time": "2023-03-27T20:42:40.847Z"
   },
   {
    "duration": 5,
    "start_time": "2023-03-27T20:44:10.919Z"
   },
   {
    "duration": 67,
    "start_time": "2023-03-27T20:44:16.391Z"
   },
   {
    "duration": 5,
    "start_time": "2023-03-27T20:44:28.064Z"
   },
   {
    "duration": 154,
    "start_time": "2023-03-27T20:44:28.788Z"
   },
   {
    "duration": 4,
    "start_time": "2023-03-27T20:44:42.981Z"
   },
   {
    "duration": 30,
    "start_time": "2023-03-27T20:44:43.513Z"
   },
   {
    "duration": 80,
    "start_time": "2023-03-27T20:44:56.801Z"
   },
   {
    "duration": 5,
    "start_time": "2023-03-27T20:45:19.206Z"
   },
   {
    "duration": 5,
    "start_time": "2023-03-27T20:49:16.032Z"
   },
   {
    "duration": 87,
    "start_time": "2023-03-27T20:49:17.965Z"
   },
   {
    "duration": 33,
    "start_time": "2023-03-27T20:49:50.715Z"
   },
   {
    "duration": 31,
    "start_time": "2023-03-27T20:49:53.677Z"
   },
   {
    "duration": 435,
    "start_time": "2023-03-27T20:51:42.424Z"
   },
   {
    "duration": 4,
    "start_time": "2023-03-27T20:55:50.231Z"
   },
   {
    "duration": 382,
    "start_time": "2023-03-27T20:55:54.971Z"
   },
   {
    "duration": 12,
    "start_time": "2023-03-27T20:56:17.447Z"
   },
   {
    "duration": 48,
    "start_time": "2023-03-27T20:57:42.507Z"
   },
   {
    "duration": 581,
    "start_time": "2023-03-27T20:57:50.684Z"
   },
   {
    "duration": 338,
    "start_time": "2023-03-27T20:58:13.318Z"
   },
   {
    "duration": 323,
    "start_time": "2023-03-27T20:58:34.640Z"
   },
   {
    "duration": 321,
    "start_time": "2023-03-27T20:58:56.029Z"
   },
   {
    "duration": 253,
    "start_time": "2023-03-27T20:59:02.712Z"
   },
   {
    "duration": 294,
    "start_time": "2023-03-27T20:59:07.362Z"
   },
   {
    "duration": 391,
    "start_time": "2023-03-27T20:59:14.552Z"
   },
   {
    "duration": 344,
    "start_time": "2023-03-27T20:59:27.510Z"
   },
   {
    "duration": 8,
    "start_time": "2023-03-27T20:59:58.274Z"
   },
   {
    "duration": 24,
    "start_time": "2023-03-27T21:00:03.709Z"
   },
   {
    "duration": 375,
    "start_time": "2023-03-27T21:01:00.377Z"
   },
   {
    "duration": 271,
    "start_time": "2023-03-27T21:01:43.086Z"
   },
   {
    "duration": 1064,
    "start_time": "2023-03-27T21:02:04.807Z"
   },
   {
    "duration": 399,
    "start_time": "2023-03-27T21:02:05.873Z"
   },
   {
    "duration": 5,
    "start_time": "2023-03-27T21:02:06.274Z"
   },
   {
    "duration": 430,
    "start_time": "2023-03-27T21:02:06.280Z"
   },
   {
    "duration": 4,
    "start_time": "2023-03-27T21:02:06.713Z"
   },
   {
    "duration": 334,
    "start_time": "2023-03-27T21:02:06.719Z"
   },
   {
    "duration": 4,
    "start_time": "2023-03-27T21:07:05.299Z"
   },
   {
    "duration": 3,
    "start_time": "2023-03-27T21:07:13.611Z"
   },
   {
    "duration": 3,
    "start_time": "2023-03-27T21:08:27.801Z"
   },
   {
    "duration": 3,
    "start_time": "2023-03-27T21:10:13.724Z"
   },
   {
    "duration": 23,
    "start_time": "2023-03-28T14:34:14.905Z"
   },
   {
    "duration": 58,
    "start_time": "2023-03-28T14:34:42.591Z"
   },
   {
    "duration": 1174,
    "start_time": "2023-03-28T14:34:49.634Z"
   },
   {
    "duration": 1645,
    "start_time": "2023-03-28T14:34:50.810Z"
   },
   {
    "duration": 5,
    "start_time": "2023-03-28T14:34:52.457Z"
   },
   {
    "duration": 405,
    "start_time": "2023-03-28T14:34:52.464Z"
   },
   {
    "duration": 4,
    "start_time": "2023-03-28T14:34:52.871Z"
   },
   {
    "duration": 436,
    "start_time": "2023-03-28T14:34:52.876Z"
   },
   {
    "duration": 207,
    "start_time": "2023-03-28T14:34:53.314Z"
   },
   {
    "duration": 3,
    "start_time": "2023-03-28T14:35:16.582Z"
   },
   {
    "duration": 4,
    "start_time": "2023-03-28T14:36:04.443Z"
   },
   {
    "duration": 4,
    "start_time": "2023-03-28T14:36:21.487Z"
   },
   {
    "duration": 5,
    "start_time": "2023-03-28T14:36:26.688Z"
   },
   {
    "duration": 3,
    "start_time": "2023-03-28T18:10:20.315Z"
   },
   {
    "duration": 5,
    "start_time": "2023-03-28T18:10:34.833Z"
   },
   {
    "duration": 5,
    "start_time": "2023-03-28T18:12:02.121Z"
   },
   {
    "duration": 3,
    "start_time": "2023-03-28T18:20:27.722Z"
   },
   {
    "duration": 1760,
    "start_time": "2023-03-28T18:20:43.624Z"
   },
   {
    "duration": 1708,
    "start_time": "2023-03-28T18:22:09.744Z"
   },
   {
    "duration": 4,
    "start_time": "2023-03-28T18:22:36.959Z"
   },
   {
    "duration": 1734,
    "start_time": "2023-03-28T18:22:38.182Z"
   },
   {
    "duration": 3,
    "start_time": "2023-03-28T18:23:02.945Z"
   },
   {
    "duration": 1772,
    "start_time": "2023-03-28T18:23:04.017Z"
   },
   {
    "duration": 1829,
    "start_time": "2023-03-28T18:24:20.514Z"
   },
   {
    "duration": 1373,
    "start_time": "2023-03-28T18:24:29.765Z"
   },
   {
    "duration": 369,
    "start_time": "2023-03-28T18:24:31.141Z"
   },
   {
    "duration": 8,
    "start_time": "2023-03-28T18:24:31.514Z"
   },
   {
    "duration": 419,
    "start_time": "2023-03-28T18:24:31.524Z"
   },
   {
    "duration": 6,
    "start_time": "2023-03-28T18:24:31.945Z"
   },
   {
    "duration": 368,
    "start_time": "2023-03-28T18:24:31.953Z"
   },
   {
    "duration": 85,
    "start_time": "2023-03-28T18:24:32.326Z"
   },
   {
    "duration": 1852,
    "start_time": "2023-03-28T18:24:32.413Z"
   },
   {
    "duration": 4,
    "start_time": "2023-03-28T18:24:44.650Z"
   },
   {
    "duration": 5,
    "start_time": "2023-03-28T18:25:46.127Z"
   },
   {
    "duration": 6,
    "start_time": "2023-03-28T18:26:08.726Z"
   },
   {
    "duration": 11,
    "start_time": "2023-03-28T18:27:55.803Z"
   },
   {
    "duration": 1147,
    "start_time": "2023-03-28T18:29:41.363Z"
   },
   {
    "duration": 1053,
    "start_time": "2023-03-28T18:30:12.135Z"
   },
   {
    "duration": 9,
    "start_time": "2023-03-28T18:32:13.631Z"
   },
   {
    "duration": 8,
    "start_time": "2023-03-28T18:32:45.328Z"
   },
   {
    "duration": 4,
    "start_time": "2023-03-28T18:33:35.961Z"
   },
   {
    "duration": 4,
    "start_time": "2023-03-28T18:33:48.338Z"
   },
   {
    "duration": 9,
    "start_time": "2023-03-28T20:11:30.432Z"
   },
   {
    "duration": 3,
    "start_time": "2023-03-28T20:11:34.094Z"
   },
   {
    "duration": 10,
    "start_time": "2023-03-28T20:11:37.460Z"
   },
   {
    "duration": 1194,
    "start_time": "2023-03-28T20:12:01.084Z"
   },
   {
    "duration": 963,
    "start_time": "2023-03-28T20:12:02.280Z"
   },
   {
    "duration": 4,
    "start_time": "2023-03-28T20:12:03.245Z"
   },
   {
    "duration": 400,
    "start_time": "2023-03-28T20:12:03.251Z"
   },
   {
    "duration": 4,
    "start_time": "2023-03-28T20:12:03.653Z"
   },
   {
    "duration": 259,
    "start_time": "2023-03-28T20:12:03.658Z"
   },
   {
    "duration": 6,
    "start_time": "2023-03-28T20:12:03.920Z"
   },
   {
    "duration": 84,
    "start_time": "2023-03-28T20:12:03.933Z"
   },
   {
    "duration": 23,
    "start_time": "2023-03-28T20:12:04.019Z"
   },
   {
    "duration": 141,
    "start_time": "2023-03-28T20:12:04.044Z"
   },
   {
    "duration": 13,
    "start_time": "2023-03-28T20:15:15.880Z"
   },
   {
    "duration": 4,
    "start_time": "2023-03-28T20:16:22.473Z"
   },
   {
    "duration": 5,
    "start_time": "2023-03-28T20:16:28.044Z"
   },
   {
    "duration": 6,
    "start_time": "2023-03-28T20:16:31.229Z"
   },
   {
    "duration": 5,
    "start_time": "2023-03-28T20:16:45.147Z"
   },
   {
    "duration": 6,
    "start_time": "2023-03-28T20:17:14.219Z"
   },
   {
    "duration": 3,
    "start_time": "2023-03-28T20:19:13.853Z"
   },
   {
    "duration": 23,
    "start_time": "2023-03-28T20:19:18.588Z"
   },
   {
    "duration": 6,
    "start_time": "2023-03-28T20:20:06.373Z"
   },
   {
    "duration": 5,
    "start_time": "2023-03-28T20:20:46.586Z"
   },
   {
    "duration": 16,
    "start_time": "2023-03-28T20:20:47.763Z"
   },
   {
    "duration": 4,
    "start_time": "2023-03-28T20:20:56.642Z"
   },
   {
    "duration": 14,
    "start_time": "2023-03-28T20:20:57.570Z"
   },
   {
    "duration": 1250,
    "start_time": "2023-03-28T20:21:18.038Z"
   },
   {
    "duration": 432,
    "start_time": "2023-03-28T20:21:19.289Z"
   },
   {
    "duration": 4,
    "start_time": "2023-03-28T20:21:19.723Z"
   },
   {
    "duration": 429,
    "start_time": "2023-03-28T20:21:19.729Z"
   },
   {
    "duration": 4,
    "start_time": "2023-03-28T20:21:20.161Z"
   },
   {
    "duration": 268,
    "start_time": "2023-03-28T20:21:20.166Z"
   },
   {
    "duration": 80,
    "start_time": "2023-03-28T20:21:20.436Z"
   },
   {
    "duration": 13,
    "start_time": "2023-03-28T20:21:20.520Z"
   },
   {
    "duration": 10,
    "start_time": "2023-03-28T20:21:20.537Z"
   },
   {
    "duration": 6,
    "start_time": "2023-03-28T20:21:20.548Z"
   },
   {
    "duration": 259,
    "start_time": "2023-03-28T20:21:20.556Z"
   },
   {
    "duration": 4,
    "start_time": "2023-03-28T20:21:41.530Z"
   },
   {
    "duration": 28,
    "start_time": "2023-03-28T20:21:41.743Z"
   },
   {
    "duration": 11,
    "start_time": "2023-03-28T20:22:48.464Z"
   },
   {
    "duration": 17,
    "start_time": "2023-03-28T20:23:18.491Z"
   },
   {
    "duration": 24,
    "start_time": "2023-03-28T20:23:25.430Z"
   },
   {
    "duration": 20,
    "start_time": "2023-03-28T20:24:43.382Z"
   },
   {
    "duration": 22,
    "start_time": "2023-03-28T20:50:57.349Z"
   },
   {
    "duration": 25,
    "start_time": "2023-03-28T20:51:22.565Z"
   },
   {
    "duration": 33,
    "start_time": "2023-03-28T20:51:49.783Z"
   },
   {
    "duration": 46,
    "start_time": "2023-03-28T20:53:32.091Z"
   },
   {
    "duration": 28,
    "start_time": "2023-03-28T20:53:44.169Z"
   },
   {
    "duration": 56,
    "start_time": "2023-03-28T20:54:01.799Z"
   },
   {
    "duration": 10,
    "start_time": "2023-03-28T21:05:55.119Z"
   },
   {
    "duration": 9,
    "start_time": "2023-03-28T21:06:40.656Z"
   },
   {
    "duration": 23,
    "start_time": "2023-03-28T21:06:56.245Z"
   },
   {
    "duration": 13,
    "start_time": "2023-03-28T21:07:43.374Z"
   },
   {
    "duration": 1172,
    "start_time": "2023-03-30T13:55:38.046Z"
   },
   {
    "duration": 954,
    "start_time": "2023-03-30T13:55:41.971Z"
   },
   {
    "duration": 5,
    "start_time": "2023-03-30T13:55:46.429Z"
   },
   {
    "duration": 471,
    "start_time": "2023-03-30T13:55:49.402Z"
   },
   {
    "duration": 386,
    "start_time": "2023-03-30T13:56:05.280Z"
   },
   {
    "duration": 7,
    "start_time": "2023-03-30T13:56:43.564Z"
   },
   {
    "duration": 131,
    "start_time": "2023-03-30T14:07:25.955Z"
   },
   {
    "duration": 1149,
    "start_time": "2023-03-30T14:07:34.378Z"
   },
   {
    "duration": 432,
    "start_time": "2023-03-30T14:07:35.530Z"
   },
   {
    "duration": 5,
    "start_time": "2023-03-30T14:07:35.964Z"
   },
   {
    "duration": 462,
    "start_time": "2023-03-30T14:07:35.972Z"
   },
   {
    "duration": 5,
    "start_time": "2023-03-30T14:07:36.436Z"
   },
   {
    "duration": 342,
    "start_time": "2023-03-30T14:07:36.443Z"
   },
   {
    "duration": 79,
    "start_time": "2023-03-30T14:07:36.787Z"
   },
   {
    "duration": 95,
    "start_time": "2023-03-30T14:07:36.868Z"
   },
   {
    "duration": 11,
    "start_time": "2023-03-30T14:07:36.966Z"
   },
   {
    "duration": 7,
    "start_time": "2023-03-30T14:07:36.979Z"
   },
   {
    "duration": 109,
    "start_time": "2023-03-30T14:08:06.078Z"
   },
   {
    "duration": 8,
    "start_time": "2023-03-30T14:08:15.242Z"
   },
   {
    "duration": 12,
    "start_time": "2023-03-30T14:08:16.337Z"
   },
   {
    "duration": 11,
    "start_time": "2023-03-30T14:09:21.440Z"
   },
   {
    "duration": 10,
    "start_time": "2023-03-30T14:09:34.005Z"
   },
   {
    "duration": 13,
    "start_time": "2023-03-30T14:10:52.323Z"
   },
   {
    "duration": 4,
    "start_time": "2023-03-30T14:12:57.773Z"
   },
   {
    "duration": 6,
    "start_time": "2023-03-30T14:13:07.238Z"
   },
   {
    "duration": 9,
    "start_time": "2023-03-30T14:13:08.459Z"
   },
   {
    "duration": 9,
    "start_time": "2023-03-30T14:16:02.261Z"
   },
   {
    "duration": 10,
    "start_time": "2023-03-30T14:16:22.862Z"
   },
   {
    "duration": 12,
    "start_time": "2023-03-30T14:16:28.587Z"
   },
   {
    "duration": 11,
    "start_time": "2023-03-30T14:16:38.035Z"
   },
   {
    "duration": 10,
    "start_time": "2023-03-30T14:16:45.735Z"
   },
   {
    "duration": 16,
    "start_time": "2023-03-30T14:21:31.495Z"
   },
   {
    "duration": 16,
    "start_time": "2023-03-30T14:22:28.496Z"
   },
   {
    "duration": 16,
    "start_time": "2023-03-30T14:22:34.137Z"
   },
   {
    "duration": 13,
    "start_time": "2023-03-30T14:22:52.231Z"
   },
   {
    "duration": 15,
    "start_time": "2023-03-30T14:22:59.933Z"
   },
   {
    "duration": 7,
    "start_time": "2023-03-30T14:24:02.338Z"
   },
   {
    "duration": 10,
    "start_time": "2023-03-30T14:24:07.747Z"
   },
   {
    "duration": 10,
    "start_time": "2023-03-30T14:25:22.535Z"
   },
   {
    "duration": 12,
    "start_time": "2023-03-30T14:25:33.372Z"
   },
   {
    "duration": 11,
    "start_time": "2023-03-30T14:26:01.194Z"
   },
   {
    "duration": 18,
    "start_time": "2023-03-30T14:26:14.555Z"
   },
   {
    "duration": 12,
    "start_time": "2023-03-30T14:26:20.795Z"
   },
   {
    "duration": 1178,
    "start_time": "2023-03-30T14:26:27.233Z"
   },
   {
    "duration": 387,
    "start_time": "2023-03-30T14:26:28.413Z"
   },
   {
    "duration": 5,
    "start_time": "2023-03-30T14:26:28.802Z"
   },
   {
    "duration": 426,
    "start_time": "2023-03-30T14:26:28.808Z"
   },
   {
    "duration": 5,
    "start_time": "2023-03-30T14:26:29.236Z"
   },
   {
    "duration": 421,
    "start_time": "2023-03-30T14:26:29.243Z"
   },
   {
    "duration": 87,
    "start_time": "2023-03-30T14:26:29.676Z"
   },
   {
    "duration": 5,
    "start_time": "2023-03-30T14:26:29.769Z"
   },
   {
    "duration": 12,
    "start_time": "2023-03-30T14:26:29.776Z"
   },
   {
    "duration": 8,
    "start_time": "2023-03-30T14:26:29.789Z"
   },
   {
    "duration": 24,
    "start_time": "2023-03-30T14:26:29.798Z"
   },
   {
    "duration": 8,
    "start_time": "2023-03-30T14:26:29.824Z"
   },
   {
    "duration": 39,
    "start_time": "2023-03-30T14:26:29.834Z"
   },
   {
    "duration": 12,
    "start_time": "2023-03-30T14:27:01.613Z"
   },
   {
    "duration": 10,
    "start_time": "2023-03-30T14:27:12.849Z"
   },
   {
    "duration": 7,
    "start_time": "2023-03-30T14:27:54.916Z"
   },
   {
    "duration": 12,
    "start_time": "2023-03-30T14:28:35.677Z"
   },
   {
    "duration": 6,
    "start_time": "2023-03-30T14:29:01.806Z"
   },
   {
    "duration": 8,
    "start_time": "2023-03-30T14:29:20.623Z"
   },
   {
    "duration": 9,
    "start_time": "2023-03-30T14:29:24.192Z"
   },
   {
    "duration": 11,
    "start_time": "2023-03-30T14:29:25.832Z"
   },
   {
    "duration": 16,
    "start_time": "2023-03-30T14:30:54.559Z"
   },
   {
    "duration": 125,
    "start_time": "2023-03-30T14:45:54.027Z"
   },
   {
    "duration": 19,
    "start_time": "2023-03-30T14:46:15.841Z"
   },
   {
    "duration": 41,
    "start_time": "2023-03-30T14:46:40.582Z"
   },
   {
    "duration": 3,
    "start_time": "2023-03-30T14:46:45.156Z"
   },
   {
    "duration": 47,
    "start_time": "2023-03-30T14:46:51.048Z"
   },
   {
    "duration": 4393,
    "start_time": "2023-03-30T14:47:05.303Z"
   },
   {
    "duration": 3920,
    "start_time": "2023-03-30T14:47:46.885Z"
   },
   {
    "duration": 391,
    "start_time": "2023-03-30T14:49:14.246Z"
   },
   {
    "duration": 5,
    "start_time": "2023-03-30T14:49:30.261Z"
   },
   {
    "duration": 416,
    "start_time": "2023-03-30T14:49:32.476Z"
   },
   {
    "duration": 4,
    "start_time": "2023-03-30T14:49:45.407Z"
   },
   {
    "duration": 414,
    "start_time": "2023-03-30T14:49:46.216Z"
   },
   {
    "duration": 61,
    "start_time": "2023-03-30T14:58:05.107Z"
   },
   {
    "duration": 8,
    "start_time": "2023-03-30T14:59:01.846Z"
   },
   {
    "duration": 987,
    "start_time": "2023-03-30T14:59:41.262Z"
   },
   {
    "duration": 5,
    "start_time": "2023-03-30T15:00:47.650Z"
   },
   {
    "duration": 11,
    "start_time": "2023-03-30T15:01:10.902Z"
   },
   {
    "duration": 1661,
    "start_time": "2023-03-31T13:49:58.003Z"
   },
   {
    "duration": 1554,
    "start_time": "2023-03-31T13:49:59.666Z"
   },
   {
    "duration": 4,
    "start_time": "2023-03-31T13:50:01.222Z"
   },
   {
    "duration": 390,
    "start_time": "2023-03-31T13:50:01.227Z"
   },
   {
    "duration": 17,
    "start_time": "2023-03-31T13:50:01.618Z"
   },
   {
    "duration": 411,
    "start_time": "2023-03-31T13:50:01.636Z"
   },
   {
    "duration": 87,
    "start_time": "2023-03-31T13:50:02.049Z"
   },
   {
    "duration": 164,
    "start_time": "2023-03-31T13:50:02.138Z"
   },
   {
    "duration": 53,
    "start_time": "2023-03-31T13:50:02.304Z"
   },
   {
    "duration": 33,
    "start_time": "2023-03-31T13:50:02.359Z"
   },
   {
    "duration": 54,
    "start_time": "2023-03-31T13:50:02.393Z"
   },
   {
    "duration": 38,
    "start_time": "2023-03-31T13:50:02.449Z"
   },
   {
    "duration": 3329,
    "start_time": "2023-03-31T13:50:02.489Z"
   },
   {
    "duration": 5,
    "start_time": "2023-03-31T13:52:52.527Z"
   },
   {
    "duration": 4384,
    "start_time": "2023-03-31T13:52:55.154Z"
   },
   {
    "duration": 6,
    "start_time": "2023-03-31T13:53:11.652Z"
   },
   {
    "duration": 3415,
    "start_time": "2023-03-31T13:53:13.629Z"
   }
  ],
  "kernelspec": {
   "display_name": "Python 3 (ipykernel)",
   "language": "python",
   "name": "python3"
  },
  "language_info": {
   "codemirror_mode": {
    "name": "ipython",
    "version": 3
   },
   "file_extension": ".py",
   "mimetype": "text/x-python",
   "name": "python",
   "nbconvert_exporter": "python",
   "pygments_lexer": "ipython3",
   "version": "3.9.13"
  },
  "toc": {
   "base_numbering": 1,
   "nav_menu": {},
   "number_sections": true,
   "sideBar": true,
   "skip_h1_title": true,
   "title_cell": "Table of Contents",
   "title_sidebar": "Contents",
   "toc_cell": false,
   "toc_position": {},
   "toc_section_display": true,
   "toc_window_display": false
  }
 },
 "nbformat": 4,
 "nbformat_minor": 2
}
