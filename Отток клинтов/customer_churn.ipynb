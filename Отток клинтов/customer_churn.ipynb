{
 "cells": [
  {
   "cell_type": "markdown",
   "metadata": {},
   "source": [
    "# Отток клиентов"
   ]
  },
  {
   "cell_type": "markdown",
   "metadata": {},
   "source": [
    "Из «Бета-Банка» стали уходить клиенты. Каждый месяц. Немного, но заметно. Банковские маркетологи посчитали: сохранять текущих клиентов дешевле, чем привлекать новых.\n",
    "\n",
    "Нужно спрогнозировать, уйдёт клиент из банка в ближайшее время или нет. Вам предоставлены исторические данные о поведении клиентов и расторжении договоров с банком. \n",
    "\n",
    "Постройте модель с предельно большим значением *F1*-меры. Чтобы сдать проект успешно, нужно довести метрику до 0.59. Проверьте *F1*-меру на тестовой выборке самостоятельно.\n",
    "\n",
    "Дополнительно измеряйте *AUC-ROC*, сравнивайте её значение с *F1*-мерой.\n",
    "\n",
    "Источник данных: [https://www.kaggle.com/barelydedicated/bank-customer-churn-modeling](https://www.kaggle.com/barelydedicated/bank-customer-churn-modeling)"
   ]
  },
  {
   "cell_type": "markdown",
   "metadata": {},
   "source": [
    "<b> Описание данных  </b>  \n",
    "Данные находятся в файле /datasets/Churn.csv (англ. «отток клиентов»).  \n",
    "\n",
    "<b>Признаки  </b>\n",
    "\n",
    "RowNumber — индекс строки в данных  \n",
    "CustomerId — уникальный идентификатор клиента  \n",
    "Surname — фамилия  \n",
    "CreditScore — кредитный рейтинг  \n",
    "Geography — страна проживания  \n",
    "Gender — пол  \n",
    "Age — возраст  \n",
    "Tenure — сколько лет человек является клиентом банка  \n",
    "Balance — баланс на счёте  \n",
    "NumOfProducts — количество продуктов банка, используемых клиентом  \n",
    "HasCrCard — наличие кредитной карты  \n",
    "IsActiveMember — активность клиента  \n",
    "EstimatedSalary — предполагаемая зарплата    \n",
    "\n",
    "<b>Целевой признак  </b>\n",
    "\n",
    "Exited — факт ухода клиента"
   ]
  },
  {
   "cell_type": "markdown",
   "metadata": {},
   "source": [
    "## Подготовка данных"
   ]
  },
  {
   "cell_type": "code",
   "execution_count": 1,
   "metadata": {},
   "outputs": [],
   "source": [
    "# Подключение необходимых библиотек и функций\n",
    "import pandas as pd\n",
    "import matplotlib.pyplot as plt\n",
    "import numpy as np\n",
    "from sklearn.tree import DecisionTreeClassifier\n",
    "from sklearn.ensemble import RandomForestClassifier\n",
    "from sklearn.linear_model import LogisticRegression\n",
    "from sklearn.dummy import DummyClassifier\n",
    "from sklearn.model_selection import train_test_split\n",
    "from sklearn.preprocessing import OrdinalEncoder, StandardScaler\n",
    "from sklearn.metrics import f1_score, roc_curve, roc_auc_score\n",
    "from sklearn.utils import shuffle\n",
    "pd.options.mode.chained_assignment = None"
   ]
  },
  {
   "cell_type": "code",
   "execution_count": 2,
   "metadata": {},
   "outputs": [],
   "source": [
    "# Присвоение исходного датасета переменной data\n",
    "data = pd.read_csv('/datasets/Churn.csv')"
   ]
  },
  {
   "cell_type": "code",
   "execution_count": 3,
   "metadata": {},
   "outputs": [
    {
     "name": "stdout",
     "output_type": "stream",
     "text": [
      "<class 'pandas.core.frame.DataFrame'>\n",
      "RangeIndex: 10000 entries, 0 to 9999\n",
      "Data columns (total 14 columns):\n",
      " #   Column           Non-Null Count  Dtype  \n",
      "---  ------           --------------  -----  \n",
      " 0   RowNumber        10000 non-null  int64  \n",
      " 1   CustomerId       10000 non-null  int64  \n",
      " 2   Surname          10000 non-null  object \n",
      " 3   CreditScore      10000 non-null  int64  \n",
      " 4   Geography        10000 non-null  object \n",
      " 5   Gender           10000 non-null  object \n",
      " 6   Age              10000 non-null  int64  \n",
      " 7   Tenure           9091 non-null   float64\n",
      " 8   Balance          10000 non-null  float64\n",
      " 9   NumOfProducts    10000 non-null  int64  \n",
      " 10  HasCrCard        10000 non-null  int64  \n",
      " 11  IsActiveMember   10000 non-null  int64  \n",
      " 12  EstimatedSalary  10000 non-null  float64\n",
      " 13  Exited           10000 non-null  int64  \n",
      "dtypes: float64(3), int64(8), object(3)\n",
      "memory usage: 1.1+ MB\n"
     ]
    }
   ],
   "source": [
    "# Информация о данных\n",
    "data.info()"
   ]
  },
  {
   "cell_type": "code",
   "execution_count": 4,
   "metadata": {},
   "outputs": [
    {
     "data": {
      "text/html": [
       "<div>\n",
       "<style scoped>\n",
       "    .dataframe tbody tr th:only-of-type {\n",
       "        vertical-align: middle;\n",
       "    }\n",
       "\n",
       "    .dataframe tbody tr th {\n",
       "        vertical-align: top;\n",
       "    }\n",
       "\n",
       "    .dataframe thead th {\n",
       "        text-align: right;\n",
       "    }\n",
       "</style>\n",
       "<table border=\"1\" class=\"dataframe\">\n",
       "  <thead>\n",
       "    <tr style=\"text-align: right;\">\n",
       "      <th></th>\n",
       "      <th>RowNumber</th>\n",
       "      <th>CustomerId</th>\n",
       "      <th>Surname</th>\n",
       "      <th>CreditScore</th>\n",
       "      <th>Geography</th>\n",
       "      <th>Gender</th>\n",
       "      <th>Age</th>\n",
       "      <th>Tenure</th>\n",
       "      <th>Balance</th>\n",
       "      <th>NumOfProducts</th>\n",
       "      <th>HasCrCard</th>\n",
       "      <th>IsActiveMember</th>\n",
       "      <th>EstimatedSalary</th>\n",
       "      <th>Exited</th>\n",
       "    </tr>\n",
       "  </thead>\n",
       "  <tbody>\n",
       "    <tr>\n",
       "      <th>0</th>\n",
       "      <td>1</td>\n",
       "      <td>15634602</td>\n",
       "      <td>Hargrave</td>\n",
       "      <td>619</td>\n",
       "      <td>France</td>\n",
       "      <td>Female</td>\n",
       "      <td>42</td>\n",
       "      <td>2.0</td>\n",
       "      <td>0.00</td>\n",
       "      <td>1</td>\n",
       "      <td>1</td>\n",
       "      <td>1</td>\n",
       "      <td>101348.88</td>\n",
       "      <td>1</td>\n",
       "    </tr>\n",
       "    <tr>\n",
       "      <th>1</th>\n",
       "      <td>2</td>\n",
       "      <td>15647311</td>\n",
       "      <td>Hill</td>\n",
       "      <td>608</td>\n",
       "      <td>Spain</td>\n",
       "      <td>Female</td>\n",
       "      <td>41</td>\n",
       "      <td>1.0</td>\n",
       "      <td>83807.86</td>\n",
       "      <td>1</td>\n",
       "      <td>0</td>\n",
       "      <td>1</td>\n",
       "      <td>112542.58</td>\n",
       "      <td>0</td>\n",
       "    </tr>\n",
       "    <tr>\n",
       "      <th>2</th>\n",
       "      <td>3</td>\n",
       "      <td>15619304</td>\n",
       "      <td>Onio</td>\n",
       "      <td>502</td>\n",
       "      <td>France</td>\n",
       "      <td>Female</td>\n",
       "      <td>42</td>\n",
       "      <td>8.0</td>\n",
       "      <td>159660.80</td>\n",
       "      <td>3</td>\n",
       "      <td>1</td>\n",
       "      <td>0</td>\n",
       "      <td>113931.57</td>\n",
       "      <td>1</td>\n",
       "    </tr>\n",
       "    <tr>\n",
       "      <th>3</th>\n",
       "      <td>4</td>\n",
       "      <td>15701354</td>\n",
       "      <td>Boni</td>\n",
       "      <td>699</td>\n",
       "      <td>France</td>\n",
       "      <td>Female</td>\n",
       "      <td>39</td>\n",
       "      <td>1.0</td>\n",
       "      <td>0.00</td>\n",
       "      <td>2</td>\n",
       "      <td>0</td>\n",
       "      <td>0</td>\n",
       "      <td>93826.63</td>\n",
       "      <td>0</td>\n",
       "    </tr>\n",
       "    <tr>\n",
       "      <th>4</th>\n",
       "      <td>5</td>\n",
       "      <td>15737888</td>\n",
       "      <td>Mitchell</td>\n",
       "      <td>850</td>\n",
       "      <td>Spain</td>\n",
       "      <td>Female</td>\n",
       "      <td>43</td>\n",
       "      <td>2.0</td>\n",
       "      <td>125510.82</td>\n",
       "      <td>1</td>\n",
       "      <td>1</td>\n",
       "      <td>1</td>\n",
       "      <td>79084.10</td>\n",
       "      <td>0</td>\n",
       "    </tr>\n",
       "  </tbody>\n",
       "</table>\n",
       "</div>"
      ],
      "text/plain": [
       "   RowNumber  CustomerId   Surname  CreditScore Geography  Gender  Age  \\\n",
       "0          1    15634602  Hargrave          619    France  Female   42   \n",
       "1          2    15647311      Hill          608     Spain  Female   41   \n",
       "2          3    15619304      Onio          502    France  Female   42   \n",
       "3          4    15701354      Boni          699    France  Female   39   \n",
       "4          5    15737888  Mitchell          850     Spain  Female   43   \n",
       "\n",
       "   Tenure    Balance  NumOfProducts  HasCrCard  IsActiveMember  \\\n",
       "0     2.0       0.00              1          1               1   \n",
       "1     1.0   83807.86              1          0               1   \n",
       "2     8.0  159660.80              3          1               0   \n",
       "3     1.0       0.00              2          0               0   \n",
       "4     2.0  125510.82              1          1               1   \n",
       "\n",
       "   EstimatedSalary  Exited  \n",
       "0        101348.88       1  \n",
       "1        112542.58       0  \n",
       "2        113931.57       1  \n",
       "3         93826.63       0  \n",
       "4         79084.10       0  "
      ]
     },
     "execution_count": 4,
     "metadata": {},
     "output_type": "execute_result"
    }
   ],
   "source": [
    "# Первые 5 строк датасета\n",
    "data.head()"
   ]
  },
  {
   "cell_type": "code",
   "execution_count": 5,
   "metadata": {},
   "outputs": [
    {
     "data": {
      "text/html": [
       "<div>\n",
       "<style scoped>\n",
       "    .dataframe tbody tr th:only-of-type {\n",
       "        vertical-align: middle;\n",
       "    }\n",
       "\n",
       "    .dataframe tbody tr th {\n",
       "        vertical-align: top;\n",
       "    }\n",
       "\n",
       "    .dataframe thead th {\n",
       "        text-align: right;\n",
       "    }\n",
       "</style>\n",
       "<table border=\"1\" class=\"dataframe\">\n",
       "  <thead>\n",
       "    <tr style=\"text-align: right;\">\n",
       "      <th></th>\n",
       "      <th>RowNumber</th>\n",
       "      <th>CustomerId</th>\n",
       "      <th>CreditScore</th>\n",
       "      <th>Age</th>\n",
       "      <th>Tenure</th>\n",
       "      <th>Balance</th>\n",
       "      <th>NumOfProducts</th>\n",
       "      <th>HasCrCard</th>\n",
       "      <th>IsActiveMember</th>\n",
       "      <th>EstimatedSalary</th>\n",
       "      <th>Exited</th>\n",
       "    </tr>\n",
       "  </thead>\n",
       "  <tbody>\n",
       "    <tr>\n",
       "      <th>count</th>\n",
       "      <td>10000.00000</td>\n",
       "      <td>1.000000e+04</td>\n",
       "      <td>10000.000000</td>\n",
       "      <td>10000.000000</td>\n",
       "      <td>9091.000000</td>\n",
       "      <td>10000.000000</td>\n",
       "      <td>10000.000000</td>\n",
       "      <td>10000.00000</td>\n",
       "      <td>10000.000000</td>\n",
       "      <td>10000.000000</td>\n",
       "      <td>10000.000000</td>\n",
       "    </tr>\n",
       "    <tr>\n",
       "      <th>mean</th>\n",
       "      <td>5000.50000</td>\n",
       "      <td>1.569094e+07</td>\n",
       "      <td>650.528800</td>\n",
       "      <td>38.921800</td>\n",
       "      <td>4.997690</td>\n",
       "      <td>76485.889288</td>\n",
       "      <td>1.530200</td>\n",
       "      <td>0.70550</td>\n",
       "      <td>0.515100</td>\n",
       "      <td>100090.239881</td>\n",
       "      <td>0.203700</td>\n",
       "    </tr>\n",
       "    <tr>\n",
       "      <th>std</th>\n",
       "      <td>2886.89568</td>\n",
       "      <td>7.193619e+04</td>\n",
       "      <td>96.653299</td>\n",
       "      <td>10.487806</td>\n",
       "      <td>2.894723</td>\n",
       "      <td>62397.405202</td>\n",
       "      <td>0.581654</td>\n",
       "      <td>0.45584</td>\n",
       "      <td>0.499797</td>\n",
       "      <td>57510.492818</td>\n",
       "      <td>0.402769</td>\n",
       "    </tr>\n",
       "    <tr>\n",
       "      <th>min</th>\n",
       "      <td>1.00000</td>\n",
       "      <td>1.556570e+07</td>\n",
       "      <td>350.000000</td>\n",
       "      <td>18.000000</td>\n",
       "      <td>0.000000</td>\n",
       "      <td>0.000000</td>\n",
       "      <td>1.000000</td>\n",
       "      <td>0.00000</td>\n",
       "      <td>0.000000</td>\n",
       "      <td>11.580000</td>\n",
       "      <td>0.000000</td>\n",
       "    </tr>\n",
       "    <tr>\n",
       "      <th>25%</th>\n",
       "      <td>2500.75000</td>\n",
       "      <td>1.562853e+07</td>\n",
       "      <td>584.000000</td>\n",
       "      <td>32.000000</td>\n",
       "      <td>2.000000</td>\n",
       "      <td>0.000000</td>\n",
       "      <td>1.000000</td>\n",
       "      <td>0.00000</td>\n",
       "      <td>0.000000</td>\n",
       "      <td>51002.110000</td>\n",
       "      <td>0.000000</td>\n",
       "    </tr>\n",
       "    <tr>\n",
       "      <th>50%</th>\n",
       "      <td>5000.50000</td>\n",
       "      <td>1.569074e+07</td>\n",
       "      <td>652.000000</td>\n",
       "      <td>37.000000</td>\n",
       "      <td>5.000000</td>\n",
       "      <td>97198.540000</td>\n",
       "      <td>1.000000</td>\n",
       "      <td>1.00000</td>\n",
       "      <td>1.000000</td>\n",
       "      <td>100193.915000</td>\n",
       "      <td>0.000000</td>\n",
       "    </tr>\n",
       "    <tr>\n",
       "      <th>75%</th>\n",
       "      <td>7500.25000</td>\n",
       "      <td>1.575323e+07</td>\n",
       "      <td>718.000000</td>\n",
       "      <td>44.000000</td>\n",
       "      <td>7.000000</td>\n",
       "      <td>127644.240000</td>\n",
       "      <td>2.000000</td>\n",
       "      <td>1.00000</td>\n",
       "      <td>1.000000</td>\n",
       "      <td>149388.247500</td>\n",
       "      <td>0.000000</td>\n",
       "    </tr>\n",
       "    <tr>\n",
       "      <th>max</th>\n",
       "      <td>10000.00000</td>\n",
       "      <td>1.581569e+07</td>\n",
       "      <td>850.000000</td>\n",
       "      <td>92.000000</td>\n",
       "      <td>10.000000</td>\n",
       "      <td>250898.090000</td>\n",
       "      <td>4.000000</td>\n",
       "      <td>1.00000</td>\n",
       "      <td>1.000000</td>\n",
       "      <td>199992.480000</td>\n",
       "      <td>1.000000</td>\n",
       "    </tr>\n",
       "  </tbody>\n",
       "</table>\n",
       "</div>"
      ],
      "text/plain": [
       "         RowNumber    CustomerId   CreditScore           Age       Tenure  \\\n",
       "count  10000.00000  1.000000e+04  10000.000000  10000.000000  9091.000000   \n",
       "mean    5000.50000  1.569094e+07    650.528800     38.921800     4.997690   \n",
       "std     2886.89568  7.193619e+04     96.653299     10.487806     2.894723   \n",
       "min        1.00000  1.556570e+07    350.000000     18.000000     0.000000   \n",
       "25%     2500.75000  1.562853e+07    584.000000     32.000000     2.000000   \n",
       "50%     5000.50000  1.569074e+07    652.000000     37.000000     5.000000   \n",
       "75%     7500.25000  1.575323e+07    718.000000     44.000000     7.000000   \n",
       "max    10000.00000  1.581569e+07    850.000000     92.000000    10.000000   \n",
       "\n",
       "             Balance  NumOfProducts    HasCrCard  IsActiveMember  \\\n",
       "count   10000.000000   10000.000000  10000.00000    10000.000000   \n",
       "mean    76485.889288       1.530200      0.70550        0.515100   \n",
       "std     62397.405202       0.581654      0.45584        0.499797   \n",
       "min         0.000000       1.000000      0.00000        0.000000   \n",
       "25%         0.000000       1.000000      0.00000        0.000000   \n",
       "50%     97198.540000       1.000000      1.00000        1.000000   \n",
       "75%    127644.240000       2.000000      1.00000        1.000000   \n",
       "max    250898.090000       4.000000      1.00000        1.000000   \n",
       "\n",
       "       EstimatedSalary        Exited  \n",
       "count     10000.000000  10000.000000  \n",
       "mean     100090.239881      0.203700  \n",
       "std       57510.492818      0.402769  \n",
       "min          11.580000      0.000000  \n",
       "25%       51002.110000      0.000000  \n",
       "50%      100193.915000      0.000000  \n",
       "75%      149388.247500      0.000000  \n",
       "max      199992.480000      1.000000  "
      ]
     },
     "execution_count": 5,
     "metadata": {},
     "output_type": "execute_result"
    }
   ],
   "source": [
    "# Описательная статистика\n",
    "data.describe()"
   ]
  },
  {
   "cell_type": "code",
   "execution_count": 6,
   "metadata": {},
   "outputs": [
    {
     "data": {
      "text/plain": [
       "0"
      ]
     },
     "execution_count": 6,
     "metadata": {},
     "output_type": "execute_result"
    }
   ],
   "source": [
    "# Проверка на дубликаты\n",
    "data.duplicated().sum()"
   ]
  },
  {
   "cell_type": "code",
   "execution_count": 7,
   "metadata": {},
   "outputs": [
    {
     "name": "stdout",
     "output_type": "stream",
     "text": [
      "Количество пропусков в столбце Tenure: 0\n"
     ]
    }
   ],
   "source": [
    "# В столбце Tenure есть пропуски. Не известно сколько лет клиент сотрудничает с банком,\n",
    "# поэтому заменяю пропуски на 0\n",
    "data['Tenure'] = data['Tenure'].fillna(0)\n",
    "print('Количество пропусков в столбце Tenure:', data['Tenure'].isna().sum())"
   ]
  },
  {
   "cell_type": "code",
   "execution_count": 8,
   "metadata": {},
   "outputs": [
    {
     "data": {
      "text/html": [
       "<div>\n",
       "<style scoped>\n",
       "    .dataframe tbody tr th:only-of-type {\n",
       "        vertical-align: middle;\n",
       "    }\n",
       "\n",
       "    .dataframe tbody tr th {\n",
       "        vertical-align: top;\n",
       "    }\n",
       "\n",
       "    .dataframe thead th {\n",
       "        text-align: right;\n",
       "    }\n",
       "</style>\n",
       "<table border=\"1\" class=\"dataframe\">\n",
       "  <thead>\n",
       "    <tr style=\"text-align: right;\">\n",
       "      <th></th>\n",
       "      <th>CreditScore</th>\n",
       "      <th>Geography</th>\n",
       "      <th>Gender</th>\n",
       "      <th>Age</th>\n",
       "      <th>Tenure</th>\n",
       "      <th>Balance</th>\n",
       "      <th>NumOfProducts</th>\n",
       "      <th>HasCrCard</th>\n",
       "      <th>IsActiveMember</th>\n",
       "      <th>EstimatedSalary</th>\n",
       "      <th>Exited</th>\n",
       "    </tr>\n",
       "  </thead>\n",
       "  <tbody>\n",
       "    <tr>\n",
       "      <th>0</th>\n",
       "      <td>619</td>\n",
       "      <td>France</td>\n",
       "      <td>Female</td>\n",
       "      <td>42</td>\n",
       "      <td>2.0</td>\n",
       "      <td>0.00</td>\n",
       "      <td>1</td>\n",
       "      <td>1</td>\n",
       "      <td>1</td>\n",
       "      <td>101348.88</td>\n",
       "      <td>1</td>\n",
       "    </tr>\n",
       "    <tr>\n",
       "      <th>1</th>\n",
       "      <td>608</td>\n",
       "      <td>Spain</td>\n",
       "      <td>Female</td>\n",
       "      <td>41</td>\n",
       "      <td>1.0</td>\n",
       "      <td>83807.86</td>\n",
       "      <td>1</td>\n",
       "      <td>0</td>\n",
       "      <td>1</td>\n",
       "      <td>112542.58</td>\n",
       "      <td>0</td>\n",
       "    </tr>\n",
       "    <tr>\n",
       "      <th>2</th>\n",
       "      <td>502</td>\n",
       "      <td>France</td>\n",
       "      <td>Female</td>\n",
       "      <td>42</td>\n",
       "      <td>8.0</td>\n",
       "      <td>159660.80</td>\n",
       "      <td>3</td>\n",
       "      <td>1</td>\n",
       "      <td>0</td>\n",
       "      <td>113931.57</td>\n",
       "      <td>1</td>\n",
       "    </tr>\n",
       "    <tr>\n",
       "      <th>3</th>\n",
       "      <td>699</td>\n",
       "      <td>France</td>\n",
       "      <td>Female</td>\n",
       "      <td>39</td>\n",
       "      <td>1.0</td>\n",
       "      <td>0.00</td>\n",
       "      <td>2</td>\n",
       "      <td>0</td>\n",
       "      <td>0</td>\n",
       "      <td>93826.63</td>\n",
       "      <td>0</td>\n",
       "    </tr>\n",
       "    <tr>\n",
       "      <th>4</th>\n",
       "      <td>850</td>\n",
       "      <td>Spain</td>\n",
       "      <td>Female</td>\n",
       "      <td>43</td>\n",
       "      <td>2.0</td>\n",
       "      <td>125510.82</td>\n",
       "      <td>1</td>\n",
       "      <td>1</td>\n",
       "      <td>1</td>\n",
       "      <td>79084.10</td>\n",
       "      <td>0</td>\n",
       "    </tr>\n",
       "  </tbody>\n",
       "</table>\n",
       "</div>"
      ],
      "text/plain": [
       "   CreditScore Geography  Gender  Age  Tenure    Balance  NumOfProducts  \\\n",
       "0          619    France  Female   42     2.0       0.00              1   \n",
       "1          608     Spain  Female   41     1.0   83807.86              1   \n",
       "2          502    France  Female   42     8.0  159660.80              3   \n",
       "3          699    France  Female   39     1.0       0.00              2   \n",
       "4          850     Spain  Female   43     2.0  125510.82              1   \n",
       "\n",
       "   HasCrCard  IsActiveMember  EstimatedSalary  Exited  \n",
       "0          1               1        101348.88       1  \n",
       "1          0               1        112542.58       0  \n",
       "2          1               0        113931.57       1  \n",
       "3          0               0         93826.63       0  \n",
       "4          1               1         79084.10       0  "
      ]
     },
     "metadata": {},
     "output_type": "display_data"
    }
   ],
   "source": [
    "# Буду работать с копией датасета\n",
    "new_data = data.copy()\n",
    "# Удаляю столбцы RowNumber, CustomerId, Surname, так как они не пригодятся для будущей модели\n",
    "new_data = new_data.drop(['RowNumber', 'CustomerId', 'Surname'], axis=1)\n",
    "display(new_data.head())"
   ]
  },
  {
   "cell_type": "code",
   "execution_count": 9,
   "metadata": {},
   "outputs": [
    {
     "data": {
      "text/plain": [
       "array(['Female', 'Male'], dtype=object)"
      ]
     },
     "execution_count": 9,
     "metadata": {},
     "output_type": "execute_result"
    }
   ],
   "source": [
    "# Уникальные значения столбцов Geography и Gender\n",
    "data['Geography'].unique()\n",
    "data['Gender'].unique()"
   ]
  },
  {
   "cell_type": "code",
   "execution_count": 10,
   "metadata": {},
   "outputs": [
    {
     "data": {
      "text/html": [
       "<div>\n",
       "<style scoped>\n",
       "    .dataframe tbody tr th:only-of-type {\n",
       "        vertical-align: middle;\n",
       "    }\n",
       "\n",
       "    .dataframe tbody tr th {\n",
       "        vertical-align: top;\n",
       "    }\n",
       "\n",
       "    .dataframe thead th {\n",
       "        text-align: right;\n",
       "    }\n",
       "</style>\n",
       "<table border=\"1\" class=\"dataframe\">\n",
       "  <thead>\n",
       "    <tr style=\"text-align: right;\">\n",
       "      <th></th>\n",
       "      <th>CreditScore</th>\n",
       "      <th>Age</th>\n",
       "      <th>Tenure</th>\n",
       "      <th>Balance</th>\n",
       "      <th>NumOfProducts</th>\n",
       "      <th>HasCrCard</th>\n",
       "      <th>IsActiveMember</th>\n",
       "      <th>EstimatedSalary</th>\n",
       "      <th>Exited</th>\n",
       "      <th>Geography_Germany</th>\n",
       "      <th>Geography_Spain</th>\n",
       "      <th>Gender_Male</th>\n",
       "    </tr>\n",
       "  </thead>\n",
       "  <tbody>\n",
       "    <tr>\n",
       "      <th>0</th>\n",
       "      <td>619</td>\n",
       "      <td>42</td>\n",
       "      <td>2.0</td>\n",
       "      <td>0.00</td>\n",
       "      <td>1</td>\n",
       "      <td>1</td>\n",
       "      <td>1</td>\n",
       "      <td>101348.88</td>\n",
       "      <td>1</td>\n",
       "      <td>0</td>\n",
       "      <td>0</td>\n",
       "      <td>0</td>\n",
       "    </tr>\n",
       "    <tr>\n",
       "      <th>1</th>\n",
       "      <td>608</td>\n",
       "      <td>41</td>\n",
       "      <td>1.0</td>\n",
       "      <td>83807.86</td>\n",
       "      <td>1</td>\n",
       "      <td>0</td>\n",
       "      <td>1</td>\n",
       "      <td>112542.58</td>\n",
       "      <td>0</td>\n",
       "      <td>0</td>\n",
       "      <td>1</td>\n",
       "      <td>0</td>\n",
       "    </tr>\n",
       "    <tr>\n",
       "      <th>2</th>\n",
       "      <td>502</td>\n",
       "      <td>42</td>\n",
       "      <td>8.0</td>\n",
       "      <td>159660.80</td>\n",
       "      <td>3</td>\n",
       "      <td>1</td>\n",
       "      <td>0</td>\n",
       "      <td>113931.57</td>\n",
       "      <td>1</td>\n",
       "      <td>0</td>\n",
       "      <td>0</td>\n",
       "      <td>0</td>\n",
       "    </tr>\n",
       "    <tr>\n",
       "      <th>3</th>\n",
       "      <td>699</td>\n",
       "      <td>39</td>\n",
       "      <td>1.0</td>\n",
       "      <td>0.00</td>\n",
       "      <td>2</td>\n",
       "      <td>0</td>\n",
       "      <td>0</td>\n",
       "      <td>93826.63</td>\n",
       "      <td>0</td>\n",
       "      <td>0</td>\n",
       "      <td>0</td>\n",
       "      <td>0</td>\n",
       "    </tr>\n",
       "    <tr>\n",
       "      <th>4</th>\n",
       "      <td>850</td>\n",
       "      <td>43</td>\n",
       "      <td>2.0</td>\n",
       "      <td>125510.82</td>\n",
       "      <td>1</td>\n",
       "      <td>1</td>\n",
       "      <td>1</td>\n",
       "      <td>79084.10</td>\n",
       "      <td>0</td>\n",
       "      <td>0</td>\n",
       "      <td>1</td>\n",
       "      <td>0</td>\n",
       "    </tr>\n",
       "  </tbody>\n",
       "</table>\n",
       "</div>"
      ],
      "text/plain": [
       "   CreditScore  Age  Tenure    Balance  NumOfProducts  HasCrCard  \\\n",
       "0          619   42     2.0       0.00              1          1   \n",
       "1          608   41     1.0   83807.86              1          0   \n",
       "2          502   42     8.0  159660.80              3          1   \n",
       "3          699   39     1.0       0.00              2          0   \n",
       "4          850   43     2.0  125510.82              1          1   \n",
       "\n",
       "   IsActiveMember  EstimatedSalary  Exited  Geography_Germany  \\\n",
       "0               1        101348.88       1                  0   \n",
       "1               1        112542.58       0                  0   \n",
       "2               0        113931.57       1                  0   \n",
       "3               0         93826.63       0                  0   \n",
       "4               1         79084.10       0                  0   \n",
       "\n",
       "   Geography_Spain  Gender_Male  \n",
       "0                0            0  \n",
       "1                1            0  \n",
       "2                0            0  \n",
       "3                0            0  \n",
       "4                1            0  "
      ]
     },
     "execution_count": 10,
     "metadata": {},
     "output_type": "execute_result"
    }
   ],
   "source": [
    "# Кодирую столбцы Geography и Gender техникой OHE \n",
    "new_data = pd.get_dummies(new_data, drop_first=True)\n",
    "new_data.head()"
   ]
  },
  {
   "cell_type": "code",
   "execution_count": 11,
   "metadata": {},
   "outputs": [],
   "source": [
    "# Разделяю датасет на признаки и целевой признак\n",
    "features = new_data.drop(['Exited'], axis=1)\n",
    "target = new_data['Exited']"
   ]
  },
  {
   "cell_type": "code",
   "execution_count": 12,
   "metadata": {},
   "outputs": [
    {
     "name": "stdout",
     "output_type": "stream",
     "text": [
      "(8000, 11)\n",
      "(8000,)\n",
      "(2000, 11)\n",
      "(2000,)\n"
     ]
    }
   ],
   "source": [
    "# Разделяю признаци и целеой признак на обучающую и тестовую выборки\n",
    "# Выборки стратифицированы по целевому признаку, чтобы данные были равномернее распределены\n",
    "features_train, features_test, target_train, target_test = train_test_split(\n",
    "    features, target, test_size=0.2, random_state=12345, stratify=target\n",
    ")\n",
    "print(features_train.shape)\n",
    "print(target_train.shape)\n",
    "print(features_test.shape)\n",
    "print(target_test.shape)"
   ]
  },
  {
   "cell_type": "code",
   "execution_count": 13,
   "metadata": {},
   "outputs": [
    {
     "name": "stdout",
     "output_type": "stream",
     "text": [
      "(6000, 11)\n",
      "(6000,)\n",
      "(2000, 11)\n",
      "(2000,)\n"
     ]
    }
   ],
   "source": [
    "# Разделяю обучающую выборку на обучающую и валидационную выборки\n",
    "# Выборки стратифицированы по целевому признаку, чтобы данные были равномернее распределены\n",
    "features_train, features_valid, target_train, target_valid = train_test_split(\n",
    "    features_train, target_train, test_size=0.25, random_state=12345, stratify=target_train\n",
    ")\n",
    "print(features_train.shape)\n",
    "print(target_train.shape)\n",
    "print(features_valid.shape)\n",
    "print(target_valid.shape)"
   ]
  },
  {
   "cell_type": "code",
   "execution_count": 14,
   "metadata": {},
   "outputs": [],
   "source": [
    "# Стандартизирую признаки\n",
    "numeric = ['CreditScore', 'Age', 'Tenure', 'Balance', 'NumOfProducts', 'EstimatedSalary']\n",
    "scaler = StandardScaler()\n",
    "scaler.fit(features_train[numeric])\n",
    "features_train[numeric] = scaler.transform(features_train[numeric])\n",
    "features_valid[numeric] = scaler.transform(features_valid[numeric])\n",
    "features_test[numeric] = scaler.transform(features_test[numeric])"
   ]
  },
  {
   "cell_type": "code",
   "execution_count": 15,
   "metadata": {},
   "outputs": [
    {
     "data": {
      "text/html": [
       "<div>\n",
       "<style scoped>\n",
       "    .dataframe tbody tr th:only-of-type {\n",
       "        vertical-align: middle;\n",
       "    }\n",
       "\n",
       "    .dataframe tbody tr th {\n",
       "        vertical-align: top;\n",
       "    }\n",
       "\n",
       "    .dataframe thead th {\n",
       "        text-align: right;\n",
       "    }\n",
       "</style>\n",
       "<table border=\"1\" class=\"dataframe\">\n",
       "  <thead>\n",
       "    <tr style=\"text-align: right;\">\n",
       "      <th></th>\n",
       "      <th>CreditScore</th>\n",
       "      <th>Age</th>\n",
       "      <th>Tenure</th>\n",
       "      <th>Balance</th>\n",
       "      <th>NumOfProducts</th>\n",
       "      <th>HasCrCard</th>\n",
       "      <th>IsActiveMember</th>\n",
       "      <th>EstimatedSalary</th>\n",
       "      <th>Geography_Germany</th>\n",
       "      <th>Geography_Spain</th>\n",
       "      <th>Gender_Male</th>\n",
       "    </tr>\n",
       "  </thead>\n",
       "  <tbody>\n",
       "    <tr>\n",
       "      <th>5536</th>\n",
       "      <td>-0.143332</td>\n",
       "      <td>0.577533</td>\n",
       "      <td>-1.456283</td>\n",
       "      <td>-1.220573</td>\n",
       "      <td>0.797767</td>\n",
       "      <td>1</td>\n",
       "      <td>1</td>\n",
       "      <td>1.029613</td>\n",
       "      <td>0</td>\n",
       "      <td>1</td>\n",
       "      <td>1</td>\n",
       "    </tr>\n",
       "    <tr>\n",
       "      <th>8530</th>\n",
       "      <td>1.632702</td>\n",
       "      <td>-0.564119</td>\n",
       "      <td>-0.813711</td>\n",
       "      <td>0.435807</td>\n",
       "      <td>-0.916018</td>\n",
       "      <td>1</td>\n",
       "      <td>0</td>\n",
       "      <td>0.237986</td>\n",
       "      <td>0</td>\n",
       "      <td>0</td>\n",
       "      <td>0</td>\n",
       "    </tr>\n",
       "    <tr>\n",
       "      <th>1762</th>\n",
       "      <td>1.116413</td>\n",
       "      <td>-0.468981</td>\n",
       "      <td>-1.134997</td>\n",
       "      <td>1.245822</td>\n",
       "      <td>-0.916018</td>\n",
       "      <td>1</td>\n",
       "      <td>1</td>\n",
       "      <td>-0.686104</td>\n",
       "      <td>0</td>\n",
       "      <td>0</td>\n",
       "      <td>0</td>\n",
       "    </tr>\n",
       "    <tr>\n",
       "      <th>9090</th>\n",
       "      <td>1.643028</td>\n",
       "      <td>0.006707</td>\n",
       "      <td>0.150148</td>\n",
       "      <td>-1.220573</td>\n",
       "      <td>-0.916018</td>\n",
       "      <td>1</td>\n",
       "      <td>0</td>\n",
       "      <td>-0.391097</td>\n",
       "      <td>0</td>\n",
       "      <td>0</td>\n",
       "      <td>0</td>\n",
       "    </tr>\n",
       "    <tr>\n",
       "      <th>8777</th>\n",
       "      <td>-0.484083</td>\n",
       "      <td>-1.420358</td>\n",
       "      <td>-1.134997</td>\n",
       "      <td>1.421989</td>\n",
       "      <td>0.797767</td>\n",
       "      <td>1</td>\n",
       "      <td>0</td>\n",
       "      <td>-1.361559</td>\n",
       "      <td>0</td>\n",
       "      <td>1</td>\n",
       "      <td>1</td>\n",
       "    </tr>\n",
       "  </tbody>\n",
       "</table>\n",
       "</div>"
      ],
      "text/plain": [
       "      CreditScore       Age    Tenure   Balance  NumOfProducts  HasCrCard  \\\n",
       "5536    -0.143332  0.577533 -1.456283 -1.220573       0.797767          1   \n",
       "8530     1.632702 -0.564119 -0.813711  0.435807      -0.916018          1   \n",
       "1762     1.116413 -0.468981 -1.134997  1.245822      -0.916018          1   \n",
       "9090     1.643028  0.006707  0.150148 -1.220573      -0.916018          1   \n",
       "8777    -0.484083 -1.420358 -1.134997  1.421989       0.797767          1   \n",
       "\n",
       "      IsActiveMember  EstimatedSalary  Geography_Germany  Geography_Spain  \\\n",
       "5536               1         1.029613                  0                1   \n",
       "8530               0         0.237986                  0                0   \n",
       "1762               1        -0.686104                  0                0   \n",
       "9090               0        -0.391097                  0                0   \n",
       "8777               0        -1.361559                  0                1   \n",
       "\n",
       "      Gender_Male  \n",
       "5536            1  \n",
       "8530            0  \n",
       "1762            0  \n",
       "9090            0  \n",
       "8777            1  "
      ]
     },
     "metadata": {},
     "output_type": "display_data"
    },
    {
     "data": {
      "text/html": [
       "<div>\n",
       "<style scoped>\n",
       "    .dataframe tbody tr th:only-of-type {\n",
       "        vertical-align: middle;\n",
       "    }\n",
       "\n",
       "    .dataframe tbody tr th {\n",
       "        vertical-align: top;\n",
       "    }\n",
       "\n",
       "    .dataframe thead th {\n",
       "        text-align: right;\n",
       "    }\n",
       "</style>\n",
       "<table border=\"1\" class=\"dataframe\">\n",
       "  <thead>\n",
       "    <tr style=\"text-align: right;\">\n",
       "      <th></th>\n",
       "      <th>CreditScore</th>\n",
       "      <th>Age</th>\n",
       "      <th>Tenure</th>\n",
       "      <th>Balance</th>\n",
       "      <th>NumOfProducts</th>\n",
       "      <th>HasCrCard</th>\n",
       "      <th>IsActiveMember</th>\n",
       "      <th>EstimatedSalary</th>\n",
       "      <th>Geography_Germany</th>\n",
       "      <th>Geography_Spain</th>\n",
       "      <th>Gender_Male</th>\n",
       "    </tr>\n",
       "  </thead>\n",
       "  <tbody>\n",
       "    <tr>\n",
       "      <th>9375</th>\n",
       "      <td>0.094161</td>\n",
       "      <td>0.862946</td>\n",
       "      <td>-0.171138</td>\n",
       "      <td>0.757050</td>\n",
       "      <td>0.797767</td>\n",
       "      <td>1</td>\n",
       "      <td>0</td>\n",
       "      <td>-0.308325</td>\n",
       "      <td>1</td>\n",
       "      <td>0</td>\n",
       "      <td>1</td>\n",
       "    </tr>\n",
       "    <tr>\n",
       "      <th>9536</th>\n",
       "      <td>-1.031349</td>\n",
       "      <td>0.292120</td>\n",
       "      <td>1.756578</td>\n",
       "      <td>0.838881</td>\n",
       "      <td>-0.916018</td>\n",
       "      <td>1</td>\n",
       "      <td>0</td>\n",
       "      <td>-0.645029</td>\n",
       "      <td>1</td>\n",
       "      <td>0</td>\n",
       "      <td>0</td>\n",
       "    </tr>\n",
       "    <tr>\n",
       "      <th>6344</th>\n",
       "      <td>2.066384</td>\n",
       "      <td>0.196983</td>\n",
       "      <td>-0.492424</td>\n",
       "      <td>-1.220573</td>\n",
       "      <td>0.797767</td>\n",
       "      <td>1</td>\n",
       "      <td>0</td>\n",
       "      <td>0.498373</td>\n",
       "      <td>0</td>\n",
       "      <td>0</td>\n",
       "      <td>1</td>\n",
       "    </tr>\n",
       "    <tr>\n",
       "      <th>4357</th>\n",
       "      <td>1.085435</td>\n",
       "      <td>-0.278706</td>\n",
       "      <td>1.114006</td>\n",
       "      <td>-1.220573</td>\n",
       "      <td>0.797767</td>\n",
       "      <td>1</td>\n",
       "      <td>0</td>\n",
       "      <td>1.331035</td>\n",
       "      <td>0</td>\n",
       "      <td>0</td>\n",
       "      <td>1</td>\n",
       "    </tr>\n",
       "    <tr>\n",
       "      <th>9120</th>\n",
       "      <td>0.548495</td>\n",
       "      <td>1.814323</td>\n",
       "      <td>-0.171138</td>\n",
       "      <td>0.266421</td>\n",
       "      <td>-0.916018</td>\n",
       "      <td>0</td>\n",
       "      <td>1</td>\n",
       "      <td>-0.261760</td>\n",
       "      <td>0</td>\n",
       "      <td>1</td>\n",
       "      <td>1</td>\n",
       "    </tr>\n",
       "  </tbody>\n",
       "</table>\n",
       "</div>"
      ],
      "text/plain": [
       "      CreditScore       Age    Tenure   Balance  NumOfProducts  HasCrCard  \\\n",
       "9375     0.094161  0.862946 -0.171138  0.757050       0.797767          1   \n",
       "9536    -1.031349  0.292120  1.756578  0.838881      -0.916018          1   \n",
       "6344     2.066384  0.196983 -0.492424 -1.220573       0.797767          1   \n",
       "4357     1.085435 -0.278706  1.114006 -1.220573       0.797767          1   \n",
       "9120     0.548495  1.814323 -0.171138  0.266421      -0.916018          0   \n",
       "\n",
       "      IsActiveMember  EstimatedSalary  Geography_Germany  Geography_Spain  \\\n",
       "9375               0        -0.308325                  1                0   \n",
       "9536               0        -0.645029                  1                0   \n",
       "6344               0         0.498373                  0                0   \n",
       "4357               0         1.331035                  0                0   \n",
       "9120               1        -0.261760                  0                1   \n",
       "\n",
       "      Gender_Male  \n",
       "9375            1  \n",
       "9536            0  \n",
       "6344            1  \n",
       "4357            1  \n",
       "9120            1  "
      ]
     },
     "metadata": {},
     "output_type": "display_data"
    },
    {
     "data": {
      "text/html": [
       "<div>\n",
       "<style scoped>\n",
       "    .dataframe tbody tr th:only-of-type {\n",
       "        vertical-align: middle;\n",
       "    }\n",
       "\n",
       "    .dataframe tbody tr th {\n",
       "        vertical-align: top;\n",
       "    }\n",
       "\n",
       "    .dataframe thead th {\n",
       "        text-align: right;\n",
       "    }\n",
       "</style>\n",
       "<table border=\"1\" class=\"dataframe\">\n",
       "  <thead>\n",
       "    <tr style=\"text-align: right;\">\n",
       "      <th></th>\n",
       "      <th>CreditScore</th>\n",
       "      <th>Age</th>\n",
       "      <th>Tenure</th>\n",
       "      <th>Balance</th>\n",
       "      <th>NumOfProducts</th>\n",
       "      <th>HasCrCard</th>\n",
       "      <th>IsActiveMember</th>\n",
       "      <th>EstimatedSalary</th>\n",
       "      <th>Geography_Germany</th>\n",
       "      <th>Geography_Spain</th>\n",
       "      <th>Gender_Male</th>\n",
       "    </tr>\n",
       "  </thead>\n",
       "  <tbody>\n",
       "    <tr>\n",
       "      <th>7837</th>\n",
       "      <td>2.066384</td>\n",
       "      <td>0.862946</td>\n",
       "      <td>-0.813711</td>\n",
       "      <td>-1.220573</td>\n",
       "      <td>-0.916018</td>\n",
       "      <td>1</td>\n",
       "      <td>0</td>\n",
       "      <td>1.202714</td>\n",
       "      <td>0</td>\n",
       "      <td>1</td>\n",
       "      <td>1</td>\n",
       "    </tr>\n",
       "    <tr>\n",
       "      <th>9505</th>\n",
       "      <td>0.011555</td>\n",
       "      <td>-1.039807</td>\n",
       "      <td>1.756578</td>\n",
       "      <td>0.052520</td>\n",
       "      <td>-0.916018</td>\n",
       "      <td>1</td>\n",
       "      <td>1</td>\n",
       "      <td>-0.443548</td>\n",
       "      <td>0</td>\n",
       "      <td>0</td>\n",
       "      <td>1</td>\n",
       "    </tr>\n",
       "    <tr>\n",
       "      <th>6208</th>\n",
       "      <td>0.662079</td>\n",
       "      <td>-0.468981</td>\n",
       "      <td>1.756578</td>\n",
       "      <td>-1.220573</td>\n",
       "      <td>0.797767</td>\n",
       "      <td>1</td>\n",
       "      <td>1</td>\n",
       "      <td>-0.347161</td>\n",
       "      <td>0</td>\n",
       "      <td>0</td>\n",
       "      <td>1</td>\n",
       "    </tr>\n",
       "    <tr>\n",
       "      <th>5642</th>\n",
       "      <td>1.364231</td>\n",
       "      <td>0.196983</td>\n",
       "      <td>-0.171138</td>\n",
       "      <td>-1.220573</td>\n",
       "      <td>-0.916018</td>\n",
       "      <td>1</td>\n",
       "      <td>0</td>\n",
       "      <td>0.568776</td>\n",
       "      <td>0</td>\n",
       "      <td>1</td>\n",
       "      <td>0</td>\n",
       "    </tr>\n",
       "    <tr>\n",
       "      <th>9643</th>\n",
       "      <td>-1.330797</td>\n",
       "      <td>0.196983</td>\n",
       "      <td>-0.813711</td>\n",
       "      <td>-1.220573</td>\n",
       "      <td>0.797767</td>\n",
       "      <td>1</td>\n",
       "      <td>1</td>\n",
       "      <td>0.223765</td>\n",
       "      <td>0</td>\n",
       "      <td>0</td>\n",
       "      <td>0</td>\n",
       "    </tr>\n",
       "  </tbody>\n",
       "</table>\n",
       "</div>"
      ],
      "text/plain": [
       "      CreditScore       Age    Tenure   Balance  NumOfProducts  HasCrCard  \\\n",
       "7837     2.066384  0.862946 -0.813711 -1.220573      -0.916018          1   \n",
       "9505     0.011555 -1.039807  1.756578  0.052520      -0.916018          1   \n",
       "6208     0.662079 -0.468981  1.756578 -1.220573       0.797767          1   \n",
       "5642     1.364231  0.196983 -0.171138 -1.220573      -0.916018          1   \n",
       "9643    -1.330797  0.196983 -0.813711 -1.220573       0.797767          1   \n",
       "\n",
       "      IsActiveMember  EstimatedSalary  Geography_Germany  Geography_Spain  \\\n",
       "7837               0         1.202714                  0                1   \n",
       "9505               1        -0.443548                  0                0   \n",
       "6208               1        -0.347161                  0                0   \n",
       "5642               0         0.568776                  0                1   \n",
       "9643               1         0.223765                  0                0   \n",
       "\n",
       "      Gender_Male  \n",
       "7837            1  \n",
       "9505            1  \n",
       "6208            1  \n",
       "5642            0  \n",
       "9643            0  "
      ]
     },
     "execution_count": 15,
     "metadata": {},
     "output_type": "execute_result"
    }
   ],
   "source": [
    "display(features_train.head())\n",
    "display(features_valid.head())\n",
    "features_test.head()"
   ]
  },
  {
   "cell_type": "markdown",
   "metadata": {},
   "source": [
    "<b><font size=4>Вывод</font></b> \n",
    "\n",
    "В данном разделе были подключены необходимые библиотеки и функции, получена основная информация о датасете. Дубликатов не обнаружено, пропуски заполнены.  \n",
    "\n",
    "Проведена кодировка столбцов Geography и Gender техникой ОНЕ.  \n",
    "\n",
    "Датасет был разделен на признаки и целевой признак. В свою очередь признаки и целевой признак были разделены на обучающую, валидационную и тестовую стратифицированные выборки.Также числовые признаки были стандартизированны."
   ]
  },
  {
   "cell_type": "markdown",
   "metadata": {},
   "source": [
    "## Исследование задачи"
   ]
  },
  {
   "cell_type": "code",
   "execution_count": 16,
   "metadata": {},
   "outputs": [
    {
     "name": "stdout",
     "output_type": "stream",
     "text": [
      "F1 для дерева решений: 0.5817655571635311\n",
      "Максимальная глубина: 8\n",
      "AUC-ROC: 0.8073851972157057\n"
     ]
    }
   ],
   "source": [
    "# Обучение модели с помощью дерева решений\n",
    "best_f1_tree = 0\n",
    "best_depth_tree = 0\n",
    "best_auc_roc = 0\n",
    "\n",
    "for depth in range(1, 15 ,1):\n",
    "    model_tree = DecisionTreeClassifier(max_depth=depth, random_state=12345,)\n",
    "    model_tree.fit(features_train, target_train)\n",
    "    predicted_valid_tree = model_tree.predict(features_valid)\n",
    "    f1_tree = f1_score(target_valid, predicted_valid_tree)\n",
    "    auc_roc_tree = roc_auc_score(target_valid, model_tree.predict_proba(features_valid)[:, 1])\n",
    "    \n",
    "    if f1_tree > best_f1_tree:\n",
    "        best_f1_tree = f1_tree\n",
    "        best_depth_tree = depth\n",
    "        best_auc_roc = auc_roc_tree\n",
    "\n",
    "print('F1 для дерева решений:', best_f1_tree)\n",
    "print('Максимальная глубина:', best_depth_tree)\n",
    "print('AUC-ROC:', best_auc_roc)"
   ]
  },
  {
   "cell_type": "code",
   "execution_count": 17,
   "metadata": {},
   "outputs": [
    {
     "name": "stdout",
     "output_type": "stream",
     "text": [
      "F1 для случайного леса: 0.5813586097946287\n",
      "Максимальная глубина: 12\n",
      "Число деревьев: 71\n",
      "AUC-ROC: 0.8613127765670138\n"
     ]
    }
   ],
   "source": [
    "# Обучение модели с помощью случайного леса\n",
    "best_f1_forest = 0\n",
    "best_depth_forest = 0\n",
    "best_est_forest = 0\n",
    "best_auc_roc = 0\n",
    "\n",
    "for depth in range(1, 15, 1):\n",
    "    for est in range(1, 200, 10):\n",
    "        model_forest = RandomForestClassifier(random_state=12345, n_estimators=est, max_depth=depth)\n",
    "        model_forest.fit(features_train, target_train)\n",
    "        predicted_valid_forest = model_forest.predict(features_valid)\n",
    "        f1_forest = f1_score(target_valid, predicted_valid_forest)\n",
    "        auc_roc_forest = roc_auc_score(target_valid, model_forest.predict_proba(features_valid)[:, 1])\n",
    "        \n",
    "        if f1_forest > best_f1_forest:\n",
    "            best_f1_forest = f1_forest\n",
    "            best_depth_forest = depth\n",
    "            best_est_forest = est\n",
    "            best_auc_roc = auc_roc_forest\n",
    "            \n",
    "print('F1 для случайного леса:', best_f1_forest)\n",
    "print('Максимальная глубина:', best_depth_forest)\n",
    "print('Число деревьев:', best_est_forest)\n",
    "print('AUC-ROC:', best_auc_roc)"
   ]
  },
  {
   "cell_type": "code",
   "execution_count": 18,
   "metadata": {},
   "outputs": [
    {
     "name": "stdout",
     "output_type": "stream",
     "text": [
      "F1 для логистической регрессии: 0.3214953271028037\n",
      "AUC-ROC: 0.7874237874237874\n"
     ]
    }
   ],
   "source": [
    "# Обучение модели с помощью логистической регрессии\n",
    "model_log_reg = LogisticRegression(random_state=12345, solver='liblinear')#, class_weight='balanced')\n",
    "model_log_reg.fit(features_train, target_train)\n",
    "predicted_valid_log_reg = model_log_reg.predict(features_valid)\n",
    "f1_score_log_reg = f1_score(target_valid, predicted_valid_log_reg)\n",
    "auc_roc_log_reg = roc_auc_score(target_valid, model_log_reg.predict_proba(features_valid)[:, 1])\n",
    "\n",
    "print('F1 для логистической регрессии:', f1_score_log_reg)\n",
    "print('AUC-ROC:', auc_roc_log_reg)"
   ]
  },
  {
   "cell_type": "markdown",
   "metadata": {},
   "source": [
    "<b><font size=4>Вывод</font></b>  \n",
    "\n",
    "В данном разделе были обучены модели: \n",
    "- дерево решений  \n",
    "- случайный лес  \n",
    "- логистическая регрессия\n",
    "без учета дисбаланса классов на обучающей и валидационной выборке.  \n",
    "\n",
    "Лучший результат был получен в моделях дерево решений и случайный лес. F1-мера 0,5817 и 0,5813 соответственно."
   ]
  },
  {
   "cell_type": "markdown",
   "metadata": {},
   "source": [
    "## Борьба с дисбалансом"
   ]
  },
  {
   "cell_type": "code",
   "execution_count": 19,
   "metadata": {},
   "outputs": [
    {
     "data": {
      "text/plain": [
       "0    0.796167\n",
       "1    0.203833\n",
       "Name: Exited, dtype: float64"
      ]
     },
     "execution_count": 19,
     "metadata": {},
     "output_type": "execute_result"
    }
   ],
   "source": [
    "# Доли ушедших и оставшихся клиентов. Доля оставшихся клинтов в 4 раза больше ушедших\n",
    "# Нужно сравнять эти доли, чтобы модель обучалась корректнее\n",
    "target_train.value_counts(normalize = 1)"
   ]
  },
  {
   "cell_type": "code",
   "execution_count": 20,
   "metadata": {},
   "outputs": [
    {
     "data": {
      "text/plain": [
       "1    0.505947\n",
       "0    0.494053\n",
       "Name: Exited, dtype: float64"
      ]
     },
     "execution_count": 20,
     "metadata": {},
     "output_type": "execute_result"
    }
   ],
   "source": [
    "# функция для увеличения выборки\n",
    "def upsample(features, target, repeat):\n",
    "    features_zeros = features[target == 0]\n",
    "    features_ones = features[target == 1]\n",
    "    target_zeros = target[target == 0]\n",
    "    target_ones = target[target == 1]\n",
    "\n",
    "    features_upsampled = pd.concat([features_zeros] + [features_ones] * repeat)\n",
    "    target_upsampled = pd.concat([target_zeros] + [target_ones] * repeat)\n",
    "    \n",
    "    features_upsampled, target_upsampled = shuffle(\n",
    "        features_upsampled, target_upsampled, random_state=12345)\n",
    "    \n",
    "    return features_upsampled, target_upsampled\n",
    "\n",
    "features_upsampled, target_upsampled = upsample(features_train, target_train, 4)\n",
    "\n",
    "target_upsampled.value_counts(normalize=1)"
   ]
  },
  {
   "cell_type": "code",
   "execution_count": 21,
   "metadata": {},
   "outputs": [
    {
     "data": {
      "text/plain": [
       "1    0.505999\n",
       "0    0.494001\n",
       "Name: Exited, dtype: float64"
      ]
     },
     "execution_count": 21,
     "metadata": {},
     "output_type": "execute_result"
    }
   ],
   "source": [
    "# Функция для уменьшения выборки\n",
    "def downsample(features, target, fraction):\n",
    "    features_zeros = features[target == 0]\n",
    "    features_ones = features[target == 1]\n",
    "    target_zeros = target[target == 0]\n",
    "    target_ones = target[target == 1]\n",
    "\n",
    "    features_downsampled = pd.concat(\n",
    "        [features_zeros.sample(frac=fraction, random_state=12345)] + [features_ones])\n",
    "    target_downsampled = pd.concat(\n",
    "        [target_zeros.sample(frac=fraction, random_state=12345)] + [target_ones])\n",
    "    \n",
    "    features_downsampled, target_downsampled = shuffle(\n",
    "        features_downsampled, target_downsampled, random_state=12345)\n",
    "    \n",
    "    return features_downsampled, target_downsampled\n",
    "\n",
    "features_downsampled, target_downsampled = downsample(features_train, target_train, 0.25)\n",
    "\n",
    "target_downsampled.value_counts(normalize=1)"
   ]
  },
  {
   "cell_type": "code",
   "execution_count": 24,
   "metadata": {},
   "outputs": [
    {
     "name": "stdout",
     "output_type": "stream",
     "text": [
      "F1 для дерева решений с увеличением выборки: 0.542910447761194\n",
      "AUC-ROC для дерева решений с увеличением выборки: 0.7918727664490377\n",
      "\n",
      "F1 для дерева решений с уменьшением выборки: 0.5416666666666666\n",
      "AUC-ROC для дерева решений с уменьшением выборки: 0.794015895710811\n"
     ]
    }
   ],
   "source": [
    "# Обучение модели дерево решений на увеличенной выборке\n",
    "model_tree = DecisionTreeClassifier(random_state=12345, max_depth=8)\n",
    "model_tree.fit(features_upsampled, target_upsampled) \n",
    "predicted_valid_tree = model_tree.predict(features_valid)\n",
    "\n",
    "print('F1 для дерева решений с увеличением выборки:', f1_score(target_valid, predicted_valid_tree))\n",
    "print('AUC-ROC для дерева решений с увеличением выборки:', roc_auc_score(\n",
    "    target_valid, model_tree.predict_proba(features_valid)[:, 1]\n",
    ")\n",
    "     )\n",
    "\n",
    "print()\n",
    "\n",
    "# Обучение модели дерево решений на уменьшенной выборке\n",
    "model_tree = DecisionTreeClassifier(max_depth=8, random_state=12345)\n",
    "model_tree.fit(features_downsampled, target_downsampled) \n",
    "predicted_valid_tree = model_tree.predict(features_valid)\n",
    "\n",
    "print('F1 для дерева решений с уменьшением выборки:', f1_score(target_valid, predicted_valid_tree))\n",
    "print('AUC-ROC для дерева решений с уменьшением выборки:', roc_auc_score(\n",
    "    target_valid, model_tree.predict_proba(features_valid)[:, 1]\n",
    ")\n",
    "     )"
   ]
  },
  {
   "cell_type": "code",
   "execution_count": 25,
   "metadata": {},
   "outputs": [
    {
     "name": "stdout",
     "output_type": "stream",
     "text": [
      "F1 для случайного леса с увеличением выборки: 0.6203592814371257\n",
      "AUC-ROC для случайного леса с увеличением выборки: 0.8619713704459467\n",
      "\n",
      "F1 для случайного леса с уменьшением выборки: 0.5931558935361216\n",
      "AUC-ROC для случайного леса с уменьшением выборки: 0.8663092985126882\n"
     ]
    }
   ],
   "source": [
    "# Обучение модели случайный лес на увеличенной выборке\n",
    "model_forest = RandomForestClassifier(random_state=12345, n_estimators=71, max_depth=12)\n",
    "model_forest.fit(features_upsampled, target_upsampled)\n",
    "predicted_valid_forest = model_forest.predict(features_valid)\n",
    "print('F1 для случайного леса с увеличением выборки:', f1_score(target_valid, predicted_valid_forest))\n",
    "print('AUC-ROC для случайного леса с увеличением выборки:', roc_auc_score(\n",
    "    target_valid, model_forest.predict_proba(features_valid)[:, 1]\n",
    ")\n",
    "     )\n",
    "\n",
    "print()\n",
    "\n",
    "# Обучение модели случайный лес на уменьшенной выборке\n",
    "model_forest = RandomForestClassifier(random_state=12345, n_estimators=71, max_depth=12)\n",
    "model_forest.fit(features_downsampled, target_downsampled)\n",
    "predicted_valid_forest = model_forest.predict(features_valid)\n",
    "print('F1 для случайного леса с уменьшением выборки:', f1_score(target_valid, predicted_valid_forest))\n",
    "print('AUC-ROC для случайного леса с уменьшением выборки:', roc_auc_score(\n",
    "    target_valid, model_forest.predict_proba(features_valid)[:, 1]\n",
    ")\n",
    "     )"
   ]
  },
  {
   "cell_type": "code",
   "execution_count": 26,
   "metadata": {},
   "outputs": [
    {
     "name": "stdout",
     "output_type": "stream",
     "text": [
      "F1 для логистической регрессии с увеличением выборки: 0.5068493150684932\n",
      "AUC-ROC для логистической регрессии с увеличением выборки: 0.7917995036639105\n",
      "\n",
      "F1 для логистической регрессии с уменьшением выборки: 0.5042881646655232\n",
      "AUC-ROC для логистической регрессии с уменьшением выборки: 0.7912735539854184\n"
     ]
    }
   ],
   "source": [
    "# Обучение модели логистическая регрессия на увеличенной выборке\n",
    "model_log_reg = LogisticRegression(random_state=12345, solver='liblinear')#, class_weight='balanced')\n",
    "model_log_reg.fit(features_upsampled, target_upsampled)\n",
    "predicted_valid_log_reg = model_log_reg.predict(features_valid)\n",
    "print('F1 для логистической регрессии с увеличением выборки:', f1_score(target_valid, predicted_valid_log_reg))\n",
    "print('AUC-ROC для логистической регрессии с увеличением выборки:', roc_auc_score(\n",
    "    target_valid, model_log_reg.predict_proba(features_valid)[:, 1]\n",
    ")\n",
    "     )\n",
    "\n",
    "print()\n",
    "\n",
    "# Обучение модели логистическая регрессия на уменьшенной выборке\n",
    "model_log_reg = LogisticRegression(random_state=12345, solver='liblinear')#, class_weight='balanced')\n",
    "model_log_reg.fit(features_downsampled, target_downsampled)\n",
    "predicted_valid_log_reg = model_log_reg.predict(features_valid)\n",
    "print('F1 для логистической регрессии с уменьшением выборки:', f1_score(target_valid, predicted_valid_log_reg))\n",
    "print('AUC-ROC для логистической регрессии с уменьшением выборки:', roc_auc_score(\n",
    "    target_valid, model_log_reg.predict_proba(features_valid)[:, 1]\n",
    ")\n",
    "     )\n"
   ]
  },
  {
   "cell_type": "markdown",
   "metadata": {},
   "source": [
    "<b><font size=4>Вывод</font></b>  \n",
    "\n",
    "В данном разделе дисбаланс классов был учтен и исправлен с помощью увеличения и уменьшения выборок. Увеличивал и уменьшал в 4 раза.  \n",
    "\n",
    "F1-мера в дереве решений уменьшилась на 0,04, в логистичесской регрессии наоборот, значительно увеличилась, на 0,18.  \n",
    "\n",
    "Но самой лучшей моделью по F1-мере является случайный лес. С уменьшением выборки мера незначительно увеличилась, на 0,01. С увеличением выборки также увеличилась, но уже на 0,04, конечно, не как у логистической регрессии, но заданный порог в 0,59 прошла."
   ]
  },
  {
   "cell_type": "markdown",
   "metadata": {},
   "source": [
    "## Тестирование модели"
   ]
  },
  {
   "cell_type": "code",
   "execution_count": null,
   "metadata": {},
   "outputs": [],
   "source": [
    "# Для лучшего обучения объединяю обучающую и валидационную выборки\n",
    "features_train_valid = pd.concat([features_train] + [features_valid])\n",
    "target_train_valid = pd.concat([target_train] + [target_valid]) \n",
    "\n",
    "# Увеличиваю выборку\n",
    "features_tv_upsampled, target_tv_upsampled = upsample(features_train_valid, target_train_valid, 4)"
   ]
  },
  {
   "cell_type": "code",
   "execution_count": null,
   "metadata": {},
   "outputs": [],
   "source": [
    "# Обучаю модель случайный лес на увеличенных выборках\n",
    "model_forest = RandomForestClassifier(random_state=12345, n_estimators=71, max_depth=12)\n",
    "model_forest.fit(features_tv_upsampled, target_tv_upsampled)\n",
    "predicted_test_forest = model_forest.predict(features_test)\n",
    "f1_score_forest = f1_score(target_test, predicted_test_forest)\n",
    "if f1_score_forest > 0.59:\n",
    "    print('Это успех! F1 =', f1_score_forest)\n",
    "    print('AUC-ROC для случайного леса на тестовой выборке:', roc_auc_score(\n",
    "    target_test, model_forest.predict_proba(features_test)[:, 1]\n",
    "    )\n",
    "         )\n",
    "else:\n",
    "    print('Нужно поработать')"
   ]
  },
  {
   "cell_type": "markdown",
   "metadata": {},
   "source": [
    "## Общий вывод  \n",
    "\n",
    "В данной работе были подготовленны данные:  \n",
    "- закодированны столбцы Geography и Gender  \n",
    "- датасет разделен на обучающую, вылидационную и тестовую выборки  \n",
    "- числовые признаки стандартизированы.  \n",
    "\n",
    "Обучены три модели без учета дисбаланса классов. Лучшие результаты показали модели дерево решений и случайный лес.  \n",
    "\n",
    "Для избавления от дисбаланса выборки увеличивались и уменьшались. Лучший результат был получен в модели случайный лес, F1-мера - 0,62, но логистическая регрессия приятно удивила ростом F1-меры на 0,18 до 0,5.\n",
    "\n",
    "И, конечно, модель была протестирована на объединенной (соединил обучающую и валидационную выборки для улучшения обучения модели) увеличенной выборке. Модель обучилась еще лучше, F1-мера снова увеличилась и составила 0,6376, что больше, заявленного в задании, порога в 0,59."
   ]
  }
 ],
 "metadata": {
  "ExecuteTimeLog": [
   {
    "duration": 385,
    "start_time": "2023-03-15T21:56:35.619Z"
   },
   {
    "duration": 165,
    "start_time": "2023-03-15T21:56:36.006Z"
   },
   {
    "duration": 95,
    "start_time": "2023-03-16T07:30:34.302Z"
   },
   {
    "duration": 1564,
    "start_time": "2023-03-16T07:30:40.625Z"
   },
   {
    "duration": 647,
    "start_time": "2023-03-16T07:30:42.199Z"
   },
   {
    "duration": 138,
    "start_time": "2023-03-16T07:30:55.720Z"
   },
   {
    "duration": 231,
    "start_time": "2023-03-16T07:37:49.861Z"
   },
   {
    "duration": 183,
    "start_time": "2023-03-16T07:38:13.414Z"
   },
   {
    "duration": 8,
    "start_time": "2023-03-16T07:40:15.595Z"
   },
   {
    "duration": 27,
    "start_time": "2023-03-16T07:40:16.038Z"
   },
   {
    "duration": 20,
    "start_time": "2023-03-16T07:40:16.391Z"
   },
   {
    "duration": 202,
    "start_time": "2023-03-16T07:44:44.434Z"
   },
   {
    "duration": 16,
    "start_time": "2023-03-16T07:45:02.184Z"
   },
   {
    "duration": 34,
    "start_time": "2023-03-16T07:45:03.090Z"
   },
   {
    "duration": 31,
    "start_time": "2023-03-16T07:45:04.783Z"
   },
   {
    "duration": 71,
    "start_time": "2023-03-21T18:46:14.940Z"
   },
   {
    "duration": 1507,
    "start_time": "2023-03-21T18:46:17.289Z"
   },
   {
    "duration": 118,
    "start_time": "2023-03-21T18:46:18.797Z"
   },
   {
    "duration": 18,
    "start_time": "2023-03-21T18:46:37.153Z"
   },
   {
    "duration": 1718,
    "start_time": "2023-03-22T15:31:35.066Z"
   },
   {
    "duration": 168,
    "start_time": "2023-03-22T15:31:36.789Z"
   },
   {
    "duration": 17,
    "start_time": "2023-03-22T15:31:36.959Z"
   },
   {
    "duration": 19,
    "start_time": "2023-03-22T15:31:36.979Z"
   },
   {
    "duration": 4,
    "start_time": "2023-03-22T15:31:37.000Z"
   },
   {
    "duration": 12,
    "start_time": "2023-03-22T15:31:37.006Z"
   },
   {
    "duration": 10,
    "start_time": "2023-03-22T15:31:37.020Z"
   },
   {
    "duration": 6,
    "start_time": "2023-03-22T15:34:35.096Z"
   },
   {
    "duration": 5,
    "start_time": "2023-03-22T15:34:51.313Z"
   },
   {
    "duration": 137,
    "start_time": "2023-03-22T15:35:15.170Z"
   },
   {
    "duration": 4,
    "start_time": "2023-03-22T15:35:50.903Z"
   },
   {
    "duration": 6,
    "start_time": "2023-03-22T15:36:37.841Z"
   },
   {
    "duration": 25,
    "start_time": "2023-03-22T15:43:43.036Z"
   },
   {
    "duration": 39,
    "start_time": "2023-03-22T16:40:17.576Z"
   },
   {
    "duration": 9,
    "start_time": "2023-03-22T16:40:35.540Z"
   },
   {
    "duration": 11,
    "start_time": "2023-03-22T16:40:41.565Z"
   },
   {
    "duration": 13,
    "start_time": "2023-03-22T16:44:59.940Z"
   },
   {
    "duration": 46,
    "start_time": "2023-03-22T19:03:04.679Z"
   },
   {
    "duration": 1466,
    "start_time": "2023-03-22T19:03:10.658Z"
   },
   {
    "duration": 90,
    "start_time": "2023-03-22T19:03:12.126Z"
   },
   {
    "duration": 13,
    "start_time": "2023-03-22T19:03:12.218Z"
   },
   {
    "duration": 15,
    "start_time": "2023-03-22T19:03:12.232Z"
   },
   {
    "duration": 38,
    "start_time": "2023-03-22T19:03:12.248Z"
   },
   {
    "duration": 4,
    "start_time": "2023-03-22T19:03:12.287Z"
   },
   {
    "duration": 3,
    "start_time": "2023-03-22T19:03:12.309Z"
   },
   {
    "duration": 12,
    "start_time": "2023-03-22T19:03:12.314Z"
   },
   {
    "duration": 4,
    "start_time": "2023-03-22T19:03:12.327Z"
   },
   {
    "duration": 16,
    "start_time": "2023-03-22T19:03:12.332Z"
   },
   {
    "duration": 8,
    "start_time": "2023-03-22T19:03:12.349Z"
   },
   {
    "duration": 39,
    "start_time": "2023-03-22T19:04:03.277Z"
   },
   {
    "duration": 17,
    "start_time": "2023-03-22T19:04:32.178Z"
   },
   {
    "duration": 4,
    "start_time": "2023-03-22T19:10:43.452Z"
   },
   {
    "duration": 8,
    "start_time": "2023-03-22T19:12:00.535Z"
   },
   {
    "duration": 73,
    "start_time": "2023-03-22T19:12:20.613Z"
   },
   {
    "duration": 4,
    "start_time": "2023-03-22T19:12:33.977Z"
   },
   {
    "duration": 3,
    "start_time": "2023-03-22T19:17:56.845Z"
   },
   {
    "duration": 21,
    "start_time": "2023-03-22T19:18:02.334Z"
   },
   {
    "duration": 28,
    "start_time": "2023-03-22T19:19:48.995Z"
   },
   {
    "duration": 21,
    "start_time": "2023-03-22T19:20:44.133Z"
   },
   {
    "duration": 3,
    "start_time": "2023-03-22T19:23:09.547Z"
   },
   {
    "duration": 1539,
    "start_time": "2023-03-22T19:23:15.902Z"
   },
   {
    "duration": 40,
    "start_time": "2023-03-22T19:23:17.443Z"
   },
   {
    "duration": 12,
    "start_time": "2023-03-22T19:23:17.485Z"
   },
   {
    "duration": 15,
    "start_time": "2023-03-22T19:23:17.499Z"
   },
   {
    "duration": 38,
    "start_time": "2023-03-22T19:23:17.516Z"
   },
   {
    "duration": 10,
    "start_time": "2023-03-22T19:23:17.556Z"
   },
   {
    "duration": 5,
    "start_time": "2023-03-22T19:23:17.568Z"
   },
   {
    "duration": 38,
    "start_time": "2023-03-22T19:23:17.574Z"
   },
   {
    "duration": 5,
    "start_time": "2023-03-22T19:23:17.614Z"
   },
   {
    "duration": 8,
    "start_time": "2023-03-22T19:23:17.621Z"
   },
   {
    "duration": 6,
    "start_time": "2023-03-22T19:23:17.631Z"
   },
   {
    "duration": 13,
    "start_time": "2023-03-22T19:23:17.638Z"
   },
   {
    "duration": 9,
    "start_time": "2023-03-22T19:23:17.652Z"
   },
   {
    "duration": 13,
    "start_time": "2023-03-22T19:24:16.686Z"
   },
   {
    "duration": 4,
    "start_time": "2023-03-22T19:25:56.491Z"
   },
   {
    "duration": 18,
    "start_time": "2023-03-22T19:26:06.433Z"
   },
   {
    "duration": 17,
    "start_time": "2023-03-22T19:26:21.145Z"
   },
   {
    "duration": 112,
    "start_time": "2023-03-22T19:34:00.098Z"
   },
   {
    "duration": 1103,
    "start_time": "2023-03-22T19:40:21.929Z"
   },
   {
    "duration": 15,
    "start_time": "2023-03-22T19:40:42.326Z"
   },
   {
    "duration": 12,
    "start_time": "2023-03-22T19:40:47.561Z"
   },
   {
    "duration": 18,
    "start_time": "2023-03-22T19:41:13.238Z"
   },
   {
    "duration": 19,
    "start_time": "2023-03-22T19:42:08.257Z"
   },
   {
    "duration": 16,
    "start_time": "2023-03-22T19:42:45.949Z"
   },
   {
    "duration": 12,
    "start_time": "2023-03-22T19:43:17.305Z"
   },
   {
    "duration": 16,
    "start_time": "2023-03-22T19:43:21.754Z"
   },
   {
    "duration": 14,
    "start_time": "2023-03-22T19:43:23.829Z"
   },
   {
    "duration": 15,
    "start_time": "2023-03-22T19:43:25.473Z"
   },
   {
    "duration": 12,
    "start_time": "2023-03-22T19:43:26.638Z"
   },
   {
    "duration": 11,
    "start_time": "2023-03-22T19:43:27.861Z"
   },
   {
    "duration": 11,
    "start_time": "2023-03-22T19:43:29.336Z"
   },
   {
    "duration": 13,
    "start_time": "2023-03-22T19:43:30.765Z"
   },
   {
    "duration": 12,
    "start_time": "2023-03-22T19:43:32.054Z"
   },
   {
    "duration": 14,
    "start_time": "2023-03-22T19:43:33.634Z"
   },
   {
    "duration": 10,
    "start_time": "2023-03-22T19:43:35.555Z"
   },
   {
    "duration": 12,
    "start_time": "2023-03-22T19:43:37.537Z"
   },
   {
    "duration": 11,
    "start_time": "2023-03-22T19:43:38.953Z"
   },
   {
    "duration": 12,
    "start_time": "2023-03-22T19:43:40.232Z"
   },
   {
    "duration": 1265,
    "start_time": "2023-03-22T19:43:46.740Z"
   },
   {
    "duration": 41,
    "start_time": "2023-03-22T19:43:48.007Z"
   },
   {
    "duration": 13,
    "start_time": "2023-03-22T19:43:48.049Z"
   },
   {
    "duration": 18,
    "start_time": "2023-03-22T19:43:48.064Z"
   },
   {
    "duration": 39,
    "start_time": "2023-03-22T19:43:48.083Z"
   },
   {
    "duration": 10,
    "start_time": "2023-03-22T19:43:48.124Z"
   },
   {
    "duration": 7,
    "start_time": "2023-03-22T19:43:48.136Z"
   },
   {
    "duration": 20,
    "start_time": "2023-03-22T19:43:48.144Z"
   },
   {
    "duration": 5,
    "start_time": "2023-03-22T19:43:48.165Z"
   },
   {
    "duration": 38,
    "start_time": "2023-03-22T19:43:48.172Z"
   },
   {
    "duration": 4,
    "start_time": "2023-03-22T19:43:48.212Z"
   },
   {
    "duration": 23,
    "start_time": "2023-03-22T19:43:48.218Z"
   },
   {
    "duration": 11,
    "start_time": "2023-03-22T19:43:48.242Z"
   },
   {
    "duration": 14,
    "start_time": "2023-03-22T19:44:14.327Z"
   },
   {
    "duration": 15,
    "start_time": "2023-03-22T19:44:15.732Z"
   },
   {
    "duration": 10,
    "start_time": "2023-03-22T19:44:33.333Z"
   },
   {
    "duration": 10,
    "start_time": "2023-03-22T19:44:34.629Z"
   },
   {
    "duration": 119,
    "start_time": "2023-03-22T19:49:39.228Z"
   },
   {
    "duration": 1251,
    "start_time": "2023-03-22T19:50:46.084Z"
   },
   {
    "duration": 4,
    "start_time": "2023-03-22T19:51:42.081Z"
   },
   {
    "duration": 1450,
    "start_time": "2023-03-22T19:51:47.836Z"
   },
   {
    "duration": 10,
    "start_time": "2023-03-22T19:53:50.488Z"
   },
   {
    "duration": 37,
    "start_time": "2023-03-22T19:55:57.998Z"
   },
   {
    "duration": 29,
    "start_time": "2023-03-22T19:56:22.104Z"
   },
   {
    "duration": 24,
    "start_time": "2023-03-22T19:56:31.218Z"
   },
   {
    "duration": 13,
    "start_time": "2023-03-22T19:57:00.984Z"
   },
   {
    "duration": 6,
    "start_time": "2023-03-22T19:57:29.157Z"
   },
   {
    "duration": 1390,
    "start_time": "2023-03-22T19:57:34.102Z"
   },
   {
    "duration": 40,
    "start_time": "2023-03-22T19:57:35.494Z"
   },
   {
    "duration": 12,
    "start_time": "2023-03-22T19:57:35.536Z"
   },
   {
    "duration": 15,
    "start_time": "2023-03-22T19:57:35.549Z"
   },
   {
    "duration": 49,
    "start_time": "2023-03-22T19:57:35.566Z"
   },
   {
    "duration": 11,
    "start_time": "2023-03-22T19:57:35.616Z"
   },
   {
    "duration": 9,
    "start_time": "2023-03-22T19:57:35.628Z"
   },
   {
    "duration": 17,
    "start_time": "2023-03-22T19:57:35.639Z"
   },
   {
    "duration": 7,
    "start_time": "2023-03-22T19:57:35.658Z"
   },
   {
    "duration": 54,
    "start_time": "2023-03-22T19:57:35.667Z"
   },
   {
    "duration": 6,
    "start_time": "2023-03-22T19:57:35.722Z"
   },
   {
    "duration": 15,
    "start_time": "2023-03-22T19:57:35.730Z"
   },
   {
    "duration": 14,
    "start_time": "2023-03-22T19:57:35.746Z"
   },
   {
    "duration": 56,
    "start_time": "2023-03-22T19:57:35.763Z"
   },
   {
    "duration": 14,
    "start_time": "2023-03-22T19:57:35.821Z"
   },
   {
    "duration": 14,
    "start_time": "2023-03-22T19:58:19.236Z"
   },
   {
    "duration": 30,
    "start_time": "2023-03-22T19:58:34.540Z"
   },
   {
    "duration": 1368,
    "start_time": "2023-03-22T20:33:38.326Z"
   },
   {
    "duration": 41,
    "start_time": "2023-03-22T20:33:39.697Z"
   },
   {
    "duration": 15,
    "start_time": "2023-03-22T20:33:39.740Z"
   },
   {
    "duration": 16,
    "start_time": "2023-03-22T20:33:39.756Z"
   },
   {
    "duration": 49,
    "start_time": "2023-03-22T20:33:39.774Z"
   },
   {
    "duration": 10,
    "start_time": "2023-03-22T20:33:39.824Z"
   },
   {
    "duration": 4,
    "start_time": "2023-03-22T20:33:39.836Z"
   },
   {
    "duration": 13,
    "start_time": "2023-03-22T20:33:39.842Z"
   },
   {
    "duration": 5,
    "start_time": "2023-03-22T20:33:39.856Z"
   },
   {
    "duration": 57,
    "start_time": "2023-03-22T20:33:39.862Z"
   },
   {
    "duration": 5,
    "start_time": "2023-03-22T20:33:39.920Z"
   },
   {
    "duration": 12,
    "start_time": "2023-03-22T20:33:39.927Z"
   },
   {
    "duration": 9,
    "start_time": "2023-03-22T20:33:39.941Z"
   },
   {
    "duration": 25,
    "start_time": "2023-03-22T20:33:39.952Z"
   },
   {
    "duration": 59,
    "start_time": "2023-03-22T20:33:39.979Z"
   },
   {
    "duration": 81,
    "start_time": "2023-03-22T20:43:10.757Z"
   },
   {
    "duration": 294,
    "start_time": "2023-03-22T21:00:08.938Z"
   },
   {
    "duration": 279,
    "start_time": "2023-03-22T21:06:20.831Z"
   },
   {
    "duration": 123451,
    "start_time": "2023-03-22T21:10:12.141Z"
   },
   {
    "duration": 23,
    "start_time": "2023-03-22T21:20:14.645Z"
   },
   {
    "duration": 32,
    "start_time": "2023-03-22T21:34:29.740Z"
   },
   {
    "duration": 303,
    "start_time": "2023-03-22T21:35:31.123Z"
   },
   {
    "duration": 281,
    "start_time": "2023-03-22T21:35:41.370Z"
   },
   {
    "duration": 126644,
    "start_time": "2023-03-22T21:35:49.638Z"
   },
   {
    "duration": 126841,
    "start_time": "2023-03-22T21:38:32.846Z"
   },
   {
    "duration": 30,
    "start_time": "2023-03-22T21:40:39.689Z"
   },
   {
    "duration": 7,
    "start_time": "2023-03-22T21:46:30.031Z"
   },
   {
    "duration": 46,
    "start_time": "2023-03-23T13:27:55.547Z"
   },
   {
    "duration": 1539,
    "start_time": "2023-03-23T13:28:02.629Z"
   },
   {
    "duration": 166,
    "start_time": "2023-03-23T13:28:04.170Z"
   },
   {
    "duration": 14,
    "start_time": "2023-03-23T13:28:04.337Z"
   },
   {
    "duration": 16,
    "start_time": "2023-03-23T13:28:04.352Z"
   },
   {
    "duration": 38,
    "start_time": "2023-03-23T13:28:04.370Z"
   },
   {
    "duration": 17,
    "start_time": "2023-03-23T13:28:04.409Z"
   },
   {
    "duration": 5,
    "start_time": "2023-03-23T13:28:04.428Z"
   },
   {
    "duration": 18,
    "start_time": "2023-03-23T13:28:04.434Z"
   },
   {
    "duration": 5,
    "start_time": "2023-03-23T13:28:04.453Z"
   },
   {
    "duration": 23,
    "start_time": "2023-03-23T13:28:04.460Z"
   },
   {
    "duration": 4,
    "start_time": "2023-03-23T13:28:04.485Z"
   },
   {
    "duration": 32,
    "start_time": "2023-03-23T13:28:04.491Z"
   },
   {
    "duration": 10,
    "start_time": "2023-03-23T13:28:04.525Z"
   },
   {
    "duration": 26,
    "start_time": "2023-03-23T13:28:04.538Z"
   },
   {
    "duration": 58,
    "start_time": "2023-03-23T13:28:04.566Z"
   },
   {
    "duration": 280,
    "start_time": "2023-03-23T13:28:04.626Z"
   },
   {
    "duration": 122053,
    "start_time": "2023-03-23T13:28:04.908Z"
   },
   {
    "duration": 22,
    "start_time": "2023-03-23T13:30:06.962Z"
   },
   {
    "duration": 8,
    "start_time": "2023-03-23T13:30:07.024Z"
   },
   {
    "duration": 11,
    "start_time": "2023-03-23T13:30:36.019Z"
   },
   {
    "duration": 15,
    "start_time": "2023-03-23T13:30:51.164Z"
   },
   {
    "duration": 16,
    "start_time": "2023-03-23T13:31:16.507Z"
   },
   {
    "duration": 103,
    "start_time": "2023-03-23T13:31:47.467Z"
   },
   {
    "duration": 5,
    "start_time": "2023-03-23T13:32:01.429Z"
   },
   {
    "duration": 5,
    "start_time": "2023-03-23T13:32:12.929Z"
   },
   {
    "duration": 21,
    "start_time": "2023-03-23T13:33:33.036Z"
   },
   {
    "duration": 5,
    "start_time": "2023-03-23T13:34:07.979Z"
   },
   {
    "duration": 15,
    "start_time": "2023-03-23T13:34:15.721Z"
   },
   {
    "duration": 20,
    "start_time": "2023-03-23T13:46:22.785Z"
   },
   {
    "duration": 425,
    "start_time": "2023-03-23T13:46:31.323Z"
   },
   {
    "duration": 135287,
    "start_time": "2023-03-23T13:48:05.684Z"
   },
   {
    "duration": 60,
    "start_time": "2023-03-23T13:50:38.863Z"
   },
   {
    "duration": 81,
    "start_time": "2023-03-23T13:51:05.750Z"
   },
   {
    "duration": 25,
    "start_time": "2023-03-23T13:51:12.949Z"
   },
   {
    "duration": 27,
    "start_time": "2023-03-23T13:51:20.960Z"
   },
   {
    "duration": 26,
    "start_time": "2023-03-23T13:51:37.113Z"
   },
   {
    "duration": 28,
    "start_time": "2023-03-23T13:51:52.137Z"
   },
   {
    "duration": 1365,
    "start_time": "2023-03-23T13:52:07.729Z"
   },
   {
    "duration": 40,
    "start_time": "2023-03-23T13:52:09.096Z"
   },
   {
    "duration": 13,
    "start_time": "2023-03-23T13:52:09.138Z"
   },
   {
    "duration": 20,
    "start_time": "2023-03-23T13:52:09.153Z"
   },
   {
    "duration": 66,
    "start_time": "2023-03-23T13:52:09.175Z"
   },
   {
    "duration": 11,
    "start_time": "2023-03-23T13:52:09.243Z"
   },
   {
    "duration": 4,
    "start_time": "2023-03-23T13:52:09.256Z"
   },
   {
    "duration": 14,
    "start_time": "2023-03-23T13:52:09.261Z"
   },
   {
    "duration": 7,
    "start_time": "2023-03-23T13:52:09.276Z"
   },
   {
    "duration": 47,
    "start_time": "2023-03-23T13:52:09.285Z"
   },
   {
    "duration": 5,
    "start_time": "2023-03-23T13:52:09.334Z"
   },
   {
    "duration": 12,
    "start_time": "2023-03-23T13:52:09.341Z"
   },
   {
    "duration": 10,
    "start_time": "2023-03-23T13:52:09.354Z"
   },
   {
    "duration": 57,
    "start_time": "2023-03-23T13:52:09.366Z"
   },
   {
    "duration": 36,
    "start_time": "2023-03-23T13:52:09.425Z"
   },
   {
    "duration": 339,
    "start_time": "2023-03-23T13:52:09.463Z"
   },
   {
    "duration": 135601,
    "start_time": "2023-03-23T13:52:09.804Z"
   },
   {
    "duration": 120,
    "start_time": "2023-03-23T13:54:25.407Z"
   },
   {
    "duration": 0,
    "start_time": "2023-03-23T13:54:25.529Z"
   },
   {
    "duration": 0,
    "start_time": "2023-03-23T13:54:25.531Z"
   },
   {
    "duration": 0,
    "start_time": "2023-03-23T13:54:25.532Z"
   },
   {
    "duration": 27,
    "start_time": "2023-03-23T13:54:55.370Z"
   },
   {
    "duration": 25,
    "start_time": "2023-03-23T13:55:01.919Z"
   },
   {
    "duration": 27,
    "start_time": "2023-03-23T13:57:08.936Z"
   },
   {
    "duration": 7,
    "start_time": "2023-03-23T13:57:20.028Z"
   },
   {
    "duration": 13,
    "start_time": "2023-03-23T13:57:20.408Z"
   },
   {
    "duration": 8,
    "start_time": "2023-03-23T13:57:21.321Z"
   },
   {
    "duration": 15,
    "start_time": "2023-03-23T14:06:25.811Z"
   },
   {
    "duration": 15,
    "start_time": "2023-03-23T14:09:54.610Z"
   },
   {
    "duration": 36,
    "start_time": "2023-03-23T14:13:18.081Z"
   },
   {
    "duration": 74,
    "start_time": "2023-03-23T14:14:46.113Z"
   },
   {
    "duration": 51,
    "start_time": "2023-03-23T14:16:48.054Z"
   },
   {
    "duration": 689,
    "start_time": "2023-03-23T14:23:09.625Z"
   },
   {
    "duration": 922,
    "start_time": "2023-03-23T14:23:41.184Z"
   },
   {
    "duration": 111,
    "start_time": "2023-03-23T14:29:46.716Z"
   },
   {
    "duration": 272,
    "start_time": "2023-03-23T14:29:56.853Z"
   },
   {
    "duration": 641,
    "start_time": "2023-03-23T14:39:16.213Z"
   },
   {
    "duration": 11,
    "start_time": "2023-03-23T14:41:41.362Z"
   },
   {
    "duration": 13,
    "start_time": "2023-03-23T14:41:45.099Z"
   },
   {
    "duration": 812,
    "start_time": "2023-03-23T14:41:47.381Z"
   },
   {
    "duration": 860,
    "start_time": "2023-03-23T15:07:36.237Z"
   },
   {
    "duration": 951,
    "start_time": "2023-03-23T15:13:00.139Z"
   },
   {
    "duration": 961,
    "start_time": "2023-03-23T15:13:49.915Z"
   },
   {
    "duration": 834,
    "start_time": "2023-03-23T15:14:56.138Z"
   },
   {
    "duration": 859,
    "start_time": "2023-03-23T15:15:20.907Z"
   },
   {
    "duration": 95,
    "start_time": "2023-03-24T16:13:32.782Z"
   },
   {
    "duration": 44,
    "start_time": "2023-03-24T16:27:38.842Z"
   },
   {
    "duration": 1383,
    "start_time": "2023-03-24T16:27:48.635Z"
   },
   {
    "duration": 86,
    "start_time": "2023-03-24T16:27:51.796Z"
   },
   {
    "duration": 11,
    "start_time": "2023-03-24T16:27:52.794Z"
   },
   {
    "duration": 15,
    "start_time": "2023-03-24T16:27:55.178Z"
   },
   {
    "duration": 37,
    "start_time": "2023-03-24T16:27:55.665Z"
   },
   {
    "duration": 10,
    "start_time": "2023-03-24T16:27:57.329Z"
   },
   {
    "duration": 6,
    "start_time": "2023-03-24T16:27:58.124Z"
   },
   {
    "duration": 72,
    "start_time": "2023-03-24T16:28:11.342Z"
   },
   {
    "duration": 5,
    "start_time": "2023-03-24T16:28:56.848Z"
   },
   {
    "duration": 105,
    "start_time": "2023-03-24T19:08:44.963Z"
   },
   {
    "duration": 12,
    "start_time": "2023-03-24T19:08:53.633Z"
   },
   {
    "duration": 21,
    "start_time": "2023-03-24T19:09:27.569Z"
   },
   {
    "duration": 1458,
    "start_time": "2023-03-24T19:09:33.454Z"
   },
   {
    "duration": 50,
    "start_time": "2023-03-24T19:09:34.916Z"
   },
   {
    "duration": 30,
    "start_time": "2023-03-24T19:09:34.968Z"
   },
   {
    "duration": 25,
    "start_time": "2023-03-24T19:09:35.000Z"
   },
   {
    "duration": 58,
    "start_time": "2023-03-24T19:09:35.028Z"
   },
   {
    "duration": 15,
    "start_time": "2023-03-24T19:09:35.088Z"
   },
   {
    "duration": 31,
    "start_time": "2023-03-24T19:09:35.105Z"
   },
   {
    "duration": 58,
    "start_time": "2023-03-24T19:09:35.139Z"
   },
   {
    "duration": 18,
    "start_time": "2023-03-24T19:09:35.202Z"
   },
   {
    "duration": 40,
    "start_time": "2023-03-24T19:09:35.221Z"
   },
   {
    "duration": 6,
    "start_time": "2023-03-24T19:09:35.263Z"
   },
   {
    "duration": 52,
    "start_time": "2023-03-24T19:09:35.274Z"
   },
   {
    "duration": 14,
    "start_time": "2023-03-24T19:09:35.329Z"
   },
   {
    "duration": 153,
    "start_time": "2023-03-24T19:09:35.347Z"
   },
   {
    "duration": 0,
    "start_time": "2023-03-24T19:09:35.502Z"
   },
   {
    "duration": 0,
    "start_time": "2023-03-24T19:09:35.503Z"
   },
   {
    "duration": 0,
    "start_time": "2023-03-24T19:09:35.504Z"
   },
   {
    "duration": 0,
    "start_time": "2023-03-24T19:09:35.505Z"
   },
   {
    "duration": 0,
    "start_time": "2023-03-24T19:09:35.507Z"
   },
   {
    "duration": 0,
    "start_time": "2023-03-24T19:09:35.508Z"
   },
   {
    "duration": 0,
    "start_time": "2023-03-24T19:09:35.510Z"
   },
   {
    "duration": 0,
    "start_time": "2023-03-24T19:09:35.511Z"
   },
   {
    "duration": 0,
    "start_time": "2023-03-24T19:09:35.512Z"
   },
   {
    "duration": 0,
    "start_time": "2023-03-24T19:09:35.514Z"
   },
   {
    "duration": 0,
    "start_time": "2023-03-24T19:09:35.515Z"
   },
   {
    "duration": 0,
    "start_time": "2023-03-24T19:09:35.517Z"
   },
   {
    "duration": 0,
    "start_time": "2023-03-24T19:09:35.518Z"
   },
   {
    "duration": 11,
    "start_time": "2023-03-24T19:10:46.186Z"
   },
   {
    "duration": 19,
    "start_time": "2023-03-24T19:11:07.972Z"
   },
   {
    "duration": 1315,
    "start_time": "2023-03-24T19:11:14.430Z"
   },
   {
    "duration": 53,
    "start_time": "2023-03-24T19:11:15.748Z"
   },
   {
    "duration": 16,
    "start_time": "2023-03-24T19:11:15.804Z"
   },
   {
    "duration": 20,
    "start_time": "2023-03-24T19:11:15.821Z"
   },
   {
    "duration": 66,
    "start_time": "2023-03-24T19:11:15.843Z"
   },
   {
    "duration": 14,
    "start_time": "2023-03-24T19:11:15.911Z"
   },
   {
    "duration": 4,
    "start_time": "2023-03-24T19:11:15.927Z"
   },
   {
    "duration": 15,
    "start_time": "2023-03-24T19:11:15.934Z"
   },
   {
    "duration": 50,
    "start_time": "2023-03-24T19:11:15.951Z"
   },
   {
    "duration": 30,
    "start_time": "2023-03-24T19:11:16.003Z"
   },
   {
    "duration": 6,
    "start_time": "2023-03-24T19:11:16.035Z"
   },
   {
    "duration": 27,
    "start_time": "2023-03-24T19:11:16.043Z"
   },
   {
    "duration": 24,
    "start_time": "2023-03-24T19:11:16.076Z"
   },
   {
    "duration": 34,
    "start_time": "2023-03-24T19:11:16.102Z"
   },
   {
    "duration": 39,
    "start_time": "2023-03-24T19:11:16.142Z"
   },
   {
    "duration": 464,
    "start_time": "2023-03-24T19:11:16.187Z"
   },
   {
    "duration": 149273,
    "start_time": "2023-03-24T19:11:16.653Z"
   },
   {
    "duration": 249,
    "start_time": "2023-03-24T19:13:45.928Z"
   },
   {
    "duration": 25,
    "start_time": "2023-03-24T19:13:46.182Z"
   },
   {
    "duration": 88,
    "start_time": "2023-03-24T19:13:46.210Z"
   },
   {
    "duration": 69,
    "start_time": "2023-03-24T19:13:46.300Z"
   },
   {
    "duration": 240,
    "start_time": "2023-03-24T19:13:46.371Z"
   },
   {
    "duration": 0,
    "start_time": "2023-03-24T19:13:46.613Z"
   },
   {
    "duration": 0,
    "start_time": "2023-03-24T19:13:46.614Z"
   },
   {
    "duration": 0,
    "start_time": "2023-03-24T19:13:46.615Z"
   },
   {
    "duration": 0,
    "start_time": "2023-03-24T19:13:46.616Z"
   },
   {
    "duration": 0,
    "start_time": "2023-03-24T19:13:46.617Z"
   },
   {
    "duration": 3,
    "start_time": "2023-03-24T19:42:50.885Z"
   },
   {
    "duration": 75,
    "start_time": "2023-03-24T19:42:53.758Z"
   },
   {
    "duration": 1272,
    "start_time": "2023-03-24T19:42:54.256Z"
   },
   {
    "duration": 241,
    "start_time": "2023-03-24T19:42:55.530Z"
   }
  ],
  "kernelspec": {
   "display_name": "Python 3 (ipykernel)",
   "language": "python",
   "name": "python3"
  },
  "language_info": {
   "codemirror_mode": {
    "name": "ipython",
    "version": 3
   },
   "file_extension": ".py",
   "mimetype": "text/x-python",
   "name": "python",
   "nbconvert_exporter": "python",
   "pygments_lexer": "ipython3",
   "version": "3.9.13"
  },
  "toc": {
   "base_numbering": 1,
   "nav_menu": {},
   "number_sections": true,
   "sideBar": true,
   "skip_h1_title": true,
   "title_cell": "Содержание",
   "title_sidebar": "Contents",
   "toc_cell": true,
   "toc_position": {},
   "toc_section_display": true,
   "toc_window_display": true
  }
 },
 "nbformat": 4,
 "nbformat_minor": 2
}
