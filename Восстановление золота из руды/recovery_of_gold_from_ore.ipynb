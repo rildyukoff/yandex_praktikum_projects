{
 "cells": [
  {
   "cell_type": "markdown",
   "metadata": {},
   "source": [
    "# Восстановление золота из руды"
   ]
  },
  {
   "cell_type": "markdown",
   "metadata": {},
   "source": [
    "Подготовьте прототип модели машинного обучения для «Цифры». Компания разрабатывает решения для эффективной работы промышленных предприятий.\n",
    "\n",
    "Модель должна предсказать коэффициент восстановления золота из золотосодержащей руды. Используйте данные с параметрами добычи и очистки. \n",
    "\n",
    "Модель поможет оптимизировать производство, чтобы не запускать предприятие с убыточными характеристиками.\n",
    "\n",
    "Вам нужно:\n",
    "\n",
    "1. Подготовить данные;\n",
    "2. Провести исследовательский анализ данных;\n",
    "3. Построить и обучить модель.\n",
    "\n",
    "Чтобы выполнить проект, обращайтесь к библиотекам *pandas*, *matplotlib* и *sklearn.* Вам поможет их документация."
   ]
  },
  {
   "cell_type": "code",
   "execution_count": 1,
   "metadata": {},
   "outputs": [],
   "source": [
    "import pandas as pd\n",
    "import numpy as np\n",
    "import seaborn as sns\n",
    "import matplotlib.pyplot as plt\n",
    "from sklearn.linear_model import LinearRegression\n",
    "from sklearn.tree import DecisionTreeRegressor\n",
    "from sklearn.ensemble import RandomForestRegressor\n",
    "from sklearn.dummy import DummyRegressor\n",
    "from sklearn.metrics import mean_absolute_error, make_scorer\n",
    "from sklearn.model_selection import GridSearchCV, cross_val_score\n",
    "\n",
    "pd.options.mode.chained_assignment = None\n",
    "\n",
    "pd.set_option('display.max_rows', None)\n",
    "pd.set_option('display.max_columns', None)\n",
    "pd.set_option('display.max_colwidth', None)"
   ]
  },
  {
   "cell_type": "markdown",
   "metadata": {},
   "source": [
    "## Подготовка данных"
   ]
  },
  {
   "cell_type": "code",
   "execution_count": 2,
   "metadata": {},
   "outputs": [],
   "source": [
    "train = pd.read_csv('/datasets/gold_recovery_train_new.csv')\n",
    "test = pd.read_csv('/datasets/gold_recovery_test_new.csv')\n",
    "full = pd.read_csv('/datasets/gold_recovery_full_new.csv')"
   ]
  },
  {
   "cell_type": "code",
   "execution_count": 3,
   "metadata": {},
   "outputs": [
    {
     "data": {
      "text/html": [
       "<div>\n",
       "<style scoped>\n",
       "    .dataframe tbody tr th:only-of-type {\n",
       "        vertical-align: middle;\n",
       "    }\n",
       "\n",
       "    .dataframe tbody tr th {\n",
       "        vertical-align: top;\n",
       "    }\n",
       "\n",
       "    .dataframe thead th {\n",
       "        text-align: right;\n",
       "    }\n",
       "</style>\n",
       "<table border=\"1\" class=\"dataframe\">\n",
       "  <thead>\n",
       "    <tr style=\"text-align: right;\">\n",
       "      <th></th>\n",
       "      <th>date</th>\n",
       "      <th>final.output.concentrate_ag</th>\n",
       "      <th>final.output.concentrate_pb</th>\n",
       "      <th>final.output.concentrate_sol</th>\n",
       "      <th>final.output.concentrate_au</th>\n",
       "      <th>final.output.recovery</th>\n",
       "      <th>final.output.tail_ag</th>\n",
       "      <th>final.output.tail_pb</th>\n",
       "      <th>final.output.tail_sol</th>\n",
       "      <th>final.output.tail_au</th>\n",
       "      <th>primary_cleaner.input.sulfate</th>\n",
       "      <th>primary_cleaner.input.depressant</th>\n",
       "      <th>primary_cleaner.input.feed_size</th>\n",
       "      <th>primary_cleaner.input.xanthate</th>\n",
       "      <th>primary_cleaner.output.concentrate_ag</th>\n",
       "      <th>primary_cleaner.output.concentrate_pb</th>\n",
       "      <th>primary_cleaner.output.concentrate_sol</th>\n",
       "      <th>primary_cleaner.output.concentrate_au</th>\n",
       "      <th>primary_cleaner.output.tail_ag</th>\n",
       "      <th>primary_cleaner.output.tail_pb</th>\n",
       "      <th>primary_cleaner.output.tail_sol</th>\n",
       "      <th>primary_cleaner.output.tail_au</th>\n",
       "      <th>primary_cleaner.state.floatbank8_a_air</th>\n",
       "      <th>primary_cleaner.state.floatbank8_a_level</th>\n",
       "      <th>primary_cleaner.state.floatbank8_b_air</th>\n",
       "      <th>primary_cleaner.state.floatbank8_b_level</th>\n",
       "      <th>primary_cleaner.state.floatbank8_c_air</th>\n",
       "      <th>primary_cleaner.state.floatbank8_c_level</th>\n",
       "      <th>primary_cleaner.state.floatbank8_d_air</th>\n",
       "      <th>primary_cleaner.state.floatbank8_d_level</th>\n",
       "      <th>rougher.calculation.sulfate_to_au_concentrate</th>\n",
       "      <th>rougher.calculation.floatbank10_sulfate_to_au_feed</th>\n",
       "      <th>rougher.calculation.floatbank11_sulfate_to_au_feed</th>\n",
       "      <th>rougher.calculation.au_pb_ratio</th>\n",
       "      <th>rougher.input.feed_ag</th>\n",
       "      <th>rougher.input.feed_pb</th>\n",
       "      <th>rougher.input.feed_rate</th>\n",
       "      <th>rougher.input.feed_size</th>\n",
       "      <th>rougher.input.feed_sol</th>\n",
       "      <th>rougher.input.feed_au</th>\n",
       "      <th>rougher.input.floatbank10_sulfate</th>\n",
       "      <th>rougher.input.floatbank10_xanthate</th>\n",
       "      <th>rougher.input.floatbank11_sulfate</th>\n",
       "      <th>rougher.input.floatbank11_xanthate</th>\n",
       "      <th>rougher.output.concentrate_ag</th>\n",
       "      <th>rougher.output.concentrate_pb</th>\n",
       "      <th>rougher.output.concentrate_sol</th>\n",
       "      <th>rougher.output.concentrate_au</th>\n",
       "      <th>rougher.output.recovery</th>\n",
       "      <th>rougher.output.tail_ag</th>\n",
       "      <th>rougher.output.tail_pb</th>\n",
       "      <th>rougher.output.tail_sol</th>\n",
       "      <th>rougher.output.tail_au</th>\n",
       "      <th>rougher.state.floatbank10_a_air</th>\n",
       "      <th>rougher.state.floatbank10_a_level</th>\n",
       "      <th>rougher.state.floatbank10_b_air</th>\n",
       "      <th>rougher.state.floatbank10_b_level</th>\n",
       "      <th>rougher.state.floatbank10_c_air</th>\n",
       "      <th>rougher.state.floatbank10_c_level</th>\n",
       "      <th>rougher.state.floatbank10_d_air</th>\n",
       "      <th>rougher.state.floatbank10_d_level</th>\n",
       "      <th>rougher.state.floatbank10_e_air</th>\n",
       "      <th>rougher.state.floatbank10_e_level</th>\n",
       "      <th>rougher.state.floatbank10_f_air</th>\n",
       "      <th>rougher.state.floatbank10_f_level</th>\n",
       "      <th>secondary_cleaner.output.tail_ag</th>\n",
       "      <th>secondary_cleaner.output.tail_pb</th>\n",
       "      <th>secondary_cleaner.output.tail_sol</th>\n",
       "      <th>secondary_cleaner.output.tail_au</th>\n",
       "      <th>secondary_cleaner.state.floatbank2_a_air</th>\n",
       "      <th>secondary_cleaner.state.floatbank2_a_level</th>\n",
       "      <th>secondary_cleaner.state.floatbank2_b_air</th>\n",
       "      <th>secondary_cleaner.state.floatbank2_b_level</th>\n",
       "      <th>secondary_cleaner.state.floatbank3_a_air</th>\n",
       "      <th>secondary_cleaner.state.floatbank3_a_level</th>\n",
       "      <th>secondary_cleaner.state.floatbank3_b_air</th>\n",
       "      <th>secondary_cleaner.state.floatbank3_b_level</th>\n",
       "      <th>secondary_cleaner.state.floatbank4_a_air</th>\n",
       "      <th>secondary_cleaner.state.floatbank4_a_level</th>\n",
       "      <th>secondary_cleaner.state.floatbank4_b_air</th>\n",
       "      <th>secondary_cleaner.state.floatbank4_b_level</th>\n",
       "      <th>secondary_cleaner.state.floatbank5_a_air</th>\n",
       "      <th>secondary_cleaner.state.floatbank5_a_level</th>\n",
       "      <th>secondary_cleaner.state.floatbank5_b_air</th>\n",
       "      <th>secondary_cleaner.state.floatbank5_b_level</th>\n",
       "      <th>secondary_cleaner.state.floatbank6_a_air</th>\n",
       "      <th>secondary_cleaner.state.floatbank6_a_level</th>\n",
       "    </tr>\n",
       "  </thead>\n",
       "  <tbody>\n",
       "    <tr>\n",
       "      <th>0</th>\n",
       "      <td>2016-01-15 00:00:00</td>\n",
       "      <td>6.055403</td>\n",
       "      <td>9.889648</td>\n",
       "      <td>5.507324</td>\n",
       "      <td>42.192020</td>\n",
       "      <td>70.541216</td>\n",
       "      <td>10.411962</td>\n",
       "      <td>0.895447</td>\n",
       "      <td>16.904297</td>\n",
       "      <td>2.143149</td>\n",
       "      <td>127.092003</td>\n",
       "      <td>10.128295</td>\n",
       "      <td>7.25</td>\n",
       "      <td>0.988759</td>\n",
       "      <td>8.547551</td>\n",
       "      <td>10.389648</td>\n",
       "      <td>19.529297</td>\n",
       "      <td>34.174427</td>\n",
       "      <td>14.936526</td>\n",
       "      <td>2.534912</td>\n",
       "      <td>7.476074</td>\n",
       "      <td>2.106679</td>\n",
       "      <td>1549.775757</td>\n",
       "      <td>-498.912140</td>\n",
       "      <td>1551.434204</td>\n",
       "      <td>-516.403442</td>\n",
       "      <td>1549.873901</td>\n",
       "      <td>-498.666595</td>\n",
       "      <td>1554.367432</td>\n",
       "      <td>-493.428131</td>\n",
       "      <td>41885.707031</td>\n",
       "      <td>3481.779053</td>\n",
       "      <td>3520.337158</td>\n",
       "      <td>2.838687</td>\n",
       "      <td>6.100378</td>\n",
       "      <td>2.284912</td>\n",
       "      <td>523.546326</td>\n",
       "      <td>55.486599</td>\n",
       "      <td>36.808594</td>\n",
       "      <td>6.486150</td>\n",
       "      <td>11.986616</td>\n",
       "      <td>6.007990</td>\n",
       "      <td>11.836743</td>\n",
       "      <td>6.005818</td>\n",
       "      <td>11.500771</td>\n",
       "      <td>7.101074</td>\n",
       "      <td>28.029297</td>\n",
       "      <td>19.793808</td>\n",
       "      <td>87.107763</td>\n",
       "      <td>5.008018</td>\n",
       "      <td>0.508728</td>\n",
       "      <td>19.154297</td>\n",
       "      <td>1.170244</td>\n",
       "      <td>999.706909</td>\n",
       "      <td>-404.066986</td>\n",
       "      <td>1603.011353</td>\n",
       "      <td>-434.715027</td>\n",
       "      <td>1602.375000</td>\n",
       "      <td>-442.204468</td>\n",
       "      <td>1598.937256</td>\n",
       "      <td>-451.294128</td>\n",
       "      <td>1404.472046</td>\n",
       "      <td>-455.462982</td>\n",
       "      <td>1416.354980</td>\n",
       "      <td>-451.939636</td>\n",
       "      <td>14.500184</td>\n",
       "      <td>4.694824</td>\n",
       "      <td>8.764648</td>\n",
       "      <td>2.606185</td>\n",
       "      <td>25.853109</td>\n",
       "      <td>-498.526489</td>\n",
       "      <td>23.893660</td>\n",
       "      <td>-501.406281</td>\n",
       "      <td>23.961798</td>\n",
       "      <td>-495.262817</td>\n",
       "      <td>21.940409</td>\n",
       "      <td>-499.340973</td>\n",
       "      <td>14.016835</td>\n",
       "      <td>-502.488007</td>\n",
       "      <td>12.099931</td>\n",
       "      <td>-504.715942</td>\n",
       "      <td>9.925633</td>\n",
       "      <td>-498.310211</td>\n",
       "      <td>8.079666</td>\n",
       "      <td>-500.470978</td>\n",
       "      <td>14.151341</td>\n",
       "      <td>-605.841980</td>\n",
       "    </tr>\n",
       "    <tr>\n",
       "      <th>1</th>\n",
       "      <td>2016-01-15 01:00:00</td>\n",
       "      <td>6.029369</td>\n",
       "      <td>9.968944</td>\n",
       "      <td>5.257781</td>\n",
       "      <td>42.701629</td>\n",
       "      <td>69.266198</td>\n",
       "      <td>10.462676</td>\n",
       "      <td>0.927452</td>\n",
       "      <td>16.634514</td>\n",
       "      <td>2.224930</td>\n",
       "      <td>125.629232</td>\n",
       "      <td>10.296251</td>\n",
       "      <td>7.25</td>\n",
       "      <td>1.002663</td>\n",
       "      <td>8.558743</td>\n",
       "      <td>10.497069</td>\n",
       "      <td>19.369147</td>\n",
       "      <td>34.118526</td>\n",
       "      <td>16.250511</td>\n",
       "      <td>3.049646</td>\n",
       "      <td>6.733907</td>\n",
       "      <td>2.353017</td>\n",
       "      <td>1576.166671</td>\n",
       "      <td>-500.904965</td>\n",
       "      <td>1575.950626</td>\n",
       "      <td>-499.865889</td>\n",
       "      <td>1575.994189</td>\n",
       "      <td>-499.315107</td>\n",
       "      <td>1574.479259</td>\n",
       "      <td>-498.931665</td>\n",
       "      <td>42050.861809</td>\n",
       "      <td>3498.370979</td>\n",
       "      <td>3489.981857</td>\n",
       "      <td>2.858998</td>\n",
       "      <td>6.161113</td>\n",
       "      <td>2.266033</td>\n",
       "      <td>525.290581</td>\n",
       "      <td>57.278666</td>\n",
       "      <td>35.753385</td>\n",
       "      <td>6.478583</td>\n",
       "      <td>11.971193</td>\n",
       "      <td>6.005766</td>\n",
       "      <td>11.996163</td>\n",
       "      <td>6.012594</td>\n",
       "      <td>11.615865</td>\n",
       "      <td>7.278807</td>\n",
       "      <td>28.067063</td>\n",
       "      <td>20.050975</td>\n",
       "      <td>86.843261</td>\n",
       "      <td>4.955378</td>\n",
       "      <td>0.536689</td>\n",
       "      <td>18.965234</td>\n",
       "      <td>1.184827</td>\n",
       "      <td>1000.286398</td>\n",
       "      <td>-400.065196</td>\n",
       "      <td>1600.754587</td>\n",
       "      <td>-449.953435</td>\n",
       "      <td>1600.479580</td>\n",
       "      <td>-449.830646</td>\n",
       "      <td>1600.527589</td>\n",
       "      <td>-449.953649</td>\n",
       "      <td>1399.227084</td>\n",
       "      <td>-450.869848</td>\n",
       "      <td>1399.719514</td>\n",
       "      <td>-450.119001</td>\n",
       "      <td>14.265474</td>\n",
       "      <td>4.592547</td>\n",
       "      <td>9.001494</td>\n",
       "      <td>2.488248</td>\n",
       "      <td>25.880539</td>\n",
       "      <td>-499.989656</td>\n",
       "      <td>23.889530</td>\n",
       "      <td>-500.372428</td>\n",
       "      <td>23.970550</td>\n",
       "      <td>-500.085473</td>\n",
       "      <td>22.085714</td>\n",
       "      <td>-499.446897</td>\n",
       "      <td>13.992281</td>\n",
       "      <td>-505.503262</td>\n",
       "      <td>11.950531</td>\n",
       "      <td>-501.331529</td>\n",
       "      <td>10.039245</td>\n",
       "      <td>-500.169983</td>\n",
       "      <td>7.984757</td>\n",
       "      <td>-500.582168</td>\n",
       "      <td>13.998353</td>\n",
       "      <td>-599.787184</td>\n",
       "    </tr>\n",
       "    <tr>\n",
       "      <th>2</th>\n",
       "      <td>2016-01-15 02:00:00</td>\n",
       "      <td>6.055926</td>\n",
       "      <td>10.213995</td>\n",
       "      <td>5.383759</td>\n",
       "      <td>42.657501</td>\n",
       "      <td>68.116445</td>\n",
       "      <td>10.507046</td>\n",
       "      <td>0.953716</td>\n",
       "      <td>16.208849</td>\n",
       "      <td>2.257889</td>\n",
       "      <td>123.819808</td>\n",
       "      <td>11.316280</td>\n",
       "      <td>7.25</td>\n",
       "      <td>0.991265</td>\n",
       "      <td>8.603505</td>\n",
       "      <td>10.354494</td>\n",
       "      <td>19.167579</td>\n",
       "      <td>33.969464</td>\n",
       "      <td>16.491823</td>\n",
       "      <td>3.124664</td>\n",
       "      <td>6.471768</td>\n",
       "      <td>2.416800</td>\n",
       "      <td>1601.556163</td>\n",
       "      <td>-499.997791</td>\n",
       "      <td>1600.386685</td>\n",
       "      <td>-500.607762</td>\n",
       "      <td>1602.003542</td>\n",
       "      <td>-500.870069</td>\n",
       "      <td>1599.541515</td>\n",
       "      <td>-499.827444</td>\n",
       "      <td>42018.101184</td>\n",
       "      <td>3495.348910</td>\n",
       "      <td>3502.359819</td>\n",
       "      <td>2.945989</td>\n",
       "      <td>6.116455</td>\n",
       "      <td>2.159622</td>\n",
       "      <td>530.026610</td>\n",
       "      <td>57.510649</td>\n",
       "      <td>35.971630</td>\n",
       "      <td>6.362222</td>\n",
       "      <td>11.920603</td>\n",
       "      <td>6.197377</td>\n",
       "      <td>11.920305</td>\n",
       "      <td>6.204633</td>\n",
       "      <td>11.695753</td>\n",
       "      <td>7.216833</td>\n",
       "      <td>27.454037</td>\n",
       "      <td>19.737170</td>\n",
       "      <td>86.842308</td>\n",
       "      <td>4.843460</td>\n",
       "      <td>0.546416</td>\n",
       "      <td>18.808533</td>\n",
       "      <td>1.162562</td>\n",
       "      <td>999.719565</td>\n",
       "      <td>-400.074028</td>\n",
       "      <td>1599.337330</td>\n",
       "      <td>-450.008530</td>\n",
       "      <td>1599.672797</td>\n",
       "      <td>-449.954491</td>\n",
       "      <td>1599.849325</td>\n",
       "      <td>-449.954185</td>\n",
       "      <td>1399.180945</td>\n",
       "      <td>-449.937588</td>\n",
       "      <td>1400.316682</td>\n",
       "      <td>-450.527147</td>\n",
       "      <td>14.115662</td>\n",
       "      <td>4.624775</td>\n",
       "      <td>8.842896</td>\n",
       "      <td>2.458187</td>\n",
       "      <td>26.005245</td>\n",
       "      <td>-499.929616</td>\n",
       "      <td>23.886657</td>\n",
       "      <td>-499.951928</td>\n",
       "      <td>23.913535</td>\n",
       "      <td>-499.442343</td>\n",
       "      <td>23.957717</td>\n",
       "      <td>-499.901982</td>\n",
       "      <td>14.015015</td>\n",
       "      <td>-502.520901</td>\n",
       "      <td>11.912783</td>\n",
       "      <td>-501.133383</td>\n",
       "      <td>10.070913</td>\n",
       "      <td>-500.129135</td>\n",
       "      <td>8.013877</td>\n",
       "      <td>-500.517572</td>\n",
       "      <td>14.028663</td>\n",
       "      <td>-601.427363</td>\n",
       "    </tr>\n",
       "    <tr>\n",
       "      <th>3</th>\n",
       "      <td>2016-01-15 03:00:00</td>\n",
       "      <td>6.047977</td>\n",
       "      <td>9.977019</td>\n",
       "      <td>4.858634</td>\n",
       "      <td>42.689819</td>\n",
       "      <td>68.347543</td>\n",
       "      <td>10.422762</td>\n",
       "      <td>0.883763</td>\n",
       "      <td>16.532835</td>\n",
       "      <td>2.146849</td>\n",
       "      <td>122.270188</td>\n",
       "      <td>11.322140</td>\n",
       "      <td>7.25</td>\n",
       "      <td>0.996739</td>\n",
       "      <td>7.221879</td>\n",
       "      <td>8.496563</td>\n",
       "      <td>15.978538</td>\n",
       "      <td>28.260743</td>\n",
       "      <td>16.024359</td>\n",
       "      <td>2.960362</td>\n",
       "      <td>6.843791</td>\n",
       "      <td>2.262051</td>\n",
       "      <td>1599.968720</td>\n",
       "      <td>-500.951778</td>\n",
       "      <td>1600.659236</td>\n",
       "      <td>-499.677094</td>\n",
       "      <td>1600.304144</td>\n",
       "      <td>-500.727997</td>\n",
       "      <td>1600.449520</td>\n",
       "      <td>-500.052575</td>\n",
       "      <td>42029.447991</td>\n",
       "      <td>3498.578313</td>\n",
       "      <td>3499.162912</td>\n",
       "      <td>3.002340</td>\n",
       "      <td>6.043309</td>\n",
       "      <td>2.037807</td>\n",
       "      <td>542.590390</td>\n",
       "      <td>57.792734</td>\n",
       "      <td>36.862241</td>\n",
       "      <td>6.118189</td>\n",
       "      <td>11.630094</td>\n",
       "      <td>6.203177</td>\n",
       "      <td>11.692450</td>\n",
       "      <td>6.196578</td>\n",
       "      <td>11.915047</td>\n",
       "      <td>7.175616</td>\n",
       "      <td>27.341277</td>\n",
       "      <td>19.320810</td>\n",
       "      <td>87.226430</td>\n",
       "      <td>4.655288</td>\n",
       "      <td>0.542525</td>\n",
       "      <td>19.330200</td>\n",
       "      <td>1.079755</td>\n",
       "      <td>999.814770</td>\n",
       "      <td>-400.200179</td>\n",
       "      <td>1600.059442</td>\n",
       "      <td>-450.619948</td>\n",
       "      <td>1600.012842</td>\n",
       "      <td>-449.910497</td>\n",
       "      <td>1597.725177</td>\n",
       "      <td>-450.130127</td>\n",
       "      <td>1400.943157</td>\n",
       "      <td>-450.030142</td>\n",
       "      <td>1400.234743</td>\n",
       "      <td>-449.790835</td>\n",
       "      <td>13.732071</td>\n",
       "      <td>4.482453</td>\n",
       "      <td>9.122857</td>\n",
       "      <td>2.322062</td>\n",
       "      <td>25.942508</td>\n",
       "      <td>-499.176749</td>\n",
       "      <td>23.955516</td>\n",
       "      <td>-499.848796</td>\n",
       "      <td>23.966838</td>\n",
       "      <td>-500.008812</td>\n",
       "      <td>23.954443</td>\n",
       "      <td>-499.944710</td>\n",
       "      <td>14.036510</td>\n",
       "      <td>-500.857308</td>\n",
       "      <td>11.999550</td>\n",
       "      <td>-501.193686</td>\n",
       "      <td>9.970366</td>\n",
       "      <td>-499.201640</td>\n",
       "      <td>7.977324</td>\n",
       "      <td>-500.255908</td>\n",
       "      <td>14.005551</td>\n",
       "      <td>-599.996129</td>\n",
       "    </tr>\n",
       "    <tr>\n",
       "      <th>4</th>\n",
       "      <td>2016-01-15 04:00:00</td>\n",
       "      <td>6.148599</td>\n",
       "      <td>10.142511</td>\n",
       "      <td>4.939416</td>\n",
       "      <td>42.774141</td>\n",
       "      <td>66.927016</td>\n",
       "      <td>10.360302</td>\n",
       "      <td>0.792826</td>\n",
       "      <td>16.525686</td>\n",
       "      <td>2.055292</td>\n",
       "      <td>117.988169</td>\n",
       "      <td>11.913613</td>\n",
       "      <td>7.25</td>\n",
       "      <td>1.009869</td>\n",
       "      <td>9.089428</td>\n",
       "      <td>9.986786</td>\n",
       "      <td>19.199864</td>\n",
       "      <td>33.044932</td>\n",
       "      <td>16.480185</td>\n",
       "      <td>3.112100</td>\n",
       "      <td>6.550154</td>\n",
       "      <td>2.277073</td>\n",
       "      <td>1601.339707</td>\n",
       "      <td>-498.975456</td>\n",
       "      <td>1601.437854</td>\n",
       "      <td>-500.323246</td>\n",
       "      <td>1599.581894</td>\n",
       "      <td>-500.888152</td>\n",
       "      <td>1602.649541</td>\n",
       "      <td>-500.593010</td>\n",
       "      <td>42125.354245</td>\n",
       "      <td>3494.800771</td>\n",
       "      <td>3506.679315</td>\n",
       "      <td>3.169615</td>\n",
       "      <td>6.060915</td>\n",
       "      <td>1.786875</td>\n",
       "      <td>540.531893</td>\n",
       "      <td>56.047189</td>\n",
       "      <td>34.347666</td>\n",
       "      <td>5.663707</td>\n",
       "      <td>10.957755</td>\n",
       "      <td>6.198826</td>\n",
       "      <td>10.960521</td>\n",
       "      <td>6.194897</td>\n",
       "      <td>12.411054</td>\n",
       "      <td>7.240205</td>\n",
       "      <td>27.041023</td>\n",
       "      <td>19.216101</td>\n",
       "      <td>86.688794</td>\n",
       "      <td>4.552800</td>\n",
       "      <td>0.515438</td>\n",
       "      <td>19.267422</td>\n",
       "      <td>1.012642</td>\n",
       "      <td>999.678690</td>\n",
       "      <td>-399.752729</td>\n",
       "      <td>1600.208824</td>\n",
       "      <td>-449.599614</td>\n",
       "      <td>1600.357732</td>\n",
       "      <td>-450.034364</td>\n",
       "      <td>1599.759049</td>\n",
       "      <td>-449.909799</td>\n",
       "      <td>1401.560902</td>\n",
       "      <td>-448.877187</td>\n",
       "      <td>1401.160227</td>\n",
       "      <td>-450.407128</td>\n",
       "      <td>14.079996</td>\n",
       "      <td>4.470737</td>\n",
       "      <td>8.871028</td>\n",
       "      <td>2.330448</td>\n",
       "      <td>26.024787</td>\n",
       "      <td>-500.279091</td>\n",
       "      <td>23.955345</td>\n",
       "      <td>-500.593614</td>\n",
       "      <td>23.985703</td>\n",
       "      <td>-500.083811</td>\n",
       "      <td>23.958945</td>\n",
       "      <td>-499.990309</td>\n",
       "      <td>14.027298</td>\n",
       "      <td>-499.838632</td>\n",
       "      <td>11.953070</td>\n",
       "      <td>-501.053894</td>\n",
       "      <td>9.925709</td>\n",
       "      <td>-501.686727</td>\n",
       "      <td>7.894242</td>\n",
       "      <td>-500.356035</td>\n",
       "      <td>13.996647</td>\n",
       "      <td>-601.496691</td>\n",
       "    </tr>\n",
       "  </tbody>\n",
       "</table>\n",
       "</div>"
      ],
      "text/plain": [
       "                  date  final.output.concentrate_ag  \\\n",
       "0  2016-01-15 00:00:00                     6.055403   \n",
       "1  2016-01-15 01:00:00                     6.029369   \n",
       "2  2016-01-15 02:00:00                     6.055926   \n",
       "3  2016-01-15 03:00:00                     6.047977   \n",
       "4  2016-01-15 04:00:00                     6.148599   \n",
       "\n",
       "   final.output.concentrate_pb  final.output.concentrate_sol  \\\n",
       "0                     9.889648                      5.507324   \n",
       "1                     9.968944                      5.257781   \n",
       "2                    10.213995                      5.383759   \n",
       "3                     9.977019                      4.858634   \n",
       "4                    10.142511                      4.939416   \n",
       "\n",
       "   final.output.concentrate_au  final.output.recovery  final.output.tail_ag  \\\n",
       "0                    42.192020              70.541216             10.411962   \n",
       "1                    42.701629              69.266198             10.462676   \n",
       "2                    42.657501              68.116445             10.507046   \n",
       "3                    42.689819              68.347543             10.422762   \n",
       "4                    42.774141              66.927016             10.360302   \n",
       "\n",
       "   final.output.tail_pb  final.output.tail_sol  final.output.tail_au  \\\n",
       "0              0.895447              16.904297              2.143149   \n",
       "1              0.927452              16.634514              2.224930   \n",
       "2              0.953716              16.208849              2.257889   \n",
       "3              0.883763              16.532835              2.146849   \n",
       "4              0.792826              16.525686              2.055292   \n",
       "\n",
       "   primary_cleaner.input.sulfate  primary_cleaner.input.depressant  \\\n",
       "0                     127.092003                         10.128295   \n",
       "1                     125.629232                         10.296251   \n",
       "2                     123.819808                         11.316280   \n",
       "3                     122.270188                         11.322140   \n",
       "4                     117.988169                         11.913613   \n",
       "\n",
       "   primary_cleaner.input.feed_size  primary_cleaner.input.xanthate  \\\n",
       "0                             7.25                        0.988759   \n",
       "1                             7.25                        1.002663   \n",
       "2                             7.25                        0.991265   \n",
       "3                             7.25                        0.996739   \n",
       "4                             7.25                        1.009869   \n",
       "\n",
       "   primary_cleaner.output.concentrate_ag  \\\n",
       "0                               8.547551   \n",
       "1                               8.558743   \n",
       "2                               8.603505   \n",
       "3                               7.221879   \n",
       "4                               9.089428   \n",
       "\n",
       "   primary_cleaner.output.concentrate_pb  \\\n",
       "0                              10.389648   \n",
       "1                              10.497069   \n",
       "2                              10.354494   \n",
       "3                               8.496563   \n",
       "4                               9.986786   \n",
       "\n",
       "   primary_cleaner.output.concentrate_sol  \\\n",
       "0                               19.529297   \n",
       "1                               19.369147   \n",
       "2                               19.167579   \n",
       "3                               15.978538   \n",
       "4                               19.199864   \n",
       "\n",
       "   primary_cleaner.output.concentrate_au  primary_cleaner.output.tail_ag  \\\n",
       "0                              34.174427                       14.936526   \n",
       "1                              34.118526                       16.250511   \n",
       "2                              33.969464                       16.491823   \n",
       "3                              28.260743                       16.024359   \n",
       "4                              33.044932                       16.480185   \n",
       "\n",
       "   primary_cleaner.output.tail_pb  primary_cleaner.output.tail_sol  \\\n",
       "0                        2.534912                         7.476074   \n",
       "1                        3.049646                         6.733907   \n",
       "2                        3.124664                         6.471768   \n",
       "3                        2.960362                         6.843791   \n",
       "4                        3.112100                         6.550154   \n",
       "\n",
       "   primary_cleaner.output.tail_au  primary_cleaner.state.floatbank8_a_air  \\\n",
       "0                        2.106679                             1549.775757   \n",
       "1                        2.353017                             1576.166671   \n",
       "2                        2.416800                             1601.556163   \n",
       "3                        2.262051                             1599.968720   \n",
       "4                        2.277073                             1601.339707   \n",
       "\n",
       "   primary_cleaner.state.floatbank8_a_level  \\\n",
       "0                               -498.912140   \n",
       "1                               -500.904965   \n",
       "2                               -499.997791   \n",
       "3                               -500.951778   \n",
       "4                               -498.975456   \n",
       "\n",
       "   primary_cleaner.state.floatbank8_b_air  \\\n",
       "0                             1551.434204   \n",
       "1                             1575.950626   \n",
       "2                             1600.386685   \n",
       "3                             1600.659236   \n",
       "4                             1601.437854   \n",
       "\n",
       "   primary_cleaner.state.floatbank8_b_level  \\\n",
       "0                               -516.403442   \n",
       "1                               -499.865889   \n",
       "2                               -500.607762   \n",
       "3                               -499.677094   \n",
       "4                               -500.323246   \n",
       "\n",
       "   primary_cleaner.state.floatbank8_c_air  \\\n",
       "0                             1549.873901   \n",
       "1                             1575.994189   \n",
       "2                             1602.003542   \n",
       "3                             1600.304144   \n",
       "4                             1599.581894   \n",
       "\n",
       "   primary_cleaner.state.floatbank8_c_level  \\\n",
       "0                               -498.666595   \n",
       "1                               -499.315107   \n",
       "2                               -500.870069   \n",
       "3                               -500.727997   \n",
       "4                               -500.888152   \n",
       "\n",
       "   primary_cleaner.state.floatbank8_d_air  \\\n",
       "0                             1554.367432   \n",
       "1                             1574.479259   \n",
       "2                             1599.541515   \n",
       "3                             1600.449520   \n",
       "4                             1602.649541   \n",
       "\n",
       "   primary_cleaner.state.floatbank8_d_level  \\\n",
       "0                               -493.428131   \n",
       "1                               -498.931665   \n",
       "2                               -499.827444   \n",
       "3                               -500.052575   \n",
       "4                               -500.593010   \n",
       "\n",
       "   rougher.calculation.sulfate_to_au_concentrate  \\\n",
       "0                                   41885.707031   \n",
       "1                                   42050.861809   \n",
       "2                                   42018.101184   \n",
       "3                                   42029.447991   \n",
       "4                                   42125.354245   \n",
       "\n",
       "   rougher.calculation.floatbank10_sulfate_to_au_feed  \\\n",
       "0                                         3481.779053   \n",
       "1                                         3498.370979   \n",
       "2                                         3495.348910   \n",
       "3                                         3498.578313   \n",
       "4                                         3494.800771   \n",
       "\n",
       "   rougher.calculation.floatbank11_sulfate_to_au_feed  \\\n",
       "0                                         3520.337158   \n",
       "1                                         3489.981857   \n",
       "2                                         3502.359819   \n",
       "3                                         3499.162912   \n",
       "4                                         3506.679315   \n",
       "\n",
       "   rougher.calculation.au_pb_ratio  rougher.input.feed_ag  \\\n",
       "0                         2.838687               6.100378   \n",
       "1                         2.858998               6.161113   \n",
       "2                         2.945989               6.116455   \n",
       "3                         3.002340               6.043309   \n",
       "4                         3.169615               6.060915   \n",
       "\n",
       "   rougher.input.feed_pb  rougher.input.feed_rate  rougher.input.feed_size  \\\n",
       "0               2.284912               523.546326                55.486599   \n",
       "1               2.266033               525.290581                57.278666   \n",
       "2               2.159622               530.026610                57.510649   \n",
       "3               2.037807               542.590390                57.792734   \n",
       "4               1.786875               540.531893                56.047189   \n",
       "\n",
       "   rougher.input.feed_sol  rougher.input.feed_au  \\\n",
       "0               36.808594               6.486150   \n",
       "1               35.753385               6.478583   \n",
       "2               35.971630               6.362222   \n",
       "3               36.862241               6.118189   \n",
       "4               34.347666               5.663707   \n",
       "\n",
       "   rougher.input.floatbank10_sulfate  rougher.input.floatbank10_xanthate  \\\n",
       "0                          11.986616                            6.007990   \n",
       "1                          11.971193                            6.005766   \n",
       "2                          11.920603                            6.197377   \n",
       "3                          11.630094                            6.203177   \n",
       "4                          10.957755                            6.198826   \n",
       "\n",
       "   rougher.input.floatbank11_sulfate  rougher.input.floatbank11_xanthate  \\\n",
       "0                          11.836743                            6.005818   \n",
       "1                          11.996163                            6.012594   \n",
       "2                          11.920305                            6.204633   \n",
       "3                          11.692450                            6.196578   \n",
       "4                          10.960521                            6.194897   \n",
       "\n",
       "   rougher.output.concentrate_ag  rougher.output.concentrate_pb  \\\n",
       "0                      11.500771                       7.101074   \n",
       "1                      11.615865                       7.278807   \n",
       "2                      11.695753                       7.216833   \n",
       "3                      11.915047                       7.175616   \n",
       "4                      12.411054                       7.240205   \n",
       "\n",
       "   rougher.output.concentrate_sol  rougher.output.concentrate_au  \\\n",
       "0                       28.029297                      19.793808   \n",
       "1                       28.067063                      20.050975   \n",
       "2                       27.454037                      19.737170   \n",
       "3                       27.341277                      19.320810   \n",
       "4                       27.041023                      19.216101   \n",
       "\n",
       "   rougher.output.recovery  rougher.output.tail_ag  rougher.output.tail_pb  \\\n",
       "0                87.107763                5.008018                0.508728   \n",
       "1                86.843261                4.955378                0.536689   \n",
       "2                86.842308                4.843460                0.546416   \n",
       "3                87.226430                4.655288                0.542525   \n",
       "4                86.688794                4.552800                0.515438   \n",
       "\n",
       "   rougher.output.tail_sol  rougher.output.tail_au  \\\n",
       "0                19.154297                1.170244   \n",
       "1                18.965234                1.184827   \n",
       "2                18.808533                1.162562   \n",
       "3                19.330200                1.079755   \n",
       "4                19.267422                1.012642   \n",
       "\n",
       "   rougher.state.floatbank10_a_air  rougher.state.floatbank10_a_level  \\\n",
       "0                       999.706909                        -404.066986   \n",
       "1                      1000.286398                        -400.065196   \n",
       "2                       999.719565                        -400.074028   \n",
       "3                       999.814770                        -400.200179   \n",
       "4                       999.678690                        -399.752729   \n",
       "\n",
       "   rougher.state.floatbank10_b_air  rougher.state.floatbank10_b_level  \\\n",
       "0                      1603.011353                        -434.715027   \n",
       "1                      1600.754587                        -449.953435   \n",
       "2                      1599.337330                        -450.008530   \n",
       "3                      1600.059442                        -450.619948   \n",
       "4                      1600.208824                        -449.599614   \n",
       "\n",
       "   rougher.state.floatbank10_c_air  rougher.state.floatbank10_c_level  \\\n",
       "0                      1602.375000                        -442.204468   \n",
       "1                      1600.479580                        -449.830646   \n",
       "2                      1599.672797                        -449.954491   \n",
       "3                      1600.012842                        -449.910497   \n",
       "4                      1600.357732                        -450.034364   \n",
       "\n",
       "   rougher.state.floatbank10_d_air  rougher.state.floatbank10_d_level  \\\n",
       "0                      1598.937256                        -451.294128   \n",
       "1                      1600.527589                        -449.953649   \n",
       "2                      1599.849325                        -449.954185   \n",
       "3                      1597.725177                        -450.130127   \n",
       "4                      1599.759049                        -449.909799   \n",
       "\n",
       "   rougher.state.floatbank10_e_air  rougher.state.floatbank10_e_level  \\\n",
       "0                      1404.472046                        -455.462982   \n",
       "1                      1399.227084                        -450.869848   \n",
       "2                      1399.180945                        -449.937588   \n",
       "3                      1400.943157                        -450.030142   \n",
       "4                      1401.560902                        -448.877187   \n",
       "\n",
       "   rougher.state.floatbank10_f_air  rougher.state.floatbank10_f_level  \\\n",
       "0                      1416.354980                        -451.939636   \n",
       "1                      1399.719514                        -450.119001   \n",
       "2                      1400.316682                        -450.527147   \n",
       "3                      1400.234743                        -449.790835   \n",
       "4                      1401.160227                        -450.407128   \n",
       "\n",
       "   secondary_cleaner.output.tail_ag  secondary_cleaner.output.tail_pb  \\\n",
       "0                         14.500184                          4.694824   \n",
       "1                         14.265474                          4.592547   \n",
       "2                         14.115662                          4.624775   \n",
       "3                         13.732071                          4.482453   \n",
       "4                         14.079996                          4.470737   \n",
       "\n",
       "   secondary_cleaner.output.tail_sol  secondary_cleaner.output.tail_au  \\\n",
       "0                           8.764648                          2.606185   \n",
       "1                           9.001494                          2.488248   \n",
       "2                           8.842896                          2.458187   \n",
       "3                           9.122857                          2.322062   \n",
       "4                           8.871028                          2.330448   \n",
       "\n",
       "   secondary_cleaner.state.floatbank2_a_air  \\\n",
       "0                                 25.853109   \n",
       "1                                 25.880539   \n",
       "2                                 26.005245   \n",
       "3                                 25.942508   \n",
       "4                                 26.024787   \n",
       "\n",
       "   secondary_cleaner.state.floatbank2_a_level  \\\n",
       "0                                 -498.526489   \n",
       "1                                 -499.989656   \n",
       "2                                 -499.929616   \n",
       "3                                 -499.176749   \n",
       "4                                 -500.279091   \n",
       "\n",
       "   secondary_cleaner.state.floatbank2_b_air  \\\n",
       "0                                 23.893660   \n",
       "1                                 23.889530   \n",
       "2                                 23.886657   \n",
       "3                                 23.955516   \n",
       "4                                 23.955345   \n",
       "\n",
       "   secondary_cleaner.state.floatbank2_b_level  \\\n",
       "0                                 -501.406281   \n",
       "1                                 -500.372428   \n",
       "2                                 -499.951928   \n",
       "3                                 -499.848796   \n",
       "4                                 -500.593614   \n",
       "\n",
       "   secondary_cleaner.state.floatbank3_a_air  \\\n",
       "0                                 23.961798   \n",
       "1                                 23.970550   \n",
       "2                                 23.913535   \n",
       "3                                 23.966838   \n",
       "4                                 23.985703   \n",
       "\n",
       "   secondary_cleaner.state.floatbank3_a_level  \\\n",
       "0                                 -495.262817   \n",
       "1                                 -500.085473   \n",
       "2                                 -499.442343   \n",
       "3                                 -500.008812   \n",
       "4                                 -500.083811   \n",
       "\n",
       "   secondary_cleaner.state.floatbank3_b_air  \\\n",
       "0                                 21.940409   \n",
       "1                                 22.085714   \n",
       "2                                 23.957717   \n",
       "3                                 23.954443   \n",
       "4                                 23.958945   \n",
       "\n",
       "   secondary_cleaner.state.floatbank3_b_level  \\\n",
       "0                                 -499.340973   \n",
       "1                                 -499.446897   \n",
       "2                                 -499.901982   \n",
       "3                                 -499.944710   \n",
       "4                                 -499.990309   \n",
       "\n",
       "   secondary_cleaner.state.floatbank4_a_air  \\\n",
       "0                                 14.016835   \n",
       "1                                 13.992281   \n",
       "2                                 14.015015   \n",
       "3                                 14.036510   \n",
       "4                                 14.027298   \n",
       "\n",
       "   secondary_cleaner.state.floatbank4_a_level  \\\n",
       "0                                 -502.488007   \n",
       "1                                 -505.503262   \n",
       "2                                 -502.520901   \n",
       "3                                 -500.857308   \n",
       "4                                 -499.838632   \n",
       "\n",
       "   secondary_cleaner.state.floatbank4_b_air  \\\n",
       "0                                 12.099931   \n",
       "1                                 11.950531   \n",
       "2                                 11.912783   \n",
       "3                                 11.999550   \n",
       "4                                 11.953070   \n",
       "\n",
       "   secondary_cleaner.state.floatbank4_b_level  \\\n",
       "0                                 -504.715942   \n",
       "1                                 -501.331529   \n",
       "2                                 -501.133383   \n",
       "3                                 -501.193686   \n",
       "4                                 -501.053894   \n",
       "\n",
       "   secondary_cleaner.state.floatbank5_a_air  \\\n",
       "0                                  9.925633   \n",
       "1                                 10.039245   \n",
       "2                                 10.070913   \n",
       "3                                  9.970366   \n",
       "4                                  9.925709   \n",
       "\n",
       "   secondary_cleaner.state.floatbank5_a_level  \\\n",
       "0                                 -498.310211   \n",
       "1                                 -500.169983   \n",
       "2                                 -500.129135   \n",
       "3                                 -499.201640   \n",
       "4                                 -501.686727   \n",
       "\n",
       "   secondary_cleaner.state.floatbank5_b_air  \\\n",
       "0                                  8.079666   \n",
       "1                                  7.984757   \n",
       "2                                  8.013877   \n",
       "3                                  7.977324   \n",
       "4                                  7.894242   \n",
       "\n",
       "   secondary_cleaner.state.floatbank5_b_level  \\\n",
       "0                                 -500.470978   \n",
       "1                                 -500.582168   \n",
       "2                                 -500.517572   \n",
       "3                                 -500.255908   \n",
       "4                                 -500.356035   \n",
       "\n",
       "   secondary_cleaner.state.floatbank6_a_air  \\\n",
       "0                                 14.151341   \n",
       "1                                 13.998353   \n",
       "2                                 14.028663   \n",
       "3                                 14.005551   \n",
       "4                                 13.996647   \n",
       "\n",
       "   secondary_cleaner.state.floatbank6_a_level  \n",
       "0                                 -605.841980  \n",
       "1                                 -599.787184  \n",
       "2                                 -601.427363  \n",
       "3                                 -599.996129  \n",
       "4                                 -601.496691  "
      ]
     },
     "metadata": {},
     "output_type": "display_data"
    },
    {
     "name": "stdout",
     "output_type": "stream",
     "text": [
      "<class 'pandas.core.frame.DataFrame'>\n",
      "RangeIndex: 14149 entries, 0 to 14148\n",
      "Data columns (total 87 columns):\n",
      " #   Column                                              Non-Null Count  Dtype  \n",
      "---  ------                                              --------------  -----  \n",
      " 0   date                                                14149 non-null  object \n",
      " 1   final.output.concentrate_ag                         14148 non-null  float64\n",
      " 2   final.output.concentrate_pb                         14148 non-null  float64\n",
      " 3   final.output.concentrate_sol                        13938 non-null  float64\n",
      " 4   final.output.concentrate_au                         14149 non-null  float64\n",
      " 5   final.output.recovery                               14149 non-null  float64\n",
      " 6   final.output.tail_ag                                14149 non-null  float64\n",
      " 7   final.output.tail_pb                                14049 non-null  float64\n",
      " 8   final.output.tail_sol                               14144 non-null  float64\n",
      " 9   final.output.tail_au                                14149 non-null  float64\n",
      " 10  primary_cleaner.input.sulfate                       14129 non-null  float64\n",
      " 11  primary_cleaner.input.depressant                    14117 non-null  float64\n",
      " 12  primary_cleaner.input.feed_size                     14149 non-null  float64\n",
      " 13  primary_cleaner.input.xanthate                      14049 non-null  float64\n",
      " 14  primary_cleaner.output.concentrate_ag               14149 non-null  float64\n",
      " 15  primary_cleaner.output.concentrate_pb               14063 non-null  float64\n",
      " 16  primary_cleaner.output.concentrate_sol              13863 non-null  float64\n",
      " 17  primary_cleaner.output.concentrate_au               14149 non-null  float64\n",
      " 18  primary_cleaner.output.tail_ag                      14148 non-null  float64\n",
      " 19  primary_cleaner.output.tail_pb                      14134 non-null  float64\n",
      " 20  primary_cleaner.output.tail_sol                     14103 non-null  float64\n",
      " 21  primary_cleaner.output.tail_au                      14149 non-null  float64\n",
      " 22  primary_cleaner.state.floatbank8_a_air              14145 non-null  float64\n",
      " 23  primary_cleaner.state.floatbank8_a_level            14148 non-null  float64\n",
      " 24  primary_cleaner.state.floatbank8_b_air              14145 non-null  float64\n",
      " 25  primary_cleaner.state.floatbank8_b_level            14148 non-null  float64\n",
      " 26  primary_cleaner.state.floatbank8_c_air              14147 non-null  float64\n",
      " 27  primary_cleaner.state.floatbank8_c_level            14148 non-null  float64\n",
      " 28  primary_cleaner.state.floatbank8_d_air              14146 non-null  float64\n",
      " 29  primary_cleaner.state.floatbank8_d_level            14148 non-null  float64\n",
      " 30  rougher.calculation.sulfate_to_au_concentrate       14148 non-null  float64\n",
      " 31  rougher.calculation.floatbank10_sulfate_to_au_feed  14148 non-null  float64\n",
      " 32  rougher.calculation.floatbank11_sulfate_to_au_feed  14148 non-null  float64\n",
      " 33  rougher.calculation.au_pb_ratio                     14149 non-null  float64\n",
      " 34  rougher.input.feed_ag                               14149 non-null  float64\n",
      " 35  rougher.input.feed_pb                               14049 non-null  float64\n",
      " 36  rougher.input.feed_rate                             14141 non-null  float64\n",
      " 37  rougher.input.feed_size                             14005 non-null  float64\n",
      " 38  rougher.input.feed_sol                              14071 non-null  float64\n",
      " 39  rougher.input.feed_au                               14149 non-null  float64\n",
      " 40  rougher.input.floatbank10_sulfate                   14120 non-null  float64\n",
      " 41  rougher.input.floatbank10_xanthate                  14141 non-null  float64\n",
      " 42  rougher.input.floatbank11_sulfate                   14113 non-null  float64\n",
      " 43  rougher.input.floatbank11_xanthate                  13721 non-null  float64\n",
      " 44  rougher.output.concentrate_ag                       14149 non-null  float64\n",
      " 45  rougher.output.concentrate_pb                       14149 non-null  float64\n",
      " 46  rougher.output.concentrate_sol                      14127 non-null  float64\n",
      " 47  rougher.output.concentrate_au                       14149 non-null  float64\n",
      " 48  rougher.output.recovery                             14149 non-null  float64\n",
      " 49  rougher.output.tail_ag                              14148 non-null  float64\n",
      " 50  rougher.output.tail_pb                              14149 non-null  float64\n",
      " 51  rougher.output.tail_sol                             14149 non-null  float64\n",
      " 52  rougher.output.tail_au                              14149 non-null  float64\n",
      " 53  rougher.state.floatbank10_a_air                     14148 non-null  float64\n",
      " 54  rougher.state.floatbank10_a_level                   14148 non-null  float64\n",
      " 55  rougher.state.floatbank10_b_air                     14148 non-null  float64\n",
      " 56  rougher.state.floatbank10_b_level                   14148 non-null  float64\n",
      " 57  rougher.state.floatbank10_c_air                     14148 non-null  float64\n",
      " 58  rougher.state.floatbank10_c_level                   14148 non-null  float64\n",
      " 59  rougher.state.floatbank10_d_air                     14149 non-null  float64\n",
      " 60  rougher.state.floatbank10_d_level                   14149 non-null  float64\n",
      " 61  rougher.state.floatbank10_e_air                     13713 non-null  float64\n",
      " 62  rougher.state.floatbank10_e_level                   14149 non-null  float64\n",
      " 63  rougher.state.floatbank10_f_air                     14149 non-null  float64\n",
      " 64  rougher.state.floatbank10_f_level                   14149 non-null  float64\n",
      " 65  secondary_cleaner.output.tail_ag                    14147 non-null  float64\n",
      " 66  secondary_cleaner.output.tail_pb                    14139 non-null  float64\n",
      " 67  secondary_cleaner.output.tail_sol                   12544 non-null  float64\n",
      " 68  secondary_cleaner.output.tail_au                    14149 non-null  float64\n",
      " 69  secondary_cleaner.state.floatbank2_a_air            13932 non-null  float64\n",
      " 70  secondary_cleaner.state.floatbank2_a_level          14148 non-null  float64\n",
      " 71  secondary_cleaner.state.floatbank2_b_air            14128 non-null  float64\n",
      " 72  secondary_cleaner.state.floatbank2_b_level          14148 non-null  float64\n",
      " 73  secondary_cleaner.state.floatbank3_a_air            14145 non-null  float64\n",
      " 74  secondary_cleaner.state.floatbank3_a_level          14148 non-null  float64\n",
      " 75  secondary_cleaner.state.floatbank3_b_air            14148 non-null  float64\n",
      " 76  secondary_cleaner.state.floatbank3_b_level          14148 non-null  float64\n",
      " 77  secondary_cleaner.state.floatbank4_a_air            14143 non-null  float64\n",
      " 78  secondary_cleaner.state.floatbank4_a_level          14148 non-null  float64\n",
      " 79  secondary_cleaner.state.floatbank4_b_air            14148 non-null  float64\n",
      " 80  secondary_cleaner.state.floatbank4_b_level          14148 non-null  float64\n",
      " 81  secondary_cleaner.state.floatbank5_a_air            14148 non-null  float64\n",
      " 82  secondary_cleaner.state.floatbank5_a_level          14148 non-null  float64\n",
      " 83  secondary_cleaner.state.floatbank5_b_air            14148 non-null  float64\n",
      " 84  secondary_cleaner.state.floatbank5_b_level          14148 non-null  float64\n",
      " 85  secondary_cleaner.state.floatbank6_a_air            14147 non-null  float64\n",
      " 86  secondary_cleaner.state.floatbank6_a_level          14148 non-null  float64\n",
      "dtypes: float64(86), object(1)\n",
      "memory usage: 9.4+ MB\n"
     ]
    },
    {
     "data": {
      "text/plain": [
       "date                                                     0\n",
       "final.output.concentrate_ag                              1\n",
       "final.output.concentrate_pb                              1\n",
       "final.output.concentrate_sol                           211\n",
       "final.output.concentrate_au                              0\n",
       "final.output.recovery                                    0\n",
       "final.output.tail_ag                                     0\n",
       "final.output.tail_pb                                   100\n",
       "final.output.tail_sol                                    5\n",
       "final.output.tail_au                                     0\n",
       "primary_cleaner.input.sulfate                           20\n",
       "primary_cleaner.input.depressant                        32\n",
       "primary_cleaner.input.feed_size                          0\n",
       "primary_cleaner.input.xanthate                         100\n",
       "primary_cleaner.output.concentrate_ag                    0\n",
       "primary_cleaner.output.concentrate_pb                   86\n",
       "primary_cleaner.output.concentrate_sol                 286\n",
       "primary_cleaner.output.concentrate_au                    0\n",
       "primary_cleaner.output.tail_ag                           1\n",
       "primary_cleaner.output.tail_pb                          15\n",
       "primary_cleaner.output.tail_sol                         46\n",
       "primary_cleaner.output.tail_au                           0\n",
       "primary_cleaner.state.floatbank8_a_air                   4\n",
       "primary_cleaner.state.floatbank8_a_level                 1\n",
       "primary_cleaner.state.floatbank8_b_air                   4\n",
       "primary_cleaner.state.floatbank8_b_level                 1\n",
       "primary_cleaner.state.floatbank8_c_air                   2\n",
       "primary_cleaner.state.floatbank8_c_level                 1\n",
       "primary_cleaner.state.floatbank8_d_air                   3\n",
       "primary_cleaner.state.floatbank8_d_level                 1\n",
       "rougher.calculation.sulfate_to_au_concentrate            1\n",
       "rougher.calculation.floatbank10_sulfate_to_au_feed       1\n",
       "rougher.calculation.floatbank11_sulfate_to_au_feed       1\n",
       "rougher.calculation.au_pb_ratio                          0\n",
       "rougher.input.feed_ag                                    0\n",
       "rougher.input.feed_pb                                  100\n",
       "rougher.input.feed_rate                                  8\n",
       "rougher.input.feed_size                                144\n",
       "rougher.input.feed_sol                                  78\n",
       "rougher.input.feed_au                                    0\n",
       "rougher.input.floatbank10_sulfate                       29\n",
       "rougher.input.floatbank10_xanthate                       8\n",
       "rougher.input.floatbank11_sulfate                       36\n",
       "rougher.input.floatbank11_xanthate                     428\n",
       "rougher.output.concentrate_ag                            0\n",
       "rougher.output.concentrate_pb                            0\n",
       "rougher.output.concentrate_sol                          22\n",
       "rougher.output.concentrate_au                            0\n",
       "rougher.output.recovery                                  0\n",
       "rougher.output.tail_ag                                   1\n",
       "rougher.output.tail_pb                                   0\n",
       "rougher.output.tail_sol                                  0\n",
       "rougher.output.tail_au                                   0\n",
       "rougher.state.floatbank10_a_air                          1\n",
       "rougher.state.floatbank10_a_level                        1\n",
       "rougher.state.floatbank10_b_air                          1\n",
       "rougher.state.floatbank10_b_level                        1\n",
       "rougher.state.floatbank10_c_air                          1\n",
       "rougher.state.floatbank10_c_level                        1\n",
       "rougher.state.floatbank10_d_air                          0\n",
       "rougher.state.floatbank10_d_level                        0\n",
       "rougher.state.floatbank10_e_air                        436\n",
       "rougher.state.floatbank10_e_level                        0\n",
       "rougher.state.floatbank10_f_air                          0\n",
       "rougher.state.floatbank10_f_level                        0\n",
       "secondary_cleaner.output.tail_ag                         2\n",
       "secondary_cleaner.output.tail_pb                        10\n",
       "secondary_cleaner.output.tail_sol                     1605\n",
       "secondary_cleaner.output.tail_au                         0\n",
       "secondary_cleaner.state.floatbank2_a_air               217\n",
       "secondary_cleaner.state.floatbank2_a_level               1\n",
       "secondary_cleaner.state.floatbank2_b_air                21\n",
       "secondary_cleaner.state.floatbank2_b_level               1\n",
       "secondary_cleaner.state.floatbank3_a_air                 4\n",
       "secondary_cleaner.state.floatbank3_a_level               1\n",
       "secondary_cleaner.state.floatbank3_b_air                 1\n",
       "secondary_cleaner.state.floatbank3_b_level               1\n",
       "secondary_cleaner.state.floatbank4_a_air                 6\n",
       "secondary_cleaner.state.floatbank4_a_level               1\n",
       "secondary_cleaner.state.floatbank4_b_air                 1\n",
       "secondary_cleaner.state.floatbank4_b_level               1\n",
       "secondary_cleaner.state.floatbank5_a_air                 1\n",
       "secondary_cleaner.state.floatbank5_a_level               1\n",
       "secondary_cleaner.state.floatbank5_b_air                 1\n",
       "secondary_cleaner.state.floatbank5_b_level               1\n",
       "secondary_cleaner.state.floatbank6_a_air                 2\n",
       "secondary_cleaner.state.floatbank6_a_level               1\n",
       "dtype: int64"
      ]
     },
     "execution_count": 3,
     "metadata": {},
     "output_type": "execute_result"
    }
   ],
   "source": [
    "display(train.head())\n",
    "train.info()\n",
    "train.isna().sum()"
   ]
  },
  {
   "cell_type": "code",
   "execution_count": 4,
   "metadata": {},
   "outputs": [
    {
     "data": {
      "text/html": [
       "<div>\n",
       "<style scoped>\n",
       "    .dataframe tbody tr th:only-of-type {\n",
       "        vertical-align: middle;\n",
       "    }\n",
       "\n",
       "    .dataframe tbody tr th {\n",
       "        vertical-align: top;\n",
       "    }\n",
       "\n",
       "    .dataframe thead th {\n",
       "        text-align: right;\n",
       "    }\n",
       "</style>\n",
       "<table border=\"1\" class=\"dataframe\">\n",
       "  <thead>\n",
       "    <tr style=\"text-align: right;\">\n",
       "      <th></th>\n",
       "      <th>date</th>\n",
       "      <th>primary_cleaner.input.sulfate</th>\n",
       "      <th>primary_cleaner.input.depressant</th>\n",
       "      <th>primary_cleaner.input.feed_size</th>\n",
       "      <th>primary_cleaner.input.xanthate</th>\n",
       "      <th>primary_cleaner.state.floatbank8_a_air</th>\n",
       "      <th>primary_cleaner.state.floatbank8_a_level</th>\n",
       "      <th>primary_cleaner.state.floatbank8_b_air</th>\n",
       "      <th>primary_cleaner.state.floatbank8_b_level</th>\n",
       "      <th>primary_cleaner.state.floatbank8_c_air</th>\n",
       "      <th>primary_cleaner.state.floatbank8_c_level</th>\n",
       "      <th>primary_cleaner.state.floatbank8_d_air</th>\n",
       "      <th>primary_cleaner.state.floatbank8_d_level</th>\n",
       "      <th>rougher.input.feed_ag</th>\n",
       "      <th>rougher.input.feed_pb</th>\n",
       "      <th>rougher.input.feed_rate</th>\n",
       "      <th>rougher.input.feed_size</th>\n",
       "      <th>rougher.input.feed_sol</th>\n",
       "      <th>rougher.input.feed_au</th>\n",
       "      <th>rougher.input.floatbank10_sulfate</th>\n",
       "      <th>rougher.input.floatbank10_xanthate</th>\n",
       "      <th>rougher.input.floatbank11_sulfate</th>\n",
       "      <th>rougher.input.floatbank11_xanthate</th>\n",
       "      <th>rougher.state.floatbank10_a_air</th>\n",
       "      <th>rougher.state.floatbank10_a_level</th>\n",
       "      <th>rougher.state.floatbank10_b_air</th>\n",
       "      <th>rougher.state.floatbank10_b_level</th>\n",
       "      <th>rougher.state.floatbank10_c_air</th>\n",
       "      <th>rougher.state.floatbank10_c_level</th>\n",
       "      <th>rougher.state.floatbank10_d_air</th>\n",
       "      <th>rougher.state.floatbank10_d_level</th>\n",
       "      <th>rougher.state.floatbank10_e_air</th>\n",
       "      <th>rougher.state.floatbank10_e_level</th>\n",
       "      <th>rougher.state.floatbank10_f_air</th>\n",
       "      <th>rougher.state.floatbank10_f_level</th>\n",
       "      <th>secondary_cleaner.state.floatbank2_a_air</th>\n",
       "      <th>secondary_cleaner.state.floatbank2_a_level</th>\n",
       "      <th>secondary_cleaner.state.floatbank2_b_air</th>\n",
       "      <th>secondary_cleaner.state.floatbank2_b_level</th>\n",
       "      <th>secondary_cleaner.state.floatbank3_a_air</th>\n",
       "      <th>secondary_cleaner.state.floatbank3_a_level</th>\n",
       "      <th>secondary_cleaner.state.floatbank3_b_air</th>\n",
       "      <th>secondary_cleaner.state.floatbank3_b_level</th>\n",
       "      <th>secondary_cleaner.state.floatbank4_a_air</th>\n",
       "      <th>secondary_cleaner.state.floatbank4_a_level</th>\n",
       "      <th>secondary_cleaner.state.floatbank4_b_air</th>\n",
       "      <th>secondary_cleaner.state.floatbank4_b_level</th>\n",
       "      <th>secondary_cleaner.state.floatbank5_a_air</th>\n",
       "      <th>secondary_cleaner.state.floatbank5_a_level</th>\n",
       "      <th>secondary_cleaner.state.floatbank5_b_air</th>\n",
       "      <th>secondary_cleaner.state.floatbank5_b_level</th>\n",
       "      <th>secondary_cleaner.state.floatbank6_a_air</th>\n",
       "      <th>secondary_cleaner.state.floatbank6_a_level</th>\n",
       "    </tr>\n",
       "  </thead>\n",
       "  <tbody>\n",
       "    <tr>\n",
       "      <th>0</th>\n",
       "      <td>2016-09-01 00:59:59</td>\n",
       "      <td>210.800909</td>\n",
       "      <td>14.993118</td>\n",
       "      <td>8.080000</td>\n",
       "      <td>1.005021</td>\n",
       "      <td>1398.981301</td>\n",
       "      <td>-500.225577</td>\n",
       "      <td>1399.144926</td>\n",
       "      <td>-499.919735</td>\n",
       "      <td>1400.102998</td>\n",
       "      <td>-500.704369</td>\n",
       "      <td>1399.001695</td>\n",
       "      <td>-499.485144</td>\n",
       "      <td>13.128569</td>\n",
       "      <td>5.636710</td>\n",
       "      <td>489.793655</td>\n",
       "      <td>62.710452</td>\n",
       "      <td>42.022440</td>\n",
       "      <td>12.084103</td>\n",
       "      <td>16.922877</td>\n",
       "      <td>6.153479</td>\n",
       "      <td>16.867518</td>\n",
       "      <td>6.150709</td>\n",
       "      <td>1001.849317</td>\n",
       "      <td>-350.301265</td>\n",
       "      <td>1249.738612</td>\n",
       "      <td>-399.107531</td>\n",
       "      <td>1249.750520</td>\n",
       "      <td>-399.396730</td>\n",
       "      <td>1198.287855</td>\n",
       "      <td>-399.488594</td>\n",
       "      <td>999.472250</td>\n",
       "      <td>-399.530962</td>\n",
       "      <td>949.566189</td>\n",
       "      <td>-398.180807</td>\n",
       "      <td>24.938200</td>\n",
       "      <td>-500.490963</td>\n",
       "      <td>14.947607</td>\n",
       "      <td>-500.013837</td>\n",
       "      <td>20.018166</td>\n",
       "      <td>-450.395995</td>\n",
       "      <td>13.987058</td>\n",
       "      <td>-449.831513</td>\n",
       "      <td>12.023554</td>\n",
       "      <td>-497.795834</td>\n",
       "      <td>8.016656</td>\n",
       "      <td>-501.289139</td>\n",
       "      <td>7.946562</td>\n",
       "      <td>-432.317850</td>\n",
       "      <td>4.872511</td>\n",
       "      <td>-500.037437</td>\n",
       "      <td>26.705889</td>\n",
       "      <td>-499.709414</td>\n",
       "    </tr>\n",
       "    <tr>\n",
       "      <th>1</th>\n",
       "      <td>2016-09-01 01:59:59</td>\n",
       "      <td>215.392455</td>\n",
       "      <td>14.987471</td>\n",
       "      <td>8.080000</td>\n",
       "      <td>0.990469</td>\n",
       "      <td>1398.777912</td>\n",
       "      <td>-500.057435</td>\n",
       "      <td>1398.055362</td>\n",
       "      <td>-499.778182</td>\n",
       "      <td>1396.151033</td>\n",
       "      <td>-499.240168</td>\n",
       "      <td>1399.508091</td>\n",
       "      <td>-500.416324</td>\n",
       "      <td>13.036280</td>\n",
       "      <td>5.526065</td>\n",
       "      <td>490.104534</td>\n",
       "      <td>61.961163</td>\n",
       "      <td>41.187903</td>\n",
       "      <td>11.918977</td>\n",
       "      <td>17.002532</td>\n",
       "      <td>5.999043</td>\n",
       "      <td>16.996063</td>\n",
       "      <td>6.002315</td>\n",
       "      <td>998.690785</td>\n",
       "      <td>-350.425704</td>\n",
       "      <td>1248.395457</td>\n",
       "      <td>-399.946025</td>\n",
       "      <td>1249.514451</td>\n",
       "      <td>-399.630810</td>\n",
       "      <td>1200.506459</td>\n",
       "      <td>-399.942434</td>\n",
       "      <td>1000.002114</td>\n",
       "      <td>-399.491528</td>\n",
       "      <td>950.200009</td>\n",
       "      <td>-405.787514</td>\n",
       "      <td>24.923466</td>\n",
       "      <td>-499.813963</td>\n",
       "      <td>14.930873</td>\n",
       "      <td>-500.764452</td>\n",
       "      <td>19.988503</td>\n",
       "      <td>-450.114024</td>\n",
       "      <td>14.092981</td>\n",
       "      <td>-450.059163</td>\n",
       "      <td>12.058140</td>\n",
       "      <td>-498.695773</td>\n",
       "      <td>8.130979</td>\n",
       "      <td>-499.634209</td>\n",
       "      <td>7.958270</td>\n",
       "      <td>-525.839648</td>\n",
       "      <td>4.878850</td>\n",
       "      <td>-500.162375</td>\n",
       "      <td>25.019940</td>\n",
       "      <td>-499.819438</td>\n",
       "    </tr>\n",
       "    <tr>\n",
       "      <th>2</th>\n",
       "      <td>2016-09-01 02:59:59</td>\n",
       "      <td>215.259946</td>\n",
       "      <td>12.884934</td>\n",
       "      <td>7.786667</td>\n",
       "      <td>0.996043</td>\n",
       "      <td>1398.493666</td>\n",
       "      <td>-500.868360</td>\n",
       "      <td>1398.860436</td>\n",
       "      <td>-499.764529</td>\n",
       "      <td>1398.075709</td>\n",
       "      <td>-502.151509</td>\n",
       "      <td>1399.497088</td>\n",
       "      <td>-499.715479</td>\n",
       "      <td>13.138412</td>\n",
       "      <td>5.426561</td>\n",
       "      <td>489.617969</td>\n",
       "      <td>66.903807</td>\n",
       "      <td>42.546294</td>\n",
       "      <td>12.091332</td>\n",
       "      <td>16.992520</td>\n",
       "      <td>5.850632</td>\n",
       "      <td>16.982096</td>\n",
       "      <td>5.853594</td>\n",
       "      <td>998.516720</td>\n",
       "      <td>-349.783538</td>\n",
       "      <td>1247.440748</td>\n",
       "      <td>-400.264330</td>\n",
       "      <td>1248.207204</td>\n",
       "      <td>-401.074405</td>\n",
       "      <td>1199.770026</td>\n",
       "      <td>-400.790582</td>\n",
       "      <td>999.925519</td>\n",
       "      <td>-399.236999</td>\n",
       "      <td>950.320481</td>\n",
       "      <td>-400.864340</td>\n",
       "      <td>24.908732</td>\n",
       "      <td>-500.304035</td>\n",
       "      <td>14.996511</td>\n",
       "      <td>-500.993821</td>\n",
       "      <td>20.039689</td>\n",
       "      <td>-450.263164</td>\n",
       "      <td>14.077881</td>\n",
       "      <td>-449.660997</td>\n",
       "      <td>11.962366</td>\n",
       "      <td>-498.767484</td>\n",
       "      <td>8.096893</td>\n",
       "      <td>-500.827423</td>\n",
       "      <td>8.071056</td>\n",
       "      <td>-500.801673</td>\n",
       "      <td>4.905125</td>\n",
       "      <td>-499.828510</td>\n",
       "      <td>24.994862</td>\n",
       "      <td>-500.622559</td>\n",
       "    </tr>\n",
       "    <tr>\n",
       "      <th>3</th>\n",
       "      <td>2016-09-01 03:59:59</td>\n",
       "      <td>215.336236</td>\n",
       "      <td>12.006805</td>\n",
       "      <td>7.640000</td>\n",
       "      <td>0.863514</td>\n",
       "      <td>1399.618111</td>\n",
       "      <td>-498.863574</td>\n",
       "      <td>1397.440120</td>\n",
       "      <td>-499.211024</td>\n",
       "      <td>1400.129303</td>\n",
       "      <td>-498.355873</td>\n",
       "      <td>1401.065165</td>\n",
       "      <td>-501.038738</td>\n",
       "      <td>12.400507</td>\n",
       "      <td>5.114758</td>\n",
       "      <td>476.618130</td>\n",
       "      <td>59.865919</td>\n",
       "      <td>41.060195</td>\n",
       "      <td>12.181597</td>\n",
       "      <td>16.532144</td>\n",
       "      <td>5.801935</td>\n",
       "      <td>16.515277</td>\n",
       "      <td>5.803657</td>\n",
       "      <td>1000.276604</td>\n",
       "      <td>-350.172597</td>\n",
       "      <td>1251.322675</td>\n",
       "      <td>-398.655289</td>\n",
       "      <td>1250.493702</td>\n",
       "      <td>-399.746728</td>\n",
       "      <td>1199.398691</td>\n",
       "      <td>-397.503052</td>\n",
       "      <td>1001.930679</td>\n",
       "      <td>-400.437573</td>\n",
       "      <td>950.735324</td>\n",
       "      <td>-399.802986</td>\n",
       "      <td>24.893998</td>\n",
       "      <td>-499.382374</td>\n",
       "      <td>14.916674</td>\n",
       "      <td>-499.862299</td>\n",
       "      <td>20.031100</td>\n",
       "      <td>-449.372570</td>\n",
       "      <td>14.013968</td>\n",
       "      <td>-449.526900</td>\n",
       "      <td>12.033091</td>\n",
       "      <td>-498.350935</td>\n",
       "      <td>8.074946</td>\n",
       "      <td>-499.474407</td>\n",
       "      <td>7.897085</td>\n",
       "      <td>-500.868509</td>\n",
       "      <td>4.931400</td>\n",
       "      <td>-499.963623</td>\n",
       "      <td>24.948919</td>\n",
       "      <td>-498.709987</td>\n",
       "    </tr>\n",
       "    <tr>\n",
       "      <th>4</th>\n",
       "      <td>2016-09-01 04:59:59</td>\n",
       "      <td>199.099327</td>\n",
       "      <td>10.682530</td>\n",
       "      <td>7.530000</td>\n",
       "      <td>0.805575</td>\n",
       "      <td>1401.268123</td>\n",
       "      <td>-500.808305</td>\n",
       "      <td>1398.128818</td>\n",
       "      <td>-499.504543</td>\n",
       "      <td>1402.172226</td>\n",
       "      <td>-500.810606</td>\n",
       "      <td>1399.480508</td>\n",
       "      <td>-499.374053</td>\n",
       "      <td>11.327427</td>\n",
       "      <td>4.767383</td>\n",
       "      <td>488.248117</td>\n",
       "      <td>63.315324</td>\n",
       "      <td>41.269161</td>\n",
       "      <td>11.290425</td>\n",
       "      <td>13.607257</td>\n",
       "      <td>5.738081</td>\n",
       "      <td>13.650053</td>\n",
       "      <td>5.739634</td>\n",
       "      <td>996.541302</td>\n",
       "      <td>-350.562517</td>\n",
       "      <td>1304.658848</td>\n",
       "      <td>-399.511519</td>\n",
       "      <td>1306.455515</td>\n",
       "      <td>-399.050685</td>\n",
       "      <td>1248.699349</td>\n",
       "      <td>-400.876894</td>\n",
       "      <td>1058.839106</td>\n",
       "      <td>-398.988239</td>\n",
       "      <td>949.645313</td>\n",
       "      <td>-399.277632</td>\n",
       "      <td>24.886905</td>\n",
       "      <td>-499.357375</td>\n",
       "      <td>14.979233</td>\n",
       "      <td>-500.186804</td>\n",
       "      <td>19.962364</td>\n",
       "      <td>-450.638828</td>\n",
       "      <td>14.009245</td>\n",
       "      <td>-450.022259</td>\n",
       "      <td>12.025367</td>\n",
       "      <td>-500.786497</td>\n",
       "      <td>8.054678</td>\n",
       "      <td>-500.397500</td>\n",
       "      <td>8.107890</td>\n",
       "      <td>-509.526725</td>\n",
       "      <td>4.957674</td>\n",
       "      <td>-500.360026</td>\n",
       "      <td>25.003331</td>\n",
       "      <td>-500.856333</td>\n",
       "    </tr>\n",
       "  </tbody>\n",
       "</table>\n",
       "</div>"
      ],
      "text/plain": [
       "                  date  primary_cleaner.input.sulfate  \\\n",
       "0  2016-09-01 00:59:59                     210.800909   \n",
       "1  2016-09-01 01:59:59                     215.392455   \n",
       "2  2016-09-01 02:59:59                     215.259946   \n",
       "3  2016-09-01 03:59:59                     215.336236   \n",
       "4  2016-09-01 04:59:59                     199.099327   \n",
       "\n",
       "   primary_cleaner.input.depressant  primary_cleaner.input.feed_size  \\\n",
       "0                         14.993118                         8.080000   \n",
       "1                         14.987471                         8.080000   \n",
       "2                         12.884934                         7.786667   \n",
       "3                         12.006805                         7.640000   \n",
       "4                         10.682530                         7.530000   \n",
       "\n",
       "   primary_cleaner.input.xanthate  primary_cleaner.state.floatbank8_a_air  \\\n",
       "0                        1.005021                             1398.981301   \n",
       "1                        0.990469                             1398.777912   \n",
       "2                        0.996043                             1398.493666   \n",
       "3                        0.863514                             1399.618111   \n",
       "4                        0.805575                             1401.268123   \n",
       "\n",
       "   primary_cleaner.state.floatbank8_a_level  \\\n",
       "0                               -500.225577   \n",
       "1                               -500.057435   \n",
       "2                               -500.868360   \n",
       "3                               -498.863574   \n",
       "4                               -500.808305   \n",
       "\n",
       "   primary_cleaner.state.floatbank8_b_air  \\\n",
       "0                             1399.144926   \n",
       "1                             1398.055362   \n",
       "2                             1398.860436   \n",
       "3                             1397.440120   \n",
       "4                             1398.128818   \n",
       "\n",
       "   primary_cleaner.state.floatbank8_b_level  \\\n",
       "0                               -499.919735   \n",
       "1                               -499.778182   \n",
       "2                               -499.764529   \n",
       "3                               -499.211024   \n",
       "4                               -499.504543   \n",
       "\n",
       "   primary_cleaner.state.floatbank8_c_air  \\\n",
       "0                             1400.102998   \n",
       "1                             1396.151033   \n",
       "2                             1398.075709   \n",
       "3                             1400.129303   \n",
       "4                             1402.172226   \n",
       "\n",
       "   primary_cleaner.state.floatbank8_c_level  \\\n",
       "0                               -500.704369   \n",
       "1                               -499.240168   \n",
       "2                               -502.151509   \n",
       "3                               -498.355873   \n",
       "4                               -500.810606   \n",
       "\n",
       "   primary_cleaner.state.floatbank8_d_air  \\\n",
       "0                             1399.001695   \n",
       "1                             1399.508091   \n",
       "2                             1399.497088   \n",
       "3                             1401.065165   \n",
       "4                             1399.480508   \n",
       "\n",
       "   primary_cleaner.state.floatbank8_d_level  rougher.input.feed_ag  \\\n",
       "0                               -499.485144              13.128569   \n",
       "1                               -500.416324              13.036280   \n",
       "2                               -499.715479              13.138412   \n",
       "3                               -501.038738              12.400507   \n",
       "4                               -499.374053              11.327427   \n",
       "\n",
       "   rougher.input.feed_pb  rougher.input.feed_rate  rougher.input.feed_size  \\\n",
       "0               5.636710               489.793655                62.710452   \n",
       "1               5.526065               490.104534                61.961163   \n",
       "2               5.426561               489.617969                66.903807   \n",
       "3               5.114758               476.618130                59.865919   \n",
       "4               4.767383               488.248117                63.315324   \n",
       "\n",
       "   rougher.input.feed_sol  rougher.input.feed_au  \\\n",
       "0               42.022440              12.084103   \n",
       "1               41.187903              11.918977   \n",
       "2               42.546294              12.091332   \n",
       "3               41.060195              12.181597   \n",
       "4               41.269161              11.290425   \n",
       "\n",
       "   rougher.input.floatbank10_sulfate  rougher.input.floatbank10_xanthate  \\\n",
       "0                          16.922877                            6.153479   \n",
       "1                          17.002532                            5.999043   \n",
       "2                          16.992520                            5.850632   \n",
       "3                          16.532144                            5.801935   \n",
       "4                          13.607257                            5.738081   \n",
       "\n",
       "   rougher.input.floatbank11_sulfate  rougher.input.floatbank11_xanthate  \\\n",
       "0                          16.867518                            6.150709   \n",
       "1                          16.996063                            6.002315   \n",
       "2                          16.982096                            5.853594   \n",
       "3                          16.515277                            5.803657   \n",
       "4                          13.650053                            5.739634   \n",
       "\n",
       "   rougher.state.floatbank10_a_air  rougher.state.floatbank10_a_level  \\\n",
       "0                      1001.849317                        -350.301265   \n",
       "1                       998.690785                        -350.425704   \n",
       "2                       998.516720                        -349.783538   \n",
       "3                      1000.276604                        -350.172597   \n",
       "4                       996.541302                        -350.562517   \n",
       "\n",
       "   rougher.state.floatbank10_b_air  rougher.state.floatbank10_b_level  \\\n",
       "0                      1249.738612                        -399.107531   \n",
       "1                      1248.395457                        -399.946025   \n",
       "2                      1247.440748                        -400.264330   \n",
       "3                      1251.322675                        -398.655289   \n",
       "4                      1304.658848                        -399.511519   \n",
       "\n",
       "   rougher.state.floatbank10_c_air  rougher.state.floatbank10_c_level  \\\n",
       "0                      1249.750520                        -399.396730   \n",
       "1                      1249.514451                        -399.630810   \n",
       "2                      1248.207204                        -401.074405   \n",
       "3                      1250.493702                        -399.746728   \n",
       "4                      1306.455515                        -399.050685   \n",
       "\n",
       "   rougher.state.floatbank10_d_air  rougher.state.floatbank10_d_level  \\\n",
       "0                      1198.287855                        -399.488594   \n",
       "1                      1200.506459                        -399.942434   \n",
       "2                      1199.770026                        -400.790582   \n",
       "3                      1199.398691                        -397.503052   \n",
       "4                      1248.699349                        -400.876894   \n",
       "\n",
       "   rougher.state.floatbank10_e_air  rougher.state.floatbank10_e_level  \\\n",
       "0                       999.472250                        -399.530962   \n",
       "1                      1000.002114                        -399.491528   \n",
       "2                       999.925519                        -399.236999   \n",
       "3                      1001.930679                        -400.437573   \n",
       "4                      1058.839106                        -398.988239   \n",
       "\n",
       "   rougher.state.floatbank10_f_air  rougher.state.floatbank10_f_level  \\\n",
       "0                       949.566189                        -398.180807   \n",
       "1                       950.200009                        -405.787514   \n",
       "2                       950.320481                        -400.864340   \n",
       "3                       950.735324                        -399.802986   \n",
       "4                       949.645313                        -399.277632   \n",
       "\n",
       "   secondary_cleaner.state.floatbank2_a_air  \\\n",
       "0                                 24.938200   \n",
       "1                                 24.923466   \n",
       "2                                 24.908732   \n",
       "3                                 24.893998   \n",
       "4                                 24.886905   \n",
       "\n",
       "   secondary_cleaner.state.floatbank2_a_level  \\\n",
       "0                                 -500.490963   \n",
       "1                                 -499.813963   \n",
       "2                                 -500.304035   \n",
       "3                                 -499.382374   \n",
       "4                                 -499.357375   \n",
       "\n",
       "   secondary_cleaner.state.floatbank2_b_air  \\\n",
       "0                                 14.947607   \n",
       "1                                 14.930873   \n",
       "2                                 14.996511   \n",
       "3                                 14.916674   \n",
       "4                                 14.979233   \n",
       "\n",
       "   secondary_cleaner.state.floatbank2_b_level  \\\n",
       "0                                 -500.013837   \n",
       "1                                 -500.764452   \n",
       "2                                 -500.993821   \n",
       "3                                 -499.862299   \n",
       "4                                 -500.186804   \n",
       "\n",
       "   secondary_cleaner.state.floatbank3_a_air  \\\n",
       "0                                 20.018166   \n",
       "1                                 19.988503   \n",
       "2                                 20.039689   \n",
       "3                                 20.031100   \n",
       "4                                 19.962364   \n",
       "\n",
       "   secondary_cleaner.state.floatbank3_a_level  \\\n",
       "0                                 -450.395995   \n",
       "1                                 -450.114024   \n",
       "2                                 -450.263164   \n",
       "3                                 -449.372570   \n",
       "4                                 -450.638828   \n",
       "\n",
       "   secondary_cleaner.state.floatbank3_b_air  \\\n",
       "0                                 13.987058   \n",
       "1                                 14.092981   \n",
       "2                                 14.077881   \n",
       "3                                 14.013968   \n",
       "4                                 14.009245   \n",
       "\n",
       "   secondary_cleaner.state.floatbank3_b_level  \\\n",
       "0                                 -449.831513   \n",
       "1                                 -450.059163   \n",
       "2                                 -449.660997   \n",
       "3                                 -449.526900   \n",
       "4                                 -450.022259   \n",
       "\n",
       "   secondary_cleaner.state.floatbank4_a_air  \\\n",
       "0                                 12.023554   \n",
       "1                                 12.058140   \n",
       "2                                 11.962366   \n",
       "3                                 12.033091   \n",
       "4                                 12.025367   \n",
       "\n",
       "   secondary_cleaner.state.floatbank4_a_level  \\\n",
       "0                                 -497.795834   \n",
       "1                                 -498.695773   \n",
       "2                                 -498.767484   \n",
       "3                                 -498.350935   \n",
       "4                                 -500.786497   \n",
       "\n",
       "   secondary_cleaner.state.floatbank4_b_air  \\\n",
       "0                                  8.016656   \n",
       "1                                  8.130979   \n",
       "2                                  8.096893   \n",
       "3                                  8.074946   \n",
       "4                                  8.054678   \n",
       "\n",
       "   secondary_cleaner.state.floatbank4_b_level  \\\n",
       "0                                 -501.289139   \n",
       "1                                 -499.634209   \n",
       "2                                 -500.827423   \n",
       "3                                 -499.474407   \n",
       "4                                 -500.397500   \n",
       "\n",
       "   secondary_cleaner.state.floatbank5_a_air  \\\n",
       "0                                  7.946562   \n",
       "1                                  7.958270   \n",
       "2                                  8.071056   \n",
       "3                                  7.897085   \n",
       "4                                  8.107890   \n",
       "\n",
       "   secondary_cleaner.state.floatbank5_a_level  \\\n",
       "0                                 -432.317850   \n",
       "1                                 -525.839648   \n",
       "2                                 -500.801673   \n",
       "3                                 -500.868509   \n",
       "4                                 -509.526725   \n",
       "\n",
       "   secondary_cleaner.state.floatbank5_b_air  \\\n",
       "0                                  4.872511   \n",
       "1                                  4.878850   \n",
       "2                                  4.905125   \n",
       "3                                  4.931400   \n",
       "4                                  4.957674   \n",
       "\n",
       "   secondary_cleaner.state.floatbank5_b_level  \\\n",
       "0                                 -500.037437   \n",
       "1                                 -500.162375   \n",
       "2                                 -499.828510   \n",
       "3                                 -499.963623   \n",
       "4                                 -500.360026   \n",
       "\n",
       "   secondary_cleaner.state.floatbank6_a_air  \\\n",
       "0                                 26.705889   \n",
       "1                                 25.019940   \n",
       "2                                 24.994862   \n",
       "3                                 24.948919   \n",
       "4                                 25.003331   \n",
       "\n",
       "   secondary_cleaner.state.floatbank6_a_level  \n",
       "0                                 -499.709414  \n",
       "1                                 -499.819438  \n",
       "2                                 -500.622559  \n",
       "3                                 -498.709987  \n",
       "4                                 -500.856333  "
      ]
     },
     "metadata": {},
     "output_type": "display_data"
    },
    {
     "name": "stdout",
     "output_type": "stream",
     "text": [
      "<class 'pandas.core.frame.DataFrame'>\n",
      "RangeIndex: 5290 entries, 0 to 5289\n",
      "Data columns (total 53 columns):\n",
      " #   Column                                      Non-Null Count  Dtype  \n",
      "---  ------                                      --------------  -----  \n",
      " 0   date                                        5290 non-null   object \n",
      " 1   primary_cleaner.input.sulfate               5286 non-null   float64\n",
      " 2   primary_cleaner.input.depressant            5285 non-null   float64\n",
      " 3   primary_cleaner.input.feed_size             5290 non-null   float64\n",
      " 4   primary_cleaner.input.xanthate              5286 non-null   float64\n",
      " 5   primary_cleaner.state.floatbank8_a_air      5290 non-null   float64\n",
      " 6   primary_cleaner.state.floatbank8_a_level    5290 non-null   float64\n",
      " 7   primary_cleaner.state.floatbank8_b_air      5290 non-null   float64\n",
      " 8   primary_cleaner.state.floatbank8_b_level    5290 non-null   float64\n",
      " 9   primary_cleaner.state.floatbank8_c_air      5290 non-null   float64\n",
      " 10  primary_cleaner.state.floatbank8_c_level    5290 non-null   float64\n",
      " 11  primary_cleaner.state.floatbank8_d_air      5290 non-null   float64\n",
      " 12  primary_cleaner.state.floatbank8_d_level    5290 non-null   float64\n",
      " 13  rougher.input.feed_ag                       5290 non-null   float64\n",
      " 14  rougher.input.feed_pb                       5290 non-null   float64\n",
      " 15  rougher.input.feed_rate                     5287 non-null   float64\n",
      " 16  rougher.input.feed_size                     5289 non-null   float64\n",
      " 17  rougher.input.feed_sol                      5269 non-null   float64\n",
      " 18  rougher.input.feed_au                       5290 non-null   float64\n",
      " 19  rougher.input.floatbank10_sulfate           5285 non-null   float64\n",
      " 20  rougher.input.floatbank10_xanthate          5290 non-null   float64\n",
      " 21  rougher.input.floatbank11_sulfate           5282 non-null   float64\n",
      " 22  rougher.input.floatbank11_xanthate          5265 non-null   float64\n",
      " 23  rougher.state.floatbank10_a_air             5290 non-null   float64\n",
      " 24  rougher.state.floatbank10_a_level           5290 non-null   float64\n",
      " 25  rougher.state.floatbank10_b_air             5290 non-null   float64\n",
      " 26  rougher.state.floatbank10_b_level           5290 non-null   float64\n",
      " 27  rougher.state.floatbank10_c_air             5290 non-null   float64\n",
      " 28  rougher.state.floatbank10_c_level           5290 non-null   float64\n",
      " 29  rougher.state.floatbank10_d_air             5290 non-null   float64\n",
      " 30  rougher.state.floatbank10_d_level           5290 non-null   float64\n",
      " 31  rougher.state.floatbank10_e_air             5290 non-null   float64\n",
      " 32  rougher.state.floatbank10_e_level           5290 non-null   float64\n",
      " 33  rougher.state.floatbank10_f_air             5290 non-null   float64\n",
      " 34  rougher.state.floatbank10_f_level           5290 non-null   float64\n",
      " 35  secondary_cleaner.state.floatbank2_a_air    5287 non-null   float64\n",
      " 36  secondary_cleaner.state.floatbank2_a_level  5290 non-null   float64\n",
      " 37  secondary_cleaner.state.floatbank2_b_air    5288 non-null   float64\n",
      " 38  secondary_cleaner.state.floatbank2_b_level  5290 non-null   float64\n",
      " 39  secondary_cleaner.state.floatbank3_a_air    5281 non-null   float64\n",
      " 40  secondary_cleaner.state.floatbank3_a_level  5290 non-null   float64\n",
      " 41  secondary_cleaner.state.floatbank3_b_air    5290 non-null   float64\n",
      " 42  secondary_cleaner.state.floatbank3_b_level  5290 non-null   float64\n",
      " 43  secondary_cleaner.state.floatbank4_a_air    5290 non-null   float64\n",
      " 44  secondary_cleaner.state.floatbank4_a_level  5290 non-null   float64\n",
      " 45  secondary_cleaner.state.floatbank4_b_air    5290 non-null   float64\n",
      " 46  secondary_cleaner.state.floatbank4_b_level  5290 non-null   float64\n",
      " 47  secondary_cleaner.state.floatbank5_a_air    5290 non-null   float64\n",
      " 48  secondary_cleaner.state.floatbank5_a_level  5290 non-null   float64\n",
      " 49  secondary_cleaner.state.floatbank5_b_air    5290 non-null   float64\n",
      " 50  secondary_cleaner.state.floatbank5_b_level  5290 non-null   float64\n",
      " 51  secondary_cleaner.state.floatbank6_a_air    5290 non-null   float64\n",
      " 52  secondary_cleaner.state.floatbank6_a_level  5290 non-null   float64\n",
      "dtypes: float64(52), object(1)\n",
      "memory usage: 2.1+ MB\n"
     ]
    },
    {
     "data": {
      "text/plain": [
       "date                                           0\n",
       "primary_cleaner.input.sulfate                  4\n",
       "primary_cleaner.input.depressant               5\n",
       "primary_cleaner.input.feed_size                0\n",
       "primary_cleaner.input.xanthate                 4\n",
       "primary_cleaner.state.floatbank8_a_air         0\n",
       "primary_cleaner.state.floatbank8_a_level       0\n",
       "primary_cleaner.state.floatbank8_b_air         0\n",
       "primary_cleaner.state.floatbank8_b_level       0\n",
       "primary_cleaner.state.floatbank8_c_air         0\n",
       "primary_cleaner.state.floatbank8_c_level       0\n",
       "primary_cleaner.state.floatbank8_d_air         0\n",
       "primary_cleaner.state.floatbank8_d_level       0\n",
       "rougher.input.feed_ag                          0\n",
       "rougher.input.feed_pb                          0\n",
       "rougher.input.feed_rate                        3\n",
       "rougher.input.feed_size                        1\n",
       "rougher.input.feed_sol                        21\n",
       "rougher.input.feed_au                          0\n",
       "rougher.input.floatbank10_sulfate              5\n",
       "rougher.input.floatbank10_xanthate             0\n",
       "rougher.input.floatbank11_sulfate              8\n",
       "rougher.input.floatbank11_xanthate            25\n",
       "rougher.state.floatbank10_a_air                0\n",
       "rougher.state.floatbank10_a_level              0\n",
       "rougher.state.floatbank10_b_air                0\n",
       "rougher.state.floatbank10_b_level              0\n",
       "rougher.state.floatbank10_c_air                0\n",
       "rougher.state.floatbank10_c_level              0\n",
       "rougher.state.floatbank10_d_air                0\n",
       "rougher.state.floatbank10_d_level              0\n",
       "rougher.state.floatbank10_e_air                0\n",
       "rougher.state.floatbank10_e_level              0\n",
       "rougher.state.floatbank10_f_air                0\n",
       "rougher.state.floatbank10_f_level              0\n",
       "secondary_cleaner.state.floatbank2_a_air       3\n",
       "secondary_cleaner.state.floatbank2_a_level     0\n",
       "secondary_cleaner.state.floatbank2_b_air       2\n",
       "secondary_cleaner.state.floatbank2_b_level     0\n",
       "secondary_cleaner.state.floatbank3_a_air       9\n",
       "secondary_cleaner.state.floatbank3_a_level     0\n",
       "secondary_cleaner.state.floatbank3_b_air       0\n",
       "secondary_cleaner.state.floatbank3_b_level     0\n",
       "secondary_cleaner.state.floatbank4_a_air       0\n",
       "secondary_cleaner.state.floatbank4_a_level     0\n",
       "secondary_cleaner.state.floatbank4_b_air       0\n",
       "secondary_cleaner.state.floatbank4_b_level     0\n",
       "secondary_cleaner.state.floatbank5_a_air       0\n",
       "secondary_cleaner.state.floatbank5_a_level     0\n",
       "secondary_cleaner.state.floatbank5_b_air       0\n",
       "secondary_cleaner.state.floatbank5_b_level     0\n",
       "secondary_cleaner.state.floatbank6_a_air       0\n",
       "secondary_cleaner.state.floatbank6_a_level     0\n",
       "dtype: int64"
      ]
     },
     "execution_count": 4,
     "metadata": {},
     "output_type": "execute_result"
    }
   ],
   "source": [
    "display(test.head())\n",
    "test.info()\n",
    "test.isna().sum()"
   ]
  },
  {
   "cell_type": "code",
   "execution_count": 5,
   "metadata": {},
   "outputs": [
    {
     "data": {
      "text/html": [
       "<div>\n",
       "<style scoped>\n",
       "    .dataframe tbody tr th:only-of-type {\n",
       "        vertical-align: middle;\n",
       "    }\n",
       "\n",
       "    .dataframe tbody tr th {\n",
       "        vertical-align: top;\n",
       "    }\n",
       "\n",
       "    .dataframe thead th {\n",
       "        text-align: right;\n",
       "    }\n",
       "</style>\n",
       "<table border=\"1\" class=\"dataframe\">\n",
       "  <thead>\n",
       "    <tr style=\"text-align: right;\">\n",
       "      <th></th>\n",
       "      <th>date</th>\n",
       "      <th>final.output.concentrate_ag</th>\n",
       "      <th>final.output.concentrate_pb</th>\n",
       "      <th>final.output.concentrate_sol</th>\n",
       "      <th>final.output.concentrate_au</th>\n",
       "      <th>final.output.recovery</th>\n",
       "      <th>final.output.tail_ag</th>\n",
       "      <th>final.output.tail_pb</th>\n",
       "      <th>final.output.tail_sol</th>\n",
       "      <th>final.output.tail_au</th>\n",
       "      <th>primary_cleaner.input.sulfate</th>\n",
       "      <th>primary_cleaner.input.depressant</th>\n",
       "      <th>primary_cleaner.input.feed_size</th>\n",
       "      <th>primary_cleaner.input.xanthate</th>\n",
       "      <th>primary_cleaner.output.concentrate_ag</th>\n",
       "      <th>primary_cleaner.output.concentrate_pb</th>\n",
       "      <th>primary_cleaner.output.concentrate_sol</th>\n",
       "      <th>primary_cleaner.output.concentrate_au</th>\n",
       "      <th>primary_cleaner.output.tail_ag</th>\n",
       "      <th>primary_cleaner.output.tail_pb</th>\n",
       "      <th>primary_cleaner.output.tail_sol</th>\n",
       "      <th>primary_cleaner.output.tail_au</th>\n",
       "      <th>primary_cleaner.state.floatbank8_a_air</th>\n",
       "      <th>primary_cleaner.state.floatbank8_a_level</th>\n",
       "      <th>primary_cleaner.state.floatbank8_b_air</th>\n",
       "      <th>primary_cleaner.state.floatbank8_b_level</th>\n",
       "      <th>primary_cleaner.state.floatbank8_c_air</th>\n",
       "      <th>primary_cleaner.state.floatbank8_c_level</th>\n",
       "      <th>primary_cleaner.state.floatbank8_d_air</th>\n",
       "      <th>primary_cleaner.state.floatbank8_d_level</th>\n",
       "      <th>rougher.calculation.sulfate_to_au_concentrate</th>\n",
       "      <th>rougher.calculation.floatbank10_sulfate_to_au_feed</th>\n",
       "      <th>rougher.calculation.floatbank11_sulfate_to_au_feed</th>\n",
       "      <th>rougher.calculation.au_pb_ratio</th>\n",
       "      <th>rougher.input.feed_ag</th>\n",
       "      <th>rougher.input.feed_pb</th>\n",
       "      <th>rougher.input.feed_rate</th>\n",
       "      <th>rougher.input.feed_size</th>\n",
       "      <th>rougher.input.feed_sol</th>\n",
       "      <th>rougher.input.feed_au</th>\n",
       "      <th>rougher.input.floatbank10_sulfate</th>\n",
       "      <th>rougher.input.floatbank10_xanthate</th>\n",
       "      <th>rougher.input.floatbank11_sulfate</th>\n",
       "      <th>rougher.input.floatbank11_xanthate</th>\n",
       "      <th>rougher.output.concentrate_ag</th>\n",
       "      <th>rougher.output.concentrate_pb</th>\n",
       "      <th>rougher.output.concentrate_sol</th>\n",
       "      <th>rougher.output.concentrate_au</th>\n",
       "      <th>rougher.output.recovery</th>\n",
       "      <th>rougher.output.tail_ag</th>\n",
       "      <th>rougher.output.tail_pb</th>\n",
       "      <th>rougher.output.tail_sol</th>\n",
       "      <th>rougher.output.tail_au</th>\n",
       "      <th>rougher.state.floatbank10_a_air</th>\n",
       "      <th>rougher.state.floatbank10_a_level</th>\n",
       "      <th>rougher.state.floatbank10_b_air</th>\n",
       "      <th>rougher.state.floatbank10_b_level</th>\n",
       "      <th>rougher.state.floatbank10_c_air</th>\n",
       "      <th>rougher.state.floatbank10_c_level</th>\n",
       "      <th>rougher.state.floatbank10_d_air</th>\n",
       "      <th>rougher.state.floatbank10_d_level</th>\n",
       "      <th>rougher.state.floatbank10_e_air</th>\n",
       "      <th>rougher.state.floatbank10_e_level</th>\n",
       "      <th>rougher.state.floatbank10_f_air</th>\n",
       "      <th>rougher.state.floatbank10_f_level</th>\n",
       "      <th>secondary_cleaner.output.tail_ag</th>\n",
       "      <th>secondary_cleaner.output.tail_pb</th>\n",
       "      <th>secondary_cleaner.output.tail_sol</th>\n",
       "      <th>secondary_cleaner.output.tail_au</th>\n",
       "      <th>secondary_cleaner.state.floatbank2_a_air</th>\n",
       "      <th>secondary_cleaner.state.floatbank2_a_level</th>\n",
       "      <th>secondary_cleaner.state.floatbank2_b_air</th>\n",
       "      <th>secondary_cleaner.state.floatbank2_b_level</th>\n",
       "      <th>secondary_cleaner.state.floatbank3_a_air</th>\n",
       "      <th>secondary_cleaner.state.floatbank3_a_level</th>\n",
       "      <th>secondary_cleaner.state.floatbank3_b_air</th>\n",
       "      <th>secondary_cleaner.state.floatbank3_b_level</th>\n",
       "      <th>secondary_cleaner.state.floatbank4_a_air</th>\n",
       "      <th>secondary_cleaner.state.floatbank4_a_level</th>\n",
       "      <th>secondary_cleaner.state.floatbank4_b_air</th>\n",
       "      <th>secondary_cleaner.state.floatbank4_b_level</th>\n",
       "      <th>secondary_cleaner.state.floatbank5_a_air</th>\n",
       "      <th>secondary_cleaner.state.floatbank5_a_level</th>\n",
       "      <th>secondary_cleaner.state.floatbank5_b_air</th>\n",
       "      <th>secondary_cleaner.state.floatbank5_b_level</th>\n",
       "      <th>secondary_cleaner.state.floatbank6_a_air</th>\n",
       "      <th>secondary_cleaner.state.floatbank6_a_level</th>\n",
       "    </tr>\n",
       "  </thead>\n",
       "  <tbody>\n",
       "    <tr>\n",
       "      <th>0</th>\n",
       "      <td>2016-01-15 00:00:00</td>\n",
       "      <td>6.055403</td>\n",
       "      <td>9.889648</td>\n",
       "      <td>5.507324</td>\n",
       "      <td>42.192020</td>\n",
       "      <td>70.541216</td>\n",
       "      <td>10.411962</td>\n",
       "      <td>0.895447</td>\n",
       "      <td>16.904297</td>\n",
       "      <td>2.143149</td>\n",
       "      <td>127.092003</td>\n",
       "      <td>10.128295</td>\n",
       "      <td>7.25</td>\n",
       "      <td>0.988759</td>\n",
       "      <td>8.547551</td>\n",
       "      <td>10.389648</td>\n",
       "      <td>19.529297</td>\n",
       "      <td>34.174427</td>\n",
       "      <td>14.936526</td>\n",
       "      <td>2.534912</td>\n",
       "      <td>7.476074</td>\n",
       "      <td>2.106679</td>\n",
       "      <td>1549.775757</td>\n",
       "      <td>-498.912140</td>\n",
       "      <td>1551.434204</td>\n",
       "      <td>-516.403442</td>\n",
       "      <td>1549.873901</td>\n",
       "      <td>-498.666595</td>\n",
       "      <td>1554.367432</td>\n",
       "      <td>-493.428131</td>\n",
       "      <td>41885.707031</td>\n",
       "      <td>3481.779053</td>\n",
       "      <td>3520.337158</td>\n",
       "      <td>2.838687</td>\n",
       "      <td>6.100378</td>\n",
       "      <td>2.284912</td>\n",
       "      <td>523.546326</td>\n",
       "      <td>55.486599</td>\n",
       "      <td>36.808594</td>\n",
       "      <td>6.486150</td>\n",
       "      <td>11.986616</td>\n",
       "      <td>6.007990</td>\n",
       "      <td>11.836743</td>\n",
       "      <td>6.005818</td>\n",
       "      <td>11.500771</td>\n",
       "      <td>7.101074</td>\n",
       "      <td>28.029297</td>\n",
       "      <td>19.793808</td>\n",
       "      <td>87.107763</td>\n",
       "      <td>5.008018</td>\n",
       "      <td>0.508728</td>\n",
       "      <td>19.154297</td>\n",
       "      <td>1.170244</td>\n",
       "      <td>999.706909</td>\n",
       "      <td>-404.066986</td>\n",
       "      <td>1603.011353</td>\n",
       "      <td>-434.715027</td>\n",
       "      <td>1602.375000</td>\n",
       "      <td>-442.204468</td>\n",
       "      <td>1598.937256</td>\n",
       "      <td>-451.294128</td>\n",
       "      <td>1404.472046</td>\n",
       "      <td>-455.462982</td>\n",
       "      <td>1416.354980</td>\n",
       "      <td>-451.939636</td>\n",
       "      <td>14.500184</td>\n",
       "      <td>4.694824</td>\n",
       "      <td>8.764648</td>\n",
       "      <td>2.606185</td>\n",
       "      <td>25.853109</td>\n",
       "      <td>-498.526489</td>\n",
       "      <td>23.893660</td>\n",
       "      <td>-501.406281</td>\n",
       "      <td>23.961798</td>\n",
       "      <td>-495.262817</td>\n",
       "      <td>21.940409</td>\n",
       "      <td>-499.340973</td>\n",
       "      <td>14.016835</td>\n",
       "      <td>-502.488007</td>\n",
       "      <td>12.099931</td>\n",
       "      <td>-504.715942</td>\n",
       "      <td>9.925633</td>\n",
       "      <td>-498.310211</td>\n",
       "      <td>8.079666</td>\n",
       "      <td>-500.470978</td>\n",
       "      <td>14.151341</td>\n",
       "      <td>-605.841980</td>\n",
       "    </tr>\n",
       "    <tr>\n",
       "      <th>1</th>\n",
       "      <td>2016-01-15 01:00:00</td>\n",
       "      <td>6.029369</td>\n",
       "      <td>9.968944</td>\n",
       "      <td>5.257781</td>\n",
       "      <td>42.701629</td>\n",
       "      <td>69.266198</td>\n",
       "      <td>10.462676</td>\n",
       "      <td>0.927452</td>\n",
       "      <td>16.634514</td>\n",
       "      <td>2.224930</td>\n",
       "      <td>125.629232</td>\n",
       "      <td>10.296251</td>\n",
       "      <td>7.25</td>\n",
       "      <td>1.002663</td>\n",
       "      <td>8.558743</td>\n",
       "      <td>10.497069</td>\n",
       "      <td>19.369147</td>\n",
       "      <td>34.118526</td>\n",
       "      <td>16.250511</td>\n",
       "      <td>3.049646</td>\n",
       "      <td>6.733907</td>\n",
       "      <td>2.353017</td>\n",
       "      <td>1576.166671</td>\n",
       "      <td>-500.904965</td>\n",
       "      <td>1575.950626</td>\n",
       "      <td>-499.865889</td>\n",
       "      <td>1575.994189</td>\n",
       "      <td>-499.315107</td>\n",
       "      <td>1574.479259</td>\n",
       "      <td>-498.931665</td>\n",
       "      <td>42050.861809</td>\n",
       "      <td>3498.370979</td>\n",
       "      <td>3489.981857</td>\n",
       "      <td>2.858998</td>\n",
       "      <td>6.161113</td>\n",
       "      <td>2.266033</td>\n",
       "      <td>525.290581</td>\n",
       "      <td>57.278666</td>\n",
       "      <td>35.753385</td>\n",
       "      <td>6.478583</td>\n",
       "      <td>11.971193</td>\n",
       "      <td>6.005766</td>\n",
       "      <td>11.996163</td>\n",
       "      <td>6.012594</td>\n",
       "      <td>11.615865</td>\n",
       "      <td>7.278807</td>\n",
       "      <td>28.067063</td>\n",
       "      <td>20.050975</td>\n",
       "      <td>86.843261</td>\n",
       "      <td>4.955378</td>\n",
       "      <td>0.536689</td>\n",
       "      <td>18.965234</td>\n",
       "      <td>1.184827</td>\n",
       "      <td>1000.286398</td>\n",
       "      <td>-400.065196</td>\n",
       "      <td>1600.754587</td>\n",
       "      <td>-449.953435</td>\n",
       "      <td>1600.479580</td>\n",
       "      <td>-449.830646</td>\n",
       "      <td>1600.527589</td>\n",
       "      <td>-449.953649</td>\n",
       "      <td>1399.227084</td>\n",
       "      <td>-450.869848</td>\n",
       "      <td>1399.719514</td>\n",
       "      <td>-450.119001</td>\n",
       "      <td>14.265474</td>\n",
       "      <td>4.592547</td>\n",
       "      <td>9.001494</td>\n",
       "      <td>2.488248</td>\n",
       "      <td>25.880539</td>\n",
       "      <td>-499.989656</td>\n",
       "      <td>23.889530</td>\n",
       "      <td>-500.372428</td>\n",
       "      <td>23.970550</td>\n",
       "      <td>-500.085473</td>\n",
       "      <td>22.085714</td>\n",
       "      <td>-499.446897</td>\n",
       "      <td>13.992281</td>\n",
       "      <td>-505.503262</td>\n",
       "      <td>11.950531</td>\n",
       "      <td>-501.331529</td>\n",
       "      <td>10.039245</td>\n",
       "      <td>-500.169983</td>\n",
       "      <td>7.984757</td>\n",
       "      <td>-500.582168</td>\n",
       "      <td>13.998353</td>\n",
       "      <td>-599.787184</td>\n",
       "    </tr>\n",
       "    <tr>\n",
       "      <th>2</th>\n",
       "      <td>2016-01-15 02:00:00</td>\n",
       "      <td>6.055926</td>\n",
       "      <td>10.213995</td>\n",
       "      <td>5.383759</td>\n",
       "      <td>42.657501</td>\n",
       "      <td>68.116445</td>\n",
       "      <td>10.507046</td>\n",
       "      <td>0.953716</td>\n",
       "      <td>16.208849</td>\n",
       "      <td>2.257889</td>\n",
       "      <td>123.819808</td>\n",
       "      <td>11.316280</td>\n",
       "      <td>7.25</td>\n",
       "      <td>0.991265</td>\n",
       "      <td>8.603505</td>\n",
       "      <td>10.354494</td>\n",
       "      <td>19.167579</td>\n",
       "      <td>33.969464</td>\n",
       "      <td>16.491823</td>\n",
       "      <td>3.124664</td>\n",
       "      <td>6.471768</td>\n",
       "      <td>2.416800</td>\n",
       "      <td>1601.556163</td>\n",
       "      <td>-499.997791</td>\n",
       "      <td>1600.386685</td>\n",
       "      <td>-500.607762</td>\n",
       "      <td>1602.003542</td>\n",
       "      <td>-500.870069</td>\n",
       "      <td>1599.541515</td>\n",
       "      <td>-499.827444</td>\n",
       "      <td>42018.101184</td>\n",
       "      <td>3495.348910</td>\n",
       "      <td>3502.359819</td>\n",
       "      <td>2.945989</td>\n",
       "      <td>6.116455</td>\n",
       "      <td>2.159622</td>\n",
       "      <td>530.026610</td>\n",
       "      <td>57.510649</td>\n",
       "      <td>35.971630</td>\n",
       "      <td>6.362222</td>\n",
       "      <td>11.920603</td>\n",
       "      <td>6.197377</td>\n",
       "      <td>11.920305</td>\n",
       "      <td>6.204633</td>\n",
       "      <td>11.695753</td>\n",
       "      <td>7.216833</td>\n",
       "      <td>27.454037</td>\n",
       "      <td>19.737170</td>\n",
       "      <td>86.842308</td>\n",
       "      <td>4.843460</td>\n",
       "      <td>0.546416</td>\n",
       "      <td>18.808533</td>\n",
       "      <td>1.162562</td>\n",
       "      <td>999.719565</td>\n",
       "      <td>-400.074028</td>\n",
       "      <td>1599.337330</td>\n",
       "      <td>-450.008530</td>\n",
       "      <td>1599.672797</td>\n",
       "      <td>-449.954491</td>\n",
       "      <td>1599.849325</td>\n",
       "      <td>-449.954185</td>\n",
       "      <td>1399.180945</td>\n",
       "      <td>-449.937588</td>\n",
       "      <td>1400.316682</td>\n",
       "      <td>-450.527147</td>\n",
       "      <td>14.115662</td>\n",
       "      <td>4.624775</td>\n",
       "      <td>8.842896</td>\n",
       "      <td>2.458187</td>\n",
       "      <td>26.005245</td>\n",
       "      <td>-499.929616</td>\n",
       "      <td>23.886657</td>\n",
       "      <td>-499.951928</td>\n",
       "      <td>23.913535</td>\n",
       "      <td>-499.442343</td>\n",
       "      <td>23.957717</td>\n",
       "      <td>-499.901982</td>\n",
       "      <td>14.015015</td>\n",
       "      <td>-502.520901</td>\n",
       "      <td>11.912783</td>\n",
       "      <td>-501.133383</td>\n",
       "      <td>10.070913</td>\n",
       "      <td>-500.129135</td>\n",
       "      <td>8.013877</td>\n",
       "      <td>-500.517572</td>\n",
       "      <td>14.028663</td>\n",
       "      <td>-601.427363</td>\n",
       "    </tr>\n",
       "    <tr>\n",
       "      <th>3</th>\n",
       "      <td>2016-01-15 03:00:00</td>\n",
       "      <td>6.047977</td>\n",
       "      <td>9.977019</td>\n",
       "      <td>4.858634</td>\n",
       "      <td>42.689819</td>\n",
       "      <td>68.347543</td>\n",
       "      <td>10.422762</td>\n",
       "      <td>0.883763</td>\n",
       "      <td>16.532835</td>\n",
       "      <td>2.146849</td>\n",
       "      <td>122.270188</td>\n",
       "      <td>11.322140</td>\n",
       "      <td>7.25</td>\n",
       "      <td>0.996739</td>\n",
       "      <td>7.221879</td>\n",
       "      <td>8.496563</td>\n",
       "      <td>15.978538</td>\n",
       "      <td>28.260743</td>\n",
       "      <td>16.024359</td>\n",
       "      <td>2.960362</td>\n",
       "      <td>6.843791</td>\n",
       "      <td>2.262051</td>\n",
       "      <td>1599.968720</td>\n",
       "      <td>-500.951778</td>\n",
       "      <td>1600.659236</td>\n",
       "      <td>-499.677094</td>\n",
       "      <td>1600.304144</td>\n",
       "      <td>-500.727997</td>\n",
       "      <td>1600.449520</td>\n",
       "      <td>-500.052575</td>\n",
       "      <td>42029.447991</td>\n",
       "      <td>3498.578313</td>\n",
       "      <td>3499.162912</td>\n",
       "      <td>3.002340</td>\n",
       "      <td>6.043309</td>\n",
       "      <td>2.037807</td>\n",
       "      <td>542.590390</td>\n",
       "      <td>57.792734</td>\n",
       "      <td>36.862241</td>\n",
       "      <td>6.118189</td>\n",
       "      <td>11.630094</td>\n",
       "      <td>6.203177</td>\n",
       "      <td>11.692450</td>\n",
       "      <td>6.196578</td>\n",
       "      <td>11.915047</td>\n",
       "      <td>7.175616</td>\n",
       "      <td>27.341277</td>\n",
       "      <td>19.320810</td>\n",
       "      <td>87.226430</td>\n",
       "      <td>4.655288</td>\n",
       "      <td>0.542525</td>\n",
       "      <td>19.330200</td>\n",
       "      <td>1.079755</td>\n",
       "      <td>999.814770</td>\n",
       "      <td>-400.200179</td>\n",
       "      <td>1600.059442</td>\n",
       "      <td>-450.619948</td>\n",
       "      <td>1600.012842</td>\n",
       "      <td>-449.910497</td>\n",
       "      <td>1597.725177</td>\n",
       "      <td>-450.130127</td>\n",
       "      <td>1400.943157</td>\n",
       "      <td>-450.030142</td>\n",
       "      <td>1400.234743</td>\n",
       "      <td>-449.790835</td>\n",
       "      <td>13.732071</td>\n",
       "      <td>4.482453</td>\n",
       "      <td>9.122857</td>\n",
       "      <td>2.322062</td>\n",
       "      <td>25.942508</td>\n",
       "      <td>-499.176749</td>\n",
       "      <td>23.955516</td>\n",
       "      <td>-499.848796</td>\n",
       "      <td>23.966838</td>\n",
       "      <td>-500.008812</td>\n",
       "      <td>23.954443</td>\n",
       "      <td>-499.944710</td>\n",
       "      <td>14.036510</td>\n",
       "      <td>-500.857308</td>\n",
       "      <td>11.999550</td>\n",
       "      <td>-501.193686</td>\n",
       "      <td>9.970366</td>\n",
       "      <td>-499.201640</td>\n",
       "      <td>7.977324</td>\n",
       "      <td>-500.255908</td>\n",
       "      <td>14.005551</td>\n",
       "      <td>-599.996129</td>\n",
       "    </tr>\n",
       "    <tr>\n",
       "      <th>4</th>\n",
       "      <td>2016-01-15 04:00:00</td>\n",
       "      <td>6.148599</td>\n",
       "      <td>10.142511</td>\n",
       "      <td>4.939416</td>\n",
       "      <td>42.774141</td>\n",
       "      <td>66.927016</td>\n",
       "      <td>10.360302</td>\n",
       "      <td>0.792826</td>\n",
       "      <td>16.525686</td>\n",
       "      <td>2.055292</td>\n",
       "      <td>117.988169</td>\n",
       "      <td>11.913613</td>\n",
       "      <td>7.25</td>\n",
       "      <td>1.009869</td>\n",
       "      <td>9.089428</td>\n",
       "      <td>9.986786</td>\n",
       "      <td>19.199864</td>\n",
       "      <td>33.044932</td>\n",
       "      <td>16.480185</td>\n",
       "      <td>3.112100</td>\n",
       "      <td>6.550154</td>\n",
       "      <td>2.277073</td>\n",
       "      <td>1601.339707</td>\n",
       "      <td>-498.975456</td>\n",
       "      <td>1601.437854</td>\n",
       "      <td>-500.323246</td>\n",
       "      <td>1599.581894</td>\n",
       "      <td>-500.888152</td>\n",
       "      <td>1602.649541</td>\n",
       "      <td>-500.593010</td>\n",
       "      <td>42125.354245</td>\n",
       "      <td>3494.800771</td>\n",
       "      <td>3506.679315</td>\n",
       "      <td>3.169615</td>\n",
       "      <td>6.060915</td>\n",
       "      <td>1.786875</td>\n",
       "      <td>540.531893</td>\n",
       "      <td>56.047189</td>\n",
       "      <td>34.347666</td>\n",
       "      <td>5.663707</td>\n",
       "      <td>10.957755</td>\n",
       "      <td>6.198826</td>\n",
       "      <td>10.960521</td>\n",
       "      <td>6.194897</td>\n",
       "      <td>12.411054</td>\n",
       "      <td>7.240205</td>\n",
       "      <td>27.041023</td>\n",
       "      <td>19.216101</td>\n",
       "      <td>86.688794</td>\n",
       "      <td>4.552800</td>\n",
       "      <td>0.515438</td>\n",
       "      <td>19.267422</td>\n",
       "      <td>1.012642</td>\n",
       "      <td>999.678690</td>\n",
       "      <td>-399.752729</td>\n",
       "      <td>1600.208824</td>\n",
       "      <td>-449.599614</td>\n",
       "      <td>1600.357732</td>\n",
       "      <td>-450.034364</td>\n",
       "      <td>1599.759049</td>\n",
       "      <td>-449.909799</td>\n",
       "      <td>1401.560902</td>\n",
       "      <td>-448.877187</td>\n",
       "      <td>1401.160227</td>\n",
       "      <td>-450.407128</td>\n",
       "      <td>14.079996</td>\n",
       "      <td>4.470737</td>\n",
       "      <td>8.871028</td>\n",
       "      <td>2.330448</td>\n",
       "      <td>26.024787</td>\n",
       "      <td>-500.279091</td>\n",
       "      <td>23.955345</td>\n",
       "      <td>-500.593614</td>\n",
       "      <td>23.985703</td>\n",
       "      <td>-500.083811</td>\n",
       "      <td>23.958945</td>\n",
       "      <td>-499.990309</td>\n",
       "      <td>14.027298</td>\n",
       "      <td>-499.838632</td>\n",
       "      <td>11.953070</td>\n",
       "      <td>-501.053894</td>\n",
       "      <td>9.925709</td>\n",
       "      <td>-501.686727</td>\n",
       "      <td>7.894242</td>\n",
       "      <td>-500.356035</td>\n",
       "      <td>13.996647</td>\n",
       "      <td>-601.496691</td>\n",
       "    </tr>\n",
       "  </tbody>\n",
       "</table>\n",
       "</div>"
      ],
      "text/plain": [
       "                  date  final.output.concentrate_ag  \\\n",
       "0  2016-01-15 00:00:00                     6.055403   \n",
       "1  2016-01-15 01:00:00                     6.029369   \n",
       "2  2016-01-15 02:00:00                     6.055926   \n",
       "3  2016-01-15 03:00:00                     6.047977   \n",
       "4  2016-01-15 04:00:00                     6.148599   \n",
       "\n",
       "   final.output.concentrate_pb  final.output.concentrate_sol  \\\n",
       "0                     9.889648                      5.507324   \n",
       "1                     9.968944                      5.257781   \n",
       "2                    10.213995                      5.383759   \n",
       "3                     9.977019                      4.858634   \n",
       "4                    10.142511                      4.939416   \n",
       "\n",
       "   final.output.concentrate_au  final.output.recovery  final.output.tail_ag  \\\n",
       "0                    42.192020              70.541216             10.411962   \n",
       "1                    42.701629              69.266198             10.462676   \n",
       "2                    42.657501              68.116445             10.507046   \n",
       "3                    42.689819              68.347543             10.422762   \n",
       "4                    42.774141              66.927016             10.360302   \n",
       "\n",
       "   final.output.tail_pb  final.output.tail_sol  final.output.tail_au  \\\n",
       "0              0.895447              16.904297              2.143149   \n",
       "1              0.927452              16.634514              2.224930   \n",
       "2              0.953716              16.208849              2.257889   \n",
       "3              0.883763              16.532835              2.146849   \n",
       "4              0.792826              16.525686              2.055292   \n",
       "\n",
       "   primary_cleaner.input.sulfate  primary_cleaner.input.depressant  \\\n",
       "0                     127.092003                         10.128295   \n",
       "1                     125.629232                         10.296251   \n",
       "2                     123.819808                         11.316280   \n",
       "3                     122.270188                         11.322140   \n",
       "4                     117.988169                         11.913613   \n",
       "\n",
       "   primary_cleaner.input.feed_size  primary_cleaner.input.xanthate  \\\n",
       "0                             7.25                        0.988759   \n",
       "1                             7.25                        1.002663   \n",
       "2                             7.25                        0.991265   \n",
       "3                             7.25                        0.996739   \n",
       "4                             7.25                        1.009869   \n",
       "\n",
       "   primary_cleaner.output.concentrate_ag  \\\n",
       "0                               8.547551   \n",
       "1                               8.558743   \n",
       "2                               8.603505   \n",
       "3                               7.221879   \n",
       "4                               9.089428   \n",
       "\n",
       "   primary_cleaner.output.concentrate_pb  \\\n",
       "0                              10.389648   \n",
       "1                              10.497069   \n",
       "2                              10.354494   \n",
       "3                               8.496563   \n",
       "4                               9.986786   \n",
       "\n",
       "   primary_cleaner.output.concentrate_sol  \\\n",
       "0                               19.529297   \n",
       "1                               19.369147   \n",
       "2                               19.167579   \n",
       "3                               15.978538   \n",
       "4                               19.199864   \n",
       "\n",
       "   primary_cleaner.output.concentrate_au  primary_cleaner.output.tail_ag  \\\n",
       "0                              34.174427                       14.936526   \n",
       "1                              34.118526                       16.250511   \n",
       "2                              33.969464                       16.491823   \n",
       "3                              28.260743                       16.024359   \n",
       "4                              33.044932                       16.480185   \n",
       "\n",
       "   primary_cleaner.output.tail_pb  primary_cleaner.output.tail_sol  \\\n",
       "0                        2.534912                         7.476074   \n",
       "1                        3.049646                         6.733907   \n",
       "2                        3.124664                         6.471768   \n",
       "3                        2.960362                         6.843791   \n",
       "4                        3.112100                         6.550154   \n",
       "\n",
       "   primary_cleaner.output.tail_au  primary_cleaner.state.floatbank8_a_air  \\\n",
       "0                        2.106679                             1549.775757   \n",
       "1                        2.353017                             1576.166671   \n",
       "2                        2.416800                             1601.556163   \n",
       "3                        2.262051                             1599.968720   \n",
       "4                        2.277073                             1601.339707   \n",
       "\n",
       "   primary_cleaner.state.floatbank8_a_level  \\\n",
       "0                               -498.912140   \n",
       "1                               -500.904965   \n",
       "2                               -499.997791   \n",
       "3                               -500.951778   \n",
       "4                               -498.975456   \n",
       "\n",
       "   primary_cleaner.state.floatbank8_b_air  \\\n",
       "0                             1551.434204   \n",
       "1                             1575.950626   \n",
       "2                             1600.386685   \n",
       "3                             1600.659236   \n",
       "4                             1601.437854   \n",
       "\n",
       "   primary_cleaner.state.floatbank8_b_level  \\\n",
       "0                               -516.403442   \n",
       "1                               -499.865889   \n",
       "2                               -500.607762   \n",
       "3                               -499.677094   \n",
       "4                               -500.323246   \n",
       "\n",
       "   primary_cleaner.state.floatbank8_c_air  \\\n",
       "0                             1549.873901   \n",
       "1                             1575.994189   \n",
       "2                             1602.003542   \n",
       "3                             1600.304144   \n",
       "4                             1599.581894   \n",
       "\n",
       "   primary_cleaner.state.floatbank8_c_level  \\\n",
       "0                               -498.666595   \n",
       "1                               -499.315107   \n",
       "2                               -500.870069   \n",
       "3                               -500.727997   \n",
       "4                               -500.888152   \n",
       "\n",
       "   primary_cleaner.state.floatbank8_d_air  \\\n",
       "0                             1554.367432   \n",
       "1                             1574.479259   \n",
       "2                             1599.541515   \n",
       "3                             1600.449520   \n",
       "4                             1602.649541   \n",
       "\n",
       "   primary_cleaner.state.floatbank8_d_level  \\\n",
       "0                               -493.428131   \n",
       "1                               -498.931665   \n",
       "2                               -499.827444   \n",
       "3                               -500.052575   \n",
       "4                               -500.593010   \n",
       "\n",
       "   rougher.calculation.sulfate_to_au_concentrate  \\\n",
       "0                                   41885.707031   \n",
       "1                                   42050.861809   \n",
       "2                                   42018.101184   \n",
       "3                                   42029.447991   \n",
       "4                                   42125.354245   \n",
       "\n",
       "   rougher.calculation.floatbank10_sulfate_to_au_feed  \\\n",
       "0                                         3481.779053   \n",
       "1                                         3498.370979   \n",
       "2                                         3495.348910   \n",
       "3                                         3498.578313   \n",
       "4                                         3494.800771   \n",
       "\n",
       "   rougher.calculation.floatbank11_sulfate_to_au_feed  \\\n",
       "0                                         3520.337158   \n",
       "1                                         3489.981857   \n",
       "2                                         3502.359819   \n",
       "3                                         3499.162912   \n",
       "4                                         3506.679315   \n",
       "\n",
       "   rougher.calculation.au_pb_ratio  rougher.input.feed_ag  \\\n",
       "0                         2.838687               6.100378   \n",
       "1                         2.858998               6.161113   \n",
       "2                         2.945989               6.116455   \n",
       "3                         3.002340               6.043309   \n",
       "4                         3.169615               6.060915   \n",
       "\n",
       "   rougher.input.feed_pb  rougher.input.feed_rate  rougher.input.feed_size  \\\n",
       "0               2.284912               523.546326                55.486599   \n",
       "1               2.266033               525.290581                57.278666   \n",
       "2               2.159622               530.026610                57.510649   \n",
       "3               2.037807               542.590390                57.792734   \n",
       "4               1.786875               540.531893                56.047189   \n",
       "\n",
       "   rougher.input.feed_sol  rougher.input.feed_au  \\\n",
       "0               36.808594               6.486150   \n",
       "1               35.753385               6.478583   \n",
       "2               35.971630               6.362222   \n",
       "3               36.862241               6.118189   \n",
       "4               34.347666               5.663707   \n",
       "\n",
       "   rougher.input.floatbank10_sulfate  rougher.input.floatbank10_xanthate  \\\n",
       "0                          11.986616                            6.007990   \n",
       "1                          11.971193                            6.005766   \n",
       "2                          11.920603                            6.197377   \n",
       "3                          11.630094                            6.203177   \n",
       "4                          10.957755                            6.198826   \n",
       "\n",
       "   rougher.input.floatbank11_sulfate  rougher.input.floatbank11_xanthate  \\\n",
       "0                          11.836743                            6.005818   \n",
       "1                          11.996163                            6.012594   \n",
       "2                          11.920305                            6.204633   \n",
       "3                          11.692450                            6.196578   \n",
       "4                          10.960521                            6.194897   \n",
       "\n",
       "   rougher.output.concentrate_ag  rougher.output.concentrate_pb  \\\n",
       "0                      11.500771                       7.101074   \n",
       "1                      11.615865                       7.278807   \n",
       "2                      11.695753                       7.216833   \n",
       "3                      11.915047                       7.175616   \n",
       "4                      12.411054                       7.240205   \n",
       "\n",
       "   rougher.output.concentrate_sol  rougher.output.concentrate_au  \\\n",
       "0                       28.029297                      19.793808   \n",
       "1                       28.067063                      20.050975   \n",
       "2                       27.454037                      19.737170   \n",
       "3                       27.341277                      19.320810   \n",
       "4                       27.041023                      19.216101   \n",
       "\n",
       "   rougher.output.recovery  rougher.output.tail_ag  rougher.output.tail_pb  \\\n",
       "0                87.107763                5.008018                0.508728   \n",
       "1                86.843261                4.955378                0.536689   \n",
       "2                86.842308                4.843460                0.546416   \n",
       "3                87.226430                4.655288                0.542525   \n",
       "4                86.688794                4.552800                0.515438   \n",
       "\n",
       "   rougher.output.tail_sol  rougher.output.tail_au  \\\n",
       "0                19.154297                1.170244   \n",
       "1                18.965234                1.184827   \n",
       "2                18.808533                1.162562   \n",
       "3                19.330200                1.079755   \n",
       "4                19.267422                1.012642   \n",
       "\n",
       "   rougher.state.floatbank10_a_air  rougher.state.floatbank10_a_level  \\\n",
       "0                       999.706909                        -404.066986   \n",
       "1                      1000.286398                        -400.065196   \n",
       "2                       999.719565                        -400.074028   \n",
       "3                       999.814770                        -400.200179   \n",
       "4                       999.678690                        -399.752729   \n",
       "\n",
       "   rougher.state.floatbank10_b_air  rougher.state.floatbank10_b_level  \\\n",
       "0                      1603.011353                        -434.715027   \n",
       "1                      1600.754587                        -449.953435   \n",
       "2                      1599.337330                        -450.008530   \n",
       "3                      1600.059442                        -450.619948   \n",
       "4                      1600.208824                        -449.599614   \n",
       "\n",
       "   rougher.state.floatbank10_c_air  rougher.state.floatbank10_c_level  \\\n",
       "0                      1602.375000                        -442.204468   \n",
       "1                      1600.479580                        -449.830646   \n",
       "2                      1599.672797                        -449.954491   \n",
       "3                      1600.012842                        -449.910497   \n",
       "4                      1600.357732                        -450.034364   \n",
       "\n",
       "   rougher.state.floatbank10_d_air  rougher.state.floatbank10_d_level  \\\n",
       "0                      1598.937256                        -451.294128   \n",
       "1                      1600.527589                        -449.953649   \n",
       "2                      1599.849325                        -449.954185   \n",
       "3                      1597.725177                        -450.130127   \n",
       "4                      1599.759049                        -449.909799   \n",
       "\n",
       "   rougher.state.floatbank10_e_air  rougher.state.floatbank10_e_level  \\\n",
       "0                      1404.472046                        -455.462982   \n",
       "1                      1399.227084                        -450.869848   \n",
       "2                      1399.180945                        -449.937588   \n",
       "3                      1400.943157                        -450.030142   \n",
       "4                      1401.560902                        -448.877187   \n",
       "\n",
       "   rougher.state.floatbank10_f_air  rougher.state.floatbank10_f_level  \\\n",
       "0                      1416.354980                        -451.939636   \n",
       "1                      1399.719514                        -450.119001   \n",
       "2                      1400.316682                        -450.527147   \n",
       "3                      1400.234743                        -449.790835   \n",
       "4                      1401.160227                        -450.407128   \n",
       "\n",
       "   secondary_cleaner.output.tail_ag  secondary_cleaner.output.tail_pb  \\\n",
       "0                         14.500184                          4.694824   \n",
       "1                         14.265474                          4.592547   \n",
       "2                         14.115662                          4.624775   \n",
       "3                         13.732071                          4.482453   \n",
       "4                         14.079996                          4.470737   \n",
       "\n",
       "   secondary_cleaner.output.tail_sol  secondary_cleaner.output.tail_au  \\\n",
       "0                           8.764648                          2.606185   \n",
       "1                           9.001494                          2.488248   \n",
       "2                           8.842896                          2.458187   \n",
       "3                           9.122857                          2.322062   \n",
       "4                           8.871028                          2.330448   \n",
       "\n",
       "   secondary_cleaner.state.floatbank2_a_air  \\\n",
       "0                                 25.853109   \n",
       "1                                 25.880539   \n",
       "2                                 26.005245   \n",
       "3                                 25.942508   \n",
       "4                                 26.024787   \n",
       "\n",
       "   secondary_cleaner.state.floatbank2_a_level  \\\n",
       "0                                 -498.526489   \n",
       "1                                 -499.989656   \n",
       "2                                 -499.929616   \n",
       "3                                 -499.176749   \n",
       "4                                 -500.279091   \n",
       "\n",
       "   secondary_cleaner.state.floatbank2_b_air  \\\n",
       "0                                 23.893660   \n",
       "1                                 23.889530   \n",
       "2                                 23.886657   \n",
       "3                                 23.955516   \n",
       "4                                 23.955345   \n",
       "\n",
       "   secondary_cleaner.state.floatbank2_b_level  \\\n",
       "0                                 -501.406281   \n",
       "1                                 -500.372428   \n",
       "2                                 -499.951928   \n",
       "3                                 -499.848796   \n",
       "4                                 -500.593614   \n",
       "\n",
       "   secondary_cleaner.state.floatbank3_a_air  \\\n",
       "0                                 23.961798   \n",
       "1                                 23.970550   \n",
       "2                                 23.913535   \n",
       "3                                 23.966838   \n",
       "4                                 23.985703   \n",
       "\n",
       "   secondary_cleaner.state.floatbank3_a_level  \\\n",
       "0                                 -495.262817   \n",
       "1                                 -500.085473   \n",
       "2                                 -499.442343   \n",
       "3                                 -500.008812   \n",
       "4                                 -500.083811   \n",
       "\n",
       "   secondary_cleaner.state.floatbank3_b_air  \\\n",
       "0                                 21.940409   \n",
       "1                                 22.085714   \n",
       "2                                 23.957717   \n",
       "3                                 23.954443   \n",
       "4                                 23.958945   \n",
       "\n",
       "   secondary_cleaner.state.floatbank3_b_level  \\\n",
       "0                                 -499.340973   \n",
       "1                                 -499.446897   \n",
       "2                                 -499.901982   \n",
       "3                                 -499.944710   \n",
       "4                                 -499.990309   \n",
       "\n",
       "   secondary_cleaner.state.floatbank4_a_air  \\\n",
       "0                                 14.016835   \n",
       "1                                 13.992281   \n",
       "2                                 14.015015   \n",
       "3                                 14.036510   \n",
       "4                                 14.027298   \n",
       "\n",
       "   secondary_cleaner.state.floatbank4_a_level  \\\n",
       "0                                 -502.488007   \n",
       "1                                 -505.503262   \n",
       "2                                 -502.520901   \n",
       "3                                 -500.857308   \n",
       "4                                 -499.838632   \n",
       "\n",
       "   secondary_cleaner.state.floatbank4_b_air  \\\n",
       "0                                 12.099931   \n",
       "1                                 11.950531   \n",
       "2                                 11.912783   \n",
       "3                                 11.999550   \n",
       "4                                 11.953070   \n",
       "\n",
       "   secondary_cleaner.state.floatbank4_b_level  \\\n",
       "0                                 -504.715942   \n",
       "1                                 -501.331529   \n",
       "2                                 -501.133383   \n",
       "3                                 -501.193686   \n",
       "4                                 -501.053894   \n",
       "\n",
       "   secondary_cleaner.state.floatbank5_a_air  \\\n",
       "0                                  9.925633   \n",
       "1                                 10.039245   \n",
       "2                                 10.070913   \n",
       "3                                  9.970366   \n",
       "4                                  9.925709   \n",
       "\n",
       "   secondary_cleaner.state.floatbank5_a_level  \\\n",
       "0                                 -498.310211   \n",
       "1                                 -500.169983   \n",
       "2                                 -500.129135   \n",
       "3                                 -499.201640   \n",
       "4                                 -501.686727   \n",
       "\n",
       "   secondary_cleaner.state.floatbank5_b_air  \\\n",
       "0                                  8.079666   \n",
       "1                                  7.984757   \n",
       "2                                  8.013877   \n",
       "3                                  7.977324   \n",
       "4                                  7.894242   \n",
       "\n",
       "   secondary_cleaner.state.floatbank5_b_level  \\\n",
       "0                                 -500.470978   \n",
       "1                                 -500.582168   \n",
       "2                                 -500.517572   \n",
       "3                                 -500.255908   \n",
       "4                                 -500.356035   \n",
       "\n",
       "   secondary_cleaner.state.floatbank6_a_air  \\\n",
       "0                                 14.151341   \n",
       "1                                 13.998353   \n",
       "2                                 14.028663   \n",
       "3                                 14.005551   \n",
       "4                                 13.996647   \n",
       "\n",
       "   secondary_cleaner.state.floatbank6_a_level  \n",
       "0                                 -605.841980  \n",
       "1                                 -599.787184  \n",
       "2                                 -601.427363  \n",
       "3                                 -599.996129  \n",
       "4                                 -601.496691  "
      ]
     },
     "metadata": {},
     "output_type": "display_data"
    },
    {
     "name": "stdout",
     "output_type": "stream",
     "text": [
      "<class 'pandas.core.frame.DataFrame'>\n",
      "RangeIndex: 19439 entries, 0 to 19438\n",
      "Data columns (total 87 columns):\n",
      " #   Column                                              Non-Null Count  Dtype  \n",
      "---  ------                                              --------------  -----  \n",
      " 0   date                                                19439 non-null  object \n",
      " 1   final.output.concentrate_ag                         19438 non-null  float64\n",
      " 2   final.output.concentrate_pb                         19438 non-null  float64\n",
      " 3   final.output.concentrate_sol                        19228 non-null  float64\n",
      " 4   final.output.concentrate_au                         19439 non-null  float64\n",
      " 5   final.output.recovery                               19439 non-null  float64\n",
      " 6   final.output.tail_ag                                19438 non-null  float64\n",
      " 7   final.output.tail_pb                                19338 non-null  float64\n",
      " 8   final.output.tail_sol                               19433 non-null  float64\n",
      " 9   final.output.tail_au                                19439 non-null  float64\n",
      " 10  primary_cleaner.input.sulfate                       19415 non-null  float64\n",
      " 11  primary_cleaner.input.depressant                    19402 non-null  float64\n",
      " 12  primary_cleaner.input.feed_size                     19439 non-null  float64\n",
      " 13  primary_cleaner.input.xanthate                      19335 non-null  float64\n",
      " 14  primary_cleaner.output.concentrate_ag               19439 non-null  float64\n",
      " 15  primary_cleaner.output.concentrate_pb               19323 non-null  float64\n",
      " 16  primary_cleaner.output.concentrate_sol              19069 non-null  float64\n",
      " 17  primary_cleaner.output.concentrate_au               19439 non-null  float64\n",
      " 18  primary_cleaner.output.tail_ag                      19435 non-null  float64\n",
      " 19  primary_cleaner.output.tail_pb                      19418 non-null  float64\n",
      " 20  primary_cleaner.output.tail_sol                     19377 non-null  float64\n",
      " 21  primary_cleaner.output.tail_au                      19439 non-null  float64\n",
      " 22  primary_cleaner.state.floatbank8_a_air              19435 non-null  float64\n",
      " 23  primary_cleaner.state.floatbank8_a_level            19438 non-null  float64\n",
      " 24  primary_cleaner.state.floatbank8_b_air              19435 non-null  float64\n",
      " 25  primary_cleaner.state.floatbank8_b_level            19438 non-null  float64\n",
      " 26  primary_cleaner.state.floatbank8_c_air              19437 non-null  float64\n",
      " 27  primary_cleaner.state.floatbank8_c_level            19438 non-null  float64\n",
      " 28  primary_cleaner.state.floatbank8_d_air              19436 non-null  float64\n",
      " 29  primary_cleaner.state.floatbank8_d_level            19438 non-null  float64\n",
      " 30  rougher.calculation.sulfate_to_au_concentrate       19437 non-null  float64\n",
      " 31  rougher.calculation.floatbank10_sulfate_to_au_feed  19437 non-null  float64\n",
      " 32  rougher.calculation.floatbank11_sulfate_to_au_feed  19437 non-null  float64\n",
      " 33  rougher.calculation.au_pb_ratio                     19439 non-null  float64\n",
      " 34  rougher.input.feed_ag                               19439 non-null  float64\n",
      " 35  rougher.input.feed_pb                               19339 non-null  float64\n",
      " 36  rougher.input.feed_rate                             19428 non-null  float64\n",
      " 37  rougher.input.feed_size                             19294 non-null  float64\n",
      " 38  rougher.input.feed_sol                              19340 non-null  float64\n",
      " 39  rougher.input.feed_au                               19439 non-null  float64\n",
      " 40  rougher.input.floatbank10_sulfate                   19405 non-null  float64\n",
      " 41  rougher.input.floatbank10_xanthate                  19431 non-null  float64\n",
      " 42  rougher.input.floatbank11_sulfate                   19395 non-null  float64\n",
      " 43  rougher.input.floatbank11_xanthate                  18986 non-null  float64\n",
      " 44  rougher.output.concentrate_ag                       19439 non-null  float64\n",
      " 45  rougher.output.concentrate_pb                       19439 non-null  float64\n",
      " 46  rougher.output.concentrate_sol                      19416 non-null  float64\n",
      " 47  rougher.output.concentrate_au                       19439 non-null  float64\n",
      " 48  rougher.output.recovery                             19439 non-null  float64\n",
      " 49  rougher.output.tail_ag                              19438 non-null  float64\n",
      " 50  rougher.output.tail_pb                              19439 non-null  float64\n",
      " 51  rougher.output.tail_sol                             19439 non-null  float64\n",
      " 52  rougher.output.tail_au                              19439 non-null  float64\n",
      " 53  rougher.state.floatbank10_a_air                     19438 non-null  float64\n",
      " 54  rougher.state.floatbank10_a_level                   19438 non-null  float64\n",
      " 55  rougher.state.floatbank10_b_air                     19438 non-null  float64\n",
      " 56  rougher.state.floatbank10_b_level                   19438 non-null  float64\n",
      " 57  rougher.state.floatbank10_c_air                     19438 non-null  float64\n",
      " 58  rougher.state.floatbank10_c_level                   19438 non-null  float64\n",
      " 59  rougher.state.floatbank10_d_air                     19439 non-null  float64\n",
      " 60  rougher.state.floatbank10_d_level                   19439 non-null  float64\n",
      " 61  rougher.state.floatbank10_e_air                     19003 non-null  float64\n",
      " 62  rougher.state.floatbank10_e_level                   19439 non-null  float64\n",
      " 63  rougher.state.floatbank10_f_air                     19439 non-null  float64\n",
      " 64  rougher.state.floatbank10_f_level                   19439 non-null  float64\n",
      " 65  secondary_cleaner.output.tail_ag                    19437 non-null  float64\n",
      " 66  secondary_cleaner.output.tail_pb                    19427 non-null  float64\n",
      " 67  secondary_cleaner.output.tail_sol                   17691 non-null  float64\n",
      " 68  secondary_cleaner.output.tail_au                    19439 non-null  float64\n",
      " 69  secondary_cleaner.state.floatbank2_a_air            19219 non-null  float64\n",
      " 70  secondary_cleaner.state.floatbank2_a_level          19438 non-null  float64\n",
      " 71  secondary_cleaner.state.floatbank2_b_air            19416 non-null  float64\n",
      " 72  secondary_cleaner.state.floatbank2_b_level          19438 non-null  float64\n",
      " 73  secondary_cleaner.state.floatbank3_a_air            19426 non-null  float64\n",
      " 74  secondary_cleaner.state.floatbank3_a_level          19438 non-null  float64\n",
      " 75  secondary_cleaner.state.floatbank3_b_air            19438 non-null  float64\n",
      " 76  secondary_cleaner.state.floatbank3_b_level          19438 non-null  float64\n",
      " 77  secondary_cleaner.state.floatbank4_a_air            19433 non-null  float64\n",
      " 78  secondary_cleaner.state.floatbank4_a_level          19438 non-null  float64\n",
      " 79  secondary_cleaner.state.floatbank4_b_air            19438 non-null  float64\n",
      " 80  secondary_cleaner.state.floatbank4_b_level          19438 non-null  float64\n",
      " 81  secondary_cleaner.state.floatbank5_a_air            19438 non-null  float64\n",
      " 82  secondary_cleaner.state.floatbank5_a_level          19438 non-null  float64\n",
      " 83  secondary_cleaner.state.floatbank5_b_air            19438 non-null  float64\n",
      " 84  secondary_cleaner.state.floatbank5_b_level          19438 non-null  float64\n",
      " 85  secondary_cleaner.state.floatbank6_a_air            19437 non-null  float64\n",
      " 86  secondary_cleaner.state.floatbank6_a_level          19438 non-null  float64\n",
      "dtypes: float64(86), object(1)\n",
      "memory usage: 12.9+ MB\n"
     ]
    },
    {
     "data": {
      "text/plain": [
       "date                                                     0\n",
       "final.output.concentrate_ag                              1\n",
       "final.output.concentrate_pb                              1\n",
       "final.output.concentrate_sol                           211\n",
       "final.output.concentrate_au                              0\n",
       "final.output.recovery                                    0\n",
       "final.output.tail_ag                                     1\n",
       "final.output.tail_pb                                   101\n",
       "final.output.tail_sol                                    6\n",
       "final.output.tail_au                                     0\n",
       "primary_cleaner.input.sulfate                           24\n",
       "primary_cleaner.input.depressant                        37\n",
       "primary_cleaner.input.feed_size                          0\n",
       "primary_cleaner.input.xanthate                         104\n",
       "primary_cleaner.output.concentrate_ag                    0\n",
       "primary_cleaner.output.concentrate_pb                  116\n",
       "primary_cleaner.output.concentrate_sol                 370\n",
       "primary_cleaner.output.concentrate_au                    0\n",
       "primary_cleaner.output.tail_ag                           4\n",
       "primary_cleaner.output.tail_pb                          21\n",
       "primary_cleaner.output.tail_sol                         62\n",
       "primary_cleaner.output.tail_au                           0\n",
       "primary_cleaner.state.floatbank8_a_air                   4\n",
       "primary_cleaner.state.floatbank8_a_level                 1\n",
       "primary_cleaner.state.floatbank8_b_air                   4\n",
       "primary_cleaner.state.floatbank8_b_level                 1\n",
       "primary_cleaner.state.floatbank8_c_air                   2\n",
       "primary_cleaner.state.floatbank8_c_level                 1\n",
       "primary_cleaner.state.floatbank8_d_air                   3\n",
       "primary_cleaner.state.floatbank8_d_level                 1\n",
       "rougher.calculation.sulfate_to_au_concentrate            2\n",
       "rougher.calculation.floatbank10_sulfate_to_au_feed       2\n",
       "rougher.calculation.floatbank11_sulfate_to_au_feed       2\n",
       "rougher.calculation.au_pb_ratio                          0\n",
       "rougher.input.feed_ag                                    0\n",
       "rougher.input.feed_pb                                  100\n",
       "rougher.input.feed_rate                                 11\n",
       "rougher.input.feed_size                                145\n",
       "rougher.input.feed_sol                                  99\n",
       "rougher.input.feed_au                                    0\n",
       "rougher.input.floatbank10_sulfate                       34\n",
       "rougher.input.floatbank10_xanthate                       8\n",
       "rougher.input.floatbank11_sulfate                       44\n",
       "rougher.input.floatbank11_xanthate                     453\n",
       "rougher.output.concentrate_ag                            0\n",
       "rougher.output.concentrate_pb                            0\n",
       "rougher.output.concentrate_sol                          23\n",
       "rougher.output.concentrate_au                            0\n",
       "rougher.output.recovery                                  0\n",
       "rougher.output.tail_ag                                   1\n",
       "rougher.output.tail_pb                                   0\n",
       "rougher.output.tail_sol                                  0\n",
       "rougher.output.tail_au                                   0\n",
       "rougher.state.floatbank10_a_air                          1\n",
       "rougher.state.floatbank10_a_level                        1\n",
       "rougher.state.floatbank10_b_air                          1\n",
       "rougher.state.floatbank10_b_level                        1\n",
       "rougher.state.floatbank10_c_air                          1\n",
       "rougher.state.floatbank10_c_level                        1\n",
       "rougher.state.floatbank10_d_air                          0\n",
       "rougher.state.floatbank10_d_level                        0\n",
       "rougher.state.floatbank10_e_air                        436\n",
       "rougher.state.floatbank10_e_level                        0\n",
       "rougher.state.floatbank10_f_air                          0\n",
       "rougher.state.floatbank10_f_level                        0\n",
       "secondary_cleaner.output.tail_ag                         2\n",
       "secondary_cleaner.output.tail_pb                        12\n",
       "secondary_cleaner.output.tail_sol                     1748\n",
       "secondary_cleaner.output.tail_au                         0\n",
       "secondary_cleaner.state.floatbank2_a_air               220\n",
       "secondary_cleaner.state.floatbank2_a_level               1\n",
       "secondary_cleaner.state.floatbank2_b_air                23\n",
       "secondary_cleaner.state.floatbank2_b_level               1\n",
       "secondary_cleaner.state.floatbank3_a_air                13\n",
       "secondary_cleaner.state.floatbank3_a_level               1\n",
       "secondary_cleaner.state.floatbank3_b_air                 1\n",
       "secondary_cleaner.state.floatbank3_b_level               1\n",
       "secondary_cleaner.state.floatbank4_a_air                 6\n",
       "secondary_cleaner.state.floatbank4_a_level               1\n",
       "secondary_cleaner.state.floatbank4_b_air                 1\n",
       "secondary_cleaner.state.floatbank4_b_level               1\n",
       "secondary_cleaner.state.floatbank5_a_air                 1\n",
       "secondary_cleaner.state.floatbank5_a_level               1\n",
       "secondary_cleaner.state.floatbank5_b_air                 1\n",
       "secondary_cleaner.state.floatbank5_b_level               1\n",
       "secondary_cleaner.state.floatbank6_a_air                 2\n",
       "secondary_cleaner.state.floatbank6_a_level               1\n",
       "dtype: int64"
      ]
     },
     "execution_count": 5,
     "metadata": {},
     "output_type": "execute_result"
    }
   ],
   "source": [
    "display(full.head())\n",
    "full.info()\n",
    "full.isna().sum()"
   ]
  },
  {
   "cell_type": "code",
   "execution_count": 6,
   "metadata": {},
   "outputs": [
    {
     "name": "stdout",
     "output_type": "stream",
     "text": [
      "MAE: 9.73512347450521e-15\n"
     ]
    }
   ],
   "source": [
    "C = train['rougher.output.concentrate_au']  \n",
    "F = train['rougher.input.feed_au']\n",
    "T = train['rougher.output.tail_au']\n",
    "\n",
    "train['recovery'] = (C * (F - T)) / (F * (C - T)) * 100\n",
    "\n",
    "mae = mean_absolute_error(train['recovery'], train['rougher.output.recovery'])\n",
    "print('MAE:', mae)"
   ]
  },
  {
   "cell_type": "code",
   "execution_count": 7,
   "metadata": {},
   "outputs": [
    {
     "data": {
      "text/plain": [
       "['final.output.concentrate_ag',\n",
       " 'final.output.concentrate_au',\n",
       " 'final.output.concentrate_pb',\n",
       " 'final.output.concentrate_sol',\n",
       " 'final.output.recovery',\n",
       " 'final.output.tail_ag',\n",
       " 'final.output.tail_au',\n",
       " 'final.output.tail_pb',\n",
       " 'final.output.tail_sol',\n",
       " 'primary_cleaner.output.concentrate_ag',\n",
       " 'primary_cleaner.output.concentrate_au',\n",
       " 'primary_cleaner.output.concentrate_pb',\n",
       " 'primary_cleaner.output.concentrate_sol',\n",
       " 'primary_cleaner.output.tail_ag',\n",
       " 'primary_cleaner.output.tail_au',\n",
       " 'primary_cleaner.output.tail_pb',\n",
       " 'primary_cleaner.output.tail_sol',\n",
       " 'recovery',\n",
       " 'rougher.calculation.au_pb_ratio',\n",
       " 'rougher.calculation.floatbank10_sulfate_to_au_feed',\n",
       " 'rougher.calculation.floatbank11_sulfate_to_au_feed',\n",
       " 'rougher.calculation.sulfate_to_au_concentrate',\n",
       " 'rougher.output.concentrate_ag',\n",
       " 'rougher.output.concentrate_au',\n",
       " 'rougher.output.concentrate_pb',\n",
       " 'rougher.output.concentrate_sol',\n",
       " 'rougher.output.recovery',\n",
       " 'rougher.output.tail_ag',\n",
       " 'rougher.output.tail_au',\n",
       " 'rougher.output.tail_pb',\n",
       " 'rougher.output.tail_sol',\n",
       " 'secondary_cleaner.output.tail_ag',\n",
       " 'secondary_cleaner.output.tail_au',\n",
       " 'secondary_cleaner.output.tail_pb',\n",
       " 'secondary_cleaner.output.tail_sol']"
      ]
     },
     "execution_count": 7,
     "metadata": {},
     "output_type": "execute_result"
    }
   ],
   "source": [
    "#Список признаков трейна, которые отсутствуют в тесте\n",
    "train.columns.difference(test.columns).tolist()"
   ]
  },
  {
   "cell_type": "code",
   "execution_count": 8,
   "metadata": {},
   "outputs": [],
   "source": [
    "train = train.ffill()\n",
    "test = test.ffill()\n",
    "full = full.ffill()"
   ]
  },
  {
   "cell_type": "markdown",
   "metadata": {},
   "source": [
    "<b>Вывод</b>  \n",
    "Во время изучения датасетов выявил пропуски, которые заполнил ближайшими значениями (как в условиях проекта).  \n",
    "Нашел признаки в трейне, которых нет в тесте. Эти признаки отсутствуют, потому что замеряются и рассчитываются гораздо позже.  \n",
    "Проверил правильность рассчета эффективности обогащения: вычислил эффективность обогащения после флотации на трейне и нашел среднюю абсолютную ошибку между рассчитанными значениями и значениям признака. Исходя из того, что средняя абсолютная ошибка близка к 0, сделал вывод, что данные корректны."
   ]
  },
  {
   "cell_type": "markdown",
   "metadata": {},
   "source": [
    "## Анализ данных"
   ]
  },
  {
   "cell_type": "code",
   "execution_count": 9,
   "metadata": {},
   "outputs": [],
   "source": [
    "au = full[[\n",
    "    'rougher.input.feed_au', 'rougher.output.concentrate_au', \n",
    "    'primary_cleaner.output.concentrate_au', 'final.output.concentrate_au'\n",
    "]]\n",
    "ag = full[[\n",
    "    'rougher.input.feed_ag', 'rougher.output.concentrate_ag',\n",
    "    'primary_cleaner.output.concentrate_ag', 'final.output.concentrate_ag'\n",
    "]]\n",
    "pb = full[[\n",
    "    'rougher.input.feed_pb', 'rougher.output.concentrate_pb',\n",
    "    'primary_cleaner.output.concentrate_pb', 'final.output.concentrate_pb'\n",
    "]]"
   ]
  },
  {
   "cell_type": "code",
   "execution_count": 10,
   "metadata": {},
   "outputs": [
    {
     "name": "stderr",
     "output_type": "stream",
     "text": [
      "/opt/conda/lib/python3.9/site-packages/seaborn/distributions.py:2557: FutureWarning: `distplot` is a deprecated function and will be removed in a future version. Please adapt your code to use either `displot` (a figure-level function with similar flexibility) or `histplot` (an axes-level function for histograms).\n",
      "  warnings.warn(msg, FutureWarning)\n"
     ]
    },
    {
     "data": {
      "image/png": "[encoded data removed]",
      "text/plain": [
       "<Figure size 1440x1080 with 3 Axes>"
      ]
     },
     "metadata": {
      "needs_background": "light"
     },
     "output_type": "display_data"
    }
   ],
   "source": [
    "fig, axes = plt.subplots(3, 1, figsize=(20, 15))\n",
    "for column in list(au):\n",
    "    sns.distplot(au[column], ax=axes[0], kde=False)\n",
    "axes[0].set(title='Золото', xlabel='Концентрация, %', ylabel='Количество')\n",
    "for column in list(ag):\n",
    "    sns.distplot(ag[column], ax=axes[1], kde=False)\n",
    "axes[1].set(title='Серебро', xlabel='Концентрация, %', ylabel='Количество')\n",
    "for column in list(pb):\n",
    "    sns.distplot(pb[column], ax=axes[2], kde=False)\n",
    "axes[2].set(title='Свинец', xlabel='Концентрация, %', ylabel='Количество')\n",
    "fig.suptitle('Концентрация металлов после разных этапов')\n",
    "fig.legend(['Концентрация входящего сырья', 'Концентрация после флотации', 'Концентрация после первой очистки', 'Финальная концентрация',])\n",
    "fig.show()"
   ]
  },
  {
   "cell_type": "code",
   "execution_count": 11,
   "metadata": {},
   "outputs": [
    {
     "data": {
      "image/png": "[encoded data removed]",
      "text/plain": [
       "<Figure size 1440x720 with 2 Axes>"
      ]
     },
     "metadata": {
      "needs_background": "light"
     },
     "output_type": "display_data"
    }
   ],
   "source": [
    "fig, axes = plt.subplots(2,1, figsize=(20, 10))\n",
    "axes[0].hist(train['primary_cleaner.input.feed_size'], density=True, alpha=0.5, bins=50)\n",
    "axes[0].hist(test['primary_cleaner.input.feed_size'], density=True, alpha=0.5, bins=50)\n",
    "axes[0].set(title='Размерсырья входящего на первую очистку', xlabel='Количество', ylabel='Размер')\n",
    "axes[1].hist(train['rougher.input.feed_size'], density=True, alpha=0.5, bins=50)\n",
    "axes[1].hist(test['rougher.input.feed_size'], density=True, alpha=0.5, bins=50)\n",
    "axes[1].set(title='Размер сырья входящего на флотацию', xlabel='Количество', ylabel='Размер')\n",
    "fig.suptitle('Распределение сырья по размерам')\n",
    "fig.legend(['Обучающий набор данных', 'Тестовый набор данных'])\n",
    "fig.show()"
   ]
  },
  {
   "cell_type": "code",
   "execution_count": 12,
   "metadata": {},
   "outputs": [],
   "source": [
    "full['rougher.input.feed'] = full['rougher.input.feed_au'] + full['rougher.input.feed_ag'] + full['rougher.input.feed_pb'] + full['rougher.input.feed_sol']\n",
    "full['rougher.output.concentrate'] = full['rougher.output.concentrate_au'] + full['rougher.output.concentrate_ag'] + full['rougher.output.concentrate_pb'] + full['rougher.output.concentrate_sol']\n",
    "full['final.output.concentrate'] = full['final.output.concentrate_au'] + full['final.output.concentrate_ag'] + full['final.output.concentrate_pb'] + full['final.output.concentrate_sol']\n",
    "concentrate = full[['rougher.input.feed', 'rougher.output.concentrate', 'final.output.concentrate']]"
   ]
  },
  {
   "cell_type": "code",
   "execution_count": 13,
   "metadata": {
    "scrolled": true
   },
   "outputs": [
    {
     "data": {
      "text/plain": [
       "(19439, 90)"
      ]
     },
     "execution_count": 13,
     "metadata": {},
     "output_type": "execute_result"
    },
    {
     "data": {
      "image/png": "[encoded data removed]",
      "text/plain": [
       "<Figure size 1440x360 with 1 Axes>"
      ]
     },
     "metadata": {
      "needs_background": "light"
     },
     "output_type": "display_data"
    }
   ],
   "source": [
    "fig = plt.figure(figsize=(20, 5))\n",
    "for column in list(concentrate):\n",
    "    sns.distplot(concentrate[column], kde=False)\n",
    "plt.legend(['Суммарная концентрация до флотации', 'Суммарная концентрация после флотации', 'Суммарная финальная концентрация'])\n",
    "plt.title('Общая концентрация металлов на разных стадиях')\n",
    "plt.xlabel('Концентрация, %')\n",
    "plt.ylabel('Количество')\n",
    "fig.show()\n",
    "full.shape"
   ]
  },
  {
   "cell_type": "code",
   "execution_count": 14,
   "metadata": {},
   "outputs": [
    {
     "name": "stderr",
     "output_type": "stream",
     "text": [
      "/opt/conda/lib/python3.9/site-packages/seaborn/distributions.py:2557: FutureWarning: `distplot` is a deprecated function and will be removed in a future version. Please adapt your code to use either `displot` (a figure-level function with similar flexibility) or `histplot` (an axes-level function for histograms).\n",
      "  warnings.warn(msg, FutureWarning)\n"
     ]
    },
    {
     "data": {
      "text/plain": [
       "(18610, 90)"
      ]
     },
     "execution_count": 14,
     "metadata": {},
     "output_type": "execute_result"
    },
    {
     "data": {
      "image/png": "[encoded data removed]",
      "text/plain": [
       "<Figure size 1440x360 with 1 Axes>"
      ]
     },
     "metadata": {
      "needs_background": "light"
     },
     "output_type": "display_data"
    }
   ],
   "source": [
    "full=full[full['rougher.input.feed'] > 35]\n",
    "full=full[full['rougher.output.concentrate'] > 35]\n",
    "full=full[full['final.output.concentrate'] > 35]\n",
    "concentrate_1 = full[['rougher.input.feed', 'rougher.output.concentrate', 'final.output.concentrate']]\n",
    "fig = plt.figure(figsize=(20, 5))\n",
    "for column in list(concentrate_1):\n",
    "    sns.distplot(concentrate_1[column], kde=False)\n",
    "plt.legend(['Суммарная концентрация до флотации', 'Суммарная концентрация после флотации', 'Суммарная финальная концентрация'])\n",
    "plt.title('Общая концентрация металлов на разных стадиях')\n",
    "plt.xlabel('Концентрация, %')\n",
    "plt.ylabel('Количество')\n",
    "fig.show()\n",
    "full.shape"
   ]
  },
  {
   "cell_type": "code",
   "execution_count": 15,
   "metadata": {},
   "outputs": [
    {
     "name": "stderr",
     "output_type": "stream",
     "text": [
      "/opt/conda/lib/python3.9/site-packages/seaborn/distributions.py:2557: FutureWarning: `distplot` is a deprecated function and will be removed in a future version. Please adapt your code to use either `displot` (a figure-level function with similar flexibility) or `histplot` (an axes-level function for histograms).\n",
      "  warnings.warn(msg, FutureWarning)\n"
     ]
    },
    {
     "data": {
      "image/png": "[encoded data removed]",
      "text/plain": [
       "<Figure size 1440x360 with 1 Axes>"
      ]
     },
     "metadata": {
      "needs_background": "light"
     },
     "output_type": "display_data"
    }
   ],
   "source": [
    "train['rougher.input.feed'] = train['rougher.input.feed_au'] + train['rougher.input.feed_ag'] + train['rougher.input.feed_pb'] + train['rougher.input.feed_sol']\n",
    "train['rougher.output.concentrate'] = train['rougher.output.concentrate_au'] + train['rougher.output.concentrate_ag'] + train['rougher.output.concentrate_pb'] + train['rougher.output.concentrate_sol']\n",
    "train['final.output.concentrate'] = train['final.output.concentrate_au'] + train['final.output.concentrate_ag'] + train['final.output.concentrate_pb'] + train['final.output.concentrate_sol']\n",
    "\n",
    "train = train[train['rougher.input.feed'] > 35]\n",
    "train = train[train['rougher.output.concentrate'] > 35]\n",
    "train = train[train['final.output.concentrate'] > 35]\n",
    "\n",
    "concentrate_2 = train[['rougher.input.feed', 'rougher.output.concentrate', 'final.output.concentrate']]\n",
    "fig = plt.figure(figsize=(20, 5))\n",
    "for column in list(concentrate_2):\n",
    "    sns.distplot(concentrate_2[column], kde=False)\n",
    "plt.legend(['Суммарная концентрация до флотации', 'Суммарная концентрация после флотации', 'Суммарная финальная концентрация'])\n",
    "plt.title('Общая концентрация металлов на разных стадиях')\n",
    "plt.xlabel('Концентрация, %')\n",
    "plt.ylabel('Количество')\n",
    "fig.show()"
   ]
  },
  {
   "cell_type": "markdown",
   "metadata": {},
   "source": [
    "<b>Вывод</b>  \n",
    "В данном разделе построил гистограммы по некоторым признакам.  \n",
    "Построил гистограммы для концентрации металлов на различных этапах технологического процесса. Концентрации распределны нормально, за исключением присутствующих значений в районе 0. Логично что, по мере продвижения тех процесса концентрация золота стремительно растет, получают же золото. Концентрация серебра после флотации выросла, а после финальной отчистки уменьшилась, возможно после этого этапа серебро остается в отвальных хвостах. Концентрация свинца на этапах процесса незначительно растет.   \n",
    "Построил гистограммы распределения размеров гранул сырья. Значения также распределены нормально.  \n",
    "Построил гистограмму распределения суммарных концентраций металлов на различных этапах технологического процесса. Данные распределены нормально. Удалил значения меньше 35, потому что их частота нулевая."
   ]
  },
  {
   "cell_type": "markdown",
   "metadata": {},
   "source": [
    "## Модель"
   ]
  },
  {
   "cell_type": "code",
   "execution_count": 16,
   "metadata": {},
   "outputs": [],
   "source": [
    "test = pd.merge(test, full)\n",
    "target_test = test[['rougher.output.recovery','final.output.recovery']]"
   ]
  },
  {
   "cell_type": "code",
   "execution_count": 17,
   "metadata": {
    "scrolled": false
   },
   "outputs": [],
   "source": [
    "test.drop(test.iloc[:, 53:87], inplace=True, axis=1)\n",
    "features_test = test.drop(['date'], axis=1)"
   ]
  },
  {
   "cell_type": "code",
   "execution_count": 18,
   "metadata": {},
   "outputs": [],
   "source": [
    "columns = test.columns"
   ]
  },
  {
   "cell_type": "code",
   "execution_count": 19,
   "metadata": {
    "scrolled": false
   },
   "outputs": [],
   "source": [
    "features_train = train[columns]\n",
    "features_train = features_train.drop(['date'],axis=1)\n",
    "target_train = train[['rougher.output.recovery', 'final.output.recovery']]"
   ]
  },
  {
   "cell_type": "code",
   "execution_count": 20,
   "metadata": {},
   "outputs": [],
   "source": [
    "def smape_func(target, predict):\n",
    "    smape = (abs(target - predict)) / ((abs(target) + abs(predict)) / 2)\n",
    "    smape = smape.mean() * 100\n",
    "    return smape * (-1)\n",
    "\n",
    "def final_smape_func(smape_rougher, smape_final):\n",
    "    final_smape = (0.25 * smape_rougher + 0.75 * smape_final).mean()\n",
    "    return final_smape"
   ]
  },
  {
   "cell_type": "code",
   "execution_count": 21,
   "metadata": {},
   "outputs": [],
   "source": [
    "smape_score = make_scorer(smape_func, greater_is_better=False)"
   ]
  },
  {
   "cell_type": "markdown",
   "metadata": {},
   "source": [
    "<br/>    \n",
    "<div class=\"alert alert-info\">\n",
    "<h2> Комментарий студента v. 1: <a class=\"tocSkip\"> </h2>\n",
    "\n",
    "Домножил на -1, хотя в Dummy модели не понял почему smape стало отрицательным\n",
    "</div> \n",
    "\n",
    "<br/>    "
   ]
  },
  {
   "cell_type": "markdown",
   "metadata": {},
   "source": [
    "<div class=\"alert alert-success\">\n",
    "<h2> Комментарий ревьюера 2 <a class=\"tocSkip\"> </h2>\n",
    "\n",
    "<b>Все отлично!👍:</b> ее можно  просто домножить на -1"
   ]
  },
  {
   "cell_type": "code",
   "execution_count": 22,
   "metadata": {},
   "outputs": [
    {
     "name": "stdout",
     "output_type": "stream",
     "text": [
      "Лучшая средняя sMAPE 9.695894910884162\n"
     ]
    }
   ],
   "source": [
    "model_lr = LinearRegression()\n",
    "\n",
    "score_lr_r = cross_val_score(model_lr, features_train, target_train['rougher.output.recovery'], scoring=smape_score, cv=5)\n",
    "score_lr_f = cross_val_score(model_lr, features_train, target_train['final.output.recovery'], scoring=smape_score, cv=5)\n",
    "\n",
    "score_lr = final_smape_func(score_lr_r, score_lr_f)\n",
    "print('Лучшая средняя sMAPE', score_lr)"
   ]
  },
  {
   "cell_type": "code",
   "execution_count": 23,
   "metadata": {},
   "outputs": [
    {
     "name": "stdout",
     "output_type": "stream",
     "text": [
      "Лучшая глубина: {'max_depth': 8}\n",
      "Лучшая sMAPE: 8.304822768292105\n",
      "Лучшая глубина: {'max_depth': 9}\n",
      "Лучшая sMAPE: 10.546277244760764\n",
      "Лучшая средняя sMAPE: 9.9859136256436\n"
     ]
    }
   ],
   "source": [
    "model_dtr = DecisionTreeRegressor(random_state=12345)\n",
    "\n",
    "parametrs = {\"max_depth\": range(1, 10, 1)}\n",
    "\n",
    "grid_dtr_r = GridSearchCV(model_dtr, parametrs, cv=5, scoring=smape_score)\n",
    "grid_dtr_r.fit(features_train, target_train['rougher.output.recovery'])\n",
    "\n",
    "print('Лучшая глубина:', grid_dtr_r.best_params_)\n",
    "print('Лучшая sMAPE:', grid_dtr_r.best_score_)\n",
    "\n",
    "grid_dtr_f = GridSearchCV(model_dtr, parametrs, cv=5, scoring=smape_score)\n",
    "grid_dtr_f.fit(features_train, target_train['final.output.recovery'])\n",
    "\n",
    "print('Лучшая глубина:', grid_dtr_f.best_params_)\n",
    "print('Лучшая sMAPE:', grid_dtr_f.best_score_)\n",
    "\n",
    "score_dtr = final_smape_func(grid_dtr_r.best_score_, grid_dtr_f.best_score_)\n",
    "print('Лучшая средняя sMAPE:', score_dtr)"
   ]
  },
  {
   "cell_type": "code",
   "execution_count": 24,
   "metadata": {},
   "outputs": [
    {
     "name": "stdout",
     "output_type": "stream",
     "text": [
      "Лучшие глубина и количество деревьев: {'max_depth': 9, 'n_estimators': 1}\n",
      "Лучшая sMAPE: 8.468058252305273\n",
      "Лучшие глубина и количество деревьев: {'max_depth': 9, 'n_estimators': 1}\n",
      "Лучшая sMAPE: 12.140895135343541\n",
      "Лучшая средняя sMAPE: 11.222685914583973\n"
     ]
    }
   ],
   "source": [
    "model_rfr = RandomForestRegressor(random_state=12345)\n",
    "\n",
    "parametrs = {'max_depth': range(1, 10, 1),\n",
    "             'n_estimators': range(1, 10, 1)}\n",
    "\n",
    "grid_rfr_r = GridSearchCV(model_rfr, parametrs, cv=5, scoring=smape_score)\n",
    "grid_rfr_r.fit(features_train, target_train['rougher.output.recovery'])\n",
    "print('Лучшие глубина и количество деревьев:', grid_rfr_r.best_params_)\n",
    "print('Лучшая sMAPE:', grid_rfr_r.best_score_)\n",
    "\n",
    "grid_rfr_f = GridSearchCV(model_rfr, parametrs, cv=5, scoring=smape_score)\n",
    "grid_rfr_f.fit(features_train, target_train['final.output.recovery'])\n",
    "print('Лучшие глубина и количество деревьев:', grid_rfr_f.best_params_)\n",
    "print('Лучшая sMAPE:', grid_rfr_f.best_score_)\n",
    "\n",
    "score_rfr = final_smape_func(grid_rfr_r.best_score_, grid_rfr_f.best_score_)\n",
    "print('Лучшая средняя sMAPE:', score_rfr)"
   ]
  },
  {
   "cell_type": "code",
   "execution_count": 25,
   "metadata": {},
   "outputs": [
    {
     "name": "stdout",
     "output_type": "stream",
     "text": [
      "sMAPE теста: 7.223315451559101\n"
     ]
    }
   ],
   "source": [
    "model = LinearRegression()\n",
    "\n",
    "model.fit(features_train, target_train['rougher.output.recovery'])\n",
    "predictions_r = model.predict(features_test)\n",
    "\n",
    "model.fit(features_train, target_train['final.output.recovery'])\n",
    "predictions_f = model.predict(features_test)\n",
    "\n",
    "smape_r = smape_func(target_test['rougher.output.recovery'], predictions_r)\n",
    "smape_f = smape_func(target_test['final.output.recovery'], predictions_f)\n",
    "\n",
    "final_smape = final_smape_func(smape_r, smape_f)\n",
    "print('sMAPE теста:', final_smape * (-1))"
   ]
  },
  {
   "cell_type": "code",
   "execution_count": 26,
   "metadata": {},
   "outputs": [
    {
     "name": "stdout",
     "output_type": "stream",
     "text": [
      "sMAPE для Dummy: 7.40693004704047\n"
     ]
    }
   ],
   "source": [
    "model_dr = DummyRegressor(strategy='mean')\n",
    "\n",
    "model_dr.fit(features_train, target_train['rougher.output.recovery'])\n",
    "predicted_r = model_dr.predict(features_test)\n",
    "\n",
    "model_dr.fit(features_train, target_train['final.output.recovery'])\n",
    "predicted_f = model_dr.predict(features_test)\n",
    "\n",
    "smape_dr_r = smape_func(target_test['rougher.output.recovery'], predicted_r)\n",
    "\n",
    "smape_dr_f = smape_func(target_test['final.output.recovery'], predicted_f)\n",
    "\n",
    "smape_dr = final_smape_func(smape_dr_r, smape_dr_f)\n",
    "print('sMAPE для Dummy:', smape_dr * (-1))"
   ]
  },
  {
   "cell_type": "markdown",
   "metadata": {},
   "source": [
    "<b>Вывод</b>  \n",
    "В данном разделе написал функцию для вычисления sMAPE.  \n",
    "Обучил три модели и проверил качество с помощью кросс-валидации на основе sMAPE. Выявил лучшую модель - линейная регрессия.\n",
    "Поэтому с помощью линейной регрессии получил предсказания на тестовой выборкеи посчитал sMAPE.  \n",
    "Проверил адекватность модели с помощью DummyRegressor. Оказалось, что у модели на тестовой выборке sMAPE получилось меньше чем в модели Dummy, значит модель подходит для предсказания."
   ]
  },
  {
   "cell_type": "markdown",
   "metadata": {},
   "source": [
    "## Общий вывод"
   ]
  },
  {
   "cell_type": "markdown",
   "metadata": {},
   "source": [
    "В данном проекте данные были изучены и предобработаны: заполнены пропуски и рповерено, что эффективность обогащения расчитана правильно.  \n",
    "Построены гистограммы распределения концентрации металлов, распределения размеров гранул сырья, распределения суммарной концентрации металлов на разных этапах очистки. Данные распределены нормально.  \n",
    "Обучены несколько моделей и проверено их качество с помощью кросс-валидации на основе sMAPE. Выявлена лучшая модель и была обучена на тестовой выборке. Проверена адекаватность модели и получилось, что на основе sMAPE модель корректна и может использоваться для предсказания."
   ]
  }
 ],
 "metadata": {
  "ExecuteTimeLog": [
   {
    "duration": 443,
    "start_time": "2023-04-01T16:28:52.206Z"
   },
   {
    "duration": 1924,
    "start_time": "2023-04-01T16:33:08.605Z"
   },
   {
    "duration": 25,
    "start_time": "2023-04-01T16:33:18.201Z"
   },
   {
    "duration": 1737,
    "start_time": "2023-04-07T22:51:29.610Z"
   },
   {
    "duration": 3361,
    "start_time": "2023-04-07T22:51:31.350Z"
   },
   {
    "duration": 88,
    "start_time": "2023-04-07T22:51:34.713Z"
   },
   {
    "duration": 71,
    "start_time": "2023-04-07T22:51:34.802Z"
   },
   {
    "duration": 133,
    "start_time": "2023-04-07T22:51:34.876Z"
   },
   {
    "duration": 10,
    "start_time": "2023-04-07T22:51:35.011Z"
   },
   {
    "duration": 16,
    "start_time": "2023-04-07T22:51:35.023Z"
   },
   {
    "duration": 52,
    "start_time": "2023-04-07T22:51:35.041Z"
   },
   {
    "duration": 8,
    "start_time": "2023-04-07T22:51:35.095Z"
   },
   {
    "duration": 1469,
    "start_time": "2023-04-07T22:51:35.105Z"
   },
   {
    "duration": 595,
    "start_time": "2023-04-07T22:51:36.577Z"
   },
   {
    "duration": 21,
    "start_time": "2023-04-07T22:51:37.174Z"
   },
   {
    "duration": 432,
    "start_time": "2023-04-07T22:51:37.197Z"
   },
   {
    "duration": 476,
    "start_time": "2023-04-07T22:51:37.632Z"
   },
   {
    "duration": 82,
    "start_time": "2023-04-07T22:51:38.110Z"
   },
   {
    "duration": 4,
    "start_time": "2023-04-07T22:51:38.195Z"
   },
   {
    "duration": 585,
    "start_time": "2023-04-07T22:51:38.201Z"
   },
   {
    "duration": 504,
    "start_time": "2023-04-07T22:52:15.377Z"
   },
   {
    "duration": 5,
    "start_time": "2023-04-07T23:11:51.568Z"
   },
   {
    "duration": 356,
    "start_time": "2023-04-07T23:11:52.019Z"
   },
   {
    "duration": 14,
    "start_time": "2023-04-07T23:12:34.647Z"
   },
   {
    "duration": 800,
    "start_time": "2023-04-07T23:13:43.100Z"
   },
   {
    "duration": 4,
    "start_time": "2023-04-07T23:15:42.124Z"
   },
   {
    "duration": 181,
    "start_time": "2023-04-07T23:15:42.830Z"
   },
   {
    "duration": 3,
    "start_time": "2023-04-07T23:16:14.909Z"
   },
   {
    "duration": 612,
    "start_time": "2023-04-07T23:16:36.502Z"
   },
   {
    "duration": 8,
    "start_time": "2023-04-07T23:17:09.486Z"
   },
   {
    "duration": 1197,
    "start_time": "2023-04-07T23:17:09.945Z"
   },
   {
    "duration": 5,
    "start_time": "2023-04-07T23:17:28.812Z"
   },
   {
    "duration": 1169,
    "start_time": "2023-04-07T23:17:29.875Z"
   },
   {
    "duration": 4,
    "start_time": "2023-04-07T23:19:29.625Z"
   },
   {
    "duration": 342,
    "start_time": "2023-04-07T23:19:31.639Z"
   },
   {
    "duration": 4,
    "start_time": "2023-04-07T23:19:40.670Z"
   },
   {
    "duration": 817,
    "start_time": "2023-04-07T23:19:42.288Z"
   },
   {
    "duration": 5,
    "start_time": "2023-04-07T23:20:35.068Z"
   },
   {
    "duration": 1302,
    "start_time": "2023-04-07T23:20:35.681Z"
   },
   {
    "duration": 2608,
    "start_time": "2023-04-07T23:35:50.567Z"
   },
   {
    "duration": 2626,
    "start_time": "2023-04-07T23:35:59.154Z"
   },
   {
    "duration": 2641,
    "start_time": "2023-04-07T23:36:33.832Z"
   },
   {
    "duration": 3089,
    "start_time": "2023-04-07T23:37:16.190Z"
   },
   {
    "duration": 2275,
    "start_time": "2023-04-07T23:38:24.106Z"
   },
   {
    "duration": 2173,
    "start_time": "2023-04-07T23:38:40.000Z"
   },
   {
    "duration": 3,
    "start_time": "2023-04-07T23:42:35.674Z"
   },
   {
    "duration": 2895,
    "start_time": "2023-04-07T23:42:38.882Z"
   },
   {
    "duration": 1269,
    "start_time": "2023-04-07T23:42:46.514Z"
   },
   {
    "duration": 628,
    "start_time": "2023-04-07T23:42:47.785Z"
   },
   {
    "duration": 74,
    "start_time": "2023-04-07T23:42:48.415Z"
   },
   {
    "duration": 64,
    "start_time": "2023-04-07T23:42:48.492Z"
   },
   {
    "duration": 118,
    "start_time": "2023-04-07T23:42:48.573Z"
   },
   {
    "duration": 9,
    "start_time": "2023-04-07T23:42:48.693Z"
   },
   {
    "duration": 5,
    "start_time": "2023-04-07T23:42:48.704Z"
   },
   {
    "duration": 40,
    "start_time": "2023-04-07T23:42:48.711Z"
   },
   {
    "duration": 24,
    "start_time": "2023-04-07T23:42:48.752Z"
   },
   {
    "duration": 1138,
    "start_time": "2023-04-07T23:42:48.778Z"
   },
   {
    "duration": 511,
    "start_time": "2023-04-07T23:42:49.918Z"
   },
   {
    "duration": 20,
    "start_time": "2023-04-07T23:42:50.430Z"
   },
   {
    "duration": 387,
    "start_time": "2023-04-07T23:42:50.452Z"
   },
   {
    "duration": 461,
    "start_time": "2023-04-07T23:42:50.841Z"
   },
   {
    "duration": 2,
    "start_time": "2023-04-07T23:42:51.303Z"
   },
   {
    "duration": 19,
    "start_time": "2023-04-07T23:42:51.307Z"
   },
   {
    "duration": 2848,
    "start_time": "2023-04-07T23:42:51.328Z"
   },
   {
    "duration": 2544,
    "start_time": "2023-04-07T23:43:05.029Z"
   },
   {
    "duration": 1625,
    "start_time": "2023-04-08T20:57:57.782Z"
   },
   {
    "duration": 2340,
    "start_time": "2023-04-08T20:57:59.410Z"
   },
   {
    "duration": 87,
    "start_time": "2023-04-08T20:58:01.752Z"
   },
   {
    "duration": 64,
    "start_time": "2023-04-08T20:58:01.841Z"
   },
   {
    "duration": 87,
    "start_time": "2023-04-08T20:58:01.907Z"
   },
   {
    "duration": 10,
    "start_time": "2023-04-08T20:58:01.995Z"
   },
   {
    "duration": 39,
    "start_time": "2023-04-08T20:58:02.006Z"
   },
   {
    "duration": 91,
    "start_time": "2023-04-08T20:58:02.046Z"
   },
   {
    "duration": 8,
    "start_time": "2023-04-08T20:58:02.139Z"
   },
   {
    "duration": 1336,
    "start_time": "2023-04-08T20:58:02.151Z"
   },
   {
    "duration": 566,
    "start_time": "2023-04-08T20:58:03.490Z"
   },
   {
    "duration": 31,
    "start_time": "2023-04-08T20:58:04.058Z"
   },
   {
    "duration": 506,
    "start_time": "2023-04-08T20:58:04.095Z"
   },
   {
    "duration": 376,
    "start_time": "2023-04-08T20:58:04.603Z"
   },
   {
    "duration": 5,
    "start_time": "2023-04-08T20:58:04.980Z"
   },
   {
    "duration": 13,
    "start_time": "2023-04-08T20:58:04.986Z"
   },
   {
    "duration": 8090,
    "start_time": "2023-04-08T20:58:05.000Z"
   },
   {
    "duration": 5,
    "start_time": "2023-04-08T20:59:47.395Z"
   },
   {
    "duration": 5458,
    "start_time": "2023-04-08T20:59:48.537Z"
   },
   {
    "duration": 4028,
    "start_time": "2023-04-08T21:26:55.665Z"
   },
   {
    "duration": 1397,
    "start_time": "2023-04-08T21:27:31.433Z"
   },
   {
    "duration": 651,
    "start_time": "2023-04-08T21:27:32.832Z"
   },
   {
    "duration": 94,
    "start_time": "2023-04-08T21:27:33.487Z"
   },
   {
    "duration": 47,
    "start_time": "2023-04-08T21:27:33.583Z"
   },
   {
    "duration": 92,
    "start_time": "2023-04-08T21:27:33.632Z"
   },
   {
    "duration": 11,
    "start_time": "2023-04-08T21:27:33.726Z"
   },
   {
    "duration": 11,
    "start_time": "2023-04-08T21:27:33.738Z"
   },
   {
    "duration": 41,
    "start_time": "2023-04-08T21:27:33.771Z"
   },
   {
    "duration": 8,
    "start_time": "2023-04-08T21:27:33.814Z"
   },
   {
    "duration": 1254,
    "start_time": "2023-04-08T21:27:33.824Z"
   },
   {
    "duration": 558,
    "start_time": "2023-04-08T21:27:35.082Z"
   },
   {
    "duration": 30,
    "start_time": "2023-04-08T21:27:35.642Z"
   },
   {
    "duration": 477,
    "start_time": "2023-04-08T21:27:35.674Z"
   },
   {
    "duration": 460,
    "start_time": "2023-04-08T21:27:36.153Z"
   },
   {
    "duration": 3,
    "start_time": "2023-04-08T21:27:36.614Z"
   },
   {
    "duration": 8,
    "start_time": "2023-04-08T21:27:36.619Z"
   },
   {
    "duration": 3669,
    "start_time": "2023-04-08T21:27:36.629Z"
   },
   {
    "duration": 1302,
    "start_time": "2023-04-08T21:28:32.675Z"
   },
   {
    "duration": 651,
    "start_time": "2023-04-08T21:28:33.979Z"
   },
   {
    "duration": 88,
    "start_time": "2023-04-08T21:28:34.632Z"
   },
   {
    "duration": 74,
    "start_time": "2023-04-08T21:28:34.723Z"
   },
   {
    "duration": 85,
    "start_time": "2023-04-08T21:28:34.799Z"
   },
   {
    "duration": 8,
    "start_time": "2023-04-08T21:28:34.888Z"
   },
   {
    "duration": 10,
    "start_time": "2023-04-08T21:28:34.898Z"
   },
   {
    "duration": 47,
    "start_time": "2023-04-08T21:28:34.909Z"
   },
   {
    "duration": 6,
    "start_time": "2023-04-08T21:28:34.957Z"
   },
   {
    "duration": 1301,
    "start_time": "2023-04-08T21:28:34.965Z"
   },
   {
    "duration": 549,
    "start_time": "2023-04-08T21:28:36.270Z"
   },
   {
    "duration": 22,
    "start_time": "2023-04-08T21:28:36.821Z"
   },
   {
    "duration": 400,
    "start_time": "2023-04-08T21:28:36.845Z"
   },
   {
    "duration": 548,
    "start_time": "2023-04-08T21:28:37.247Z"
   },
   {
    "duration": 3,
    "start_time": "2023-04-08T21:28:37.797Z"
   },
   {
    "duration": 4,
    "start_time": "2023-04-08T21:28:37.802Z"
   },
   {
    "duration": 5297,
    "start_time": "2023-04-08T21:28:37.808Z"
   },
   {
    "duration": 52,
    "start_time": "2023-04-08T21:40:45.338Z"
   },
   {
    "duration": 3,
    "start_time": "2023-04-08T21:40:46.662Z"
   },
   {
    "duration": 4486,
    "start_time": "2023-04-08T21:40:47.291Z"
   },
   {
    "duration": 4126,
    "start_time": "2023-04-08T21:44:36.218Z"
   },
   {
    "duration": 4618,
    "start_time": "2023-04-08T21:45:07.467Z"
   },
   {
    "duration": 4840,
    "start_time": "2023-04-08T21:45:52.656Z"
   },
   {
    "duration": 11,
    "start_time": "2023-04-08T22:12:14.046Z"
   },
   {
    "duration": 134,
    "start_time": "2023-04-08T22:12:31.018Z"
   },
   {
    "duration": 37088,
    "start_time": "2023-04-08T22:13:05.615Z"
   },
   {
    "duration": 78007,
    "start_time": "2023-04-08T22:14:37.081Z"
   },
   {
    "duration": 9,
    "start_time": "2023-04-08T22:58:04.101Z"
   },
   {
    "duration": 10,
    "start_time": "2023-04-08T22:58:16.123Z"
   },
   {
    "duration": 37310,
    "start_time": "2023-04-08T22:58:27.376Z"
   },
   {
    "duration": 73023,
    "start_time": "2023-04-08T23:01:19.462Z"
   },
   {
    "duration": 73740,
    "start_time": "2023-04-08T23:13:45.236Z"
   },
   {
    "duration": 1532,
    "start_time": "2023-04-09T08:12:21.201Z"
   },
   {
    "duration": 2772,
    "start_time": "2023-04-09T08:12:22.735Z"
   },
   {
    "duration": 78,
    "start_time": "2023-04-09T08:12:25.509Z"
   },
   {
    "duration": 49,
    "start_time": "2023-04-09T08:12:25.589Z"
   },
   {
    "duration": 103,
    "start_time": "2023-04-09T08:12:25.640Z"
   },
   {
    "duration": 9,
    "start_time": "2023-04-09T08:12:25.745Z"
   },
   {
    "duration": 15,
    "start_time": "2023-04-09T08:12:25.755Z"
   },
   {
    "duration": 33,
    "start_time": "2023-04-09T08:12:25.783Z"
   },
   {
    "duration": 7,
    "start_time": "2023-04-09T08:12:25.818Z"
   },
   {
    "duration": 1376,
    "start_time": "2023-04-09T08:12:25.826Z"
   },
   {
    "duration": 572,
    "start_time": "2023-04-09T08:12:27.204Z"
   },
   {
    "duration": 22,
    "start_time": "2023-04-09T08:12:27.778Z"
   },
   {
    "duration": 522,
    "start_time": "2023-04-09T08:12:27.802Z"
   },
   {
    "duration": 375,
    "start_time": "2023-04-09T08:12:28.327Z"
   },
   {
    "duration": 46,
    "start_time": "2023-04-09T08:12:28.705Z"
   },
   {
    "duration": 4,
    "start_time": "2023-04-09T08:12:28.752Z"
   },
   {
    "duration": 2828,
    "start_time": "2023-04-09T08:12:28.757Z"
   },
   {
    "duration": 85605,
    "start_time": "2023-04-09T08:12:31.588Z"
   },
   {
    "duration": 1428,
    "start_time": "2023-04-09T08:37:00.237Z"
   },
   {
    "duration": 686,
    "start_time": "2023-04-09T08:37:01.667Z"
   },
   {
    "duration": 96,
    "start_time": "2023-04-09T08:37:02.355Z"
   },
   {
    "duration": 83,
    "start_time": "2023-04-09T08:37:02.453Z"
   },
   {
    "duration": 94,
    "start_time": "2023-04-09T08:37:02.537Z"
   },
   {
    "duration": 11,
    "start_time": "2023-04-09T08:37:02.633Z"
   },
   {
    "duration": 16,
    "start_time": "2023-04-09T08:37:02.646Z"
   },
   {
    "duration": 35,
    "start_time": "2023-04-09T08:37:02.683Z"
   },
   {
    "duration": 6,
    "start_time": "2023-04-09T08:37:02.720Z"
   },
   {
    "duration": 1429,
    "start_time": "2023-04-09T08:37:02.728Z"
   },
   {
    "duration": 651,
    "start_time": "2023-04-09T08:37:04.159Z"
   },
   {
    "duration": 28,
    "start_time": "2023-04-09T08:37:04.812Z"
   },
   {
    "duration": 463,
    "start_time": "2023-04-09T08:37:04.842Z"
   },
   {
    "duration": 518,
    "start_time": "2023-04-09T08:37:05.307Z"
   },
   {
    "duration": 58,
    "start_time": "2023-04-09T08:37:05.827Z"
   },
   {
    "duration": 4,
    "start_time": "2023-04-09T08:37:05.887Z"
   },
   {
    "duration": 3093,
    "start_time": "2023-04-09T08:37:05.892Z"
   },
   {
    "duration": 83668,
    "start_time": "2023-04-09T08:37:08.987Z"
   },
   {
    "duration": 1629,
    "start_time": "2023-04-09T08:57:57.910Z"
   },
   {
    "duration": 649,
    "start_time": "2023-04-09T08:57:59.541Z"
   },
   {
    "duration": 92,
    "start_time": "2023-04-09T08:58:00.192Z"
   },
   {
    "duration": 50,
    "start_time": "2023-04-09T08:58:00.286Z"
   },
   {
    "duration": 103,
    "start_time": "2023-04-09T08:58:00.338Z"
   },
   {
    "duration": 9,
    "start_time": "2023-04-09T08:58:00.442Z"
   },
   {
    "duration": 21,
    "start_time": "2023-04-09T08:58:00.452Z"
   },
   {
    "duration": 53,
    "start_time": "2023-04-09T08:58:00.474Z"
   },
   {
    "duration": 6,
    "start_time": "2023-04-09T08:58:00.528Z"
   },
   {
    "duration": 1348,
    "start_time": "2023-04-09T08:58:00.535Z"
   },
   {
    "duration": 568,
    "start_time": "2023-04-09T08:58:01.885Z"
   },
   {
    "duration": 30,
    "start_time": "2023-04-09T08:58:02.455Z"
   },
   {
    "duration": 420,
    "start_time": "2023-04-09T08:58:02.487Z"
   },
   {
    "duration": 486,
    "start_time": "2023-04-09T08:58:02.909Z"
   },
   {
    "duration": 50,
    "start_time": "2023-04-09T08:58:03.397Z"
   },
   {
    "duration": 3,
    "start_time": "2023-04-09T08:58:03.448Z"
   },
   {
    "duration": 3036,
    "start_time": "2023-04-09T08:58:03.453Z"
   },
   {
    "duration": 85438,
    "start_time": "2023-04-09T08:58:06.491Z"
   },
   {
    "duration": 433,
    "start_time": "2023-04-09T08:59:31.931Z"
   },
   {
    "duration": 592,
    "start_time": "2023-04-09T09:03:50.097Z"
   },
   {
    "duration": 1784,
    "start_time": "2023-04-09T09:25:53.681Z"
   },
   {
    "duration": 922,
    "start_time": "2023-04-09T09:25:55.467Z"
   },
   {
    "duration": 120,
    "start_time": "2023-04-09T09:25:56.392Z"
   },
   {
    "duration": 79,
    "start_time": "2023-04-09T09:25:56.514Z"
   },
   {
    "duration": 118,
    "start_time": "2023-04-09T09:25:56.595Z"
   },
   {
    "duration": 8,
    "start_time": "2023-04-09T09:25:56.720Z"
   },
   {
    "duration": 6,
    "start_time": "2023-04-09T09:25:56.730Z"
   },
   {
    "duration": 65,
    "start_time": "2023-04-09T09:25:56.738Z"
   },
   {
    "duration": 8,
    "start_time": "2023-04-09T09:25:56.806Z"
   },
   {
    "duration": 1632,
    "start_time": "2023-04-09T09:25:56.819Z"
   },
   {
    "duration": 691,
    "start_time": "2023-04-09T09:25:58.453Z"
   },
   {
    "duration": 23,
    "start_time": "2023-04-09T09:25:59.146Z"
   },
   {
    "duration": 537,
    "start_time": "2023-04-09T09:25:59.170Z"
   },
   {
    "duration": 621,
    "start_time": "2023-04-09T09:25:59.709Z"
   },
   {
    "duration": 78,
    "start_time": "2023-04-09T09:26:00.332Z"
   },
   {
    "duration": 9,
    "start_time": "2023-04-09T09:26:00.412Z"
   },
   {
    "duration": 5496,
    "start_time": "2023-04-09T09:26:00.424Z"
   },
   {
    "duration": 95007,
    "start_time": "2023-04-09T09:26:05.986Z"
   },
   {
    "duration": 761,
    "start_time": "2023-04-09T09:27:40.995Z"
   },
   {
    "duration": 702734,
    "start_time": "2023-04-09T09:36:31.652Z"
   },
   {
    "duration": 1902,
    "start_time": "2023-04-09T10:07:49.649Z"
   },
   {
    "duration": 2868,
    "start_time": "2023-04-09T10:07:51.553Z"
   },
   {
    "duration": 75,
    "start_time": "2023-04-09T10:07:54.422Z"
   },
   {
    "duration": 52,
    "start_time": "2023-04-09T10:07:54.500Z"
   },
   {
    "duration": 95,
    "start_time": "2023-04-09T10:07:54.555Z"
   },
   {
    "duration": 9,
    "start_time": "2023-04-09T10:07:54.652Z"
   },
   {
    "duration": 22,
    "start_time": "2023-04-09T10:07:54.662Z"
   },
   {
    "duration": 43,
    "start_time": "2023-04-09T10:07:54.685Z"
   },
   {
    "duration": 7,
    "start_time": "2023-04-09T10:07:54.730Z"
   },
   {
    "duration": 1421,
    "start_time": "2023-04-09T10:07:54.738Z"
   },
   {
    "duration": 563,
    "start_time": "2023-04-09T10:07:56.161Z"
   },
   {
    "duration": 24,
    "start_time": "2023-04-09T10:07:56.725Z"
   },
   {
    "duration": 412,
    "start_time": "2023-04-09T10:07:56.751Z"
   },
   {
    "duration": 495,
    "start_time": "2023-04-09T10:07:57.165Z"
   },
   {
    "duration": 57,
    "start_time": "2023-04-09T10:07:57.662Z"
   },
   {
    "duration": 4,
    "start_time": "2023-04-09T10:07:57.721Z"
   },
   {
    "duration": 2965,
    "start_time": "2023-04-09T10:07:57.727Z"
   },
   {
    "duration": 89533,
    "start_time": "2023-04-09T10:08:00.696Z"
   },
   {
    "duration": 934688,
    "start_time": "2023-04-09T10:09:30.231Z"
   },
   {
    "duration": 4092,
    "start_time": "2023-04-09T10:28:03.142Z"
   },
   {
    "duration": 101018,
    "start_time": "2023-04-09T10:36:53.039Z"
   },
   {
    "duration": 1715,
    "start_time": "2023-04-09T10:49:52.884Z"
   },
   {
    "duration": 819,
    "start_time": "2023-04-09T10:49:54.603Z"
   },
   {
    "duration": 99,
    "start_time": "2023-04-09T10:49:55.424Z"
   },
   {
    "duration": 76,
    "start_time": "2023-04-09T10:49:55.524Z"
   },
   {
    "duration": 91,
    "start_time": "2023-04-09T10:49:55.604Z"
   },
   {
    "duration": 15,
    "start_time": "2023-04-09T10:49:55.699Z"
   },
   {
    "duration": 12,
    "start_time": "2023-04-09T10:49:55.716Z"
   },
   {
    "duration": 34,
    "start_time": "2023-04-09T10:49:55.730Z"
   },
   {
    "duration": 6,
    "start_time": "2023-04-09T10:49:55.765Z"
   },
   {
    "duration": 1561,
    "start_time": "2023-04-09T10:49:55.783Z"
   },
   {
    "duration": 635,
    "start_time": "2023-04-09T10:49:57.345Z"
   },
   {
    "duration": 26,
    "start_time": "2023-04-09T10:49:58.000Z"
   },
   {
    "duration": 436,
    "start_time": "2023-04-09T10:49:58.028Z"
   },
   {
    "duration": 554,
    "start_time": "2023-04-09T10:49:58.467Z"
   },
   {
    "duration": 60,
    "start_time": "2023-04-09T10:49:59.023Z"
   },
   {
    "duration": 6,
    "start_time": "2023-04-09T10:49:59.085Z"
   },
   {
    "duration": 5492,
    "start_time": "2023-04-09T10:49:59.100Z"
   },
   {
    "duration": 292,
    "start_time": "2023-04-09T10:50:04.596Z"
   },
   {
    "duration": 0,
    "start_time": "2023-04-09T10:50:04.891Z"
   },
   {
    "duration": 40,
    "start_time": "2023-04-09T10:50:43.911Z"
   },
   {
    "duration": 33,
    "start_time": "2023-04-09T10:51:07.147Z"
   },
   {
    "duration": 27759,
    "start_time": "2023-04-09T10:51:39.405Z"
   },
   {
    "duration": 46,
    "start_time": "2023-04-09T10:52:41.459Z"
   },
   {
    "duration": 28,
    "start_time": "2023-04-09T10:53:00.553Z"
   },
   {
    "duration": 37,
    "start_time": "2023-04-09T10:53:18.782Z"
   },
   {
    "duration": 29491,
    "start_time": "2023-04-09T10:53:29.553Z"
   },
   {
    "duration": 1427,
    "start_time": "2023-04-09T16:29:38.487Z"
   },
   {
    "duration": 1896,
    "start_time": "2023-04-09T16:29:39.916Z"
   },
   {
    "duration": 93,
    "start_time": "2023-04-09T16:29:41.814Z"
   },
   {
    "duration": 75,
    "start_time": "2023-04-09T16:29:41.908Z"
   },
   {
    "duration": 101,
    "start_time": "2023-04-09T16:29:41.985Z"
   },
   {
    "duration": 9,
    "start_time": "2023-04-09T16:29:42.088Z"
   },
   {
    "duration": 5,
    "start_time": "2023-04-09T16:29:42.098Z"
   },
   {
    "duration": 70,
    "start_time": "2023-04-09T16:29:42.105Z"
   },
   {
    "duration": 8,
    "start_time": "2023-04-09T16:29:42.177Z"
   },
   {
    "duration": 1405,
    "start_time": "2023-04-09T16:29:42.187Z"
   },
   {
    "duration": 548,
    "start_time": "2023-04-09T16:29:43.594Z"
   },
   {
    "duration": 30,
    "start_time": "2023-04-09T16:29:44.145Z"
   },
   {
    "duration": 477,
    "start_time": "2023-04-09T16:29:44.177Z"
   },
   {
    "duration": 497,
    "start_time": "2023-04-09T16:29:44.658Z"
   },
   {
    "duration": 66,
    "start_time": "2023-04-09T16:29:45.157Z"
   },
   {
    "duration": 5,
    "start_time": "2023-04-09T16:29:45.226Z"
   },
   {
    "duration": 3447,
    "start_time": "2023-04-09T16:29:45.233Z"
   },
   {
    "duration": 24085,
    "start_time": "2023-04-09T16:29:48.682Z"
   },
   {
    "duration": 242,
    "start_time": "2023-04-09T16:30:12.769Z"
   },
   {
    "duration": 52,
    "start_time": "2023-04-09T16:30:41.636Z"
   },
   {
    "duration": 3721,
    "start_time": "2023-04-09T16:30:51.175Z"
   },
   {
    "duration": 23865,
    "start_time": "2023-04-09T16:31:31.247Z"
   },
   {
    "duration": 140276,
    "start_time": "2023-04-09T16:31:58.739Z"
   },
   {
    "duration": 607015,
    "start_time": "2023-04-09T17:11:54.744Z"
   },
   {
    "duration": 3,
    "start_time": "2023-04-09T17:22:01.760Z"
   },
   {
    "duration": 4,
    "start_time": "2023-04-09T17:22:28.079Z"
   },
   {
    "duration": 9,
    "start_time": "2023-04-09T17:23:35.485Z"
   },
   {
    "duration": 5,
    "start_time": "2023-04-09T17:23:59.403Z"
   },
   {
    "duration": 544,
    "start_time": "2023-04-09T18:09:33.155Z"
   },
   {
    "duration": 563,
    "start_time": "2023-04-09T18:09:49.116Z"
   },
   {
    "duration": 13,
    "start_time": "2023-04-09T18:11:28.588Z"
   },
   {
    "duration": 18,
    "start_time": "2023-04-09T18:12:14.611Z"
   },
   {
    "duration": 10,
    "start_time": "2023-04-09T18:12:47.548Z"
   },
   {
    "duration": 7,
    "start_time": "2023-04-09T18:12:58.208Z"
   },
   {
    "duration": 7,
    "start_time": "2023-04-09T18:14:38.989Z"
   },
   {
    "duration": 6,
    "start_time": "2023-04-09T18:15:02.080Z"
   },
   {
    "duration": 1654,
    "start_time": "2023-04-10T17:31:57.830Z"
   },
   {
    "duration": 3452,
    "start_time": "2023-04-10T17:31:59.486Z"
   },
   {
    "duration": 87,
    "start_time": "2023-04-10T17:32:02.940Z"
   },
   {
    "duration": 58,
    "start_time": "2023-04-10T17:32:03.029Z"
   },
   {
    "duration": 104,
    "start_time": "2023-04-10T17:32:03.089Z"
   },
   {
    "duration": 26,
    "start_time": "2023-04-10T17:32:03.195Z"
   },
   {
    "duration": 5,
    "start_time": "2023-04-10T17:32:03.223Z"
   },
   {
    "duration": 48,
    "start_time": "2023-04-10T17:32:03.230Z"
   },
   {
    "duration": 6,
    "start_time": "2023-04-10T17:32:03.280Z"
   },
   {
    "duration": 1490,
    "start_time": "2023-04-10T17:32:03.289Z"
   },
   {
    "duration": 636,
    "start_time": "2023-04-10T17:32:04.781Z"
   },
   {
    "duration": 24,
    "start_time": "2023-04-10T17:32:05.420Z"
   },
   {
    "duration": 599,
    "start_time": "2023-04-10T17:32:05.446Z"
   },
   {
    "duration": 418,
    "start_time": "2023-04-10T17:32:06.047Z"
   },
   {
    "duration": 146,
    "start_time": "2023-04-10T17:32:06.468Z"
   },
   {
    "duration": 0,
    "start_time": "2023-04-10T17:32:06.616Z"
   },
   {
    "duration": 1,
    "start_time": "2023-04-10T17:32:06.618Z"
   },
   {
    "duration": 0,
    "start_time": "2023-04-10T17:32:06.622Z"
   },
   {
    "duration": 0,
    "start_time": "2023-04-10T17:32:06.623Z"
   },
   {
    "duration": 0,
    "start_time": "2023-04-10T17:32:06.625Z"
   },
   {
    "duration": 0,
    "start_time": "2023-04-10T17:32:06.626Z"
   },
   {
    "duration": 0,
    "start_time": "2023-04-10T17:32:06.628Z"
   },
   {
    "duration": 21,
    "start_time": "2023-04-10T17:33:31.901Z"
   },
   {
    "duration": 14,
    "start_time": "2023-04-10T17:34:50.839Z"
   },
   {
    "duration": 4,
    "start_time": "2023-04-10T17:35:05.146Z"
   },
   {
    "duration": 20,
    "start_time": "2023-04-10T17:35:05.686Z"
   },
   {
    "duration": 1515,
    "start_time": "2023-04-10T17:35:22.012Z"
   },
   {
    "duration": 721,
    "start_time": "2023-04-10T17:35:23.529Z"
   },
   {
    "duration": 91,
    "start_time": "2023-04-10T17:35:24.252Z"
   },
   {
    "duration": 73,
    "start_time": "2023-04-10T17:35:24.345Z"
   },
   {
    "duration": 101,
    "start_time": "2023-04-10T17:35:24.420Z"
   },
   {
    "duration": 9,
    "start_time": "2023-04-10T17:35:24.523Z"
   },
   {
    "duration": 7,
    "start_time": "2023-04-10T17:35:24.534Z"
   },
   {
    "duration": 43,
    "start_time": "2023-04-10T17:35:24.543Z"
   },
   {
    "duration": 6,
    "start_time": "2023-04-10T17:35:24.587Z"
   },
   {
    "duration": 1536,
    "start_time": "2023-04-10T17:35:24.596Z"
   },
   {
    "duration": 610,
    "start_time": "2023-04-10T17:35:26.134Z"
   },
   {
    "duration": 22,
    "start_time": "2023-04-10T17:35:26.746Z"
   },
   {
    "duration": 447,
    "start_time": "2023-04-10T17:35:26.770Z"
   },
   {
    "duration": 518,
    "start_time": "2023-04-10T17:35:27.219Z"
   },
   {
    "duration": 2,
    "start_time": "2023-04-10T17:35:27.740Z"
   },
   {
    "duration": 8,
    "start_time": "2023-04-10T17:35:27.744Z"
   },
   {
    "duration": 2966,
    "start_time": "2023-04-10T17:35:27.754Z"
   },
   {
    "duration": 28042,
    "start_time": "2023-04-10T17:35:30.723Z"
   },
   {
    "duration": 4,
    "start_time": "2023-04-10T17:35:58.767Z"
   },
   {
    "duration": 744172,
    "start_time": "2023-04-10T17:35:58.773Z"
   },
   {
    "duration": 5,
    "start_time": "2023-04-10T17:48:22.947Z"
   },
   {
    "duration": 669,
    "start_time": "2023-04-10T17:48:22.954Z"
   },
   {
    "duration": 663,
    "start_time": "2023-04-10T17:49:17.061Z"
   },
   {
    "duration": 723,
    "start_time": "2023-04-10T17:53:42.950Z"
   },
   {
    "duration": 543,
    "start_time": "2023-04-10T17:54:00.578Z"
   },
   {
    "duration": 514,
    "start_time": "2023-04-10T17:54:10.412Z"
   },
   {
    "duration": 1474,
    "start_time": "2023-04-10T18:25:23.649Z"
   },
   {
    "duration": 745,
    "start_time": "2023-04-10T18:25:25.125Z"
   },
   {
    "duration": 99,
    "start_time": "2023-04-10T18:25:25.872Z"
   },
   {
    "duration": 80,
    "start_time": "2023-04-10T18:25:25.975Z"
   },
   {
    "duration": 125,
    "start_time": "2023-04-10T18:25:26.058Z"
   },
   {
    "duration": 32,
    "start_time": "2023-04-10T18:25:26.185Z"
   },
   {
    "duration": 7,
    "start_time": "2023-04-10T18:25:26.219Z"
   },
   {
    "duration": 41,
    "start_time": "2023-04-10T18:25:26.227Z"
   },
   {
    "duration": 7,
    "start_time": "2023-04-10T18:25:26.270Z"
   },
   {
    "duration": 1525,
    "start_time": "2023-04-10T18:25:26.280Z"
   },
   {
    "duration": 648,
    "start_time": "2023-04-10T18:25:27.807Z"
   },
   {
    "duration": 32,
    "start_time": "2023-04-10T18:25:28.457Z"
   },
   {
    "duration": 479,
    "start_time": "2023-04-10T18:25:28.492Z"
   },
   {
    "duration": 558,
    "start_time": "2023-04-10T18:25:28.973Z"
   },
   {
    "duration": 2,
    "start_time": "2023-04-10T18:25:29.533Z"
   },
   {
    "duration": 11,
    "start_time": "2023-04-10T18:25:29.536Z"
   },
   {
    "duration": 3371,
    "start_time": "2023-04-10T18:25:29.548Z"
   },
   {
    "duration": 28610,
    "start_time": "2023-04-10T18:25:32.921Z"
   },
   {
    "duration": 4,
    "start_time": "2023-04-10T18:26:01.533Z"
   },
   {
    "duration": 758806,
    "start_time": "2023-04-10T18:26:01.539Z"
   },
   {
    "duration": 7,
    "start_time": "2023-04-10T18:38:40.348Z"
   },
   {
    "duration": 565,
    "start_time": "2023-04-10T18:38:40.357Z"
   },
   {
    "duration": 240,
    "start_time": "2023-04-10T18:38:40.926Z"
   },
   {
    "duration": 12,
    "start_time": "2023-04-10T18:39:00.444Z"
   },
   {
    "duration": 12,
    "start_time": "2023-04-10T19:26:32.455Z"
   },
   {
    "duration": 11,
    "start_time": "2023-04-10T19:26:37.816Z"
   },
   {
    "duration": 1562,
    "start_time": "2023-04-10T21:05:16.587Z"
   },
   {
    "duration": 769,
    "start_time": "2023-04-10T21:05:18.151Z"
   },
   {
    "duration": 97,
    "start_time": "2023-04-10T21:05:18.922Z"
   },
   {
    "duration": 55,
    "start_time": "2023-04-10T21:05:19.021Z"
   },
   {
    "duration": 104,
    "start_time": "2023-04-10T21:05:19.078Z"
   },
   {
    "duration": 37,
    "start_time": "2023-04-10T21:05:19.184Z"
   },
   {
    "duration": 5,
    "start_time": "2023-04-10T21:05:19.223Z"
   },
   {
    "duration": 60,
    "start_time": "2023-04-10T21:05:19.229Z"
   },
   {
    "duration": 5,
    "start_time": "2023-04-10T21:05:19.291Z"
   },
   {
    "duration": 1460,
    "start_time": "2023-04-10T21:05:19.299Z"
   },
   {
    "duration": 629,
    "start_time": "2023-04-10T21:05:20.761Z"
   },
   {
    "duration": 36,
    "start_time": "2023-04-10T21:05:21.392Z"
   },
   {
    "duration": 472,
    "start_time": "2023-04-10T21:05:21.430Z"
   },
   {
    "duration": 444,
    "start_time": "2023-04-10T21:05:21.904Z"
   },
   {
    "duration": 4,
    "start_time": "2023-04-10T21:05:22.349Z"
   },
   {
    "duration": 67,
    "start_time": "2023-04-10T21:05:22.354Z"
   },
   {
    "duration": 3099,
    "start_time": "2023-04-10T21:05:22.423Z"
   },
   {
    "duration": 28051,
    "start_time": "2023-04-10T21:05:25.524Z"
   },
   {
    "duration": 1498,
    "start_time": "2023-04-10T21:10:54.172Z"
   },
   {
    "duration": 762,
    "start_time": "2023-04-10T21:10:55.672Z"
   },
   {
    "duration": 97,
    "start_time": "2023-04-10T21:10:56.436Z"
   },
   {
    "duration": 54,
    "start_time": "2023-04-10T21:10:56.534Z"
   },
   {
    "duration": 105,
    "start_time": "2023-04-10T21:10:56.591Z"
   },
   {
    "duration": 24,
    "start_time": "2023-04-10T21:10:56.698Z"
   },
   {
    "duration": 24,
    "start_time": "2023-04-10T21:10:56.724Z"
   },
   {
    "duration": 63,
    "start_time": "2023-04-10T21:10:56.750Z"
   },
   {
    "duration": 6,
    "start_time": "2023-04-10T21:10:56.815Z"
   },
   {
    "duration": 1443,
    "start_time": "2023-04-10T21:10:56.823Z"
   },
   {
    "duration": 605,
    "start_time": "2023-04-10T21:10:58.268Z"
   },
   {
    "duration": 24,
    "start_time": "2023-04-10T21:10:58.875Z"
   },
   {
    "duration": 459,
    "start_time": "2023-04-10T21:10:58.901Z"
   },
   {
    "duration": 430,
    "start_time": "2023-04-10T21:10:59.363Z"
   },
   {
    "duration": 3,
    "start_time": "2023-04-10T21:10:59.795Z"
   },
   {
    "duration": 16,
    "start_time": "2023-04-10T21:10:59.800Z"
   },
   {
    "duration": 2708,
    "start_time": "2023-04-10T21:10:59.818Z"
   },
   {
    "duration": 27796,
    "start_time": "2023-04-10T21:11:02.619Z"
   },
   {
    "duration": 715183,
    "start_time": "2023-04-10T21:11:30.417Z"
   },
   {
    "duration": 422,
    "start_time": "2023-04-10T21:23:25.602Z"
   },
   {
    "duration": 191,
    "start_time": "2023-04-10T21:23:26.026Z"
   },
   {
    "duration": 3914,
    "start_time": "2023-04-11T10:54:49.943Z"
   },
   {
    "duration": 65,
    "start_time": "2023-04-11T10:55:03.284Z"
   },
   {
    "duration": 315,
    "start_time": "2023-04-11T10:55:12.256Z"
   },
   {
    "duration": 12,
    "start_time": "2023-04-11T10:55:23.647Z"
   },
   {
    "duration": 51,
    "start_time": "2023-04-12T18:04:24.701Z"
   },
   {
    "duration": 1625,
    "start_time": "2023-04-12T18:04:34.740Z"
   },
   {
    "duration": 2015,
    "start_time": "2023-04-12T18:04:36.367Z"
   },
   {
    "duration": 102,
    "start_time": "2023-04-12T18:04:38.384Z"
   },
   {
    "duration": 62,
    "start_time": "2023-04-12T18:04:38.488Z"
   },
   {
    "duration": 107,
    "start_time": "2023-04-12T18:04:38.552Z"
   },
   {
    "duration": 8,
    "start_time": "2023-04-12T18:04:39.495Z"
   },
   {
    "duration": 6,
    "start_time": "2023-04-12T18:04:42.093Z"
   },
   {
    "duration": 23,
    "start_time": "2023-04-12T19:40:16.221Z"
   },
   {
    "duration": 211,
    "start_time": "2023-04-12T19:40:17.112Z"
   },
   {
    "duration": 620,
    "start_time": "2023-04-12T19:40:25.036Z"
   },
   {
    "duration": 14,
    "start_time": "2023-04-12T19:41:25.204Z"
   },
   {
    "duration": 671,
    "start_time": "2023-04-12T19:41:25.576Z"
   },
   {
    "duration": 22,
    "start_time": "2023-04-12T20:27:15.800Z"
   },
   {
    "duration": 17,
    "start_time": "2023-04-12T20:27:34.180Z"
   },
   {
    "duration": 14,
    "start_time": "2023-04-12T20:27:52.411Z"
   },
   {
    "duration": 17,
    "start_time": "2023-04-12T20:28:43.488Z"
   },
   {
    "duration": 19,
    "start_time": "2023-04-12T20:28:51.910Z"
   },
   {
    "duration": 16,
    "start_time": "2023-04-12T20:29:10.205Z"
   },
   {
    "duration": 17,
    "start_time": "2023-04-12T20:29:20.673Z"
   },
   {
    "duration": 2335,
    "start_time": "2023-04-13T16:34:58.031Z"
   },
   {
    "duration": 3388,
    "start_time": "2023-04-13T16:35:00.370Z"
   },
   {
    "duration": 124,
    "start_time": "2023-04-13T16:35:03.762Z"
   },
   {
    "duration": 99,
    "start_time": "2023-04-13T16:35:03.889Z"
   },
   {
    "duration": 132,
    "start_time": "2023-04-13T16:35:03.990Z"
   },
   {
    "duration": 11,
    "start_time": "2023-04-13T16:35:04.125Z"
   },
   {
    "duration": 13,
    "start_time": "2023-04-13T16:35:04.138Z"
   },
   {
    "duration": 46,
    "start_time": "2023-04-13T16:35:04.153Z"
   },
   {
    "duration": 12,
    "start_time": "2023-04-13T16:35:04.211Z"
   },
   {
    "duration": 1728,
    "start_time": "2023-04-13T16:35:04.227Z"
   },
   {
    "duration": 744,
    "start_time": "2023-04-13T16:35:05.958Z"
   },
   {
    "duration": 35,
    "start_time": "2023-04-13T16:35:06.704Z"
   },
   {
    "duration": 534,
    "start_time": "2023-04-13T16:35:06.742Z"
   },
   {
    "duration": 25,
    "start_time": "2023-04-13T16:35:07.278Z"
   },
   {
    "duration": 604,
    "start_time": "2023-04-13T16:35:07.304Z"
   },
   {
    "duration": 6,
    "start_time": "2023-04-13T16:35:07.911Z"
   },
   {
    "duration": 9,
    "start_time": "2023-04-13T16:35:07.919Z"
   },
   {
    "duration": 4725,
    "start_time": "2023-04-13T16:35:07.930Z"
   },
   {
    "duration": 34005,
    "start_time": "2023-04-13T16:35:12.658Z"
   },
   {
    "duration": 220841,
    "start_time": "2023-04-13T16:35:46.668Z"
   },
   {
    "duration": 0,
    "start_time": "2023-04-13T16:39:27.514Z"
   },
   {
    "duration": 0,
    "start_time": "2023-04-13T16:39:27.515Z"
   },
   {
    "duration": 0,
    "start_time": "2023-04-13T16:39:27.517Z"
   },
   {
    "duration": 1761,
    "start_time": "2023-04-13T16:39:33.533Z"
   },
   {
    "duration": 878,
    "start_time": "2023-04-13T16:39:35.296Z"
   },
   {
    "duration": 115,
    "start_time": "2023-04-13T16:39:36.177Z"
   },
   {
    "duration": 111,
    "start_time": "2023-04-13T16:39:36.294Z"
   },
   {
    "duration": 99,
    "start_time": "2023-04-13T16:39:36.407Z"
   },
   {
    "duration": 9,
    "start_time": "2023-04-13T16:39:36.520Z"
   },
   {
    "duration": 6,
    "start_time": "2023-04-13T16:39:36.531Z"
   },
   {
    "duration": 47,
    "start_time": "2023-04-13T16:39:36.539Z"
   },
   {
    "duration": 7,
    "start_time": "2023-04-13T16:39:36.588Z"
   },
   {
    "duration": 1770,
    "start_time": "2023-04-13T16:39:36.597Z"
   },
   {
    "duration": 910,
    "start_time": "2023-04-13T16:39:38.369Z"
   },
   {
    "duration": 46,
    "start_time": "2023-04-13T16:39:39.281Z"
   },
   {
    "duration": 603,
    "start_time": "2023-04-13T16:39:39.331Z"
   },
   {
    "duration": 35,
    "start_time": "2023-04-13T16:39:39.937Z"
   },
   {
    "duration": 586,
    "start_time": "2023-04-13T16:39:39.974Z"
   },
   {
    "duration": 4,
    "start_time": "2023-04-13T16:39:40.562Z"
   },
   {
    "duration": 6,
    "start_time": "2023-04-13T16:39:40.568Z"
   },
   {
    "duration": 5177,
    "start_time": "2023-04-13T16:39:40.576Z"
   },
   {
    "duration": 31700,
    "start_time": "2023-04-13T16:39:45.813Z"
   },
   {
    "duration": 11236,
    "start_time": "2023-04-13T16:40:17.515Z"
   },
   {
    "duration": 0,
    "start_time": "2023-04-13T16:40:28.754Z"
   },
   {
    "duration": 0,
    "start_time": "2023-04-13T16:40:28.755Z"
   },
   {
    "duration": 0,
    "start_time": "2023-04-13T16:40:28.757Z"
   },
   {
    "duration": 36,
    "start_time": "2023-04-13T16:40:34.745Z"
   },
   {
    "duration": 19,
    "start_time": "2023-04-13T16:40:41.976Z"
   },
   {
    "duration": 27,
    "start_time": "2023-04-13T16:40:53.105Z"
   },
   {
    "duration": 31,
    "start_time": "2023-04-13T16:41:06.702Z"
   },
   {
    "duration": 1721,
    "start_time": "2023-04-13T16:41:13.242Z"
   },
   {
    "duration": 896,
    "start_time": "2023-04-13T16:41:14.965Z"
   },
   {
    "duration": 119,
    "start_time": "2023-04-13T16:41:15.863Z"
   },
   {
    "duration": 88,
    "start_time": "2023-04-13T16:41:15.984Z"
   },
   {
    "duration": 117,
    "start_time": "2023-04-13T16:41:16.074Z"
   },
   {
    "duration": 24,
    "start_time": "2023-04-13T16:41:16.193Z"
   },
   {
    "duration": 6,
    "start_time": "2023-04-13T16:41:16.219Z"
   },
   {
    "duration": 48,
    "start_time": "2023-04-13T16:41:16.227Z"
   },
   {
    "duration": 7,
    "start_time": "2023-04-13T16:41:16.278Z"
   },
   {
    "duration": 1871,
    "start_time": "2023-04-13T16:41:16.288Z"
   },
   {
    "duration": 850,
    "start_time": "2023-04-13T16:41:18.161Z"
   },
   {
    "duration": 38,
    "start_time": "2023-04-13T16:41:19.015Z"
   },
   {
    "duration": 613,
    "start_time": "2023-04-13T16:41:19.057Z"
   },
   {
    "duration": 27,
    "start_time": "2023-04-13T16:41:19.673Z"
   },
   {
    "duration": 551,
    "start_time": "2023-04-13T16:41:19.711Z"
   },
   {
    "duration": 4,
    "start_time": "2023-04-13T16:41:20.264Z"
   },
   {
    "duration": 20,
    "start_time": "2023-04-13T16:41:20.270Z"
   },
   {
    "duration": 3292,
    "start_time": "2023-04-13T16:41:20.292Z"
   },
   {
    "duration": 0,
    "start_time": "2023-04-13T16:41:23.587Z"
   },
   {
    "duration": 0,
    "start_time": "2023-04-13T16:41:23.588Z"
   },
   {
    "duration": 0,
    "start_time": "2023-04-13T16:41:23.589Z"
   },
   {
    "duration": 0,
    "start_time": "2023-04-13T16:41:23.590Z"
   },
   {
    "duration": 1882,
    "start_time": "2023-04-13T16:42:36.808Z"
   },
   {
    "duration": 1085,
    "start_time": "2023-04-13T16:42:38.693Z"
   },
   {
    "duration": 105,
    "start_time": "2023-04-13T16:42:39.780Z"
   },
   {
    "duration": 101,
    "start_time": "2023-04-13T16:42:39.887Z"
   },
   {
    "duration": 128,
    "start_time": "2023-04-13T16:42:39.990Z"
   },
   {
    "duration": 12,
    "start_time": "2023-04-13T16:42:40.120Z"
   },
   {
    "duration": 6,
    "start_time": "2023-04-13T16:42:40.135Z"
   },
   {
    "duration": 51,
    "start_time": "2023-04-13T16:42:40.143Z"
   },
   {
    "duration": 25,
    "start_time": "2023-04-13T16:42:40.196Z"
   },
   {
    "duration": 1926,
    "start_time": "2023-04-13T16:42:40.224Z"
   },
   {
    "duration": 995,
    "start_time": "2023-04-13T16:42:42.154Z"
   },
   {
    "duration": 38,
    "start_time": "2023-04-13T16:42:43.152Z"
   },
   {
    "duration": 611,
    "start_time": "2023-04-13T16:42:43.192Z"
   },
   {
    "duration": 1003,
    "start_time": "2023-04-13T16:42:43.807Z"
   },
   {
    "duration": 510,
    "start_time": "2023-04-13T16:42:44.812Z"
   },
   {
    "duration": 11,
    "start_time": "2023-04-13T16:42:45.325Z"
   },
   {
    "duration": 4,
    "start_time": "2023-04-13T16:42:45.355Z"
   },
   {
    "duration": 5823,
    "start_time": "2023-04-13T16:42:45.360Z"
   },
   {
    "duration": 3282,
    "start_time": "2023-04-13T16:42:51.188Z"
   },
   {
    "duration": 0,
    "start_time": "2023-04-13T16:42:54.472Z"
   },
   {
    "duration": 0,
    "start_time": "2023-04-13T16:42:54.474Z"
   },
   {
    "duration": 0,
    "start_time": "2023-04-13T16:42:54.476Z"
   },
   {
    "duration": 716,
    "start_time": "2023-04-13T16:44:01.242Z"
   },
   {
    "duration": 36,
    "start_time": "2023-04-13T16:56:20.850Z"
   },
   {
    "duration": 1492,
    "start_time": "2023-04-13T16:56:21.980Z"
   },
   {
    "duration": 618,
    "start_time": "2023-04-13T16:59:46.782Z"
   },
   {
    "duration": 5161,
    "start_time": "2023-04-13T17:05:09.011Z"
   },
   {
    "duration": 7,
    "start_time": "2023-04-13T17:06:28.827Z"
   },
   {
    "duration": 482,
    "start_time": "2023-04-13T17:06:32.596Z"
   },
   {
    "duration": 5,
    "start_time": "2023-04-13T17:06:34.999Z"
   },
   {
    "duration": 7,
    "start_time": "2023-04-13T17:06:37.456Z"
   },
   {
    "duration": 6221,
    "start_time": "2023-04-13T17:07:11.462Z"
   },
   {
    "duration": 4437,
    "start_time": "2023-04-13T17:07:36.930Z"
   },
   {
    "duration": 5,
    "start_time": "2023-04-13T17:08:33.181Z"
   },
   {
    "duration": 4,
    "start_time": "2023-04-13T17:08:35.326Z"
   },
   {
    "duration": 4261,
    "start_time": "2023-04-13T17:08:36.406Z"
   },
   {
    "duration": 4568,
    "start_time": "2023-04-13T17:08:59.455Z"
   },
   {
    "duration": 32747,
    "start_time": "2023-04-13T17:10:00.446Z"
   },
   {
    "duration": 750223,
    "start_time": "2023-04-13T17:11:53.373Z"
   },
   {
    "duration": 1210,
    "start_time": "2023-04-13T17:25:50.169Z"
   },
   {
    "duration": 1577,
    "start_time": "2023-04-13T17:26:49.667Z"
   },
   {
    "duration": 9,
    "start_time": "2023-04-13T17:30:20.353Z"
   },
   {
    "duration": 12,
    "start_time": "2023-04-13T17:32:54.632Z"
   },
   {
    "duration": 14,
    "start_time": "2023-04-13T17:33:40.237Z"
   },
   {
    "duration": 9,
    "start_time": "2023-04-13T17:33:50.397Z"
   },
   {
    "duration": 5,
    "start_time": "2023-04-13T17:34:08.404Z"
   },
   {
    "duration": 8,
    "start_time": "2023-04-13T17:34:16.902Z"
   },
   {
    "duration": 2797,
    "start_time": "2023-04-13T17:37:24.482Z"
   },
   {
    "duration": 1622,
    "start_time": "2023-04-13T17:37:27.293Z"
   },
   {
    "duration": 310,
    "start_time": "2023-04-13T17:37:28.928Z"
   },
   {
    "duration": 221,
    "start_time": "2023-04-13T17:37:29.257Z"
   },
   {
    "duration": 278,
    "start_time": "2023-04-13T17:37:29.485Z"
   },
   {
    "duration": 33,
    "start_time": "2023-04-13T17:37:29.768Z"
   },
   {
    "duration": 15,
    "start_time": "2023-04-13T17:37:29.811Z"
   },
   {
    "duration": 124,
    "start_time": "2023-04-13T17:37:29.841Z"
   },
   {
    "duration": 18,
    "start_time": "2023-04-13T17:37:29.977Z"
   },
   {
    "duration": 3535,
    "start_time": "2023-04-13T17:37:30.012Z"
   },
   {
    "duration": 1158,
    "start_time": "2023-04-13T17:37:33.549Z"
   },
   {
    "duration": 68,
    "start_time": "2023-04-13T17:37:34.715Z"
   },
   {
    "duration": 1087,
    "start_time": "2023-04-13T17:37:34.796Z"
   },
   {
    "duration": 1022,
    "start_time": "2023-04-13T17:37:35.885Z"
   },
   {
    "duration": 884,
    "start_time": "2023-04-13T17:37:36.918Z"
   },
   {
    "duration": 579,
    "start_time": "2023-04-13T17:37:37.804Z"
   },
   {
    "duration": 14,
    "start_time": "2023-04-13T17:37:38.389Z"
   },
   {
    "duration": 30,
    "start_time": "2023-04-13T17:37:38.405Z"
   },
   {
    "duration": 21,
    "start_time": "2023-04-13T17:37:38.446Z"
   },
   {
    "duration": 26,
    "start_time": "2023-04-13T17:37:38.469Z"
   },
   {
    "duration": 6590,
    "start_time": "2023-04-13T17:37:38.497Z"
   },
   {
    "duration": 36732,
    "start_time": "2023-04-13T17:37:45.148Z"
   },
   {
    "duration": 920976,
    "start_time": "2023-04-13T17:38:21.887Z"
   },
   {
    "duration": 231,
    "start_time": "2023-04-13T17:53:42.865Z"
   },
   {
    "duration": 0,
    "start_time": "2023-04-13T17:53:43.110Z"
   },
   {
    "duration": 0,
    "start_time": "2023-04-13T17:53:43.111Z"
   },
   {
    "duration": 1987,
    "start_time": "2023-04-13T20:16:38.215Z"
   },
   {
    "duration": 3417,
    "start_time": "2023-04-13T20:16:40.205Z"
   },
   {
    "duration": 113,
    "start_time": "2023-04-13T20:16:43.624Z"
   },
   {
    "duration": 74,
    "start_time": "2023-04-13T20:16:43.743Z"
   },
   {
    "duration": 145,
    "start_time": "2023-04-13T20:16:43.819Z"
   },
   {
    "duration": 9,
    "start_time": "2023-04-13T20:16:43.967Z"
   },
   {
    "duration": 10,
    "start_time": "2023-04-13T20:16:43.978Z"
   },
   {
    "duration": 69,
    "start_time": "2023-04-13T20:16:43.990Z"
   },
   {
    "duration": 7,
    "start_time": "2023-04-13T20:16:44.061Z"
   },
   {
    "duration": 1620,
    "start_time": "2023-04-13T20:16:44.071Z"
   },
   {
    "duration": 861,
    "start_time": "2023-04-13T20:16:45.693Z"
   },
   {
    "duration": 34,
    "start_time": "2023-04-13T20:16:46.557Z"
   },
   {
    "duration": 560,
    "start_time": "2023-04-13T20:16:46.594Z"
   },
   {
    "duration": 763,
    "start_time": "2023-04-13T20:16:47.159Z"
   },
   {
    "duration": 561,
    "start_time": "2023-04-13T20:16:47.925Z"
   },
   {
    "duration": 360,
    "start_time": "2023-04-13T20:16:48.488Z"
   },
   {
    "duration": 7,
    "start_time": "2023-04-13T20:16:48.854Z"
   },
   {
    "duration": 17,
    "start_time": "2023-04-13T20:16:48.863Z"
   },
   {
    "duration": 36,
    "start_time": "2023-04-13T20:16:48.883Z"
   },
   {
    "duration": 11,
    "start_time": "2023-04-13T20:16:48.921Z"
   },
   {
    "duration": 4722,
    "start_time": "2023-04-13T20:16:48.935Z"
   },
   {
    "duration": 27810,
    "start_time": "2023-04-13T20:16:53.660Z"
   },
   {
    "duration": 145546,
    "start_time": "2023-04-13T20:17:21.472Z"
   },
   {
    "duration": 0,
    "start_time": "2023-04-13T20:19:47.021Z"
   },
   {
    "duration": 0,
    "start_time": "2023-04-13T20:19:47.022Z"
   },
   {
    "duration": 0,
    "start_time": "2023-04-13T20:19:47.023Z"
   },
   {
    "duration": 0,
    "start_time": "2023-04-13T20:19:47.025Z"
   },
   {
    "duration": 10,
    "start_time": "2023-04-13T20:19:51.279Z"
   },
   {
    "duration": 4,
    "start_time": "2023-04-13T20:20:06.098Z"
   },
   {
    "duration": 445,
    "start_time": "2023-04-13T20:24:58.629Z"
   },
   {
    "duration": 510,
    "start_time": "2023-04-13T20:25:51.601Z"
   },
   {
    "duration": 553,
    "start_time": "2023-04-13T20:26:05.864Z"
   },
   {
    "duration": 463,
    "start_time": "2023-04-13T20:26:31.838Z"
   },
   {
    "duration": 558,
    "start_time": "2023-04-13T20:27:15.656Z"
   },
   {
    "duration": 1081,
    "start_time": "2023-04-13T20:28:24.752Z"
   },
   {
    "duration": 1362,
    "start_time": "2023-04-13T20:28:59.104Z"
   },
   {
    "duration": 1463,
    "start_time": "2023-04-13T20:29:24.006Z"
   },
   {
    "duration": 1356,
    "start_time": "2023-04-13T20:29:42.764Z"
   },
   {
    "duration": 1366,
    "start_time": "2023-04-13T20:30:11.540Z"
   },
   {
    "duration": 1304,
    "start_time": "2023-04-13T20:30:55.851Z"
   },
   {
    "duration": 1119,
    "start_time": "2023-04-13T20:31:17.719Z"
   },
   {
    "duration": 1623,
    "start_time": "2023-04-13T20:31:50.453Z"
   },
   {
    "duration": 754,
    "start_time": "2023-04-13T20:31:52.079Z"
   },
   {
    "duration": 128,
    "start_time": "2023-04-13T20:31:52.836Z"
   },
   {
    "duration": 62,
    "start_time": "2023-04-13T20:31:52.966Z"
   },
   {
    "duration": 129,
    "start_time": "2023-04-13T20:31:53.030Z"
   },
   {
    "duration": 12,
    "start_time": "2023-04-13T20:31:53.161Z"
   },
   {
    "duration": 245,
    "start_time": "2023-04-13T20:31:53.175Z"
   },
   {
    "duration": 81,
    "start_time": "2023-04-13T20:31:53.422Z"
   },
   {
    "duration": 16,
    "start_time": "2023-04-13T20:31:53.505Z"
   },
   {
    "duration": 1580,
    "start_time": "2023-04-13T20:31:53.523Z"
   },
   {
    "duration": 666,
    "start_time": "2023-04-13T20:31:55.104Z"
   },
   {
    "duration": 25,
    "start_time": "2023-04-13T20:31:55.772Z"
   },
   {
    "duration": 548,
    "start_time": "2023-04-13T20:31:55.799Z"
   },
   {
    "duration": 718,
    "start_time": "2023-04-13T20:31:56.351Z"
   },
   {
    "duration": 692,
    "start_time": "2023-04-13T20:31:57.072Z"
   },
   {
    "duration": 924,
    "start_time": "2023-04-13T20:31:57.767Z"
   },
   {
    "duration": 4,
    "start_time": "2023-04-13T20:31:58.693Z"
   },
   {
    "duration": 10,
    "start_time": "2023-04-13T20:31:58.700Z"
   },
   {
    "duration": 35,
    "start_time": "2023-04-13T20:31:58.712Z"
   },
   {
    "duration": 15,
    "start_time": "2023-04-13T20:31:58.750Z"
   },
   {
    "duration": 2150,
    "start_time": "2023-04-13T20:31:58.767Z"
   },
   {
    "duration": 0,
    "start_time": "2023-04-13T20:32:00.919Z"
   },
   {
    "duration": 0,
    "start_time": "2023-04-13T20:32:00.921Z"
   },
   {
    "duration": 0,
    "start_time": "2023-04-13T20:32:00.922Z"
   },
   {
    "duration": 0,
    "start_time": "2023-04-13T20:32:00.923Z"
   },
   {
    "duration": 0,
    "start_time": "2023-04-13T20:32:00.924Z"
   },
   {
    "duration": 637,
    "start_time": "2023-04-13T20:32:53.781Z"
   },
   {
    "duration": 588,
    "start_time": "2023-04-13T20:33:13.582Z"
   },
   {
    "duration": 568,
    "start_time": "2023-04-13T20:33:23.856Z"
   },
   {
    "duration": 5,
    "start_time": "2023-04-13T20:33:34.421Z"
   },
   {
    "duration": 3,
    "start_time": "2023-04-13T20:33:37.295Z"
   },
   {
    "duration": 7668,
    "start_time": "2023-04-13T20:33:39.879Z"
   },
   {
    "duration": 1612,
    "start_time": "2023-04-13T20:34:21.570Z"
   },
   {
    "duration": 770,
    "start_time": "2023-04-13T20:34:23.185Z"
   },
   {
    "duration": 106,
    "start_time": "2023-04-13T20:34:23.957Z"
   },
   {
    "duration": 58,
    "start_time": "2023-04-13T20:34:24.065Z"
   },
   {
    "duration": 134,
    "start_time": "2023-04-13T20:34:24.124Z"
   },
   {
    "duration": 10,
    "start_time": "2023-04-13T20:34:24.260Z"
   },
   {
    "duration": 32,
    "start_time": "2023-04-13T20:34:24.272Z"
   },
   {
    "duration": 55,
    "start_time": "2023-04-13T20:34:24.306Z"
   },
   {
    "duration": 13,
    "start_time": "2023-04-13T20:34:24.363Z"
   },
   {
    "duration": 1631,
    "start_time": "2023-04-13T20:34:24.380Z"
   },
   {
    "duration": 709,
    "start_time": "2023-04-13T20:34:26.014Z"
   },
   {
    "duration": 41,
    "start_time": "2023-04-13T20:34:26.726Z"
   },
   {
    "duration": 488,
    "start_time": "2023-04-13T20:34:26.771Z"
   },
   {
    "duration": 714,
    "start_time": "2023-04-13T20:34:27.261Z"
   },
   {
    "duration": 510,
    "start_time": "2023-04-13T20:34:27.977Z"
   },
   {
    "duration": 456,
    "start_time": "2023-04-13T20:34:28.489Z"
   },
   {
    "duration": 0,
    "start_time": "2023-04-13T20:34:28.947Z"
   },
   {
    "duration": 0,
    "start_time": "2023-04-13T20:34:28.954Z"
   },
   {
    "duration": 0,
    "start_time": "2023-04-13T20:34:28.955Z"
   },
   {
    "duration": 0,
    "start_time": "2023-04-13T20:34:28.956Z"
   },
   {
    "duration": 0,
    "start_time": "2023-04-13T20:34:28.956Z"
   },
   {
    "duration": 0,
    "start_time": "2023-04-13T20:34:28.958Z"
   },
   {
    "duration": 0,
    "start_time": "2023-04-13T20:34:28.958Z"
   },
   {
    "duration": 0,
    "start_time": "2023-04-13T20:34:28.959Z"
   },
   {
    "duration": 657,
    "start_time": "2023-04-13T20:34:55.384Z"
   },
   {
    "duration": 610,
    "start_time": "2023-04-13T20:35:02.008Z"
   },
   {
    "duration": 1724,
    "start_time": "2023-04-13T20:35:12.709Z"
   },
   {
    "duration": 780,
    "start_time": "2023-04-13T20:35:14.435Z"
   },
   {
    "duration": 114,
    "start_time": "2023-04-13T20:35:15.217Z"
   },
   {
    "duration": 75,
    "start_time": "2023-04-13T20:35:15.333Z"
   },
   {
    "duration": 138,
    "start_time": "2023-04-13T20:35:15.411Z"
   },
   {
    "duration": 13,
    "start_time": "2023-04-13T20:35:15.551Z"
   },
   {
    "duration": 8,
    "start_time": "2023-04-13T20:35:15.566Z"
   },
   {
    "duration": 47,
    "start_time": "2023-04-13T20:35:15.576Z"
   },
   {
    "duration": 25,
    "start_time": "2023-04-13T20:35:15.626Z"
   },
   {
    "duration": 1701,
    "start_time": "2023-04-13T20:35:15.652Z"
   },
   {
    "duration": 729,
    "start_time": "2023-04-13T20:35:17.356Z"
   },
   {
    "duration": 28,
    "start_time": "2023-04-13T20:35:18.087Z"
   },
   {
    "duration": 510,
    "start_time": "2023-04-13T20:35:18.117Z"
   },
   {
    "duration": 722,
    "start_time": "2023-04-13T20:35:18.631Z"
   },
   {
    "duration": 517,
    "start_time": "2023-04-13T20:35:19.355Z"
   },
   {
    "duration": 353,
    "start_time": "2023-04-13T20:35:19.874Z"
   },
   {
    "duration": 5,
    "start_time": "2023-04-13T20:35:20.229Z"
   },
   {
    "duration": 24,
    "start_time": "2023-04-13T20:35:20.241Z"
   },
   {
    "duration": 5088,
    "start_time": "2023-04-13T20:35:20.268Z"
   },
   {
    "duration": 26438,
    "start_time": "2023-04-13T20:35:25.363Z"
   },
   {
    "duration": 687893,
    "start_time": "2023-04-13T20:35:51.803Z"
   },
   {
    "duration": 151,
    "start_time": "2023-04-13T20:47:19.698Z"
   },
   {
    "duration": 0,
    "start_time": "2023-04-13T20:47:19.851Z"
   },
   {
    "duration": 0,
    "start_time": "2023-04-13T20:47:19.852Z"
   },
   {
    "duration": 489,
    "start_time": "2023-04-13T20:48:19.968Z"
   },
   {
    "duration": 140,
    "start_time": "2023-04-13T20:50:01.133Z"
   },
   {
    "duration": 179,
    "start_time": "2023-04-13T20:50:14.565Z"
   },
   {
    "duration": 5,
    "start_time": "2023-04-13T20:51:12.064Z"
   },
   {
    "duration": 594,
    "start_time": "2023-04-13T20:52:37.132Z"
   },
   {
    "duration": 5,
    "start_time": "2023-04-13T20:52:42.131Z"
   },
   {
    "duration": 552,
    "start_time": "2023-04-13T20:53:28.906Z"
   },
   {
    "duration": 4,
    "start_time": "2023-04-13T20:53:32.819Z"
   },
   {
    "duration": 1592,
    "start_time": "2023-04-13T20:53:42.398Z"
   },
   {
    "duration": 809,
    "start_time": "2023-04-13T20:53:43.992Z"
   },
   {
    "duration": 116,
    "start_time": "2023-04-13T20:53:44.804Z"
   },
   {
    "duration": 93,
    "start_time": "2023-04-13T20:53:44.923Z"
   },
   {
    "duration": 126,
    "start_time": "2023-04-13T20:53:45.019Z"
   },
   {
    "duration": 19,
    "start_time": "2023-04-13T20:53:45.148Z"
   },
   {
    "duration": 10,
    "start_time": "2023-04-13T20:53:45.169Z"
   },
   {
    "duration": 77,
    "start_time": "2023-04-13T20:53:45.181Z"
   },
   {
    "duration": 9,
    "start_time": "2023-04-13T20:53:45.264Z"
   },
   {
    "duration": 1778,
    "start_time": "2023-04-13T20:53:45.277Z"
   },
   {
    "duration": 693,
    "start_time": "2023-04-13T20:53:47.061Z"
   },
   {
    "duration": 32,
    "start_time": "2023-04-13T20:53:47.760Z"
   },
   {
    "duration": 522,
    "start_time": "2023-04-13T20:53:47.794Z"
   },
   {
    "duration": 738,
    "start_time": "2023-04-13T20:53:48.319Z"
   },
   {
    "duration": 539,
    "start_time": "2023-04-13T20:53:49.059Z"
   },
   {
    "duration": 349,
    "start_time": "2023-04-13T20:53:49.600Z"
   },
   {
    "duration": 4,
    "start_time": "2023-04-13T20:53:49.951Z"
   },
   {
    "duration": 14,
    "start_time": "2023-04-13T20:53:49.959Z"
   },
   {
    "duration": 778,
    "start_time": "2023-04-13T20:53:49.975Z"
   },
   {
    "duration": 0,
    "start_time": "2023-04-13T20:53:50.757Z"
   },
   {
    "duration": 0,
    "start_time": "2023-04-13T20:53:50.758Z"
   },
   {
    "duration": 0,
    "start_time": "2023-04-13T20:53:50.759Z"
   },
   {
    "duration": 0,
    "start_time": "2023-04-13T20:53:50.760Z"
   },
   {
    "duration": 0,
    "start_time": "2023-04-13T20:53:50.762Z"
   },
   {
    "duration": 4,
    "start_time": "2023-04-13T20:53:59.476Z"
   },
   {
    "duration": 77,
    "start_time": "2023-04-13T20:54:21.414Z"
   },
   {
    "duration": 24,
    "start_time": "2023-04-13T20:54:27.762Z"
   },
   {
    "duration": 4,
    "start_time": "2023-04-13T20:55:10.382Z"
   },
   {
    "duration": 1709,
    "start_time": "2023-04-13T20:55:15.670Z"
   },
   {
    "duration": 796,
    "start_time": "2023-04-13T20:55:17.382Z"
   },
   {
    "duration": 105,
    "start_time": "2023-04-13T20:55:18.180Z"
   },
   {
    "duration": 86,
    "start_time": "2023-04-13T20:55:18.287Z"
   },
   {
    "duration": 111,
    "start_time": "2023-04-13T20:55:18.377Z"
   },
   {
    "duration": 9,
    "start_time": "2023-04-13T20:55:18.489Z"
   },
   {
    "duration": 11,
    "start_time": "2023-04-13T20:55:18.500Z"
   },
   {
    "duration": 61,
    "start_time": "2023-04-13T20:55:18.513Z"
   },
   {
    "duration": 7,
    "start_time": "2023-04-13T20:55:18.576Z"
   },
   {
    "duration": 1594,
    "start_time": "2023-04-13T20:55:18.585Z"
   },
   {
    "duration": 703,
    "start_time": "2023-04-13T20:55:20.182Z"
   },
   {
    "duration": 28,
    "start_time": "2023-04-13T20:55:20.886Z"
   },
   {
    "duration": 511,
    "start_time": "2023-04-13T20:55:20.916Z"
   },
   {
    "duration": 726,
    "start_time": "2023-04-13T20:55:21.431Z"
   },
   {
    "duration": 538,
    "start_time": "2023-04-13T20:55:22.163Z"
   },
   {
    "duration": 3,
    "start_time": "2023-04-13T20:55:22.704Z"
   },
   {
    "duration": 350,
    "start_time": "2023-04-13T20:55:22.708Z"
   },
   {
    "duration": 19,
    "start_time": "2023-04-13T20:55:23.061Z"
   },
   {
    "duration": 5,
    "start_time": "2023-04-13T20:55:23.082Z"
   },
   {
    "duration": 37,
    "start_time": "2023-04-13T20:55:23.089Z"
   },
   {
    "duration": 470,
    "start_time": "2023-04-13T20:55:23.128Z"
   },
   {
    "duration": 0,
    "start_time": "2023-04-13T20:55:23.600Z"
   },
   {
    "duration": 0,
    "start_time": "2023-04-13T20:55:23.601Z"
   },
   {
    "duration": 0,
    "start_time": "2023-04-13T20:55:23.603Z"
   },
   {
    "duration": 0,
    "start_time": "2023-04-13T20:55:23.604Z"
   },
   {
    "duration": 0,
    "start_time": "2023-04-13T20:55:23.605Z"
   },
   {
    "duration": 6,
    "start_time": "2023-04-13T20:56:49.785Z"
   },
   {
    "duration": 80,
    "start_time": "2023-04-13T20:58:37.281Z"
   },
   {
    "duration": 21,
    "start_time": "2023-04-13T20:59:09.133Z"
   },
   {
    "duration": 594,
    "start_time": "2023-04-13T21:00:14.459Z"
   },
   {
    "duration": 18,
    "start_time": "2023-04-13T21:00:18.164Z"
   },
   {
    "duration": 566,
    "start_time": "2023-04-13T21:01:24.211Z"
   },
   {
    "duration": 14,
    "start_time": "2023-04-13T21:01:26.516Z"
   },
   {
    "duration": 3,
    "start_time": "2023-04-13T21:05:49.715Z"
   },
   {
    "duration": 16,
    "start_time": "2023-04-13T21:05:56.835Z"
   },
   {
    "duration": 5,
    "start_time": "2023-04-13T21:06:02.092Z"
   },
   {
    "duration": 3,
    "start_time": "2023-04-13T21:06:04.065Z"
   },
   {
    "duration": 1884,
    "start_time": "2023-04-14T16:53:46.934Z"
   },
   {
    "duration": 3373,
    "start_time": "2023-04-14T16:53:48.821Z"
   },
   {
    "duration": 104,
    "start_time": "2023-04-14T16:53:52.196Z"
   },
   {
    "duration": 82,
    "start_time": "2023-04-14T16:53:52.303Z"
   },
   {
    "duration": 107,
    "start_time": "2023-04-14T16:53:52.387Z"
   },
   {
    "duration": 9,
    "start_time": "2023-04-14T16:53:52.496Z"
   },
   {
    "duration": 42,
    "start_time": "2023-04-14T16:53:52.507Z"
   },
   {
    "duration": 62,
    "start_time": "2023-04-14T16:53:52.554Z"
   },
   {
    "duration": 6,
    "start_time": "2023-04-14T16:53:52.618Z"
   },
   {
    "duration": 1664,
    "start_time": "2023-04-14T16:53:52.628Z"
   },
   {
    "duration": 686,
    "start_time": "2023-04-14T16:53:54.294Z"
   },
   {
    "duration": 25,
    "start_time": "2023-04-14T16:53:54.982Z"
   },
   {
    "duration": 518,
    "start_time": "2023-04-14T16:53:55.009Z"
   },
   {
    "duration": 788,
    "start_time": "2023-04-14T16:53:55.529Z"
   },
   {
    "duration": 565,
    "start_time": "2023-04-14T16:53:56.319Z"
   },
   {
    "duration": 3,
    "start_time": "2023-04-14T16:53:56.886Z"
   },
   {
    "duration": 23,
    "start_time": "2023-04-14T16:53:56.891Z"
   },
   {
    "duration": 20,
    "start_time": "2023-04-14T16:53:56.916Z"
   },
   {
    "duration": 18,
    "start_time": "2023-04-14T16:53:56.938Z"
   },
   {
    "duration": 3592,
    "start_time": "2023-04-14T16:53:56.958Z"
   },
   {
    "duration": 26831,
    "start_time": "2023-04-14T16:54:00.553Z"
   },
   {
    "duration": 680367,
    "start_time": "2023-04-14T16:54:27.386Z"
   },
   {
    "duration": 134,
    "start_time": "2023-04-14T17:05:47.755Z"
   },
   {
    "duration": 0,
    "start_time": "2023-04-14T17:05:47.891Z"
   },
   {
    "duration": 0,
    "start_time": "2023-04-14T17:05:47.894Z"
   },
   {
    "duration": 16,
    "start_time": "2023-04-14T17:47:18.301Z"
   },
   {
    "duration": 18,
    "start_time": "2023-04-14T17:48:03.799Z"
   },
   {
    "duration": 15,
    "start_time": "2023-04-14T17:52:13.797Z"
   },
   {
    "duration": 26,
    "start_time": "2023-04-14T17:52:28.911Z"
   },
   {
    "duration": 330,
    "start_time": "2023-04-14T17:55:20.940Z"
   },
   {
    "duration": 520,
    "start_time": "2023-04-14T18:04:44.633Z"
   },
   {
    "duration": 304,
    "start_time": "2023-04-14T18:04:52.749Z"
   },
   {
    "duration": 273,
    "start_time": "2023-04-14T18:05:03.022Z"
   },
   {
    "duration": 368,
    "start_time": "2023-04-14T18:05:07.504Z"
   },
   {
    "duration": 310,
    "start_time": "2023-04-14T18:05:39.891Z"
   },
   {
    "duration": 307,
    "start_time": "2023-04-14T18:07:15.424Z"
   },
   {
    "duration": 465,
    "start_time": "2023-04-14T18:07:34.409Z"
   },
   {
    "duration": 525,
    "start_time": "2023-04-14T18:07:41.711Z"
   },
   {
    "duration": 473,
    "start_time": "2023-04-14T18:07:49.715Z"
   },
   {
    "duration": 1695,
    "start_time": "2023-04-14T18:08:17.366Z"
   },
   {
    "duration": 812,
    "start_time": "2023-04-14T18:08:19.064Z"
   },
   {
    "duration": 104,
    "start_time": "2023-04-14T18:08:19.877Z"
   },
   {
    "duration": 77,
    "start_time": "2023-04-14T18:08:19.983Z"
   },
   {
    "duration": 108,
    "start_time": "2023-04-14T18:08:20.062Z"
   },
   {
    "duration": 10,
    "start_time": "2023-04-14T18:08:20.172Z"
   },
   {
    "duration": 15,
    "start_time": "2023-04-14T18:08:20.183Z"
   },
   {
    "duration": 57,
    "start_time": "2023-04-14T18:08:20.200Z"
   },
   {
    "duration": 7,
    "start_time": "2023-04-14T18:08:20.259Z"
   },
   {
    "duration": 1565,
    "start_time": "2023-04-14T18:08:20.268Z"
   },
   {
    "duration": 658,
    "start_time": "2023-04-14T18:08:21.842Z"
   },
   {
    "duration": 26,
    "start_time": "2023-04-14T18:08:22.502Z"
   },
   {
    "duration": 488,
    "start_time": "2023-04-14T18:08:22.540Z"
   },
   {
    "duration": 678,
    "start_time": "2023-04-14T18:08:23.031Z"
   },
   {
    "duration": 507,
    "start_time": "2023-04-14T18:08:23.710Z"
   },
   {
    "duration": 3,
    "start_time": "2023-04-14T18:08:24.219Z"
   },
   {
    "duration": 28,
    "start_time": "2023-04-14T18:08:24.224Z"
   },
   {
    "duration": 29,
    "start_time": "2023-04-14T18:08:24.254Z"
   },
   {
    "duration": 18,
    "start_time": "2023-04-14T18:08:24.285Z"
   },
   {
    "duration": 2846,
    "start_time": "2023-04-14T18:08:24.305Z"
   },
   {
    "duration": 1349,
    "start_time": "2023-04-14T18:08:27.243Z"
   },
   {
    "duration": 0,
    "start_time": "2023-04-14T18:08:28.594Z"
   },
   {
    "duration": 0,
    "start_time": "2023-04-14T18:08:28.596Z"
   },
   {
    "duration": 0,
    "start_time": "2023-04-14T18:08:28.597Z"
   },
   {
    "duration": 0,
    "start_time": "2023-04-14T18:08:28.598Z"
   },
   {
    "duration": 0,
    "start_time": "2023-04-14T18:08:28.600Z"
   },
   {
    "duration": 0,
    "start_time": "2023-04-14T18:08:28.601Z"
   },
   {
    "duration": 302,
    "start_time": "2023-04-14T18:08:37.317Z"
   },
   {
    "duration": 506,
    "start_time": "2023-04-14T18:09:09.004Z"
   },
   {
    "duration": 361,
    "start_time": "2023-04-14T18:09:25.831Z"
   },
   {
    "duration": 307,
    "start_time": "2023-04-14T18:10:28.821Z"
   },
   {
    "duration": 598,
    "start_time": "2023-04-14T18:10:56.127Z"
   },
   {
    "duration": 352,
    "start_time": "2023-04-14T18:11:25.831Z"
   },
   {
    "duration": 1658,
    "start_time": "2023-04-14T18:12:05.406Z"
   },
   {
    "duration": 779,
    "start_time": "2023-04-14T18:12:07.067Z"
   },
   {
    "duration": 110,
    "start_time": "2023-04-14T18:12:07.848Z"
   },
   {
    "duration": 61,
    "start_time": "2023-04-14T18:12:07.960Z"
   },
   {
    "duration": 98,
    "start_time": "2023-04-14T18:12:08.044Z"
   },
   {
    "duration": 10,
    "start_time": "2023-04-14T18:12:08.144Z"
   },
   {
    "duration": 9,
    "start_time": "2023-04-14T18:12:08.156Z"
   },
   {
    "duration": 65,
    "start_time": "2023-04-14T18:12:08.167Z"
   },
   {
    "duration": 7,
    "start_time": "2023-04-14T18:12:08.234Z"
   },
   {
    "duration": 1537,
    "start_time": "2023-04-14T18:12:08.243Z"
   },
   {
    "duration": 664,
    "start_time": "2023-04-14T18:12:09.782Z"
   },
   {
    "duration": 28,
    "start_time": "2023-04-14T18:12:10.448Z"
   },
   {
    "duration": 499,
    "start_time": "2023-04-14T18:12:10.479Z"
   },
   {
    "duration": 694,
    "start_time": "2023-04-14T18:12:10.982Z"
   },
   {
    "duration": 487,
    "start_time": "2023-04-14T18:12:11.679Z"
   },
   {
    "duration": 3,
    "start_time": "2023-04-14T18:12:12.168Z"
   },
   {
    "duration": 21,
    "start_time": "2023-04-14T18:12:12.173Z"
   },
   {
    "duration": 26,
    "start_time": "2023-04-14T18:12:12.196Z"
   },
   {
    "duration": 8,
    "start_time": "2023-04-14T18:12:12.224Z"
   },
   {
    "duration": 2913,
    "start_time": "2023-04-14T18:12:12.234Z"
   },
   {
    "duration": 2182,
    "start_time": "2023-04-14T18:12:15.150Z"
   },
   {
    "duration": 0,
    "start_time": "2023-04-14T18:12:17.334Z"
   },
   {
    "duration": 0,
    "start_time": "2023-04-14T18:12:17.341Z"
   },
   {
    "duration": 0,
    "start_time": "2023-04-14T18:12:17.342Z"
   },
   {
    "duration": 0,
    "start_time": "2023-04-14T18:12:17.343Z"
   },
   {
    "duration": 0,
    "start_time": "2023-04-14T18:12:17.344Z"
   },
   {
    "duration": 0,
    "start_time": "2023-04-14T18:12:17.346Z"
   },
   {
    "duration": 306,
    "start_time": "2023-04-14T18:12:28.651Z"
   },
   {
    "duration": 555,
    "start_time": "2023-04-14T18:13:44.212Z"
   },
   {
    "duration": 521,
    "start_time": "2023-04-14T18:13:57.181Z"
   },
   {
    "duration": 18,
    "start_time": "2023-04-14T18:14:19.202Z"
   },
   {
    "duration": 22,
    "start_time": "2023-04-14T18:15:00.659Z"
   },
   {
    "duration": 28,
    "start_time": "2023-04-14T18:16:11.474Z"
   },
   {
    "duration": 7,
    "start_time": "2023-04-14T18:16:29.350Z"
   },
   {
    "duration": 2622,
    "start_time": "2023-04-14T18:18:00.920Z"
   },
   {
    "duration": 10,
    "start_time": "2023-04-14T18:19:22.445Z"
   },
   {
    "duration": 5,
    "start_time": "2023-04-14T18:20:20.099Z"
   },
   {
    "duration": 2072,
    "start_time": "2023-04-14T18:20:27.473Z"
   },
   {
    "duration": 10,
    "start_time": "2023-04-14T18:20:32.673Z"
   },
   {
    "duration": 10,
    "start_time": "2023-04-14T18:20:34.442Z"
   },
   {
    "duration": 2064,
    "start_time": "2023-04-14T18:20:36.981Z"
   },
   {
    "duration": 6,
    "start_time": "2023-04-14T18:20:56.157Z"
   },
   {
    "duration": 1674,
    "start_time": "2023-04-14T18:21:04.756Z"
   },
   {
    "duration": 804,
    "start_time": "2023-04-14T18:21:06.432Z"
   },
   {
    "duration": 106,
    "start_time": "2023-04-14T18:21:07.239Z"
   },
   {
    "duration": 60,
    "start_time": "2023-04-14T18:21:07.347Z"
   },
   {
    "duration": 111,
    "start_time": "2023-04-14T18:21:07.410Z"
   },
   {
    "duration": 10,
    "start_time": "2023-04-14T18:21:07.540Z"
   },
   {
    "duration": 8,
    "start_time": "2023-04-14T18:21:07.552Z"
   },
   {
    "duration": 49,
    "start_time": "2023-04-14T18:21:07.561Z"
   },
   {
    "duration": 7,
    "start_time": "2023-04-14T18:21:07.612Z"
   },
   {
    "duration": 1520,
    "start_time": "2023-04-14T18:21:07.621Z"
   },
   {
    "duration": 657,
    "start_time": "2023-04-14T18:21:09.143Z"
   },
   {
    "duration": 26,
    "start_time": "2023-04-14T18:21:09.802Z"
   },
   {
    "duration": 480,
    "start_time": "2023-04-14T18:21:09.830Z"
   },
   {
    "duration": 713,
    "start_time": "2023-04-14T18:21:10.314Z"
   },
   {
    "duration": 503,
    "start_time": "2023-04-14T18:21:11.029Z"
   },
   {
    "duration": 8,
    "start_time": "2023-04-14T18:21:11.534Z"
   },
   {
    "duration": 14,
    "start_time": "2023-04-14T18:21:11.544Z"
   },
   {
    "duration": 7,
    "start_time": "2023-04-14T18:21:11.560Z"
   },
   {
    "duration": 20,
    "start_time": "2023-04-14T18:21:11.569Z"
   },
   {
    "duration": 2350,
    "start_time": "2023-04-14T18:21:11.592Z"
   },
   {
    "duration": 24905,
    "start_time": "2023-04-14T18:21:13.945Z"
   },
   {
    "duration": 59161,
    "start_time": "2023-04-14T18:21:38.852Z"
   },
   {
    "duration": 0,
    "start_time": "2023-04-14T18:22:38.015Z"
   },
   {
    "duration": 0,
    "start_time": "2023-04-14T18:22:38.016Z"
   },
   {
    "duration": 0,
    "start_time": "2023-04-14T18:22:38.017Z"
   },
   {
    "duration": 0,
    "start_time": "2023-04-14T18:22:38.018Z"
   },
   {
    "duration": 0,
    "start_time": "2023-04-14T18:22:38.021Z"
   },
   {
    "duration": 5,
    "start_time": "2023-04-14T18:22:41.968Z"
   },
   {
    "duration": 3,
    "start_time": "2023-04-14T18:22:45.695Z"
   },
   {
    "duration": 3079,
    "start_time": "2023-04-14T18:22:48.266Z"
   },
   {
    "duration": 24540,
    "start_time": "2023-04-14T18:22:53.109Z"
   },
   {
    "duration": 6,
    "start_time": "2023-04-14T18:23:56.062Z"
   },
   {
    "duration": 3,
    "start_time": "2023-04-14T18:23:57.700Z"
   },
   {
    "duration": 2846,
    "start_time": "2023-04-14T18:23:58.495Z"
   },
   {
    "duration": 24539,
    "start_time": "2023-04-14T18:24:02.159Z"
   },
   {
    "duration": 5,
    "start_time": "2023-04-14T18:25:54.373Z"
   },
   {
    "duration": 3,
    "start_time": "2023-04-14T18:25:57.289Z"
   },
   {
    "duration": 2768,
    "start_time": "2023-04-14T18:25:58.579Z"
   },
   {
    "duration": 1581,
    "start_time": "2023-04-14T18:26:06.856Z"
   },
   {
    "duration": 744,
    "start_time": "2023-04-14T18:26:08.441Z"
   },
   {
    "duration": 102,
    "start_time": "2023-04-14T18:26:09.187Z"
   },
   {
    "duration": 72,
    "start_time": "2023-04-14T18:26:09.291Z"
   },
   {
    "duration": 102,
    "start_time": "2023-04-14T18:26:09.366Z"
   },
   {
    "duration": 8,
    "start_time": "2023-04-14T18:26:09.470Z"
   },
   {
    "duration": 16,
    "start_time": "2023-04-14T18:26:09.480Z"
   },
   {
    "duration": 54,
    "start_time": "2023-04-14T18:26:09.498Z"
   },
   {
    "duration": 6,
    "start_time": "2023-04-14T18:26:09.554Z"
   },
   {
    "duration": 1517,
    "start_time": "2023-04-14T18:26:09.562Z"
   },
   {
    "duration": 693,
    "start_time": "2023-04-14T18:26:11.081Z"
   },
   {
    "duration": 26,
    "start_time": "2023-04-14T18:26:11.776Z"
   },
   {
    "duration": 476,
    "start_time": "2023-04-14T18:26:11.804Z"
   },
   {
    "duration": 664,
    "start_time": "2023-04-14T18:26:12.283Z"
   },
   {
    "duration": 548,
    "start_time": "2023-04-14T18:26:12.949Z"
   },
   {
    "duration": 4,
    "start_time": "2023-04-14T18:26:13.499Z"
   },
   {
    "duration": 20,
    "start_time": "2023-04-14T18:26:13.505Z"
   },
   {
    "duration": 23,
    "start_time": "2023-04-14T18:26:13.528Z"
   },
   {
    "duration": 14,
    "start_time": "2023-04-14T18:26:13.553Z"
   },
   {
    "duration": 3074,
    "start_time": "2023-04-14T18:26:13.569Z"
   },
   {
    "duration": 25537,
    "start_time": "2023-04-14T18:26:16.645Z"
   },
   {
    "duration": 39598,
    "start_time": "2023-04-14T18:26:42.184Z"
   },
   {
    "duration": 0,
    "start_time": "2023-04-14T18:27:21.785Z"
   },
   {
    "duration": 0,
    "start_time": "2023-04-14T18:27:21.787Z"
   },
   {
    "duration": 0,
    "start_time": "2023-04-14T18:27:21.788Z"
   },
   {
    "duration": 0,
    "start_time": "2023-04-14T18:27:21.789Z"
   },
   {
    "duration": 0,
    "start_time": "2023-04-14T18:27:21.791Z"
   },
   {
    "duration": 0,
    "start_time": "2023-04-14T18:27:21.792Z"
   },
   {
    "duration": 0,
    "start_time": "2023-04-14T18:27:21.794Z"
   },
   {
    "duration": 4,
    "start_time": "2023-04-14T18:27:25.452Z"
   },
   {
    "duration": 3,
    "start_time": "2023-04-14T18:27:26.319Z"
   },
   {
    "duration": 2758,
    "start_time": "2023-04-14T18:27:27.592Z"
   },
   {
    "duration": 25644,
    "start_time": "2023-04-14T18:27:32.054Z"
   },
   {
    "duration": 292,
    "start_time": "2023-04-14T18:28:10.751Z"
   },
   {
    "duration": 8,
    "start_time": "2023-04-14T18:28:11.352Z"
   },
   {
    "duration": 2534,
    "start_time": "2023-04-14T18:28:11.908Z"
   },
   {
    "duration": 11,
    "start_time": "2023-04-14T18:28:16.994Z"
   },
   {
    "duration": 75,
    "start_time": "2023-04-14T18:29:50.144Z"
   },
   {
    "duration": 1599,
    "start_time": "2023-04-15T20:48:48.482Z"
   },
   {
    "duration": 3216,
    "start_time": "2023-04-15T20:48:50.083Z"
   },
   {
    "duration": 70,
    "start_time": "2023-04-15T20:48:53.300Z"
   },
   {
    "duration": 46,
    "start_time": "2023-04-15T20:48:53.372Z"
   },
   {
    "duration": 86,
    "start_time": "2023-04-15T20:48:53.420Z"
   },
   {
    "duration": 8,
    "start_time": "2023-04-15T20:48:53.508Z"
   },
   {
    "duration": 5,
    "start_time": "2023-04-15T20:48:53.517Z"
   },
   {
    "duration": 57,
    "start_time": "2023-04-15T20:48:53.524Z"
   },
   {
    "duration": 7,
    "start_time": "2023-04-15T20:48:53.589Z"
   },
   {
    "duration": 1127,
    "start_time": "2023-04-15T20:48:53.598Z"
   },
   {
    "duration": 506,
    "start_time": "2023-04-15T20:48:54.726Z"
   },
   {
    "duration": 23,
    "start_time": "2023-04-15T20:48:55.233Z"
   },
   {
    "duration": 371,
    "start_time": "2023-04-15T20:48:55.257Z"
   },
   {
    "duration": 525,
    "start_time": "2023-04-15T20:48:55.630Z"
   },
   {
    "duration": 398,
    "start_time": "2023-04-15T20:48:56.157Z"
   },
   {
    "duration": 6,
    "start_time": "2023-04-15T20:48:56.556Z"
   },
   {
    "duration": 21,
    "start_time": "2023-04-15T20:48:56.564Z"
   },
   {
    "duration": 8,
    "start_time": "2023-04-15T20:48:56.587Z"
   },
   {
    "duration": 9,
    "start_time": "2023-04-15T20:48:56.596Z"
   },
   {
    "duration": 5585,
    "start_time": "2023-04-15T20:48:56.606Z"
   },
   {
    "duration": 25901,
    "start_time": "2023-04-15T20:49:02.193Z"
   },
   {
    "duration": 8416,
    "start_time": "2023-04-15T20:49:28.096Z"
   },
   {
    "duration": 0,
    "start_time": "2023-04-15T20:49:36.514Z"
   },
   {
    "duration": 0,
    "start_time": "2023-04-15T20:49:36.515Z"
   },
   {
    "duration": 0,
    "start_time": "2023-04-15T20:49:36.516Z"
   },
   {
    "duration": 0,
    "start_time": "2023-04-15T20:49:36.518Z"
   },
   {
    "duration": 247,
    "start_time": "2023-04-15T20:49:39.538Z"
   },
   {
    "duration": 7,
    "start_time": "2023-04-15T20:49:40.347Z"
   },
   {
    "duration": 433,
    "start_time": "2023-04-15T20:49:41.264Z"
   },
   {
    "duration": 3,
    "start_time": "2023-04-15T20:51:01.517Z"
   },
   {
    "duration": 22,
    "start_time": "2023-04-15T20:51:59.324Z"
   },
   {
    "duration": 1358,
    "start_time": "2023-04-15T20:55:41.250Z"
   },
   {
    "duration": 741,
    "start_time": "2023-04-15T20:55:42.610Z"
   },
   {
    "duration": 85,
    "start_time": "2023-04-15T20:55:43.353Z"
   },
   {
    "duration": 68,
    "start_time": "2023-04-15T20:55:43.439Z"
   },
   {
    "duration": 81,
    "start_time": "2023-04-15T20:55:43.509Z"
   },
   {
    "duration": 9,
    "start_time": "2023-04-15T20:55:43.592Z"
   },
   {
    "duration": 5,
    "start_time": "2023-04-15T20:55:43.611Z"
   },
   {
    "duration": 26,
    "start_time": "2023-04-15T20:55:43.617Z"
   },
   {
    "duration": 6,
    "start_time": "2023-04-15T20:55:43.645Z"
   },
   {
    "duration": 1217,
    "start_time": "2023-04-15T20:55:43.653Z"
   },
   {
    "duration": 587,
    "start_time": "2023-04-15T20:55:44.871Z"
   },
   {
    "duration": 32,
    "start_time": "2023-04-15T20:55:45.460Z"
   },
   {
    "duration": 412,
    "start_time": "2023-04-15T20:55:45.493Z"
   },
   {
    "duration": 561,
    "start_time": "2023-04-15T20:55:45.908Z"
   },
   {
    "duration": 449,
    "start_time": "2023-04-15T20:55:46.484Z"
   },
   {
    "duration": 282,
    "start_time": "2023-04-15T20:55:46.935Z"
   },
   {
    "duration": 6,
    "start_time": "2023-04-15T20:55:47.218Z"
   },
   {
    "duration": 8,
    "start_time": "2023-04-15T20:55:47.225Z"
   },
   {
    "duration": 7,
    "start_time": "2023-04-15T20:55:47.234Z"
   },
   {
    "duration": 3,
    "start_time": "2023-04-15T20:55:47.243Z"
   },
   {
    "duration": 8,
    "start_time": "2023-04-15T20:55:47.247Z"
   },
   {
    "duration": 5361,
    "start_time": "2023-04-15T20:55:47.256Z"
   },
   {
    "duration": 0,
    "start_time": "2023-04-15T20:55:52.619Z"
   },
   {
    "duration": 0,
    "start_time": "2023-04-15T20:55:52.621Z"
   },
   {
    "duration": 0,
    "start_time": "2023-04-15T20:55:52.622Z"
   },
   {
    "duration": 0,
    "start_time": "2023-04-15T20:55:52.624Z"
   },
   {
    "duration": 0,
    "start_time": "2023-04-15T20:55:52.625Z"
   },
   {
    "duration": 27,
    "start_time": "2023-04-15T20:56:00.399Z"
   },
   {
    "duration": 2620,
    "start_time": "2023-04-15T20:56:08.761Z"
   },
   {
    "duration": 987,
    "start_time": "2023-04-15T20:56:22.500Z"
   },
   {
    "duration": 1985,
    "start_time": "2023-04-15T20:57:22.100Z"
   },
   {
    "duration": 8,
    "start_time": "2023-04-15T20:57:30.026Z"
   },
   {
    "duration": 803,
    "start_time": "2023-04-15T20:57:53.375Z"
   },
   {
    "duration": 7,
    "start_time": "2023-04-15T20:57:56.635Z"
   },
   {
    "duration": 1660,
    "start_time": "2023-04-15T20:58:09.741Z"
   },
   {
    "duration": 803,
    "start_time": "2023-04-15T20:58:11.407Z"
   },
   {
    "duration": 102,
    "start_time": "2023-04-15T20:58:12.213Z"
   },
   {
    "duration": 65,
    "start_time": "2023-04-15T20:58:12.317Z"
   },
   {
    "duration": 129,
    "start_time": "2023-04-15T20:58:12.384Z"
   },
   {
    "duration": 7,
    "start_time": "2023-04-15T20:58:12.515Z"
   },
   {
    "duration": 14,
    "start_time": "2023-04-15T20:58:12.525Z"
   },
   {
    "duration": 52,
    "start_time": "2023-04-15T20:58:12.541Z"
   },
   {
    "duration": 14,
    "start_time": "2023-04-15T20:58:12.606Z"
   },
   {
    "duration": 1440,
    "start_time": "2023-04-15T20:58:12.623Z"
   },
   {
    "duration": 614,
    "start_time": "2023-04-15T20:58:14.065Z"
   },
   {
    "duration": 22,
    "start_time": "2023-04-15T20:58:14.684Z"
   },
   {
    "duration": 440,
    "start_time": "2023-04-15T20:58:14.707Z"
   },
   {
    "duration": 602,
    "start_time": "2023-04-15T20:58:15.149Z"
   },
   {
    "duration": 618,
    "start_time": "2023-04-15T20:58:15.754Z"
   },
   {
    "duration": 317,
    "start_time": "2023-04-15T20:58:16.374Z"
   },
   {
    "duration": 13,
    "start_time": "2023-04-15T20:58:16.696Z"
   },
   {
    "duration": 13,
    "start_time": "2023-04-15T20:58:16.714Z"
   },
   {
    "duration": 11,
    "start_time": "2023-04-15T20:58:16.729Z"
   },
   {
    "duration": 10,
    "start_time": "2023-04-15T20:58:16.742Z"
   },
   {
    "duration": 7,
    "start_time": "2023-04-15T20:58:16.754Z"
   },
   {
    "duration": 10348,
    "start_time": "2023-04-15T20:58:16.763Z"
   },
   {
    "duration": 29255,
    "start_time": "2023-04-15T20:58:27.114Z"
   },
   {
    "duration": 793417,
    "start_time": "2023-04-15T20:58:56.372Z"
   },
   {
    "duration": 1620,
    "start_time": "2023-04-15T21:12:09.793Z"
   },
   {
    "duration": 86,
    "start_time": "2023-04-15T21:12:11.415Z"
   }
  ],
  "kernelspec": {
   "display_name": "Python 3 (ipykernel)",
   "language": "python",
   "name": "python3"
  },
  "language_info": {
   "codemirror_mode": {
    "name": "ipython",
    "version": 3
   },
   "file_extension": ".py",
   "mimetype": "text/x-python",
   "name": "python",
   "nbconvert_exporter": "python",
   "pygments_lexer": "ipython3",
   "version": "3.9.13"
  },
  "toc": {
   "base_numbering": 1,
   "nav_menu": {},
   "number_sections": true,
   "sideBar": true,
   "skip_h1_title": true,
   "title_cell": "Содержание",
   "title_sidebar": "Contents",
   "toc_cell": true,
   "toc_position": {
    "height": "calc(100% - 180px)",
    "left": "10px",
    "top": "150px",
    "width": "165px"
   },
   "toc_section_display": true,
   "toc_window_display": true
  }
 },
 "nbformat": 4,
 "nbformat_minor": 2
}
